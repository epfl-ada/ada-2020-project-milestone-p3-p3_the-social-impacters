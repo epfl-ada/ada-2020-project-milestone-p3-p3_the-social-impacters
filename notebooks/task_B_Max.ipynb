{
 "cells": [
  {
   "cell_type": "code",
   "execution_count": 1,
   "metadata": {},
   "outputs": [],
   "source": [
    "import pandas as pd\n",
    "import numpy as np\n",
    "from matplotlib import pyplot as plt\n",
    "from collections import defaultdict \n",
    "import plotly\n",
    "import plotly.graph_objects as go\n",
    "from sklearn.preprocessing import StandardScaler, OneHotEncoder\n",
    "from sklearn.decomposition import PCA\n",
    "from sklearn.metrics import roc_curve, roc_auc_score\n",
    "import re\n",
    "import seaborn as sns"
   ]
  },
  {
   "cell_type": "markdown",
   "metadata": {},
   "source": [
    "## Helper functions"
   ]
  },
  {
   "cell_type": "code",
   "execution_count": 2,
   "metadata": {},
   "outputs": [],
   "source": [
    "def standardize(X_train, X_test):\n",
    "    \"\"\"Standardize the columns of X_train and X_test w.r.t. means and stds from X_train. \"\"\"\n",
    "    if ~(X_train.columns == X_test.columns).all():\n",
    "        raise ValueError(\"X_train and X_test should have the columns in the same order.\")\n",
    "    colnames = X_train.columns\n",
    "    sc = StandardScaler()\n",
    "    # Standardize train and test sets (it produces numpy arrays)\n",
    "    X_train_scaled = sc.fit_transform(X_train)\n",
    "    X_test_scaled = sc.transform(X_test)\n",
    "\n",
    "    # Add column names back to resulting numpy arrays\n",
    "    X_train_scaled = pd.DataFrame(X_train_scaled, columns=colnames)\n",
    "    X_test_scaled = pd.DataFrame(X_test_scaled, columns=colnames)\n",
    "    return X_train_scaled, X_test_scaled"
   ]
  },
  {
   "cell_type": "markdown",
   "metadata": {},
   "source": [
    "## Load the datasets"
   ]
  },
  {
   "cell_type": "code",
   "execution_count": 4,
   "metadata": {},
   "outputs": [],
   "source": [
    "df_hh = pd.read_stata('../../ada-2020-project-milestone-p2-stima83/Data/PisoFirme_AEJPol-20070024_household.dta')\n",
    "df_ind = pd.read_stata('../../ada-2020-project-milestone-p2-stima83/Data/114542-V1/PisoFirme_AEJPol-20070024_individual.dta')"
   ]
  },
  {
   "cell_type": "code",
   "execution_count": 5,
   "metadata": {},
   "outputs": [],
   "source": [
    "# We split the dataset into the census (2000) and the survey data (2005)\n",
    "df_hh = df_hh.dropna()\n",
    "index_census = df_hh.columns[df_hh.columns.str.startswith('C')]\n",
    "df_census = df_hh[index_census].copy()\n",
    "index_survey = df_hh.columns[df_hh.columns.str.startswith('S')]\n",
    "df_survey = df_hh[index_survey].copy()"
   ]
  },
  {
   "cell_type": "code",
   "execution_count": 6,
   "metadata": {},
   "outputs": [],
   "source": [
    "# Split into test and training set.\n",
    "train_split = 0.7\n",
    "train_samples = np.random.rand(df_hh.shape[0]) < train_split\n",
    "df_census_train = df_census.loc[train_samples]\n",
    "df_census_test = df_census.loc[~train_samples]\n",
    "df_survey_train = df_survey[train_samples]\n",
    "df_survey_test = df_survey[~train_samples]"
   ]
  },
  {
   "cell_type": "markdown",
   "metadata": {},
   "source": [
    "## Predict different survey targets\n",
    "We predict the different survey values from the census data from 2000. We create a data array of the results for the different models. We calculate and report the $R^2$ scores for the different targets of the survey data and the different models.\n",
    "We use the different models:\n",
    "- Linear models\n",
    "    - Linear regression\n",
    "    - Lasso\n",
    "    - Ridge regression\n",
    "    - Stochastic vector regressor\n",
    "- Non linear models\n",
    "    - DecisionTreeRegressor\n",
    "    - GradientBoostingRegressor\n",
    "    - MLPRegressor\n"
   ]
  },
  {
   "cell_type": "code",
   "execution_count": 7,
   "metadata": {},
   "outputs": [],
   "source": [
    "def generate_prediction_df(df_census_train, df_census_test, df_survey_train, df_survey_test, selected_models):\n",
    "    results = np.zeros((len(selected_models), len(df_survey_train.columns)))\n",
    "    for i, model in enumerate(selected_models):\n",
    "        for j, (column_name, column_data) in enumerate(df_survey_train.iteritems()):\n",
    "            model.fit(df_census_train, column_data)\n",
    "            results[i,j] = model.score(df_census_test, df_survey_test[column_name])\n",
    "    string_selected_models = [re.match(r'([a-zA-Z]+)\\(.+', str(model)).group(1) for model in selected_models]\n",
    "    return pd.DataFrame(results, columns=df_survey_train.columns, index=string_selected_models)\n",
    "\n",
    "def wrapper_generate_prediction_df(df_census, df_survey, selected_models, standardize_=True, train_split=0.7):\n",
    "    train_samples = np.random.rand(df_hh.shape[0]) < train_split\n",
    "    df_census_train = df_census.loc[train_samples]\n",
    "    df_census_test = df_census.loc[~train_samples]\n",
    "    df_survey_train = df_survey[train_samples]\n",
    "    df_survey_test = df_survey[~train_samples]\n",
    "    if standardize_:\n",
    "        df_census_train, df_census_test = standardize(df_census_train, df_census_test) \n",
    "    df_results = generate_prediction_df(df_census_train, df_census_test, df_survey_train, df_survey_test, selected_models)\n",
    "    return df_results"
   ]
  },
  {
   "cell_type": "code",
   "execution_count": 98,
   "metadata": {},
   "outputs": [],
   "source": [
    "from sklearn.linear_model import LinearRegression, Lasso, Ridge\n",
    "from sklearn.tree import DecisionTreeRegressor\n",
    "from sklearn.ensemble import GradientBoostingRegressor\n",
    "from sklearn.neural_network import MLPRegressor\n",
    "from sklearn.svm import SVR\n",
    "\n",
    "selected_models = [LinearRegression(), Ridge(), DecisionTreeRegressor(), GradientBoostingRegressor(), MLPRegressor(max_iter=2000, hidden_layer_sizes=(200,))]"
   ]
  },
  {
   "cell_type": "markdown",
   "metadata": {},
   "source": [
    "We calculate the $R^2$ score with a standardized data set and without any standardization. Different algorithms improve in performance when standardizing and others have in general no need for standardization like the Gradient Boosting Regressor."
   ]
  },
  {
   "cell_type": "code",
   "execution_count": 99,
   "metadata": {},
   "outputs": [
    {
     "data": {
      "application/vnd.plotly.v1+json": {
       "config": {
        "plotlyServerURL": "https://plot.ly"
       },
       "data": [
        {
         "coloraxis": "coloraxis",
         "hovertemplate": "x: %{x}<br>y: %{y}<br>color: %{z}<extra></extra>",
         "type": "heatmap",
         "x": [
          "S_HHpeople",
          "S_headage",
          "S_spouseage",
          "S_headeduc",
          "S_spouseeduc",
          "S_rooms",
          "S_waterland",
          "S_waterhouse",
          "S_electricity",
          "S_cementfloor2000",
          "S_hasanimals",
          "S_animalsinside",
          "S_garbage",
          "S_washhands",
          "S_incomepc",
          "S_assetspc",
          "S_shpeoplework",
          "S_microenter",
          "S_hrsworkedpc",
          "S_consumptionpc",
          "S_cashtransfers",
          "S_milkprogram",
          "S_foodprogram",
          "S_dem1",
          "S_dem2",
          "S_dem3",
          "S_dem4",
          "S_dem5",
          "S_dem6",
          "S_dem7",
          "S_dem8",
          "S_seguropopular",
          "S_shcementfloor",
          "S_cementfloorkit",
          "S_cementfloordin",
          "S_cementfloorbat",
          "S_cementfloorbed",
          "S_satisfloor",
          "S_satishouse",
          "S_satislife",
          "S_cesds",
          "S_pss",
          "S_instcement",
          "S_instsanita",
          "S_restsanita",
          "S_constceili",
          "S_restowalls",
          "S_improveany",
          "S_logrent",
          "S_logsell"
         ],
         "y": [
          "LinearRegression",
          "Ridge",
          "DecisionTreeRegressor",
          "GradientBoostingRegressor",
          "MLPRegressor"
         ],
         "z": [
          [
           -0.004248880571808833,
           0.0008995734681847001,
           0.006969818773944647,
           0.017074786504967077,
           -0.0015567747263418585,
           0.03115150816382306,
           -0.015120004455719371,
           0.04347342834879275,
           -0.07430400139430549,
           0.05568939408497786,
           0.009546736678897716,
           -0.002210130909698238,
           0.16722556009865286,
           0.011512644424940266,
           -0.010940732652352514,
           0.0034569117041890474,
           -0.0017189223327127579,
           -0.004418676021149981,
           -0.019605727888976965,
           -0.24207143148754628,
           -8.48843134655386e-05,
           0.01792792157956613,
           -0.010286192245867465,
           -0.011870190350397047,
           -0.019094803178862918,
           -0.017631939202259472,
           -5.113343422058492e-05,
           -0.04032861002114685,
           -0.024612709231887298,
           -0.04193674580058926,
           -0.03253603597865529,
           -0.011996451858556911,
           0.03882321663071597,
           0.04561445862922531,
           0.019045451422558757,
           0.028712297833392464,
           0.01769302892617175,
           -0.00936814850391654,
           -0.0032095219247527673,
           -0.013184932437638519,
           0.0013084788383419532,
           0.003955840928607124,
           0.043328022791650045,
           -0.023096422444802478,
           0.02150575767875884,
           -0.013576751726836145,
           -0.03558965696148553,
           0.01995008341312232,
           -0.0013331540698060529,
           0.017771362983604932
          ],
          [
           -0.0021947727145099627,
           -0.00040411068946744066,
           0.004157807929902613,
           0.015729418283676466,
           0.003362109471867769,
           0.027440211706812545,
           -0.005640920591272636,
           0.042712358000247974,
           -0.04958097127862393,
           0.06144432647100584,
           0.00848773615958398,
           -0.0005177163408225383,
           0.1672556999782745,
           0.009621318160995762,
           -0.006695152758499745,
           0.003658024522456782,
           0.0017648365252014298,
           0.00033626918526374894,
           -0.00831942508107808,
           -0.1544514849492955,
           -3.331949273310819e-05,
           0.026357723325253768,
           -0.002193021037923959,
           -0.010634831600430994,
           -0.011891421001472446,
           -0.01280852461928017,
           0.0029768026958417737,
           -0.03133724698432605,
           -0.02403624855923292,
           -0.03606155442773451,
           -0.021376393957802886,
           -0.0018585324088207233,
           0.040964051823711656,
           0.04233944403773282,
           0.019413427240807413,
           0.02296535850387804,
           0.022106169976835455,
           -0.008295387297348356,
           -0.0024096072923469603,
           -0.010536780550282954,
           0.004307963280034244,
           0.008193023775138975,
           0.037625510549407215,
           -0.013914416126671325,
           0.019427007325060197,
           -0.0055017389887670465,
           -0.024278175567496785,
           0.026807319276629493,
           -0.0024857382916918525,
           0.017037352280957485
          ],
          [
           -0.06624713221237699,
           -0.0695816734715653,
           0.0053319877531834425,
           -0.05893117863284747,
           -0.09041698176397328,
           -0.03684757651948822,
           -0.11926807860879984,
           0.034791798494272386,
           -0.14933090923097425,
           0.037289854976384595,
           -0.10692105949735908,
           -0.07029501264502236,
           0.2559035316958368,
           -0.035729667123729936,
           -0.029674895024430326,
           -0.016095058620665847,
           -0.060459678202333444,
           -0.02470469450456303,
           -0.07410832566562542,
           -0.5209041301740791,
           -0.012985141690573743,
           -0.16722103144026979,
           -0.08848220630721837,
           -0.11747389091375982,
           -0.07154773859722074,
           -0.09987923003622723,
           -0.12682690499876825,
           -0.1483683999690526,
           -0.07207372468369888,
           -0.19948052813290928,
           -0.12637560152814475,
           -0.04849084976855256,
           0.05854086041965045,
           0.0533978632858777,
           0.008066921242685932,
           -0.023663496794924965,
           0.007763761154521265,
           -0.04843750170972694,
           -0.04420581379425337,
           -0.061985130345106665,
           -0.02379263074329807,
           -0.049145370876469974,
           0.1059234138888091,
           -0.04879499168323842,
           0.001834171905736981,
           -0.008476206097250083,
           -0.05618616660878151,
           0.0554801926535331,
           -0.1246368982887085,
           0.00583031084952601
          ],
          [
           -0.037681264295586825,
           -0.05329447118049413,
           0.010407618489205128,
           -0.03676543087494344,
           -0.06249116629838092,
           -0.02337318162659252,
           -0.10863710437580254,
           0.05356877990914466,
           -0.1427141188090646,
           0.04508862764708654,
           -0.06703065188056101,
           -0.048742420064776804,
           0.25759079325299006,
           0.008841270202940676,
           -0.02724118231665673,
           0.0016578261507682601,
           -0.04902631855145101,
           -0.015412461123623933,
           -0.06627557066907608,
           -0.527339782534658,
           -0.009360874494207971,
           -0.1312190483096738,
           -0.07531517201085514,
           -0.0925114211871434,
           -0.053765200873632235,
           -0.07511607457847047,
           -0.09669862580619593,
           -0.1095728495962065,
           -0.052365302002935765,
           -0.16132166257279956,
           -0.09721748123056217,
           -0.04811132518334693,
           0.07231534591980404,
           0.0704211388841306,
           0.026045892316660546,
           -0.0014861707972959604,
           0.021114828158586896,
           -0.02786936320051092,
           -0.033370929794176885,
           -0.05281526897000455,
           -0.0026942764811785924,
           -0.023956613070787558,
           0.12146288186360477,
           -0.03828581518182417,
           0.01066375792174834,
           0.006170016691760205,
           -0.04194628277427337,
           0.055604204035888505,
           -0.09835295439075487,
           0.027521117132901618
          ],
          [
           -0.04532890701538905,
           -0.148144363697432,
           -0.11774949486932895,
           -0.14430465672336257,
           -0.053447553949618865,
           -0.051430337936408055,
           -0.37544748887575485,
           -0.07283758643935556,
           -0.964614687817883,
           0.025955412894973384,
           -0.3190852522514547,
           -0.19401023047105403,
           -0.6188615145573826,
           -0.10488255711738415,
           -0.0012058882061349863,
           -0.007466329165266572,
           -0.6611382328892923,
           -0.26667787485577565,
           -0.01750519991309507,
           -0.13988681454502383,
           -0.0141325358779949,
           -0.41945186585896077,
           -1.4603338072381553,
           -1.478332077001872,
           -0.9721027846208563,
           -1.734222883485975,
           -10.083783741650153,
           -0.4761553254211943,
           -2.665501994349547,
           -1.019542681838467,
           -2.5589482891700333,
           -1.6202343003752584,
           -0.9307076900026423,
           -0.0654650129936325,
           -0.10762114936730627,
           -0.2174987448510568,
           -0.09714860508742307,
           -0.2698467064331349,
           -0.12094970608441113,
           -0.1029557217018422,
           -0.037968631089444704,
           -0.09722980484589083,
           -0.39649604225100954,
           -0.17803974079915652,
           -2.8623998185591857,
           -0.05872802026549717,
           -0.03590663470178712,
           -0.1751519723616406,
           -0.628026193604122,
           -0.21168151966458404
          ]
         ]
        }
       ],
       "layout": {
        "coloraxis": {
         "colorscale": [
          [
           0,
           "#0d0887"
          ],
          [
           0.1111111111111111,
           "#46039f"
          ],
          [
           0.2222222222222222,
           "#7201a8"
          ],
          [
           0.3333333333333333,
           "#9c179e"
          ],
          [
           0.4444444444444444,
           "#bd3786"
          ],
          [
           0.5555555555555556,
           "#d8576b"
          ],
          [
           0.6666666666666666,
           "#ed7953"
          ],
          [
           0.7777777777777778,
           "#fb9f3a"
          ],
          [
           0.8888888888888888,
           "#fdca26"
          ],
          [
           1,
           "#f0f921"
          ]
         ]
        },
        "margin": {
         "t": 60
        },
        "template": {
         "data": {
          "bar": [
           {
            "error_x": {
             "color": "#2a3f5f"
            },
            "error_y": {
             "color": "#2a3f5f"
            },
            "marker": {
             "line": {
              "color": "#E5ECF6",
              "width": 0.5
             }
            },
            "type": "bar"
           }
          ],
          "barpolar": [
           {
            "marker": {
             "line": {
              "color": "#E5ECF6",
              "width": 0.5
             }
            },
            "type": "barpolar"
           }
          ],
          "carpet": [
           {
            "aaxis": {
             "endlinecolor": "#2a3f5f",
             "gridcolor": "white",
             "linecolor": "white",
             "minorgridcolor": "white",
             "startlinecolor": "#2a3f5f"
            },
            "baxis": {
             "endlinecolor": "#2a3f5f",
             "gridcolor": "white",
             "linecolor": "white",
             "minorgridcolor": "white",
             "startlinecolor": "#2a3f5f"
            },
            "type": "carpet"
           }
          ],
          "choropleth": [
           {
            "colorbar": {
             "outlinewidth": 0,
             "ticks": ""
            },
            "type": "choropleth"
           }
          ],
          "contour": [
           {
            "colorbar": {
             "outlinewidth": 0,
             "ticks": ""
            },
            "colorscale": [
             [
              0,
              "#0d0887"
             ],
             [
              0.1111111111111111,
              "#46039f"
             ],
             [
              0.2222222222222222,
              "#7201a8"
             ],
             [
              0.3333333333333333,
              "#9c179e"
             ],
             [
              0.4444444444444444,
              "#bd3786"
             ],
             [
              0.5555555555555556,
              "#d8576b"
             ],
             [
              0.6666666666666666,
              "#ed7953"
             ],
             [
              0.7777777777777778,
              "#fb9f3a"
             ],
             [
              0.8888888888888888,
              "#fdca26"
             ],
             [
              1,
              "#f0f921"
             ]
            ],
            "type": "contour"
           }
          ],
          "contourcarpet": [
           {
            "colorbar": {
             "outlinewidth": 0,
             "ticks": ""
            },
            "type": "contourcarpet"
           }
          ],
          "heatmap": [
           {
            "colorbar": {
             "outlinewidth": 0,
             "ticks": ""
            },
            "colorscale": [
             [
              0,
              "#0d0887"
             ],
             [
              0.1111111111111111,
              "#46039f"
             ],
             [
              0.2222222222222222,
              "#7201a8"
             ],
             [
              0.3333333333333333,
              "#9c179e"
             ],
             [
              0.4444444444444444,
              "#bd3786"
             ],
             [
              0.5555555555555556,
              "#d8576b"
             ],
             [
              0.6666666666666666,
              "#ed7953"
             ],
             [
              0.7777777777777778,
              "#fb9f3a"
             ],
             [
              0.8888888888888888,
              "#fdca26"
             ],
             [
              1,
              "#f0f921"
             ]
            ],
            "type": "heatmap"
           }
          ],
          "heatmapgl": [
           {
            "colorbar": {
             "outlinewidth": 0,
             "ticks": ""
            },
            "colorscale": [
             [
              0,
              "#0d0887"
             ],
             [
              0.1111111111111111,
              "#46039f"
             ],
             [
              0.2222222222222222,
              "#7201a8"
             ],
             [
              0.3333333333333333,
              "#9c179e"
             ],
             [
              0.4444444444444444,
              "#bd3786"
             ],
             [
              0.5555555555555556,
              "#d8576b"
             ],
             [
              0.6666666666666666,
              "#ed7953"
             ],
             [
              0.7777777777777778,
              "#fb9f3a"
             ],
             [
              0.8888888888888888,
              "#fdca26"
             ],
             [
              1,
              "#f0f921"
             ]
            ],
            "type": "heatmapgl"
           }
          ],
          "histogram": [
           {
            "marker": {
             "colorbar": {
              "outlinewidth": 0,
              "ticks": ""
             }
            },
            "type": "histogram"
           }
          ],
          "histogram2d": [
           {
            "colorbar": {
             "outlinewidth": 0,
             "ticks": ""
            },
            "colorscale": [
             [
              0,
              "#0d0887"
             ],
             [
              0.1111111111111111,
              "#46039f"
             ],
             [
              0.2222222222222222,
              "#7201a8"
             ],
             [
              0.3333333333333333,
              "#9c179e"
             ],
             [
              0.4444444444444444,
              "#bd3786"
             ],
             [
              0.5555555555555556,
              "#d8576b"
             ],
             [
              0.6666666666666666,
              "#ed7953"
             ],
             [
              0.7777777777777778,
              "#fb9f3a"
             ],
             [
              0.8888888888888888,
              "#fdca26"
             ],
             [
              1,
              "#f0f921"
             ]
            ],
            "type": "histogram2d"
           }
          ],
          "histogram2dcontour": [
           {
            "colorbar": {
             "outlinewidth": 0,
             "ticks": ""
            },
            "colorscale": [
             [
              0,
              "#0d0887"
             ],
             [
              0.1111111111111111,
              "#46039f"
             ],
             [
              0.2222222222222222,
              "#7201a8"
             ],
             [
              0.3333333333333333,
              "#9c179e"
             ],
             [
              0.4444444444444444,
              "#bd3786"
             ],
             [
              0.5555555555555556,
              "#d8576b"
             ],
             [
              0.6666666666666666,
              "#ed7953"
             ],
             [
              0.7777777777777778,
              "#fb9f3a"
             ],
             [
              0.8888888888888888,
              "#fdca26"
             ],
             [
              1,
              "#f0f921"
             ]
            ],
            "type": "histogram2dcontour"
           }
          ],
          "mesh3d": [
           {
            "colorbar": {
             "outlinewidth": 0,
             "ticks": ""
            },
            "type": "mesh3d"
           }
          ],
          "parcoords": [
           {
            "line": {
             "colorbar": {
              "outlinewidth": 0,
              "ticks": ""
             }
            },
            "type": "parcoords"
           }
          ],
          "pie": [
           {
            "automargin": true,
            "type": "pie"
           }
          ],
          "scatter": [
           {
            "marker": {
             "colorbar": {
              "outlinewidth": 0,
              "ticks": ""
             }
            },
            "type": "scatter"
           }
          ],
          "scatter3d": [
           {
            "line": {
             "colorbar": {
              "outlinewidth": 0,
              "ticks": ""
             }
            },
            "marker": {
             "colorbar": {
              "outlinewidth": 0,
              "ticks": ""
             }
            },
            "type": "scatter3d"
           }
          ],
          "scattercarpet": [
           {
            "marker": {
             "colorbar": {
              "outlinewidth": 0,
              "ticks": ""
             }
            },
            "type": "scattercarpet"
           }
          ],
          "scattergeo": [
           {
            "marker": {
             "colorbar": {
              "outlinewidth": 0,
              "ticks": ""
             }
            },
            "type": "scattergeo"
           }
          ],
          "scattergl": [
           {
            "marker": {
             "colorbar": {
              "outlinewidth": 0,
              "ticks": ""
             }
            },
            "type": "scattergl"
           }
          ],
          "scattermapbox": [
           {
            "marker": {
             "colorbar": {
              "outlinewidth": 0,
              "ticks": ""
             }
            },
            "type": "scattermapbox"
           }
          ],
          "scatterpolar": [
           {
            "marker": {
             "colorbar": {
              "outlinewidth": 0,
              "ticks": ""
             }
            },
            "type": "scatterpolar"
           }
          ],
          "scatterpolargl": [
           {
            "marker": {
             "colorbar": {
              "outlinewidth": 0,
              "ticks": ""
             }
            },
            "type": "scatterpolargl"
           }
          ],
          "scatterternary": [
           {
            "marker": {
             "colorbar": {
              "outlinewidth": 0,
              "ticks": ""
             }
            },
            "type": "scatterternary"
           }
          ],
          "surface": [
           {
            "colorbar": {
             "outlinewidth": 0,
             "ticks": ""
            },
            "colorscale": [
             [
              0,
              "#0d0887"
             ],
             [
              0.1111111111111111,
              "#46039f"
             ],
             [
              0.2222222222222222,
              "#7201a8"
             ],
             [
              0.3333333333333333,
              "#9c179e"
             ],
             [
              0.4444444444444444,
              "#bd3786"
             ],
             [
              0.5555555555555556,
              "#d8576b"
             ],
             [
              0.6666666666666666,
              "#ed7953"
             ],
             [
              0.7777777777777778,
              "#fb9f3a"
             ],
             [
              0.8888888888888888,
              "#fdca26"
             ],
             [
              1,
              "#f0f921"
             ]
            ],
            "type": "surface"
           }
          ],
          "table": [
           {
            "cells": {
             "fill": {
              "color": "#EBF0F8"
             },
             "line": {
              "color": "white"
             }
            },
            "header": {
             "fill": {
              "color": "#C8D4E3"
             },
             "line": {
              "color": "white"
             }
            },
            "type": "table"
           }
          ]
         },
         "layout": {
          "annotationdefaults": {
           "arrowcolor": "#2a3f5f",
           "arrowhead": 0,
           "arrowwidth": 1
          },
          "coloraxis": {
           "colorbar": {
            "outlinewidth": 0,
            "ticks": ""
           }
          },
          "colorscale": {
           "diverging": [
            [
             0,
             "#8e0152"
            ],
            [
             0.1,
             "#c51b7d"
            ],
            [
             0.2,
             "#de77ae"
            ],
            [
             0.3,
             "#f1b6da"
            ],
            [
             0.4,
             "#fde0ef"
            ],
            [
             0.5,
             "#f7f7f7"
            ],
            [
             0.6,
             "#e6f5d0"
            ],
            [
             0.7,
             "#b8e186"
            ],
            [
             0.8,
             "#7fbc41"
            ],
            [
             0.9,
             "#4d9221"
            ],
            [
             1,
             "#276419"
            ]
           ],
           "sequential": [
            [
             0,
             "#0d0887"
            ],
            [
             0.1111111111111111,
             "#46039f"
            ],
            [
             0.2222222222222222,
             "#7201a8"
            ],
            [
             0.3333333333333333,
             "#9c179e"
            ],
            [
             0.4444444444444444,
             "#bd3786"
            ],
            [
             0.5555555555555556,
             "#d8576b"
            ],
            [
             0.6666666666666666,
             "#ed7953"
            ],
            [
             0.7777777777777778,
             "#fb9f3a"
            ],
            [
             0.8888888888888888,
             "#fdca26"
            ],
            [
             1,
             "#f0f921"
            ]
           ],
           "sequentialminus": [
            [
             0,
             "#0d0887"
            ],
            [
             0.1111111111111111,
             "#46039f"
            ],
            [
             0.2222222222222222,
             "#7201a8"
            ],
            [
             0.3333333333333333,
             "#9c179e"
            ],
            [
             0.4444444444444444,
             "#bd3786"
            ],
            [
             0.5555555555555556,
             "#d8576b"
            ],
            [
             0.6666666666666666,
             "#ed7953"
            ],
            [
             0.7777777777777778,
             "#fb9f3a"
            ],
            [
             0.8888888888888888,
             "#fdca26"
            ],
            [
             1,
             "#f0f921"
            ]
           ]
          },
          "colorway": [
           "#636efa",
           "#EF553B",
           "#00cc96",
           "#ab63fa",
           "#FFA15A",
           "#19d3f3",
           "#FF6692",
           "#B6E880",
           "#FF97FF",
           "#FECB52"
          ],
          "font": {
           "color": "#2a3f5f"
          },
          "geo": {
           "bgcolor": "white",
           "lakecolor": "white",
           "landcolor": "#E5ECF6",
           "showlakes": true,
           "showland": true,
           "subunitcolor": "white"
          },
          "hoverlabel": {
           "align": "left"
          },
          "hovermode": "closest",
          "mapbox": {
           "style": "light"
          },
          "paper_bgcolor": "white",
          "plot_bgcolor": "#E5ECF6",
          "polar": {
           "angularaxis": {
            "gridcolor": "white",
            "linecolor": "white",
            "ticks": ""
           },
           "bgcolor": "#E5ECF6",
           "radialaxis": {
            "gridcolor": "white",
            "linecolor": "white",
            "ticks": ""
           }
          },
          "scene": {
           "xaxis": {
            "backgroundcolor": "#E5ECF6",
            "gridcolor": "white",
            "gridwidth": 2,
            "linecolor": "white",
            "showbackground": true,
            "ticks": "",
            "zerolinecolor": "white"
           },
           "yaxis": {
            "backgroundcolor": "#E5ECF6",
            "gridcolor": "white",
            "gridwidth": 2,
            "linecolor": "white",
            "showbackground": true,
            "ticks": "",
            "zerolinecolor": "white"
           },
           "zaxis": {
            "backgroundcolor": "#E5ECF6",
            "gridcolor": "white",
            "gridwidth": 2,
            "linecolor": "white",
            "showbackground": true,
            "ticks": "",
            "zerolinecolor": "white"
           }
          },
          "shapedefaults": {
           "line": {
            "color": "#2a3f5f"
           }
          },
          "ternary": {
           "aaxis": {
            "gridcolor": "white",
            "linecolor": "white",
            "ticks": ""
           },
           "baxis": {
            "gridcolor": "white",
            "linecolor": "white",
            "ticks": ""
           },
           "bgcolor": "#E5ECF6",
           "caxis": {
            "gridcolor": "white",
            "linecolor": "white",
            "ticks": ""
           }
          },
          "title": {
           "x": 0.05
          },
          "xaxis": {
           "automargin": true,
           "gridcolor": "white",
           "linecolor": "white",
           "ticks": "",
           "title": {
            "standoff": 15
           },
           "zerolinecolor": "white",
           "zerolinewidth": 2
          },
          "yaxis": {
           "automargin": true,
           "gridcolor": "white",
           "linecolor": "white",
           "ticks": "",
           "title": {
            "standoff": 15
           },
           "zerolinecolor": "white",
           "zerolinewidth": 2
          }
         }
        },
        "xaxis": {
         "constrain": "domain",
         "scaleanchor": "y"
        },
        "yaxis": {
         "autorange": "reversed",
         "constrain": "domain"
        }
       }
      },
      "text/html": [
       "<div>                            <div id=\"07ae7b48-df69-467f-8b82-31dbed989d8e\" class=\"plotly-graph-div\" style=\"height:525px; width:100%;\"></div>            <script type=\"text/javascript\">                require([\"plotly\"], function(Plotly) {                    window.PLOTLYENV=window.PLOTLYENV || {};                                    if (document.getElementById(\"07ae7b48-df69-467f-8b82-31dbed989d8e\")) {                    Plotly.newPlot(                        \"07ae7b48-df69-467f-8b82-31dbed989d8e\",                        [{\"coloraxis\": \"coloraxis\", \"hovertemplate\": \"x: %{x}<br>y: %{y}<br>color: %{z}<extra></extra>\", \"type\": \"heatmap\", \"x\": [\"S_HHpeople\", \"S_headage\", \"S_spouseage\", \"S_headeduc\", \"S_spouseeduc\", \"S_rooms\", \"S_waterland\", \"S_waterhouse\", \"S_electricity\", \"S_cementfloor2000\", \"S_hasanimals\", \"S_animalsinside\", \"S_garbage\", \"S_washhands\", \"S_incomepc\", \"S_assetspc\", \"S_shpeoplework\", \"S_microenter\", \"S_hrsworkedpc\", \"S_consumptionpc\", \"S_cashtransfers\", \"S_milkprogram\", \"S_foodprogram\", \"S_dem1\", \"S_dem2\", \"S_dem3\", \"S_dem4\", \"S_dem5\", \"S_dem6\", \"S_dem7\", \"S_dem8\", \"S_seguropopular\", \"S_shcementfloor\", \"S_cementfloorkit\", \"S_cementfloordin\", \"S_cementfloorbat\", \"S_cementfloorbed\", \"S_satisfloor\", \"S_satishouse\", \"S_satislife\", \"S_cesds\", \"S_pss\", \"S_instcement\", \"S_instsanita\", \"S_restsanita\", \"S_constceili\", \"S_restowalls\", \"S_improveany\", \"S_logrent\", \"S_logsell\"], \"y\": [\"LinearRegression\", \"Ridge\", \"DecisionTreeRegressor\", \"GradientBoostingRegressor\", \"MLPRegressor\"], \"z\": [[-0.004248880571808833, 0.0008995734681847001, 0.006969818773944647, 0.017074786504967077, -0.0015567747263418585, 0.03115150816382306, -0.015120004455719371, 0.04347342834879275, -0.07430400139430549, 0.05568939408497786, 0.009546736678897716, -0.002210130909698238, 0.16722556009865286, 0.011512644424940266, -0.010940732652352514, 0.0034569117041890474, -0.0017189223327127579, -0.004418676021149981, -0.019605727888976965, -0.24207143148754628, -8.48843134655386e-05, 0.01792792157956613, -0.010286192245867465, -0.011870190350397047, -0.019094803178862918, -0.017631939202259472, -5.113343422058492e-05, -0.04032861002114685, -0.024612709231887298, -0.04193674580058926, -0.03253603597865529, -0.011996451858556911, 0.03882321663071597, 0.04561445862922531, 0.019045451422558757, 0.028712297833392464, 0.01769302892617175, -0.00936814850391654, -0.0032095219247527673, -0.013184932437638519, 0.0013084788383419532, 0.003955840928607124, 0.043328022791650045, -0.023096422444802478, 0.02150575767875884, -0.013576751726836145, -0.03558965696148553, 0.01995008341312232, -0.0013331540698060529, 0.017771362983604932], [-0.0021947727145099627, -0.00040411068946744066, 0.004157807929902613, 0.015729418283676466, 0.003362109471867769, 0.027440211706812545, -0.005640920591272636, 0.042712358000247974, -0.04958097127862393, 0.06144432647100584, 0.00848773615958398, -0.0005177163408225383, 0.1672556999782745, 0.009621318160995762, -0.006695152758499745, 0.003658024522456782, 0.0017648365252014298, 0.00033626918526374894, -0.00831942508107808, -0.1544514849492955, -3.331949273310819e-05, 0.026357723325253768, -0.002193021037923959, -0.010634831600430994, -0.011891421001472446, -0.01280852461928017, 0.0029768026958417737, -0.03133724698432605, -0.02403624855923292, -0.03606155442773451, -0.021376393957802886, -0.0018585324088207233, 0.040964051823711656, 0.04233944403773282, 0.019413427240807413, 0.02296535850387804, 0.022106169976835455, -0.008295387297348356, -0.0024096072923469603, -0.010536780550282954, 0.004307963280034244, 0.008193023775138975, 0.037625510549407215, -0.013914416126671325, 0.019427007325060197, -0.0055017389887670465, -0.024278175567496785, 0.026807319276629493, -0.0024857382916918525, 0.017037352280957485], [-0.06624713221237699, -0.0695816734715653, 0.0053319877531834425, -0.05893117863284747, -0.09041698176397328, -0.03684757651948822, -0.11926807860879984, 0.034791798494272386, -0.14933090923097425, 0.037289854976384595, -0.10692105949735908, -0.07029501264502236, 0.2559035316958368, -0.035729667123729936, -0.029674895024430326, -0.016095058620665847, -0.060459678202333444, -0.02470469450456303, -0.07410832566562542, -0.5209041301740791, -0.012985141690573743, -0.16722103144026979, -0.08848220630721837, -0.11747389091375982, -0.07154773859722074, -0.09987923003622723, -0.12682690499876825, -0.1483683999690526, -0.07207372468369888, -0.19948052813290928, -0.12637560152814475, -0.04849084976855256, 0.05854086041965045, 0.0533978632858777, 0.008066921242685932, -0.023663496794924965, 0.007763761154521265, -0.04843750170972694, -0.04420581379425337, -0.061985130345106665, -0.02379263074329807, -0.049145370876469974, 0.1059234138888091, -0.04879499168323842, 0.001834171905736981, -0.008476206097250083, -0.05618616660878151, 0.0554801926535331, -0.1246368982887085, 0.00583031084952601], [-0.037681264295586825, -0.05329447118049413, 0.010407618489205128, -0.03676543087494344, -0.06249116629838092, -0.02337318162659252, -0.10863710437580254, 0.05356877990914466, -0.1427141188090646, 0.04508862764708654, -0.06703065188056101, -0.048742420064776804, 0.25759079325299006, 0.008841270202940676, -0.02724118231665673, 0.0016578261507682601, -0.04902631855145101, -0.015412461123623933, -0.06627557066907608, -0.527339782534658, -0.009360874494207971, -0.1312190483096738, -0.07531517201085514, -0.0925114211871434, -0.053765200873632235, -0.07511607457847047, -0.09669862580619593, -0.1095728495962065, -0.052365302002935765, -0.16132166257279956, -0.09721748123056217, -0.04811132518334693, 0.07231534591980404, 0.0704211388841306, 0.026045892316660546, -0.0014861707972959604, 0.021114828158586896, -0.02786936320051092, -0.033370929794176885, -0.05281526897000455, -0.0026942764811785924, -0.023956613070787558, 0.12146288186360477, -0.03828581518182417, 0.01066375792174834, 0.006170016691760205, -0.04194628277427337, 0.055604204035888505, -0.09835295439075487, 0.027521117132901618], [-0.04532890701538905, -0.148144363697432, -0.11774949486932895, -0.14430465672336257, -0.053447553949618865, -0.051430337936408055, -0.37544748887575485, -0.07283758643935556, -0.964614687817883, 0.025955412894973384, -0.3190852522514547, -0.19401023047105403, -0.6188615145573826, -0.10488255711738415, -0.0012058882061349863, -0.007466329165266572, -0.6611382328892923, -0.26667787485577565, -0.01750519991309507, -0.13988681454502383, -0.0141325358779949, -0.41945186585896077, -1.4603338072381553, -1.478332077001872, -0.9721027846208563, -1.734222883485975, -10.083783741650153, -0.4761553254211943, -2.665501994349547, -1.019542681838467, -2.5589482891700333, -1.6202343003752584, -0.9307076900026423, -0.0654650129936325, -0.10762114936730627, -0.2174987448510568, -0.09714860508742307, -0.2698467064331349, -0.12094970608441113, -0.1029557217018422, -0.037968631089444704, -0.09722980484589083, -0.39649604225100954, -0.17803974079915652, -2.8623998185591857, -0.05872802026549717, -0.03590663470178712, -0.1751519723616406, -0.628026193604122, -0.21168151966458404]]}],                        {\"coloraxis\": {\"colorscale\": [[0.0, \"#0d0887\"], [0.1111111111111111, \"#46039f\"], [0.2222222222222222, \"#7201a8\"], [0.3333333333333333, \"#9c179e\"], [0.4444444444444444, \"#bd3786\"], [0.5555555555555556, \"#d8576b\"], [0.6666666666666666, \"#ed7953\"], [0.7777777777777778, \"#fb9f3a\"], [0.8888888888888888, \"#fdca26\"], [1.0, \"#f0f921\"]]}, \"margin\": {\"t\": 60}, \"template\": {\"data\": {\"bar\": [{\"error_x\": {\"color\": \"#2a3f5f\"}, \"error_y\": {\"color\": \"#2a3f5f\"}, \"marker\": {\"line\": {\"color\": \"#E5ECF6\", \"width\": 0.5}}, \"type\": \"bar\"}], \"barpolar\": [{\"marker\": {\"line\": {\"color\": \"#E5ECF6\", \"width\": 0.5}}, \"type\": \"barpolar\"}], \"carpet\": [{\"aaxis\": {\"endlinecolor\": \"#2a3f5f\", \"gridcolor\": \"white\", \"linecolor\": \"white\", \"minorgridcolor\": \"white\", \"startlinecolor\": \"#2a3f5f\"}, \"baxis\": {\"endlinecolor\": \"#2a3f5f\", \"gridcolor\": \"white\", \"linecolor\": \"white\", \"minorgridcolor\": \"white\", \"startlinecolor\": \"#2a3f5f\"}, \"type\": \"carpet\"}], \"choropleth\": [{\"colorbar\": {\"outlinewidth\": 0, \"ticks\": \"\"}, \"type\": \"choropleth\"}], \"contour\": [{\"colorbar\": {\"outlinewidth\": 0, \"ticks\": \"\"}, \"colorscale\": [[0.0, \"#0d0887\"], [0.1111111111111111, \"#46039f\"], [0.2222222222222222, \"#7201a8\"], [0.3333333333333333, \"#9c179e\"], [0.4444444444444444, \"#bd3786\"], [0.5555555555555556, \"#d8576b\"], [0.6666666666666666, \"#ed7953\"], [0.7777777777777778, \"#fb9f3a\"], [0.8888888888888888, \"#fdca26\"], [1.0, \"#f0f921\"]], \"type\": \"contour\"}], \"contourcarpet\": [{\"colorbar\": {\"outlinewidth\": 0, \"ticks\": \"\"}, \"type\": \"contourcarpet\"}], \"heatmap\": [{\"colorbar\": {\"outlinewidth\": 0, \"ticks\": \"\"}, \"colorscale\": [[0.0, \"#0d0887\"], [0.1111111111111111, \"#46039f\"], [0.2222222222222222, \"#7201a8\"], [0.3333333333333333, \"#9c179e\"], [0.4444444444444444, \"#bd3786\"], [0.5555555555555556, \"#d8576b\"], [0.6666666666666666, \"#ed7953\"], [0.7777777777777778, \"#fb9f3a\"], [0.8888888888888888, \"#fdca26\"], [1.0, \"#f0f921\"]], \"type\": \"heatmap\"}], \"heatmapgl\": [{\"colorbar\": {\"outlinewidth\": 0, \"ticks\": \"\"}, \"colorscale\": [[0.0, \"#0d0887\"], [0.1111111111111111, \"#46039f\"], [0.2222222222222222, \"#7201a8\"], [0.3333333333333333, \"#9c179e\"], [0.4444444444444444, \"#bd3786\"], [0.5555555555555556, \"#d8576b\"], [0.6666666666666666, \"#ed7953\"], [0.7777777777777778, \"#fb9f3a\"], [0.8888888888888888, \"#fdca26\"], [1.0, \"#f0f921\"]], \"type\": \"heatmapgl\"}], \"histogram\": [{\"marker\": {\"colorbar\": {\"outlinewidth\": 0, \"ticks\": \"\"}}, \"type\": \"histogram\"}], \"histogram2d\": [{\"colorbar\": {\"outlinewidth\": 0, \"ticks\": \"\"}, \"colorscale\": [[0.0, \"#0d0887\"], [0.1111111111111111, \"#46039f\"], [0.2222222222222222, \"#7201a8\"], [0.3333333333333333, \"#9c179e\"], [0.4444444444444444, \"#bd3786\"], [0.5555555555555556, \"#d8576b\"], [0.6666666666666666, \"#ed7953\"], [0.7777777777777778, \"#fb9f3a\"], [0.8888888888888888, \"#fdca26\"], [1.0, \"#f0f921\"]], \"type\": \"histogram2d\"}], \"histogram2dcontour\": [{\"colorbar\": {\"outlinewidth\": 0, \"ticks\": \"\"}, \"colorscale\": [[0.0, \"#0d0887\"], [0.1111111111111111, \"#46039f\"], [0.2222222222222222, \"#7201a8\"], [0.3333333333333333, \"#9c179e\"], [0.4444444444444444, \"#bd3786\"], [0.5555555555555556, \"#d8576b\"], [0.6666666666666666, \"#ed7953\"], [0.7777777777777778, \"#fb9f3a\"], [0.8888888888888888, \"#fdca26\"], [1.0, \"#f0f921\"]], \"type\": \"histogram2dcontour\"}], \"mesh3d\": [{\"colorbar\": {\"outlinewidth\": 0, \"ticks\": \"\"}, \"type\": \"mesh3d\"}], \"parcoords\": [{\"line\": {\"colorbar\": {\"outlinewidth\": 0, \"ticks\": \"\"}}, \"type\": \"parcoords\"}], \"pie\": [{\"automargin\": true, \"type\": \"pie\"}], \"scatter\": [{\"marker\": {\"colorbar\": {\"outlinewidth\": 0, \"ticks\": \"\"}}, \"type\": \"scatter\"}], \"scatter3d\": [{\"line\": {\"colorbar\": {\"outlinewidth\": 0, \"ticks\": \"\"}}, \"marker\": {\"colorbar\": {\"outlinewidth\": 0, \"ticks\": \"\"}}, \"type\": \"scatter3d\"}], \"scattercarpet\": [{\"marker\": {\"colorbar\": {\"outlinewidth\": 0, \"ticks\": \"\"}}, \"type\": \"scattercarpet\"}], \"scattergeo\": [{\"marker\": {\"colorbar\": {\"outlinewidth\": 0, \"ticks\": \"\"}}, \"type\": \"scattergeo\"}], \"scattergl\": [{\"marker\": {\"colorbar\": {\"outlinewidth\": 0, \"ticks\": \"\"}}, \"type\": \"scattergl\"}], \"scattermapbox\": [{\"marker\": {\"colorbar\": {\"outlinewidth\": 0, \"ticks\": \"\"}}, \"type\": \"scattermapbox\"}], \"scatterpolar\": [{\"marker\": {\"colorbar\": {\"outlinewidth\": 0, \"ticks\": \"\"}}, \"type\": \"scatterpolar\"}], \"scatterpolargl\": [{\"marker\": {\"colorbar\": {\"outlinewidth\": 0, \"ticks\": \"\"}}, \"type\": \"scatterpolargl\"}], \"scatterternary\": [{\"marker\": {\"colorbar\": {\"outlinewidth\": 0, \"ticks\": \"\"}}, \"type\": \"scatterternary\"}], \"surface\": [{\"colorbar\": {\"outlinewidth\": 0, \"ticks\": \"\"}, \"colorscale\": [[0.0, \"#0d0887\"], [0.1111111111111111, \"#46039f\"], [0.2222222222222222, \"#7201a8\"], [0.3333333333333333, \"#9c179e\"], [0.4444444444444444, \"#bd3786\"], [0.5555555555555556, \"#d8576b\"], [0.6666666666666666, \"#ed7953\"], [0.7777777777777778, \"#fb9f3a\"], [0.8888888888888888, \"#fdca26\"], [1.0, \"#f0f921\"]], \"type\": \"surface\"}], \"table\": [{\"cells\": {\"fill\": {\"color\": \"#EBF0F8\"}, \"line\": {\"color\": \"white\"}}, \"header\": {\"fill\": {\"color\": \"#C8D4E3\"}, \"line\": {\"color\": \"white\"}}, \"type\": \"table\"}]}, \"layout\": {\"annotationdefaults\": {\"arrowcolor\": \"#2a3f5f\", \"arrowhead\": 0, \"arrowwidth\": 1}, \"coloraxis\": {\"colorbar\": {\"outlinewidth\": 0, \"ticks\": \"\"}}, \"colorscale\": {\"diverging\": [[0, \"#8e0152\"], [0.1, \"#c51b7d\"], [0.2, \"#de77ae\"], [0.3, \"#f1b6da\"], [0.4, \"#fde0ef\"], [0.5, \"#f7f7f7\"], [0.6, \"#e6f5d0\"], [0.7, \"#b8e186\"], [0.8, \"#7fbc41\"], [0.9, \"#4d9221\"], [1, \"#276419\"]], \"sequential\": [[0.0, \"#0d0887\"], [0.1111111111111111, \"#46039f\"], [0.2222222222222222, \"#7201a8\"], [0.3333333333333333, \"#9c179e\"], [0.4444444444444444, \"#bd3786\"], [0.5555555555555556, \"#d8576b\"], [0.6666666666666666, \"#ed7953\"], [0.7777777777777778, \"#fb9f3a\"], [0.8888888888888888, \"#fdca26\"], [1.0, \"#f0f921\"]], \"sequentialminus\": [[0.0, \"#0d0887\"], [0.1111111111111111, \"#46039f\"], [0.2222222222222222, \"#7201a8\"], [0.3333333333333333, \"#9c179e\"], [0.4444444444444444, \"#bd3786\"], [0.5555555555555556, \"#d8576b\"], [0.6666666666666666, \"#ed7953\"], [0.7777777777777778, \"#fb9f3a\"], [0.8888888888888888, \"#fdca26\"], [1.0, \"#f0f921\"]]}, \"colorway\": [\"#636efa\", \"#EF553B\", \"#00cc96\", \"#ab63fa\", \"#FFA15A\", \"#19d3f3\", \"#FF6692\", \"#B6E880\", \"#FF97FF\", \"#FECB52\"], \"font\": {\"color\": \"#2a3f5f\"}, \"geo\": {\"bgcolor\": \"white\", \"lakecolor\": \"white\", \"landcolor\": \"#E5ECF6\", \"showlakes\": true, \"showland\": true, \"subunitcolor\": \"white\"}, \"hoverlabel\": {\"align\": \"left\"}, \"hovermode\": \"closest\", \"mapbox\": {\"style\": \"light\"}, \"paper_bgcolor\": \"white\", \"plot_bgcolor\": \"#E5ECF6\", \"polar\": {\"angularaxis\": {\"gridcolor\": \"white\", \"linecolor\": \"white\", \"ticks\": \"\"}, \"bgcolor\": \"#E5ECF6\", \"radialaxis\": {\"gridcolor\": \"white\", \"linecolor\": \"white\", \"ticks\": \"\"}}, \"scene\": {\"xaxis\": {\"backgroundcolor\": \"#E5ECF6\", \"gridcolor\": \"white\", \"gridwidth\": 2, \"linecolor\": \"white\", \"showbackground\": true, \"ticks\": \"\", \"zerolinecolor\": \"white\"}, \"yaxis\": {\"backgroundcolor\": \"#E5ECF6\", \"gridcolor\": \"white\", \"gridwidth\": 2, \"linecolor\": \"white\", \"showbackground\": true, \"ticks\": \"\", \"zerolinecolor\": \"white\"}, \"zaxis\": {\"backgroundcolor\": \"#E5ECF6\", \"gridcolor\": \"white\", \"gridwidth\": 2, \"linecolor\": \"white\", \"showbackground\": true, \"ticks\": \"\", \"zerolinecolor\": \"white\"}}, \"shapedefaults\": {\"line\": {\"color\": \"#2a3f5f\"}}, \"ternary\": {\"aaxis\": {\"gridcolor\": \"white\", \"linecolor\": \"white\", \"ticks\": \"\"}, \"baxis\": {\"gridcolor\": \"white\", \"linecolor\": \"white\", \"ticks\": \"\"}, \"bgcolor\": \"#E5ECF6\", \"caxis\": {\"gridcolor\": \"white\", \"linecolor\": \"white\", \"ticks\": \"\"}}, \"title\": {\"x\": 0.05}, \"xaxis\": {\"automargin\": true, \"gridcolor\": \"white\", \"linecolor\": \"white\", \"ticks\": \"\", \"title\": {\"standoff\": 15}, \"zerolinecolor\": \"white\", \"zerolinewidth\": 2}, \"yaxis\": {\"automargin\": true, \"gridcolor\": \"white\", \"linecolor\": \"white\", \"ticks\": \"\", \"title\": {\"standoff\": 15}, \"zerolinecolor\": \"white\", \"zerolinewidth\": 2}}}, \"xaxis\": {\"constrain\": \"domain\", \"scaleanchor\": \"y\"}, \"yaxis\": {\"autorange\": \"reversed\", \"constrain\": \"domain\"}},                        {\"responsive\": true}                    ).then(function(){\n",
       "                            \n",
       "var gd = document.getElementById('07ae7b48-df69-467f-8b82-31dbed989d8e');\n",
       "var x = new MutationObserver(function (mutations, observer) {{\n",
       "        var display = window.getComputedStyle(gd).display;\n",
       "        if (!display || display === 'none') {{\n",
       "            console.log([gd, 'removed!']);\n",
       "            Plotly.purge(gd);\n",
       "            observer.disconnect();\n",
       "        }}\n",
       "}});\n",
       "\n",
       "// Listen for the removal of the full notebook cells\n",
       "var notebookContainer = gd.closest('#notebook-container');\n",
       "if (notebookContainer) {{\n",
       "    x.observe(notebookContainer, {childList: true});\n",
       "}}\n",
       "\n",
       "// Listen for the clearing of the current output cell\n",
       "var outputEl = gd.closest('.output');\n",
       "if (outputEl) {{\n",
       "    x.observe(outputEl, {childList: true});\n",
       "}}\n",
       "\n",
       "                        })                };                });            </script>        </div>"
      ]
     },
     "metadata": {},
     "output_type": "display_data"
    }
   ],
   "source": [
    "# selected_models = [LinearRegression(), Lasso(max_iter=5000), Ridge(), SVR(), DecisionTreeRegressor(), GradientBoostingRegressor()]\n",
    "# Without standardization\n",
    "df_results = wrapper_generate_prediction_df(df_census, df_survey, selected_models, standardize_=False)\n",
    "import plotly.express as px\n",
    "fig = px.imshow(df_results)\n",
    "fig.show()"
   ]
  },
  {
   "cell_type": "code",
   "execution_count": 100,
   "metadata": {},
   "outputs": [
    {
     "name": "stderr",
     "output_type": "stream",
     "text": [
      "/Users/Max/miniconda3/envs/ada/lib/python3.8/site-packages/sklearn/neural_network/_multilayer_perceptron.py:582: ConvergenceWarning:\n",
      "\n",
      "Stochastic Optimizer: Maximum iterations (2000) reached and the optimization hasn't converged yet.\n",
      "\n",
      "/Users/Max/miniconda3/envs/ada/lib/python3.8/site-packages/sklearn/neural_network/_multilayer_perceptron.py:582: ConvergenceWarning:\n",
      "\n",
      "Stochastic Optimizer: Maximum iterations (2000) reached and the optimization hasn't converged yet.\n",
      "\n"
     ]
    }
   ],
   "source": [
    "# With standardization\n",
    "df_results_standardized = wrapper_generate_prediction_df(df_census, df_survey, selected_models, standardize_=True)\n"
   ]
  },
  {
   "cell_type": "code",
   "execution_count": 101,
   "metadata": {},
   "outputs": [
    {
     "data": {
      "application/vnd.plotly.v1+json": {
       "config": {
        "plotlyServerURL": "https://plot.ly"
       },
       "data": [
        {
         "name": "Non standardized",
         "type": "heatmap",
         "x": [
          "S_HHpeople",
          "S_headage",
          "S_spouseage",
          "S_headeduc",
          "S_spouseeduc",
          "S_rooms",
          "S_waterland",
          "S_waterhouse",
          "S_electricity",
          "S_cementfloor2000",
          "S_hasanimals",
          "S_animalsinside",
          "S_garbage",
          "S_washhands",
          "S_incomepc",
          "S_assetspc",
          "S_shpeoplework",
          "S_microenter",
          "S_hrsworkedpc",
          "S_consumptionpc",
          "S_cashtransfers",
          "S_milkprogram",
          "S_foodprogram",
          "S_dem1",
          "S_dem2",
          "S_dem3",
          "S_dem4",
          "S_dem5",
          "S_dem6",
          "S_dem7",
          "S_dem8",
          "S_seguropopular",
          "S_shcementfloor",
          "S_cementfloorkit",
          "S_cementfloordin",
          "S_cementfloorbat",
          "S_cementfloorbed",
          "S_satisfloor",
          "S_satishouse",
          "S_satislife",
          "S_cesds",
          "S_pss",
          "S_instcement",
          "S_instsanita",
          "S_restsanita",
          "S_constceili",
          "S_restowalls",
          "S_improveany",
          "S_logrent",
          "S_logsell"
         ],
         "y": [
          "LinearRegression",
          "Ridge",
          "DecisionTreeRegressor",
          "GradientBoostingRegressor",
          "MLPRegressor"
         ],
         "z": [
          [
           -0.004248880571808833,
           0.0008995734681847001,
           0.006969818773944647,
           0.017074786504967077,
           -0.0015567747263418585,
           0.03115150816382306,
           -0.015120004455719371,
           0.04347342834879275,
           -0.07430400139430549,
           0.05568939408497786,
           0.009546736678897716,
           -0.002210130909698238,
           0.16722556009865286,
           0.011512644424940266,
           -0.010940732652352514,
           0.0034569117041890474,
           -0.0017189223327127579,
           -0.004418676021149981,
           -0.019605727888976965,
           -0.24207143148754628,
           -8.48843134655386e-05,
           0.01792792157956613,
           -0.010286192245867465,
           -0.011870190350397047,
           -0.019094803178862918,
           -0.017631939202259472,
           -5.113343422058492e-05,
           -0.04032861002114685,
           -0.024612709231887298,
           -0.04193674580058926,
           -0.03253603597865529,
           -0.011996451858556911,
           0.03882321663071597,
           0.04561445862922531,
           0.019045451422558757,
           0.028712297833392464,
           0.01769302892617175,
           -0.00936814850391654,
           -0.0032095219247527673,
           -0.013184932437638519,
           0.0013084788383419532,
           0.003955840928607124,
           0.043328022791650045,
           -0.023096422444802478,
           0.02150575767875884,
           -0.013576751726836145,
           -0.03558965696148553,
           0.01995008341312232,
           -0.0013331540698060529,
           0.017771362983604932
          ],
          [
           -0.0021947727145099627,
           -0.00040411068946744066,
           0.004157807929902613,
           0.015729418283676466,
           0.003362109471867769,
           0.027440211706812545,
           -0.005640920591272636,
           0.042712358000247974,
           -0.04958097127862393,
           0.06144432647100584,
           0.00848773615958398,
           -0.0005177163408225383,
           0.1672556999782745,
           0.009621318160995762,
           -0.006695152758499745,
           0.003658024522456782,
           0.0017648365252014298,
           0.00033626918526374894,
           -0.00831942508107808,
           -0.1544514849492955,
           -3.331949273310819e-05,
           0.026357723325253768,
           -0.002193021037923959,
           -0.010634831600430994,
           -0.011891421001472446,
           -0.01280852461928017,
           0.0029768026958417737,
           -0.03133724698432605,
           -0.02403624855923292,
           -0.03606155442773451,
           -0.021376393957802886,
           -0.0018585324088207233,
           0.040964051823711656,
           0.04233944403773282,
           0.019413427240807413,
           0.02296535850387804,
           0.022106169976835455,
           -0.008295387297348356,
           -0.0024096072923469603,
           -0.010536780550282954,
           0.004307963280034244,
           0.008193023775138975,
           0.037625510549407215,
           -0.013914416126671325,
           0.019427007325060197,
           -0.0055017389887670465,
           -0.024278175567496785,
           0.026807319276629493,
           -0.0024857382916918525,
           0.017037352280957485
          ],
          [
           -0.06624713221237699,
           -0.0695816734715653,
           0.0053319877531834425,
           -0.05893117863284747,
           -0.09041698176397328,
           -0.03684757651948822,
           -0.11926807860879984,
           0.034791798494272386,
           -0.14933090923097425,
           0.037289854976384595,
           -0.10692105949735908,
           -0.07029501264502236,
           0.2559035316958368,
           -0.035729667123729936,
           -0.029674895024430326,
           -0.016095058620665847,
           -0.060459678202333444,
           -0.02470469450456303,
           -0.07410832566562542,
           -0.5209041301740791,
           -0.012985141690573743,
           -0.16722103144026979,
           -0.08848220630721837,
           -0.11747389091375982,
           -0.07154773859722074,
           -0.09987923003622723,
           -0.12682690499876825,
           -0.1483683999690526,
           -0.07207372468369888,
           -0.19948052813290928,
           -0.12637560152814475,
           -0.04849084976855256,
           0.05854086041965045,
           0.0533978632858777,
           0.008066921242685932,
           -0.023663496794924965,
           0.007763761154521265,
           -0.04843750170972694,
           -0.04420581379425337,
           -0.061985130345106665,
           -0.02379263074329807,
           -0.049145370876469974,
           0.1059234138888091,
           -0.04879499168323842,
           0.001834171905736981,
           -0.008476206097250083,
           -0.05618616660878151,
           0.0554801926535331,
           -0.1246368982887085,
           0.00583031084952601
          ],
          [
           -0.037681264295586825,
           -0.05329447118049413,
           0.010407618489205128,
           -0.03676543087494344,
           -0.06249116629838092,
           -0.02337318162659252,
           -0.10863710437580254,
           0.05356877990914466,
           -0.1427141188090646,
           0.04508862764708654,
           -0.06703065188056101,
           -0.048742420064776804,
           0.25759079325299006,
           0.008841270202940676,
           -0.02724118231665673,
           0.0016578261507682601,
           -0.04902631855145101,
           -0.015412461123623933,
           -0.06627557066907608,
           -0.527339782534658,
           -0.009360874494207971,
           -0.1312190483096738,
           -0.07531517201085514,
           -0.0925114211871434,
           -0.053765200873632235,
           -0.07511607457847047,
           -0.09669862580619593,
           -0.1095728495962065,
           -0.052365302002935765,
           -0.16132166257279956,
           -0.09721748123056217,
           -0.04811132518334693,
           0.07231534591980404,
           0.0704211388841306,
           0.026045892316660546,
           -0.0014861707972959604,
           0.021114828158586896,
           -0.02786936320051092,
           -0.033370929794176885,
           -0.05281526897000455,
           -0.0026942764811785924,
           -0.023956613070787558,
           0.12146288186360477,
           -0.03828581518182417,
           0.01066375792174834,
           0.006170016691760205,
           -0.04194628277427337,
           0.055604204035888505,
           -0.09835295439075487,
           0.027521117132901618
          ],
          [
           -0.04532890701538905,
           -0.148144363697432,
           -0.11774949486932895,
           -0.14430465672336257,
           -0.053447553949618865,
           -0.051430337936408055,
           -0.37544748887575485,
           -0.07283758643935556,
           -0.964614687817883,
           0.025955412894973384,
           -0.3190852522514547,
           -0.19401023047105403,
           -0.6188615145573826,
           -0.10488255711738415,
           -0.0012058882061349863,
           -0.007466329165266572,
           -0.6611382328892923,
           -0.26667787485577565,
           -0.01750519991309507,
           -0.13988681454502383,
           -0.0141325358779949,
           -0.41945186585896077,
           -1.4603338072381553,
           -1.478332077001872,
           -0.9721027846208563,
           -1.734222883485975,
           -10.083783741650153,
           -0.4761553254211943,
           -2.665501994349547,
           -1.019542681838467,
           -2.5589482891700333,
           -1.6202343003752584,
           -0.9307076900026423,
           -0.0654650129936325,
           -0.10762114936730627,
           -0.2174987448510568,
           -0.09714860508742307,
           -0.2698467064331349,
           -0.12094970608441113,
           -0.1029557217018422,
           -0.037968631089444704,
           -0.09722980484589083,
           -0.39649604225100954,
           -0.17803974079915652,
           -2.8623998185591857,
           -0.05872802026549717,
           -0.03590663470178712,
           -0.1751519723616406,
           -0.628026193604122,
           -0.21168151966458404
          ]
         ],
         "zmax": 0.3,
         "zmin": -0.5
        },
        {
         "name": "Standardized",
         "type": "heatmap",
         "x": [
          "S_HHpeople",
          "S_headage",
          "S_spouseage",
          "S_headeduc",
          "S_spouseeduc",
          "S_rooms",
          "S_waterland",
          "S_waterhouse",
          "S_electricity",
          "S_cementfloor2000",
          "S_hasanimals",
          "S_animalsinside",
          "S_garbage",
          "S_washhands",
          "S_incomepc",
          "S_assetspc",
          "S_shpeoplework",
          "S_microenter",
          "S_hrsworkedpc",
          "S_consumptionpc",
          "S_cashtransfers",
          "S_milkprogram",
          "S_foodprogram",
          "S_dem1",
          "S_dem2",
          "S_dem3",
          "S_dem4",
          "S_dem5",
          "S_dem6",
          "S_dem7",
          "S_dem8",
          "S_seguropopular",
          "S_shcementfloor",
          "S_cementfloorkit",
          "S_cementfloordin",
          "S_cementfloorbat",
          "S_cementfloorbed",
          "S_satisfloor",
          "S_satishouse",
          "S_satislife",
          "S_cesds",
          "S_pss",
          "S_instcement",
          "S_instsanita",
          "S_restsanita",
          "S_constceili",
          "S_restowalls",
          "S_improveany",
          "S_logrent",
          "S_logsell"
         ],
         "y": [
          "LinearRegression",
          "Ridge",
          "DecisionTreeRegressor",
          "GradientBoostingRegressor",
          "MLPRegressor"
         ],
         "z": [
          [
           0.0059344624760552245,
           -0.00033801158266855147,
           0.0074490856079618695,
           -0.017902813746774493,
           -0.029291004242110397,
           0.023703079403227467,
           -0.017010476036726674,
           -0.02841789074884904,
           -0.0446028512809904,
           0.05923141191385972,
           -3.0116648080502628e-05,
           -0.014607161701130078,
           0.15374614396691588,
           -0.0039049498160528273,
           -0.03183779654063201,
           -0.007537703095061188,
           -0.016580953222417483,
           -0.034539599090059436,
           -0.017495846320612074,
           0.00211583482797284,
           -0.029016365166742553,
           0.009841457640444418,
           0.01873856580408695,
           -0.023895947857364153,
           -0.004009802669515672,
           -0.02646366967265279,
           -0.017592711483818135,
           -0.022439384457028755,
           -0.020693517559396524,
           -0.027098827754262977,
           -0.04582279495217856,
           -0.008872477200307927,
           0.07764170563450057,
           0.05766122750496072,
           0.050040958654702816,
           0.007453645862500302,
           0.032418366747415495,
           0.03271308001727924,
           0.0076678124846778495,
           0.004534117312533947,
           0.01426699836531875,
           -0.008958316974211122,
           0.10436989117902795,
           -0.017064668243734094,
           -0.016725704452171808,
           -0.0008756674996723834,
           -0.0034577804494058118,
           -0.003972070600064326,
           -0.03814183336299415,
           0.016238482953333522
          ],
          [
           0.00386436319494754,
           -0.00035062827780873995,
           0.007642510783024914,
           -0.016732751364636256,
           -0.02903430340091484,
           0.02483393280255386,
           -0.01629172477669094,
           -0.02023477748018232,
           -0.0429890820763541,
           0.05952239903022727,
           0.001740855089108262,
           -0.015409130479983046,
           0.15414086914766245,
           -0.0035378787532593936,
           -0.030641383841471193,
           -0.00835692093107343,
           -0.011513466410810302,
           -0.03390048133192303,
           -0.012046687460881111,
           0.0033777086048104588,
           -0.027590776748565693,
           0.010534270082653618,
           0.020670632459963922,
           -0.023562558025426394,
           -0.003368224213572635,
           -0.02417336144712179,
           -0.017040962484299316,
           -0.02209227950028403,
           -0.015418347544222,
           -0.020741065424161986,
           -0.04228706522868242,
           -0.00839988705461625,
           0.07737936214365615,
           0.05720226024166397,
           0.04947902394255699,
           0.008144819550087168,
           0.03287543770933854,
           0.03259333511036855,
           0.0073174426810427295,
           0.004709134462054232,
           0.013432494988560917,
           -0.0026105985436082335,
           0.10256541671988073,
           -0.01689214301279396,
           -0.013348173208533876,
           -0.0009625762748510791,
           -0.0018010234405259062,
           -0.004377438512192633,
           -0.035131356632382094,
           0.017137590144761128
          ],
          [
           -0.03519635261591869,
           -0.1589531924033205,
           -0.13298646088806865,
           -0.10596781922758214,
           -0.08448178469877243,
           -0.1391018427662123,
           -0.039080216188271066,
           -0.019388407333327695,
           -0.023015316584398038,
           -0.05048756767945162,
           -0.0979929903726211,
           -0.09025548658660099,
           0.30353870616383305,
           0.027313667719142898,
           -0.1437012194253564,
           -0.029687085606805663,
           -0.03761160593942514,
           -0.11933518005590882,
           -0.03199991021680182,
           -0.20837649409135417,
           -0.13563618922194398,
           -0.02358693712432758,
           0.0069670323809629675,
           -0.1212306213518568,
           -0.1066168156896663,
           -0.14506651910695822,
           -0.25535332677423517,
           -0.06952591007283448,
           -0.16217005699025266,
           -0.18095344502826194,
           -0.28999213697513837,
           -0.02234460484213896,
           0.08202351632153693,
           0.01448505496384922,
           0.01824298693948978,
           0.021557828073787588,
           -0.031159431318535935,
           0.02777028763949474,
           -0.08833325798237901,
           -0.07228102624799693,
           -0.08122556943994086,
           -0.09811959978099472,
           0.10434223534426923,
           -0.07685074155366611,
           -0.012902737615324122,
           -0.03224891901897675,
           -0.08522614486964297,
           -0.040825337372784265,
           -0.28973237388834283,
           -0.01823068466356892
          ],
          [
           -0.020673893556258482,
           -0.10095966284609648,
           -0.08159738985493448,
           -0.0683689133140839,
           -0.06041630243053331,
           -0.08596965945477852,
           -0.033291940729646585,
           0.009332940719136706,
           -0.023167174577616967,
           -0.0024796447312205316,
           -0.05762802819107127,
           -0.07176561420433902,
           0.30292991844891937,
           0.039587440223788906,
           -0.13728737222206822,
           -0.01515224628784062,
           -0.027747277518550773,
           -0.08453363101580669,
           -0.027895980794011344,
           -0.18483300221890953,
           -0.11637492839873809,
           -0.013563182200567736,
           0.03013981236964114,
           -0.07831945959873532,
           -0.06210037359521192,
           -0.10771435973583832,
           -0.18976167098913987,
           -0.04612116869835714,
           -0.09896257520932394,
           -0.1275595687023383,
           -0.21794716076687992,
           -0.020065081986869515,
           0.09410945103765667,
           0.04252082507719379,
           0.05515917695830386,
           0.025331246639273886,
           -0.0016142974655573017,
           0.05199730952151693,
           -0.05008401335664203,
           -0.040244847867803246,
           -0.027075879743945652,
           -0.03061004022914604,
           0.12343817120144174,
           -0.04434298068093323,
           0.0005376878359343307,
           -0.01146909251410233,
           -0.05262795202857817,
           -0.016062497492502548,
           -0.23536886188824213,
           0.00865312407474561
          ],
          [
           -0.040218545982021014,
           -0.0690066488391976,
           -0.05396634686803359,
           -0.056705289020872574,
           -0.02196484358385642,
           -0.08854353124297987,
           -0.18998870154761005,
           0.00789736566504251,
           -0.4487941489296987,
           0.002346689842716021,
           -0.04102258456340957,
           -0.06880177914512675,
           0.27400541479239815,
           0.01748381066976812,
           -0.09494785271008177,
           -0.21613175602407853,
           -0.051958149808232434,
           -0.08129504411275401,
           -0.030841806643137293,
           -0.0490871412823477,
           -0.07715292977386978,
           -0.08830260477956564,
           -0.003884135360198604,
           -0.08037193466329473,
           -0.09880339571763108,
           -0.13340933703038726,
           -0.3523624937111991,
           -0.037206741804630905,
           -0.15723921428785959,
           -0.15072356226817663,
           -0.4656281213823128,
           -0.060212314912706066,
           0.10880578208483616,
           0.045624425635312105,
           0.04868113828441123,
           0.034151037789271754,
           -0.023609308220675418,
           0.03974179527177979,
           -0.04114361781692266,
           -0.029524629150132098,
           -0.0024688666289394146,
           -0.004040978506086201,
           0.10987102962239159,
           -0.05343018169997982,
           -0.001977856293081448,
           -0.02670105356232555,
           -0.036097882639029244,
           -0.022777603439420258,
           -0.2564282523904611,
           -0.162450831557011
          ]
         ],
         "zmax": 0.3,
         "zmin": -0.5
        }
       ],
       "layout": {
        "template": {
         "data": {
          "bar": [
           {
            "error_x": {
             "color": "#2a3f5f"
            },
            "error_y": {
             "color": "#2a3f5f"
            },
            "marker": {
             "line": {
              "color": "#E5ECF6",
              "width": 0.5
             }
            },
            "type": "bar"
           }
          ],
          "barpolar": [
           {
            "marker": {
             "line": {
              "color": "#E5ECF6",
              "width": 0.5
             }
            },
            "type": "barpolar"
           }
          ],
          "carpet": [
           {
            "aaxis": {
             "endlinecolor": "#2a3f5f",
             "gridcolor": "white",
             "linecolor": "white",
             "minorgridcolor": "white",
             "startlinecolor": "#2a3f5f"
            },
            "baxis": {
             "endlinecolor": "#2a3f5f",
             "gridcolor": "white",
             "linecolor": "white",
             "minorgridcolor": "white",
             "startlinecolor": "#2a3f5f"
            },
            "type": "carpet"
           }
          ],
          "choropleth": [
           {
            "colorbar": {
             "outlinewidth": 0,
             "ticks": ""
            },
            "type": "choropleth"
           }
          ],
          "contour": [
           {
            "colorbar": {
             "outlinewidth": 0,
             "ticks": ""
            },
            "colorscale": [
             [
              0,
              "#0d0887"
             ],
             [
              0.1111111111111111,
              "#46039f"
             ],
             [
              0.2222222222222222,
              "#7201a8"
             ],
             [
              0.3333333333333333,
              "#9c179e"
             ],
             [
              0.4444444444444444,
              "#bd3786"
             ],
             [
              0.5555555555555556,
              "#d8576b"
             ],
             [
              0.6666666666666666,
              "#ed7953"
             ],
             [
              0.7777777777777778,
              "#fb9f3a"
             ],
             [
              0.8888888888888888,
              "#fdca26"
             ],
             [
              1,
              "#f0f921"
             ]
            ],
            "type": "contour"
           }
          ],
          "contourcarpet": [
           {
            "colorbar": {
             "outlinewidth": 0,
             "ticks": ""
            },
            "type": "contourcarpet"
           }
          ],
          "heatmap": [
           {
            "colorbar": {
             "outlinewidth": 0,
             "ticks": ""
            },
            "colorscale": [
             [
              0,
              "#0d0887"
             ],
             [
              0.1111111111111111,
              "#46039f"
             ],
             [
              0.2222222222222222,
              "#7201a8"
             ],
             [
              0.3333333333333333,
              "#9c179e"
             ],
             [
              0.4444444444444444,
              "#bd3786"
             ],
             [
              0.5555555555555556,
              "#d8576b"
             ],
             [
              0.6666666666666666,
              "#ed7953"
             ],
             [
              0.7777777777777778,
              "#fb9f3a"
             ],
             [
              0.8888888888888888,
              "#fdca26"
             ],
             [
              1,
              "#f0f921"
             ]
            ],
            "type": "heatmap"
           }
          ],
          "heatmapgl": [
           {
            "colorbar": {
             "outlinewidth": 0,
             "ticks": ""
            },
            "colorscale": [
             [
              0,
              "#0d0887"
             ],
             [
              0.1111111111111111,
              "#46039f"
             ],
             [
              0.2222222222222222,
              "#7201a8"
             ],
             [
              0.3333333333333333,
              "#9c179e"
             ],
             [
              0.4444444444444444,
              "#bd3786"
             ],
             [
              0.5555555555555556,
              "#d8576b"
             ],
             [
              0.6666666666666666,
              "#ed7953"
             ],
             [
              0.7777777777777778,
              "#fb9f3a"
             ],
             [
              0.8888888888888888,
              "#fdca26"
             ],
             [
              1,
              "#f0f921"
             ]
            ],
            "type": "heatmapgl"
           }
          ],
          "histogram": [
           {
            "marker": {
             "colorbar": {
              "outlinewidth": 0,
              "ticks": ""
             }
            },
            "type": "histogram"
           }
          ],
          "histogram2d": [
           {
            "colorbar": {
             "outlinewidth": 0,
             "ticks": ""
            },
            "colorscale": [
             [
              0,
              "#0d0887"
             ],
             [
              0.1111111111111111,
              "#46039f"
             ],
             [
              0.2222222222222222,
              "#7201a8"
             ],
             [
              0.3333333333333333,
              "#9c179e"
             ],
             [
              0.4444444444444444,
              "#bd3786"
             ],
             [
              0.5555555555555556,
              "#d8576b"
             ],
             [
              0.6666666666666666,
              "#ed7953"
             ],
             [
              0.7777777777777778,
              "#fb9f3a"
             ],
             [
              0.8888888888888888,
              "#fdca26"
             ],
             [
              1,
              "#f0f921"
             ]
            ],
            "type": "histogram2d"
           }
          ],
          "histogram2dcontour": [
           {
            "colorbar": {
             "outlinewidth": 0,
             "ticks": ""
            },
            "colorscale": [
             [
              0,
              "#0d0887"
             ],
             [
              0.1111111111111111,
              "#46039f"
             ],
             [
              0.2222222222222222,
              "#7201a8"
             ],
             [
              0.3333333333333333,
              "#9c179e"
             ],
             [
              0.4444444444444444,
              "#bd3786"
             ],
             [
              0.5555555555555556,
              "#d8576b"
             ],
             [
              0.6666666666666666,
              "#ed7953"
             ],
             [
              0.7777777777777778,
              "#fb9f3a"
             ],
             [
              0.8888888888888888,
              "#fdca26"
             ],
             [
              1,
              "#f0f921"
             ]
            ],
            "type": "histogram2dcontour"
           }
          ],
          "mesh3d": [
           {
            "colorbar": {
             "outlinewidth": 0,
             "ticks": ""
            },
            "type": "mesh3d"
           }
          ],
          "parcoords": [
           {
            "line": {
             "colorbar": {
              "outlinewidth": 0,
              "ticks": ""
             }
            },
            "type": "parcoords"
           }
          ],
          "pie": [
           {
            "automargin": true,
            "type": "pie"
           }
          ],
          "scatter": [
           {
            "marker": {
             "colorbar": {
              "outlinewidth": 0,
              "ticks": ""
             }
            },
            "type": "scatter"
           }
          ],
          "scatter3d": [
           {
            "line": {
             "colorbar": {
              "outlinewidth": 0,
              "ticks": ""
             }
            },
            "marker": {
             "colorbar": {
              "outlinewidth": 0,
              "ticks": ""
             }
            },
            "type": "scatter3d"
           }
          ],
          "scattercarpet": [
           {
            "marker": {
             "colorbar": {
              "outlinewidth": 0,
              "ticks": ""
             }
            },
            "type": "scattercarpet"
           }
          ],
          "scattergeo": [
           {
            "marker": {
             "colorbar": {
              "outlinewidth": 0,
              "ticks": ""
             }
            },
            "type": "scattergeo"
           }
          ],
          "scattergl": [
           {
            "marker": {
             "colorbar": {
              "outlinewidth": 0,
              "ticks": ""
             }
            },
            "type": "scattergl"
           }
          ],
          "scattermapbox": [
           {
            "marker": {
             "colorbar": {
              "outlinewidth": 0,
              "ticks": ""
             }
            },
            "type": "scattermapbox"
           }
          ],
          "scatterpolar": [
           {
            "marker": {
             "colorbar": {
              "outlinewidth": 0,
              "ticks": ""
             }
            },
            "type": "scatterpolar"
           }
          ],
          "scatterpolargl": [
           {
            "marker": {
             "colorbar": {
              "outlinewidth": 0,
              "ticks": ""
             }
            },
            "type": "scatterpolargl"
           }
          ],
          "scatterternary": [
           {
            "marker": {
             "colorbar": {
              "outlinewidth": 0,
              "ticks": ""
             }
            },
            "type": "scatterternary"
           }
          ],
          "surface": [
           {
            "colorbar": {
             "outlinewidth": 0,
             "ticks": ""
            },
            "colorscale": [
             [
              0,
              "#0d0887"
             ],
             [
              0.1111111111111111,
              "#46039f"
             ],
             [
              0.2222222222222222,
              "#7201a8"
             ],
             [
              0.3333333333333333,
              "#9c179e"
             ],
             [
              0.4444444444444444,
              "#bd3786"
             ],
             [
              0.5555555555555556,
              "#d8576b"
             ],
             [
              0.6666666666666666,
              "#ed7953"
             ],
             [
              0.7777777777777778,
              "#fb9f3a"
             ],
             [
              0.8888888888888888,
              "#fdca26"
             ],
             [
              1,
              "#f0f921"
             ]
            ],
            "type": "surface"
           }
          ],
          "table": [
           {
            "cells": {
             "fill": {
              "color": "#EBF0F8"
             },
             "line": {
              "color": "white"
             }
            },
            "header": {
             "fill": {
              "color": "#C8D4E3"
             },
             "line": {
              "color": "white"
             }
            },
            "type": "table"
           }
          ]
         },
         "layout": {
          "annotationdefaults": {
           "arrowcolor": "#2a3f5f",
           "arrowhead": 0,
           "arrowwidth": 1
          },
          "coloraxis": {
           "colorbar": {
            "outlinewidth": 0,
            "ticks": ""
           }
          },
          "colorscale": {
           "diverging": [
            [
             0,
             "#8e0152"
            ],
            [
             0.1,
             "#c51b7d"
            ],
            [
             0.2,
             "#de77ae"
            ],
            [
             0.3,
             "#f1b6da"
            ],
            [
             0.4,
             "#fde0ef"
            ],
            [
             0.5,
             "#f7f7f7"
            ],
            [
             0.6,
             "#e6f5d0"
            ],
            [
             0.7,
             "#b8e186"
            ],
            [
             0.8,
             "#7fbc41"
            ],
            [
             0.9,
             "#4d9221"
            ],
            [
             1,
             "#276419"
            ]
           ],
           "sequential": [
            [
             0,
             "#0d0887"
            ],
            [
             0.1111111111111111,
             "#46039f"
            ],
            [
             0.2222222222222222,
             "#7201a8"
            ],
            [
             0.3333333333333333,
             "#9c179e"
            ],
            [
             0.4444444444444444,
             "#bd3786"
            ],
            [
             0.5555555555555556,
             "#d8576b"
            ],
            [
             0.6666666666666666,
             "#ed7953"
            ],
            [
             0.7777777777777778,
             "#fb9f3a"
            ],
            [
             0.8888888888888888,
             "#fdca26"
            ],
            [
             1,
             "#f0f921"
            ]
           ],
           "sequentialminus": [
            [
             0,
             "#0d0887"
            ],
            [
             0.1111111111111111,
             "#46039f"
            ],
            [
             0.2222222222222222,
             "#7201a8"
            ],
            [
             0.3333333333333333,
             "#9c179e"
            ],
            [
             0.4444444444444444,
             "#bd3786"
            ],
            [
             0.5555555555555556,
             "#d8576b"
            ],
            [
             0.6666666666666666,
             "#ed7953"
            ],
            [
             0.7777777777777778,
             "#fb9f3a"
            ],
            [
             0.8888888888888888,
             "#fdca26"
            ],
            [
             1,
             "#f0f921"
            ]
           ]
          },
          "colorway": [
           "#636efa",
           "#EF553B",
           "#00cc96",
           "#ab63fa",
           "#FFA15A",
           "#19d3f3",
           "#FF6692",
           "#B6E880",
           "#FF97FF",
           "#FECB52"
          ],
          "font": {
           "color": "#2a3f5f"
          },
          "geo": {
           "bgcolor": "white",
           "lakecolor": "white",
           "landcolor": "#E5ECF6",
           "showlakes": true,
           "showland": true,
           "subunitcolor": "white"
          },
          "hoverlabel": {
           "align": "left"
          },
          "hovermode": "closest",
          "mapbox": {
           "style": "light"
          },
          "paper_bgcolor": "white",
          "plot_bgcolor": "#E5ECF6",
          "polar": {
           "angularaxis": {
            "gridcolor": "white",
            "linecolor": "white",
            "ticks": ""
           },
           "bgcolor": "#E5ECF6",
           "radialaxis": {
            "gridcolor": "white",
            "linecolor": "white",
            "ticks": ""
           }
          },
          "scene": {
           "xaxis": {
            "backgroundcolor": "#E5ECF6",
            "gridcolor": "white",
            "gridwidth": 2,
            "linecolor": "white",
            "showbackground": true,
            "ticks": "",
            "zerolinecolor": "white"
           },
           "yaxis": {
            "backgroundcolor": "#E5ECF6",
            "gridcolor": "white",
            "gridwidth": 2,
            "linecolor": "white",
            "showbackground": true,
            "ticks": "",
            "zerolinecolor": "white"
           },
           "zaxis": {
            "backgroundcolor": "#E5ECF6",
            "gridcolor": "white",
            "gridwidth": 2,
            "linecolor": "white",
            "showbackground": true,
            "ticks": "",
            "zerolinecolor": "white"
           }
          },
          "shapedefaults": {
           "line": {
            "color": "#2a3f5f"
           }
          },
          "ternary": {
           "aaxis": {
            "gridcolor": "white",
            "linecolor": "white",
            "ticks": ""
           },
           "baxis": {
            "gridcolor": "white",
            "linecolor": "white",
            "ticks": ""
           },
           "bgcolor": "#E5ECF6",
           "caxis": {
            "gridcolor": "white",
            "linecolor": "white",
            "ticks": ""
           }
          },
          "title": {
           "x": 0.05
          },
          "xaxis": {
           "automargin": true,
           "gridcolor": "white",
           "linecolor": "white",
           "ticks": "",
           "title": {
            "standoff": 15
           },
           "zerolinecolor": "white",
           "zerolinewidth": 2
          },
          "yaxis": {
           "automargin": true,
           "gridcolor": "white",
           "linecolor": "white",
           "ticks": "",
           "title": {
            "standoff": 15
           },
           "zerolinecolor": "white",
           "zerolinewidth": 2
          }
         }
        },
        "title": {
         "text": "R^2 score for standardized data"
        },
        "updatemenus": [
         {
          "buttons": [
           {
            "args": [
             {
              "visible": [
               false,
               true
              ]
             },
             {
              "title": "R^2 score for standardized data"
             }
            ],
            "label": "Standardized",
            "method": "update"
           },
           {
            "args": [
             {
              "visible": [
               true,
               false
              ]
             },
             {
              "title": "R^2 score for non-standardized data"
             }
            ],
            "label": "Non standardized",
            "method": "update"
           }
          ],
          "direction": "down",
          "pad": {
           "r": 10,
           "t": 10
          },
          "showactive": true,
          "x": 0.01,
          "xanchor": "left",
          "y": 1.15,
          "yanchor": "top"
         }
        ]
       }
      },
      "text/html": [
       "<div>                            <div id=\"402cc496-773a-4ad8-93da-5d6e237cc29d\" class=\"plotly-graph-div\" style=\"height:525px; width:100%;\"></div>            <script type=\"text/javascript\">                require([\"plotly\"], function(Plotly) {                    window.PLOTLYENV=window.PLOTLYENV || {};                                    if (document.getElementById(\"402cc496-773a-4ad8-93da-5d6e237cc29d\")) {                    Plotly.newPlot(                        \"402cc496-773a-4ad8-93da-5d6e237cc29d\",                        [{\"name\": \"Non standardized\", \"type\": \"heatmap\", \"x\": [\"S_HHpeople\", \"S_headage\", \"S_spouseage\", \"S_headeduc\", \"S_spouseeduc\", \"S_rooms\", \"S_waterland\", \"S_waterhouse\", \"S_electricity\", \"S_cementfloor2000\", \"S_hasanimals\", \"S_animalsinside\", \"S_garbage\", \"S_washhands\", \"S_incomepc\", \"S_assetspc\", \"S_shpeoplework\", \"S_microenter\", \"S_hrsworkedpc\", \"S_consumptionpc\", \"S_cashtransfers\", \"S_milkprogram\", \"S_foodprogram\", \"S_dem1\", \"S_dem2\", \"S_dem3\", \"S_dem4\", \"S_dem5\", \"S_dem6\", \"S_dem7\", \"S_dem8\", \"S_seguropopular\", \"S_shcementfloor\", \"S_cementfloorkit\", \"S_cementfloordin\", \"S_cementfloorbat\", \"S_cementfloorbed\", \"S_satisfloor\", \"S_satishouse\", \"S_satislife\", \"S_cesds\", \"S_pss\", \"S_instcement\", \"S_instsanita\", \"S_restsanita\", \"S_constceili\", \"S_restowalls\", \"S_improveany\", \"S_logrent\", \"S_logsell\"], \"y\": [\"LinearRegression\", \"Ridge\", \"DecisionTreeRegressor\", \"GradientBoostingRegressor\", \"MLPRegressor\"], \"z\": [[-0.004248880571808833, 0.0008995734681847001, 0.006969818773944647, 0.017074786504967077, -0.0015567747263418585, 0.03115150816382306, -0.015120004455719371, 0.04347342834879275, -0.07430400139430549, 0.05568939408497786, 0.009546736678897716, -0.002210130909698238, 0.16722556009865286, 0.011512644424940266, -0.010940732652352514, 0.0034569117041890474, -0.0017189223327127579, -0.004418676021149981, -0.019605727888976965, -0.24207143148754628, -8.48843134655386e-05, 0.01792792157956613, -0.010286192245867465, -0.011870190350397047, -0.019094803178862918, -0.017631939202259472, -5.113343422058492e-05, -0.04032861002114685, -0.024612709231887298, -0.04193674580058926, -0.03253603597865529, -0.011996451858556911, 0.03882321663071597, 0.04561445862922531, 0.019045451422558757, 0.028712297833392464, 0.01769302892617175, -0.00936814850391654, -0.0032095219247527673, -0.013184932437638519, 0.0013084788383419532, 0.003955840928607124, 0.043328022791650045, -0.023096422444802478, 0.02150575767875884, -0.013576751726836145, -0.03558965696148553, 0.01995008341312232, -0.0013331540698060529, 0.017771362983604932], [-0.0021947727145099627, -0.00040411068946744066, 0.004157807929902613, 0.015729418283676466, 0.003362109471867769, 0.027440211706812545, -0.005640920591272636, 0.042712358000247974, -0.04958097127862393, 0.06144432647100584, 0.00848773615958398, -0.0005177163408225383, 0.1672556999782745, 0.009621318160995762, -0.006695152758499745, 0.003658024522456782, 0.0017648365252014298, 0.00033626918526374894, -0.00831942508107808, -0.1544514849492955, -3.331949273310819e-05, 0.026357723325253768, -0.002193021037923959, -0.010634831600430994, -0.011891421001472446, -0.01280852461928017, 0.0029768026958417737, -0.03133724698432605, -0.02403624855923292, -0.03606155442773451, -0.021376393957802886, -0.0018585324088207233, 0.040964051823711656, 0.04233944403773282, 0.019413427240807413, 0.02296535850387804, 0.022106169976835455, -0.008295387297348356, -0.0024096072923469603, -0.010536780550282954, 0.004307963280034244, 0.008193023775138975, 0.037625510549407215, -0.013914416126671325, 0.019427007325060197, -0.0055017389887670465, -0.024278175567496785, 0.026807319276629493, -0.0024857382916918525, 0.017037352280957485], [-0.06624713221237699, -0.0695816734715653, 0.0053319877531834425, -0.05893117863284747, -0.09041698176397328, -0.03684757651948822, -0.11926807860879984, 0.034791798494272386, -0.14933090923097425, 0.037289854976384595, -0.10692105949735908, -0.07029501264502236, 0.2559035316958368, -0.035729667123729936, -0.029674895024430326, -0.016095058620665847, -0.060459678202333444, -0.02470469450456303, -0.07410832566562542, -0.5209041301740791, -0.012985141690573743, -0.16722103144026979, -0.08848220630721837, -0.11747389091375982, -0.07154773859722074, -0.09987923003622723, -0.12682690499876825, -0.1483683999690526, -0.07207372468369888, -0.19948052813290928, -0.12637560152814475, -0.04849084976855256, 0.05854086041965045, 0.0533978632858777, 0.008066921242685932, -0.023663496794924965, 0.007763761154521265, -0.04843750170972694, -0.04420581379425337, -0.061985130345106665, -0.02379263074329807, -0.049145370876469974, 0.1059234138888091, -0.04879499168323842, 0.001834171905736981, -0.008476206097250083, -0.05618616660878151, 0.0554801926535331, -0.1246368982887085, 0.00583031084952601], [-0.037681264295586825, -0.05329447118049413, 0.010407618489205128, -0.03676543087494344, -0.06249116629838092, -0.02337318162659252, -0.10863710437580254, 0.05356877990914466, -0.1427141188090646, 0.04508862764708654, -0.06703065188056101, -0.048742420064776804, 0.25759079325299006, 0.008841270202940676, -0.02724118231665673, 0.0016578261507682601, -0.04902631855145101, -0.015412461123623933, -0.06627557066907608, -0.527339782534658, -0.009360874494207971, -0.1312190483096738, -0.07531517201085514, -0.0925114211871434, -0.053765200873632235, -0.07511607457847047, -0.09669862580619593, -0.1095728495962065, -0.052365302002935765, -0.16132166257279956, -0.09721748123056217, -0.04811132518334693, 0.07231534591980404, 0.0704211388841306, 0.026045892316660546, -0.0014861707972959604, 0.021114828158586896, -0.02786936320051092, -0.033370929794176885, -0.05281526897000455, -0.0026942764811785924, -0.023956613070787558, 0.12146288186360477, -0.03828581518182417, 0.01066375792174834, 0.006170016691760205, -0.04194628277427337, 0.055604204035888505, -0.09835295439075487, 0.027521117132901618], [-0.04532890701538905, -0.148144363697432, -0.11774949486932895, -0.14430465672336257, -0.053447553949618865, -0.051430337936408055, -0.37544748887575485, -0.07283758643935556, -0.964614687817883, 0.025955412894973384, -0.3190852522514547, -0.19401023047105403, -0.6188615145573826, -0.10488255711738415, -0.0012058882061349863, -0.007466329165266572, -0.6611382328892923, -0.26667787485577565, -0.01750519991309507, -0.13988681454502383, -0.0141325358779949, -0.41945186585896077, -1.4603338072381553, -1.478332077001872, -0.9721027846208563, -1.734222883485975, -10.083783741650153, -0.4761553254211943, -2.665501994349547, -1.019542681838467, -2.5589482891700333, -1.6202343003752584, -0.9307076900026423, -0.0654650129936325, -0.10762114936730627, -0.2174987448510568, -0.09714860508742307, -0.2698467064331349, -0.12094970608441113, -0.1029557217018422, -0.037968631089444704, -0.09722980484589083, -0.39649604225100954, -0.17803974079915652, -2.8623998185591857, -0.05872802026549717, -0.03590663470178712, -0.1751519723616406, -0.628026193604122, -0.21168151966458404]], \"zmax\": 0.3, \"zmin\": -0.5}, {\"name\": \"Standardized\", \"type\": \"heatmap\", \"x\": [\"S_HHpeople\", \"S_headage\", \"S_spouseage\", \"S_headeduc\", \"S_spouseeduc\", \"S_rooms\", \"S_waterland\", \"S_waterhouse\", \"S_electricity\", \"S_cementfloor2000\", \"S_hasanimals\", \"S_animalsinside\", \"S_garbage\", \"S_washhands\", \"S_incomepc\", \"S_assetspc\", \"S_shpeoplework\", \"S_microenter\", \"S_hrsworkedpc\", \"S_consumptionpc\", \"S_cashtransfers\", \"S_milkprogram\", \"S_foodprogram\", \"S_dem1\", \"S_dem2\", \"S_dem3\", \"S_dem4\", \"S_dem5\", \"S_dem6\", \"S_dem7\", \"S_dem8\", \"S_seguropopular\", \"S_shcementfloor\", \"S_cementfloorkit\", \"S_cementfloordin\", \"S_cementfloorbat\", \"S_cementfloorbed\", \"S_satisfloor\", \"S_satishouse\", \"S_satislife\", \"S_cesds\", \"S_pss\", \"S_instcement\", \"S_instsanita\", \"S_restsanita\", \"S_constceili\", \"S_restowalls\", \"S_improveany\", \"S_logrent\", \"S_logsell\"], \"y\": [\"LinearRegression\", \"Ridge\", \"DecisionTreeRegressor\", \"GradientBoostingRegressor\", \"MLPRegressor\"], \"z\": [[0.0059344624760552245, -0.00033801158266855147, 0.0074490856079618695, -0.017902813746774493, -0.029291004242110397, 0.023703079403227467, -0.017010476036726674, -0.02841789074884904, -0.0446028512809904, 0.05923141191385972, -3.0116648080502628e-05, -0.014607161701130078, 0.15374614396691588, -0.0039049498160528273, -0.03183779654063201, -0.007537703095061188, -0.016580953222417483, -0.034539599090059436, -0.017495846320612074, 0.00211583482797284, -0.029016365166742553, 0.009841457640444418, 0.01873856580408695, -0.023895947857364153, -0.004009802669515672, -0.02646366967265279, -0.017592711483818135, -0.022439384457028755, -0.020693517559396524, -0.027098827754262977, -0.04582279495217856, -0.008872477200307927, 0.07764170563450057, 0.05766122750496072, 0.050040958654702816, 0.007453645862500302, 0.032418366747415495, 0.03271308001727924, 0.0076678124846778495, 0.004534117312533947, 0.01426699836531875, -0.008958316974211122, 0.10436989117902795, -0.017064668243734094, -0.016725704452171808, -0.0008756674996723834, -0.0034577804494058118, -0.003972070600064326, -0.03814183336299415, 0.016238482953333522], [0.00386436319494754, -0.00035062827780873995, 0.007642510783024914, -0.016732751364636256, -0.02903430340091484, 0.02483393280255386, -0.01629172477669094, -0.02023477748018232, -0.0429890820763541, 0.05952239903022727, 0.001740855089108262, -0.015409130479983046, 0.15414086914766245, -0.0035378787532593936, -0.030641383841471193, -0.00835692093107343, -0.011513466410810302, -0.03390048133192303, -0.012046687460881111, 0.0033777086048104588, -0.027590776748565693, 0.010534270082653618, 0.020670632459963922, -0.023562558025426394, -0.003368224213572635, -0.02417336144712179, -0.017040962484299316, -0.02209227950028403, -0.015418347544222, -0.020741065424161986, -0.04228706522868242, -0.00839988705461625, 0.07737936214365615, 0.05720226024166397, 0.04947902394255699, 0.008144819550087168, 0.03287543770933854, 0.03259333511036855, 0.0073174426810427295, 0.004709134462054232, 0.013432494988560917, -0.0026105985436082335, 0.10256541671988073, -0.01689214301279396, -0.013348173208533876, -0.0009625762748510791, -0.0018010234405259062, -0.004377438512192633, -0.035131356632382094, 0.017137590144761128], [-0.03519635261591869, -0.1589531924033205, -0.13298646088806865, -0.10596781922758214, -0.08448178469877243, -0.1391018427662123, -0.039080216188271066, -0.019388407333327695, -0.023015316584398038, -0.05048756767945162, -0.0979929903726211, -0.09025548658660099, 0.30353870616383305, 0.027313667719142898, -0.1437012194253564, -0.029687085606805663, -0.03761160593942514, -0.11933518005590882, -0.03199991021680182, -0.20837649409135417, -0.13563618922194398, -0.02358693712432758, 0.0069670323809629675, -0.1212306213518568, -0.1066168156896663, -0.14506651910695822, -0.25535332677423517, -0.06952591007283448, -0.16217005699025266, -0.18095344502826194, -0.28999213697513837, -0.02234460484213896, 0.08202351632153693, 0.01448505496384922, 0.01824298693948978, 0.021557828073787588, -0.031159431318535935, 0.02777028763949474, -0.08833325798237901, -0.07228102624799693, -0.08122556943994086, -0.09811959978099472, 0.10434223534426923, -0.07685074155366611, -0.012902737615324122, -0.03224891901897675, -0.08522614486964297, -0.040825337372784265, -0.28973237388834283, -0.01823068466356892], [-0.020673893556258482, -0.10095966284609648, -0.08159738985493448, -0.0683689133140839, -0.06041630243053331, -0.08596965945477852, -0.033291940729646585, 0.009332940719136706, -0.023167174577616967, -0.0024796447312205316, -0.05762802819107127, -0.07176561420433902, 0.30292991844891937, 0.039587440223788906, -0.13728737222206822, -0.01515224628784062, -0.027747277518550773, -0.08453363101580669, -0.027895980794011344, -0.18483300221890953, -0.11637492839873809, -0.013563182200567736, 0.03013981236964114, -0.07831945959873532, -0.06210037359521192, -0.10771435973583832, -0.18976167098913987, -0.04612116869835714, -0.09896257520932394, -0.1275595687023383, -0.21794716076687992, -0.020065081986869515, 0.09410945103765667, 0.04252082507719379, 0.05515917695830386, 0.025331246639273886, -0.0016142974655573017, 0.05199730952151693, -0.05008401335664203, -0.040244847867803246, -0.027075879743945652, -0.03061004022914604, 0.12343817120144174, -0.04434298068093323, 0.0005376878359343307, -0.01146909251410233, -0.05262795202857817, -0.016062497492502548, -0.23536886188824213, 0.00865312407474561], [-0.040218545982021014, -0.0690066488391976, -0.05396634686803359, -0.056705289020872574, -0.02196484358385642, -0.08854353124297987, -0.18998870154761005, 0.00789736566504251, -0.4487941489296987, 0.002346689842716021, -0.04102258456340957, -0.06880177914512675, 0.27400541479239815, 0.01748381066976812, -0.09494785271008177, -0.21613175602407853, -0.051958149808232434, -0.08129504411275401, -0.030841806643137293, -0.0490871412823477, -0.07715292977386978, -0.08830260477956564, -0.003884135360198604, -0.08037193466329473, -0.09880339571763108, -0.13340933703038726, -0.3523624937111991, -0.037206741804630905, -0.15723921428785959, -0.15072356226817663, -0.4656281213823128, -0.060212314912706066, 0.10880578208483616, 0.045624425635312105, 0.04868113828441123, 0.034151037789271754, -0.023609308220675418, 0.03974179527177979, -0.04114361781692266, -0.029524629150132098, -0.0024688666289394146, -0.004040978506086201, 0.10987102962239159, -0.05343018169997982, -0.001977856293081448, -0.02670105356232555, -0.036097882639029244, -0.022777603439420258, -0.2564282523904611, -0.162450831557011]], \"zmax\": 0.3, \"zmin\": -0.5}],                        {\"template\": {\"data\": {\"bar\": [{\"error_x\": {\"color\": \"#2a3f5f\"}, \"error_y\": {\"color\": \"#2a3f5f\"}, \"marker\": {\"line\": {\"color\": \"#E5ECF6\", \"width\": 0.5}}, \"type\": \"bar\"}], \"barpolar\": [{\"marker\": {\"line\": {\"color\": \"#E5ECF6\", \"width\": 0.5}}, \"type\": \"barpolar\"}], \"carpet\": [{\"aaxis\": {\"endlinecolor\": \"#2a3f5f\", \"gridcolor\": \"white\", \"linecolor\": \"white\", \"minorgridcolor\": \"white\", \"startlinecolor\": \"#2a3f5f\"}, \"baxis\": {\"endlinecolor\": \"#2a3f5f\", \"gridcolor\": \"white\", \"linecolor\": \"white\", \"minorgridcolor\": \"white\", \"startlinecolor\": \"#2a3f5f\"}, \"type\": \"carpet\"}], \"choropleth\": [{\"colorbar\": {\"outlinewidth\": 0, \"ticks\": \"\"}, \"type\": \"choropleth\"}], \"contour\": [{\"colorbar\": {\"outlinewidth\": 0, \"ticks\": \"\"}, \"colorscale\": [[0.0, \"#0d0887\"], [0.1111111111111111, \"#46039f\"], [0.2222222222222222, \"#7201a8\"], [0.3333333333333333, \"#9c179e\"], [0.4444444444444444, \"#bd3786\"], [0.5555555555555556, \"#d8576b\"], [0.6666666666666666, \"#ed7953\"], [0.7777777777777778, \"#fb9f3a\"], [0.8888888888888888, \"#fdca26\"], [1.0, \"#f0f921\"]], \"type\": \"contour\"}], \"contourcarpet\": [{\"colorbar\": {\"outlinewidth\": 0, \"ticks\": \"\"}, \"type\": \"contourcarpet\"}], \"heatmap\": [{\"colorbar\": {\"outlinewidth\": 0, \"ticks\": \"\"}, \"colorscale\": [[0.0, \"#0d0887\"], [0.1111111111111111, \"#46039f\"], [0.2222222222222222, \"#7201a8\"], [0.3333333333333333, \"#9c179e\"], [0.4444444444444444, \"#bd3786\"], [0.5555555555555556, \"#d8576b\"], [0.6666666666666666, \"#ed7953\"], [0.7777777777777778, \"#fb9f3a\"], [0.8888888888888888, \"#fdca26\"], [1.0, \"#f0f921\"]], \"type\": \"heatmap\"}], \"heatmapgl\": [{\"colorbar\": {\"outlinewidth\": 0, \"ticks\": \"\"}, \"colorscale\": [[0.0, \"#0d0887\"], [0.1111111111111111, \"#46039f\"], [0.2222222222222222, \"#7201a8\"], [0.3333333333333333, \"#9c179e\"], [0.4444444444444444, \"#bd3786\"], [0.5555555555555556, \"#d8576b\"], [0.6666666666666666, \"#ed7953\"], [0.7777777777777778, \"#fb9f3a\"], [0.8888888888888888, \"#fdca26\"], [1.0, \"#f0f921\"]], \"type\": \"heatmapgl\"}], \"histogram\": [{\"marker\": {\"colorbar\": {\"outlinewidth\": 0, \"ticks\": \"\"}}, \"type\": \"histogram\"}], \"histogram2d\": [{\"colorbar\": {\"outlinewidth\": 0, \"ticks\": \"\"}, \"colorscale\": [[0.0, \"#0d0887\"], [0.1111111111111111, \"#46039f\"], [0.2222222222222222, \"#7201a8\"], [0.3333333333333333, \"#9c179e\"], [0.4444444444444444, \"#bd3786\"], [0.5555555555555556, \"#d8576b\"], [0.6666666666666666, \"#ed7953\"], [0.7777777777777778, \"#fb9f3a\"], [0.8888888888888888, \"#fdca26\"], [1.0, \"#f0f921\"]], \"type\": \"histogram2d\"}], \"histogram2dcontour\": [{\"colorbar\": {\"outlinewidth\": 0, \"ticks\": \"\"}, \"colorscale\": [[0.0, \"#0d0887\"], [0.1111111111111111, \"#46039f\"], [0.2222222222222222, \"#7201a8\"], [0.3333333333333333, \"#9c179e\"], [0.4444444444444444, \"#bd3786\"], [0.5555555555555556, \"#d8576b\"], [0.6666666666666666, \"#ed7953\"], [0.7777777777777778, \"#fb9f3a\"], [0.8888888888888888, \"#fdca26\"], [1.0, \"#f0f921\"]], \"type\": \"histogram2dcontour\"}], \"mesh3d\": [{\"colorbar\": {\"outlinewidth\": 0, \"ticks\": \"\"}, \"type\": \"mesh3d\"}], \"parcoords\": [{\"line\": {\"colorbar\": {\"outlinewidth\": 0, \"ticks\": \"\"}}, \"type\": \"parcoords\"}], \"pie\": [{\"automargin\": true, \"type\": \"pie\"}], \"scatter\": [{\"marker\": {\"colorbar\": {\"outlinewidth\": 0, \"ticks\": \"\"}}, \"type\": \"scatter\"}], \"scatter3d\": [{\"line\": {\"colorbar\": {\"outlinewidth\": 0, \"ticks\": \"\"}}, \"marker\": {\"colorbar\": {\"outlinewidth\": 0, \"ticks\": \"\"}}, \"type\": \"scatter3d\"}], \"scattercarpet\": [{\"marker\": {\"colorbar\": {\"outlinewidth\": 0, \"ticks\": \"\"}}, \"type\": \"scattercarpet\"}], \"scattergeo\": [{\"marker\": {\"colorbar\": {\"outlinewidth\": 0, \"ticks\": \"\"}}, \"type\": \"scattergeo\"}], \"scattergl\": [{\"marker\": {\"colorbar\": {\"outlinewidth\": 0, \"ticks\": \"\"}}, \"type\": \"scattergl\"}], \"scattermapbox\": [{\"marker\": {\"colorbar\": {\"outlinewidth\": 0, \"ticks\": \"\"}}, \"type\": \"scattermapbox\"}], \"scatterpolar\": [{\"marker\": {\"colorbar\": {\"outlinewidth\": 0, \"ticks\": \"\"}}, \"type\": \"scatterpolar\"}], \"scatterpolargl\": [{\"marker\": {\"colorbar\": {\"outlinewidth\": 0, \"ticks\": \"\"}}, \"type\": \"scatterpolargl\"}], \"scatterternary\": [{\"marker\": {\"colorbar\": {\"outlinewidth\": 0, \"ticks\": \"\"}}, \"type\": \"scatterternary\"}], \"surface\": [{\"colorbar\": {\"outlinewidth\": 0, \"ticks\": \"\"}, \"colorscale\": [[0.0, \"#0d0887\"], [0.1111111111111111, \"#46039f\"], [0.2222222222222222, \"#7201a8\"], [0.3333333333333333, \"#9c179e\"], [0.4444444444444444, \"#bd3786\"], [0.5555555555555556, \"#d8576b\"], [0.6666666666666666, \"#ed7953\"], [0.7777777777777778, \"#fb9f3a\"], [0.8888888888888888, \"#fdca26\"], [1.0, \"#f0f921\"]], \"type\": \"surface\"}], \"table\": [{\"cells\": {\"fill\": {\"color\": \"#EBF0F8\"}, \"line\": {\"color\": \"white\"}}, \"header\": {\"fill\": {\"color\": \"#C8D4E3\"}, \"line\": {\"color\": \"white\"}}, \"type\": \"table\"}]}, \"layout\": {\"annotationdefaults\": {\"arrowcolor\": \"#2a3f5f\", \"arrowhead\": 0, \"arrowwidth\": 1}, \"coloraxis\": {\"colorbar\": {\"outlinewidth\": 0, \"ticks\": \"\"}}, \"colorscale\": {\"diverging\": [[0, \"#8e0152\"], [0.1, \"#c51b7d\"], [0.2, \"#de77ae\"], [0.3, \"#f1b6da\"], [0.4, \"#fde0ef\"], [0.5, \"#f7f7f7\"], [0.6, \"#e6f5d0\"], [0.7, \"#b8e186\"], [0.8, \"#7fbc41\"], [0.9, \"#4d9221\"], [1, \"#276419\"]], \"sequential\": [[0.0, \"#0d0887\"], [0.1111111111111111, \"#46039f\"], [0.2222222222222222, \"#7201a8\"], [0.3333333333333333, \"#9c179e\"], [0.4444444444444444, \"#bd3786\"], [0.5555555555555556, \"#d8576b\"], [0.6666666666666666, \"#ed7953\"], [0.7777777777777778, \"#fb9f3a\"], [0.8888888888888888, \"#fdca26\"], [1.0, \"#f0f921\"]], \"sequentialminus\": [[0.0, \"#0d0887\"], [0.1111111111111111, \"#46039f\"], [0.2222222222222222, \"#7201a8\"], [0.3333333333333333, \"#9c179e\"], [0.4444444444444444, \"#bd3786\"], [0.5555555555555556, \"#d8576b\"], [0.6666666666666666, \"#ed7953\"], [0.7777777777777778, \"#fb9f3a\"], [0.8888888888888888, \"#fdca26\"], [1.0, \"#f0f921\"]]}, \"colorway\": [\"#636efa\", \"#EF553B\", \"#00cc96\", \"#ab63fa\", \"#FFA15A\", \"#19d3f3\", \"#FF6692\", \"#B6E880\", \"#FF97FF\", \"#FECB52\"], \"font\": {\"color\": \"#2a3f5f\"}, \"geo\": {\"bgcolor\": \"white\", \"lakecolor\": \"white\", \"landcolor\": \"#E5ECF6\", \"showlakes\": true, \"showland\": true, \"subunitcolor\": \"white\"}, \"hoverlabel\": {\"align\": \"left\"}, \"hovermode\": \"closest\", \"mapbox\": {\"style\": \"light\"}, \"paper_bgcolor\": \"white\", \"plot_bgcolor\": \"#E5ECF6\", \"polar\": {\"angularaxis\": {\"gridcolor\": \"white\", \"linecolor\": \"white\", \"ticks\": \"\"}, \"bgcolor\": \"#E5ECF6\", \"radialaxis\": {\"gridcolor\": \"white\", \"linecolor\": \"white\", \"ticks\": \"\"}}, \"scene\": {\"xaxis\": {\"backgroundcolor\": \"#E5ECF6\", \"gridcolor\": \"white\", \"gridwidth\": 2, \"linecolor\": \"white\", \"showbackground\": true, \"ticks\": \"\", \"zerolinecolor\": \"white\"}, \"yaxis\": {\"backgroundcolor\": \"#E5ECF6\", \"gridcolor\": \"white\", \"gridwidth\": 2, \"linecolor\": \"white\", \"showbackground\": true, \"ticks\": \"\", \"zerolinecolor\": \"white\"}, \"zaxis\": {\"backgroundcolor\": \"#E5ECF6\", \"gridcolor\": \"white\", \"gridwidth\": 2, \"linecolor\": \"white\", \"showbackground\": true, \"ticks\": \"\", \"zerolinecolor\": \"white\"}}, \"shapedefaults\": {\"line\": {\"color\": \"#2a3f5f\"}}, \"ternary\": {\"aaxis\": {\"gridcolor\": \"white\", \"linecolor\": \"white\", \"ticks\": \"\"}, \"baxis\": {\"gridcolor\": \"white\", \"linecolor\": \"white\", \"ticks\": \"\"}, \"bgcolor\": \"#E5ECF6\", \"caxis\": {\"gridcolor\": \"white\", \"linecolor\": \"white\", \"ticks\": \"\"}}, \"title\": {\"x\": 0.05}, \"xaxis\": {\"automargin\": true, \"gridcolor\": \"white\", \"linecolor\": \"white\", \"ticks\": \"\", \"title\": {\"standoff\": 15}, \"zerolinecolor\": \"white\", \"zerolinewidth\": 2}, \"yaxis\": {\"automargin\": true, \"gridcolor\": \"white\", \"linecolor\": \"white\", \"ticks\": \"\", \"title\": {\"standoff\": 15}, \"zerolinecolor\": \"white\", \"zerolinewidth\": 2}}}, \"title\": {\"text\": \"R^2 score for standardized data\"}, \"updatemenus\": [{\"buttons\": [{\"args\": [{\"visible\": [false, true]}, {\"title\": \"R^2 score for standardized data\"}], \"label\": \"Standardized\", \"method\": \"update\"}, {\"args\": [{\"visible\": [true, false]}, {\"title\": \"R^2 score for non-standardized data\"}], \"label\": \"Non standardized\", \"method\": \"update\"}], \"direction\": \"down\", \"pad\": {\"r\": 10, \"t\": 10}, \"showactive\": true, \"x\": 0.01, \"xanchor\": \"left\", \"y\": 1.15, \"yanchor\": \"top\"}]},                        {\"responsive\": true}                    ).then(function(){\n",
       "                            \n",
       "var gd = document.getElementById('402cc496-773a-4ad8-93da-5d6e237cc29d');\n",
       "var x = new MutationObserver(function (mutations, observer) {{\n",
       "        var display = window.getComputedStyle(gd).display;\n",
       "        if (!display || display === 'none') {{\n",
       "            console.log([gd, 'removed!']);\n",
       "            Plotly.purge(gd);\n",
       "            observer.disconnect();\n",
       "        }}\n",
       "}});\n",
       "\n",
       "// Listen for the removal of the full notebook cells\n",
       "var notebookContainer = gd.closest('#notebook-container');\n",
       "if (notebookContainer) {{\n",
       "    x.observe(notebookContainer, {childList: true});\n",
       "}}\n",
       "\n",
       "// Listen for the clearing of the current output cell\n",
       "var outputEl = gd.closest('.output');\n",
       "if (outputEl) {{\n",
       "    x.observe(outputEl, {childList: true});\n",
       "}}\n",
       "\n",
       "                        })                };                });            </script>        </div>"
      ]
     },
     "metadata": {},
     "output_type": "display_data"
    }
   ],
   "source": [
    "fig = go.Figure()\n",
    "\n",
    "fig.add_trace(go.Heatmap(   x = df_results.columns,\n",
    "                            y = df_results.index,\n",
    "                            z = df_results.values,\n",
    "                            name = 'Non standardized',\n",
    "                            zmin= -0.5,\n",
    "                            zmax = 0.3))\n",
    "\n",
    "fig.add_trace(go.Heatmap(   x = df_results_standardized.columns,\n",
    "                            y = df_results_standardized.index,\n",
    "                            z = df_results_standardized.values,\n",
    "                            name = 'Standardized',\n",
    "                            zmin= -0.5,\n",
    "                            zmax = 0.3))\n",
    "\n",
    "fig.update_layout(\n",
    "    updatemenus=[\n",
    "        dict(\n",
    "            buttons=list([\n",
    "                dict(\n",
    "                    method=\"update\",\n",
    "                    args=[{\"visible\": [False, True]},\n",
    "                           {\"title\": \"R^2 score for standardized data\"}],\n",
    "                    label=\"Standardized\"\n",
    "                    \n",
    "                ),\n",
    "                dict(\n",
    "                    method=\"update\",\n",
    "                    args=[{\"visible\": [True, False]},\n",
    "                           {\"title\": \"R^2 score for non-standardized data\"}],\n",
    "                    label=\"Non standardized\"\n",
    "                    \n",
    "                )\n",
    "            ]),\n",
    "            direction=\"down\",\n",
    "            pad={\"r\": 10, \"t\": 10},\n",
    "            showactive=True,\n",
    "            x=0.01,\n",
    "            xanchor=\"left\",\n",
    "            y=1.15,\n",
    "            yanchor=\"top\"\n",
    "        ),\n",
    "    ]\n",
    ")\n",
    "fig.layout.title = \"R^2 score for standardized data\"\n",
    "fig.write_html('../figures/first_try.html')\n",
    "fig.show(auto_open=False)"
   ]
  },
  {
   "cell_type": "code",
   "execution_count": 48,
   "metadata": {},
   "outputs": [
    {
     "data": {
      "text/plain": [
       "[[-0.022199437749296447,\n",
       "  -0.0264670635333224,\n",
       "  -0.034406307664268665,\n",
       "  0.011069128859605315,\n",
       "  -0.018784361808926953,\n",
       "  0.02706159555276666,\n",
       "  -0.03653583372457492,\n",
       "  0.016777824438585554,\n",
       "  -0.06913102345134226,\n",
       "  0.03500464171573814,\n",
       "  -0.03255175756165318,\n",
       "  -0.036927032685725614,\n",
       "  0.14173983679275526,\n",
       "  0.0005345458616597965,\n",
       "  -0.003437953315690745,\n",
       "  -0.010345959428356588,\n",
       "  -0.02760190761860426,\n",
       "  -0.019368857090527936,\n",
       "  -0.015174665149407796,\n",
       "  -0.0035889554519648037,\n",
       "  -0.03245338791203212,\n",
       "  0.003810099818126078,\n",
       "  -0.025838407914875683,\n",
       "  -0.014656201635904198,\n",
       "  -0.031448898780124024,\n",
       "  -0.007149837532731684,\n",
       "  -0.011821940243438744,\n",
       "  0.0023796652236602878,\n",
       "  0.010860178854721014,\n",
       "  -0.029945417724537737,\n",
       "  -0.018607167583303497,\n",
       "  -0.022196727904225222,\n",
       "  0.08020134574523785,\n",
       "  0.05915381551973431,\n",
       "  0.040029314396398896,\n",
       "  0.02948096608676054,\n",
       "  0.033815442690499076,\n",
       "  0.013430123478923695,\n",
       "  0.0047102488203693005,\n",
       "  -0.01614961289100414,\n",
       "  0.0012673284669452167,\n",
       "  -0.0007153266047008611,\n",
       "  0.08518850461911376,\n",
       "  -0.0005455447757374277,\n",
       "  0.036311153039365274,\n",
       "  0.0058985650230469755,\n",
       "  -0.01805200669050855,\n",
       "  0.007389197324414454,\n",
       "  0.013032576986949818,\n",
       "  0.0015537246589218956],\n",
       " [-0.0016822262914830688,\n",
       "  0.004944183588468931,\n",
       "  0.0033868715352431966,\n",
       "  -0.0010726081627681072,\n",
       "  -0.0018742655858796642,\n",
       "  0.0028768498151737765,\n",
       "  -0.008847043455284753,\n",
       "  0.006342451028553464,\n",
       "  -0.0024945973467513927,\n",
       "  0.017260076498757826,\n",
       "  0.003318091587346861,\n",
       "  1.2370525027005641e-05,\n",
       "  0.03270181793496274,\n",
       "  -0.001510714564558091,\n",
       "  -0.002463387349333601,\n",
       "  -0.008879560688358046,\n",
       "  -0.0015476412270944984,\n",
       "  -0.001970440604509127,\n",
       "  0.003944016179276089,\n",
       "  -0.004235251382375793,\n",
       "  -0.01456369428158033,\n",
       "  0.002847061709319476,\n",
       "  -0.005291134074234316,\n",
       "  -0.0001129480473838207,\n",
       "  -0.0014672242963249538,\n",
       "  0.004383934970242809,\n",
       "  0.004651329624420164,\n",
       "  -0.0015488575541482419,\n",
       "  -0.0005757132625938688,\n",
       "  -0.003275787987763623,\n",
       "  -0.009982393360419728,\n",
       "  -0.0025438803514712394,\n",
       "  -0.00012511085455724213,\n",
       "  0.00047828451748521683,\n",
       "  -0.00047448303068531317,\n",
       "  0.000848845884722782,\n",
       "  -0.002918929567318207,\n",
       "  0.0039017148993417683,\n",
       "  -0.00038753600437368974,\n",
       "  -0.003661707295824268,\n",
       "  -9.280069948469638e-05,\n",
       "  0.004621086092966409,\n",
       "  0.016988848232806997,\n",
       "  0.0016862615061057351,\n",
       "  0.004756511831397359,\n",
       "  -0.003024918002577648,\n",
       "  -0.007420726607554329,\n",
       "  -8.128593221257141e-05,\n",
       "  0.012546970932718837,\n",
       "  0.004927156664914167],\n",
       " [-0.013934520721023524,\n",
       "  -0.019097840811228783,\n",
       "  -0.025813223305061417,\n",
       "  0.012101627683890559,\n",
       "  -0.006641448031798447,\n",
       "  0.028828611954327954,\n",
       "  -0.027898038924544455,\n",
       "  0.02172093078962356,\n",
       "  -0.05210553863298051,\n",
       "  0.04801064727683679,\n",
       "  -0.017471526743682464,\n",
       "  -0.02482298863471466,\n",
       "  0.15887544486656968,\n",
       "  -0.0006082803797138325,\n",
       "  -0.0027575658772533984,\n",
       "  -0.005868343440305068,\n",
       "  -0.01782147890451191,\n",
       "  -0.012552586570549806,\n",
       "  -0.00721117938659277,\n",
       "  -0.004284071854112614,\n",
       "  -0.01433078875470506,\n",
       "  0.006043507274753446,\n",
       "  -0.007449073676117912,\n",
       "  -0.009679120358672577,\n",
       "  -0.01672623605671486,\n",
       "  0.006137562942606256,\n",
       "  -0.009263644619674771,\n",
       "  0.0035730796822331934,\n",
       "  0.007064753089132014,\n",
       "  -0.019010914173089866,\n",
       "  -0.01355913801064168,\n",
       "  -0.008849183161717233,\n",
       "  0.07645084396908908,\n",
       "  0.058512911531390044,\n",
       "  0.034727426975049824,\n",
       "  0.02061230756224075,\n",
       "  0.034698186397947084,\n",
       "  0.017560286485054477,\n",
       "  0.005583605780753675,\n",
       "  -0.010334343102128551,\n",
       "  0.004627825520125528,\n",
       "  0.002433582812853663,\n",
       "  0.10534059810220409,\n",
       "  0.009968678017078014,\n",
       "  0.034753082899143584,\n",
       "  0.008521866302702685,\n",
       "  -0.013235353379402737,\n",
       "  0.016087871137031917,\n",
       "  0.009910735522331793,\n",
       "  0.005692180734528041],\n",
       " [-0.01765119321133235,\n",
       "  -0.04176854737273006,\n",
       "  -0.019665348752735623,\n",
       "  -0.024998509354629883,\n",
       "  -0.03238470852191622,\n",
       "  0.004966977332522715,\n",
       "  -0.5452351189341607,\n",
       "  -0.25671456867495523,\n",
       "  -1.2526230480131408,\n",
       "  -0.10860897650257373,\n",
       "  -0.3083136610898063,\n",
       "  -0.053787933187710246,\n",
       "  -0.04071446592527872,\n",
       "  -0.15973637981572164,\n",
       "  -0.006291225067974082,\n",
       "  -0.028664656909794584,\n",
       "  -0.002787602006055101,\n",
       "  3.13318692389819e-05,\n",
       "  -0.042499700223040504,\n",
       "  -0.014455519101020275,\n",
       "  -0.15106163512054516,\n",
       "  -0.009568168507650299,\n",
       "  -0.21713139963843253,\n",
       "  -0.12193489930695489,\n",
       "  -0.013670065480879678,\n",
       "  -0.04510923239191156,\n",
       "  -1.3780071021286124,\n",
       "  -0.06531406273689977,\n",
       "  -0.008977982271900053,\n",
       "  -0.02891595587032847,\n",
       "  -1.4694726690733213,\n",
       "  -0.9770434161667036,\n",
       "  -0.052830986259360335,\n",
       "  -0.05900544495250548,\n",
       "  -0.05070222608444208,\n",
       "  -0.004095396770590343,\n",
       "  -0.09467530651267997,\n",
       "  -0.28289527385618585,\n",
       "  -0.2527994975587924,\n",
       "  -0.22880881418214938,\n",
       "  0.0008404059070756809,\n",
       "  -0.0022982148725669838,\n",
       "  -0.16917201497650836,\n",
       "  -0.0035005002423993403,\n",
       "  -0.03854927007299258,\n",
       "  -0.03653482678951625,\n",
       "  -0.0005633647309772893,\n",
       "  -0.20388360633258729,\n",
       "  0.014110038694532423,\n",
       "  0.013741711866258166],\n",
       " [-0.1499926521324373,\n",
       "  -0.044601701204830535,\n",
       "  -0.07294585701594491,\n",
       "  -0.07077030153797836,\n",
       "  -0.07026999218503116,\n",
       "  -0.03524551636973072,\n",
       "  -0.15901912985539157,\n",
       "  -0.023368109339115817,\n",
       "  -0.2282334877208918,\n",
       "  0.004045133025034731,\n",
       "  -0.12399530410067139,\n",
       "  -0.10960851130065441,\n",
       "  0.2640896156684882,\n",
       "  -0.026680523430295366,\n",
       "  -0.012981318399700292,\n",
       "  -0.07870069445307282,\n",
       "  -0.1054499239988802,\n",
       "  -0.0599788099261902,\n",
       "  -0.09704500894335966,\n",
       "  -0.02489171984594374,\n",
       "  -0.08427916068446728,\n",
       "  -0.04135789129603107,\n",
       "  -0.07807671539754435,\n",
       "  -0.12320111249147714,\n",
       "  -0.08830936874002115,\n",
       "  -0.07482625841084056,\n",
       "  -0.06820402697590033,\n",
       "  -0.08960228663947722,\n",
       "  -0.07221391147350587,\n",
       "  -0.19137420937245242,\n",
       "  -0.06464463443236923,\n",
       "  -0.039335472005242345,\n",
       "  0.11184435840412621,\n",
       "  0.02254871295683525,\n",
       "  0.0920356260976789,\n",
       "  0.016651409279804463,\n",
       "  0.00920860525616074,\n",
       "  -0.05053283992341995,\n",
       "  -0.15015591877638368,\n",
       "  -0.09335891541960128,\n",
       "  0.001464079027289733,\n",
       "  -0.10398936639237388,\n",
       "  0.1623093498910575,\n",
       "  -0.030566702629670095,\n",
       "  0.03110342770541452,\n",
       "  -0.019474516800682906,\n",
       "  -0.07321687795596876,\n",
       "  0.012577412388650622,\n",
       "  -0.08719144333006446,\n",
       "  0.008949799018850513],\n",
       " [-0.10798423914243549,\n",
       "  -0.023241911647459368,\n",
       "  -0.045422640230796896,\n",
       "  -0.04982385177231041,\n",
       "  -0.046785051684630874,\n",
       "  -0.004880144181185431,\n",
       "  -0.13719941609662079,\n",
       "  0.004358040388120599,\n",
       "  -0.22536459568913525,\n",
       "  0.02594160582359295,\n",
       "  -0.08801696448775687,\n",
       "  -0.0785408323635095,\n",
       "  0.2718091875112011,\n",
       "  0.005755498183162011,\n",
       "  -0.012583610220491037,\n",
       "  -0.046638604090831315,\n",
       "  -0.06301255010079032,\n",
       "  -0.04713329672323163,\n",
       "  -0.05399089703790927,\n",
       "  -0.02289629630892631,\n",
       "  -0.06542060391587068,\n",
       "  -0.03339951048916823,\n",
       "  -0.0713061609927228,\n",
       "  -0.08862048179759285,\n",
       "  -0.061958642997165025,\n",
       "  -0.04379077666188702,\n",
       "  -0.04106161609809056,\n",
       "  -0.06257188274397807,\n",
       "  -0.054586328739228085,\n",
       "  -0.15806292500681485,\n",
       "  -0.04744035175482786,\n",
       "  -0.03786500100492396,\n",
       "  0.12775149054900758,\n",
       "  0.03988592530704438,\n",
       "  0.0992408249499529,\n",
       "  0.02835331880518399,\n",
       "  0.030000124741175638,\n",
       "  -0.02827137098962451,\n",
       "  -0.10140595733101399,\n",
       "  -0.06585524639644769,\n",
       "  0.007555092607820391,\n",
       "  -0.0679531174056287,\n",
       "  0.17736106222290582,\n",
       "  -0.016568856913076635,\n",
       "  0.045400476763512665,\n",
       "  0.01198665243294883,\n",
       "  -0.03228684633458001,\n",
       "  0.036306668401944076,\n",
       "  -0.07740788476114946,\n",
       "  0.03919540763276985]]"
      ]
     },
     "execution_count": 48,
     "metadata": {},
     "output_type": "execute_result"
    }
   ],
   "source": [
    "df_results.values.tolist()"
   ]
  },
  {
   "cell_type": "code",
   "execution_count": 11,
   "metadata": {},
   "outputs": [],
   "source": [
    "selected_features = df_results.transpose()['GradientBoostingRegressor'].sort_values(ascending=False).iloc[:5].index"
   ]
  },
  {
   "cell_type": "code",
   "execution_count": 12,
   "metadata": {},
   "outputs": [
    {
     "data": {
      "text/plain": [
       "Index(['S_garbage', 'S_instcement', 'S_shcementfloor', 'S_cementfloordin',\n",
       "       'S_restsanita'],\n",
       "      dtype='object')"
      ]
     },
     "execution_count": 12,
     "metadata": {},
     "output_type": "execute_result"
    }
   ],
   "source": [
    "selected_features"
   ]
  },
  {
   "cell_type": "markdown",
   "metadata": {},
   "source": [
    "## Functions"
   ]
  },
  {
   "cell_type": "code",
   "execution_count": 13,
   "metadata": {},
   "outputs": [],
   "source": [
    "def plot_feature_importance(df_survey_train, df_census_train, model, survey_targets):\n",
    "    fig = go.Figure()\n",
    "    for target in survey_targets:\n",
    "        model.fit(df_census_train, df_survey_train[target])\n",
    "        feature_importances = model.feature_importances_\n",
    "        df_feature_importances = pd.DataFrame(feature_importances, index=df_census_train.columns, columns=['Feature importance']).sort_values('Feature importance', ascending=False)\n",
    "        fig.add_trace(go.Bar(x = df_feature_importances.index, y=df_feature_importances['Feature importance']))\n",
    "    fig.show()"
   ]
  },
  {
   "cell_type": "markdown",
   "metadata": {},
   "source": [
    "### S_garbage\n",
    "Def: Uses garbage collection service"
   ]
  },
  {
   "cell_type": "code",
   "execution_count": 14,
   "metadata": {},
   "outputs": [
    {
     "data": {
      "text/plain": [
       "1.0    1617\n",
       "0.0     336\n",
       "Name: S_garbage, dtype: int64"
      ]
     },
     "execution_count": 14,
     "metadata": {},
     "output_type": "execute_result"
    }
   ],
   "source": [
    "df_hh['S_garbage'].value_counts()"
   ]
  },
  {
   "cell_type": "markdown",
   "metadata": {},
   "source": [
    "This is a binary value, which tells us if we use garbage collection. In this case, we can use a classification algorithm and see how easily we can predict this value."
   ]
  },
  {
   "cell_type": "code",
   "execution_count": 15,
   "metadata": {},
   "outputs": [
    {
     "name": "stdout",
     "output_type": "stream",
     "text": [
      "The Area Under ROC curve is 0.8095112089586993\n"
     ]
    },
    {
     "data": {
      "application/vnd.plotly.v1+json": {
       "config": {
        "plotlyServerURL": "https://plot.ly"
       },
       "data": [
        {
         "hovertemplate": "False positive rate=%{x}<br>True positive rate=%{y}<extra></extra>",
         "legendgroup": "",
         "line": {
          "color": "#636efa",
          "dash": "solid"
         },
         "mode": "lines",
         "name": "",
         "orientation": "v",
         "showlegend": false,
         "type": "scatter",
         "x": [
          0,
          0,
          0,
          0,
          0,
          0,
          0.010309278350515464,
          0.010309278350515464,
          0.010309278350515464,
          0.020618556701030927,
          0.020618556701030927,
          0.020618556701030927,
          0.030927835051546393,
          0.030927835051546393,
          0.030927835051546393,
          0.030927835051546393,
          0.030927835051546393,
          0.030927835051546393,
          0.041237113402061855,
          0.041237113402061855,
          0.041237113402061855,
          0.041237113402061855,
          0.05154639175257732,
          0.05154639175257732,
          0.05154639175257732,
          0.061855670103092786,
          0.061855670103092786,
          0.061855670103092786,
          0.061855670103092786,
          0.07216494845360824,
          0.07216494845360824,
          0.07216494845360824,
          0.07216494845360824,
          0.08247422680412371,
          0.08247422680412371,
          0.08247422680412371,
          0.08247422680412371,
          0.08247422680412371,
          0.08247422680412371,
          0.08247422680412371,
          0.08247422680412371,
          0.09278350515463918,
          0.09278350515463918,
          0.09278350515463918,
          0.10309278350515463,
          0.10309278350515463,
          0.12371134020618557,
          0.13402061855670103,
          0.13402061855670103,
          0.13402061855670103,
          0.13402061855670103,
          0.13402061855670103,
          0.13402061855670103,
          0.15463917525773196,
          0.1958762886597938,
          0.21649484536082475,
          0.21649484536082475,
          0.24742268041237114,
          0.26804123711340205,
          0.27835051546391754,
          0.27835051546391754,
          0.28865979381443296,
          0.31958762886597936,
          0.31958762886597936,
          0.3402061855670103,
          0.3402061855670103,
          0.35051546391752575,
          0.3711340206185567,
          0.3917525773195876,
          0.3917525773195876,
          0.41237113402061853,
          0.41237113402061853,
          0.41237113402061853,
          0.422680412371134,
          0.4845360824742268,
          0.4948453608247423,
          0.5257731958762887,
          0.5463917525773195,
          0.5670103092783505,
          0.6082474226804123,
          0.6185567010309279,
          0.6185567010309279,
          0.6185567010309279,
          0.6494845360824743,
          0.6907216494845361,
          0.7422680412371134,
          0.7835051546391752,
          0.8556701030927835,
          0.865979381443299,
          0.8969072164948454,
          0.9072164948453608,
          0.9278350515463918,
          0.9484536082474226,
          0.9896907216494846,
          1
         ],
         "xaxis": "x",
         "y": [
          0,
          0.004106776180698152,
          0.008213552361396304,
          0.014373716632443531,
          0.018480492813141684,
          0.055441478439425054,
          0.057494866529774126,
          0.061601642710472276,
          0.06981519507186858,
          0.07597535934291581,
          0.08213552361396304,
          0.11088295687885011,
          0.1293634496919918,
          0.1457905544147844,
          0.1540041067761807,
          0.15605749486652978,
          0.16427104722792607,
          0.188911704312115,
          0.2032854209445585,
          0.21149897330595482,
          0.2135523613963039,
          0.2299794661190965,
          0.23203285420944558,
          0.23408624229979466,
          0.28952772073921973,
          0.28952772073921973,
          0.2936344969199179,
          0.3080082135523614,
          0.3162217659137577,
          0.38193018480492813,
          0.4004106776180698,
          0.4127310061601643,
          0.41478439425051333,
          0.41683778234086244,
          0.42299794661190965,
          0.43737166324435317,
          0.4414784394250513,
          0.4948665297741273,
          0.5030800821355236,
          0.5112936344969199,
          0.5174537987679672,
          0.5318275154004107,
          0.5338809034907598,
          0.5379876796714579,
          0.5646817248459959,
          0.5667351129363449,
          0.5934291581108829,
          0.5934291581108829,
          0.6016427104722792,
          0.6078028747433265,
          0.6160164271047228,
          0.6180698151950719,
          0.6283367556468172,
          0.6303901437371663,
          0.6611909650924025,
          0.6817248459958932,
          0.6899383983572895,
          0.6940451745379876,
          0.6981519507186859,
          0.7063655030800822,
          0.7104722792607803,
          0.7125256673511293,
          0.7248459958932238,
          0.757700205338809,
          0.7987679671457906,
          0.8090349075975359,
          0.8172484599589322,
          0.8275154004106776,
          0.8357289527720739,
          0.837782340862423,
          0.8418891170431212,
          0.8603696098562629,
          0.8706365503080082,
          0.8767967145790554,
          0.8952772073921971,
          0.8973305954825462,
          0.9014373716632443,
          0.9137577002053389,
          0.9240246406570842,
          0.9363449691991786,
          0.9383983572895277,
          0.9404517453798767,
          0.944558521560575,
          0.9507186858316222,
          0.9630390143737166,
          0.971252566735113,
          0.9794661190965093,
          0.9897330595482546,
          0.997946611909651,
          0.997946611909651,
          1,
          1,
          1,
          1,
          1
         ],
         "yaxis": "y"
        }
       ],
       "layout": {
        "height": 600,
        "legend": {
         "tracegroupgap": 0
        },
        "template": {
         "data": {
          "bar": [
           {
            "error_x": {
             "color": "#2a3f5f"
            },
            "error_y": {
             "color": "#2a3f5f"
            },
            "marker": {
             "line": {
              "color": "#E5ECF6",
              "width": 0.5
             }
            },
            "type": "bar"
           }
          ],
          "barpolar": [
           {
            "marker": {
             "line": {
              "color": "#E5ECF6",
              "width": 0.5
             }
            },
            "type": "barpolar"
           }
          ],
          "carpet": [
           {
            "aaxis": {
             "endlinecolor": "#2a3f5f",
             "gridcolor": "white",
             "linecolor": "white",
             "minorgridcolor": "white",
             "startlinecolor": "#2a3f5f"
            },
            "baxis": {
             "endlinecolor": "#2a3f5f",
             "gridcolor": "white",
             "linecolor": "white",
             "minorgridcolor": "white",
             "startlinecolor": "#2a3f5f"
            },
            "type": "carpet"
           }
          ],
          "choropleth": [
           {
            "colorbar": {
             "outlinewidth": 0,
             "ticks": ""
            },
            "type": "choropleth"
           }
          ],
          "contour": [
           {
            "colorbar": {
             "outlinewidth": 0,
             "ticks": ""
            },
            "colorscale": [
             [
              0,
              "#0d0887"
             ],
             [
              0.1111111111111111,
              "#46039f"
             ],
             [
              0.2222222222222222,
              "#7201a8"
             ],
             [
              0.3333333333333333,
              "#9c179e"
             ],
             [
              0.4444444444444444,
              "#bd3786"
             ],
             [
              0.5555555555555556,
              "#d8576b"
             ],
             [
              0.6666666666666666,
              "#ed7953"
             ],
             [
              0.7777777777777778,
              "#fb9f3a"
             ],
             [
              0.8888888888888888,
              "#fdca26"
             ],
             [
              1,
              "#f0f921"
             ]
            ],
            "type": "contour"
           }
          ],
          "contourcarpet": [
           {
            "colorbar": {
             "outlinewidth": 0,
             "ticks": ""
            },
            "type": "contourcarpet"
           }
          ],
          "heatmap": [
           {
            "colorbar": {
             "outlinewidth": 0,
             "ticks": ""
            },
            "colorscale": [
             [
              0,
              "#0d0887"
             ],
             [
              0.1111111111111111,
              "#46039f"
             ],
             [
              0.2222222222222222,
              "#7201a8"
             ],
             [
              0.3333333333333333,
              "#9c179e"
             ],
             [
              0.4444444444444444,
              "#bd3786"
             ],
             [
              0.5555555555555556,
              "#d8576b"
             ],
             [
              0.6666666666666666,
              "#ed7953"
             ],
             [
              0.7777777777777778,
              "#fb9f3a"
             ],
             [
              0.8888888888888888,
              "#fdca26"
             ],
             [
              1,
              "#f0f921"
             ]
            ],
            "type": "heatmap"
           }
          ],
          "heatmapgl": [
           {
            "colorbar": {
             "outlinewidth": 0,
             "ticks": ""
            },
            "colorscale": [
             [
              0,
              "#0d0887"
             ],
             [
              0.1111111111111111,
              "#46039f"
             ],
             [
              0.2222222222222222,
              "#7201a8"
             ],
             [
              0.3333333333333333,
              "#9c179e"
             ],
             [
              0.4444444444444444,
              "#bd3786"
             ],
             [
              0.5555555555555556,
              "#d8576b"
             ],
             [
              0.6666666666666666,
              "#ed7953"
             ],
             [
              0.7777777777777778,
              "#fb9f3a"
             ],
             [
              0.8888888888888888,
              "#fdca26"
             ],
             [
              1,
              "#f0f921"
             ]
            ],
            "type": "heatmapgl"
           }
          ],
          "histogram": [
           {
            "marker": {
             "colorbar": {
              "outlinewidth": 0,
              "ticks": ""
             }
            },
            "type": "histogram"
           }
          ],
          "histogram2d": [
           {
            "colorbar": {
             "outlinewidth": 0,
             "ticks": ""
            },
            "colorscale": [
             [
              0,
              "#0d0887"
             ],
             [
              0.1111111111111111,
              "#46039f"
             ],
             [
              0.2222222222222222,
              "#7201a8"
             ],
             [
              0.3333333333333333,
              "#9c179e"
             ],
             [
              0.4444444444444444,
              "#bd3786"
             ],
             [
              0.5555555555555556,
              "#d8576b"
             ],
             [
              0.6666666666666666,
              "#ed7953"
             ],
             [
              0.7777777777777778,
              "#fb9f3a"
             ],
             [
              0.8888888888888888,
              "#fdca26"
             ],
             [
              1,
              "#f0f921"
             ]
            ],
            "type": "histogram2d"
           }
          ],
          "histogram2dcontour": [
           {
            "colorbar": {
             "outlinewidth": 0,
             "ticks": ""
            },
            "colorscale": [
             [
              0,
              "#0d0887"
             ],
             [
              0.1111111111111111,
              "#46039f"
             ],
             [
              0.2222222222222222,
              "#7201a8"
             ],
             [
              0.3333333333333333,
              "#9c179e"
             ],
             [
              0.4444444444444444,
              "#bd3786"
             ],
             [
              0.5555555555555556,
              "#d8576b"
             ],
             [
              0.6666666666666666,
              "#ed7953"
             ],
             [
              0.7777777777777778,
              "#fb9f3a"
             ],
             [
              0.8888888888888888,
              "#fdca26"
             ],
             [
              1,
              "#f0f921"
             ]
            ],
            "type": "histogram2dcontour"
           }
          ],
          "mesh3d": [
           {
            "colorbar": {
             "outlinewidth": 0,
             "ticks": ""
            },
            "type": "mesh3d"
           }
          ],
          "parcoords": [
           {
            "line": {
             "colorbar": {
              "outlinewidth": 0,
              "ticks": ""
             }
            },
            "type": "parcoords"
           }
          ],
          "pie": [
           {
            "automargin": true,
            "type": "pie"
           }
          ],
          "scatter": [
           {
            "marker": {
             "colorbar": {
              "outlinewidth": 0,
              "ticks": ""
             }
            },
            "type": "scatter"
           }
          ],
          "scatter3d": [
           {
            "line": {
             "colorbar": {
              "outlinewidth": 0,
              "ticks": ""
             }
            },
            "marker": {
             "colorbar": {
              "outlinewidth": 0,
              "ticks": ""
             }
            },
            "type": "scatter3d"
           }
          ],
          "scattercarpet": [
           {
            "marker": {
             "colorbar": {
              "outlinewidth": 0,
              "ticks": ""
             }
            },
            "type": "scattercarpet"
           }
          ],
          "scattergeo": [
           {
            "marker": {
             "colorbar": {
              "outlinewidth": 0,
              "ticks": ""
             }
            },
            "type": "scattergeo"
           }
          ],
          "scattergl": [
           {
            "marker": {
             "colorbar": {
              "outlinewidth": 0,
              "ticks": ""
             }
            },
            "type": "scattergl"
           }
          ],
          "scattermapbox": [
           {
            "marker": {
             "colorbar": {
              "outlinewidth": 0,
              "ticks": ""
             }
            },
            "type": "scattermapbox"
           }
          ],
          "scatterpolar": [
           {
            "marker": {
             "colorbar": {
              "outlinewidth": 0,
              "ticks": ""
             }
            },
            "type": "scatterpolar"
           }
          ],
          "scatterpolargl": [
           {
            "marker": {
             "colorbar": {
              "outlinewidth": 0,
              "ticks": ""
             }
            },
            "type": "scatterpolargl"
           }
          ],
          "scatterternary": [
           {
            "marker": {
             "colorbar": {
              "outlinewidth": 0,
              "ticks": ""
             }
            },
            "type": "scatterternary"
           }
          ],
          "surface": [
           {
            "colorbar": {
             "outlinewidth": 0,
             "ticks": ""
            },
            "colorscale": [
             [
              0,
              "#0d0887"
             ],
             [
              0.1111111111111111,
              "#46039f"
             ],
             [
              0.2222222222222222,
              "#7201a8"
             ],
             [
              0.3333333333333333,
              "#9c179e"
             ],
             [
              0.4444444444444444,
              "#bd3786"
             ],
             [
              0.5555555555555556,
              "#d8576b"
             ],
             [
              0.6666666666666666,
              "#ed7953"
             ],
             [
              0.7777777777777778,
              "#fb9f3a"
             ],
             [
              0.8888888888888888,
              "#fdca26"
             ],
             [
              1,
              "#f0f921"
             ]
            ],
            "type": "surface"
           }
          ],
          "table": [
           {
            "cells": {
             "fill": {
              "color": "#EBF0F8"
             },
             "line": {
              "color": "white"
             }
            },
            "header": {
             "fill": {
              "color": "#C8D4E3"
             },
             "line": {
              "color": "white"
             }
            },
            "type": "table"
           }
          ]
         },
         "layout": {
          "annotationdefaults": {
           "arrowcolor": "#2a3f5f",
           "arrowhead": 0,
           "arrowwidth": 1
          },
          "coloraxis": {
           "colorbar": {
            "outlinewidth": 0,
            "ticks": ""
           }
          },
          "colorscale": {
           "diverging": [
            [
             0,
             "#8e0152"
            ],
            [
             0.1,
             "#c51b7d"
            ],
            [
             0.2,
             "#de77ae"
            ],
            [
             0.3,
             "#f1b6da"
            ],
            [
             0.4,
             "#fde0ef"
            ],
            [
             0.5,
             "#f7f7f7"
            ],
            [
             0.6,
             "#e6f5d0"
            ],
            [
             0.7,
             "#b8e186"
            ],
            [
             0.8,
             "#7fbc41"
            ],
            [
             0.9,
             "#4d9221"
            ],
            [
             1,
             "#276419"
            ]
           ],
           "sequential": [
            [
             0,
             "#0d0887"
            ],
            [
             0.1111111111111111,
             "#46039f"
            ],
            [
             0.2222222222222222,
             "#7201a8"
            ],
            [
             0.3333333333333333,
             "#9c179e"
            ],
            [
             0.4444444444444444,
             "#bd3786"
            ],
            [
             0.5555555555555556,
             "#d8576b"
            ],
            [
             0.6666666666666666,
             "#ed7953"
            ],
            [
             0.7777777777777778,
             "#fb9f3a"
            ],
            [
             0.8888888888888888,
             "#fdca26"
            ],
            [
             1,
             "#f0f921"
            ]
           ],
           "sequentialminus": [
            [
             0,
             "#0d0887"
            ],
            [
             0.1111111111111111,
             "#46039f"
            ],
            [
             0.2222222222222222,
             "#7201a8"
            ],
            [
             0.3333333333333333,
             "#9c179e"
            ],
            [
             0.4444444444444444,
             "#bd3786"
            ],
            [
             0.5555555555555556,
             "#d8576b"
            ],
            [
             0.6666666666666666,
             "#ed7953"
            ],
            [
             0.7777777777777778,
             "#fb9f3a"
            ],
            [
             0.8888888888888888,
             "#fdca26"
            ],
            [
             1,
             "#f0f921"
            ]
           ]
          },
          "colorway": [
           "#636efa",
           "#EF553B",
           "#00cc96",
           "#ab63fa",
           "#FFA15A",
           "#19d3f3",
           "#FF6692",
           "#B6E880",
           "#FF97FF",
           "#FECB52"
          ],
          "font": {
           "color": "#2a3f5f"
          },
          "geo": {
           "bgcolor": "white",
           "lakecolor": "white",
           "landcolor": "#E5ECF6",
           "showlakes": true,
           "showland": true,
           "subunitcolor": "white"
          },
          "hoverlabel": {
           "align": "left"
          },
          "hovermode": "closest",
          "mapbox": {
           "style": "light"
          },
          "paper_bgcolor": "white",
          "plot_bgcolor": "#E5ECF6",
          "polar": {
           "angularaxis": {
            "gridcolor": "white",
            "linecolor": "white",
            "ticks": ""
           },
           "bgcolor": "#E5ECF6",
           "radialaxis": {
            "gridcolor": "white",
            "linecolor": "white",
            "ticks": ""
           }
          },
          "scene": {
           "xaxis": {
            "backgroundcolor": "#E5ECF6",
            "gridcolor": "white",
            "gridwidth": 2,
            "linecolor": "white",
            "showbackground": true,
            "ticks": "",
            "zerolinecolor": "white"
           },
           "yaxis": {
            "backgroundcolor": "#E5ECF6",
            "gridcolor": "white",
            "gridwidth": 2,
            "linecolor": "white",
            "showbackground": true,
            "ticks": "",
            "zerolinecolor": "white"
           },
           "zaxis": {
            "backgroundcolor": "#E5ECF6",
            "gridcolor": "white",
            "gridwidth": 2,
            "linecolor": "white",
            "showbackground": true,
            "ticks": "",
            "zerolinecolor": "white"
           }
          },
          "shapedefaults": {
           "line": {
            "color": "#2a3f5f"
           }
          },
          "ternary": {
           "aaxis": {
            "gridcolor": "white",
            "linecolor": "white",
            "ticks": ""
           },
           "baxis": {
            "gridcolor": "white",
            "linecolor": "white",
            "ticks": ""
           },
           "bgcolor": "#E5ECF6",
           "caxis": {
            "gridcolor": "white",
            "linecolor": "white",
            "ticks": ""
           }
          },
          "title": {
           "x": 0.05
          },
          "xaxis": {
           "automargin": true,
           "gridcolor": "white",
           "linecolor": "white",
           "ticks": "",
           "title": {
            "standoff": 15
           },
           "zerolinecolor": "white",
           "zerolinewidth": 2
          },
          "yaxis": {
           "automargin": true,
           "gridcolor": "white",
           "linecolor": "white",
           "ticks": "",
           "title": {
            "standoff": 15
           },
           "zerolinecolor": "white",
           "zerolinewidth": 2
          }
         }
        },
        "title": {
         "text": "ROC curve for S_garbage"
        },
        "width": 600,
        "xaxis": {
         "anchor": "y",
         "domain": [
          0,
          1
         ],
         "title": {
          "text": "False positive rate"
         }
        },
        "yaxis": {
         "anchor": "x",
         "domain": [
          0,
          1
         ],
         "title": {
          "text": "True positive rate"
         }
        }
       }
      },
      "text/html": [
       "<div>                            <div id=\"4c637b17-e418-41cc-aa17-2452c28da16c\" class=\"plotly-graph-div\" style=\"height:600px; width:600px;\"></div>            <script type=\"text/javascript\">                require([\"plotly\"], function(Plotly) {                    window.PLOTLYENV=window.PLOTLYENV || {};                                    if (document.getElementById(\"4c637b17-e418-41cc-aa17-2452c28da16c\")) {                    Plotly.newPlot(                        \"4c637b17-e418-41cc-aa17-2452c28da16c\",                        [{\"hovertemplate\": \"False positive rate=%{x}<br>True positive rate=%{y}<extra></extra>\", \"legendgroup\": \"\", \"line\": {\"color\": \"#636efa\", \"dash\": \"solid\"}, \"mode\": \"lines\", \"name\": \"\", \"orientation\": \"v\", \"showlegend\": false, \"type\": \"scatter\", \"x\": [0.0, 0.0, 0.0, 0.0, 0.0, 0.0, 0.010309278350515464, 0.010309278350515464, 0.010309278350515464, 0.020618556701030927, 0.020618556701030927, 0.020618556701030927, 0.030927835051546393, 0.030927835051546393, 0.030927835051546393, 0.030927835051546393, 0.030927835051546393, 0.030927835051546393, 0.041237113402061855, 0.041237113402061855, 0.041237113402061855, 0.041237113402061855, 0.05154639175257732, 0.05154639175257732, 0.05154639175257732, 0.061855670103092786, 0.061855670103092786, 0.061855670103092786, 0.061855670103092786, 0.07216494845360824, 0.07216494845360824, 0.07216494845360824, 0.07216494845360824, 0.08247422680412371, 0.08247422680412371, 0.08247422680412371, 0.08247422680412371, 0.08247422680412371, 0.08247422680412371, 0.08247422680412371, 0.08247422680412371, 0.09278350515463918, 0.09278350515463918, 0.09278350515463918, 0.10309278350515463, 0.10309278350515463, 0.12371134020618557, 0.13402061855670103, 0.13402061855670103, 0.13402061855670103, 0.13402061855670103, 0.13402061855670103, 0.13402061855670103, 0.15463917525773196, 0.1958762886597938, 0.21649484536082475, 0.21649484536082475, 0.24742268041237114, 0.26804123711340205, 0.27835051546391754, 0.27835051546391754, 0.28865979381443296, 0.31958762886597936, 0.31958762886597936, 0.3402061855670103, 0.3402061855670103, 0.35051546391752575, 0.3711340206185567, 0.3917525773195876, 0.3917525773195876, 0.41237113402061853, 0.41237113402061853, 0.41237113402061853, 0.422680412371134, 0.4845360824742268, 0.4948453608247423, 0.5257731958762887, 0.5463917525773195, 0.5670103092783505, 0.6082474226804123, 0.6185567010309279, 0.6185567010309279, 0.6185567010309279, 0.6494845360824743, 0.6907216494845361, 0.7422680412371134, 0.7835051546391752, 0.8556701030927835, 0.865979381443299, 0.8969072164948454, 0.9072164948453608, 0.9278350515463918, 0.9484536082474226, 0.9896907216494846, 1.0], \"xaxis\": \"x\", \"y\": [0.0, 0.004106776180698152, 0.008213552361396304, 0.014373716632443531, 0.018480492813141684, 0.055441478439425054, 0.057494866529774126, 0.061601642710472276, 0.06981519507186858, 0.07597535934291581, 0.08213552361396304, 0.11088295687885011, 0.1293634496919918, 0.1457905544147844, 0.1540041067761807, 0.15605749486652978, 0.16427104722792607, 0.188911704312115, 0.2032854209445585, 0.21149897330595482, 0.2135523613963039, 0.2299794661190965, 0.23203285420944558, 0.23408624229979466, 0.28952772073921973, 0.28952772073921973, 0.2936344969199179, 0.3080082135523614, 0.3162217659137577, 0.38193018480492813, 0.4004106776180698, 0.4127310061601643, 0.41478439425051333, 0.41683778234086244, 0.42299794661190965, 0.43737166324435317, 0.4414784394250513, 0.4948665297741273, 0.5030800821355236, 0.5112936344969199, 0.5174537987679672, 0.5318275154004107, 0.5338809034907598, 0.5379876796714579, 0.5646817248459959, 0.5667351129363449, 0.5934291581108829, 0.5934291581108829, 0.6016427104722792, 0.6078028747433265, 0.6160164271047228, 0.6180698151950719, 0.6283367556468172, 0.6303901437371663, 0.6611909650924025, 0.6817248459958932, 0.6899383983572895, 0.6940451745379876, 0.6981519507186859, 0.7063655030800822, 0.7104722792607803, 0.7125256673511293, 0.7248459958932238, 0.757700205338809, 0.7987679671457906, 0.8090349075975359, 0.8172484599589322, 0.8275154004106776, 0.8357289527720739, 0.837782340862423, 0.8418891170431212, 0.8603696098562629, 0.8706365503080082, 0.8767967145790554, 0.8952772073921971, 0.8973305954825462, 0.9014373716632443, 0.9137577002053389, 0.9240246406570842, 0.9363449691991786, 0.9383983572895277, 0.9404517453798767, 0.944558521560575, 0.9507186858316222, 0.9630390143737166, 0.971252566735113, 0.9794661190965093, 0.9897330595482546, 0.997946611909651, 0.997946611909651, 1.0, 1.0, 1.0, 1.0, 1.0], \"yaxis\": \"y\"}],                        {\"height\": 600, \"legend\": {\"tracegroupgap\": 0}, \"template\": {\"data\": {\"bar\": [{\"error_x\": {\"color\": \"#2a3f5f\"}, \"error_y\": {\"color\": \"#2a3f5f\"}, \"marker\": {\"line\": {\"color\": \"#E5ECF6\", \"width\": 0.5}}, \"type\": \"bar\"}], \"barpolar\": [{\"marker\": {\"line\": {\"color\": \"#E5ECF6\", \"width\": 0.5}}, \"type\": \"barpolar\"}], \"carpet\": [{\"aaxis\": {\"endlinecolor\": \"#2a3f5f\", \"gridcolor\": \"white\", \"linecolor\": \"white\", \"minorgridcolor\": \"white\", \"startlinecolor\": \"#2a3f5f\"}, \"baxis\": {\"endlinecolor\": \"#2a3f5f\", \"gridcolor\": \"white\", \"linecolor\": \"white\", \"minorgridcolor\": \"white\", \"startlinecolor\": \"#2a3f5f\"}, \"type\": \"carpet\"}], \"choropleth\": [{\"colorbar\": {\"outlinewidth\": 0, \"ticks\": \"\"}, \"type\": \"choropleth\"}], \"contour\": [{\"colorbar\": {\"outlinewidth\": 0, \"ticks\": \"\"}, \"colorscale\": [[0.0, \"#0d0887\"], [0.1111111111111111, \"#46039f\"], [0.2222222222222222, \"#7201a8\"], [0.3333333333333333, \"#9c179e\"], [0.4444444444444444, \"#bd3786\"], [0.5555555555555556, \"#d8576b\"], [0.6666666666666666, \"#ed7953\"], [0.7777777777777778, \"#fb9f3a\"], [0.8888888888888888, \"#fdca26\"], [1.0, \"#f0f921\"]], \"type\": \"contour\"}], \"contourcarpet\": [{\"colorbar\": {\"outlinewidth\": 0, \"ticks\": \"\"}, \"type\": \"contourcarpet\"}], \"heatmap\": [{\"colorbar\": {\"outlinewidth\": 0, \"ticks\": \"\"}, \"colorscale\": [[0.0, \"#0d0887\"], [0.1111111111111111, \"#46039f\"], [0.2222222222222222, \"#7201a8\"], [0.3333333333333333, \"#9c179e\"], [0.4444444444444444, \"#bd3786\"], [0.5555555555555556, \"#d8576b\"], [0.6666666666666666, \"#ed7953\"], [0.7777777777777778, \"#fb9f3a\"], [0.8888888888888888, \"#fdca26\"], [1.0, \"#f0f921\"]], \"type\": \"heatmap\"}], \"heatmapgl\": [{\"colorbar\": {\"outlinewidth\": 0, \"ticks\": \"\"}, \"colorscale\": [[0.0, \"#0d0887\"], [0.1111111111111111, \"#46039f\"], [0.2222222222222222, \"#7201a8\"], [0.3333333333333333, \"#9c179e\"], [0.4444444444444444, \"#bd3786\"], [0.5555555555555556, \"#d8576b\"], [0.6666666666666666, \"#ed7953\"], [0.7777777777777778, \"#fb9f3a\"], [0.8888888888888888, \"#fdca26\"], [1.0, \"#f0f921\"]], \"type\": \"heatmapgl\"}], \"histogram\": [{\"marker\": {\"colorbar\": {\"outlinewidth\": 0, \"ticks\": \"\"}}, \"type\": \"histogram\"}], \"histogram2d\": [{\"colorbar\": {\"outlinewidth\": 0, \"ticks\": \"\"}, \"colorscale\": [[0.0, \"#0d0887\"], [0.1111111111111111, \"#46039f\"], [0.2222222222222222, \"#7201a8\"], [0.3333333333333333, \"#9c179e\"], [0.4444444444444444, \"#bd3786\"], [0.5555555555555556, \"#d8576b\"], [0.6666666666666666, \"#ed7953\"], [0.7777777777777778, \"#fb9f3a\"], [0.8888888888888888, \"#fdca26\"], [1.0, \"#f0f921\"]], \"type\": \"histogram2d\"}], \"histogram2dcontour\": [{\"colorbar\": {\"outlinewidth\": 0, \"ticks\": \"\"}, \"colorscale\": [[0.0, \"#0d0887\"], [0.1111111111111111, \"#46039f\"], [0.2222222222222222, \"#7201a8\"], [0.3333333333333333, \"#9c179e\"], [0.4444444444444444, \"#bd3786\"], [0.5555555555555556, \"#d8576b\"], [0.6666666666666666, \"#ed7953\"], [0.7777777777777778, \"#fb9f3a\"], [0.8888888888888888, \"#fdca26\"], [1.0, \"#f0f921\"]], \"type\": \"histogram2dcontour\"}], \"mesh3d\": [{\"colorbar\": {\"outlinewidth\": 0, \"ticks\": \"\"}, \"type\": \"mesh3d\"}], \"parcoords\": [{\"line\": {\"colorbar\": {\"outlinewidth\": 0, \"ticks\": \"\"}}, \"type\": \"parcoords\"}], \"pie\": [{\"automargin\": true, \"type\": \"pie\"}], \"scatter\": [{\"marker\": {\"colorbar\": {\"outlinewidth\": 0, \"ticks\": \"\"}}, \"type\": \"scatter\"}], \"scatter3d\": [{\"line\": {\"colorbar\": {\"outlinewidth\": 0, \"ticks\": \"\"}}, \"marker\": {\"colorbar\": {\"outlinewidth\": 0, \"ticks\": \"\"}}, \"type\": \"scatter3d\"}], \"scattercarpet\": [{\"marker\": {\"colorbar\": {\"outlinewidth\": 0, \"ticks\": \"\"}}, \"type\": \"scattercarpet\"}], \"scattergeo\": [{\"marker\": {\"colorbar\": {\"outlinewidth\": 0, \"ticks\": \"\"}}, \"type\": \"scattergeo\"}], \"scattergl\": [{\"marker\": {\"colorbar\": {\"outlinewidth\": 0, \"ticks\": \"\"}}, \"type\": \"scattergl\"}], \"scattermapbox\": [{\"marker\": {\"colorbar\": {\"outlinewidth\": 0, \"ticks\": \"\"}}, \"type\": \"scattermapbox\"}], \"scatterpolar\": [{\"marker\": {\"colorbar\": {\"outlinewidth\": 0, \"ticks\": \"\"}}, \"type\": \"scatterpolar\"}], \"scatterpolargl\": [{\"marker\": {\"colorbar\": {\"outlinewidth\": 0, \"ticks\": \"\"}}, \"type\": \"scatterpolargl\"}], \"scatterternary\": [{\"marker\": {\"colorbar\": {\"outlinewidth\": 0, \"ticks\": \"\"}}, \"type\": \"scatterternary\"}], \"surface\": [{\"colorbar\": {\"outlinewidth\": 0, \"ticks\": \"\"}, \"colorscale\": [[0.0, \"#0d0887\"], [0.1111111111111111, \"#46039f\"], [0.2222222222222222, \"#7201a8\"], [0.3333333333333333, \"#9c179e\"], [0.4444444444444444, \"#bd3786\"], [0.5555555555555556, \"#d8576b\"], [0.6666666666666666, \"#ed7953\"], [0.7777777777777778, \"#fb9f3a\"], [0.8888888888888888, \"#fdca26\"], [1.0, \"#f0f921\"]], \"type\": \"surface\"}], \"table\": [{\"cells\": {\"fill\": {\"color\": \"#EBF0F8\"}, \"line\": {\"color\": \"white\"}}, \"header\": {\"fill\": {\"color\": \"#C8D4E3\"}, \"line\": {\"color\": \"white\"}}, \"type\": \"table\"}]}, \"layout\": {\"annotationdefaults\": {\"arrowcolor\": \"#2a3f5f\", \"arrowhead\": 0, \"arrowwidth\": 1}, \"coloraxis\": {\"colorbar\": {\"outlinewidth\": 0, \"ticks\": \"\"}}, \"colorscale\": {\"diverging\": [[0, \"#8e0152\"], [0.1, \"#c51b7d\"], [0.2, \"#de77ae\"], [0.3, \"#f1b6da\"], [0.4, \"#fde0ef\"], [0.5, \"#f7f7f7\"], [0.6, \"#e6f5d0\"], [0.7, \"#b8e186\"], [0.8, \"#7fbc41\"], [0.9, \"#4d9221\"], [1, \"#276419\"]], \"sequential\": [[0.0, \"#0d0887\"], [0.1111111111111111, \"#46039f\"], [0.2222222222222222, \"#7201a8\"], [0.3333333333333333, \"#9c179e\"], [0.4444444444444444, \"#bd3786\"], [0.5555555555555556, \"#d8576b\"], [0.6666666666666666, \"#ed7953\"], [0.7777777777777778, \"#fb9f3a\"], [0.8888888888888888, \"#fdca26\"], [1.0, \"#f0f921\"]], \"sequentialminus\": [[0.0, \"#0d0887\"], [0.1111111111111111, \"#46039f\"], [0.2222222222222222, \"#7201a8\"], [0.3333333333333333, \"#9c179e\"], [0.4444444444444444, \"#bd3786\"], [0.5555555555555556, \"#d8576b\"], [0.6666666666666666, \"#ed7953\"], [0.7777777777777778, \"#fb9f3a\"], [0.8888888888888888, \"#fdca26\"], [1.0, \"#f0f921\"]]}, \"colorway\": [\"#636efa\", \"#EF553B\", \"#00cc96\", \"#ab63fa\", \"#FFA15A\", \"#19d3f3\", \"#FF6692\", \"#B6E880\", \"#FF97FF\", \"#FECB52\"], \"font\": {\"color\": \"#2a3f5f\"}, \"geo\": {\"bgcolor\": \"white\", \"lakecolor\": \"white\", \"landcolor\": \"#E5ECF6\", \"showlakes\": true, \"showland\": true, \"subunitcolor\": \"white\"}, \"hoverlabel\": {\"align\": \"left\"}, \"hovermode\": \"closest\", \"mapbox\": {\"style\": \"light\"}, \"paper_bgcolor\": \"white\", \"plot_bgcolor\": \"#E5ECF6\", \"polar\": {\"angularaxis\": {\"gridcolor\": \"white\", \"linecolor\": \"white\", \"ticks\": \"\"}, \"bgcolor\": \"#E5ECF6\", \"radialaxis\": {\"gridcolor\": \"white\", \"linecolor\": \"white\", \"ticks\": \"\"}}, \"scene\": {\"xaxis\": {\"backgroundcolor\": \"#E5ECF6\", \"gridcolor\": \"white\", \"gridwidth\": 2, \"linecolor\": \"white\", \"showbackground\": true, \"ticks\": \"\", \"zerolinecolor\": \"white\"}, \"yaxis\": {\"backgroundcolor\": \"#E5ECF6\", \"gridcolor\": \"white\", \"gridwidth\": 2, \"linecolor\": \"white\", \"showbackground\": true, \"ticks\": \"\", \"zerolinecolor\": \"white\"}, \"zaxis\": {\"backgroundcolor\": \"#E5ECF6\", \"gridcolor\": \"white\", \"gridwidth\": 2, \"linecolor\": \"white\", \"showbackground\": true, \"ticks\": \"\", \"zerolinecolor\": \"white\"}}, \"shapedefaults\": {\"line\": {\"color\": \"#2a3f5f\"}}, \"ternary\": {\"aaxis\": {\"gridcolor\": \"white\", \"linecolor\": \"white\", \"ticks\": \"\"}, \"baxis\": {\"gridcolor\": \"white\", \"linecolor\": \"white\", \"ticks\": \"\"}, \"bgcolor\": \"#E5ECF6\", \"caxis\": {\"gridcolor\": \"white\", \"linecolor\": \"white\", \"ticks\": \"\"}}, \"title\": {\"x\": 0.05}, \"xaxis\": {\"automargin\": true, \"gridcolor\": \"white\", \"linecolor\": \"white\", \"ticks\": \"\", \"title\": {\"standoff\": 15}, \"zerolinecolor\": \"white\", \"zerolinewidth\": 2}, \"yaxis\": {\"automargin\": true, \"gridcolor\": \"white\", \"linecolor\": \"white\", \"ticks\": \"\", \"title\": {\"standoff\": 15}, \"zerolinecolor\": \"white\", \"zerolinewidth\": 2}}}, \"title\": {\"text\": \"ROC curve for S_garbage\"}, \"width\": 600, \"xaxis\": {\"anchor\": \"y\", \"domain\": [0.0, 1.0], \"title\": {\"text\": \"False positive rate\"}}, \"yaxis\": {\"anchor\": \"x\", \"domain\": [0.0, 1.0], \"title\": {\"text\": \"True positive rate\"}}},                        {\"responsive\": true}                    ).then(function(){\n",
       "                            \n",
       "var gd = document.getElementById('4c637b17-e418-41cc-aa17-2452c28da16c');\n",
       "var x = new MutationObserver(function (mutations, observer) {{\n",
       "        var display = window.getComputedStyle(gd).display;\n",
       "        if (!display || display === 'none') {{\n",
       "            console.log([gd, 'removed!']);\n",
       "            Plotly.purge(gd);\n",
       "            observer.disconnect();\n",
       "        }}\n",
       "}});\n",
       "\n",
       "// Listen for the removal of the full notebook cells\n",
       "var notebookContainer = gd.closest('#notebook-container');\n",
       "if (notebookContainer) {{\n",
       "    x.observe(notebookContainer, {childList: true});\n",
       "}}\n",
       "\n",
       "// Listen for the clearing of the current output cell\n",
       "var outputEl = gd.closest('.output');\n",
       "if (outputEl) {{\n",
       "    x.observe(outputEl, {childList: true});\n",
       "}}\n",
       "\n",
       "                        })                };                });            </script>        </div>"
      ]
     },
     "metadata": {},
     "output_type": "display_data"
    }
   ],
   "source": [
    "from sklearn.ensemble import GradientBoostingClassifier\n",
    "def plot_AUC_curve(model, survey_targets):\n",
    "    fig = go.Figure()\n",
    "    for target in survey_targets:\n",
    "        model.fit(df_census_train, df_survey_train[target])\n",
    "        prediction = model.predict(df_census_test)\n",
    "        fpr, tpr, thresholds = roc_curve(df_survey_test[target], prediction)\n",
    "        auc_metric = roc_auc_score(df_survey_test[target], prediction)\n",
    "    print(f'The Area Under ROC curve is {auc_metric}')\n",
    "    label_dict = {'x':'False positive rate', 'y':'True positive rate'}\n",
    "    fig = px.line(x=fpr, y=tpr, width=600, height=600, title=f'ROC curve for {target}', labels=label_dict)\n",
    "    fig.show()\n",
    "plot_AUC_curve(GradientBoostingRegressor(), ['S_garbage'])"
   ]
  },
  {
   "cell_type": "code",
   "execution_count": 16,
   "metadata": {},
   "outputs": [
    {
     "data": {
      "application/vnd.plotly.v1+json": {
       "config": {
        "plotlyServerURL": "https://plot.ly"
       },
       "data": [
        {
         "type": "bar",
         "x": [
          "C_people",
          "C_blocksdirtfloor",
          "C_poverty",
          "C_waterbath",
          "C_headeduc",
          "C_waterhouse",
          "C_households",
          "C_child05",
          "C_gasheater",
          "C_vehicle",
          "C_rooms",
          "C_overcrowding",
          "C_illiterate",
          "C_telephone",
          "C_waterland",
          "C_earnincome",
          "C_HHpersons",
          "C_washing",
          "C_dropouts515",
          "C_HHdirtfloor",
          "C_refrigerator",
          "C_employment"
         ],
         "y": [
          0.14377417774973947,
          0.09942218094139724,
          0.08149269037932604,
          0.08073589083410676,
          0.07796542326977705,
          0.06454465797122637,
          0.05922231292802409,
          0.0486375410399286,
          0.0448337752149092,
          0.03870951413263567,
          0.03562770532554282,
          0.03405564201913585,
          0.02860061831252766,
          0.027759777256936766,
          0.0229871719264633,
          0.022179540832902588,
          0.02124775404651286,
          0.019138367758453827,
          0.016696857140510488,
          0.015599597192352889,
          0.014444336840504021,
          0.00232446688708654
         ]
        }
       ],
       "layout": {
        "template": {
         "data": {
          "bar": [
           {
            "error_x": {
             "color": "#2a3f5f"
            },
            "error_y": {
             "color": "#2a3f5f"
            },
            "marker": {
             "line": {
              "color": "#E5ECF6",
              "width": 0.5
             }
            },
            "type": "bar"
           }
          ],
          "barpolar": [
           {
            "marker": {
             "line": {
              "color": "#E5ECF6",
              "width": 0.5
             }
            },
            "type": "barpolar"
           }
          ],
          "carpet": [
           {
            "aaxis": {
             "endlinecolor": "#2a3f5f",
             "gridcolor": "white",
             "linecolor": "white",
             "minorgridcolor": "white",
             "startlinecolor": "#2a3f5f"
            },
            "baxis": {
             "endlinecolor": "#2a3f5f",
             "gridcolor": "white",
             "linecolor": "white",
             "minorgridcolor": "white",
             "startlinecolor": "#2a3f5f"
            },
            "type": "carpet"
           }
          ],
          "choropleth": [
           {
            "colorbar": {
             "outlinewidth": 0,
             "ticks": ""
            },
            "type": "choropleth"
           }
          ],
          "contour": [
           {
            "colorbar": {
             "outlinewidth": 0,
             "ticks": ""
            },
            "colorscale": [
             [
              0,
              "#0d0887"
             ],
             [
              0.1111111111111111,
              "#46039f"
             ],
             [
              0.2222222222222222,
              "#7201a8"
             ],
             [
              0.3333333333333333,
              "#9c179e"
             ],
             [
              0.4444444444444444,
              "#bd3786"
             ],
             [
              0.5555555555555556,
              "#d8576b"
             ],
             [
              0.6666666666666666,
              "#ed7953"
             ],
             [
              0.7777777777777778,
              "#fb9f3a"
             ],
             [
              0.8888888888888888,
              "#fdca26"
             ],
             [
              1,
              "#f0f921"
             ]
            ],
            "type": "contour"
           }
          ],
          "contourcarpet": [
           {
            "colorbar": {
             "outlinewidth": 0,
             "ticks": ""
            },
            "type": "contourcarpet"
           }
          ],
          "heatmap": [
           {
            "colorbar": {
             "outlinewidth": 0,
             "ticks": ""
            },
            "colorscale": [
             [
              0,
              "#0d0887"
             ],
             [
              0.1111111111111111,
              "#46039f"
             ],
             [
              0.2222222222222222,
              "#7201a8"
             ],
             [
              0.3333333333333333,
              "#9c179e"
             ],
             [
              0.4444444444444444,
              "#bd3786"
             ],
             [
              0.5555555555555556,
              "#d8576b"
             ],
             [
              0.6666666666666666,
              "#ed7953"
             ],
             [
              0.7777777777777778,
              "#fb9f3a"
             ],
             [
              0.8888888888888888,
              "#fdca26"
             ],
             [
              1,
              "#f0f921"
             ]
            ],
            "type": "heatmap"
           }
          ],
          "heatmapgl": [
           {
            "colorbar": {
             "outlinewidth": 0,
             "ticks": ""
            },
            "colorscale": [
             [
              0,
              "#0d0887"
             ],
             [
              0.1111111111111111,
              "#46039f"
             ],
             [
              0.2222222222222222,
              "#7201a8"
             ],
             [
              0.3333333333333333,
              "#9c179e"
             ],
             [
              0.4444444444444444,
              "#bd3786"
             ],
             [
              0.5555555555555556,
              "#d8576b"
             ],
             [
              0.6666666666666666,
              "#ed7953"
             ],
             [
              0.7777777777777778,
              "#fb9f3a"
             ],
             [
              0.8888888888888888,
              "#fdca26"
             ],
             [
              1,
              "#f0f921"
             ]
            ],
            "type": "heatmapgl"
           }
          ],
          "histogram": [
           {
            "marker": {
             "colorbar": {
              "outlinewidth": 0,
              "ticks": ""
             }
            },
            "type": "histogram"
           }
          ],
          "histogram2d": [
           {
            "colorbar": {
             "outlinewidth": 0,
             "ticks": ""
            },
            "colorscale": [
             [
              0,
              "#0d0887"
             ],
             [
              0.1111111111111111,
              "#46039f"
             ],
             [
              0.2222222222222222,
              "#7201a8"
             ],
             [
              0.3333333333333333,
              "#9c179e"
             ],
             [
              0.4444444444444444,
              "#bd3786"
             ],
             [
              0.5555555555555556,
              "#d8576b"
             ],
             [
              0.6666666666666666,
              "#ed7953"
             ],
             [
              0.7777777777777778,
              "#fb9f3a"
             ],
             [
              0.8888888888888888,
              "#fdca26"
             ],
             [
              1,
              "#f0f921"
             ]
            ],
            "type": "histogram2d"
           }
          ],
          "histogram2dcontour": [
           {
            "colorbar": {
             "outlinewidth": 0,
             "ticks": ""
            },
            "colorscale": [
             [
              0,
              "#0d0887"
             ],
             [
              0.1111111111111111,
              "#46039f"
             ],
             [
              0.2222222222222222,
              "#7201a8"
             ],
             [
              0.3333333333333333,
              "#9c179e"
             ],
             [
              0.4444444444444444,
              "#bd3786"
             ],
             [
              0.5555555555555556,
              "#d8576b"
             ],
             [
              0.6666666666666666,
              "#ed7953"
             ],
             [
              0.7777777777777778,
              "#fb9f3a"
             ],
             [
              0.8888888888888888,
              "#fdca26"
             ],
             [
              1,
              "#f0f921"
             ]
            ],
            "type": "histogram2dcontour"
           }
          ],
          "mesh3d": [
           {
            "colorbar": {
             "outlinewidth": 0,
             "ticks": ""
            },
            "type": "mesh3d"
           }
          ],
          "parcoords": [
           {
            "line": {
             "colorbar": {
              "outlinewidth": 0,
              "ticks": ""
             }
            },
            "type": "parcoords"
           }
          ],
          "pie": [
           {
            "automargin": true,
            "type": "pie"
           }
          ],
          "scatter": [
           {
            "marker": {
             "colorbar": {
              "outlinewidth": 0,
              "ticks": ""
             }
            },
            "type": "scatter"
           }
          ],
          "scatter3d": [
           {
            "line": {
             "colorbar": {
              "outlinewidth": 0,
              "ticks": ""
             }
            },
            "marker": {
             "colorbar": {
              "outlinewidth": 0,
              "ticks": ""
             }
            },
            "type": "scatter3d"
           }
          ],
          "scattercarpet": [
           {
            "marker": {
             "colorbar": {
              "outlinewidth": 0,
              "ticks": ""
             }
            },
            "type": "scattercarpet"
           }
          ],
          "scattergeo": [
           {
            "marker": {
             "colorbar": {
              "outlinewidth": 0,
              "ticks": ""
             }
            },
            "type": "scattergeo"
           }
          ],
          "scattergl": [
           {
            "marker": {
             "colorbar": {
              "outlinewidth": 0,
              "ticks": ""
             }
            },
            "type": "scattergl"
           }
          ],
          "scattermapbox": [
           {
            "marker": {
             "colorbar": {
              "outlinewidth": 0,
              "ticks": ""
             }
            },
            "type": "scattermapbox"
           }
          ],
          "scatterpolar": [
           {
            "marker": {
             "colorbar": {
              "outlinewidth": 0,
              "ticks": ""
             }
            },
            "type": "scatterpolar"
           }
          ],
          "scatterpolargl": [
           {
            "marker": {
             "colorbar": {
              "outlinewidth": 0,
              "ticks": ""
             }
            },
            "type": "scatterpolargl"
           }
          ],
          "scatterternary": [
           {
            "marker": {
             "colorbar": {
              "outlinewidth": 0,
              "ticks": ""
             }
            },
            "type": "scatterternary"
           }
          ],
          "surface": [
           {
            "colorbar": {
             "outlinewidth": 0,
             "ticks": ""
            },
            "colorscale": [
             [
              0,
              "#0d0887"
             ],
             [
              0.1111111111111111,
              "#46039f"
             ],
             [
              0.2222222222222222,
              "#7201a8"
             ],
             [
              0.3333333333333333,
              "#9c179e"
             ],
             [
              0.4444444444444444,
              "#bd3786"
             ],
             [
              0.5555555555555556,
              "#d8576b"
             ],
             [
              0.6666666666666666,
              "#ed7953"
             ],
             [
              0.7777777777777778,
              "#fb9f3a"
             ],
             [
              0.8888888888888888,
              "#fdca26"
             ],
             [
              1,
              "#f0f921"
             ]
            ],
            "type": "surface"
           }
          ],
          "table": [
           {
            "cells": {
             "fill": {
              "color": "#EBF0F8"
             },
             "line": {
              "color": "white"
             }
            },
            "header": {
             "fill": {
              "color": "#C8D4E3"
             },
             "line": {
              "color": "white"
             }
            },
            "type": "table"
           }
          ]
         },
         "layout": {
          "annotationdefaults": {
           "arrowcolor": "#2a3f5f",
           "arrowhead": 0,
           "arrowwidth": 1
          },
          "coloraxis": {
           "colorbar": {
            "outlinewidth": 0,
            "ticks": ""
           }
          },
          "colorscale": {
           "diverging": [
            [
             0,
             "#8e0152"
            ],
            [
             0.1,
             "#c51b7d"
            ],
            [
             0.2,
             "#de77ae"
            ],
            [
             0.3,
             "#f1b6da"
            ],
            [
             0.4,
             "#fde0ef"
            ],
            [
             0.5,
             "#f7f7f7"
            ],
            [
             0.6,
             "#e6f5d0"
            ],
            [
             0.7,
             "#b8e186"
            ],
            [
             0.8,
             "#7fbc41"
            ],
            [
             0.9,
             "#4d9221"
            ],
            [
             1,
             "#276419"
            ]
           ],
           "sequential": [
            [
             0,
             "#0d0887"
            ],
            [
             0.1111111111111111,
             "#46039f"
            ],
            [
             0.2222222222222222,
             "#7201a8"
            ],
            [
             0.3333333333333333,
             "#9c179e"
            ],
            [
             0.4444444444444444,
             "#bd3786"
            ],
            [
             0.5555555555555556,
             "#d8576b"
            ],
            [
             0.6666666666666666,
             "#ed7953"
            ],
            [
             0.7777777777777778,
             "#fb9f3a"
            ],
            [
             0.8888888888888888,
             "#fdca26"
            ],
            [
             1,
             "#f0f921"
            ]
           ],
           "sequentialminus": [
            [
             0,
             "#0d0887"
            ],
            [
             0.1111111111111111,
             "#46039f"
            ],
            [
             0.2222222222222222,
             "#7201a8"
            ],
            [
             0.3333333333333333,
             "#9c179e"
            ],
            [
             0.4444444444444444,
             "#bd3786"
            ],
            [
             0.5555555555555556,
             "#d8576b"
            ],
            [
             0.6666666666666666,
             "#ed7953"
            ],
            [
             0.7777777777777778,
             "#fb9f3a"
            ],
            [
             0.8888888888888888,
             "#fdca26"
            ],
            [
             1,
             "#f0f921"
            ]
           ]
          },
          "colorway": [
           "#636efa",
           "#EF553B",
           "#00cc96",
           "#ab63fa",
           "#FFA15A",
           "#19d3f3",
           "#FF6692",
           "#B6E880",
           "#FF97FF",
           "#FECB52"
          ],
          "font": {
           "color": "#2a3f5f"
          },
          "geo": {
           "bgcolor": "white",
           "lakecolor": "white",
           "landcolor": "#E5ECF6",
           "showlakes": true,
           "showland": true,
           "subunitcolor": "white"
          },
          "hoverlabel": {
           "align": "left"
          },
          "hovermode": "closest",
          "mapbox": {
           "style": "light"
          },
          "paper_bgcolor": "white",
          "plot_bgcolor": "#E5ECF6",
          "polar": {
           "angularaxis": {
            "gridcolor": "white",
            "linecolor": "white",
            "ticks": ""
           },
           "bgcolor": "#E5ECF6",
           "radialaxis": {
            "gridcolor": "white",
            "linecolor": "white",
            "ticks": ""
           }
          },
          "scene": {
           "xaxis": {
            "backgroundcolor": "#E5ECF6",
            "gridcolor": "white",
            "gridwidth": 2,
            "linecolor": "white",
            "showbackground": true,
            "ticks": "",
            "zerolinecolor": "white"
           },
           "yaxis": {
            "backgroundcolor": "#E5ECF6",
            "gridcolor": "white",
            "gridwidth": 2,
            "linecolor": "white",
            "showbackground": true,
            "ticks": "",
            "zerolinecolor": "white"
           },
           "zaxis": {
            "backgroundcolor": "#E5ECF6",
            "gridcolor": "white",
            "gridwidth": 2,
            "linecolor": "white",
            "showbackground": true,
            "ticks": "",
            "zerolinecolor": "white"
           }
          },
          "shapedefaults": {
           "line": {
            "color": "#2a3f5f"
           }
          },
          "ternary": {
           "aaxis": {
            "gridcolor": "white",
            "linecolor": "white",
            "ticks": ""
           },
           "baxis": {
            "gridcolor": "white",
            "linecolor": "white",
            "ticks": ""
           },
           "bgcolor": "#E5ECF6",
           "caxis": {
            "gridcolor": "white",
            "linecolor": "white",
            "ticks": ""
           }
          },
          "title": {
           "x": 0.05
          },
          "xaxis": {
           "automargin": true,
           "gridcolor": "white",
           "linecolor": "white",
           "ticks": "",
           "title": {
            "standoff": 15
           },
           "zerolinecolor": "white",
           "zerolinewidth": 2
          },
          "yaxis": {
           "automargin": true,
           "gridcolor": "white",
           "linecolor": "white",
           "ticks": "",
           "title": {
            "standoff": 15
           },
           "zerolinecolor": "white",
           "zerolinewidth": 2
          }
         }
        }
       }
      },
      "text/html": [
       "<div>                            <div id=\"71109752-d18e-4b76-9a0e-8f60cfcaed39\" class=\"plotly-graph-div\" style=\"height:525px; width:100%;\"></div>            <script type=\"text/javascript\">                require([\"plotly\"], function(Plotly) {                    window.PLOTLYENV=window.PLOTLYENV || {};                                    if (document.getElementById(\"71109752-d18e-4b76-9a0e-8f60cfcaed39\")) {                    Plotly.newPlot(                        \"71109752-d18e-4b76-9a0e-8f60cfcaed39\",                        [{\"type\": \"bar\", \"x\": [\"C_people\", \"C_blocksdirtfloor\", \"C_poverty\", \"C_waterbath\", \"C_headeduc\", \"C_waterhouse\", \"C_households\", \"C_child05\", \"C_gasheater\", \"C_vehicle\", \"C_rooms\", \"C_overcrowding\", \"C_illiterate\", \"C_telephone\", \"C_waterland\", \"C_earnincome\", \"C_HHpersons\", \"C_washing\", \"C_dropouts515\", \"C_HHdirtfloor\", \"C_refrigerator\", \"C_employment\"], \"y\": [0.14377417774973947, 0.09942218094139724, 0.08149269037932604, 0.08073589083410676, 0.07796542326977705, 0.06454465797122637, 0.05922231292802409, 0.0486375410399286, 0.0448337752149092, 0.03870951413263567, 0.03562770532554282, 0.03405564201913585, 0.02860061831252766, 0.027759777256936766, 0.0229871719264633, 0.022179540832902588, 0.02124775404651286, 0.019138367758453827, 0.016696857140510488, 0.015599597192352889, 0.014444336840504021, 0.00232446688708654]}],                        {\"template\": {\"data\": {\"bar\": [{\"error_x\": {\"color\": \"#2a3f5f\"}, \"error_y\": {\"color\": \"#2a3f5f\"}, \"marker\": {\"line\": {\"color\": \"#E5ECF6\", \"width\": 0.5}}, \"type\": \"bar\"}], \"barpolar\": [{\"marker\": {\"line\": {\"color\": \"#E5ECF6\", \"width\": 0.5}}, \"type\": \"barpolar\"}], \"carpet\": [{\"aaxis\": {\"endlinecolor\": \"#2a3f5f\", \"gridcolor\": \"white\", \"linecolor\": \"white\", \"minorgridcolor\": \"white\", \"startlinecolor\": \"#2a3f5f\"}, \"baxis\": {\"endlinecolor\": \"#2a3f5f\", \"gridcolor\": \"white\", \"linecolor\": \"white\", \"minorgridcolor\": \"white\", \"startlinecolor\": \"#2a3f5f\"}, \"type\": \"carpet\"}], \"choropleth\": [{\"colorbar\": {\"outlinewidth\": 0, \"ticks\": \"\"}, \"type\": \"choropleth\"}], \"contour\": [{\"colorbar\": {\"outlinewidth\": 0, \"ticks\": \"\"}, \"colorscale\": [[0.0, \"#0d0887\"], [0.1111111111111111, \"#46039f\"], [0.2222222222222222, \"#7201a8\"], [0.3333333333333333, \"#9c179e\"], [0.4444444444444444, \"#bd3786\"], [0.5555555555555556, \"#d8576b\"], [0.6666666666666666, \"#ed7953\"], [0.7777777777777778, \"#fb9f3a\"], [0.8888888888888888, \"#fdca26\"], [1.0, \"#f0f921\"]], \"type\": \"contour\"}], \"contourcarpet\": [{\"colorbar\": {\"outlinewidth\": 0, \"ticks\": \"\"}, \"type\": \"contourcarpet\"}], \"heatmap\": [{\"colorbar\": {\"outlinewidth\": 0, \"ticks\": \"\"}, \"colorscale\": [[0.0, \"#0d0887\"], [0.1111111111111111, \"#46039f\"], [0.2222222222222222, \"#7201a8\"], [0.3333333333333333, \"#9c179e\"], [0.4444444444444444, \"#bd3786\"], [0.5555555555555556, \"#d8576b\"], [0.6666666666666666, \"#ed7953\"], [0.7777777777777778, \"#fb9f3a\"], [0.8888888888888888, \"#fdca26\"], [1.0, \"#f0f921\"]], \"type\": \"heatmap\"}], \"heatmapgl\": [{\"colorbar\": {\"outlinewidth\": 0, \"ticks\": \"\"}, \"colorscale\": [[0.0, \"#0d0887\"], [0.1111111111111111, \"#46039f\"], [0.2222222222222222, \"#7201a8\"], [0.3333333333333333, \"#9c179e\"], [0.4444444444444444, \"#bd3786\"], [0.5555555555555556, \"#d8576b\"], [0.6666666666666666, \"#ed7953\"], [0.7777777777777778, \"#fb9f3a\"], [0.8888888888888888, \"#fdca26\"], [1.0, \"#f0f921\"]], \"type\": \"heatmapgl\"}], \"histogram\": [{\"marker\": {\"colorbar\": {\"outlinewidth\": 0, \"ticks\": \"\"}}, \"type\": \"histogram\"}], \"histogram2d\": [{\"colorbar\": {\"outlinewidth\": 0, \"ticks\": \"\"}, \"colorscale\": [[0.0, \"#0d0887\"], [0.1111111111111111, \"#46039f\"], [0.2222222222222222, \"#7201a8\"], [0.3333333333333333, \"#9c179e\"], [0.4444444444444444, \"#bd3786\"], [0.5555555555555556, \"#d8576b\"], [0.6666666666666666, \"#ed7953\"], [0.7777777777777778, \"#fb9f3a\"], [0.8888888888888888, \"#fdca26\"], [1.0, \"#f0f921\"]], \"type\": \"histogram2d\"}], \"histogram2dcontour\": [{\"colorbar\": {\"outlinewidth\": 0, \"ticks\": \"\"}, \"colorscale\": [[0.0, \"#0d0887\"], [0.1111111111111111, \"#46039f\"], [0.2222222222222222, \"#7201a8\"], [0.3333333333333333, \"#9c179e\"], [0.4444444444444444, \"#bd3786\"], [0.5555555555555556, \"#d8576b\"], [0.6666666666666666, \"#ed7953\"], [0.7777777777777778, \"#fb9f3a\"], [0.8888888888888888, \"#fdca26\"], [1.0, \"#f0f921\"]], \"type\": \"histogram2dcontour\"}], \"mesh3d\": [{\"colorbar\": {\"outlinewidth\": 0, \"ticks\": \"\"}, \"type\": \"mesh3d\"}], \"parcoords\": [{\"line\": {\"colorbar\": {\"outlinewidth\": 0, \"ticks\": \"\"}}, \"type\": \"parcoords\"}], \"pie\": [{\"automargin\": true, \"type\": \"pie\"}], \"scatter\": [{\"marker\": {\"colorbar\": {\"outlinewidth\": 0, \"ticks\": \"\"}}, \"type\": \"scatter\"}], \"scatter3d\": [{\"line\": {\"colorbar\": {\"outlinewidth\": 0, \"ticks\": \"\"}}, \"marker\": {\"colorbar\": {\"outlinewidth\": 0, \"ticks\": \"\"}}, \"type\": \"scatter3d\"}], \"scattercarpet\": [{\"marker\": {\"colorbar\": {\"outlinewidth\": 0, \"ticks\": \"\"}}, \"type\": \"scattercarpet\"}], \"scattergeo\": [{\"marker\": {\"colorbar\": {\"outlinewidth\": 0, \"ticks\": \"\"}}, \"type\": \"scattergeo\"}], \"scattergl\": [{\"marker\": {\"colorbar\": {\"outlinewidth\": 0, \"ticks\": \"\"}}, \"type\": \"scattergl\"}], \"scattermapbox\": [{\"marker\": {\"colorbar\": {\"outlinewidth\": 0, \"ticks\": \"\"}}, \"type\": \"scattermapbox\"}], \"scatterpolar\": [{\"marker\": {\"colorbar\": {\"outlinewidth\": 0, \"ticks\": \"\"}}, \"type\": \"scatterpolar\"}], \"scatterpolargl\": [{\"marker\": {\"colorbar\": {\"outlinewidth\": 0, \"ticks\": \"\"}}, \"type\": \"scatterpolargl\"}], \"scatterternary\": [{\"marker\": {\"colorbar\": {\"outlinewidth\": 0, \"ticks\": \"\"}}, \"type\": \"scatterternary\"}], \"surface\": [{\"colorbar\": {\"outlinewidth\": 0, \"ticks\": \"\"}, \"colorscale\": [[0.0, \"#0d0887\"], [0.1111111111111111, \"#46039f\"], [0.2222222222222222, \"#7201a8\"], [0.3333333333333333, \"#9c179e\"], [0.4444444444444444, \"#bd3786\"], [0.5555555555555556, \"#d8576b\"], [0.6666666666666666, \"#ed7953\"], [0.7777777777777778, \"#fb9f3a\"], [0.8888888888888888, \"#fdca26\"], [1.0, \"#f0f921\"]], \"type\": \"surface\"}], \"table\": [{\"cells\": {\"fill\": {\"color\": \"#EBF0F8\"}, \"line\": {\"color\": \"white\"}}, \"header\": {\"fill\": {\"color\": \"#C8D4E3\"}, \"line\": {\"color\": \"white\"}}, \"type\": \"table\"}]}, \"layout\": {\"annotationdefaults\": {\"arrowcolor\": \"#2a3f5f\", \"arrowhead\": 0, \"arrowwidth\": 1}, \"coloraxis\": {\"colorbar\": {\"outlinewidth\": 0, \"ticks\": \"\"}}, \"colorscale\": {\"diverging\": [[0, \"#8e0152\"], [0.1, \"#c51b7d\"], [0.2, \"#de77ae\"], [0.3, \"#f1b6da\"], [0.4, \"#fde0ef\"], [0.5, \"#f7f7f7\"], [0.6, \"#e6f5d0\"], [0.7, \"#b8e186\"], [0.8, \"#7fbc41\"], [0.9, \"#4d9221\"], [1, \"#276419\"]], \"sequential\": [[0.0, \"#0d0887\"], [0.1111111111111111, \"#46039f\"], [0.2222222222222222, \"#7201a8\"], [0.3333333333333333, \"#9c179e\"], [0.4444444444444444, \"#bd3786\"], [0.5555555555555556, \"#d8576b\"], [0.6666666666666666, \"#ed7953\"], [0.7777777777777778, \"#fb9f3a\"], [0.8888888888888888, \"#fdca26\"], [1.0, \"#f0f921\"]], \"sequentialminus\": [[0.0, \"#0d0887\"], [0.1111111111111111, \"#46039f\"], [0.2222222222222222, \"#7201a8\"], [0.3333333333333333, \"#9c179e\"], [0.4444444444444444, \"#bd3786\"], [0.5555555555555556, \"#d8576b\"], [0.6666666666666666, \"#ed7953\"], [0.7777777777777778, \"#fb9f3a\"], [0.8888888888888888, \"#fdca26\"], [1.0, \"#f0f921\"]]}, \"colorway\": [\"#636efa\", \"#EF553B\", \"#00cc96\", \"#ab63fa\", \"#FFA15A\", \"#19d3f3\", \"#FF6692\", \"#B6E880\", \"#FF97FF\", \"#FECB52\"], \"font\": {\"color\": \"#2a3f5f\"}, \"geo\": {\"bgcolor\": \"white\", \"lakecolor\": \"white\", \"landcolor\": \"#E5ECF6\", \"showlakes\": true, \"showland\": true, \"subunitcolor\": \"white\"}, \"hoverlabel\": {\"align\": \"left\"}, \"hovermode\": \"closest\", \"mapbox\": {\"style\": \"light\"}, \"paper_bgcolor\": \"white\", \"plot_bgcolor\": \"#E5ECF6\", \"polar\": {\"angularaxis\": {\"gridcolor\": \"white\", \"linecolor\": \"white\", \"ticks\": \"\"}, \"bgcolor\": \"#E5ECF6\", \"radialaxis\": {\"gridcolor\": \"white\", \"linecolor\": \"white\", \"ticks\": \"\"}}, \"scene\": {\"xaxis\": {\"backgroundcolor\": \"#E5ECF6\", \"gridcolor\": \"white\", \"gridwidth\": 2, \"linecolor\": \"white\", \"showbackground\": true, \"ticks\": \"\", \"zerolinecolor\": \"white\"}, \"yaxis\": {\"backgroundcolor\": \"#E5ECF6\", \"gridcolor\": \"white\", \"gridwidth\": 2, \"linecolor\": \"white\", \"showbackground\": true, \"ticks\": \"\", \"zerolinecolor\": \"white\"}, \"zaxis\": {\"backgroundcolor\": \"#E5ECF6\", \"gridcolor\": \"white\", \"gridwidth\": 2, \"linecolor\": \"white\", \"showbackground\": true, \"ticks\": \"\", \"zerolinecolor\": \"white\"}}, \"shapedefaults\": {\"line\": {\"color\": \"#2a3f5f\"}}, \"ternary\": {\"aaxis\": {\"gridcolor\": \"white\", \"linecolor\": \"white\", \"ticks\": \"\"}, \"baxis\": {\"gridcolor\": \"white\", \"linecolor\": \"white\", \"ticks\": \"\"}, \"bgcolor\": \"#E5ECF6\", \"caxis\": {\"gridcolor\": \"white\", \"linecolor\": \"white\", \"ticks\": \"\"}}, \"title\": {\"x\": 0.05}, \"xaxis\": {\"automargin\": true, \"gridcolor\": \"white\", \"linecolor\": \"white\", \"ticks\": \"\", \"title\": {\"standoff\": 15}, \"zerolinecolor\": \"white\", \"zerolinewidth\": 2}, \"yaxis\": {\"automargin\": true, \"gridcolor\": \"white\", \"linecolor\": \"white\", \"ticks\": \"\", \"title\": {\"standoff\": 15}, \"zerolinecolor\": \"white\", \"zerolinewidth\": 2}}}},                        {\"responsive\": true}                    ).then(function(){\n",
       "                            \n",
       "var gd = document.getElementById('71109752-d18e-4b76-9a0e-8f60cfcaed39');\n",
       "var x = new MutationObserver(function (mutations, observer) {{\n",
       "        var display = window.getComputedStyle(gd).display;\n",
       "        if (!display || display === 'none') {{\n",
       "            console.log([gd, 'removed!']);\n",
       "            Plotly.purge(gd);\n",
       "            observer.disconnect();\n",
       "        }}\n",
       "}});\n",
       "\n",
       "// Listen for the removal of the full notebook cells\n",
       "var notebookContainer = gd.closest('#notebook-container');\n",
       "if (notebookContainer) {{\n",
       "    x.observe(notebookContainer, {childList: true});\n",
       "}}\n",
       "\n",
       "// Listen for the clearing of the current output cell\n",
       "var outputEl = gd.closest('.output');\n",
       "if (outputEl) {{\n",
       "    x.observe(outputEl, {childList: true});\n",
       "}}\n",
       "\n",
       "                        })                };                });            </script>        </div>"
      ]
     },
     "metadata": {},
     "output_type": "display_data"
    }
   ],
   "source": [
    "plot_feature_importance(df_survey_train, df_census_train, GradientBoostingRegressor(), ['S_garbage'])"
   ]
  },
  {
   "cell_type": "markdown",
   "metadata": {},
   "source": [
    "### S_instcement\n",
    "Def: Installation of cement floor"
   ]
  },
  {
   "cell_type": "code",
   "execution_count": 17,
   "metadata": {},
   "outputs": [
    {
     "data": {
      "text/plain": [
       "1.0    1381\n",
       "0.0     572\n",
       "Name: S_instcement, dtype: int64"
      ]
     },
     "execution_count": 17,
     "metadata": {},
     "output_type": "execute_result"
    }
   ],
   "source": [
    "df_hh['S_instcement'].value_counts()"
   ]
  },
  {
   "cell_type": "code",
   "execution_count": 18,
   "metadata": {},
   "outputs": [
    {
     "name": "stdout",
     "output_type": "stream",
     "text": [
      "The Area Under ROC curve is 0.7737963833585435\n"
     ]
    },
    {
     "data": {
      "application/vnd.plotly.v1+json": {
       "config": {
        "plotlyServerURL": "https://plot.ly"
       },
       "data": [
        {
         "hovertemplate": "False positive rate=%{x}<br>True positive rate=%{y}<extra></extra>",
         "legendgroup": "",
         "line": {
          "color": "#636efa",
          "dash": "solid"
         },
         "mode": "lines",
         "name": "",
         "orientation": "v",
         "showlegend": false,
         "type": "scatter",
         "x": [
          0,
          0,
          0.00546448087431694,
          0.00546448087431694,
          0.00546448087431694,
          0.00546448087431694,
          0.00546448087431694,
          0.00546448087431694,
          0.00546448087431694,
          0.00546448087431694,
          0.01092896174863388,
          0.01092896174863388,
          0.01092896174863388,
          0.01639344262295082,
          0.01639344262295082,
          0.01639344262295082,
          0.01639344262295082,
          0.02185792349726776,
          0.02185792349726776,
          0.02185792349726776,
          0.02185792349726776,
          0.02185792349726776,
          0.02185792349726776,
          0.02185792349726776,
          0.03278688524590164,
          0.03278688524590164,
          0.04918032786885246,
          0.060109289617486336,
          0.060109289617486336,
          0.06557377049180328,
          0.06557377049180328,
          0.06557377049180328,
          0.06557377049180328,
          0.07103825136612021,
          0.07103825136612021,
          0.07103825136612021,
          0.07103825136612021,
          0.07103825136612021,
          0.08196721311475409,
          0.08196721311475409,
          0.08196721311475409,
          0.08196721311475409,
          0.09836065573770492,
          0.09836065573770492,
          0.09836065573770492,
          0.09836065573770492,
          0.11475409836065574,
          0.12021857923497267,
          0.12568306010928962,
          0.13114754098360656,
          0.14207650273224043,
          0.14754098360655737,
          0.14754098360655737,
          0.16939890710382513,
          0.17486338797814208,
          0.17486338797814208,
          0.18579234972677597,
          0.18579234972677597,
          0.18579234972677597,
          0.20218579234972678,
          0.20765027322404372,
          0.2185792349726776,
          0.2185792349726776,
          0.22950819672131148,
          0.22950819672131148,
          0.24043715846994534,
          0.2459016393442623,
          0.25136612021857924,
          0.25136612021857924,
          0.2786885245901639,
          0.2786885245901639,
          0.2896174863387978,
          0.2896174863387978,
          0.3005464480874317,
          0.30601092896174864,
          0.32786885245901637,
          0.3551912568306011,
          0.366120218579235,
          0.4262295081967213,
          0.43169398907103823,
          0.5136612021857924,
          0.546448087431694,
          0.5901639344262295,
          0.6229508196721312,
          0.6338797814207651,
          0.7103825136612022,
          0.7158469945355191,
          0.7213114754098361,
          0.7431693989071039,
          0.8524590163934426,
          0.9016393442622951,
          0.912568306010929,
          0.9617486338797814,
          0.9672131147540983,
          0.9890710382513661,
          0.994535519125683,
          1
         ],
         "xaxis": "x",
         "y": [
          0,
          0.0024937655860349127,
          0.004987531172069825,
          0.007481296758104738,
          0.012468827930174564,
          0.02493765586034913,
          0.029925187032418952,
          0.0399002493765586,
          0.05236907730673317,
          0.05486284289276808,
          0.059850374064837904,
          0.06483790523690773,
          0.06733167082294264,
          0.08977556109725686,
          0.10723192019950124,
          0.1172069825436409,
          0.11970074812967581,
          0.12219451371571072,
          0.14214463840399003,
          0.14713216957605985,
          0.16708229426433915,
          0.18703241895261846,
          0.19201995012468828,
          0.1970074812967581,
          0.22693266832917705,
          0.23690773067331672,
          0.26433915211970077,
          0.2967581047381546,
          0.29925187032418954,
          0.30673316708229426,
          0.32917705735660846,
          0.341645885286783,
          0.34413965087281795,
          0.3491271820448878,
          0.35910224438902744,
          0.36658354114713215,
          0.3790523690773067,
          0.38403990024937656,
          0.3915211970074813,
          0.39900249376558605,
          0.4089775561097257,
          0.4314214463840399,
          0.44139650872817954,
          0.4463840399002494,
          0.4488778054862843,
          0.45885286783042395,
          0.47381546134663344,
          0.486284289276808,
          0.4937655860349127,
          0.5087281795511222,
          0.5187032418952618,
          0.5261845386533666,
          0.5311720698254364,
          0.5386533665835411,
          0.5411471321695761,
          0.543640897755611,
          0.5511221945137157,
          0.5561097256857855,
          0.5586034912718204,
          0.5635910224438903,
          0.5810473815461347,
          0.6209476309226932,
          0.6259351620947631,
          0.6408977556109726,
          0.6433915211970075,
          0.6683291770573566,
          0.6708229426433915,
          0.6758104738154613,
          0.6783042394014963,
          0.7057356608478803,
          0.7356608478802993,
          0.743142144638404,
          0.7531172069825436,
          0.7556109725685786,
          0.7581047381546134,
          0.770573566084788,
          0.7780548628428927,
          0.7780548628428927,
          0.8154613466334164,
          0.8154613466334164,
          0.8329177057356608,
          0.8553615960099751,
          0.8827930174563591,
          0.8927680798004988,
          0.8977556109725686,
          0.9301745635910225,
          0.9376558603491272,
          0.940149625935162,
          0.9501246882793017,
          0.9825436408977556,
          0.9850374064837906,
          0.9900249376558603,
          0.9975062344139651,
          0.9975062344139651,
          0.9975062344139651,
          0.9975062344139651,
          1
         ],
         "yaxis": "y"
        }
       ],
       "layout": {
        "height": 600,
        "legend": {
         "tracegroupgap": 0
        },
        "template": {
         "data": {
          "bar": [
           {
            "error_x": {
             "color": "#2a3f5f"
            },
            "error_y": {
             "color": "#2a3f5f"
            },
            "marker": {
             "line": {
              "color": "#E5ECF6",
              "width": 0.5
             }
            },
            "type": "bar"
           }
          ],
          "barpolar": [
           {
            "marker": {
             "line": {
              "color": "#E5ECF6",
              "width": 0.5
             }
            },
            "type": "barpolar"
           }
          ],
          "carpet": [
           {
            "aaxis": {
             "endlinecolor": "#2a3f5f",
             "gridcolor": "white",
             "linecolor": "white",
             "minorgridcolor": "white",
             "startlinecolor": "#2a3f5f"
            },
            "baxis": {
             "endlinecolor": "#2a3f5f",
             "gridcolor": "white",
             "linecolor": "white",
             "minorgridcolor": "white",
             "startlinecolor": "#2a3f5f"
            },
            "type": "carpet"
           }
          ],
          "choropleth": [
           {
            "colorbar": {
             "outlinewidth": 0,
             "ticks": ""
            },
            "type": "choropleth"
           }
          ],
          "contour": [
           {
            "colorbar": {
             "outlinewidth": 0,
             "ticks": ""
            },
            "colorscale": [
             [
              0,
              "#0d0887"
             ],
             [
              0.1111111111111111,
              "#46039f"
             ],
             [
              0.2222222222222222,
              "#7201a8"
             ],
             [
              0.3333333333333333,
              "#9c179e"
             ],
             [
              0.4444444444444444,
              "#bd3786"
             ],
             [
              0.5555555555555556,
              "#d8576b"
             ],
             [
              0.6666666666666666,
              "#ed7953"
             ],
             [
              0.7777777777777778,
              "#fb9f3a"
             ],
             [
              0.8888888888888888,
              "#fdca26"
             ],
             [
              1,
              "#f0f921"
             ]
            ],
            "type": "contour"
           }
          ],
          "contourcarpet": [
           {
            "colorbar": {
             "outlinewidth": 0,
             "ticks": ""
            },
            "type": "contourcarpet"
           }
          ],
          "heatmap": [
           {
            "colorbar": {
             "outlinewidth": 0,
             "ticks": ""
            },
            "colorscale": [
             [
              0,
              "#0d0887"
             ],
             [
              0.1111111111111111,
              "#46039f"
             ],
             [
              0.2222222222222222,
              "#7201a8"
             ],
             [
              0.3333333333333333,
              "#9c179e"
             ],
             [
              0.4444444444444444,
              "#bd3786"
             ],
             [
              0.5555555555555556,
              "#d8576b"
             ],
             [
              0.6666666666666666,
              "#ed7953"
             ],
             [
              0.7777777777777778,
              "#fb9f3a"
             ],
             [
              0.8888888888888888,
              "#fdca26"
             ],
             [
              1,
              "#f0f921"
             ]
            ],
            "type": "heatmap"
           }
          ],
          "heatmapgl": [
           {
            "colorbar": {
             "outlinewidth": 0,
             "ticks": ""
            },
            "colorscale": [
             [
              0,
              "#0d0887"
             ],
             [
              0.1111111111111111,
              "#46039f"
             ],
             [
              0.2222222222222222,
              "#7201a8"
             ],
             [
              0.3333333333333333,
              "#9c179e"
             ],
             [
              0.4444444444444444,
              "#bd3786"
             ],
             [
              0.5555555555555556,
              "#d8576b"
             ],
             [
              0.6666666666666666,
              "#ed7953"
             ],
             [
              0.7777777777777778,
              "#fb9f3a"
             ],
             [
              0.8888888888888888,
              "#fdca26"
             ],
             [
              1,
              "#f0f921"
             ]
            ],
            "type": "heatmapgl"
           }
          ],
          "histogram": [
           {
            "marker": {
             "colorbar": {
              "outlinewidth": 0,
              "ticks": ""
             }
            },
            "type": "histogram"
           }
          ],
          "histogram2d": [
           {
            "colorbar": {
             "outlinewidth": 0,
             "ticks": ""
            },
            "colorscale": [
             [
              0,
              "#0d0887"
             ],
             [
              0.1111111111111111,
              "#46039f"
             ],
             [
              0.2222222222222222,
              "#7201a8"
             ],
             [
              0.3333333333333333,
              "#9c179e"
             ],
             [
              0.4444444444444444,
              "#bd3786"
             ],
             [
              0.5555555555555556,
              "#d8576b"
             ],
             [
              0.6666666666666666,
              "#ed7953"
             ],
             [
              0.7777777777777778,
              "#fb9f3a"
             ],
             [
              0.8888888888888888,
              "#fdca26"
             ],
             [
              1,
              "#f0f921"
             ]
            ],
            "type": "histogram2d"
           }
          ],
          "histogram2dcontour": [
           {
            "colorbar": {
             "outlinewidth": 0,
             "ticks": ""
            },
            "colorscale": [
             [
              0,
              "#0d0887"
             ],
             [
              0.1111111111111111,
              "#46039f"
             ],
             [
              0.2222222222222222,
              "#7201a8"
             ],
             [
              0.3333333333333333,
              "#9c179e"
             ],
             [
              0.4444444444444444,
              "#bd3786"
             ],
             [
              0.5555555555555556,
              "#d8576b"
             ],
             [
              0.6666666666666666,
              "#ed7953"
             ],
             [
              0.7777777777777778,
              "#fb9f3a"
             ],
             [
              0.8888888888888888,
              "#fdca26"
             ],
             [
              1,
              "#f0f921"
             ]
            ],
            "type": "histogram2dcontour"
           }
          ],
          "mesh3d": [
           {
            "colorbar": {
             "outlinewidth": 0,
             "ticks": ""
            },
            "type": "mesh3d"
           }
          ],
          "parcoords": [
           {
            "line": {
             "colorbar": {
              "outlinewidth": 0,
              "ticks": ""
             }
            },
            "type": "parcoords"
           }
          ],
          "pie": [
           {
            "automargin": true,
            "type": "pie"
           }
          ],
          "scatter": [
           {
            "marker": {
             "colorbar": {
              "outlinewidth": 0,
              "ticks": ""
             }
            },
            "type": "scatter"
           }
          ],
          "scatter3d": [
           {
            "line": {
             "colorbar": {
              "outlinewidth": 0,
              "ticks": ""
             }
            },
            "marker": {
             "colorbar": {
              "outlinewidth": 0,
              "ticks": ""
             }
            },
            "type": "scatter3d"
           }
          ],
          "scattercarpet": [
           {
            "marker": {
             "colorbar": {
              "outlinewidth": 0,
              "ticks": ""
             }
            },
            "type": "scattercarpet"
           }
          ],
          "scattergeo": [
           {
            "marker": {
             "colorbar": {
              "outlinewidth": 0,
              "ticks": ""
             }
            },
            "type": "scattergeo"
           }
          ],
          "scattergl": [
           {
            "marker": {
             "colorbar": {
              "outlinewidth": 0,
              "ticks": ""
             }
            },
            "type": "scattergl"
           }
          ],
          "scattermapbox": [
           {
            "marker": {
             "colorbar": {
              "outlinewidth": 0,
              "ticks": ""
             }
            },
            "type": "scattermapbox"
           }
          ],
          "scatterpolar": [
           {
            "marker": {
             "colorbar": {
              "outlinewidth": 0,
              "ticks": ""
             }
            },
            "type": "scatterpolar"
           }
          ],
          "scatterpolargl": [
           {
            "marker": {
             "colorbar": {
              "outlinewidth": 0,
              "ticks": ""
             }
            },
            "type": "scatterpolargl"
           }
          ],
          "scatterternary": [
           {
            "marker": {
             "colorbar": {
              "outlinewidth": 0,
              "ticks": ""
             }
            },
            "type": "scatterternary"
           }
          ],
          "surface": [
           {
            "colorbar": {
             "outlinewidth": 0,
             "ticks": ""
            },
            "colorscale": [
             [
              0,
              "#0d0887"
             ],
             [
              0.1111111111111111,
              "#46039f"
             ],
             [
              0.2222222222222222,
              "#7201a8"
             ],
             [
              0.3333333333333333,
              "#9c179e"
             ],
             [
              0.4444444444444444,
              "#bd3786"
             ],
             [
              0.5555555555555556,
              "#d8576b"
             ],
             [
              0.6666666666666666,
              "#ed7953"
             ],
             [
              0.7777777777777778,
              "#fb9f3a"
             ],
             [
              0.8888888888888888,
              "#fdca26"
             ],
             [
              1,
              "#f0f921"
             ]
            ],
            "type": "surface"
           }
          ],
          "table": [
           {
            "cells": {
             "fill": {
              "color": "#EBF0F8"
             },
             "line": {
              "color": "white"
             }
            },
            "header": {
             "fill": {
              "color": "#C8D4E3"
             },
             "line": {
              "color": "white"
             }
            },
            "type": "table"
           }
          ]
         },
         "layout": {
          "annotationdefaults": {
           "arrowcolor": "#2a3f5f",
           "arrowhead": 0,
           "arrowwidth": 1
          },
          "coloraxis": {
           "colorbar": {
            "outlinewidth": 0,
            "ticks": ""
           }
          },
          "colorscale": {
           "diverging": [
            [
             0,
             "#8e0152"
            ],
            [
             0.1,
             "#c51b7d"
            ],
            [
             0.2,
             "#de77ae"
            ],
            [
             0.3,
             "#f1b6da"
            ],
            [
             0.4,
             "#fde0ef"
            ],
            [
             0.5,
             "#f7f7f7"
            ],
            [
             0.6,
             "#e6f5d0"
            ],
            [
             0.7,
             "#b8e186"
            ],
            [
             0.8,
             "#7fbc41"
            ],
            [
             0.9,
             "#4d9221"
            ],
            [
             1,
             "#276419"
            ]
           ],
           "sequential": [
            [
             0,
             "#0d0887"
            ],
            [
             0.1111111111111111,
             "#46039f"
            ],
            [
             0.2222222222222222,
             "#7201a8"
            ],
            [
             0.3333333333333333,
             "#9c179e"
            ],
            [
             0.4444444444444444,
             "#bd3786"
            ],
            [
             0.5555555555555556,
             "#d8576b"
            ],
            [
             0.6666666666666666,
             "#ed7953"
            ],
            [
             0.7777777777777778,
             "#fb9f3a"
            ],
            [
             0.8888888888888888,
             "#fdca26"
            ],
            [
             1,
             "#f0f921"
            ]
           ],
           "sequentialminus": [
            [
             0,
             "#0d0887"
            ],
            [
             0.1111111111111111,
             "#46039f"
            ],
            [
             0.2222222222222222,
             "#7201a8"
            ],
            [
             0.3333333333333333,
             "#9c179e"
            ],
            [
             0.4444444444444444,
             "#bd3786"
            ],
            [
             0.5555555555555556,
             "#d8576b"
            ],
            [
             0.6666666666666666,
             "#ed7953"
            ],
            [
             0.7777777777777778,
             "#fb9f3a"
            ],
            [
             0.8888888888888888,
             "#fdca26"
            ],
            [
             1,
             "#f0f921"
            ]
           ]
          },
          "colorway": [
           "#636efa",
           "#EF553B",
           "#00cc96",
           "#ab63fa",
           "#FFA15A",
           "#19d3f3",
           "#FF6692",
           "#B6E880",
           "#FF97FF",
           "#FECB52"
          ],
          "font": {
           "color": "#2a3f5f"
          },
          "geo": {
           "bgcolor": "white",
           "lakecolor": "white",
           "landcolor": "#E5ECF6",
           "showlakes": true,
           "showland": true,
           "subunitcolor": "white"
          },
          "hoverlabel": {
           "align": "left"
          },
          "hovermode": "closest",
          "mapbox": {
           "style": "light"
          },
          "paper_bgcolor": "white",
          "plot_bgcolor": "#E5ECF6",
          "polar": {
           "angularaxis": {
            "gridcolor": "white",
            "linecolor": "white",
            "ticks": ""
           },
           "bgcolor": "#E5ECF6",
           "radialaxis": {
            "gridcolor": "white",
            "linecolor": "white",
            "ticks": ""
           }
          },
          "scene": {
           "xaxis": {
            "backgroundcolor": "#E5ECF6",
            "gridcolor": "white",
            "gridwidth": 2,
            "linecolor": "white",
            "showbackground": true,
            "ticks": "",
            "zerolinecolor": "white"
           },
           "yaxis": {
            "backgroundcolor": "#E5ECF6",
            "gridcolor": "white",
            "gridwidth": 2,
            "linecolor": "white",
            "showbackground": true,
            "ticks": "",
            "zerolinecolor": "white"
           },
           "zaxis": {
            "backgroundcolor": "#E5ECF6",
            "gridcolor": "white",
            "gridwidth": 2,
            "linecolor": "white",
            "showbackground": true,
            "ticks": "",
            "zerolinecolor": "white"
           }
          },
          "shapedefaults": {
           "line": {
            "color": "#2a3f5f"
           }
          },
          "ternary": {
           "aaxis": {
            "gridcolor": "white",
            "linecolor": "white",
            "ticks": ""
           },
           "baxis": {
            "gridcolor": "white",
            "linecolor": "white",
            "ticks": ""
           },
           "bgcolor": "#E5ECF6",
           "caxis": {
            "gridcolor": "white",
            "linecolor": "white",
            "ticks": ""
           }
          },
          "title": {
           "x": 0.05
          },
          "xaxis": {
           "automargin": true,
           "gridcolor": "white",
           "linecolor": "white",
           "ticks": "",
           "title": {
            "standoff": 15
           },
           "zerolinecolor": "white",
           "zerolinewidth": 2
          },
          "yaxis": {
           "automargin": true,
           "gridcolor": "white",
           "linecolor": "white",
           "ticks": "",
           "title": {
            "standoff": 15
           },
           "zerolinecolor": "white",
           "zerolinewidth": 2
          }
         }
        },
        "title": {
         "text": "ROC curve for S_instcement"
        },
        "width": 600,
        "xaxis": {
         "anchor": "y",
         "domain": [
          0,
          1
         ],
         "title": {
          "text": "False positive rate"
         }
        },
        "yaxis": {
         "anchor": "x",
         "domain": [
          0,
          1
         ],
         "title": {
          "text": "True positive rate"
         }
        }
       }
      },
      "text/html": [
       "<div>                            <div id=\"15158c5a-8f44-4881-be5f-7edba731b7fc\" class=\"plotly-graph-div\" style=\"height:600px; width:600px;\"></div>            <script type=\"text/javascript\">                require([\"plotly\"], function(Plotly) {                    window.PLOTLYENV=window.PLOTLYENV || {};                                    if (document.getElementById(\"15158c5a-8f44-4881-be5f-7edba731b7fc\")) {                    Plotly.newPlot(                        \"15158c5a-8f44-4881-be5f-7edba731b7fc\",                        [{\"hovertemplate\": \"False positive rate=%{x}<br>True positive rate=%{y}<extra></extra>\", \"legendgroup\": \"\", \"line\": {\"color\": \"#636efa\", \"dash\": \"solid\"}, \"mode\": \"lines\", \"name\": \"\", \"orientation\": \"v\", \"showlegend\": false, \"type\": \"scatter\", \"x\": [0.0, 0.0, 0.00546448087431694, 0.00546448087431694, 0.00546448087431694, 0.00546448087431694, 0.00546448087431694, 0.00546448087431694, 0.00546448087431694, 0.00546448087431694, 0.01092896174863388, 0.01092896174863388, 0.01092896174863388, 0.01639344262295082, 0.01639344262295082, 0.01639344262295082, 0.01639344262295082, 0.02185792349726776, 0.02185792349726776, 0.02185792349726776, 0.02185792349726776, 0.02185792349726776, 0.02185792349726776, 0.02185792349726776, 0.03278688524590164, 0.03278688524590164, 0.04918032786885246, 0.060109289617486336, 0.060109289617486336, 0.06557377049180328, 0.06557377049180328, 0.06557377049180328, 0.06557377049180328, 0.07103825136612021, 0.07103825136612021, 0.07103825136612021, 0.07103825136612021, 0.07103825136612021, 0.08196721311475409, 0.08196721311475409, 0.08196721311475409, 0.08196721311475409, 0.09836065573770492, 0.09836065573770492, 0.09836065573770492, 0.09836065573770492, 0.11475409836065574, 0.12021857923497267, 0.12568306010928962, 0.13114754098360656, 0.14207650273224043, 0.14754098360655737, 0.14754098360655737, 0.16939890710382513, 0.17486338797814208, 0.17486338797814208, 0.18579234972677597, 0.18579234972677597, 0.18579234972677597, 0.20218579234972678, 0.20765027322404372, 0.2185792349726776, 0.2185792349726776, 0.22950819672131148, 0.22950819672131148, 0.24043715846994534, 0.2459016393442623, 0.25136612021857924, 0.25136612021857924, 0.2786885245901639, 0.2786885245901639, 0.2896174863387978, 0.2896174863387978, 0.3005464480874317, 0.30601092896174864, 0.32786885245901637, 0.3551912568306011, 0.366120218579235, 0.4262295081967213, 0.43169398907103823, 0.5136612021857924, 0.546448087431694, 0.5901639344262295, 0.6229508196721312, 0.6338797814207651, 0.7103825136612022, 0.7158469945355191, 0.7213114754098361, 0.7431693989071039, 0.8524590163934426, 0.9016393442622951, 0.912568306010929, 0.9617486338797814, 0.9672131147540983, 0.9890710382513661, 0.994535519125683, 1.0], \"xaxis\": \"x\", \"y\": [0.0, 0.0024937655860349127, 0.004987531172069825, 0.007481296758104738, 0.012468827930174564, 0.02493765586034913, 0.029925187032418952, 0.0399002493765586, 0.05236907730673317, 0.05486284289276808, 0.059850374064837904, 0.06483790523690773, 0.06733167082294264, 0.08977556109725686, 0.10723192019950124, 0.1172069825436409, 0.11970074812967581, 0.12219451371571072, 0.14214463840399003, 0.14713216957605985, 0.16708229426433915, 0.18703241895261846, 0.19201995012468828, 0.1970074812967581, 0.22693266832917705, 0.23690773067331672, 0.26433915211970077, 0.2967581047381546, 0.29925187032418954, 0.30673316708229426, 0.32917705735660846, 0.341645885286783, 0.34413965087281795, 0.3491271820448878, 0.35910224438902744, 0.36658354114713215, 0.3790523690773067, 0.38403990024937656, 0.3915211970074813, 0.39900249376558605, 0.4089775561097257, 0.4314214463840399, 0.44139650872817954, 0.4463840399002494, 0.4488778054862843, 0.45885286783042395, 0.47381546134663344, 0.486284289276808, 0.4937655860349127, 0.5087281795511222, 0.5187032418952618, 0.5261845386533666, 0.5311720698254364, 0.5386533665835411, 0.5411471321695761, 0.543640897755611, 0.5511221945137157, 0.5561097256857855, 0.5586034912718204, 0.5635910224438903, 0.5810473815461347, 0.6209476309226932, 0.6259351620947631, 0.6408977556109726, 0.6433915211970075, 0.6683291770573566, 0.6708229426433915, 0.6758104738154613, 0.6783042394014963, 0.7057356608478803, 0.7356608478802993, 0.743142144638404, 0.7531172069825436, 0.7556109725685786, 0.7581047381546134, 0.770573566084788, 0.7780548628428927, 0.7780548628428927, 0.8154613466334164, 0.8154613466334164, 0.8329177057356608, 0.8553615960099751, 0.8827930174563591, 0.8927680798004988, 0.8977556109725686, 0.9301745635910225, 0.9376558603491272, 0.940149625935162, 0.9501246882793017, 0.9825436408977556, 0.9850374064837906, 0.9900249376558603, 0.9975062344139651, 0.9975062344139651, 0.9975062344139651, 0.9975062344139651, 1.0], \"yaxis\": \"y\"}],                        {\"height\": 600, \"legend\": {\"tracegroupgap\": 0}, \"template\": {\"data\": {\"bar\": [{\"error_x\": {\"color\": \"#2a3f5f\"}, \"error_y\": {\"color\": \"#2a3f5f\"}, \"marker\": {\"line\": {\"color\": \"#E5ECF6\", \"width\": 0.5}}, \"type\": \"bar\"}], \"barpolar\": [{\"marker\": {\"line\": {\"color\": \"#E5ECF6\", \"width\": 0.5}}, \"type\": \"barpolar\"}], \"carpet\": [{\"aaxis\": {\"endlinecolor\": \"#2a3f5f\", \"gridcolor\": \"white\", \"linecolor\": \"white\", \"minorgridcolor\": \"white\", \"startlinecolor\": \"#2a3f5f\"}, \"baxis\": {\"endlinecolor\": \"#2a3f5f\", \"gridcolor\": \"white\", \"linecolor\": \"white\", \"minorgridcolor\": \"white\", \"startlinecolor\": \"#2a3f5f\"}, \"type\": \"carpet\"}], \"choropleth\": [{\"colorbar\": {\"outlinewidth\": 0, \"ticks\": \"\"}, \"type\": \"choropleth\"}], \"contour\": [{\"colorbar\": {\"outlinewidth\": 0, \"ticks\": \"\"}, \"colorscale\": [[0.0, \"#0d0887\"], [0.1111111111111111, \"#46039f\"], [0.2222222222222222, \"#7201a8\"], [0.3333333333333333, \"#9c179e\"], [0.4444444444444444, \"#bd3786\"], [0.5555555555555556, \"#d8576b\"], [0.6666666666666666, \"#ed7953\"], [0.7777777777777778, \"#fb9f3a\"], [0.8888888888888888, \"#fdca26\"], [1.0, \"#f0f921\"]], \"type\": \"contour\"}], \"contourcarpet\": [{\"colorbar\": {\"outlinewidth\": 0, \"ticks\": \"\"}, \"type\": \"contourcarpet\"}], \"heatmap\": [{\"colorbar\": {\"outlinewidth\": 0, \"ticks\": \"\"}, \"colorscale\": [[0.0, \"#0d0887\"], [0.1111111111111111, \"#46039f\"], [0.2222222222222222, \"#7201a8\"], [0.3333333333333333, \"#9c179e\"], [0.4444444444444444, \"#bd3786\"], [0.5555555555555556, \"#d8576b\"], [0.6666666666666666, \"#ed7953\"], [0.7777777777777778, \"#fb9f3a\"], [0.8888888888888888, \"#fdca26\"], [1.0, \"#f0f921\"]], \"type\": \"heatmap\"}], \"heatmapgl\": [{\"colorbar\": {\"outlinewidth\": 0, \"ticks\": \"\"}, \"colorscale\": [[0.0, \"#0d0887\"], [0.1111111111111111, \"#46039f\"], [0.2222222222222222, \"#7201a8\"], [0.3333333333333333, \"#9c179e\"], [0.4444444444444444, \"#bd3786\"], [0.5555555555555556, \"#d8576b\"], [0.6666666666666666, \"#ed7953\"], [0.7777777777777778, \"#fb9f3a\"], [0.8888888888888888, \"#fdca26\"], [1.0, \"#f0f921\"]], \"type\": \"heatmapgl\"}], \"histogram\": [{\"marker\": {\"colorbar\": {\"outlinewidth\": 0, \"ticks\": \"\"}}, \"type\": \"histogram\"}], \"histogram2d\": [{\"colorbar\": {\"outlinewidth\": 0, \"ticks\": \"\"}, \"colorscale\": [[0.0, \"#0d0887\"], [0.1111111111111111, \"#46039f\"], [0.2222222222222222, \"#7201a8\"], [0.3333333333333333, \"#9c179e\"], [0.4444444444444444, \"#bd3786\"], [0.5555555555555556, \"#d8576b\"], [0.6666666666666666, \"#ed7953\"], [0.7777777777777778, \"#fb9f3a\"], [0.8888888888888888, \"#fdca26\"], [1.0, \"#f0f921\"]], \"type\": \"histogram2d\"}], \"histogram2dcontour\": [{\"colorbar\": {\"outlinewidth\": 0, \"ticks\": \"\"}, \"colorscale\": [[0.0, \"#0d0887\"], [0.1111111111111111, \"#46039f\"], [0.2222222222222222, \"#7201a8\"], [0.3333333333333333, \"#9c179e\"], [0.4444444444444444, \"#bd3786\"], [0.5555555555555556, \"#d8576b\"], [0.6666666666666666, \"#ed7953\"], [0.7777777777777778, \"#fb9f3a\"], [0.8888888888888888, \"#fdca26\"], [1.0, \"#f0f921\"]], \"type\": \"histogram2dcontour\"}], \"mesh3d\": [{\"colorbar\": {\"outlinewidth\": 0, \"ticks\": \"\"}, \"type\": \"mesh3d\"}], \"parcoords\": [{\"line\": {\"colorbar\": {\"outlinewidth\": 0, \"ticks\": \"\"}}, \"type\": \"parcoords\"}], \"pie\": [{\"automargin\": true, \"type\": \"pie\"}], \"scatter\": [{\"marker\": {\"colorbar\": {\"outlinewidth\": 0, \"ticks\": \"\"}}, \"type\": \"scatter\"}], \"scatter3d\": [{\"line\": {\"colorbar\": {\"outlinewidth\": 0, \"ticks\": \"\"}}, \"marker\": {\"colorbar\": {\"outlinewidth\": 0, \"ticks\": \"\"}}, \"type\": \"scatter3d\"}], \"scattercarpet\": [{\"marker\": {\"colorbar\": {\"outlinewidth\": 0, \"ticks\": \"\"}}, \"type\": \"scattercarpet\"}], \"scattergeo\": [{\"marker\": {\"colorbar\": {\"outlinewidth\": 0, \"ticks\": \"\"}}, \"type\": \"scattergeo\"}], \"scattergl\": [{\"marker\": {\"colorbar\": {\"outlinewidth\": 0, \"ticks\": \"\"}}, \"type\": \"scattergl\"}], \"scattermapbox\": [{\"marker\": {\"colorbar\": {\"outlinewidth\": 0, \"ticks\": \"\"}}, \"type\": \"scattermapbox\"}], \"scatterpolar\": [{\"marker\": {\"colorbar\": {\"outlinewidth\": 0, \"ticks\": \"\"}}, \"type\": \"scatterpolar\"}], \"scatterpolargl\": [{\"marker\": {\"colorbar\": {\"outlinewidth\": 0, \"ticks\": \"\"}}, \"type\": \"scatterpolargl\"}], \"scatterternary\": [{\"marker\": {\"colorbar\": {\"outlinewidth\": 0, \"ticks\": \"\"}}, \"type\": \"scatterternary\"}], \"surface\": [{\"colorbar\": {\"outlinewidth\": 0, \"ticks\": \"\"}, \"colorscale\": [[0.0, \"#0d0887\"], [0.1111111111111111, \"#46039f\"], [0.2222222222222222, \"#7201a8\"], [0.3333333333333333, \"#9c179e\"], [0.4444444444444444, \"#bd3786\"], [0.5555555555555556, \"#d8576b\"], [0.6666666666666666, \"#ed7953\"], [0.7777777777777778, \"#fb9f3a\"], [0.8888888888888888, \"#fdca26\"], [1.0, \"#f0f921\"]], \"type\": \"surface\"}], \"table\": [{\"cells\": {\"fill\": {\"color\": \"#EBF0F8\"}, \"line\": {\"color\": \"white\"}}, \"header\": {\"fill\": {\"color\": \"#C8D4E3\"}, \"line\": {\"color\": \"white\"}}, \"type\": \"table\"}]}, \"layout\": {\"annotationdefaults\": {\"arrowcolor\": \"#2a3f5f\", \"arrowhead\": 0, \"arrowwidth\": 1}, \"coloraxis\": {\"colorbar\": {\"outlinewidth\": 0, \"ticks\": \"\"}}, \"colorscale\": {\"diverging\": [[0, \"#8e0152\"], [0.1, \"#c51b7d\"], [0.2, \"#de77ae\"], [0.3, \"#f1b6da\"], [0.4, \"#fde0ef\"], [0.5, \"#f7f7f7\"], [0.6, \"#e6f5d0\"], [0.7, \"#b8e186\"], [0.8, \"#7fbc41\"], [0.9, \"#4d9221\"], [1, \"#276419\"]], \"sequential\": [[0.0, \"#0d0887\"], [0.1111111111111111, \"#46039f\"], [0.2222222222222222, \"#7201a8\"], [0.3333333333333333, \"#9c179e\"], [0.4444444444444444, \"#bd3786\"], [0.5555555555555556, \"#d8576b\"], [0.6666666666666666, \"#ed7953\"], [0.7777777777777778, \"#fb9f3a\"], [0.8888888888888888, \"#fdca26\"], [1.0, \"#f0f921\"]], \"sequentialminus\": [[0.0, \"#0d0887\"], [0.1111111111111111, \"#46039f\"], [0.2222222222222222, \"#7201a8\"], [0.3333333333333333, \"#9c179e\"], [0.4444444444444444, \"#bd3786\"], [0.5555555555555556, \"#d8576b\"], [0.6666666666666666, \"#ed7953\"], [0.7777777777777778, \"#fb9f3a\"], [0.8888888888888888, \"#fdca26\"], [1.0, \"#f0f921\"]]}, \"colorway\": [\"#636efa\", \"#EF553B\", \"#00cc96\", \"#ab63fa\", \"#FFA15A\", \"#19d3f3\", \"#FF6692\", \"#B6E880\", \"#FF97FF\", \"#FECB52\"], \"font\": {\"color\": \"#2a3f5f\"}, \"geo\": {\"bgcolor\": \"white\", \"lakecolor\": \"white\", \"landcolor\": \"#E5ECF6\", \"showlakes\": true, \"showland\": true, \"subunitcolor\": \"white\"}, \"hoverlabel\": {\"align\": \"left\"}, \"hovermode\": \"closest\", \"mapbox\": {\"style\": \"light\"}, \"paper_bgcolor\": \"white\", \"plot_bgcolor\": \"#E5ECF6\", \"polar\": {\"angularaxis\": {\"gridcolor\": \"white\", \"linecolor\": \"white\", \"ticks\": \"\"}, \"bgcolor\": \"#E5ECF6\", \"radialaxis\": {\"gridcolor\": \"white\", \"linecolor\": \"white\", \"ticks\": \"\"}}, \"scene\": {\"xaxis\": {\"backgroundcolor\": \"#E5ECF6\", \"gridcolor\": \"white\", \"gridwidth\": 2, \"linecolor\": \"white\", \"showbackground\": true, \"ticks\": \"\", \"zerolinecolor\": \"white\"}, \"yaxis\": {\"backgroundcolor\": \"#E5ECF6\", \"gridcolor\": \"white\", \"gridwidth\": 2, \"linecolor\": \"white\", \"showbackground\": true, \"ticks\": \"\", \"zerolinecolor\": \"white\"}, \"zaxis\": {\"backgroundcolor\": \"#E5ECF6\", \"gridcolor\": \"white\", \"gridwidth\": 2, \"linecolor\": \"white\", \"showbackground\": true, \"ticks\": \"\", \"zerolinecolor\": \"white\"}}, \"shapedefaults\": {\"line\": {\"color\": \"#2a3f5f\"}}, \"ternary\": {\"aaxis\": {\"gridcolor\": \"white\", \"linecolor\": \"white\", \"ticks\": \"\"}, \"baxis\": {\"gridcolor\": \"white\", \"linecolor\": \"white\", \"ticks\": \"\"}, \"bgcolor\": \"#E5ECF6\", \"caxis\": {\"gridcolor\": \"white\", \"linecolor\": \"white\", \"ticks\": \"\"}}, \"title\": {\"x\": 0.05}, \"xaxis\": {\"automargin\": true, \"gridcolor\": \"white\", \"linecolor\": \"white\", \"ticks\": \"\", \"title\": {\"standoff\": 15}, \"zerolinecolor\": \"white\", \"zerolinewidth\": 2}, \"yaxis\": {\"automargin\": true, \"gridcolor\": \"white\", \"linecolor\": \"white\", \"ticks\": \"\", \"title\": {\"standoff\": 15}, \"zerolinecolor\": \"white\", \"zerolinewidth\": 2}}}, \"title\": {\"text\": \"ROC curve for S_instcement\"}, \"width\": 600, \"xaxis\": {\"anchor\": \"y\", \"domain\": [0.0, 1.0], \"title\": {\"text\": \"False positive rate\"}}, \"yaxis\": {\"anchor\": \"x\", \"domain\": [0.0, 1.0], \"title\": {\"text\": \"True positive rate\"}}},                        {\"responsive\": true}                    ).then(function(){\n",
       "                            \n",
       "var gd = document.getElementById('15158c5a-8f44-4881-be5f-7edba731b7fc');\n",
       "var x = new MutationObserver(function (mutations, observer) {{\n",
       "        var display = window.getComputedStyle(gd).display;\n",
       "        if (!display || display === 'none') {{\n",
       "            console.log([gd, 'removed!']);\n",
       "            Plotly.purge(gd);\n",
       "            observer.disconnect();\n",
       "        }}\n",
       "}});\n",
       "\n",
       "// Listen for the removal of the full notebook cells\n",
       "var notebookContainer = gd.closest('#notebook-container');\n",
       "if (notebookContainer) {{\n",
       "    x.observe(notebookContainer, {childList: true});\n",
       "}}\n",
       "\n",
       "// Listen for the clearing of the current output cell\n",
       "var outputEl = gd.closest('.output');\n",
       "if (outputEl) {{\n",
       "    x.observe(outputEl, {childList: true});\n",
       "}}\n",
       "\n",
       "                        })                };                });            </script>        </div>"
      ]
     },
     "metadata": {},
     "output_type": "display_data"
    }
   ],
   "source": [
    "plot_AUC_curve(GradientBoostingRegressor(), ['S_instcement'])"
   ]
  },
  {
   "cell_type": "code",
   "execution_count": 19,
   "metadata": {},
   "outputs": [
    {
     "data": {
      "application/vnd.plotly.v1+json": {
       "config": {
        "plotlyServerURL": "https://plot.ly"
       },
       "data": [
        {
         "type": "bar",
         "x": [
          "C_HHpersons",
          "C_waterland",
          "C_HHdirtfloor",
          "C_households",
          "C_people",
          "C_waterhouse",
          "C_refrigerator",
          "C_overcrowding",
          "C_earnincome",
          "C_telephone",
          "C_vehicle",
          "C_dropouts515",
          "C_headeduc",
          "C_child05",
          "C_employment",
          "C_gasheater",
          "C_waterbath",
          "C_rooms",
          "C_washing",
          "C_poverty",
          "C_illiterate",
          "C_blocksdirtfloor"
         ],
         "y": [
          0.12909054893586255,
          0.12820613417957297,
          0.09359238184895405,
          0.07548616191825018,
          0.07385998805952926,
          0.056163414112643764,
          0.05389269096036461,
          0.04233347384750541,
          0.0407384998626917,
          0.03816674737477899,
          0.033421356745533926,
          0.03256344902440643,
          0.029862348903495275,
          0.028123105072640476,
          0.02640303154562591,
          0.025552812381724566,
          0.02397082808108926,
          0.02129319083507288,
          0.021149209233735134,
          0.010136547795733588,
          0.009051378176074024,
          0.0069427011047149875
         ]
        }
       ],
       "layout": {
        "template": {
         "data": {
          "bar": [
           {
            "error_x": {
             "color": "#2a3f5f"
            },
            "error_y": {
             "color": "#2a3f5f"
            },
            "marker": {
             "line": {
              "color": "#E5ECF6",
              "width": 0.5
             }
            },
            "type": "bar"
           }
          ],
          "barpolar": [
           {
            "marker": {
             "line": {
              "color": "#E5ECF6",
              "width": 0.5
             }
            },
            "type": "barpolar"
           }
          ],
          "carpet": [
           {
            "aaxis": {
             "endlinecolor": "#2a3f5f",
             "gridcolor": "white",
             "linecolor": "white",
             "minorgridcolor": "white",
             "startlinecolor": "#2a3f5f"
            },
            "baxis": {
             "endlinecolor": "#2a3f5f",
             "gridcolor": "white",
             "linecolor": "white",
             "minorgridcolor": "white",
             "startlinecolor": "#2a3f5f"
            },
            "type": "carpet"
           }
          ],
          "choropleth": [
           {
            "colorbar": {
             "outlinewidth": 0,
             "ticks": ""
            },
            "type": "choropleth"
           }
          ],
          "contour": [
           {
            "colorbar": {
             "outlinewidth": 0,
             "ticks": ""
            },
            "colorscale": [
             [
              0,
              "#0d0887"
             ],
             [
              0.1111111111111111,
              "#46039f"
             ],
             [
              0.2222222222222222,
              "#7201a8"
             ],
             [
              0.3333333333333333,
              "#9c179e"
             ],
             [
              0.4444444444444444,
              "#bd3786"
             ],
             [
              0.5555555555555556,
              "#d8576b"
             ],
             [
              0.6666666666666666,
              "#ed7953"
             ],
             [
              0.7777777777777778,
              "#fb9f3a"
             ],
             [
              0.8888888888888888,
              "#fdca26"
             ],
             [
              1,
              "#f0f921"
             ]
            ],
            "type": "contour"
           }
          ],
          "contourcarpet": [
           {
            "colorbar": {
             "outlinewidth": 0,
             "ticks": ""
            },
            "type": "contourcarpet"
           }
          ],
          "heatmap": [
           {
            "colorbar": {
             "outlinewidth": 0,
             "ticks": ""
            },
            "colorscale": [
             [
              0,
              "#0d0887"
             ],
             [
              0.1111111111111111,
              "#46039f"
             ],
             [
              0.2222222222222222,
              "#7201a8"
             ],
             [
              0.3333333333333333,
              "#9c179e"
             ],
             [
              0.4444444444444444,
              "#bd3786"
             ],
             [
              0.5555555555555556,
              "#d8576b"
             ],
             [
              0.6666666666666666,
              "#ed7953"
             ],
             [
              0.7777777777777778,
              "#fb9f3a"
             ],
             [
              0.8888888888888888,
              "#fdca26"
             ],
             [
              1,
              "#f0f921"
             ]
            ],
            "type": "heatmap"
           }
          ],
          "heatmapgl": [
           {
            "colorbar": {
             "outlinewidth": 0,
             "ticks": ""
            },
            "colorscale": [
             [
              0,
              "#0d0887"
             ],
             [
              0.1111111111111111,
              "#46039f"
             ],
             [
              0.2222222222222222,
              "#7201a8"
             ],
             [
              0.3333333333333333,
              "#9c179e"
             ],
             [
              0.4444444444444444,
              "#bd3786"
             ],
             [
              0.5555555555555556,
              "#d8576b"
             ],
             [
              0.6666666666666666,
              "#ed7953"
             ],
             [
              0.7777777777777778,
              "#fb9f3a"
             ],
             [
              0.8888888888888888,
              "#fdca26"
             ],
             [
              1,
              "#f0f921"
             ]
            ],
            "type": "heatmapgl"
           }
          ],
          "histogram": [
           {
            "marker": {
             "colorbar": {
              "outlinewidth": 0,
              "ticks": ""
             }
            },
            "type": "histogram"
           }
          ],
          "histogram2d": [
           {
            "colorbar": {
             "outlinewidth": 0,
             "ticks": ""
            },
            "colorscale": [
             [
              0,
              "#0d0887"
             ],
             [
              0.1111111111111111,
              "#46039f"
             ],
             [
              0.2222222222222222,
              "#7201a8"
             ],
             [
              0.3333333333333333,
              "#9c179e"
             ],
             [
              0.4444444444444444,
              "#bd3786"
             ],
             [
              0.5555555555555556,
              "#d8576b"
             ],
             [
              0.6666666666666666,
              "#ed7953"
             ],
             [
              0.7777777777777778,
              "#fb9f3a"
             ],
             [
              0.8888888888888888,
              "#fdca26"
             ],
             [
              1,
              "#f0f921"
             ]
            ],
            "type": "histogram2d"
           }
          ],
          "histogram2dcontour": [
           {
            "colorbar": {
             "outlinewidth": 0,
             "ticks": ""
            },
            "colorscale": [
             [
              0,
              "#0d0887"
             ],
             [
              0.1111111111111111,
              "#46039f"
             ],
             [
              0.2222222222222222,
              "#7201a8"
             ],
             [
              0.3333333333333333,
              "#9c179e"
             ],
             [
              0.4444444444444444,
              "#bd3786"
             ],
             [
              0.5555555555555556,
              "#d8576b"
             ],
             [
              0.6666666666666666,
              "#ed7953"
             ],
             [
              0.7777777777777778,
              "#fb9f3a"
             ],
             [
              0.8888888888888888,
              "#fdca26"
             ],
             [
              1,
              "#f0f921"
             ]
            ],
            "type": "histogram2dcontour"
           }
          ],
          "mesh3d": [
           {
            "colorbar": {
             "outlinewidth": 0,
             "ticks": ""
            },
            "type": "mesh3d"
           }
          ],
          "parcoords": [
           {
            "line": {
             "colorbar": {
              "outlinewidth": 0,
              "ticks": ""
             }
            },
            "type": "parcoords"
           }
          ],
          "pie": [
           {
            "automargin": true,
            "type": "pie"
           }
          ],
          "scatter": [
           {
            "marker": {
             "colorbar": {
              "outlinewidth": 0,
              "ticks": ""
             }
            },
            "type": "scatter"
           }
          ],
          "scatter3d": [
           {
            "line": {
             "colorbar": {
              "outlinewidth": 0,
              "ticks": ""
             }
            },
            "marker": {
             "colorbar": {
              "outlinewidth": 0,
              "ticks": ""
             }
            },
            "type": "scatter3d"
           }
          ],
          "scattercarpet": [
           {
            "marker": {
             "colorbar": {
              "outlinewidth": 0,
              "ticks": ""
             }
            },
            "type": "scattercarpet"
           }
          ],
          "scattergeo": [
           {
            "marker": {
             "colorbar": {
              "outlinewidth": 0,
              "ticks": ""
             }
            },
            "type": "scattergeo"
           }
          ],
          "scattergl": [
           {
            "marker": {
             "colorbar": {
              "outlinewidth": 0,
              "ticks": ""
             }
            },
            "type": "scattergl"
           }
          ],
          "scattermapbox": [
           {
            "marker": {
             "colorbar": {
              "outlinewidth": 0,
              "ticks": ""
             }
            },
            "type": "scattermapbox"
           }
          ],
          "scatterpolar": [
           {
            "marker": {
             "colorbar": {
              "outlinewidth": 0,
              "ticks": ""
             }
            },
            "type": "scatterpolar"
           }
          ],
          "scatterpolargl": [
           {
            "marker": {
             "colorbar": {
              "outlinewidth": 0,
              "ticks": ""
             }
            },
            "type": "scatterpolargl"
           }
          ],
          "scatterternary": [
           {
            "marker": {
             "colorbar": {
              "outlinewidth": 0,
              "ticks": ""
             }
            },
            "type": "scatterternary"
           }
          ],
          "surface": [
           {
            "colorbar": {
             "outlinewidth": 0,
             "ticks": ""
            },
            "colorscale": [
             [
              0,
              "#0d0887"
             ],
             [
              0.1111111111111111,
              "#46039f"
             ],
             [
              0.2222222222222222,
              "#7201a8"
             ],
             [
              0.3333333333333333,
              "#9c179e"
             ],
             [
              0.4444444444444444,
              "#bd3786"
             ],
             [
              0.5555555555555556,
              "#d8576b"
             ],
             [
              0.6666666666666666,
              "#ed7953"
             ],
             [
              0.7777777777777778,
              "#fb9f3a"
             ],
             [
              0.8888888888888888,
              "#fdca26"
             ],
             [
              1,
              "#f0f921"
             ]
            ],
            "type": "surface"
           }
          ],
          "table": [
           {
            "cells": {
             "fill": {
              "color": "#EBF0F8"
             },
             "line": {
              "color": "white"
             }
            },
            "header": {
             "fill": {
              "color": "#C8D4E3"
             },
             "line": {
              "color": "white"
             }
            },
            "type": "table"
           }
          ]
         },
         "layout": {
          "annotationdefaults": {
           "arrowcolor": "#2a3f5f",
           "arrowhead": 0,
           "arrowwidth": 1
          },
          "coloraxis": {
           "colorbar": {
            "outlinewidth": 0,
            "ticks": ""
           }
          },
          "colorscale": {
           "diverging": [
            [
             0,
             "#8e0152"
            ],
            [
             0.1,
             "#c51b7d"
            ],
            [
             0.2,
             "#de77ae"
            ],
            [
             0.3,
             "#f1b6da"
            ],
            [
             0.4,
             "#fde0ef"
            ],
            [
             0.5,
             "#f7f7f7"
            ],
            [
             0.6,
             "#e6f5d0"
            ],
            [
             0.7,
             "#b8e186"
            ],
            [
             0.8,
             "#7fbc41"
            ],
            [
             0.9,
             "#4d9221"
            ],
            [
             1,
             "#276419"
            ]
           ],
           "sequential": [
            [
             0,
             "#0d0887"
            ],
            [
             0.1111111111111111,
             "#46039f"
            ],
            [
             0.2222222222222222,
             "#7201a8"
            ],
            [
             0.3333333333333333,
             "#9c179e"
            ],
            [
             0.4444444444444444,
             "#bd3786"
            ],
            [
             0.5555555555555556,
             "#d8576b"
            ],
            [
             0.6666666666666666,
             "#ed7953"
            ],
            [
             0.7777777777777778,
             "#fb9f3a"
            ],
            [
             0.8888888888888888,
             "#fdca26"
            ],
            [
             1,
             "#f0f921"
            ]
           ],
           "sequentialminus": [
            [
             0,
             "#0d0887"
            ],
            [
             0.1111111111111111,
             "#46039f"
            ],
            [
             0.2222222222222222,
             "#7201a8"
            ],
            [
             0.3333333333333333,
             "#9c179e"
            ],
            [
             0.4444444444444444,
             "#bd3786"
            ],
            [
             0.5555555555555556,
             "#d8576b"
            ],
            [
             0.6666666666666666,
             "#ed7953"
            ],
            [
             0.7777777777777778,
             "#fb9f3a"
            ],
            [
             0.8888888888888888,
             "#fdca26"
            ],
            [
             1,
             "#f0f921"
            ]
           ]
          },
          "colorway": [
           "#636efa",
           "#EF553B",
           "#00cc96",
           "#ab63fa",
           "#FFA15A",
           "#19d3f3",
           "#FF6692",
           "#B6E880",
           "#FF97FF",
           "#FECB52"
          ],
          "font": {
           "color": "#2a3f5f"
          },
          "geo": {
           "bgcolor": "white",
           "lakecolor": "white",
           "landcolor": "#E5ECF6",
           "showlakes": true,
           "showland": true,
           "subunitcolor": "white"
          },
          "hoverlabel": {
           "align": "left"
          },
          "hovermode": "closest",
          "mapbox": {
           "style": "light"
          },
          "paper_bgcolor": "white",
          "plot_bgcolor": "#E5ECF6",
          "polar": {
           "angularaxis": {
            "gridcolor": "white",
            "linecolor": "white",
            "ticks": ""
           },
           "bgcolor": "#E5ECF6",
           "radialaxis": {
            "gridcolor": "white",
            "linecolor": "white",
            "ticks": ""
           }
          },
          "scene": {
           "xaxis": {
            "backgroundcolor": "#E5ECF6",
            "gridcolor": "white",
            "gridwidth": 2,
            "linecolor": "white",
            "showbackground": true,
            "ticks": "",
            "zerolinecolor": "white"
           },
           "yaxis": {
            "backgroundcolor": "#E5ECF6",
            "gridcolor": "white",
            "gridwidth": 2,
            "linecolor": "white",
            "showbackground": true,
            "ticks": "",
            "zerolinecolor": "white"
           },
           "zaxis": {
            "backgroundcolor": "#E5ECF6",
            "gridcolor": "white",
            "gridwidth": 2,
            "linecolor": "white",
            "showbackground": true,
            "ticks": "",
            "zerolinecolor": "white"
           }
          },
          "shapedefaults": {
           "line": {
            "color": "#2a3f5f"
           }
          },
          "ternary": {
           "aaxis": {
            "gridcolor": "white",
            "linecolor": "white",
            "ticks": ""
           },
           "baxis": {
            "gridcolor": "white",
            "linecolor": "white",
            "ticks": ""
           },
           "bgcolor": "#E5ECF6",
           "caxis": {
            "gridcolor": "white",
            "linecolor": "white",
            "ticks": ""
           }
          },
          "title": {
           "x": 0.05
          },
          "xaxis": {
           "automargin": true,
           "gridcolor": "white",
           "linecolor": "white",
           "ticks": "",
           "title": {
            "standoff": 15
           },
           "zerolinecolor": "white",
           "zerolinewidth": 2
          },
          "yaxis": {
           "automargin": true,
           "gridcolor": "white",
           "linecolor": "white",
           "ticks": "",
           "title": {
            "standoff": 15
           },
           "zerolinecolor": "white",
           "zerolinewidth": 2
          }
         }
        }
       }
      },
      "text/html": [
       "<div>                            <div id=\"4f2d880e-4596-4675-be89-bfbf3f1537db\" class=\"plotly-graph-div\" style=\"height:525px; width:100%;\"></div>            <script type=\"text/javascript\">                require([\"plotly\"], function(Plotly) {                    window.PLOTLYENV=window.PLOTLYENV || {};                                    if (document.getElementById(\"4f2d880e-4596-4675-be89-bfbf3f1537db\")) {                    Plotly.newPlot(                        \"4f2d880e-4596-4675-be89-bfbf3f1537db\",                        [{\"type\": \"bar\", \"x\": [\"C_HHpersons\", \"C_waterland\", \"C_HHdirtfloor\", \"C_households\", \"C_people\", \"C_waterhouse\", \"C_refrigerator\", \"C_overcrowding\", \"C_earnincome\", \"C_telephone\", \"C_vehicle\", \"C_dropouts515\", \"C_headeduc\", \"C_child05\", \"C_employment\", \"C_gasheater\", \"C_waterbath\", \"C_rooms\", \"C_washing\", \"C_poverty\", \"C_illiterate\", \"C_blocksdirtfloor\"], \"y\": [0.12909054893586255, 0.12820613417957297, 0.09359238184895405, 0.07548616191825018, 0.07385998805952926, 0.056163414112643764, 0.05389269096036461, 0.04233347384750541, 0.0407384998626917, 0.03816674737477899, 0.033421356745533926, 0.03256344902440643, 0.029862348903495275, 0.028123105072640476, 0.02640303154562591, 0.025552812381724566, 0.02397082808108926, 0.02129319083507288, 0.021149209233735134, 0.010136547795733588, 0.009051378176074024, 0.0069427011047149875]}],                        {\"template\": {\"data\": {\"bar\": [{\"error_x\": {\"color\": \"#2a3f5f\"}, \"error_y\": {\"color\": \"#2a3f5f\"}, \"marker\": {\"line\": {\"color\": \"#E5ECF6\", \"width\": 0.5}}, \"type\": \"bar\"}], \"barpolar\": [{\"marker\": {\"line\": {\"color\": \"#E5ECF6\", \"width\": 0.5}}, \"type\": \"barpolar\"}], \"carpet\": [{\"aaxis\": {\"endlinecolor\": \"#2a3f5f\", \"gridcolor\": \"white\", \"linecolor\": \"white\", \"minorgridcolor\": \"white\", \"startlinecolor\": \"#2a3f5f\"}, \"baxis\": {\"endlinecolor\": \"#2a3f5f\", \"gridcolor\": \"white\", \"linecolor\": \"white\", \"minorgridcolor\": \"white\", \"startlinecolor\": \"#2a3f5f\"}, \"type\": \"carpet\"}], \"choropleth\": [{\"colorbar\": {\"outlinewidth\": 0, \"ticks\": \"\"}, \"type\": \"choropleth\"}], \"contour\": [{\"colorbar\": {\"outlinewidth\": 0, \"ticks\": \"\"}, \"colorscale\": [[0.0, \"#0d0887\"], [0.1111111111111111, \"#46039f\"], [0.2222222222222222, \"#7201a8\"], [0.3333333333333333, \"#9c179e\"], [0.4444444444444444, \"#bd3786\"], [0.5555555555555556, \"#d8576b\"], [0.6666666666666666, \"#ed7953\"], [0.7777777777777778, \"#fb9f3a\"], [0.8888888888888888, \"#fdca26\"], [1.0, \"#f0f921\"]], \"type\": \"contour\"}], \"contourcarpet\": [{\"colorbar\": {\"outlinewidth\": 0, \"ticks\": \"\"}, \"type\": \"contourcarpet\"}], \"heatmap\": [{\"colorbar\": {\"outlinewidth\": 0, \"ticks\": \"\"}, \"colorscale\": [[0.0, \"#0d0887\"], [0.1111111111111111, \"#46039f\"], [0.2222222222222222, \"#7201a8\"], [0.3333333333333333, \"#9c179e\"], [0.4444444444444444, \"#bd3786\"], [0.5555555555555556, \"#d8576b\"], [0.6666666666666666, \"#ed7953\"], [0.7777777777777778, \"#fb9f3a\"], [0.8888888888888888, \"#fdca26\"], [1.0, \"#f0f921\"]], \"type\": \"heatmap\"}], \"heatmapgl\": [{\"colorbar\": {\"outlinewidth\": 0, \"ticks\": \"\"}, \"colorscale\": [[0.0, \"#0d0887\"], [0.1111111111111111, \"#46039f\"], [0.2222222222222222, \"#7201a8\"], [0.3333333333333333, \"#9c179e\"], [0.4444444444444444, \"#bd3786\"], [0.5555555555555556, \"#d8576b\"], [0.6666666666666666, \"#ed7953\"], [0.7777777777777778, \"#fb9f3a\"], [0.8888888888888888, \"#fdca26\"], [1.0, \"#f0f921\"]], \"type\": \"heatmapgl\"}], \"histogram\": [{\"marker\": {\"colorbar\": {\"outlinewidth\": 0, \"ticks\": \"\"}}, \"type\": \"histogram\"}], \"histogram2d\": [{\"colorbar\": {\"outlinewidth\": 0, \"ticks\": \"\"}, \"colorscale\": [[0.0, \"#0d0887\"], [0.1111111111111111, \"#46039f\"], [0.2222222222222222, \"#7201a8\"], [0.3333333333333333, \"#9c179e\"], [0.4444444444444444, \"#bd3786\"], [0.5555555555555556, \"#d8576b\"], [0.6666666666666666, \"#ed7953\"], [0.7777777777777778, \"#fb9f3a\"], [0.8888888888888888, \"#fdca26\"], [1.0, \"#f0f921\"]], \"type\": \"histogram2d\"}], \"histogram2dcontour\": [{\"colorbar\": {\"outlinewidth\": 0, \"ticks\": \"\"}, \"colorscale\": [[0.0, \"#0d0887\"], [0.1111111111111111, \"#46039f\"], [0.2222222222222222, \"#7201a8\"], [0.3333333333333333, \"#9c179e\"], [0.4444444444444444, \"#bd3786\"], [0.5555555555555556, \"#d8576b\"], [0.6666666666666666, \"#ed7953\"], [0.7777777777777778, \"#fb9f3a\"], [0.8888888888888888, \"#fdca26\"], [1.0, \"#f0f921\"]], \"type\": \"histogram2dcontour\"}], \"mesh3d\": [{\"colorbar\": {\"outlinewidth\": 0, \"ticks\": \"\"}, \"type\": \"mesh3d\"}], \"parcoords\": [{\"line\": {\"colorbar\": {\"outlinewidth\": 0, \"ticks\": \"\"}}, \"type\": \"parcoords\"}], \"pie\": [{\"automargin\": true, \"type\": \"pie\"}], \"scatter\": [{\"marker\": {\"colorbar\": {\"outlinewidth\": 0, \"ticks\": \"\"}}, \"type\": \"scatter\"}], \"scatter3d\": [{\"line\": {\"colorbar\": {\"outlinewidth\": 0, \"ticks\": \"\"}}, \"marker\": {\"colorbar\": {\"outlinewidth\": 0, \"ticks\": \"\"}}, \"type\": \"scatter3d\"}], \"scattercarpet\": [{\"marker\": {\"colorbar\": {\"outlinewidth\": 0, \"ticks\": \"\"}}, \"type\": \"scattercarpet\"}], \"scattergeo\": [{\"marker\": {\"colorbar\": {\"outlinewidth\": 0, \"ticks\": \"\"}}, \"type\": \"scattergeo\"}], \"scattergl\": [{\"marker\": {\"colorbar\": {\"outlinewidth\": 0, \"ticks\": \"\"}}, \"type\": \"scattergl\"}], \"scattermapbox\": [{\"marker\": {\"colorbar\": {\"outlinewidth\": 0, \"ticks\": \"\"}}, \"type\": \"scattermapbox\"}], \"scatterpolar\": [{\"marker\": {\"colorbar\": {\"outlinewidth\": 0, \"ticks\": \"\"}}, \"type\": \"scatterpolar\"}], \"scatterpolargl\": [{\"marker\": {\"colorbar\": {\"outlinewidth\": 0, \"ticks\": \"\"}}, \"type\": \"scatterpolargl\"}], \"scatterternary\": [{\"marker\": {\"colorbar\": {\"outlinewidth\": 0, \"ticks\": \"\"}}, \"type\": \"scatterternary\"}], \"surface\": [{\"colorbar\": {\"outlinewidth\": 0, \"ticks\": \"\"}, \"colorscale\": [[0.0, \"#0d0887\"], [0.1111111111111111, \"#46039f\"], [0.2222222222222222, \"#7201a8\"], [0.3333333333333333, \"#9c179e\"], [0.4444444444444444, \"#bd3786\"], [0.5555555555555556, \"#d8576b\"], [0.6666666666666666, \"#ed7953\"], [0.7777777777777778, \"#fb9f3a\"], [0.8888888888888888, \"#fdca26\"], [1.0, \"#f0f921\"]], \"type\": \"surface\"}], \"table\": [{\"cells\": {\"fill\": {\"color\": \"#EBF0F8\"}, \"line\": {\"color\": \"white\"}}, \"header\": {\"fill\": {\"color\": \"#C8D4E3\"}, \"line\": {\"color\": \"white\"}}, \"type\": \"table\"}]}, \"layout\": {\"annotationdefaults\": {\"arrowcolor\": \"#2a3f5f\", \"arrowhead\": 0, \"arrowwidth\": 1}, \"coloraxis\": {\"colorbar\": {\"outlinewidth\": 0, \"ticks\": \"\"}}, \"colorscale\": {\"diverging\": [[0, \"#8e0152\"], [0.1, \"#c51b7d\"], [0.2, \"#de77ae\"], [0.3, \"#f1b6da\"], [0.4, \"#fde0ef\"], [0.5, \"#f7f7f7\"], [0.6, \"#e6f5d0\"], [0.7, \"#b8e186\"], [0.8, \"#7fbc41\"], [0.9, \"#4d9221\"], [1, \"#276419\"]], \"sequential\": [[0.0, \"#0d0887\"], [0.1111111111111111, \"#46039f\"], [0.2222222222222222, \"#7201a8\"], [0.3333333333333333, \"#9c179e\"], [0.4444444444444444, \"#bd3786\"], [0.5555555555555556, \"#d8576b\"], [0.6666666666666666, \"#ed7953\"], [0.7777777777777778, \"#fb9f3a\"], [0.8888888888888888, \"#fdca26\"], [1.0, \"#f0f921\"]], \"sequentialminus\": [[0.0, \"#0d0887\"], [0.1111111111111111, \"#46039f\"], [0.2222222222222222, \"#7201a8\"], [0.3333333333333333, \"#9c179e\"], [0.4444444444444444, \"#bd3786\"], [0.5555555555555556, \"#d8576b\"], [0.6666666666666666, \"#ed7953\"], [0.7777777777777778, \"#fb9f3a\"], [0.8888888888888888, \"#fdca26\"], [1.0, \"#f0f921\"]]}, \"colorway\": [\"#636efa\", \"#EF553B\", \"#00cc96\", \"#ab63fa\", \"#FFA15A\", \"#19d3f3\", \"#FF6692\", \"#B6E880\", \"#FF97FF\", \"#FECB52\"], \"font\": {\"color\": \"#2a3f5f\"}, \"geo\": {\"bgcolor\": \"white\", \"lakecolor\": \"white\", \"landcolor\": \"#E5ECF6\", \"showlakes\": true, \"showland\": true, \"subunitcolor\": \"white\"}, \"hoverlabel\": {\"align\": \"left\"}, \"hovermode\": \"closest\", \"mapbox\": {\"style\": \"light\"}, \"paper_bgcolor\": \"white\", \"plot_bgcolor\": \"#E5ECF6\", \"polar\": {\"angularaxis\": {\"gridcolor\": \"white\", \"linecolor\": \"white\", \"ticks\": \"\"}, \"bgcolor\": \"#E5ECF6\", \"radialaxis\": {\"gridcolor\": \"white\", \"linecolor\": \"white\", \"ticks\": \"\"}}, \"scene\": {\"xaxis\": {\"backgroundcolor\": \"#E5ECF6\", \"gridcolor\": \"white\", \"gridwidth\": 2, \"linecolor\": \"white\", \"showbackground\": true, \"ticks\": \"\", \"zerolinecolor\": \"white\"}, \"yaxis\": {\"backgroundcolor\": \"#E5ECF6\", \"gridcolor\": \"white\", \"gridwidth\": 2, \"linecolor\": \"white\", \"showbackground\": true, \"ticks\": \"\", \"zerolinecolor\": \"white\"}, \"zaxis\": {\"backgroundcolor\": \"#E5ECF6\", \"gridcolor\": \"white\", \"gridwidth\": 2, \"linecolor\": \"white\", \"showbackground\": true, \"ticks\": \"\", \"zerolinecolor\": \"white\"}}, \"shapedefaults\": {\"line\": {\"color\": \"#2a3f5f\"}}, \"ternary\": {\"aaxis\": {\"gridcolor\": \"white\", \"linecolor\": \"white\", \"ticks\": \"\"}, \"baxis\": {\"gridcolor\": \"white\", \"linecolor\": \"white\", \"ticks\": \"\"}, \"bgcolor\": \"#E5ECF6\", \"caxis\": {\"gridcolor\": \"white\", \"linecolor\": \"white\", \"ticks\": \"\"}}, \"title\": {\"x\": 0.05}, \"xaxis\": {\"automargin\": true, \"gridcolor\": \"white\", \"linecolor\": \"white\", \"ticks\": \"\", \"title\": {\"standoff\": 15}, \"zerolinecolor\": \"white\", \"zerolinewidth\": 2}, \"yaxis\": {\"automargin\": true, \"gridcolor\": \"white\", \"linecolor\": \"white\", \"ticks\": \"\", \"title\": {\"standoff\": 15}, \"zerolinecolor\": \"white\", \"zerolinewidth\": 2}}}},                        {\"responsive\": true}                    ).then(function(){\n",
       "                            \n",
       "var gd = document.getElementById('4f2d880e-4596-4675-be89-bfbf3f1537db');\n",
       "var x = new MutationObserver(function (mutations, observer) {{\n",
       "        var display = window.getComputedStyle(gd).display;\n",
       "        if (!display || display === 'none') {{\n",
       "            console.log([gd, 'removed!']);\n",
       "            Plotly.purge(gd);\n",
       "            observer.disconnect();\n",
       "        }}\n",
       "}});\n",
       "\n",
       "// Listen for the removal of the full notebook cells\n",
       "var notebookContainer = gd.closest('#notebook-container');\n",
       "if (notebookContainer) {{\n",
       "    x.observe(notebookContainer, {childList: true});\n",
       "}}\n",
       "\n",
       "// Listen for the clearing of the current output cell\n",
       "var outputEl = gd.closest('.output');\n",
       "if (outputEl) {{\n",
       "    x.observe(outputEl, {childList: true});\n",
       "}}\n",
       "\n",
       "                        })                };                });            </script>        </div>"
      ]
     },
     "metadata": {},
     "output_type": "display_data"
    }
   ],
   "source": [
    "plot_feature_importance(df_survey_train, df_census_train, GradientBoostingRegressor(), ['S_instcement'])"
   ]
  },
  {
   "cell_type": "markdown",
   "metadata": {},
   "source": [
    "### S_cementfloordin\n",
    "Def: Cement floor in dining room"
   ]
  },
  {
   "cell_type": "code",
   "execution_count": 20,
   "metadata": {},
   "outputs": [
    {
     "data": {
      "text/plain": [
       "1.0    1589\n",
       "0.0     364\n",
       "Name: S_cementfloordin, dtype: int64"
      ]
     },
     "execution_count": 20,
     "metadata": {},
     "output_type": "execute_result"
    }
   ],
   "source": [
    "df_hh['S_cementfloordin'].value_counts()"
   ]
  },
  {
   "cell_type": "code",
   "execution_count": 21,
   "metadata": {},
   "outputs": [
    {
     "name": "stdout",
     "output_type": "stream",
     "text": [
      "The Area Under ROC curve is 0.7331270262304744\n"
     ]
    },
    {
     "data": {
      "application/vnd.plotly.v1+json": {
       "config": {
        "plotlyServerURL": "https://plot.ly"
       },
       "data": [
        {
         "hovertemplate": "False positive rate=%{x}<br>True positive rate=%{y}<extra></extra>",
         "legendgroup": "",
         "line": {
          "color": "#636efa",
          "dash": "solid"
         },
         "mode": "lines",
         "name": "",
         "orientation": "v",
         "showlegend": false,
         "type": "scatter",
         "x": [
          0,
          0,
          0,
          0,
          0.017241379310344827,
          0.017241379310344827,
          0.02586206896551724,
          0.02586206896551724,
          0.02586206896551724,
          0.02586206896551724,
          0.02586206896551724,
          0.02586206896551724,
          0.02586206896551724,
          0.02586206896551724,
          0.02586206896551724,
          0.02586206896551724,
          0.02586206896551724,
          0.034482758620689655,
          0.034482758620689655,
          0.034482758620689655,
          0.034482758620689655,
          0.034482758620689655,
          0.034482758620689655,
          0.034482758620689655,
          0.034482758620689655,
          0.034482758620689655,
          0.034482758620689655,
          0.034482758620689655,
          0.034482758620689655,
          0.034482758620689655,
          0.034482758620689655,
          0.04310344827586207,
          0.04310344827586207,
          0.04310344827586207,
          0.04310344827586207,
          0.04310344827586207,
          0.05172413793103448,
          0.05172413793103448,
          0.06896551724137931,
          0.06896551724137931,
          0.06896551724137931,
          0.06896551724137931,
          0.06896551724137931,
          0.07758620689655173,
          0.07758620689655173,
          0.07758620689655173,
          0.09482758620689655,
          0.09482758620689655,
          0.11206896551724138,
          0.12931034482758622,
          0.12931034482758622,
          0.12931034482758622,
          0.13793103448275862,
          0.14655172413793102,
          0.14655172413793102,
          0.15517241379310345,
          0.1724137931034483,
          0.1810344827586207,
          0.22413793103448276,
          0.25,
          0.25,
          0.27586206896551724,
          0.3017241379310345,
          0.3017241379310345,
          0.3017241379310345,
          0.33620689655172414,
          0.3879310344827586,
          0.39655172413793105,
          0.39655172413793105,
          0.4396551724137931,
          0.45689655172413796,
          0.49137931034482757,
          0.49137931034482757,
          0.49137931034482757,
          0.5344827586206896,
          0.5431034482758621,
          0.5948275862068966,
          0.603448275862069,
          0.6982758620689655,
          0.6982758620689655,
          0.8275862068965517,
          0.853448275862069,
          0.8706896551724138,
          0.8879310344827587,
          0.9224137931034483,
          0.9310344827586207,
          0.9568965517241379,
          0.9655172413793104,
          0.9827586206896551,
          1
         ],
         "xaxis": "x",
         "y": [
          0,
          0.004273504273504274,
          0.010683760683760684,
          0.014957264957264958,
          0.019230769230769232,
          0.029914529914529916,
          0.038461538461538464,
          0.057692307692307696,
          0.06196581196581197,
          0.0811965811965812,
          0.09188034188034189,
          0.10042735042735043,
          0.12179487179487179,
          0.12393162393162394,
          0.1282051282051282,
          0.1452991452991453,
          0.14957264957264957,
          0.1517094017094017,
          0.16025641025641027,
          0.16452991452991453,
          0.17094017094017094,
          0.1752136752136752,
          0.1794871794871795,
          0.19658119658119658,
          0.20512820512820512,
          0.2094017094017094,
          0.21367521367521367,
          0.21794871794871795,
          0.25,
          0.25427350427350426,
          0.26282051282051283,
          0.26495726495726496,
          0.27350427350427353,
          0.2777777777777778,
          0.2799145299145299,
          0.2948717948717949,
          0.297008547008547,
          0.3141025641025641,
          0.3311965811965812,
          0.33547008547008544,
          0.3482905982905983,
          0.3525641025641026,
          0.3611111111111111,
          0.3974358974358974,
          0.40384615384615385,
          0.41239316239316237,
          0.42948717948717946,
          0.4444444444444444,
          0.4658119658119658,
          0.4700854700854701,
          0.47649572649572647,
          0.47863247863247865,
          0.4807692307692308,
          0.49572649572649574,
          0.5042735042735043,
          0.5128205128205128,
          0.5405982905982906,
          0.5512820512820513,
          0.5705128205128205,
          0.5982905982905983,
          0.6153846153846154,
          0.6196581196581197,
          0.6303418803418803,
          0.6388888888888888,
          0.6452991452991453,
          0.6538461538461539,
          0.6965811965811965,
          0.6987179487179487,
          0.7094017094017094,
          0.7393162393162394,
          0.7542735042735043,
          0.7756410256410257,
          0.7799145299145299,
          0.782051282051282,
          0.8290598290598291,
          0.8461538461538461,
          0.8589743589743589,
          0.8611111111111112,
          0.8846153846153846,
          0.8931623931623932,
          0.9316239316239316,
          0.9508547008547008,
          0.967948717948718,
          0.9786324786324786,
          0.9850427350427351,
          0.9850427350427351,
          0.9871794871794872,
          0.9935897435897436,
          0.9978632478632479,
          1
         ],
         "yaxis": "y"
        }
       ],
       "layout": {
        "height": 600,
        "legend": {
         "tracegroupgap": 0
        },
        "template": {
         "data": {
          "bar": [
           {
            "error_x": {
             "color": "#2a3f5f"
            },
            "error_y": {
             "color": "#2a3f5f"
            },
            "marker": {
             "line": {
              "color": "#E5ECF6",
              "width": 0.5
             }
            },
            "type": "bar"
           }
          ],
          "barpolar": [
           {
            "marker": {
             "line": {
              "color": "#E5ECF6",
              "width": 0.5
             }
            },
            "type": "barpolar"
           }
          ],
          "carpet": [
           {
            "aaxis": {
             "endlinecolor": "#2a3f5f",
             "gridcolor": "white",
             "linecolor": "white",
             "minorgridcolor": "white",
             "startlinecolor": "#2a3f5f"
            },
            "baxis": {
             "endlinecolor": "#2a3f5f",
             "gridcolor": "white",
             "linecolor": "white",
             "minorgridcolor": "white",
             "startlinecolor": "#2a3f5f"
            },
            "type": "carpet"
           }
          ],
          "choropleth": [
           {
            "colorbar": {
             "outlinewidth": 0,
             "ticks": ""
            },
            "type": "choropleth"
           }
          ],
          "contour": [
           {
            "colorbar": {
             "outlinewidth": 0,
             "ticks": ""
            },
            "colorscale": [
             [
              0,
              "#0d0887"
             ],
             [
              0.1111111111111111,
              "#46039f"
             ],
             [
              0.2222222222222222,
              "#7201a8"
             ],
             [
              0.3333333333333333,
              "#9c179e"
             ],
             [
              0.4444444444444444,
              "#bd3786"
             ],
             [
              0.5555555555555556,
              "#d8576b"
             ],
             [
              0.6666666666666666,
              "#ed7953"
             ],
             [
              0.7777777777777778,
              "#fb9f3a"
             ],
             [
              0.8888888888888888,
              "#fdca26"
             ],
             [
              1,
              "#f0f921"
             ]
            ],
            "type": "contour"
           }
          ],
          "contourcarpet": [
           {
            "colorbar": {
             "outlinewidth": 0,
             "ticks": ""
            },
            "type": "contourcarpet"
           }
          ],
          "heatmap": [
           {
            "colorbar": {
             "outlinewidth": 0,
             "ticks": ""
            },
            "colorscale": [
             [
              0,
              "#0d0887"
             ],
             [
              0.1111111111111111,
              "#46039f"
             ],
             [
              0.2222222222222222,
              "#7201a8"
             ],
             [
              0.3333333333333333,
              "#9c179e"
             ],
             [
              0.4444444444444444,
              "#bd3786"
             ],
             [
              0.5555555555555556,
              "#d8576b"
             ],
             [
              0.6666666666666666,
              "#ed7953"
             ],
             [
              0.7777777777777778,
              "#fb9f3a"
             ],
             [
              0.8888888888888888,
              "#fdca26"
             ],
             [
              1,
              "#f0f921"
             ]
            ],
            "type": "heatmap"
           }
          ],
          "heatmapgl": [
           {
            "colorbar": {
             "outlinewidth": 0,
             "ticks": ""
            },
            "colorscale": [
             [
              0,
              "#0d0887"
             ],
             [
              0.1111111111111111,
              "#46039f"
             ],
             [
              0.2222222222222222,
              "#7201a8"
             ],
             [
              0.3333333333333333,
              "#9c179e"
             ],
             [
              0.4444444444444444,
              "#bd3786"
             ],
             [
              0.5555555555555556,
              "#d8576b"
             ],
             [
              0.6666666666666666,
              "#ed7953"
             ],
             [
              0.7777777777777778,
              "#fb9f3a"
             ],
             [
              0.8888888888888888,
              "#fdca26"
             ],
             [
              1,
              "#f0f921"
             ]
            ],
            "type": "heatmapgl"
           }
          ],
          "histogram": [
           {
            "marker": {
             "colorbar": {
              "outlinewidth": 0,
              "ticks": ""
             }
            },
            "type": "histogram"
           }
          ],
          "histogram2d": [
           {
            "colorbar": {
             "outlinewidth": 0,
             "ticks": ""
            },
            "colorscale": [
             [
              0,
              "#0d0887"
             ],
             [
              0.1111111111111111,
              "#46039f"
             ],
             [
              0.2222222222222222,
              "#7201a8"
             ],
             [
              0.3333333333333333,
              "#9c179e"
             ],
             [
              0.4444444444444444,
              "#bd3786"
             ],
             [
              0.5555555555555556,
              "#d8576b"
             ],
             [
              0.6666666666666666,
              "#ed7953"
             ],
             [
              0.7777777777777778,
              "#fb9f3a"
             ],
             [
              0.8888888888888888,
              "#fdca26"
             ],
             [
              1,
              "#f0f921"
             ]
            ],
            "type": "histogram2d"
           }
          ],
          "histogram2dcontour": [
           {
            "colorbar": {
             "outlinewidth": 0,
             "ticks": ""
            },
            "colorscale": [
             [
              0,
              "#0d0887"
             ],
             [
              0.1111111111111111,
              "#46039f"
             ],
             [
              0.2222222222222222,
              "#7201a8"
             ],
             [
              0.3333333333333333,
              "#9c179e"
             ],
             [
              0.4444444444444444,
              "#bd3786"
             ],
             [
              0.5555555555555556,
              "#d8576b"
             ],
             [
              0.6666666666666666,
              "#ed7953"
             ],
             [
              0.7777777777777778,
              "#fb9f3a"
             ],
             [
              0.8888888888888888,
              "#fdca26"
             ],
             [
              1,
              "#f0f921"
             ]
            ],
            "type": "histogram2dcontour"
           }
          ],
          "mesh3d": [
           {
            "colorbar": {
             "outlinewidth": 0,
             "ticks": ""
            },
            "type": "mesh3d"
           }
          ],
          "parcoords": [
           {
            "line": {
             "colorbar": {
              "outlinewidth": 0,
              "ticks": ""
             }
            },
            "type": "parcoords"
           }
          ],
          "pie": [
           {
            "automargin": true,
            "type": "pie"
           }
          ],
          "scatter": [
           {
            "marker": {
             "colorbar": {
              "outlinewidth": 0,
              "ticks": ""
             }
            },
            "type": "scatter"
           }
          ],
          "scatter3d": [
           {
            "line": {
             "colorbar": {
              "outlinewidth": 0,
              "ticks": ""
             }
            },
            "marker": {
             "colorbar": {
              "outlinewidth": 0,
              "ticks": ""
             }
            },
            "type": "scatter3d"
           }
          ],
          "scattercarpet": [
           {
            "marker": {
             "colorbar": {
              "outlinewidth": 0,
              "ticks": ""
             }
            },
            "type": "scattercarpet"
           }
          ],
          "scattergeo": [
           {
            "marker": {
             "colorbar": {
              "outlinewidth": 0,
              "ticks": ""
             }
            },
            "type": "scattergeo"
           }
          ],
          "scattergl": [
           {
            "marker": {
             "colorbar": {
              "outlinewidth": 0,
              "ticks": ""
             }
            },
            "type": "scattergl"
           }
          ],
          "scattermapbox": [
           {
            "marker": {
             "colorbar": {
              "outlinewidth": 0,
              "ticks": ""
             }
            },
            "type": "scattermapbox"
           }
          ],
          "scatterpolar": [
           {
            "marker": {
             "colorbar": {
              "outlinewidth": 0,
              "ticks": ""
             }
            },
            "type": "scatterpolar"
           }
          ],
          "scatterpolargl": [
           {
            "marker": {
             "colorbar": {
              "outlinewidth": 0,
              "ticks": ""
             }
            },
            "type": "scatterpolargl"
           }
          ],
          "scatterternary": [
           {
            "marker": {
             "colorbar": {
              "outlinewidth": 0,
              "ticks": ""
             }
            },
            "type": "scatterternary"
           }
          ],
          "surface": [
           {
            "colorbar": {
             "outlinewidth": 0,
             "ticks": ""
            },
            "colorscale": [
             [
              0,
              "#0d0887"
             ],
             [
              0.1111111111111111,
              "#46039f"
             ],
             [
              0.2222222222222222,
              "#7201a8"
             ],
             [
              0.3333333333333333,
              "#9c179e"
             ],
             [
              0.4444444444444444,
              "#bd3786"
             ],
             [
              0.5555555555555556,
              "#d8576b"
             ],
             [
              0.6666666666666666,
              "#ed7953"
             ],
             [
              0.7777777777777778,
              "#fb9f3a"
             ],
             [
              0.8888888888888888,
              "#fdca26"
             ],
             [
              1,
              "#f0f921"
             ]
            ],
            "type": "surface"
           }
          ],
          "table": [
           {
            "cells": {
             "fill": {
              "color": "#EBF0F8"
             },
             "line": {
              "color": "white"
             }
            },
            "header": {
             "fill": {
              "color": "#C8D4E3"
             },
             "line": {
              "color": "white"
             }
            },
            "type": "table"
           }
          ]
         },
         "layout": {
          "annotationdefaults": {
           "arrowcolor": "#2a3f5f",
           "arrowhead": 0,
           "arrowwidth": 1
          },
          "coloraxis": {
           "colorbar": {
            "outlinewidth": 0,
            "ticks": ""
           }
          },
          "colorscale": {
           "diverging": [
            [
             0,
             "#8e0152"
            ],
            [
             0.1,
             "#c51b7d"
            ],
            [
             0.2,
             "#de77ae"
            ],
            [
             0.3,
             "#f1b6da"
            ],
            [
             0.4,
             "#fde0ef"
            ],
            [
             0.5,
             "#f7f7f7"
            ],
            [
             0.6,
             "#e6f5d0"
            ],
            [
             0.7,
             "#b8e186"
            ],
            [
             0.8,
             "#7fbc41"
            ],
            [
             0.9,
             "#4d9221"
            ],
            [
             1,
             "#276419"
            ]
           ],
           "sequential": [
            [
             0,
             "#0d0887"
            ],
            [
             0.1111111111111111,
             "#46039f"
            ],
            [
             0.2222222222222222,
             "#7201a8"
            ],
            [
             0.3333333333333333,
             "#9c179e"
            ],
            [
             0.4444444444444444,
             "#bd3786"
            ],
            [
             0.5555555555555556,
             "#d8576b"
            ],
            [
             0.6666666666666666,
             "#ed7953"
            ],
            [
             0.7777777777777778,
             "#fb9f3a"
            ],
            [
             0.8888888888888888,
             "#fdca26"
            ],
            [
             1,
             "#f0f921"
            ]
           ],
           "sequentialminus": [
            [
             0,
             "#0d0887"
            ],
            [
             0.1111111111111111,
             "#46039f"
            ],
            [
             0.2222222222222222,
             "#7201a8"
            ],
            [
             0.3333333333333333,
             "#9c179e"
            ],
            [
             0.4444444444444444,
             "#bd3786"
            ],
            [
             0.5555555555555556,
             "#d8576b"
            ],
            [
             0.6666666666666666,
             "#ed7953"
            ],
            [
             0.7777777777777778,
             "#fb9f3a"
            ],
            [
             0.8888888888888888,
             "#fdca26"
            ],
            [
             1,
             "#f0f921"
            ]
           ]
          },
          "colorway": [
           "#636efa",
           "#EF553B",
           "#00cc96",
           "#ab63fa",
           "#FFA15A",
           "#19d3f3",
           "#FF6692",
           "#B6E880",
           "#FF97FF",
           "#FECB52"
          ],
          "font": {
           "color": "#2a3f5f"
          },
          "geo": {
           "bgcolor": "white",
           "lakecolor": "white",
           "landcolor": "#E5ECF6",
           "showlakes": true,
           "showland": true,
           "subunitcolor": "white"
          },
          "hoverlabel": {
           "align": "left"
          },
          "hovermode": "closest",
          "mapbox": {
           "style": "light"
          },
          "paper_bgcolor": "white",
          "plot_bgcolor": "#E5ECF6",
          "polar": {
           "angularaxis": {
            "gridcolor": "white",
            "linecolor": "white",
            "ticks": ""
           },
           "bgcolor": "#E5ECF6",
           "radialaxis": {
            "gridcolor": "white",
            "linecolor": "white",
            "ticks": ""
           }
          },
          "scene": {
           "xaxis": {
            "backgroundcolor": "#E5ECF6",
            "gridcolor": "white",
            "gridwidth": 2,
            "linecolor": "white",
            "showbackground": true,
            "ticks": "",
            "zerolinecolor": "white"
           },
           "yaxis": {
            "backgroundcolor": "#E5ECF6",
            "gridcolor": "white",
            "gridwidth": 2,
            "linecolor": "white",
            "showbackground": true,
            "ticks": "",
            "zerolinecolor": "white"
           },
           "zaxis": {
            "backgroundcolor": "#E5ECF6",
            "gridcolor": "white",
            "gridwidth": 2,
            "linecolor": "white",
            "showbackground": true,
            "ticks": "",
            "zerolinecolor": "white"
           }
          },
          "shapedefaults": {
           "line": {
            "color": "#2a3f5f"
           }
          },
          "ternary": {
           "aaxis": {
            "gridcolor": "white",
            "linecolor": "white",
            "ticks": ""
           },
           "baxis": {
            "gridcolor": "white",
            "linecolor": "white",
            "ticks": ""
           },
           "bgcolor": "#E5ECF6",
           "caxis": {
            "gridcolor": "white",
            "linecolor": "white",
            "ticks": ""
           }
          },
          "title": {
           "x": 0.05
          },
          "xaxis": {
           "automargin": true,
           "gridcolor": "white",
           "linecolor": "white",
           "ticks": "",
           "title": {
            "standoff": 15
           },
           "zerolinecolor": "white",
           "zerolinewidth": 2
          },
          "yaxis": {
           "automargin": true,
           "gridcolor": "white",
           "linecolor": "white",
           "ticks": "",
           "title": {
            "standoff": 15
           },
           "zerolinecolor": "white",
           "zerolinewidth": 2
          }
         }
        },
        "title": {
         "text": "ROC curve for S_cementfloordin"
        },
        "width": 600,
        "xaxis": {
         "anchor": "y",
         "domain": [
          0,
          1
         ],
         "title": {
          "text": "False positive rate"
         }
        },
        "yaxis": {
         "anchor": "x",
         "domain": [
          0,
          1
         ],
         "title": {
          "text": "True positive rate"
         }
        }
       }
      },
      "text/html": [
       "<div>                            <div id=\"032301bb-d7d3-4520-ba01-2ea39e2208d4\" class=\"plotly-graph-div\" style=\"height:600px; width:600px;\"></div>            <script type=\"text/javascript\">                require([\"plotly\"], function(Plotly) {                    window.PLOTLYENV=window.PLOTLYENV || {};                                    if (document.getElementById(\"032301bb-d7d3-4520-ba01-2ea39e2208d4\")) {                    Plotly.newPlot(                        \"032301bb-d7d3-4520-ba01-2ea39e2208d4\",                        [{\"hovertemplate\": \"False positive rate=%{x}<br>True positive rate=%{y}<extra></extra>\", \"legendgroup\": \"\", \"line\": {\"color\": \"#636efa\", \"dash\": \"solid\"}, \"mode\": \"lines\", \"name\": \"\", \"orientation\": \"v\", \"showlegend\": false, \"type\": \"scatter\", \"x\": [0.0, 0.0, 0.0, 0.0, 0.017241379310344827, 0.017241379310344827, 0.02586206896551724, 0.02586206896551724, 0.02586206896551724, 0.02586206896551724, 0.02586206896551724, 0.02586206896551724, 0.02586206896551724, 0.02586206896551724, 0.02586206896551724, 0.02586206896551724, 0.02586206896551724, 0.034482758620689655, 0.034482758620689655, 0.034482758620689655, 0.034482758620689655, 0.034482758620689655, 0.034482758620689655, 0.034482758620689655, 0.034482758620689655, 0.034482758620689655, 0.034482758620689655, 0.034482758620689655, 0.034482758620689655, 0.034482758620689655, 0.034482758620689655, 0.04310344827586207, 0.04310344827586207, 0.04310344827586207, 0.04310344827586207, 0.04310344827586207, 0.05172413793103448, 0.05172413793103448, 0.06896551724137931, 0.06896551724137931, 0.06896551724137931, 0.06896551724137931, 0.06896551724137931, 0.07758620689655173, 0.07758620689655173, 0.07758620689655173, 0.09482758620689655, 0.09482758620689655, 0.11206896551724138, 0.12931034482758622, 0.12931034482758622, 0.12931034482758622, 0.13793103448275862, 0.14655172413793102, 0.14655172413793102, 0.15517241379310345, 0.1724137931034483, 0.1810344827586207, 0.22413793103448276, 0.25, 0.25, 0.27586206896551724, 0.3017241379310345, 0.3017241379310345, 0.3017241379310345, 0.33620689655172414, 0.3879310344827586, 0.39655172413793105, 0.39655172413793105, 0.4396551724137931, 0.45689655172413796, 0.49137931034482757, 0.49137931034482757, 0.49137931034482757, 0.5344827586206896, 0.5431034482758621, 0.5948275862068966, 0.603448275862069, 0.6982758620689655, 0.6982758620689655, 0.8275862068965517, 0.853448275862069, 0.8706896551724138, 0.8879310344827587, 0.9224137931034483, 0.9310344827586207, 0.9568965517241379, 0.9655172413793104, 0.9827586206896551, 1.0], \"xaxis\": \"x\", \"y\": [0.0, 0.004273504273504274, 0.010683760683760684, 0.014957264957264958, 0.019230769230769232, 0.029914529914529916, 0.038461538461538464, 0.057692307692307696, 0.06196581196581197, 0.0811965811965812, 0.09188034188034189, 0.10042735042735043, 0.12179487179487179, 0.12393162393162394, 0.1282051282051282, 0.1452991452991453, 0.14957264957264957, 0.1517094017094017, 0.16025641025641027, 0.16452991452991453, 0.17094017094017094, 0.1752136752136752, 0.1794871794871795, 0.19658119658119658, 0.20512820512820512, 0.2094017094017094, 0.21367521367521367, 0.21794871794871795, 0.25, 0.25427350427350426, 0.26282051282051283, 0.26495726495726496, 0.27350427350427353, 0.2777777777777778, 0.2799145299145299, 0.2948717948717949, 0.297008547008547, 0.3141025641025641, 0.3311965811965812, 0.33547008547008544, 0.3482905982905983, 0.3525641025641026, 0.3611111111111111, 0.3974358974358974, 0.40384615384615385, 0.41239316239316237, 0.42948717948717946, 0.4444444444444444, 0.4658119658119658, 0.4700854700854701, 0.47649572649572647, 0.47863247863247865, 0.4807692307692308, 0.49572649572649574, 0.5042735042735043, 0.5128205128205128, 0.5405982905982906, 0.5512820512820513, 0.5705128205128205, 0.5982905982905983, 0.6153846153846154, 0.6196581196581197, 0.6303418803418803, 0.6388888888888888, 0.6452991452991453, 0.6538461538461539, 0.6965811965811965, 0.6987179487179487, 0.7094017094017094, 0.7393162393162394, 0.7542735042735043, 0.7756410256410257, 0.7799145299145299, 0.782051282051282, 0.8290598290598291, 0.8461538461538461, 0.8589743589743589, 0.8611111111111112, 0.8846153846153846, 0.8931623931623932, 0.9316239316239316, 0.9508547008547008, 0.967948717948718, 0.9786324786324786, 0.9850427350427351, 0.9850427350427351, 0.9871794871794872, 0.9935897435897436, 0.9978632478632479, 1.0], \"yaxis\": \"y\"}],                        {\"height\": 600, \"legend\": {\"tracegroupgap\": 0}, \"template\": {\"data\": {\"bar\": [{\"error_x\": {\"color\": \"#2a3f5f\"}, \"error_y\": {\"color\": \"#2a3f5f\"}, \"marker\": {\"line\": {\"color\": \"#E5ECF6\", \"width\": 0.5}}, \"type\": \"bar\"}], \"barpolar\": [{\"marker\": {\"line\": {\"color\": \"#E5ECF6\", \"width\": 0.5}}, \"type\": \"barpolar\"}], \"carpet\": [{\"aaxis\": {\"endlinecolor\": \"#2a3f5f\", \"gridcolor\": \"white\", \"linecolor\": \"white\", \"minorgridcolor\": \"white\", \"startlinecolor\": \"#2a3f5f\"}, \"baxis\": {\"endlinecolor\": \"#2a3f5f\", \"gridcolor\": \"white\", \"linecolor\": \"white\", \"minorgridcolor\": \"white\", \"startlinecolor\": \"#2a3f5f\"}, \"type\": \"carpet\"}], \"choropleth\": [{\"colorbar\": {\"outlinewidth\": 0, \"ticks\": \"\"}, \"type\": \"choropleth\"}], \"contour\": [{\"colorbar\": {\"outlinewidth\": 0, \"ticks\": \"\"}, \"colorscale\": [[0.0, \"#0d0887\"], [0.1111111111111111, \"#46039f\"], [0.2222222222222222, \"#7201a8\"], [0.3333333333333333, \"#9c179e\"], [0.4444444444444444, \"#bd3786\"], [0.5555555555555556, \"#d8576b\"], [0.6666666666666666, \"#ed7953\"], [0.7777777777777778, \"#fb9f3a\"], [0.8888888888888888, \"#fdca26\"], [1.0, \"#f0f921\"]], \"type\": \"contour\"}], \"contourcarpet\": [{\"colorbar\": {\"outlinewidth\": 0, \"ticks\": \"\"}, \"type\": \"contourcarpet\"}], \"heatmap\": [{\"colorbar\": {\"outlinewidth\": 0, \"ticks\": \"\"}, \"colorscale\": [[0.0, \"#0d0887\"], [0.1111111111111111, \"#46039f\"], [0.2222222222222222, \"#7201a8\"], [0.3333333333333333, \"#9c179e\"], [0.4444444444444444, \"#bd3786\"], [0.5555555555555556, \"#d8576b\"], [0.6666666666666666, \"#ed7953\"], [0.7777777777777778, \"#fb9f3a\"], [0.8888888888888888, \"#fdca26\"], [1.0, \"#f0f921\"]], \"type\": \"heatmap\"}], \"heatmapgl\": [{\"colorbar\": {\"outlinewidth\": 0, \"ticks\": \"\"}, \"colorscale\": [[0.0, \"#0d0887\"], [0.1111111111111111, \"#46039f\"], [0.2222222222222222, \"#7201a8\"], [0.3333333333333333, \"#9c179e\"], [0.4444444444444444, \"#bd3786\"], [0.5555555555555556, \"#d8576b\"], [0.6666666666666666, \"#ed7953\"], [0.7777777777777778, \"#fb9f3a\"], [0.8888888888888888, \"#fdca26\"], [1.0, \"#f0f921\"]], \"type\": \"heatmapgl\"}], \"histogram\": [{\"marker\": {\"colorbar\": {\"outlinewidth\": 0, \"ticks\": \"\"}}, \"type\": \"histogram\"}], \"histogram2d\": [{\"colorbar\": {\"outlinewidth\": 0, \"ticks\": \"\"}, \"colorscale\": [[0.0, \"#0d0887\"], [0.1111111111111111, \"#46039f\"], [0.2222222222222222, \"#7201a8\"], [0.3333333333333333, \"#9c179e\"], [0.4444444444444444, \"#bd3786\"], [0.5555555555555556, \"#d8576b\"], [0.6666666666666666, \"#ed7953\"], [0.7777777777777778, \"#fb9f3a\"], [0.8888888888888888, \"#fdca26\"], [1.0, \"#f0f921\"]], \"type\": \"histogram2d\"}], \"histogram2dcontour\": [{\"colorbar\": {\"outlinewidth\": 0, \"ticks\": \"\"}, \"colorscale\": [[0.0, \"#0d0887\"], [0.1111111111111111, \"#46039f\"], [0.2222222222222222, \"#7201a8\"], [0.3333333333333333, \"#9c179e\"], [0.4444444444444444, \"#bd3786\"], [0.5555555555555556, \"#d8576b\"], [0.6666666666666666, \"#ed7953\"], [0.7777777777777778, \"#fb9f3a\"], [0.8888888888888888, \"#fdca26\"], [1.0, \"#f0f921\"]], \"type\": \"histogram2dcontour\"}], \"mesh3d\": [{\"colorbar\": {\"outlinewidth\": 0, \"ticks\": \"\"}, \"type\": \"mesh3d\"}], \"parcoords\": [{\"line\": {\"colorbar\": {\"outlinewidth\": 0, \"ticks\": \"\"}}, \"type\": \"parcoords\"}], \"pie\": [{\"automargin\": true, \"type\": \"pie\"}], \"scatter\": [{\"marker\": {\"colorbar\": {\"outlinewidth\": 0, \"ticks\": \"\"}}, \"type\": \"scatter\"}], \"scatter3d\": [{\"line\": {\"colorbar\": {\"outlinewidth\": 0, \"ticks\": \"\"}}, \"marker\": {\"colorbar\": {\"outlinewidth\": 0, \"ticks\": \"\"}}, \"type\": \"scatter3d\"}], \"scattercarpet\": [{\"marker\": {\"colorbar\": {\"outlinewidth\": 0, \"ticks\": \"\"}}, \"type\": \"scattercarpet\"}], \"scattergeo\": [{\"marker\": {\"colorbar\": {\"outlinewidth\": 0, \"ticks\": \"\"}}, \"type\": \"scattergeo\"}], \"scattergl\": [{\"marker\": {\"colorbar\": {\"outlinewidth\": 0, \"ticks\": \"\"}}, \"type\": \"scattergl\"}], \"scattermapbox\": [{\"marker\": {\"colorbar\": {\"outlinewidth\": 0, \"ticks\": \"\"}}, \"type\": \"scattermapbox\"}], \"scatterpolar\": [{\"marker\": {\"colorbar\": {\"outlinewidth\": 0, \"ticks\": \"\"}}, \"type\": \"scatterpolar\"}], \"scatterpolargl\": [{\"marker\": {\"colorbar\": {\"outlinewidth\": 0, \"ticks\": \"\"}}, \"type\": \"scatterpolargl\"}], \"scatterternary\": [{\"marker\": {\"colorbar\": {\"outlinewidth\": 0, \"ticks\": \"\"}}, \"type\": \"scatterternary\"}], \"surface\": [{\"colorbar\": {\"outlinewidth\": 0, \"ticks\": \"\"}, \"colorscale\": [[0.0, \"#0d0887\"], [0.1111111111111111, \"#46039f\"], [0.2222222222222222, \"#7201a8\"], [0.3333333333333333, \"#9c179e\"], [0.4444444444444444, \"#bd3786\"], [0.5555555555555556, \"#d8576b\"], [0.6666666666666666, \"#ed7953\"], [0.7777777777777778, \"#fb9f3a\"], [0.8888888888888888, \"#fdca26\"], [1.0, \"#f0f921\"]], \"type\": \"surface\"}], \"table\": [{\"cells\": {\"fill\": {\"color\": \"#EBF0F8\"}, \"line\": {\"color\": \"white\"}}, \"header\": {\"fill\": {\"color\": \"#C8D4E3\"}, \"line\": {\"color\": \"white\"}}, \"type\": \"table\"}]}, \"layout\": {\"annotationdefaults\": {\"arrowcolor\": \"#2a3f5f\", \"arrowhead\": 0, \"arrowwidth\": 1}, \"coloraxis\": {\"colorbar\": {\"outlinewidth\": 0, \"ticks\": \"\"}}, \"colorscale\": {\"diverging\": [[0, \"#8e0152\"], [0.1, \"#c51b7d\"], [0.2, \"#de77ae\"], [0.3, \"#f1b6da\"], [0.4, \"#fde0ef\"], [0.5, \"#f7f7f7\"], [0.6, \"#e6f5d0\"], [0.7, \"#b8e186\"], [0.8, \"#7fbc41\"], [0.9, \"#4d9221\"], [1, \"#276419\"]], \"sequential\": [[0.0, \"#0d0887\"], [0.1111111111111111, \"#46039f\"], [0.2222222222222222, \"#7201a8\"], [0.3333333333333333, \"#9c179e\"], [0.4444444444444444, \"#bd3786\"], [0.5555555555555556, \"#d8576b\"], [0.6666666666666666, \"#ed7953\"], [0.7777777777777778, \"#fb9f3a\"], [0.8888888888888888, \"#fdca26\"], [1.0, \"#f0f921\"]], \"sequentialminus\": [[0.0, \"#0d0887\"], [0.1111111111111111, \"#46039f\"], [0.2222222222222222, \"#7201a8\"], [0.3333333333333333, \"#9c179e\"], [0.4444444444444444, \"#bd3786\"], [0.5555555555555556, \"#d8576b\"], [0.6666666666666666, \"#ed7953\"], [0.7777777777777778, \"#fb9f3a\"], [0.8888888888888888, \"#fdca26\"], [1.0, \"#f0f921\"]]}, \"colorway\": [\"#636efa\", \"#EF553B\", \"#00cc96\", \"#ab63fa\", \"#FFA15A\", \"#19d3f3\", \"#FF6692\", \"#B6E880\", \"#FF97FF\", \"#FECB52\"], \"font\": {\"color\": \"#2a3f5f\"}, \"geo\": {\"bgcolor\": \"white\", \"lakecolor\": \"white\", \"landcolor\": \"#E5ECF6\", \"showlakes\": true, \"showland\": true, \"subunitcolor\": \"white\"}, \"hoverlabel\": {\"align\": \"left\"}, \"hovermode\": \"closest\", \"mapbox\": {\"style\": \"light\"}, \"paper_bgcolor\": \"white\", \"plot_bgcolor\": \"#E5ECF6\", \"polar\": {\"angularaxis\": {\"gridcolor\": \"white\", \"linecolor\": \"white\", \"ticks\": \"\"}, \"bgcolor\": \"#E5ECF6\", \"radialaxis\": {\"gridcolor\": \"white\", \"linecolor\": \"white\", \"ticks\": \"\"}}, \"scene\": {\"xaxis\": {\"backgroundcolor\": \"#E5ECF6\", \"gridcolor\": \"white\", \"gridwidth\": 2, \"linecolor\": \"white\", \"showbackground\": true, \"ticks\": \"\", \"zerolinecolor\": \"white\"}, \"yaxis\": {\"backgroundcolor\": \"#E5ECF6\", \"gridcolor\": \"white\", \"gridwidth\": 2, \"linecolor\": \"white\", \"showbackground\": true, \"ticks\": \"\", \"zerolinecolor\": \"white\"}, \"zaxis\": {\"backgroundcolor\": \"#E5ECF6\", \"gridcolor\": \"white\", \"gridwidth\": 2, \"linecolor\": \"white\", \"showbackground\": true, \"ticks\": \"\", \"zerolinecolor\": \"white\"}}, \"shapedefaults\": {\"line\": {\"color\": \"#2a3f5f\"}}, \"ternary\": {\"aaxis\": {\"gridcolor\": \"white\", \"linecolor\": \"white\", \"ticks\": \"\"}, \"baxis\": {\"gridcolor\": \"white\", \"linecolor\": \"white\", \"ticks\": \"\"}, \"bgcolor\": \"#E5ECF6\", \"caxis\": {\"gridcolor\": \"white\", \"linecolor\": \"white\", \"ticks\": \"\"}}, \"title\": {\"x\": 0.05}, \"xaxis\": {\"automargin\": true, \"gridcolor\": \"white\", \"linecolor\": \"white\", \"ticks\": \"\", \"title\": {\"standoff\": 15}, \"zerolinecolor\": \"white\", \"zerolinewidth\": 2}, \"yaxis\": {\"automargin\": true, \"gridcolor\": \"white\", \"linecolor\": \"white\", \"ticks\": \"\", \"title\": {\"standoff\": 15}, \"zerolinecolor\": \"white\", \"zerolinewidth\": 2}}}, \"title\": {\"text\": \"ROC curve for S_cementfloordin\"}, \"width\": 600, \"xaxis\": {\"anchor\": \"y\", \"domain\": [0.0, 1.0], \"title\": {\"text\": \"False positive rate\"}}, \"yaxis\": {\"anchor\": \"x\", \"domain\": [0.0, 1.0], \"title\": {\"text\": \"True positive rate\"}}},                        {\"responsive\": true}                    ).then(function(){\n",
       "                            \n",
       "var gd = document.getElementById('032301bb-d7d3-4520-ba01-2ea39e2208d4');\n",
       "var x = new MutationObserver(function (mutations, observer) {{\n",
       "        var display = window.getComputedStyle(gd).display;\n",
       "        if (!display || display === 'none') {{\n",
       "            console.log([gd, 'removed!']);\n",
       "            Plotly.purge(gd);\n",
       "            observer.disconnect();\n",
       "        }}\n",
       "}});\n",
       "\n",
       "// Listen for the removal of the full notebook cells\n",
       "var notebookContainer = gd.closest('#notebook-container');\n",
       "if (notebookContainer) {{\n",
       "    x.observe(notebookContainer, {childList: true});\n",
       "}}\n",
       "\n",
       "// Listen for the clearing of the current output cell\n",
       "var outputEl = gd.closest('.output');\n",
       "if (outputEl) {{\n",
       "    x.observe(outputEl, {childList: true});\n",
       "}}\n",
       "\n",
       "                        })                };                });            </script>        </div>"
      ]
     },
     "metadata": {},
     "output_type": "display_data"
    }
   ],
   "source": [
    "plot_AUC_curve(GradientBoostingRegressor(), ['S_cementfloordin'])"
   ]
  },
  {
   "cell_type": "code",
   "execution_count": 22,
   "metadata": {},
   "outputs": [
    {
     "data": {
      "application/vnd.plotly.v1+json": {
       "config": {
        "plotlyServerURL": "https://plot.ly"
       },
       "data": [
        {
         "type": "bar",
         "x": [
          "C_blocksdirtfloor",
          "C_vehicle",
          "C_poverty",
          "C_HHdirtfloor",
          "C_illiterate",
          "C_headeduc",
          "C_employment",
          "C_waterbath",
          "C_dropouts515",
          "C_gasheater",
          "C_HHpersons",
          "C_people",
          "C_telephone",
          "C_rooms",
          "C_waterhouse",
          "C_child05",
          "C_overcrowding",
          "C_washing",
          "C_waterland",
          "C_households",
          "C_earnincome",
          "C_refrigerator"
         ],
         "y": [
          0.1930652921677774,
          0.11519131091409357,
          0.0962838871442126,
          0.07568732875701613,
          0.06483604664127915,
          0.06260163025690284,
          0.060799357674966956,
          0.055989753444093626,
          0.033807434689041536,
          0.031690118077179766,
          0.031130637254732935,
          0.030733708419812305,
          0.02484211314588051,
          0.020309244843834964,
          0.020077454867619665,
          0.01864935740566509,
          0.016635062386850683,
          0.012847344882785959,
          0.010755011402236734,
          0.009241733146366794,
          0.00915561983617222,
          0.005670552641478673
         ]
        }
       ],
       "layout": {
        "template": {
         "data": {
          "bar": [
           {
            "error_x": {
             "color": "#2a3f5f"
            },
            "error_y": {
             "color": "#2a3f5f"
            },
            "marker": {
             "line": {
              "color": "#E5ECF6",
              "width": 0.5
             }
            },
            "type": "bar"
           }
          ],
          "barpolar": [
           {
            "marker": {
             "line": {
              "color": "#E5ECF6",
              "width": 0.5
             }
            },
            "type": "barpolar"
           }
          ],
          "carpet": [
           {
            "aaxis": {
             "endlinecolor": "#2a3f5f",
             "gridcolor": "white",
             "linecolor": "white",
             "minorgridcolor": "white",
             "startlinecolor": "#2a3f5f"
            },
            "baxis": {
             "endlinecolor": "#2a3f5f",
             "gridcolor": "white",
             "linecolor": "white",
             "minorgridcolor": "white",
             "startlinecolor": "#2a3f5f"
            },
            "type": "carpet"
           }
          ],
          "choropleth": [
           {
            "colorbar": {
             "outlinewidth": 0,
             "ticks": ""
            },
            "type": "choropleth"
           }
          ],
          "contour": [
           {
            "colorbar": {
             "outlinewidth": 0,
             "ticks": ""
            },
            "colorscale": [
             [
              0,
              "#0d0887"
             ],
             [
              0.1111111111111111,
              "#46039f"
             ],
             [
              0.2222222222222222,
              "#7201a8"
             ],
             [
              0.3333333333333333,
              "#9c179e"
             ],
             [
              0.4444444444444444,
              "#bd3786"
             ],
             [
              0.5555555555555556,
              "#d8576b"
             ],
             [
              0.6666666666666666,
              "#ed7953"
             ],
             [
              0.7777777777777778,
              "#fb9f3a"
             ],
             [
              0.8888888888888888,
              "#fdca26"
             ],
             [
              1,
              "#f0f921"
             ]
            ],
            "type": "contour"
           }
          ],
          "contourcarpet": [
           {
            "colorbar": {
             "outlinewidth": 0,
             "ticks": ""
            },
            "type": "contourcarpet"
           }
          ],
          "heatmap": [
           {
            "colorbar": {
             "outlinewidth": 0,
             "ticks": ""
            },
            "colorscale": [
             [
              0,
              "#0d0887"
             ],
             [
              0.1111111111111111,
              "#46039f"
             ],
             [
              0.2222222222222222,
              "#7201a8"
             ],
             [
              0.3333333333333333,
              "#9c179e"
             ],
             [
              0.4444444444444444,
              "#bd3786"
             ],
             [
              0.5555555555555556,
              "#d8576b"
             ],
             [
              0.6666666666666666,
              "#ed7953"
             ],
             [
              0.7777777777777778,
              "#fb9f3a"
             ],
             [
              0.8888888888888888,
              "#fdca26"
             ],
             [
              1,
              "#f0f921"
             ]
            ],
            "type": "heatmap"
           }
          ],
          "heatmapgl": [
           {
            "colorbar": {
             "outlinewidth": 0,
             "ticks": ""
            },
            "colorscale": [
             [
              0,
              "#0d0887"
             ],
             [
              0.1111111111111111,
              "#46039f"
             ],
             [
              0.2222222222222222,
              "#7201a8"
             ],
             [
              0.3333333333333333,
              "#9c179e"
             ],
             [
              0.4444444444444444,
              "#bd3786"
             ],
             [
              0.5555555555555556,
              "#d8576b"
             ],
             [
              0.6666666666666666,
              "#ed7953"
             ],
             [
              0.7777777777777778,
              "#fb9f3a"
             ],
             [
              0.8888888888888888,
              "#fdca26"
             ],
             [
              1,
              "#f0f921"
             ]
            ],
            "type": "heatmapgl"
           }
          ],
          "histogram": [
           {
            "marker": {
             "colorbar": {
              "outlinewidth": 0,
              "ticks": ""
             }
            },
            "type": "histogram"
           }
          ],
          "histogram2d": [
           {
            "colorbar": {
             "outlinewidth": 0,
             "ticks": ""
            },
            "colorscale": [
             [
              0,
              "#0d0887"
             ],
             [
              0.1111111111111111,
              "#46039f"
             ],
             [
              0.2222222222222222,
              "#7201a8"
             ],
             [
              0.3333333333333333,
              "#9c179e"
             ],
             [
              0.4444444444444444,
              "#bd3786"
             ],
             [
              0.5555555555555556,
              "#d8576b"
             ],
             [
              0.6666666666666666,
              "#ed7953"
             ],
             [
              0.7777777777777778,
              "#fb9f3a"
             ],
             [
              0.8888888888888888,
              "#fdca26"
             ],
             [
              1,
              "#f0f921"
             ]
            ],
            "type": "histogram2d"
           }
          ],
          "histogram2dcontour": [
           {
            "colorbar": {
             "outlinewidth": 0,
             "ticks": ""
            },
            "colorscale": [
             [
              0,
              "#0d0887"
             ],
             [
              0.1111111111111111,
              "#46039f"
             ],
             [
              0.2222222222222222,
              "#7201a8"
             ],
             [
              0.3333333333333333,
              "#9c179e"
             ],
             [
              0.4444444444444444,
              "#bd3786"
             ],
             [
              0.5555555555555556,
              "#d8576b"
             ],
             [
              0.6666666666666666,
              "#ed7953"
             ],
             [
              0.7777777777777778,
              "#fb9f3a"
             ],
             [
              0.8888888888888888,
              "#fdca26"
             ],
             [
              1,
              "#f0f921"
             ]
            ],
            "type": "histogram2dcontour"
           }
          ],
          "mesh3d": [
           {
            "colorbar": {
             "outlinewidth": 0,
             "ticks": ""
            },
            "type": "mesh3d"
           }
          ],
          "parcoords": [
           {
            "line": {
             "colorbar": {
              "outlinewidth": 0,
              "ticks": ""
             }
            },
            "type": "parcoords"
           }
          ],
          "pie": [
           {
            "automargin": true,
            "type": "pie"
           }
          ],
          "scatter": [
           {
            "marker": {
             "colorbar": {
              "outlinewidth": 0,
              "ticks": ""
             }
            },
            "type": "scatter"
           }
          ],
          "scatter3d": [
           {
            "line": {
             "colorbar": {
              "outlinewidth": 0,
              "ticks": ""
             }
            },
            "marker": {
             "colorbar": {
              "outlinewidth": 0,
              "ticks": ""
             }
            },
            "type": "scatter3d"
           }
          ],
          "scattercarpet": [
           {
            "marker": {
             "colorbar": {
              "outlinewidth": 0,
              "ticks": ""
             }
            },
            "type": "scattercarpet"
           }
          ],
          "scattergeo": [
           {
            "marker": {
             "colorbar": {
              "outlinewidth": 0,
              "ticks": ""
             }
            },
            "type": "scattergeo"
           }
          ],
          "scattergl": [
           {
            "marker": {
             "colorbar": {
              "outlinewidth": 0,
              "ticks": ""
             }
            },
            "type": "scattergl"
           }
          ],
          "scattermapbox": [
           {
            "marker": {
             "colorbar": {
              "outlinewidth": 0,
              "ticks": ""
             }
            },
            "type": "scattermapbox"
           }
          ],
          "scatterpolar": [
           {
            "marker": {
             "colorbar": {
              "outlinewidth": 0,
              "ticks": ""
             }
            },
            "type": "scatterpolar"
           }
          ],
          "scatterpolargl": [
           {
            "marker": {
             "colorbar": {
              "outlinewidth": 0,
              "ticks": ""
             }
            },
            "type": "scatterpolargl"
           }
          ],
          "scatterternary": [
           {
            "marker": {
             "colorbar": {
              "outlinewidth": 0,
              "ticks": ""
             }
            },
            "type": "scatterternary"
           }
          ],
          "surface": [
           {
            "colorbar": {
             "outlinewidth": 0,
             "ticks": ""
            },
            "colorscale": [
             [
              0,
              "#0d0887"
             ],
             [
              0.1111111111111111,
              "#46039f"
             ],
             [
              0.2222222222222222,
              "#7201a8"
             ],
             [
              0.3333333333333333,
              "#9c179e"
             ],
             [
              0.4444444444444444,
              "#bd3786"
             ],
             [
              0.5555555555555556,
              "#d8576b"
             ],
             [
              0.6666666666666666,
              "#ed7953"
             ],
             [
              0.7777777777777778,
              "#fb9f3a"
             ],
             [
              0.8888888888888888,
              "#fdca26"
             ],
             [
              1,
              "#f0f921"
             ]
            ],
            "type": "surface"
           }
          ],
          "table": [
           {
            "cells": {
             "fill": {
              "color": "#EBF0F8"
             },
             "line": {
              "color": "white"
             }
            },
            "header": {
             "fill": {
              "color": "#C8D4E3"
             },
             "line": {
              "color": "white"
             }
            },
            "type": "table"
           }
          ]
         },
         "layout": {
          "annotationdefaults": {
           "arrowcolor": "#2a3f5f",
           "arrowhead": 0,
           "arrowwidth": 1
          },
          "coloraxis": {
           "colorbar": {
            "outlinewidth": 0,
            "ticks": ""
           }
          },
          "colorscale": {
           "diverging": [
            [
             0,
             "#8e0152"
            ],
            [
             0.1,
             "#c51b7d"
            ],
            [
             0.2,
             "#de77ae"
            ],
            [
             0.3,
             "#f1b6da"
            ],
            [
             0.4,
             "#fde0ef"
            ],
            [
             0.5,
             "#f7f7f7"
            ],
            [
             0.6,
             "#e6f5d0"
            ],
            [
             0.7,
             "#b8e186"
            ],
            [
             0.8,
             "#7fbc41"
            ],
            [
             0.9,
             "#4d9221"
            ],
            [
             1,
             "#276419"
            ]
           ],
           "sequential": [
            [
             0,
             "#0d0887"
            ],
            [
             0.1111111111111111,
             "#46039f"
            ],
            [
             0.2222222222222222,
             "#7201a8"
            ],
            [
             0.3333333333333333,
             "#9c179e"
            ],
            [
             0.4444444444444444,
             "#bd3786"
            ],
            [
             0.5555555555555556,
             "#d8576b"
            ],
            [
             0.6666666666666666,
             "#ed7953"
            ],
            [
             0.7777777777777778,
             "#fb9f3a"
            ],
            [
             0.8888888888888888,
             "#fdca26"
            ],
            [
             1,
             "#f0f921"
            ]
           ],
           "sequentialminus": [
            [
             0,
             "#0d0887"
            ],
            [
             0.1111111111111111,
             "#46039f"
            ],
            [
             0.2222222222222222,
             "#7201a8"
            ],
            [
             0.3333333333333333,
             "#9c179e"
            ],
            [
             0.4444444444444444,
             "#bd3786"
            ],
            [
             0.5555555555555556,
             "#d8576b"
            ],
            [
             0.6666666666666666,
             "#ed7953"
            ],
            [
             0.7777777777777778,
             "#fb9f3a"
            ],
            [
             0.8888888888888888,
             "#fdca26"
            ],
            [
             1,
             "#f0f921"
            ]
           ]
          },
          "colorway": [
           "#636efa",
           "#EF553B",
           "#00cc96",
           "#ab63fa",
           "#FFA15A",
           "#19d3f3",
           "#FF6692",
           "#B6E880",
           "#FF97FF",
           "#FECB52"
          ],
          "font": {
           "color": "#2a3f5f"
          },
          "geo": {
           "bgcolor": "white",
           "lakecolor": "white",
           "landcolor": "#E5ECF6",
           "showlakes": true,
           "showland": true,
           "subunitcolor": "white"
          },
          "hoverlabel": {
           "align": "left"
          },
          "hovermode": "closest",
          "mapbox": {
           "style": "light"
          },
          "paper_bgcolor": "white",
          "plot_bgcolor": "#E5ECF6",
          "polar": {
           "angularaxis": {
            "gridcolor": "white",
            "linecolor": "white",
            "ticks": ""
           },
           "bgcolor": "#E5ECF6",
           "radialaxis": {
            "gridcolor": "white",
            "linecolor": "white",
            "ticks": ""
           }
          },
          "scene": {
           "xaxis": {
            "backgroundcolor": "#E5ECF6",
            "gridcolor": "white",
            "gridwidth": 2,
            "linecolor": "white",
            "showbackground": true,
            "ticks": "",
            "zerolinecolor": "white"
           },
           "yaxis": {
            "backgroundcolor": "#E5ECF6",
            "gridcolor": "white",
            "gridwidth": 2,
            "linecolor": "white",
            "showbackground": true,
            "ticks": "",
            "zerolinecolor": "white"
           },
           "zaxis": {
            "backgroundcolor": "#E5ECF6",
            "gridcolor": "white",
            "gridwidth": 2,
            "linecolor": "white",
            "showbackground": true,
            "ticks": "",
            "zerolinecolor": "white"
           }
          },
          "shapedefaults": {
           "line": {
            "color": "#2a3f5f"
           }
          },
          "ternary": {
           "aaxis": {
            "gridcolor": "white",
            "linecolor": "white",
            "ticks": ""
           },
           "baxis": {
            "gridcolor": "white",
            "linecolor": "white",
            "ticks": ""
           },
           "bgcolor": "#E5ECF6",
           "caxis": {
            "gridcolor": "white",
            "linecolor": "white",
            "ticks": ""
           }
          },
          "title": {
           "x": 0.05
          },
          "xaxis": {
           "automargin": true,
           "gridcolor": "white",
           "linecolor": "white",
           "ticks": "",
           "title": {
            "standoff": 15
           },
           "zerolinecolor": "white",
           "zerolinewidth": 2
          },
          "yaxis": {
           "automargin": true,
           "gridcolor": "white",
           "linecolor": "white",
           "ticks": "",
           "title": {
            "standoff": 15
           },
           "zerolinecolor": "white",
           "zerolinewidth": 2
          }
         }
        }
       }
      },
      "text/html": [
       "<div>                            <div id=\"d4b8e59a-a7b5-4728-89af-76945a743236\" class=\"plotly-graph-div\" style=\"height:525px; width:100%;\"></div>            <script type=\"text/javascript\">                require([\"plotly\"], function(Plotly) {                    window.PLOTLYENV=window.PLOTLYENV || {};                                    if (document.getElementById(\"d4b8e59a-a7b5-4728-89af-76945a743236\")) {                    Plotly.newPlot(                        \"d4b8e59a-a7b5-4728-89af-76945a743236\",                        [{\"type\": \"bar\", \"x\": [\"C_blocksdirtfloor\", \"C_vehicle\", \"C_poverty\", \"C_HHdirtfloor\", \"C_illiterate\", \"C_headeduc\", \"C_employment\", \"C_waterbath\", \"C_dropouts515\", \"C_gasheater\", \"C_HHpersons\", \"C_people\", \"C_telephone\", \"C_rooms\", \"C_waterhouse\", \"C_child05\", \"C_overcrowding\", \"C_washing\", \"C_waterland\", \"C_households\", \"C_earnincome\", \"C_refrigerator\"], \"y\": [0.1930652921677774, 0.11519131091409357, 0.0962838871442126, 0.07568732875701613, 0.06483604664127915, 0.06260163025690284, 0.060799357674966956, 0.055989753444093626, 0.033807434689041536, 0.031690118077179766, 0.031130637254732935, 0.030733708419812305, 0.02484211314588051, 0.020309244843834964, 0.020077454867619665, 0.01864935740566509, 0.016635062386850683, 0.012847344882785959, 0.010755011402236734, 0.009241733146366794, 0.00915561983617222, 0.005670552641478673]}],                        {\"template\": {\"data\": {\"bar\": [{\"error_x\": {\"color\": \"#2a3f5f\"}, \"error_y\": {\"color\": \"#2a3f5f\"}, \"marker\": {\"line\": {\"color\": \"#E5ECF6\", \"width\": 0.5}}, \"type\": \"bar\"}], \"barpolar\": [{\"marker\": {\"line\": {\"color\": \"#E5ECF6\", \"width\": 0.5}}, \"type\": \"barpolar\"}], \"carpet\": [{\"aaxis\": {\"endlinecolor\": \"#2a3f5f\", \"gridcolor\": \"white\", \"linecolor\": \"white\", \"minorgridcolor\": \"white\", \"startlinecolor\": \"#2a3f5f\"}, \"baxis\": {\"endlinecolor\": \"#2a3f5f\", \"gridcolor\": \"white\", \"linecolor\": \"white\", \"minorgridcolor\": \"white\", \"startlinecolor\": \"#2a3f5f\"}, \"type\": \"carpet\"}], \"choropleth\": [{\"colorbar\": {\"outlinewidth\": 0, \"ticks\": \"\"}, \"type\": \"choropleth\"}], \"contour\": [{\"colorbar\": {\"outlinewidth\": 0, \"ticks\": \"\"}, \"colorscale\": [[0.0, \"#0d0887\"], [0.1111111111111111, \"#46039f\"], [0.2222222222222222, \"#7201a8\"], [0.3333333333333333, \"#9c179e\"], [0.4444444444444444, \"#bd3786\"], [0.5555555555555556, \"#d8576b\"], [0.6666666666666666, \"#ed7953\"], [0.7777777777777778, \"#fb9f3a\"], [0.8888888888888888, \"#fdca26\"], [1.0, \"#f0f921\"]], \"type\": \"contour\"}], \"contourcarpet\": [{\"colorbar\": {\"outlinewidth\": 0, \"ticks\": \"\"}, \"type\": \"contourcarpet\"}], \"heatmap\": [{\"colorbar\": {\"outlinewidth\": 0, \"ticks\": \"\"}, \"colorscale\": [[0.0, \"#0d0887\"], [0.1111111111111111, \"#46039f\"], [0.2222222222222222, \"#7201a8\"], [0.3333333333333333, \"#9c179e\"], [0.4444444444444444, \"#bd3786\"], [0.5555555555555556, \"#d8576b\"], [0.6666666666666666, \"#ed7953\"], [0.7777777777777778, \"#fb9f3a\"], [0.8888888888888888, \"#fdca26\"], [1.0, \"#f0f921\"]], \"type\": \"heatmap\"}], \"heatmapgl\": [{\"colorbar\": {\"outlinewidth\": 0, \"ticks\": \"\"}, \"colorscale\": [[0.0, \"#0d0887\"], [0.1111111111111111, \"#46039f\"], [0.2222222222222222, \"#7201a8\"], [0.3333333333333333, \"#9c179e\"], [0.4444444444444444, \"#bd3786\"], [0.5555555555555556, \"#d8576b\"], [0.6666666666666666, \"#ed7953\"], [0.7777777777777778, \"#fb9f3a\"], [0.8888888888888888, \"#fdca26\"], [1.0, \"#f0f921\"]], \"type\": \"heatmapgl\"}], \"histogram\": [{\"marker\": {\"colorbar\": {\"outlinewidth\": 0, \"ticks\": \"\"}}, \"type\": \"histogram\"}], \"histogram2d\": [{\"colorbar\": {\"outlinewidth\": 0, \"ticks\": \"\"}, \"colorscale\": [[0.0, \"#0d0887\"], [0.1111111111111111, \"#46039f\"], [0.2222222222222222, \"#7201a8\"], [0.3333333333333333, \"#9c179e\"], [0.4444444444444444, \"#bd3786\"], [0.5555555555555556, \"#d8576b\"], [0.6666666666666666, \"#ed7953\"], [0.7777777777777778, \"#fb9f3a\"], [0.8888888888888888, \"#fdca26\"], [1.0, \"#f0f921\"]], \"type\": \"histogram2d\"}], \"histogram2dcontour\": [{\"colorbar\": {\"outlinewidth\": 0, \"ticks\": \"\"}, \"colorscale\": [[0.0, \"#0d0887\"], [0.1111111111111111, \"#46039f\"], [0.2222222222222222, \"#7201a8\"], [0.3333333333333333, \"#9c179e\"], [0.4444444444444444, \"#bd3786\"], [0.5555555555555556, \"#d8576b\"], [0.6666666666666666, \"#ed7953\"], [0.7777777777777778, \"#fb9f3a\"], [0.8888888888888888, \"#fdca26\"], [1.0, \"#f0f921\"]], \"type\": \"histogram2dcontour\"}], \"mesh3d\": [{\"colorbar\": {\"outlinewidth\": 0, \"ticks\": \"\"}, \"type\": \"mesh3d\"}], \"parcoords\": [{\"line\": {\"colorbar\": {\"outlinewidth\": 0, \"ticks\": \"\"}}, \"type\": \"parcoords\"}], \"pie\": [{\"automargin\": true, \"type\": \"pie\"}], \"scatter\": [{\"marker\": {\"colorbar\": {\"outlinewidth\": 0, \"ticks\": \"\"}}, \"type\": \"scatter\"}], \"scatter3d\": [{\"line\": {\"colorbar\": {\"outlinewidth\": 0, \"ticks\": \"\"}}, \"marker\": {\"colorbar\": {\"outlinewidth\": 0, \"ticks\": \"\"}}, \"type\": \"scatter3d\"}], \"scattercarpet\": [{\"marker\": {\"colorbar\": {\"outlinewidth\": 0, \"ticks\": \"\"}}, \"type\": \"scattercarpet\"}], \"scattergeo\": [{\"marker\": {\"colorbar\": {\"outlinewidth\": 0, \"ticks\": \"\"}}, \"type\": \"scattergeo\"}], \"scattergl\": [{\"marker\": {\"colorbar\": {\"outlinewidth\": 0, \"ticks\": \"\"}}, \"type\": \"scattergl\"}], \"scattermapbox\": [{\"marker\": {\"colorbar\": {\"outlinewidth\": 0, \"ticks\": \"\"}}, \"type\": \"scattermapbox\"}], \"scatterpolar\": [{\"marker\": {\"colorbar\": {\"outlinewidth\": 0, \"ticks\": \"\"}}, \"type\": \"scatterpolar\"}], \"scatterpolargl\": [{\"marker\": {\"colorbar\": {\"outlinewidth\": 0, \"ticks\": \"\"}}, \"type\": \"scatterpolargl\"}], \"scatterternary\": [{\"marker\": {\"colorbar\": {\"outlinewidth\": 0, \"ticks\": \"\"}}, \"type\": \"scatterternary\"}], \"surface\": [{\"colorbar\": {\"outlinewidth\": 0, \"ticks\": \"\"}, \"colorscale\": [[0.0, \"#0d0887\"], [0.1111111111111111, \"#46039f\"], [0.2222222222222222, \"#7201a8\"], [0.3333333333333333, \"#9c179e\"], [0.4444444444444444, \"#bd3786\"], [0.5555555555555556, \"#d8576b\"], [0.6666666666666666, \"#ed7953\"], [0.7777777777777778, \"#fb9f3a\"], [0.8888888888888888, \"#fdca26\"], [1.0, \"#f0f921\"]], \"type\": \"surface\"}], \"table\": [{\"cells\": {\"fill\": {\"color\": \"#EBF0F8\"}, \"line\": {\"color\": \"white\"}}, \"header\": {\"fill\": {\"color\": \"#C8D4E3\"}, \"line\": {\"color\": \"white\"}}, \"type\": \"table\"}]}, \"layout\": {\"annotationdefaults\": {\"arrowcolor\": \"#2a3f5f\", \"arrowhead\": 0, \"arrowwidth\": 1}, \"coloraxis\": {\"colorbar\": {\"outlinewidth\": 0, \"ticks\": \"\"}}, \"colorscale\": {\"diverging\": [[0, \"#8e0152\"], [0.1, \"#c51b7d\"], [0.2, \"#de77ae\"], [0.3, \"#f1b6da\"], [0.4, \"#fde0ef\"], [0.5, \"#f7f7f7\"], [0.6, \"#e6f5d0\"], [0.7, \"#b8e186\"], [0.8, \"#7fbc41\"], [0.9, \"#4d9221\"], [1, \"#276419\"]], \"sequential\": [[0.0, \"#0d0887\"], [0.1111111111111111, \"#46039f\"], [0.2222222222222222, \"#7201a8\"], [0.3333333333333333, \"#9c179e\"], [0.4444444444444444, \"#bd3786\"], [0.5555555555555556, \"#d8576b\"], [0.6666666666666666, \"#ed7953\"], [0.7777777777777778, \"#fb9f3a\"], [0.8888888888888888, \"#fdca26\"], [1.0, \"#f0f921\"]], \"sequentialminus\": [[0.0, \"#0d0887\"], [0.1111111111111111, \"#46039f\"], [0.2222222222222222, \"#7201a8\"], [0.3333333333333333, \"#9c179e\"], [0.4444444444444444, \"#bd3786\"], [0.5555555555555556, \"#d8576b\"], [0.6666666666666666, \"#ed7953\"], [0.7777777777777778, \"#fb9f3a\"], [0.8888888888888888, \"#fdca26\"], [1.0, \"#f0f921\"]]}, \"colorway\": [\"#636efa\", \"#EF553B\", \"#00cc96\", \"#ab63fa\", \"#FFA15A\", \"#19d3f3\", \"#FF6692\", \"#B6E880\", \"#FF97FF\", \"#FECB52\"], \"font\": {\"color\": \"#2a3f5f\"}, \"geo\": {\"bgcolor\": \"white\", \"lakecolor\": \"white\", \"landcolor\": \"#E5ECF6\", \"showlakes\": true, \"showland\": true, \"subunitcolor\": \"white\"}, \"hoverlabel\": {\"align\": \"left\"}, \"hovermode\": \"closest\", \"mapbox\": {\"style\": \"light\"}, \"paper_bgcolor\": \"white\", \"plot_bgcolor\": \"#E5ECF6\", \"polar\": {\"angularaxis\": {\"gridcolor\": \"white\", \"linecolor\": \"white\", \"ticks\": \"\"}, \"bgcolor\": \"#E5ECF6\", \"radialaxis\": {\"gridcolor\": \"white\", \"linecolor\": \"white\", \"ticks\": \"\"}}, \"scene\": {\"xaxis\": {\"backgroundcolor\": \"#E5ECF6\", \"gridcolor\": \"white\", \"gridwidth\": 2, \"linecolor\": \"white\", \"showbackground\": true, \"ticks\": \"\", \"zerolinecolor\": \"white\"}, \"yaxis\": {\"backgroundcolor\": \"#E5ECF6\", \"gridcolor\": \"white\", \"gridwidth\": 2, \"linecolor\": \"white\", \"showbackground\": true, \"ticks\": \"\", \"zerolinecolor\": \"white\"}, \"zaxis\": {\"backgroundcolor\": \"#E5ECF6\", \"gridcolor\": \"white\", \"gridwidth\": 2, \"linecolor\": \"white\", \"showbackground\": true, \"ticks\": \"\", \"zerolinecolor\": \"white\"}}, \"shapedefaults\": {\"line\": {\"color\": \"#2a3f5f\"}}, \"ternary\": {\"aaxis\": {\"gridcolor\": \"white\", \"linecolor\": \"white\", \"ticks\": \"\"}, \"baxis\": {\"gridcolor\": \"white\", \"linecolor\": \"white\", \"ticks\": \"\"}, \"bgcolor\": \"#E5ECF6\", \"caxis\": {\"gridcolor\": \"white\", \"linecolor\": \"white\", \"ticks\": \"\"}}, \"title\": {\"x\": 0.05}, \"xaxis\": {\"automargin\": true, \"gridcolor\": \"white\", \"linecolor\": \"white\", \"ticks\": \"\", \"title\": {\"standoff\": 15}, \"zerolinecolor\": \"white\", \"zerolinewidth\": 2}, \"yaxis\": {\"automargin\": true, \"gridcolor\": \"white\", \"linecolor\": \"white\", \"ticks\": \"\", \"title\": {\"standoff\": 15}, \"zerolinecolor\": \"white\", \"zerolinewidth\": 2}}}},                        {\"responsive\": true}                    ).then(function(){\n",
       "                            \n",
       "var gd = document.getElementById('d4b8e59a-a7b5-4728-89af-76945a743236');\n",
       "var x = new MutationObserver(function (mutations, observer) {{\n",
       "        var display = window.getComputedStyle(gd).display;\n",
       "        if (!display || display === 'none') {{\n",
       "            console.log([gd, 'removed!']);\n",
       "            Plotly.purge(gd);\n",
       "            observer.disconnect();\n",
       "        }}\n",
       "}});\n",
       "\n",
       "// Listen for the removal of the full notebook cells\n",
       "var notebookContainer = gd.closest('#notebook-container');\n",
       "if (notebookContainer) {{\n",
       "    x.observe(notebookContainer, {childList: true});\n",
       "}}\n",
       "\n",
       "// Listen for the clearing of the current output cell\n",
       "var outputEl = gd.closest('.output');\n",
       "if (outputEl) {{\n",
       "    x.observe(outputEl, {childList: true});\n",
       "}}\n",
       "\n",
       "                        })                };                });            </script>        </div>"
      ]
     },
     "metadata": {},
     "output_type": "display_data"
    }
   ],
   "source": [
    "plot_feature_importance(df_survey_train, df_census_train, GradientBoostingRegressor(), ['S_cementfloordin'])"
   ]
  },
  {
   "cell_type": "markdown",
   "metadata": {},
   "source": [
    "### S_shcementfloor\n",
    "Def: Share of rooms with cement floors"
   ]
  },
  {
   "cell_type": "code",
   "execution_count": 23,
   "metadata": {},
   "outputs": [
    {
     "data": {
      "application/vnd.plotly.v1+json": {
       "config": {
        "plotlyServerURL": "https://plot.ly"
       },
       "data": [
        {
         "alignmentgroup": "True",
         "bingroup": "x",
         "hovertemplate": "variable=S_shcementfloor<br>value=%{x}<br>count=%{y}<extra></extra>",
         "legendgroup": "S_shcementfloor",
         "marker": {
          "color": "#636efa"
         },
         "name": "S_shcementfloor",
         "offsetgroup": "S_shcementfloor",
         "orientation": "v",
         "showlegend": true,
         "type": "histogram",
         "x": [
          0.6000000238418579,
          1,
          1,
          0,
          0.800000011920929,
          0.25,
          1,
          1,
          0.800000011920929,
          1,
          1,
          1,
          1,
          1,
          0.75,
          0.75,
          1,
          0.25,
          1,
          0.2857142686843872,
          0.4285714030265808,
          0,
          1,
          1,
          1,
          1,
          1,
          1,
          0.6000000238418579,
          1,
          0.6000000238418579,
          1,
          0.1666666865348816,
          1,
          1,
          1,
          1,
          1,
          1,
          1,
          0.75,
          1,
          1,
          1,
          0.800000011920929,
          1,
          1,
          1,
          1,
          0.5,
          0.800000011920929,
          1,
          0.25,
          1,
          1,
          1,
          0,
          0.8333333134651184,
          1,
          0.800000011920929,
          1,
          0.8333333134651184,
          0.6666666269302368,
          1,
          1,
          1,
          0.5,
          1,
          1,
          0.800000011920929,
          0.75,
          0,
          0,
          0.800000011920929,
          1,
          1,
          1,
          0,
          0.19999998807907104,
          0.6666666269302368,
          1,
          1,
          0,
          1,
          1,
          1,
          1,
          1,
          1,
          1,
          0.75,
          1,
          1,
          1,
          0.800000011920929,
          1,
          1,
          1,
          1,
          0.75,
          1,
          1,
          1,
          1,
          1,
          1,
          0,
          0.6000000238418579,
          1,
          1,
          1,
          1,
          0,
          1,
          1,
          1,
          1,
          0.1428571343421936,
          1,
          0.4285714030265808,
          0.8333333134651184,
          1,
          1,
          0.3999999761581421,
          0.5,
          1,
          1,
          1,
          1,
          0.5,
          1,
          0,
          1,
          1,
          0.75,
          0.6666666269302368,
          0.800000011920929,
          1,
          1,
          1,
          0.5,
          0,
          1,
          1,
          1,
          1,
          0.5,
          1,
          0.5,
          1,
          1,
          1,
          1,
          1,
          1,
          0.4285714030265808,
          1,
          0,
          1,
          0.25,
          1,
          0.5,
          0.800000011920929,
          0.25,
          1,
          0.5,
          1,
          1,
          1,
          1,
          1,
          0.25,
          1,
          1,
          0.8333333134651184,
          1,
          1,
          0.75,
          1,
          0.800000011920929,
          1,
          0.800000011920929,
          0.75,
          1,
          1,
          0.25,
          1,
          0.25,
          1,
          1,
          1,
          0,
          1,
          0,
          1,
          0,
          1,
          0,
          0.25,
          0.3999999761581421,
          1,
          0.8333333134651184,
          1,
          1,
          0.75,
          1,
          1,
          0,
          0.75,
          0.75,
          0.25,
          0.3999999761581421,
          1,
          1,
          0,
          1,
          0,
          0,
          1,
          1,
          1,
          1,
          0.800000011920929,
          1,
          0,
          0.5,
          0.5,
          1,
          0.8333333134651184,
          0.5,
          0.6000000238418579,
          1,
          0.6000000238418579,
          0,
          1,
          1,
          0.3999999761581421,
          1,
          1,
          0.25,
          1,
          1,
          0.6000000238418579,
          0.19999998807907104,
          1,
          1,
          0.75,
          1,
          1,
          0.6000000238418579,
          0,
          1,
          0.25,
          1,
          1,
          0.19999998807907104,
          1,
          1,
          1,
          1,
          0.8333333134651184,
          1,
          1,
          1,
          1,
          1,
          1,
          1,
          1,
          1,
          1,
          1,
          1,
          1,
          0.800000011920929,
          0.8333333134651184,
          1,
          1,
          0.75,
          0.800000011920929,
          0.75,
          1,
          1,
          1,
          0.19999998807907104,
          1,
          0,
          1,
          1,
          0.6000000238418579,
          1,
          0.25,
          0.19999998807907104,
          0.8333333134651184,
          1,
          1,
          0.5,
          0,
          0,
          1,
          0.5,
          1,
          1,
          1,
          1,
          1,
          0,
          1,
          0.800000011920929,
          1,
          0.800000011920929,
          0.75,
          1,
          0.75,
          0.75,
          0.6000000238418579,
          1,
          0.800000011920929,
          1,
          0.6000000238418579,
          1,
          0.5,
          1,
          0.3999999761581421,
          0.5,
          0.25,
          0.6000000238418579,
          0.25,
          1,
          1,
          0.5,
          0.75,
          1,
          1,
          1,
          0.75,
          0.5,
          1,
          0.75,
          0.25,
          0.5,
          1,
          0.25,
          1,
          0.3999999761581421,
          1,
          1,
          0.75,
          1,
          1,
          1,
          0.75,
          1,
          1,
          1,
          0.800000011920929,
          1,
          0,
          0.3999999761581421,
          1,
          1,
          1,
          1,
          1,
          1,
          1,
          0.5,
          1,
          1,
          1,
          0.75,
          0.19999998807907104,
          1,
          1,
          1,
          1,
          0.25,
          0.25,
          1,
          1,
          1,
          0.6000000238418579,
          0.25,
          1,
          0.75,
          0.5,
          0,
          1,
          0.75,
          1,
          1,
          0.3999999761581421,
          0.75,
          0,
          0.5,
          0.6000000238418579,
          1,
          1,
          0.6000000238418579,
          0.75,
          1,
          1,
          0.75,
          1,
          1,
          1,
          1,
          1,
          0.19999998807907104,
          1,
          0.19999998807907104,
          1,
          1,
          0.800000011920929,
          0.3999999761581421,
          1,
          1,
          0,
          1,
          0.800000011920929,
          1,
          0,
          1,
          0,
          1,
          1,
          1,
          1,
          1,
          1,
          1,
          1,
          1,
          0.75,
          0.19999998807907104,
          0.800000011920929,
          1,
          1,
          0.6666666269302368,
          1,
          1,
          1,
          1,
          1,
          1,
          1,
          1,
          0.25,
          1,
          1,
          0.75,
          0.6666666269302368,
          0.5,
          1,
          1,
          1,
          1,
          1,
          0.25,
          1,
          1,
          1,
          0.800000011920929,
          0.25,
          1,
          1,
          0,
          1,
          1,
          1,
          0.800000011920929,
          0.800000011920929,
          1,
          0,
          0,
          0.800000011920929,
          0.6000000238418579,
          1,
          0,
          0,
          1,
          0,
          0.3333333134651184,
          1,
          0.75,
          0.3999999761581421,
          1,
          1,
          0.75,
          1,
          0.6000000238418579,
          0,
          0.5,
          0.19999998807907104,
          0,
          1,
          1,
          1,
          1,
          1,
          0,
          1,
          0.25,
          0.25,
          0.5,
          0,
          0.800000011920929,
          0,
          1,
          1,
          0,
          1,
          0.3999999761581421,
          0.1428571343421936,
          0.6000000238418579,
          0.5,
          1,
          0,
          0.8333333134651184,
          1,
          1,
          1,
          0,
          1,
          0.3333333134651184,
          0.5,
          1,
          0.25,
          0.25,
          0.6000000238418579,
          0.75,
          0.8333333134651184,
          0.25,
          1,
          0,
          0.75,
          0.5,
          0.7142857313156128,
          0.5,
          0.25,
          1,
          0.75,
          0.19999998807907104,
          0,
          0.75,
          0.5,
          0.8333333134651184,
          0.25,
          0.800000011920929,
          0.3999999761581421,
          0.800000011920929,
          0.1666666865348816,
          0.800000011920929,
          0.75,
          1,
          1,
          0,
          1,
          0.3333333134651184,
          1,
          1,
          0.5,
          1,
          0.19999998807907104,
          1,
          0.25,
          1,
          1,
          0,
          0,
          1,
          0,
          0,
          0,
          0.25,
          1,
          0,
          0.5,
          1,
          1,
          0,
          1,
          0.5,
          0,
          0.5,
          0.75,
          0.25,
          0.800000011920929,
          0,
          0.19999998807907104,
          0.8571428656578064,
          0.25,
          1,
          1,
          0.25,
          1,
          0.3999999761581421,
          1,
          1,
          1,
          1,
          0.25,
          1,
          1,
          1,
          0.75,
          1,
          0,
          1,
          1,
          0.25,
          1,
          1,
          1,
          1,
          0,
          0.5,
          0,
          0.5,
          0.75,
          1,
          0.5,
          0.3999999761581421,
          1,
          1,
          1,
          0,
          1,
          0,
          1,
          1,
          1,
          1,
          1,
          0.75,
          1,
          1,
          1,
          1,
          0.5,
          0,
          0,
          1,
          1,
          0.5,
          0.25,
          0.1666666865348816,
          0,
          1,
          0.800000011920929,
          0.25,
          0.75,
          1,
          0.19999998807907104,
          0.800000011920929,
          1,
          0.19999998807907104,
          1,
          0.25,
          0.3999999761581421,
          0.25,
          1,
          0,
          0.75,
          0.8333333134651184,
          0.5,
          1,
          0,
          0.800000011920929,
          0.25,
          0.5,
          0,
          0,
          0.25,
          1,
          0.25,
          0.8333333134651184,
          0.75,
          0.19999998807907104,
          1,
          0.3999999761581421,
          1,
          1,
          0,
          1,
          1,
          0.6000000238418579,
          0,
          0,
          0.19999998807907104,
          1,
          1,
          0.75,
          1,
          1,
          0,
          0.75,
          1,
          1,
          0.75,
          0.19999998807907104,
          1,
          0.75,
          1,
          1,
          0.25,
          1,
          0.75,
          0.5,
          1,
          0,
          1,
          1,
          1,
          1,
          1,
          1,
          1,
          1,
          1,
          0.800000011920929,
          1,
          0,
          0.5,
          1,
          0,
          1,
          1,
          0,
          1,
          1,
          0.75,
          1,
          1,
          1,
          1,
          1,
          1,
          0.8333333134651184,
          1,
          0,
          1,
          1,
          0.75,
          1,
          0.800000011920929,
          1,
          0,
          1,
          1,
          1,
          0,
          1,
          0.5,
          1,
          1,
          1,
          0.75,
          1,
          1,
          0.19999998807907104,
          1,
          0.3333333134651184,
          0,
          1,
          1,
          1,
          1,
          1,
          1,
          1,
          1,
          0.25,
          0.25,
          1,
          0,
          1,
          0.8333333134651184,
          0.3999999761581421,
          1,
          0.3999999761581421,
          1,
          1,
          0.5,
          1,
          1,
          1,
          0.800000011920929,
          1,
          1,
          0.5,
          1,
          1,
          0.3999999761581421,
          0,
          1,
          0.800000011920929,
          1,
          0.19999998807907104,
          0.6000000238418579,
          1,
          1,
          1,
          1,
          0.800000011920929,
          1,
          1,
          1,
          0.800000011920929,
          1,
          0,
          1,
          1,
          1,
          1,
          1,
          0.19999998807907104,
          0.5,
          1,
          0.800000011920929,
          0.800000011920929,
          1,
          1,
          0.75,
          1,
          0.800000011920929,
          0,
          1,
          1,
          1,
          1,
          1,
          0.25,
          0.8333333134651184,
          1,
          1,
          1,
          1,
          0.6000000238418579,
          1,
          1,
          0.8333333134651184,
          1,
          1,
          1,
          1,
          1,
          0.8333333134651184,
          0.5,
          1,
          0.800000011920929,
          0.25,
          0.75,
          0.800000011920929,
          1,
          0.25,
          0,
          1,
          1,
          1,
          0,
          0,
          1,
          1,
          1,
          1,
          1,
          0.75,
          0.800000011920929,
          1,
          0.25,
          1,
          1,
          0,
          1,
          0.3999999761581421,
          1,
          0.8333333134651184,
          1,
          0.19999998807907104,
          1,
          1,
          0.800000011920929,
          0,
          0,
          1,
          0.6000000238418579,
          0.25,
          0,
          1,
          1,
          1,
          1,
          1,
          0.6000000238418579,
          0.75,
          0.6000000238418579,
          1,
          1,
          1,
          1,
          0.25,
          1,
          0.6000000238418579,
          0.25,
          1,
          0.3999999761581421,
          0.25,
          0.5,
          1,
          1,
          1,
          1,
          0.25,
          1,
          1,
          1,
          1,
          1,
          1,
          1,
          0.5,
          1,
          0.6000000238418579,
          0.5714285373687744,
          1,
          1,
          1,
          0.800000011920929,
          1,
          1,
          0.25,
          1,
          0.800000011920929,
          0.3999999761581421,
          1,
          1,
          1,
          1,
          1,
          1,
          0.6000000238418579,
          1,
          1,
          0,
          0.6000000238418579,
          0.75,
          0.5,
          0.6000000238418579,
          0.5,
          0.25,
          1,
          0.8333333134651184,
          0.8333333134651184,
          0.8333333134651184,
          1,
          0.800000011920929,
          0.5,
          0.75,
          1,
          1,
          0.5,
          0.25,
          0,
          1,
          0,
          1,
          1,
          1,
          1,
          1,
          0.6000000238418579,
          1,
          1,
          0.75,
          0.19999998807907104,
          1,
          1,
          0.75,
          0.5,
          1,
          1,
          0.800000011920929,
          0.75,
          0,
          1,
          0.5,
          1,
          0.800000011920929,
          1,
          1,
          1,
          0,
          1,
          1,
          0.75,
          0.5,
          0.8571428656578064,
          1,
          0.25,
          0.25,
          0.800000011920929,
          1,
          0,
          0.5,
          1,
          0.75,
          1,
          1,
          0.3333333134651184,
          0.5,
          1,
          1,
          1,
          0,
          0.800000011920929,
          1,
          1,
          1,
          1,
          1,
          1,
          0.75,
          1,
          1,
          1,
          1,
          1,
          0.8571428656578064,
          1,
          1,
          1,
          1,
          1,
          0.8571428656578064,
          1,
          1,
          1,
          0.75,
          1,
          1,
          1,
          1,
          1,
          1,
          1,
          1,
          0.6000000238418579,
          1,
          1,
          1,
          1,
          1,
          0.75,
          0.6000000238418579,
          0.75,
          1,
          0.5,
          1,
          1,
          0.800000011920929,
          0.8333333134651184,
          1,
          1,
          1,
          1,
          1,
          1,
          1,
          1,
          1,
          1,
          1,
          1,
          0.800000011920929,
          1,
          1,
          1,
          1,
          1,
          1,
          1,
          0.800000011920929,
          1,
          1,
          1,
          1,
          1,
          1,
          1,
          1,
          1,
          1,
          1,
          1,
          0.6000000238418579,
          1,
          1,
          1,
          0.75,
          1,
          1,
          1,
          0.75,
          1,
          1,
          1,
          1,
          1,
          1,
          1,
          1,
          1,
          1,
          1,
          1,
          1,
          1,
          1,
          1,
          1,
          0.8333333134651184,
          1,
          1,
          1,
          1,
          1,
          1,
          0.800000011920929,
          1,
          1,
          1,
          1,
          1,
          1,
          0.75,
          0.25,
          1,
          0.800000011920929,
          0.5,
          0.25,
          0.25,
          1,
          0.5,
          1,
          0.5,
          1,
          1,
          1,
          1,
          1,
          0.800000011920929,
          1,
          1,
          1,
          1,
          1,
          1,
          0.3999999761581421,
          1,
          1,
          1,
          1,
          1,
          1,
          1,
          1,
          1,
          0.25,
          1,
          1,
          1,
          1,
          1,
          1,
          1,
          1,
          1,
          1,
          1,
          1,
          0.25,
          1,
          1,
          0.75,
          1,
          1,
          1,
          1,
          0.800000011920929,
          1,
          1,
          1,
          1,
          0.800000011920929,
          1,
          1,
          1,
          0.5,
          1,
          1,
          0.75,
          1,
          1,
          1,
          1,
          0.5,
          1,
          0.75,
          1,
          1,
          1,
          1,
          1,
          1,
          1,
          0.75,
          0.75,
          1,
          1,
          1,
          1,
          1,
          1,
          1,
          1,
          0.3999999761581421,
          1,
          1,
          1,
          1,
          1,
          1,
          1,
          0.8333333134651184,
          1,
          1,
          1,
          1,
          1,
          1,
          1,
          1,
          1,
          1,
          1,
          1,
          0.6000000238418579,
          1,
          0.5,
          1,
          1,
          1,
          1,
          1,
          1,
          1,
          1,
          0.6000000238418579,
          1,
          1,
          1,
          1,
          1,
          1,
          1,
          1,
          1,
          1,
          1,
          1,
          1,
          1,
          0.800000011920929,
          1,
          1,
          1,
          1,
          1,
          1,
          1,
          1,
          1,
          0.75,
          0.8571428656578064,
          1,
          1,
          1,
          1,
          1,
          1,
          1,
          0.75,
          1,
          1,
          1,
          1,
          1,
          1,
          1,
          1,
          1,
          1,
          1,
          1,
          1,
          1,
          1,
          1,
          1,
          0.8333333134651184,
          1,
          1,
          1,
          0.6000000238418579,
          1,
          1,
          1,
          0.25,
          1,
          1,
          1,
          1,
          1,
          1,
          0.6000000238418579,
          1,
          0.75,
          1,
          1,
          1,
          0.8333333134651184,
          1,
          1,
          1,
          1,
          1,
          1,
          0.75,
          1,
          1,
          1,
          1,
          1,
          1,
          1,
          1,
          1,
          1,
          1,
          1,
          1,
          1,
          0.5,
          1,
          1,
          1,
          1,
          1,
          1,
          1,
          1,
          1,
          0.5,
          1,
          1,
          1,
          1,
          1,
          1,
          1,
          1,
          1,
          0,
          1,
          0.75,
          1,
          1,
          1,
          1,
          1,
          0.6000000238418579,
          1,
          1,
          1,
          1,
          1,
          1,
          1,
          1,
          1,
          1,
          1,
          1,
          0.5,
          0.800000011920929,
          0.800000011920929,
          0.800000011920929,
          1,
          1,
          1,
          1,
          1,
          0.800000011920929,
          1,
          1,
          1,
          1,
          1,
          1,
          1,
          1,
          1,
          1,
          1,
          1,
          1,
          1,
          1,
          1,
          1,
          0.3999999761581421,
          1,
          1,
          1,
          1,
          0.800000011920929,
          1,
          1,
          0.75,
          1,
          1,
          1,
          1,
          1,
          1,
          1,
          1,
          1,
          1,
          0.75,
          0.5,
          1,
          1,
          0.75,
          1,
          1,
          0.75,
          0.800000011920929,
          0.75,
          0.6000000238418579,
          0.5,
          1,
          0.800000011920929,
          1,
          1,
          1,
          1,
          1,
          1,
          1,
          0.75,
          0.75,
          1,
          0.5,
          1,
          0.800000011920929,
          0.75,
          1,
          1,
          0.800000011920929,
          1,
          0.75,
          1,
          0.8333333134651184,
          1,
          1,
          1,
          1,
          0.6000000238418579,
          0.75,
          0.25,
          0.6000000238418579,
          0,
          1,
          1,
          1,
          0.6666666269302368,
          1,
          0.5,
          1,
          1,
          1,
          1,
          1,
          1,
          0.5,
          0.75,
          1,
          1,
          1,
          0.8333333134651184,
          1,
          1,
          1,
          1,
          1,
          1,
          1,
          1,
          0.75,
          0.75,
          1,
          1,
          1,
          1,
          1,
          1,
          1,
          1,
          1,
          1,
          1,
          1,
          0.75,
          1,
          1,
          1,
          1,
          1,
          1,
          0.8571428656578064,
          0.800000011920929,
          1,
          1,
          0.5,
          0.75,
          1,
          1,
          1,
          1,
          0.25,
          0.800000011920929,
          1,
          1,
          1,
          1,
          0.6000000238418579,
          1,
          1,
          1,
          1,
          0.25,
          1,
          0.800000011920929,
          1,
          1,
          1,
          0.6000000238418579,
          0.3999999761581421,
          1,
          1,
          1,
          1,
          1,
          1,
          1,
          0.8333333134651184,
          1,
          1,
          1,
          0.75,
          1,
          1,
          0.6000000238418579,
          1,
          1,
          1,
          0.5,
          1,
          1,
          1,
          1,
          1,
          1,
          1,
          1,
          1,
          0.75,
          1,
          0.75,
          1,
          1,
          1,
          1,
          1,
          1,
          1,
          1,
          1,
          1,
          1,
          0.800000011920929,
          1,
          1,
          1,
          1,
          1,
          1,
          1,
          0.6000000238418579,
          1,
          1,
          0.800000011920929,
          1,
          1,
          1,
          0.800000011920929,
          1,
          1,
          1,
          1,
          1,
          1,
          1,
          1,
          1,
          1,
          1,
          1,
          1,
          1,
          1,
          1,
          0.75,
          1,
          1,
          1,
          1,
          1,
          1,
          1,
          1,
          1,
          1,
          1,
          1,
          1,
          1,
          0.5,
          1,
          1,
          0.800000011920929,
          1,
          1,
          1,
          1,
          1,
          0.5,
          1,
          1,
          1,
          1,
          0.800000011920929,
          1,
          0.6000000238418579,
          1,
          1,
          0.75,
          0.800000011920929,
          1,
          1,
          1,
          1,
          1,
          1,
          0.75,
          1,
          1,
          1,
          1,
          1,
          1,
          0.6000000238418579,
          1,
          1,
          1,
          1,
          1,
          1,
          1,
          0.75,
          1,
          1,
          1,
          1,
          1,
          1,
          1,
          1,
          0.75,
          1,
          1,
          1,
          1,
          0.75,
          1,
          1,
          1,
          1,
          0.75,
          1,
          1,
          1,
          0.75,
          1,
          0.75,
          0.75,
          1,
          1,
          1,
          1,
          1,
          1,
          1,
          1,
          0.8333333134651184,
          1,
          1,
          1,
          1,
          0.800000011920929,
          1,
          0.5,
          1,
          1,
          0.8333333134651184,
          1,
          1,
          1,
          1,
          1,
          1,
          1,
          1,
          1,
          1,
          1,
          1,
          1,
          1,
          1,
          1,
          1,
          0.75,
          1,
          0.25,
          1,
          0.25,
          1,
          0.25,
          1,
          1,
          1,
          1,
          1,
          1,
          0.6000000238418579,
          0.19999998807907104,
          0.800000011920929,
          1,
          0.6000000238418579,
          1,
          1,
          1,
          0.8333333134651184,
          1,
          1,
          1,
          0.75,
          0.75,
          0,
          0.75,
          0.25,
          1,
          1,
          0.800000011920929,
          1,
          0,
          1,
          0.75,
          1,
          1,
          1,
          1,
          1,
          1,
          1,
          0.75,
          1,
          1,
          1,
          1,
          0.75,
          0,
          1,
          1,
          1,
          1,
          0.5,
          0.6000000238418579,
          1,
          1,
          0.75,
          1,
          1,
          1,
          1,
          0.75,
          0.75,
          1,
          1,
          0.5,
          0.75,
          1,
          0.75,
          1,
          0.75,
          1,
          1,
          0.75,
          1,
          1,
          0.5,
          1,
          1,
          1,
          1,
          1,
          1,
          1,
          1,
          0.5,
          0.7142857313156128,
          0.75,
          1,
          0.75,
          0.75,
          0.75,
          0.800000011920929,
          0.75,
          1,
          1,
          1,
          1,
          1,
          0.800000011920929,
          1,
          1,
          1,
          0.75,
          1,
          0.75,
          0.800000011920929,
          1,
          1,
          1,
          1,
          1,
          1,
          1,
          1,
          1,
          1,
          1,
          0.5,
          1,
          1,
          1,
          0.75,
          0.800000011920929,
          1,
          1,
          1,
          0.75,
          1,
          1,
          1,
          0.8333333134651184,
          1,
          1,
          1,
          1,
          1,
          1,
          1,
          1,
          0.75,
          1,
          1,
          1,
          1,
          1,
          1,
          1,
          1,
          0.75,
          1,
          0.75,
          1,
          1,
          1,
          1,
          1,
          1,
          0.6000000238418579,
          0.800000011920929,
          1,
          0.5,
          1,
          1,
          1,
          1,
          1,
          1,
          0.6000000238418579,
          1,
          1,
          1,
          0.75,
          0.75,
          1,
          1,
          1,
          0.800000011920929,
          1,
          1,
          1,
          1,
          1,
          0.800000011920929,
          1,
          1,
          1,
          1,
          1,
          0.75,
          1,
          1,
          1,
          1,
          1,
          1
         ],
         "xaxis": "x",
         "yaxis": "y"
        }
       ],
       "layout": {
        "barmode": "relative",
        "legend": {
         "title": {
          "text": "variable"
         },
         "tracegroupgap": 0
        },
        "margin": {
         "t": 60
        },
        "template": {
         "data": {
          "bar": [
           {
            "error_x": {
             "color": "#2a3f5f"
            },
            "error_y": {
             "color": "#2a3f5f"
            },
            "marker": {
             "line": {
              "color": "#E5ECF6",
              "width": 0.5
             }
            },
            "type": "bar"
           }
          ],
          "barpolar": [
           {
            "marker": {
             "line": {
              "color": "#E5ECF6",
              "width": 0.5
             }
            },
            "type": "barpolar"
           }
          ],
          "carpet": [
           {
            "aaxis": {
             "endlinecolor": "#2a3f5f",
             "gridcolor": "white",
             "linecolor": "white",
             "minorgridcolor": "white",
             "startlinecolor": "#2a3f5f"
            },
            "baxis": {
             "endlinecolor": "#2a3f5f",
             "gridcolor": "white",
             "linecolor": "white",
             "minorgridcolor": "white",
             "startlinecolor": "#2a3f5f"
            },
            "type": "carpet"
           }
          ],
          "choropleth": [
           {
            "colorbar": {
             "outlinewidth": 0,
             "ticks": ""
            },
            "type": "choropleth"
           }
          ],
          "contour": [
           {
            "colorbar": {
             "outlinewidth": 0,
             "ticks": ""
            },
            "colorscale": [
             [
              0,
              "#0d0887"
             ],
             [
              0.1111111111111111,
              "#46039f"
             ],
             [
              0.2222222222222222,
              "#7201a8"
             ],
             [
              0.3333333333333333,
              "#9c179e"
             ],
             [
              0.4444444444444444,
              "#bd3786"
             ],
             [
              0.5555555555555556,
              "#d8576b"
             ],
             [
              0.6666666666666666,
              "#ed7953"
             ],
             [
              0.7777777777777778,
              "#fb9f3a"
             ],
             [
              0.8888888888888888,
              "#fdca26"
             ],
             [
              1,
              "#f0f921"
             ]
            ],
            "type": "contour"
           }
          ],
          "contourcarpet": [
           {
            "colorbar": {
             "outlinewidth": 0,
             "ticks": ""
            },
            "type": "contourcarpet"
           }
          ],
          "heatmap": [
           {
            "colorbar": {
             "outlinewidth": 0,
             "ticks": ""
            },
            "colorscale": [
             [
              0,
              "#0d0887"
             ],
             [
              0.1111111111111111,
              "#46039f"
             ],
             [
              0.2222222222222222,
              "#7201a8"
             ],
             [
              0.3333333333333333,
              "#9c179e"
             ],
             [
              0.4444444444444444,
              "#bd3786"
             ],
             [
              0.5555555555555556,
              "#d8576b"
             ],
             [
              0.6666666666666666,
              "#ed7953"
             ],
             [
              0.7777777777777778,
              "#fb9f3a"
             ],
             [
              0.8888888888888888,
              "#fdca26"
             ],
             [
              1,
              "#f0f921"
             ]
            ],
            "type": "heatmap"
           }
          ],
          "heatmapgl": [
           {
            "colorbar": {
             "outlinewidth": 0,
             "ticks": ""
            },
            "colorscale": [
             [
              0,
              "#0d0887"
             ],
             [
              0.1111111111111111,
              "#46039f"
             ],
             [
              0.2222222222222222,
              "#7201a8"
             ],
             [
              0.3333333333333333,
              "#9c179e"
             ],
             [
              0.4444444444444444,
              "#bd3786"
             ],
             [
              0.5555555555555556,
              "#d8576b"
             ],
             [
              0.6666666666666666,
              "#ed7953"
             ],
             [
              0.7777777777777778,
              "#fb9f3a"
             ],
             [
              0.8888888888888888,
              "#fdca26"
             ],
             [
              1,
              "#f0f921"
             ]
            ],
            "type": "heatmapgl"
           }
          ],
          "histogram": [
           {
            "marker": {
             "colorbar": {
              "outlinewidth": 0,
              "ticks": ""
             }
            },
            "type": "histogram"
           }
          ],
          "histogram2d": [
           {
            "colorbar": {
             "outlinewidth": 0,
             "ticks": ""
            },
            "colorscale": [
             [
              0,
              "#0d0887"
             ],
             [
              0.1111111111111111,
              "#46039f"
             ],
             [
              0.2222222222222222,
              "#7201a8"
             ],
             [
              0.3333333333333333,
              "#9c179e"
             ],
             [
              0.4444444444444444,
              "#bd3786"
             ],
             [
              0.5555555555555556,
              "#d8576b"
             ],
             [
              0.6666666666666666,
              "#ed7953"
             ],
             [
              0.7777777777777778,
              "#fb9f3a"
             ],
             [
              0.8888888888888888,
              "#fdca26"
             ],
             [
              1,
              "#f0f921"
             ]
            ],
            "type": "histogram2d"
           }
          ],
          "histogram2dcontour": [
           {
            "colorbar": {
             "outlinewidth": 0,
             "ticks": ""
            },
            "colorscale": [
             [
              0,
              "#0d0887"
             ],
             [
              0.1111111111111111,
              "#46039f"
             ],
             [
              0.2222222222222222,
              "#7201a8"
             ],
             [
              0.3333333333333333,
              "#9c179e"
             ],
             [
              0.4444444444444444,
              "#bd3786"
             ],
             [
              0.5555555555555556,
              "#d8576b"
             ],
             [
              0.6666666666666666,
              "#ed7953"
             ],
             [
              0.7777777777777778,
              "#fb9f3a"
             ],
             [
              0.8888888888888888,
              "#fdca26"
             ],
             [
              1,
              "#f0f921"
             ]
            ],
            "type": "histogram2dcontour"
           }
          ],
          "mesh3d": [
           {
            "colorbar": {
             "outlinewidth": 0,
             "ticks": ""
            },
            "type": "mesh3d"
           }
          ],
          "parcoords": [
           {
            "line": {
             "colorbar": {
              "outlinewidth": 0,
              "ticks": ""
             }
            },
            "type": "parcoords"
           }
          ],
          "pie": [
           {
            "automargin": true,
            "type": "pie"
           }
          ],
          "scatter": [
           {
            "marker": {
             "colorbar": {
              "outlinewidth": 0,
              "ticks": ""
             }
            },
            "type": "scatter"
           }
          ],
          "scatter3d": [
           {
            "line": {
             "colorbar": {
              "outlinewidth": 0,
              "ticks": ""
             }
            },
            "marker": {
             "colorbar": {
              "outlinewidth": 0,
              "ticks": ""
             }
            },
            "type": "scatter3d"
           }
          ],
          "scattercarpet": [
           {
            "marker": {
             "colorbar": {
              "outlinewidth": 0,
              "ticks": ""
             }
            },
            "type": "scattercarpet"
           }
          ],
          "scattergeo": [
           {
            "marker": {
             "colorbar": {
              "outlinewidth": 0,
              "ticks": ""
             }
            },
            "type": "scattergeo"
           }
          ],
          "scattergl": [
           {
            "marker": {
             "colorbar": {
              "outlinewidth": 0,
              "ticks": ""
             }
            },
            "type": "scattergl"
           }
          ],
          "scattermapbox": [
           {
            "marker": {
             "colorbar": {
              "outlinewidth": 0,
              "ticks": ""
             }
            },
            "type": "scattermapbox"
           }
          ],
          "scatterpolar": [
           {
            "marker": {
             "colorbar": {
              "outlinewidth": 0,
              "ticks": ""
             }
            },
            "type": "scatterpolar"
           }
          ],
          "scatterpolargl": [
           {
            "marker": {
             "colorbar": {
              "outlinewidth": 0,
              "ticks": ""
             }
            },
            "type": "scatterpolargl"
           }
          ],
          "scatterternary": [
           {
            "marker": {
             "colorbar": {
              "outlinewidth": 0,
              "ticks": ""
             }
            },
            "type": "scatterternary"
           }
          ],
          "surface": [
           {
            "colorbar": {
             "outlinewidth": 0,
             "ticks": ""
            },
            "colorscale": [
             [
              0,
              "#0d0887"
             ],
             [
              0.1111111111111111,
              "#46039f"
             ],
             [
              0.2222222222222222,
              "#7201a8"
             ],
             [
              0.3333333333333333,
              "#9c179e"
             ],
             [
              0.4444444444444444,
              "#bd3786"
             ],
             [
              0.5555555555555556,
              "#d8576b"
             ],
             [
              0.6666666666666666,
              "#ed7953"
             ],
             [
              0.7777777777777778,
              "#fb9f3a"
             ],
             [
              0.8888888888888888,
              "#fdca26"
             ],
             [
              1,
              "#f0f921"
             ]
            ],
            "type": "surface"
           }
          ],
          "table": [
           {
            "cells": {
             "fill": {
              "color": "#EBF0F8"
             },
             "line": {
              "color": "white"
             }
            },
            "header": {
             "fill": {
              "color": "#C8D4E3"
             },
             "line": {
              "color": "white"
             }
            },
            "type": "table"
           }
          ]
         },
         "layout": {
          "annotationdefaults": {
           "arrowcolor": "#2a3f5f",
           "arrowhead": 0,
           "arrowwidth": 1
          },
          "coloraxis": {
           "colorbar": {
            "outlinewidth": 0,
            "ticks": ""
           }
          },
          "colorscale": {
           "diverging": [
            [
             0,
             "#8e0152"
            ],
            [
             0.1,
             "#c51b7d"
            ],
            [
             0.2,
             "#de77ae"
            ],
            [
             0.3,
             "#f1b6da"
            ],
            [
             0.4,
             "#fde0ef"
            ],
            [
             0.5,
             "#f7f7f7"
            ],
            [
             0.6,
             "#e6f5d0"
            ],
            [
             0.7,
             "#b8e186"
            ],
            [
             0.8,
             "#7fbc41"
            ],
            [
             0.9,
             "#4d9221"
            ],
            [
             1,
             "#276419"
            ]
           ],
           "sequential": [
            [
             0,
             "#0d0887"
            ],
            [
             0.1111111111111111,
             "#46039f"
            ],
            [
             0.2222222222222222,
             "#7201a8"
            ],
            [
             0.3333333333333333,
             "#9c179e"
            ],
            [
             0.4444444444444444,
             "#bd3786"
            ],
            [
             0.5555555555555556,
             "#d8576b"
            ],
            [
             0.6666666666666666,
             "#ed7953"
            ],
            [
             0.7777777777777778,
             "#fb9f3a"
            ],
            [
             0.8888888888888888,
             "#fdca26"
            ],
            [
             1,
             "#f0f921"
            ]
           ],
           "sequentialminus": [
            [
             0,
             "#0d0887"
            ],
            [
             0.1111111111111111,
             "#46039f"
            ],
            [
             0.2222222222222222,
             "#7201a8"
            ],
            [
             0.3333333333333333,
             "#9c179e"
            ],
            [
             0.4444444444444444,
             "#bd3786"
            ],
            [
             0.5555555555555556,
             "#d8576b"
            ],
            [
             0.6666666666666666,
             "#ed7953"
            ],
            [
             0.7777777777777778,
             "#fb9f3a"
            ],
            [
             0.8888888888888888,
             "#fdca26"
            ],
            [
             1,
             "#f0f921"
            ]
           ]
          },
          "colorway": [
           "#636efa",
           "#EF553B",
           "#00cc96",
           "#ab63fa",
           "#FFA15A",
           "#19d3f3",
           "#FF6692",
           "#B6E880",
           "#FF97FF",
           "#FECB52"
          ],
          "font": {
           "color": "#2a3f5f"
          },
          "geo": {
           "bgcolor": "white",
           "lakecolor": "white",
           "landcolor": "#E5ECF6",
           "showlakes": true,
           "showland": true,
           "subunitcolor": "white"
          },
          "hoverlabel": {
           "align": "left"
          },
          "hovermode": "closest",
          "mapbox": {
           "style": "light"
          },
          "paper_bgcolor": "white",
          "plot_bgcolor": "#E5ECF6",
          "polar": {
           "angularaxis": {
            "gridcolor": "white",
            "linecolor": "white",
            "ticks": ""
           },
           "bgcolor": "#E5ECF6",
           "radialaxis": {
            "gridcolor": "white",
            "linecolor": "white",
            "ticks": ""
           }
          },
          "scene": {
           "xaxis": {
            "backgroundcolor": "#E5ECF6",
            "gridcolor": "white",
            "gridwidth": 2,
            "linecolor": "white",
            "showbackground": true,
            "ticks": "",
            "zerolinecolor": "white"
           },
           "yaxis": {
            "backgroundcolor": "#E5ECF6",
            "gridcolor": "white",
            "gridwidth": 2,
            "linecolor": "white",
            "showbackground": true,
            "ticks": "",
            "zerolinecolor": "white"
           },
           "zaxis": {
            "backgroundcolor": "#E5ECF6",
            "gridcolor": "white",
            "gridwidth": 2,
            "linecolor": "white",
            "showbackground": true,
            "ticks": "",
            "zerolinecolor": "white"
           }
          },
          "shapedefaults": {
           "line": {
            "color": "#2a3f5f"
           }
          },
          "ternary": {
           "aaxis": {
            "gridcolor": "white",
            "linecolor": "white",
            "ticks": ""
           },
           "baxis": {
            "gridcolor": "white",
            "linecolor": "white",
            "ticks": ""
           },
           "bgcolor": "#E5ECF6",
           "caxis": {
            "gridcolor": "white",
            "linecolor": "white",
            "ticks": ""
           }
          },
          "title": {
           "x": 0.05
          },
          "xaxis": {
           "automargin": true,
           "gridcolor": "white",
           "linecolor": "white",
           "ticks": "",
           "title": {
            "standoff": 15
           },
           "zerolinecolor": "white",
           "zerolinewidth": 2
          },
          "yaxis": {
           "automargin": true,
           "gridcolor": "white",
           "linecolor": "white",
           "ticks": "",
           "title": {
            "standoff": 15
           },
           "zerolinecolor": "white",
           "zerolinewidth": 2
          }
         }
        },
        "xaxis": {
         "anchor": "y",
         "domain": [
          0,
          1
         ],
         "title": {
          "text": "value"
         }
        },
        "yaxis": {
         "anchor": "x",
         "domain": [
          0,
          1
         ],
         "title": {
          "text": "count"
         }
        }
       }
      },
      "text/html": [
       "<div>                            <div id=\"ce5156ab-4854-4913-8260-302e89c95ea5\" class=\"plotly-graph-div\" style=\"height:525px; width:100%;\"></div>            <script type=\"text/javascript\">                require([\"plotly\"], function(Plotly) {                    window.PLOTLYENV=window.PLOTLYENV || {};                                    if (document.getElementById(\"ce5156ab-4854-4913-8260-302e89c95ea5\")) {                    Plotly.newPlot(                        \"ce5156ab-4854-4913-8260-302e89c95ea5\",                        [{\"alignmentgroup\": \"True\", \"bingroup\": \"x\", \"hovertemplate\": \"variable=S_shcementfloor<br>value=%{x}<br>count=%{y}<extra></extra>\", \"legendgroup\": \"S_shcementfloor\", \"marker\": {\"color\": \"#636efa\"}, \"name\": \"S_shcementfloor\", \"offsetgroup\": \"S_shcementfloor\", \"orientation\": \"v\", \"showlegend\": true, \"type\": \"histogram\", \"x\": [0.6000000238418579, 1.0, 1.0, 0.0, 0.800000011920929, 0.25, 1.0, 1.0, 0.800000011920929, 1.0, 1.0, 1.0, 1.0, 1.0, 0.75, 0.75, 1.0, 0.25, 1.0, 0.2857142686843872, 0.4285714030265808, 0.0, 1.0, 1.0, 1.0, 1.0, 1.0, 1.0, 0.6000000238418579, 1.0, 0.6000000238418579, 1.0, 0.1666666865348816, 1.0, 1.0, 1.0, 1.0, 1.0, 1.0, 1.0, 0.75, 1.0, 1.0, 1.0, 0.800000011920929, 1.0, 1.0, 1.0, 1.0, 0.5, 0.800000011920929, 1.0, 0.25, 1.0, 1.0, 1.0, 0.0, 0.8333333134651184, 1.0, 0.800000011920929, 1.0, 0.8333333134651184, 0.6666666269302368, 1.0, 1.0, 1.0, 0.5, 1.0, 1.0, 0.800000011920929, 0.75, 0.0, 0.0, 0.800000011920929, 1.0, 1.0, 1.0, 0.0, 0.19999998807907104, 0.6666666269302368, 1.0, 1.0, 0.0, 1.0, 1.0, 1.0, 1.0, 1.0, 1.0, 1.0, 0.75, 1.0, 1.0, 1.0, 0.800000011920929, 1.0, 1.0, 1.0, 1.0, 0.75, 1.0, 1.0, 1.0, 1.0, 1.0, 1.0, 0.0, 0.6000000238418579, 1.0, 1.0, 1.0, 1.0, 0.0, 1.0, 1.0, 1.0, 1.0, 0.1428571343421936, 1.0, 0.4285714030265808, 0.8333333134651184, 1.0, 1.0, 0.3999999761581421, 0.5, 1.0, 1.0, 1.0, 1.0, 0.5, 1.0, 0.0, 1.0, 1.0, 0.75, 0.6666666269302368, 0.800000011920929, 1.0, 1.0, 1.0, 0.5, 0.0, 1.0, 1.0, 1.0, 1.0, 0.5, 1.0, 0.5, 1.0, 1.0, 1.0, 1.0, 1.0, 1.0, 0.4285714030265808, 1.0, 0.0, 1.0, 0.25, 1.0, 0.5, 0.800000011920929, 0.25, 1.0, 0.5, 1.0, 1.0, 1.0, 1.0, 1.0, 0.25, 1.0, 1.0, 0.8333333134651184, 1.0, 1.0, 0.75, 1.0, 0.800000011920929, 1.0, 0.800000011920929, 0.75, 1.0, 1.0, 0.25, 1.0, 0.25, 1.0, 1.0, 1.0, 0.0, 1.0, 0.0, 1.0, 0.0, 1.0, 0.0, 0.25, 0.3999999761581421, 1.0, 0.8333333134651184, 1.0, 1.0, 0.75, 1.0, 1.0, 0.0, 0.75, 0.75, 0.25, 0.3999999761581421, 1.0, 1.0, 0.0, 1.0, 0.0, 0.0, 1.0, 1.0, 1.0, 1.0, 0.800000011920929, 1.0, 0.0, 0.5, 0.5, 1.0, 0.8333333134651184, 0.5, 0.6000000238418579, 1.0, 0.6000000238418579, 0.0, 1.0, 1.0, 0.3999999761581421, 1.0, 1.0, 0.25, 1.0, 1.0, 0.6000000238418579, 0.19999998807907104, 1.0, 1.0, 0.75, 1.0, 1.0, 0.6000000238418579, 0.0, 1.0, 0.25, 1.0, 1.0, 0.19999998807907104, 1.0, 1.0, 1.0, 1.0, 0.8333333134651184, 1.0, 1.0, 1.0, 1.0, 1.0, 1.0, 1.0, 1.0, 1.0, 1.0, 1.0, 1.0, 1.0, 0.800000011920929, 0.8333333134651184, 1.0, 1.0, 0.75, 0.800000011920929, 0.75, 1.0, 1.0, 1.0, 0.19999998807907104, 1.0, 0.0, 1.0, 1.0, 0.6000000238418579, 1.0, 0.25, 0.19999998807907104, 0.8333333134651184, 1.0, 1.0, 0.5, 0.0, 0.0, 1.0, 0.5, 1.0, 1.0, 1.0, 1.0, 1.0, 0.0, 1.0, 0.800000011920929, 1.0, 0.800000011920929, 0.75, 1.0, 0.75, 0.75, 0.6000000238418579, 1.0, 0.800000011920929, 1.0, 0.6000000238418579, 1.0, 0.5, 1.0, 0.3999999761581421, 0.5, 0.25, 0.6000000238418579, 0.25, 1.0, 1.0, 0.5, 0.75, 1.0, 1.0, 1.0, 0.75, 0.5, 1.0, 0.75, 0.25, 0.5, 1.0, 0.25, 1.0, 0.3999999761581421, 1.0, 1.0, 0.75, 1.0, 1.0, 1.0, 0.75, 1.0, 1.0, 1.0, 0.800000011920929, 1.0, 0.0, 0.3999999761581421, 1.0, 1.0, 1.0, 1.0, 1.0, 1.0, 1.0, 0.5, 1.0, 1.0, 1.0, 0.75, 0.19999998807907104, 1.0, 1.0, 1.0, 1.0, 0.25, 0.25, 1.0, 1.0, 1.0, 0.6000000238418579, 0.25, 1.0, 0.75, 0.5, 0.0, 1.0, 0.75, 1.0, 1.0, 0.3999999761581421, 0.75, 0.0, 0.5, 0.6000000238418579, 1.0, 1.0, 0.6000000238418579, 0.75, 1.0, 1.0, 0.75, 1.0, 1.0, 1.0, 1.0, 1.0, 0.19999998807907104, 1.0, 0.19999998807907104, 1.0, 1.0, 0.800000011920929, 0.3999999761581421, 1.0, 1.0, 0.0, 1.0, 0.800000011920929, 1.0, 0.0, 1.0, 0.0, 1.0, 1.0, 1.0, 1.0, 1.0, 1.0, 1.0, 1.0, 1.0, 0.75, 0.19999998807907104, 0.800000011920929, 1.0, 1.0, 0.6666666269302368, 1.0, 1.0, 1.0, 1.0, 1.0, 1.0, 1.0, 1.0, 0.25, 1.0, 1.0, 0.75, 0.6666666269302368, 0.5, 1.0, 1.0, 1.0, 1.0, 1.0, 0.25, 1.0, 1.0, 1.0, 0.800000011920929, 0.25, 1.0, 1.0, 0.0, 1.0, 1.0, 1.0, 0.800000011920929, 0.800000011920929, 1.0, 0.0, 0.0, 0.800000011920929, 0.6000000238418579, 1.0, 0.0, 0.0, 1.0, 0.0, 0.3333333134651184, 1.0, 0.75, 0.3999999761581421, 1.0, 1.0, 0.75, 1.0, 0.6000000238418579, 0.0, 0.5, 0.19999998807907104, 0.0, 1.0, 1.0, 1.0, 1.0, 1.0, 0.0, 1.0, 0.25, 0.25, 0.5, 0.0, 0.800000011920929, 0.0, 1.0, 1.0, 0.0, 1.0, 0.3999999761581421, 0.1428571343421936, 0.6000000238418579, 0.5, 1.0, 0.0, 0.8333333134651184, 1.0, 1.0, 1.0, 0.0, 1.0, 0.3333333134651184, 0.5, 1.0, 0.25, 0.25, 0.6000000238418579, 0.75, 0.8333333134651184, 0.25, 1.0, 0.0, 0.75, 0.5, 0.7142857313156128, 0.5, 0.25, 1.0, 0.75, 0.19999998807907104, 0.0, 0.75, 0.5, 0.8333333134651184, 0.25, 0.800000011920929, 0.3999999761581421, 0.800000011920929, 0.1666666865348816, 0.800000011920929, 0.75, 1.0, 1.0, 0.0, 1.0, 0.3333333134651184, 1.0, 1.0, 0.5, 1.0, 0.19999998807907104, 1.0, 0.25, 1.0, 1.0, 0.0, 0.0, 1.0, 0.0, 0.0, 0.0, 0.25, 1.0, 0.0, 0.5, 1.0, 1.0, 0.0, 1.0, 0.5, 0.0, 0.5, 0.75, 0.25, 0.800000011920929, 0.0, 0.19999998807907104, 0.8571428656578064, 0.25, 1.0, 1.0, 0.25, 1.0, 0.3999999761581421, 1.0, 1.0, 1.0, 1.0, 0.25, 1.0, 1.0, 1.0, 0.75, 1.0, 0.0, 1.0, 1.0, 0.25, 1.0, 1.0, 1.0, 1.0, 0.0, 0.5, 0.0, 0.5, 0.75, 1.0, 0.5, 0.3999999761581421, 1.0, 1.0, 1.0, 0.0, 1.0, 0.0, 1.0, 1.0, 1.0, 1.0, 1.0, 0.75, 1.0, 1.0, 1.0, 1.0, 0.5, 0.0, 0.0, 1.0, 1.0, 0.5, 0.25, 0.1666666865348816, 0.0, 1.0, 0.800000011920929, 0.25, 0.75, 1.0, 0.19999998807907104, 0.800000011920929, 1.0, 0.19999998807907104, 1.0, 0.25, 0.3999999761581421, 0.25, 1.0, 0.0, 0.75, 0.8333333134651184, 0.5, 1.0, 0.0, 0.800000011920929, 0.25, 0.5, 0.0, 0.0, 0.25, 1.0, 0.25, 0.8333333134651184, 0.75, 0.19999998807907104, 1.0, 0.3999999761581421, 1.0, 1.0, 0.0, 1.0, 1.0, 0.6000000238418579, 0.0, 0.0, 0.19999998807907104, 1.0, 1.0, 0.75, 1.0, 1.0, 0.0, 0.75, 1.0, 1.0, 0.75, 0.19999998807907104, 1.0, 0.75, 1.0, 1.0, 0.25, 1.0, 0.75, 0.5, 1.0, 0.0, 1.0, 1.0, 1.0, 1.0, 1.0, 1.0, 1.0, 1.0, 1.0, 0.800000011920929, 1.0, 0.0, 0.5, 1.0, 0.0, 1.0, 1.0, 0.0, 1.0, 1.0, 0.75, 1.0, 1.0, 1.0, 1.0, 1.0, 1.0, 0.8333333134651184, 1.0, 0.0, 1.0, 1.0, 0.75, 1.0, 0.800000011920929, 1.0, 0.0, 1.0, 1.0, 1.0, 0.0, 1.0, 0.5, 1.0, 1.0, 1.0, 0.75, 1.0, 1.0, 0.19999998807907104, 1.0, 0.3333333134651184, 0.0, 1.0, 1.0, 1.0, 1.0, 1.0, 1.0, 1.0, 1.0, 0.25, 0.25, 1.0, 0.0, 1.0, 0.8333333134651184, 0.3999999761581421, 1.0, 0.3999999761581421, 1.0, 1.0, 0.5, 1.0, 1.0, 1.0, 0.800000011920929, 1.0, 1.0, 0.5, 1.0, 1.0, 0.3999999761581421, 0.0, 1.0, 0.800000011920929, 1.0, 0.19999998807907104, 0.6000000238418579, 1.0, 1.0, 1.0, 1.0, 0.800000011920929, 1.0, 1.0, 1.0, 0.800000011920929, 1.0, 0.0, 1.0, 1.0, 1.0, 1.0, 1.0, 0.19999998807907104, 0.5, 1.0, 0.800000011920929, 0.800000011920929, 1.0, 1.0, 0.75, 1.0, 0.800000011920929, 0.0, 1.0, 1.0, 1.0, 1.0, 1.0, 0.25, 0.8333333134651184, 1.0, 1.0, 1.0, 1.0, 0.6000000238418579, 1.0, 1.0, 0.8333333134651184, 1.0, 1.0, 1.0, 1.0, 1.0, 0.8333333134651184, 0.5, 1.0, 0.800000011920929, 0.25, 0.75, 0.800000011920929, 1.0, 0.25, 0.0, 1.0, 1.0, 1.0, 0.0, 0.0, 1.0, 1.0, 1.0, 1.0, 1.0, 0.75, 0.800000011920929, 1.0, 0.25, 1.0, 1.0, 0.0, 1.0, 0.3999999761581421, 1.0, 0.8333333134651184, 1.0, 0.19999998807907104, 1.0, 1.0, 0.800000011920929, 0.0, 0.0, 1.0, 0.6000000238418579, 0.25, 0.0, 1.0, 1.0, 1.0, 1.0, 1.0, 0.6000000238418579, 0.75, 0.6000000238418579, 1.0, 1.0, 1.0, 1.0, 0.25, 1.0, 0.6000000238418579, 0.25, 1.0, 0.3999999761581421, 0.25, 0.5, 1.0, 1.0, 1.0, 1.0, 0.25, 1.0, 1.0, 1.0, 1.0, 1.0, 1.0, 1.0, 0.5, 1.0, 0.6000000238418579, 0.5714285373687744, 1.0, 1.0, 1.0, 0.800000011920929, 1.0, 1.0, 0.25, 1.0, 0.800000011920929, 0.3999999761581421, 1.0, 1.0, 1.0, 1.0, 1.0, 1.0, 0.6000000238418579, 1.0, 1.0, 0.0, 0.6000000238418579, 0.75, 0.5, 0.6000000238418579, 0.5, 0.25, 1.0, 0.8333333134651184, 0.8333333134651184, 0.8333333134651184, 1.0, 0.800000011920929, 0.5, 0.75, 1.0, 1.0, 0.5, 0.25, 0.0, 1.0, 0.0, 1.0, 1.0, 1.0, 1.0, 1.0, 0.6000000238418579, 1.0, 1.0, 0.75, 0.19999998807907104, 1.0, 1.0, 0.75, 0.5, 1.0, 1.0, 0.800000011920929, 0.75, 0.0, 1.0, 0.5, 1.0, 0.800000011920929, 1.0, 1.0, 1.0, 0.0, 1.0, 1.0, 0.75, 0.5, 0.8571428656578064, 1.0, 0.25, 0.25, 0.800000011920929, 1.0, 0.0, 0.5, 1.0, 0.75, 1.0, 1.0, 0.3333333134651184, 0.5, 1.0, 1.0, 1.0, 0.0, 0.800000011920929, 1.0, 1.0, 1.0, 1.0, 1.0, 1.0, 0.75, 1.0, 1.0, 1.0, 1.0, 1.0, 0.8571428656578064, 1.0, 1.0, 1.0, 1.0, 1.0, 0.8571428656578064, 1.0, 1.0, 1.0, 0.75, 1.0, 1.0, 1.0, 1.0, 1.0, 1.0, 1.0, 1.0, 0.6000000238418579, 1.0, 1.0, 1.0, 1.0, 1.0, 0.75, 0.6000000238418579, 0.75, 1.0, 0.5, 1.0, 1.0, 0.800000011920929, 0.8333333134651184, 1.0, 1.0, 1.0, 1.0, 1.0, 1.0, 1.0, 1.0, 1.0, 1.0, 1.0, 1.0, 0.800000011920929, 1.0, 1.0, 1.0, 1.0, 1.0, 1.0, 1.0, 0.800000011920929, 1.0, 1.0, 1.0, 1.0, 1.0, 1.0, 1.0, 1.0, 1.0, 1.0, 1.0, 1.0, 0.6000000238418579, 1.0, 1.0, 1.0, 0.75, 1.0, 1.0, 1.0, 0.75, 1.0, 1.0, 1.0, 1.0, 1.0, 1.0, 1.0, 1.0, 1.0, 1.0, 1.0, 1.0, 1.0, 1.0, 1.0, 1.0, 1.0, 0.8333333134651184, 1.0, 1.0, 1.0, 1.0, 1.0, 1.0, 0.800000011920929, 1.0, 1.0, 1.0, 1.0, 1.0, 1.0, 0.75, 0.25, 1.0, 0.800000011920929, 0.5, 0.25, 0.25, 1.0, 0.5, 1.0, 0.5, 1.0, 1.0, 1.0, 1.0, 1.0, 0.800000011920929, 1.0, 1.0, 1.0, 1.0, 1.0, 1.0, 0.3999999761581421, 1.0, 1.0, 1.0, 1.0, 1.0, 1.0, 1.0, 1.0, 1.0, 0.25, 1.0, 1.0, 1.0, 1.0, 1.0, 1.0, 1.0, 1.0, 1.0, 1.0, 1.0, 1.0, 0.25, 1.0, 1.0, 0.75, 1.0, 1.0, 1.0, 1.0, 0.800000011920929, 1.0, 1.0, 1.0, 1.0, 0.800000011920929, 1.0, 1.0, 1.0, 0.5, 1.0, 1.0, 0.75, 1.0, 1.0, 1.0, 1.0, 0.5, 1.0, 0.75, 1.0, 1.0, 1.0, 1.0, 1.0, 1.0, 1.0, 0.75, 0.75, 1.0, 1.0, 1.0, 1.0, 1.0, 1.0, 1.0, 1.0, 0.3999999761581421, 1.0, 1.0, 1.0, 1.0, 1.0, 1.0, 1.0, 0.8333333134651184, 1.0, 1.0, 1.0, 1.0, 1.0, 1.0, 1.0, 1.0, 1.0, 1.0, 1.0, 1.0, 0.6000000238418579, 1.0, 0.5, 1.0, 1.0, 1.0, 1.0, 1.0, 1.0, 1.0, 1.0, 0.6000000238418579, 1.0, 1.0, 1.0, 1.0, 1.0, 1.0, 1.0, 1.0, 1.0, 1.0, 1.0, 1.0, 1.0, 1.0, 0.800000011920929, 1.0, 1.0, 1.0, 1.0, 1.0, 1.0, 1.0, 1.0, 1.0, 0.75, 0.8571428656578064, 1.0, 1.0, 1.0, 1.0, 1.0, 1.0, 1.0, 0.75, 1.0, 1.0, 1.0, 1.0, 1.0, 1.0, 1.0, 1.0, 1.0, 1.0, 1.0, 1.0, 1.0, 1.0, 1.0, 1.0, 1.0, 0.8333333134651184, 1.0, 1.0, 1.0, 0.6000000238418579, 1.0, 1.0, 1.0, 0.25, 1.0, 1.0, 1.0, 1.0, 1.0, 1.0, 0.6000000238418579, 1.0, 0.75, 1.0, 1.0, 1.0, 0.8333333134651184, 1.0, 1.0, 1.0, 1.0, 1.0, 1.0, 0.75, 1.0, 1.0, 1.0, 1.0, 1.0, 1.0, 1.0, 1.0, 1.0, 1.0, 1.0, 1.0, 1.0, 1.0, 0.5, 1.0, 1.0, 1.0, 1.0, 1.0, 1.0, 1.0, 1.0, 1.0, 0.5, 1.0, 1.0, 1.0, 1.0, 1.0, 1.0, 1.0, 1.0, 1.0, 0.0, 1.0, 0.75, 1.0, 1.0, 1.0, 1.0, 1.0, 0.6000000238418579, 1.0, 1.0, 1.0, 1.0, 1.0, 1.0, 1.0, 1.0, 1.0, 1.0, 1.0, 1.0, 0.5, 0.800000011920929, 0.800000011920929, 0.800000011920929, 1.0, 1.0, 1.0, 1.0, 1.0, 0.800000011920929, 1.0, 1.0, 1.0, 1.0, 1.0, 1.0, 1.0, 1.0, 1.0, 1.0, 1.0, 1.0, 1.0, 1.0, 1.0, 1.0, 1.0, 0.3999999761581421, 1.0, 1.0, 1.0, 1.0, 0.800000011920929, 1.0, 1.0, 0.75, 1.0, 1.0, 1.0, 1.0, 1.0, 1.0, 1.0, 1.0, 1.0, 1.0, 0.75, 0.5, 1.0, 1.0, 0.75, 1.0, 1.0, 0.75, 0.800000011920929, 0.75, 0.6000000238418579, 0.5, 1.0, 0.800000011920929, 1.0, 1.0, 1.0, 1.0, 1.0, 1.0, 1.0, 0.75, 0.75, 1.0, 0.5, 1.0, 0.800000011920929, 0.75, 1.0, 1.0, 0.800000011920929, 1.0, 0.75, 1.0, 0.8333333134651184, 1.0, 1.0, 1.0, 1.0, 0.6000000238418579, 0.75, 0.25, 0.6000000238418579, 0.0, 1.0, 1.0, 1.0, 0.6666666269302368, 1.0, 0.5, 1.0, 1.0, 1.0, 1.0, 1.0, 1.0, 0.5, 0.75, 1.0, 1.0, 1.0, 0.8333333134651184, 1.0, 1.0, 1.0, 1.0, 1.0, 1.0, 1.0, 1.0, 0.75, 0.75, 1.0, 1.0, 1.0, 1.0, 1.0, 1.0, 1.0, 1.0, 1.0, 1.0, 1.0, 1.0, 0.75, 1.0, 1.0, 1.0, 1.0, 1.0, 1.0, 0.8571428656578064, 0.800000011920929, 1.0, 1.0, 0.5, 0.75, 1.0, 1.0, 1.0, 1.0, 0.25, 0.800000011920929, 1.0, 1.0, 1.0, 1.0, 0.6000000238418579, 1.0, 1.0, 1.0, 1.0, 0.25, 1.0, 0.800000011920929, 1.0, 1.0, 1.0, 0.6000000238418579, 0.3999999761581421, 1.0, 1.0, 1.0, 1.0, 1.0, 1.0, 1.0, 0.8333333134651184, 1.0, 1.0, 1.0, 0.75, 1.0, 1.0, 0.6000000238418579, 1.0, 1.0, 1.0, 0.5, 1.0, 1.0, 1.0, 1.0, 1.0, 1.0, 1.0, 1.0, 1.0, 0.75, 1.0, 0.75, 1.0, 1.0, 1.0, 1.0, 1.0, 1.0, 1.0, 1.0, 1.0, 1.0, 1.0, 0.800000011920929, 1.0, 1.0, 1.0, 1.0, 1.0, 1.0, 1.0, 0.6000000238418579, 1.0, 1.0, 0.800000011920929, 1.0, 1.0, 1.0, 0.800000011920929, 1.0, 1.0, 1.0, 1.0, 1.0, 1.0, 1.0, 1.0, 1.0, 1.0, 1.0, 1.0, 1.0, 1.0, 1.0, 1.0, 0.75, 1.0, 1.0, 1.0, 1.0, 1.0, 1.0, 1.0, 1.0, 1.0, 1.0, 1.0, 1.0, 1.0, 1.0, 0.5, 1.0, 1.0, 0.800000011920929, 1.0, 1.0, 1.0, 1.0, 1.0, 0.5, 1.0, 1.0, 1.0, 1.0, 0.800000011920929, 1.0, 0.6000000238418579, 1.0, 1.0, 0.75, 0.800000011920929, 1.0, 1.0, 1.0, 1.0, 1.0, 1.0, 0.75, 1.0, 1.0, 1.0, 1.0, 1.0, 1.0, 0.6000000238418579, 1.0, 1.0, 1.0, 1.0, 1.0, 1.0, 1.0, 0.75, 1.0, 1.0, 1.0, 1.0, 1.0, 1.0, 1.0, 1.0, 0.75, 1.0, 1.0, 1.0, 1.0, 0.75, 1.0, 1.0, 1.0, 1.0, 0.75, 1.0, 1.0, 1.0, 0.75, 1.0, 0.75, 0.75, 1.0, 1.0, 1.0, 1.0, 1.0, 1.0, 1.0, 1.0, 0.8333333134651184, 1.0, 1.0, 1.0, 1.0, 0.800000011920929, 1.0, 0.5, 1.0, 1.0, 0.8333333134651184, 1.0, 1.0, 1.0, 1.0, 1.0, 1.0, 1.0, 1.0, 1.0, 1.0, 1.0, 1.0, 1.0, 1.0, 1.0, 1.0, 1.0, 0.75, 1.0, 0.25, 1.0, 0.25, 1.0, 0.25, 1.0, 1.0, 1.0, 1.0, 1.0, 1.0, 0.6000000238418579, 0.19999998807907104, 0.800000011920929, 1.0, 0.6000000238418579, 1.0, 1.0, 1.0, 0.8333333134651184, 1.0, 1.0, 1.0, 0.75, 0.75, 0.0, 0.75, 0.25, 1.0, 1.0, 0.800000011920929, 1.0, 0.0, 1.0, 0.75, 1.0, 1.0, 1.0, 1.0, 1.0, 1.0, 1.0, 0.75, 1.0, 1.0, 1.0, 1.0, 0.75, 0.0, 1.0, 1.0, 1.0, 1.0, 0.5, 0.6000000238418579, 1.0, 1.0, 0.75, 1.0, 1.0, 1.0, 1.0, 0.75, 0.75, 1.0, 1.0, 0.5, 0.75, 1.0, 0.75, 1.0, 0.75, 1.0, 1.0, 0.75, 1.0, 1.0, 0.5, 1.0, 1.0, 1.0, 1.0, 1.0, 1.0, 1.0, 1.0, 0.5, 0.7142857313156128, 0.75, 1.0, 0.75, 0.75, 0.75, 0.800000011920929, 0.75, 1.0, 1.0, 1.0, 1.0, 1.0, 0.800000011920929, 1.0, 1.0, 1.0, 0.75, 1.0, 0.75, 0.800000011920929, 1.0, 1.0, 1.0, 1.0, 1.0, 1.0, 1.0, 1.0, 1.0, 1.0, 1.0, 0.5, 1.0, 1.0, 1.0, 0.75, 0.800000011920929, 1.0, 1.0, 1.0, 0.75, 1.0, 1.0, 1.0, 0.8333333134651184, 1.0, 1.0, 1.0, 1.0, 1.0, 1.0, 1.0, 1.0, 0.75, 1.0, 1.0, 1.0, 1.0, 1.0, 1.0, 1.0, 1.0, 0.75, 1.0, 0.75, 1.0, 1.0, 1.0, 1.0, 1.0, 1.0, 0.6000000238418579, 0.800000011920929, 1.0, 0.5, 1.0, 1.0, 1.0, 1.0, 1.0, 1.0, 0.6000000238418579, 1.0, 1.0, 1.0, 0.75, 0.75, 1.0, 1.0, 1.0, 0.800000011920929, 1.0, 1.0, 1.0, 1.0, 1.0, 0.800000011920929, 1.0, 1.0, 1.0, 1.0, 1.0, 0.75, 1.0, 1.0, 1.0, 1.0, 1.0, 1.0], \"xaxis\": \"x\", \"yaxis\": \"y\"}],                        {\"barmode\": \"relative\", \"legend\": {\"title\": {\"text\": \"variable\"}, \"tracegroupgap\": 0}, \"margin\": {\"t\": 60}, \"template\": {\"data\": {\"bar\": [{\"error_x\": {\"color\": \"#2a3f5f\"}, \"error_y\": {\"color\": \"#2a3f5f\"}, \"marker\": {\"line\": {\"color\": \"#E5ECF6\", \"width\": 0.5}}, \"type\": \"bar\"}], \"barpolar\": [{\"marker\": {\"line\": {\"color\": \"#E5ECF6\", \"width\": 0.5}}, \"type\": \"barpolar\"}], \"carpet\": [{\"aaxis\": {\"endlinecolor\": \"#2a3f5f\", \"gridcolor\": \"white\", \"linecolor\": \"white\", \"minorgridcolor\": \"white\", \"startlinecolor\": \"#2a3f5f\"}, \"baxis\": {\"endlinecolor\": \"#2a3f5f\", \"gridcolor\": \"white\", \"linecolor\": \"white\", \"minorgridcolor\": \"white\", \"startlinecolor\": \"#2a3f5f\"}, \"type\": \"carpet\"}], \"choropleth\": [{\"colorbar\": {\"outlinewidth\": 0, \"ticks\": \"\"}, \"type\": \"choropleth\"}], \"contour\": [{\"colorbar\": {\"outlinewidth\": 0, \"ticks\": \"\"}, \"colorscale\": [[0.0, \"#0d0887\"], [0.1111111111111111, \"#46039f\"], [0.2222222222222222, \"#7201a8\"], [0.3333333333333333, \"#9c179e\"], [0.4444444444444444, \"#bd3786\"], [0.5555555555555556, \"#d8576b\"], [0.6666666666666666, \"#ed7953\"], [0.7777777777777778, \"#fb9f3a\"], [0.8888888888888888, \"#fdca26\"], [1.0, \"#f0f921\"]], \"type\": \"contour\"}], \"contourcarpet\": [{\"colorbar\": {\"outlinewidth\": 0, \"ticks\": \"\"}, \"type\": \"contourcarpet\"}], \"heatmap\": [{\"colorbar\": {\"outlinewidth\": 0, \"ticks\": \"\"}, \"colorscale\": [[0.0, \"#0d0887\"], [0.1111111111111111, \"#46039f\"], [0.2222222222222222, \"#7201a8\"], [0.3333333333333333, \"#9c179e\"], [0.4444444444444444, \"#bd3786\"], [0.5555555555555556, \"#d8576b\"], [0.6666666666666666, \"#ed7953\"], [0.7777777777777778, \"#fb9f3a\"], [0.8888888888888888, \"#fdca26\"], [1.0, \"#f0f921\"]], \"type\": \"heatmap\"}], \"heatmapgl\": [{\"colorbar\": {\"outlinewidth\": 0, \"ticks\": \"\"}, \"colorscale\": [[0.0, \"#0d0887\"], [0.1111111111111111, \"#46039f\"], [0.2222222222222222, \"#7201a8\"], [0.3333333333333333, \"#9c179e\"], [0.4444444444444444, \"#bd3786\"], [0.5555555555555556, \"#d8576b\"], [0.6666666666666666, \"#ed7953\"], [0.7777777777777778, \"#fb9f3a\"], [0.8888888888888888, \"#fdca26\"], [1.0, \"#f0f921\"]], \"type\": \"heatmapgl\"}], \"histogram\": [{\"marker\": {\"colorbar\": {\"outlinewidth\": 0, \"ticks\": \"\"}}, \"type\": \"histogram\"}], \"histogram2d\": [{\"colorbar\": {\"outlinewidth\": 0, \"ticks\": \"\"}, \"colorscale\": [[0.0, \"#0d0887\"], [0.1111111111111111, \"#46039f\"], [0.2222222222222222, \"#7201a8\"], [0.3333333333333333, \"#9c179e\"], [0.4444444444444444, \"#bd3786\"], [0.5555555555555556, \"#d8576b\"], [0.6666666666666666, \"#ed7953\"], [0.7777777777777778, \"#fb9f3a\"], [0.8888888888888888, \"#fdca26\"], [1.0, \"#f0f921\"]], \"type\": \"histogram2d\"}], \"histogram2dcontour\": [{\"colorbar\": {\"outlinewidth\": 0, \"ticks\": \"\"}, \"colorscale\": [[0.0, \"#0d0887\"], [0.1111111111111111, \"#46039f\"], [0.2222222222222222, \"#7201a8\"], [0.3333333333333333, \"#9c179e\"], [0.4444444444444444, \"#bd3786\"], [0.5555555555555556, \"#d8576b\"], [0.6666666666666666, \"#ed7953\"], [0.7777777777777778, \"#fb9f3a\"], [0.8888888888888888, \"#fdca26\"], [1.0, \"#f0f921\"]], \"type\": \"histogram2dcontour\"}], \"mesh3d\": [{\"colorbar\": {\"outlinewidth\": 0, \"ticks\": \"\"}, \"type\": \"mesh3d\"}], \"parcoords\": [{\"line\": {\"colorbar\": {\"outlinewidth\": 0, \"ticks\": \"\"}}, \"type\": \"parcoords\"}], \"pie\": [{\"automargin\": true, \"type\": \"pie\"}], \"scatter\": [{\"marker\": {\"colorbar\": {\"outlinewidth\": 0, \"ticks\": \"\"}}, \"type\": \"scatter\"}], \"scatter3d\": [{\"line\": {\"colorbar\": {\"outlinewidth\": 0, \"ticks\": \"\"}}, \"marker\": {\"colorbar\": {\"outlinewidth\": 0, \"ticks\": \"\"}}, \"type\": \"scatter3d\"}], \"scattercarpet\": [{\"marker\": {\"colorbar\": {\"outlinewidth\": 0, \"ticks\": \"\"}}, \"type\": \"scattercarpet\"}], \"scattergeo\": [{\"marker\": {\"colorbar\": {\"outlinewidth\": 0, \"ticks\": \"\"}}, \"type\": \"scattergeo\"}], \"scattergl\": [{\"marker\": {\"colorbar\": {\"outlinewidth\": 0, \"ticks\": \"\"}}, \"type\": \"scattergl\"}], \"scattermapbox\": [{\"marker\": {\"colorbar\": {\"outlinewidth\": 0, \"ticks\": \"\"}}, \"type\": \"scattermapbox\"}], \"scatterpolar\": [{\"marker\": {\"colorbar\": {\"outlinewidth\": 0, \"ticks\": \"\"}}, \"type\": \"scatterpolar\"}], \"scatterpolargl\": [{\"marker\": {\"colorbar\": {\"outlinewidth\": 0, \"ticks\": \"\"}}, \"type\": \"scatterpolargl\"}], \"scatterternary\": [{\"marker\": {\"colorbar\": {\"outlinewidth\": 0, \"ticks\": \"\"}}, \"type\": \"scatterternary\"}], \"surface\": [{\"colorbar\": {\"outlinewidth\": 0, \"ticks\": \"\"}, \"colorscale\": [[0.0, \"#0d0887\"], [0.1111111111111111, \"#46039f\"], [0.2222222222222222, \"#7201a8\"], [0.3333333333333333, \"#9c179e\"], [0.4444444444444444, \"#bd3786\"], [0.5555555555555556, \"#d8576b\"], [0.6666666666666666, \"#ed7953\"], [0.7777777777777778, \"#fb9f3a\"], [0.8888888888888888, \"#fdca26\"], [1.0, \"#f0f921\"]], \"type\": \"surface\"}], \"table\": [{\"cells\": {\"fill\": {\"color\": \"#EBF0F8\"}, \"line\": {\"color\": \"white\"}}, \"header\": {\"fill\": {\"color\": \"#C8D4E3\"}, \"line\": {\"color\": \"white\"}}, \"type\": \"table\"}]}, \"layout\": {\"annotationdefaults\": {\"arrowcolor\": \"#2a3f5f\", \"arrowhead\": 0, \"arrowwidth\": 1}, \"coloraxis\": {\"colorbar\": {\"outlinewidth\": 0, \"ticks\": \"\"}}, \"colorscale\": {\"diverging\": [[0, \"#8e0152\"], [0.1, \"#c51b7d\"], [0.2, \"#de77ae\"], [0.3, \"#f1b6da\"], [0.4, \"#fde0ef\"], [0.5, \"#f7f7f7\"], [0.6, \"#e6f5d0\"], [0.7, \"#b8e186\"], [0.8, \"#7fbc41\"], [0.9, \"#4d9221\"], [1, \"#276419\"]], \"sequential\": [[0.0, \"#0d0887\"], [0.1111111111111111, \"#46039f\"], [0.2222222222222222, \"#7201a8\"], [0.3333333333333333, \"#9c179e\"], [0.4444444444444444, \"#bd3786\"], [0.5555555555555556, \"#d8576b\"], [0.6666666666666666, \"#ed7953\"], [0.7777777777777778, \"#fb9f3a\"], [0.8888888888888888, \"#fdca26\"], [1.0, \"#f0f921\"]], \"sequentialminus\": [[0.0, \"#0d0887\"], [0.1111111111111111, \"#46039f\"], [0.2222222222222222, \"#7201a8\"], [0.3333333333333333, \"#9c179e\"], [0.4444444444444444, \"#bd3786\"], [0.5555555555555556, \"#d8576b\"], [0.6666666666666666, \"#ed7953\"], [0.7777777777777778, \"#fb9f3a\"], [0.8888888888888888, \"#fdca26\"], [1.0, \"#f0f921\"]]}, \"colorway\": [\"#636efa\", \"#EF553B\", \"#00cc96\", \"#ab63fa\", \"#FFA15A\", \"#19d3f3\", \"#FF6692\", \"#B6E880\", \"#FF97FF\", \"#FECB52\"], \"font\": {\"color\": \"#2a3f5f\"}, \"geo\": {\"bgcolor\": \"white\", \"lakecolor\": \"white\", \"landcolor\": \"#E5ECF6\", \"showlakes\": true, \"showland\": true, \"subunitcolor\": \"white\"}, \"hoverlabel\": {\"align\": \"left\"}, \"hovermode\": \"closest\", \"mapbox\": {\"style\": \"light\"}, \"paper_bgcolor\": \"white\", \"plot_bgcolor\": \"#E5ECF6\", \"polar\": {\"angularaxis\": {\"gridcolor\": \"white\", \"linecolor\": \"white\", \"ticks\": \"\"}, \"bgcolor\": \"#E5ECF6\", \"radialaxis\": {\"gridcolor\": \"white\", \"linecolor\": \"white\", \"ticks\": \"\"}}, \"scene\": {\"xaxis\": {\"backgroundcolor\": \"#E5ECF6\", \"gridcolor\": \"white\", \"gridwidth\": 2, \"linecolor\": \"white\", \"showbackground\": true, \"ticks\": \"\", \"zerolinecolor\": \"white\"}, \"yaxis\": {\"backgroundcolor\": \"#E5ECF6\", \"gridcolor\": \"white\", \"gridwidth\": 2, \"linecolor\": \"white\", \"showbackground\": true, \"ticks\": \"\", \"zerolinecolor\": \"white\"}, \"zaxis\": {\"backgroundcolor\": \"#E5ECF6\", \"gridcolor\": \"white\", \"gridwidth\": 2, \"linecolor\": \"white\", \"showbackground\": true, \"ticks\": \"\", \"zerolinecolor\": \"white\"}}, \"shapedefaults\": {\"line\": {\"color\": \"#2a3f5f\"}}, \"ternary\": {\"aaxis\": {\"gridcolor\": \"white\", \"linecolor\": \"white\", \"ticks\": \"\"}, \"baxis\": {\"gridcolor\": \"white\", \"linecolor\": \"white\", \"ticks\": \"\"}, \"bgcolor\": \"#E5ECF6\", \"caxis\": {\"gridcolor\": \"white\", \"linecolor\": \"white\", \"ticks\": \"\"}}, \"title\": {\"x\": 0.05}, \"xaxis\": {\"automargin\": true, \"gridcolor\": \"white\", \"linecolor\": \"white\", \"ticks\": \"\", \"title\": {\"standoff\": 15}, \"zerolinecolor\": \"white\", \"zerolinewidth\": 2}, \"yaxis\": {\"automargin\": true, \"gridcolor\": \"white\", \"linecolor\": \"white\", \"ticks\": \"\", \"title\": {\"standoff\": 15}, \"zerolinecolor\": \"white\", \"zerolinewidth\": 2}}}, \"xaxis\": {\"anchor\": \"y\", \"domain\": [0.0, 1.0], \"title\": {\"text\": \"value\"}}, \"yaxis\": {\"anchor\": \"x\", \"domain\": [0.0, 1.0], \"title\": {\"text\": \"count\"}}},                        {\"responsive\": true}                    ).then(function(){\n",
       "                            \n",
       "var gd = document.getElementById('ce5156ab-4854-4913-8260-302e89c95ea5');\n",
       "var x = new MutationObserver(function (mutations, observer) {{\n",
       "        var display = window.getComputedStyle(gd).display;\n",
       "        if (!display || display === 'none') {{\n",
       "            console.log([gd, 'removed!']);\n",
       "            Plotly.purge(gd);\n",
       "            observer.disconnect();\n",
       "        }}\n",
       "}});\n",
       "\n",
       "// Listen for the removal of the full notebook cells\n",
       "var notebookContainer = gd.closest('#notebook-container');\n",
       "if (notebookContainer) {{\n",
       "    x.observe(notebookContainer, {childList: true});\n",
       "}}\n",
       "\n",
       "// Listen for the clearing of the current output cell\n",
       "var outputEl = gd.closest('.output');\n",
       "if (outputEl) {{\n",
       "    x.observe(outputEl, {childList: true});\n",
       "}}\n",
       "\n",
       "                        })                };                });            </script>        </div>"
      ]
     },
     "metadata": {},
     "output_type": "display_data"
    }
   ],
   "source": [
    "import plotly.figure_factory as ff\n",
    "px.histogram(df_hh['S_shcementfloor'], ['S_shcementfloor'])"
   ]
  },
  {
   "cell_type": "markdown",
   "metadata": {},
   "source": [
    "## S_logsell"
   ]
  },
  {
   "cell_type": "code",
   "execution_count": 24,
   "metadata": {},
   "outputs": [
    {
     "data": {
      "application/vnd.plotly.v1+json": {
       "config": {
        "plotlyServerURL": "https://plot.ly"
       },
       "data": [
        {
         "alignmentgroup": "True",
         "bingroup": "x",
         "hovertemplate": "variable=S_logsell<br>value=%{x}<br>count=%{y}<extra></extra>",
         "legendgroup": "S_logsell",
         "marker": {
          "color": "#636efa"
         },
         "name": "S_logsell",
         "offsetgroup": "S_logsell",
         "orientation": "v",
         "showlegend": true,
         "type": "histogram",
         "x": [
          9.903487205505371,
          11.918390274047852,
          10.819778442382812,
          8.517192840576172,
          11.512925148010254,
          8.006367683410645,
          9.392662048339844,
          11.002099990844727,
          9.615805625915527,
          9.30565071105957,
          13.997832298278809,
          14.508657455444336,
          11.156250953674316,
          10.819778442382812,
          9.903487205505371,
          9.903487205505371,
          10.819778442382812,
          9.903487205505371,
          10.819778442382812,
          10.308952331542969,
          10.126630783081055,
          8.006367683410645,
          9.21034049987793,
          11.156250953674316,
          10.596634864807129,
          10.126630783081055,
          10.308952331542969,
          10.308952331542969,
          10.308952331542969,
          11.156250953674316,
          10.126630783081055,
          8.517192840576172,
          9.21034049987793,
          11.28978157043457,
          11.512925148010254,
          11.918390274047852,
          11.156250953674316,
          8.517192840576172,
          10.819778442382812,
          11.156250953674316,
          9.903487205505371,
          11.002099990844727,
          9.903487205505371,
          11.156250953674316,
          10.463103294372559,
          9.21034049987793,
          11.28978157043457,
          10.596634864807129,
          10.819778442382812,
          9.903487205505371,
          8.987196922302246,
          9.392662048339844,
          9.615805625915527,
          10.308952331542969,
          10.819778442382812,
          11.28978157043457,
          9.615805625915527,
          10.596634864807129,
          11.918390274047852,
          10.596634864807129,
          10.819778442382812,
          11.918390274047852,
          10.308952331542969,
          11.512925148010254,
          9.21034049987793,
          13.017003059387207,
          13.017003059387207,
          10.308952331542969,
          10.819778442382812,
          9.21034049987793,
          10.308952331542969,
          7.600902557373047,
          10.596634864807129,
          11.002099990844727,
          10.915088653564453,
          11.512925148010254,
          10.596634864807129,
          11.28978157043457,
          9.903487205505371,
          10.819778442382812,
          10.819778442382812,
          10.463103294372559,
          9.21034049987793,
          11.918390274047852,
          11.918390274047852,
          11.512925148010254,
          11.156250953674316,
          10.308952331542969,
          10.463103294372559,
          11.512925148010254,
          9.615805625915527,
          10.819778442382812,
          11.695246696472168,
          12.61153793334961,
          10.308952331542969,
          7.600902557373047,
          12.206072807312012,
          10.819778442382812,
          11.28978157043457,
          9.21034049987793,
          11.512925148010254,
          12.206072807312012,
          9.21034049987793,
          11.28978157043457,
          12.61153793334961,
          7.313220500946045,
          8.517192840576172,
          11.28978157043457,
          9.903487205505371,
          11.512925148010254,
          12.61153793334961,
          11.28978157043457,
          9.615805625915527,
          12.61153793334961,
          11.918390274047852,
          9.21034049987793,
          5.703782558441162,
          10.819778442382812,
          11.512925148010254,
          11.002099990844727,
          11.28978157043457,
          11.156250953674316,
          10.819778442382812,
          10.915088653564453,
          10.714417457580566,
          11.918390274047852,
          10.714417457580566,
          11.512925148010254,
          11.28978157043457,
          9.21034049987793,
          11.22524356842041,
          9.21034049987793,
          11.695246696472168,
          10.714417457580566,
          9.903487205505371,
          11.512925148010254,
          10.819778442382812,
          11.22524356842041,
          11.775289535522461,
          10.819778442382812,
          11.002099990844727,
          10.126630783081055,
          10.463103294372559,
          11.512925148010254,
          11.156250953674316,
          10.819778442382812,
          9.615805625915527,
          9.21034049987793,
          9.21034049987793,
          10.714417457580566,
          12.61153793334961,
          11.156250953674316,
          11.918390274047852,
          11.512925148010254,
          10.308952331542969,
          9.392662048339844,
          9.903487205505371,
          10.819778442382812,
          10.308952331542969,
          9.903487205505371,
          9.903487205505371,
          8.006367683410645,
          11.695246696472168,
          10.596634864807129,
          11.28978157043457,
          10.308952331542969,
          10.819778442382812,
          10.819778442382812,
          11.156250953674316,
          9.392662048339844,
          6.214608192443848,
          9.21034049987793,
          9.21034049987793,
          12.206072807312012,
          10.819778442382812,
          11.28978157043457,
          11.918390274047852,
          11.28978157043457,
          11.28978157043457,
          11.002099990844727,
          10.596634864807129,
          10.819778442382812,
          9.903487205505371,
          11.695246696472168,
          10.819778442382812,
          10.463103294372559,
          12.206072807312012,
          10.819778442382812,
          10.819778442382812,
          11.608235359191895,
          10.819778442382812,
          8.006367683410645,
          11.28978157043457,
          10.819778442382812,
          11.407565116882324,
          10.819778442382812,
          11.002099990844727,
          8.006367683410645,
          9.903487205505371,
          10.819778442382812,
          11.156250953674316,
          10.308952331542969,
          10.596634864807129,
          10.714417457580566,
          9.903487205505371,
          10.308952331542969,
          10.126630783081055,
          9.21034049987793,
          9.903487205505371,
          11.28978157043457,
          9.21034049987793,
          10.308952331542969,
          10.819778442382812,
          10.308952331542969,
          9.615805625915527,
          10.308952331542969,
          10.463103294372559,
          9.903487205505371,
          10.308952331542969,
          11.28978157043457,
          9.903487205505371,
          10.308952331542969,
          9.615805625915527,
          11.002099990844727,
          10.819778442382812,
          10.596634864807129,
          7.313220500946045,
          12.206072807312012,
          10.308952331542969,
          8.853665351867676,
          9.903487205505371,
          10.308952331542969,
          10.308952331542969,
          9.903487205505371,
          9.903487205505371,
          10.596634864807129,
          6.907755374908447,
          10.596634864807129,
          10.596634864807129,
          7.600902557373047,
          10.463103294372559,
          6.10924768447876,
          12.429216384887695,
          9.21034049987793,
          10.308952331542969,
          11.28978157043457,
          11.28978157043457,
          9.615805625915527,
          11.28978157043457,
          10.819778442382812,
          13.592367172241211,
          10.308952331542969,
          8.517192840576172,
          9.903487205505371,
          8.987196922302246,
          9.21034049987793,
          9.615805625915527,
          9.903487205505371,
          9.615805625915527,
          9.21034049987793,
          11.28978157043457,
          11.002099990844727,
          10.126630783081055,
          11.156250953674316,
          11.28978157043457,
          11.002099990844727,
          10.308952331542969,
          9.903487205505371,
          9.903487205505371,
          9.21034049987793,
          11.695246696472168,
          8.517192840576172,
          9.21034049987793,
          7.600902557373047,
          9.903487205505371,
          10.308952331542969,
          10.308952331542969,
          10.308952331542969,
          8.006367683410645,
          10.308952331542969,
          8.853665351867676,
          10.714417457580566,
          10.714417457580566,
          9.903487205505371,
          9.903487205505371,
          10.819778442382812,
          9.615805625915527,
          10.126630783081055,
          10.596634864807129,
          10.126630783081055,
          9.472704887390137,
          8.006367683410645,
          10.308952331542969,
          10.126630783081055,
          11.512925148010254,
          8.853665351867676,
          10.596634864807129,
          8.006367683410645,
          10.308952331542969,
          11.28978157043457,
          10.308952331542969,
          10.463103294372559,
          10.819778442382812,
          10.308952331542969,
          10.819778442382812,
          10.126630783081055,
          7.600902557373047,
          10.596634864807129,
          10.596634864807129,
          11.512925148010254,
          10.819778442382812,
          9.21034049987793,
          11.512925148010254,
          8.853665351867676,
          9.903487205505371,
          10.308952331542969,
          11.28978157043457,
          11.22524356842041,
          9.798127174377441,
          9.21034049987793,
          10.308952331542969,
          6.214608192443848,
          10.463103294372559,
          10.714417457580566,
          9.21034049987793,
          9.21034049987793,
          9.21034049987793,
          10.819778442382812,
          11.512925148010254,
          10.126630783081055,
          12.206072807312012,
          8.517192840576172,
          10.596634864807129,
          10.819778442382812,
          12.206072807312012,
          10.308952331542969,
          9.21034049987793,
          11.918390274047852,
          9.615805625915527,
          9.852193832397461,
          9.903487205505371,
          11.775289535522461,
          9.615805625915527,
          10.819778442382812,
          10.819778442382812,
          12.61153793334961,
          11.512925148010254,
          9.903487205505371,
          8.853665351867676,
          11.918390274047852,
          11.512925148010254,
          7.313220500946045,
          10.596634864807129,
          10.308952331542969,
          11.002099990844727,
          10.778956413269043,
          9.903487205505371,
          10.308952331542969,
          10.819778442382812,
          9.903487205505371,
          11.002099990844727,
          12.61153793334961,
          11.918390274047852,
          11.849397659301758,
          12.206072807312012,
          10.308952331542969,
          10.308952331542969,
          11.512925148010254,
          11.28978157043457,
          11.156250953674316,
          10.596634864807129,
          10.308952331542969,
          11.512925148010254,
          10.308952331542969,
          10.596634864807129,
          11.156250953674316,
          8.699514389038086,
          10.126630783081055,
          11.775289535522461,
          10.819778442382812,
          11.28978157043457,
          11.512925148010254,
          8.517192840576172,
          11.002099990844727,
          10.819778442382812,
          10.308952331542969,
          8.987196922302246,
          10.463103294372559,
          10.126630783081055,
          10.819778442382812,
          11.982929229736328,
          11.28978157043457,
          10.126630783081055,
          9.615805625915527,
          10.819778442382812,
          10.819778442382812,
          11.512925148010254,
          9.615805625915527,
          11.156250953674316,
          10.596634864807129,
          11.156250953674316,
          11.156250953674316,
          11.512925148010254,
          10.819778442382812,
          12.206072807312012,
          11.512925148010254,
          12.206072807312012,
          11.512925148010254,
          11.28978157043457,
          11.156250953674316,
          11.28978157043457,
          11.002099990844727,
          7.600902557373047,
          11.002099990844727,
          10.596634864807129,
          11.512925148010254,
          11.002099990844727,
          9.903487205505371,
          9.615805625915527,
          9.615805625915527,
          11.918390274047852,
          9.903487205505371,
          8.699514389038086,
          10.819778442382812,
          11.918390274047852,
          11.512925148010254,
          9.21034049987793,
          11.918390274047852,
          9.21034049987793,
          10.819778442382812,
          11.512925148010254,
          11.28978157043457,
          10.596634864807129,
          10.819778442382812,
          7.313220500946045,
          10.308952331542969,
          12.7656888961792,
          11.512925148010254,
          11.28978157043457,
          10.819778442382812,
          10.596634864807129,
          10.819778442382812,
          12.206072807312012,
          11.512925148010254,
          6.214608192443848,
          10.308952331542969,
          11.918390274047852,
          9.903487205505371,
          9.903487205505371,
          11.22524356842041,
          9.903487205505371,
          10.308952331542969,
          9.21034049987793,
          11.002099990844727,
          10.463103294372559,
          13.30468463897705,
          11.156250953674316,
          10.596634864807129,
          8.987196922302246,
          11.407565116882324,
          11.002099990844727,
          11.002099990844727,
          10.308952331542969,
          10.308952331542969,
          10.308952331542969,
          11.695246696472168,
          7.600902557373047,
          10.915088653564453,
          11.695246696472168,
          10.308952331542969,
          10.308952331542969,
          10.819778442382812,
          10.596634864807129,
          11.156250953674316,
          9.903487205505371,
          11.512925148010254,
          10.819778442382812,
          11.918390274047852,
          9.615805625915527,
          9.21034049987793,
          10.596634864807129,
          8.987196922302246,
          9.903487205505371,
          11.918390274047852,
          10.819778442382812,
          11.002099990844727,
          11.512925148010254,
          12.206072807312012,
          9.21034049987793,
          10.596634864807129,
          10.126630783081055,
          9.21034049987793,
          11.156250953674316,
          8.006367683410645,
          8.517192840576172,
          12.100711822509766,
          10.126630783081055,
          9.615805625915527,
          11.002099990844727,
          11.695246696472168,
          9.30565071105957,
          10.308952331542969,
          9.680343627929688,
          10.308952331542969,
          10.596634864807129,
          8.853665351867676,
          11.002099990844727,
          8.517192840576172,
          10.596634864807129,
          13.122363090515137,
          9.903487205505371,
          10.308952331542969,
          11.28978157043457,
          10.714417457580566,
          11.28978157043457,
          9.903487205505371,
          11.28978157043457,
          9.21034049987793,
          9.615805625915527,
          10.126630783081055,
          10.819778442382812,
          10.819778442382812,
          10.308952331542969,
          11.512925148010254,
          10.819778442382812,
          11.28978157043457,
          11.002099990844727,
          9.903487205505371,
          10.308952331542969,
          9.615805625915527,
          10.819778442382812,
          11.156250953674316,
          11.156250953674316,
          12.100711822509766,
          8.294049263000488,
          8.987196922302246,
          10.308952331542969,
          11.002099990844727,
          10.819778442382812,
          8.517192840576172,
          12.206072807312012,
          9.615805625915527,
          11.002099990844727,
          15.990262031555176,
          10.819778442382812,
          11.512925148010254,
          12.429216384887695,
          10.308952331542969,
          10.596634864807129,
          10.308952331542969,
          11.002099990844727,
          9.903487205505371,
          10.463103294372559,
          9.903487205505371,
          9.615805625915527,
          11.512925148010254,
          9.615805625915527,
          11.695246696472168,
          10.308952331542969,
          11.918390274047852,
          10.308952331542969,
          10.308952331542969,
          11.28978157043457,
          10.596634864807129,
          10.308952331542969,
          9.903487205505371,
          11.002099990844727,
          11.918390274047852,
          9.615805625915527,
          10.596634864807129,
          11.695246696472168,
          9.21034049987793,
          7.8240461349487305,
          8.853665351867676,
          9.903487205505371,
          9.903487205505371,
          9.852193832397461,
          10.308952331542969,
          11.28978157043457,
          11.156250953674316,
          9.21034049987793,
          9.798127174377441,
          10.596634864807129,
          10.819778442382812,
          8.987196922302246,
          10.126630783081055,
          9.392662048339844,
          10.463103294372559,
          9.472704887390137,
          9.903487205505371,
          12.429216384887695,
          9.798127174377441,
          10.463103294372559,
          10.308952331542969,
          8.699514389038086,
          10.308952331542969,
          11.002099990844727,
          10.596634864807129,
          11.695246696472168,
          10.596634864807129,
          11.695246696472168,
          9.903487205505371,
          9.615805625915527,
          10.308952331542969,
          10.819778442382812,
          9.21034049987793,
          9.615805625915527,
          10.308952331542969,
          10.308952331542969,
          10.308952331542969,
          6.907755374908447,
          10.463103294372559,
          9.546813011169434,
          9.903487205505371,
          10.596634864807129,
          7.600902557373047,
          9.903487205505371,
          8.987196922302246,
          10.596634864807129,
          10.819778442382812,
          10.819778442382812,
          10.463103294372559,
          11.28978157043457,
          9.903487205505371,
          10.714417457580566,
          11.918390274047852,
          9.740968704223633,
          11.512925148010254,
          8.517192840576172,
          10.043249130249023,
          10.819778442382812,
          10.126630783081055,
          11.918390274047852,
          10.819778442382812,
          9.21034049987793,
          11.002099990844727,
          10.819778442382812,
          10.596634864807129,
          10.819778442382812,
          9.615805625915527,
          10.308952331542969,
          9.903487205505371,
          10.596634864807129,
          10.596634864807129,
          11.156250953674316,
          10.596634864807129,
          11.002099990844727,
          9.615805625915527,
          9.903487205505371,
          10.596634864807129,
          8.517192840576172,
          11.156250953674316,
          10.308952331542969,
          11.512925148010254,
          10.819778442382812,
          11.22524356842041,
          9.615805625915527,
          10.308952331542969,
          10.126630783081055,
          10.819778442382812,
          9.21034049987793,
          11.512925148010254,
          10.819778442382812,
          10.819778442382812,
          10.819778442382812,
          10.126630783081055,
          10.819778442382812,
          9.21034049987793,
          9.21034049987793,
          9.903487205505371,
          9.615805625915527,
          8.006367683410645,
          9.615805625915527,
          9.903487205505371,
          10.819778442382812,
          9.903487205505371,
          11.28978157043457,
          8.517192840576172,
          9.21034049987793,
          10.308952331542969,
          9.615805625915527,
          10.308952331542969,
          11.695246696472168,
          10.308952331542969,
          10.596634864807129,
          12.61153793334961,
          10.596634864807129,
          9.903487205505371,
          7.600902557373047,
          10.819778442382812,
          10.308952331542969,
          11.002099990844727,
          10.596634864807129,
          11.918390274047852,
          11.775289535522461,
          10.714417457580566,
          11.407565116882324,
          9.798127174377441,
          11.918390274047852,
          10.308952331542969,
          11.002099990844727,
          10.126630783081055,
          9.21034049987793,
          9.903487205505371,
          9.903487205505371,
          9.903487205505371,
          9.21034049987793,
          10.308952331542969,
          10.819778442382812,
          9.903487205505371,
          8.853665351867676,
          11.918390274047852,
          10.308952331542969,
          11.512925148010254,
          11.127263069152832,
          11.512925148010254,
          12.206072807312012,
          10.596634864807129,
          11.695246696472168,
          11.407565116882324,
          15.990262031555176,
          11.695246696472168,
          10.126630783081055,
          10.308952331542969,
          10.819778442382812,
          9.21034049987793,
          11.512925148010254,
          12.043553352355957,
          10.819778442382812,
          11.156250953674316,
          9.21034049987793,
          11.695246696472168,
          10.596634864807129,
          9.903487205505371,
          10.308952331542969,
          11.695246696472168,
          11.512925148010254,
          10.596634864807129,
          12.206072807312012,
          11.002099990844727,
          11.28978157043457,
          11.156250953674316,
          10.819778442382812,
          9.903487205505371,
          11.002099990844727,
          11.156250953674316,
          10.819778442382812,
          10.308952331542969,
          11.156250953674316,
          11.512925148010254,
          11.512925148010254,
          10.308952331542969,
          10.463103294372559,
          11.002099990844727,
          11.695246696472168,
          10.714417457580566,
          11.512925148010254,
          9.21034049987793,
          11.156250953674316,
          11.695246696472168,
          15.990262031555176,
          10.308952331542969,
          10.596634864807129,
          9.615805625915527,
          9.903487205505371,
          12.61153793334961,
          11.512925148010254,
          11.512925148010254,
          11.002099990844727,
          11.002099990844727,
          11.28978157043457,
          11.512925148010254,
          10.819778442382812,
          10.126630783081055,
          11.512925148010254,
          12.429216384887695,
          9.903487205505371,
          11.695246696472168,
          9.903487205505371,
          9.903487205505371,
          11.28978157043457,
          10.126630783081055,
          9.903487205505371,
          9.903487205505371,
          10.714417457580566,
          11.512925148010254,
          10.819778442382812,
          10.819778442382812,
          11.512925148010254,
          11.982929229736328,
          9.903487205505371,
          10.714417457580566,
          11.918390274047852,
          12.206072807312012,
          9.21034049987793,
          11.695246696472168,
          11.512925148010254,
          12.429216384887695,
          11.608235359191895,
          10.596634864807129,
          10.819778442382812,
          11.849397659301758,
          11.28978157043457,
          9.903487205505371,
          10.819778442382812,
          10.308952331542969,
          11.775289535522461,
          15.990262031555176,
          11.156250953674316,
          11.512925148010254,
          9.615805625915527,
          9.903487205505371,
          10.596634864807129,
          10.308952331542969,
          10.308952331542969,
          11.156250953674316,
          9.615805625915527,
          9.903487205505371,
          10.596634864807129,
          11.28978157043457,
          11.918390274047852,
          10.308952331542969,
          11.407565116882324,
          11.002099990844727,
          11.695246696472168,
          10.819778442382812,
          9.615805625915527,
          11.156250953674316,
          10.308952331542969,
          10.714417457580566,
          10.308952331542969,
          10.819778442382812,
          9.21034049987793,
          10.819778442382812,
          12.206072807312012,
          10.463103294372559,
          10.308952331542969,
          11.002099990844727,
          9.903487205505371,
          12.206072807312012,
          9.903487205505371,
          11.156250953674316,
          9.21034049987793,
          10.819778442382812,
          11.156250953674316,
          10.596634864807129,
          10.819778442382812,
          10.203592300415039,
          11.002099990844727,
          9.903487205505371,
          10.308952331542969,
          9.21034049987793,
          9.21034049987793,
          8.517192840576172,
          9.392662048339844,
          9.21034049987793,
          10.596634864807129,
          10.308952331542969,
          8.517192840576172,
          11.002099990844727,
          8.294049263000488,
          10.308952331542969,
          9.615805625915527,
          9.952278137207031,
          11.407565116882324,
          10.308952331542969,
          11.002099990844727,
          8.517192840576172,
          10.819778442382812,
          9.903487205505371,
          8.699514389038086,
          10.126630783081055,
          9.21034049987793,
          10.819778442382812,
          11.512925148010254,
          8.517192840576172,
          11.849397659301758,
          10.308952331542969,
          10.819778442382812,
          10.596634864807129,
          10.126630783081055,
          9.615805625915527,
          11.918390274047852,
          9.903487205505371,
          10.308952331542969,
          11.002099990844727,
          9.903487205505371,
          9.615805625915527,
          10.596634864807129,
          11.918390274047852,
          8.853665351867676,
          10.126630783081055,
          11.608235359191895,
          10.308952331542969,
          8.853665351867676,
          10.819778442382812,
          9.903487205505371,
          11.156250953674316,
          10.308952331542969,
          11.512925148010254,
          9.903487205505371,
          9.903487205505371,
          8.517192840576172,
          8.853665351867676,
          9.615805625915527,
          10.819778442382812,
          11.918390274047852,
          8.006367683410645,
          12.61153793334961,
          11.28978157043457,
          10.463103294372559,
          9.21034049987793,
          9.615805625915527,
          9.903487205505371,
          9.903487205505371,
          11.22524356842041,
          9.903487205505371,
          11.350406646728516,
          8.294049263000488,
          10.819778442382812,
          8.517192840576172,
          10.819778442382812,
          10.463103294372559,
          10.308952331542969,
          9.615805625915527,
          12.100711822509766,
          8.987196922302246,
          10.819778442382812,
          10.308952331542969,
          12.429216384887695,
          11.918390274047852,
          8.006367683410645,
          10.308952331542969,
          10.463103294372559,
          9.903487205505371,
          10.596634864807129,
          11.28978157043457,
          11.002099990844727,
          12.206072807312012,
          9.21034049987793,
          12.206072807312012,
          11.28978157043457,
          10.308952331542969,
          12.100711822509766,
          15.990262031555176,
          11.002099990844727,
          10.308952331542969,
          9.21034049987793,
          9.903487205505371,
          10.308952331542969,
          9.21034049987793,
          11.28978157043457,
          8.006367683410645,
          10.596634864807129,
          9.392662048339844,
          10.308952331542969,
          12.899219512939453,
          9.21034049987793,
          11.002099990844727,
          10.308952331542969,
          10.308952331542969,
          10.308952331542969,
          8.517192840576172,
          8.517192840576172,
          9.798127174377441,
          8.853665351867676,
          11.28978157043457,
          12.899219512939453,
          12.61153793334961,
          12.206072807312012,
          11.512925148010254,
          8.987196922302246,
          11.775289535522461,
          10.596634864807129,
          9.903487205505371,
          9.615805625915527,
          9.21034049987793,
          11.512925148010254,
          8.699514389038086,
          9.615805625915527,
          10.819778442382812,
          11.512925148010254,
          11.002099990844727,
          9.615805625915527,
          10.126630783081055,
          11.407565116882324,
          10.308952331542969,
          6.907755374908447,
          10.596634864807129,
          11.28978157043457,
          11.28978157043457,
          10.308952331542969,
          8.987196922302246,
          10.596634864807129,
          11.28978157043457,
          11.982929229736328,
          9.903487205505371,
          9.615805625915527,
          10.819778442382812,
          8.294049263000488,
          10.596634864807129,
          11.002099990844727,
          9.21034049987793,
          9.21034049987793,
          9.903487205505371,
          9.392662048339844,
          10.463103294372559,
          8.517192840576172,
          11.28978157043457,
          9.615805625915527,
          8.517192840576172,
          11.156250953674316,
          8.987196922302246,
          11.002099990844727,
          6.907755374908447,
          10.463103294372559,
          8.987196922302246,
          11.918390274047852,
          11.918390274047852,
          12.206072807312012,
          11.951180458068848,
          10.819778442382812,
          9.615805625915527,
          11.512925148010254,
          10.308952331542969,
          11.28978157043457,
          11.002099990844727,
          10.308952331542969,
          10.308952331542969,
          10.819778442382812,
          9.903487205505371,
          10.308952331542969,
          9.392662048339844,
          11.002099990844727,
          9.903487205505371,
          8.517192840576172,
          11.512925148010254,
          8.006367683410645,
          10.308952331542969,
          9.903487205505371,
          10.819778442382812,
          9.903487205505371,
          11.918390274047852,
          11.28978157043457,
          11.002099990844727,
          12.429216384887695,
          11.156250953674316,
          9.903487205505371,
          12.206072807312012,
          11.002099990844727,
          11.28978157043457,
          11.407565116882324,
          11.002099990844727,
          10.126630783081055,
          10.819778442382812,
          9.903487205505371,
          10.819778442382812,
          10.308952331542969,
          10.308952331542969,
          10.308952331542969,
          9.21034049987793,
          10.463103294372559,
          10.308952331542969,
          12.206072807312012,
          9.903487205505371,
          11.156250953674316,
          10.308952331542969,
          9.21034049987793,
          11.918390274047852,
          11.502875328063965,
          11.512925148010254,
          9.798127174377441,
          10.596634864807129,
          9.615805625915527,
          10.596634864807129,
          10.308952331542969,
          9.21034049987793,
          11.28978157043457,
          11.156250953674316,
          9.21034049987793,
          9.903487205505371,
          9.903487205505371,
          10.308952331542969,
          10.308952331542969,
          8.006367683410645,
          11.512925148010254,
          11.918390274047852,
          9.615805625915527,
          11.918390274047852,
          10.819778442382812,
          10.819778442382812,
          10.308952331542969,
          10.819778442382812,
          10.308952331542969,
          13.592367172241211,
          9.903487205505371,
          11.982929229736328,
          10.308952331542969,
          11.918390274047852,
          9.903487205505371,
          11.002099990844727,
          9.615805625915527,
          13.122363090515137,
          11.156250953674316,
          12.506176948547363,
          12.206072807312012,
          10.203592300415039,
          11.775289535522461,
          10.308952331542969,
          12.206072807312012,
          9.615805625915527,
          11.512925148010254,
          11.156250953674316,
          11.28978157043457,
          10.596634864807129,
          8.517192840576172,
          10.819778442382812,
          11.512925148010254,
          10.308952331542969,
          9.21034049987793,
          10.463103294372559,
          11.156250953674316,
          11.28978157043457,
          10.819778442382812,
          10.819778442382812,
          10.308952331542969,
          11.002099990844727,
          10.463103294372559,
          10.819778442382812,
          9.21034049987793,
          10.819778442382812,
          10.819778442382812,
          10.308952331542969,
          10.819778442382812,
          12.429216384887695,
          10.126630783081055,
          8.853665351867676,
          9.615805625915527,
          10.126630783081055,
          9.392662048339844,
          8.517192840576172,
          9.615805625915527,
          11.512925148010254,
          6.907755374908447,
          10.819778442382812,
          12.206072807312012,
          12.206072807312012,
          11.407565116882324,
          10.596634864807129,
          12.206072807312012,
          10.819778442382812,
          11.512925148010254,
          10.596634864807129,
          10.819778442382812,
          11.918390274047852,
          11.156250953674316,
          11.002099990844727,
          12.206072807312012,
          11.512925148010254,
          11.512925148010254,
          11.512925148010254,
          10.308952331542969,
          10.714417457580566,
          10.714417457580566,
          9.21034049987793,
          6.907755374908447,
          9.21034049987793,
          11.512925148010254,
          6.214608192443848,
          11.512925148010254,
          10.463103294372559,
          10.308952331542969,
          9.21034049987793,
          9.798127174377441,
          8.853665351867676,
          9.615805625915527,
          11.918390274047852,
          13.122363090515137,
          9.615805625915527,
          11.156250953674316,
          9.21034049987793,
          9.21034049987793,
          11.156250953674316,
          11.918390274047852,
          8.517192840576172,
          9.21034049987793,
          11.407565116882324,
          10.126630783081055,
          9.903487205505371,
          10.308952331542969,
          10.126630783081055,
          11.512925148010254,
          10.308952331542969,
          11.512925148010254,
          10.596634864807129,
          11.695246696472168,
          11.918390274047852,
          10.819778442382812,
          9.615805625915527,
          9.903487205505371,
          11.512925148010254,
          10.714417457580566,
          9.903487205505371,
          11.22524356842041,
          10.714417457580566,
          11.156250953674316,
          9.903487205505371,
          10.596634864807129,
          10.126630783081055,
          11.28978157043457,
          10.126630783081055,
          11.156250953674316,
          11.28978157043457,
          12.429216384887695,
          9.21034049987793,
          10.819778442382812,
          10.819778442382812,
          8.517192840576172,
          11.156250953674316,
          10.308952331542969,
          12.206072807312012,
          11.512925148010254,
          11.156250953674316,
          10.308952331542969,
          10.596634864807129,
          10.819778442382812,
          10.819778442382812,
          11.512925148010254,
          9.903487205505371,
          8.853665351867676,
          10.596634864807129,
          8.517192840576172,
          10.308952331542969,
          11.512925148010254,
          10.819778442382812,
          7.600902557373047,
          11.512925148010254,
          12.429216384887695,
          6.396929740905762,
          11.002099990844727,
          12.468437194824219,
          12.206072807312012,
          12.206072807312012,
          11.156250953674316,
          12.61153793334961,
          8.517192840576172,
          11.982929229736328,
          11.512925148010254,
          10.596634864807129,
          9.615805625915527,
          9.903487205505371,
          12.043553352355957,
          9.903487205505371,
          10.308952331542969,
          11.002099990844727,
          11.512925148010254,
          11.695246696472168,
          11.512925148010254,
          11.28978157043457,
          10.819778442382812,
          12.61153793334961,
          12.254862785339355,
          9.903487205505371,
          11.512925148010254,
          10.714417457580566,
          10.308952331542969,
          10.819778442382812,
          10.819778442382812,
          10.819778442382812,
          11.002099990844727,
          9.903487205505371,
          9.615805625915527,
          7.600902557373047,
          10.126630783081055,
          9.903487205505371,
          9.615805625915527,
          12.206072807312012,
          9.903487205505371,
          10.596634864807129,
          9.615805625915527,
          10.308952331542969,
          10.819778442382812,
          8.517192840576172,
          10.308952331542969,
          12.206072807312012,
          11.918390274047852,
          11.736068725585938,
          10.819778442382812,
          9.903487205505371,
          10.819778442382812,
          11.002099990844727,
          10.596634864807129,
          8.517192840576172,
          9.903487205505371,
          10.714417457580566,
          15.990262031555176,
          10.308952331542969,
          10.596634864807129,
          9.903487205505371,
          8.517192840576172,
          9.903487205505371,
          11.156250953674316,
          11.08214282989502,
          11.918390274047852,
          11.695246696472168,
          11.512925148010254,
          11.002099990844727,
          10.819778442382812,
          8.517192840576172,
          11.695246696472168,
          10.596634864807129,
          11.28978157043457,
          10.308952331542969,
          10.126630783081055,
          11.502875328063965,
          11.28978157043457,
          10.714417457580566,
          11.156250953674316,
          10.714417457580566,
          8.987196922302246,
          9.21034049987793,
          10.819778442382812,
          9.903487205505371,
          11.156250953674316,
          10.308952331542969,
          10.819778442382812,
          8.517192840576172,
          10.308952331542969,
          10.819778442382812,
          11.695246696472168,
          12.206072807312012,
          11.512925148010254,
          11.002099990844727,
          11.002099990844727,
          8.853665351867676,
          9.615805625915527,
          9.903487205505371,
          9.21034049987793,
          10.463103294372559,
          10.308952331542969,
          9.903487205505371,
          10.596634864807129,
          8.294049263000488,
          9.472704887390137,
          11.156250953674316,
          8.517192840576172,
          9.615805625915527,
          9.21034049987793,
          8.987196922302246,
          11.002099990844727,
          11.28978157043457,
          11.002099990844727,
          10.308952331542969,
          9.21034049987793,
          9.615805625915527,
          2.995732307434082,
          9.615805625915527,
          11.512925148010254,
          10.126630783081055,
          11.918390274047852,
          9.903487205505371,
          8.987196922302246,
          12.206072807312012,
          8.987196922302246,
          9.903487205505371,
          8.294049263000488,
          10.308952331542969,
          12.61153793334961,
          11.28978157043457,
          11.512925148010254,
          10.819778442382812,
          11.002099990844727,
          10.819778442382812,
          11.156250953674316,
          9.21034049987793,
          10.463103294372559,
          10.596634864807129,
          10.308952331542969,
          9.21034049987793,
          11.156250953674316,
          12.206072807312012,
          10.596634864807129,
          11.695246696472168,
          11.28978157043457,
          9.21034049987793,
          15.990262031555176,
          11.002099990844727,
          11.512925148010254,
          10.819778442382812,
          11.512925148010254,
          10.308952331542969,
          11.28978157043457,
          10.308952331542969,
          10.308952331542969,
          10.596634864807129,
          10.819778442382812,
          10.308952331542969,
          9.903487205505371,
          11.512925148010254,
          9.903487205505371,
          10.596634864807129,
          10.819778442382812,
          11.918390274047852,
          11.28978157043457,
          11.28978157043457,
          10.308952331542969,
          8.294049263000488,
          9.903487205505371,
          11.156250953674316,
          11.156250953674316,
          10.819778442382812,
          10.126630783081055,
          10.819778442382812,
          10.819778442382812,
          11.156250953674316,
          10.308952331542969,
          11.512925148010254,
          10.819778442382812,
          11.512925148010254,
          10.596634864807129,
          10.308952331542969,
          9.615805625915527,
          10.819778442382812,
          12.206072807312012,
          9.903487205505371,
          10.308952331542969,
          9.21034049987793,
          8.517192840576172,
          11.512925148010254,
          11.512925148010254,
          10.819778442382812,
          11.512925148010254,
          10.308952331542969,
          11.512925148010254,
          10.308952331542969,
          10.308952331542969,
          11.28978157043457,
          9.903487205505371,
          11.28978157043457,
          9.903487205505371,
          10.308952331542969,
          10.308952331542969,
          10.819778442382812,
          10.308952331542969,
          9.903487205505371,
          11.002099990844727,
          12.206072807312012,
          10.308952331542969,
          10.819778442382812,
          10.308952331542969,
          11.156250953674316,
          9.903487205505371,
          11.22524356842041,
          9.903487205505371,
          11.28978157043457,
          10.819778442382812,
          11.775289535522461,
          10.714417457580566,
          11.918390274047852,
          9.21034049987793,
          11.156250953674316,
          9.903487205505371,
          9.21034049987793,
          10.596634864807129,
          10.596634864807129,
          10.463103294372559,
          9.615805625915527,
          10.463103294372559,
          10.819778442382812,
          10.308952331542969,
          10.308952331542969,
          10.308952331542969,
          8.006367683410645,
          10.596634864807129,
          10.596634864807129,
          10.126630783081055,
          10.308952331542969,
          13.017003059387207,
          11.28978157043457,
          11.28978157043457,
          8.517192840576172,
          7.8240461349487305,
          9.21034049987793,
          8.294049263000488,
          8.517192840576172,
          11.156250953674316,
          11.002099990844727,
          10.596634864807129,
          9.903487205505371,
          9.615805625915527,
          11.002099990844727,
          10.308952331542969,
          10.308952331542969,
          12.100711822509766,
          10.819778442382812,
          9.21034049987793,
          7.600902557373047,
          10.596634864807129,
          10.596634864807129,
          9.903487205505371,
          10.239959716796875,
          11.002099990844727,
          10.596634864807129,
          9.903487205505371,
          6.907755374908447,
          10.819778442382812,
          11.695246696472168,
          12.206072807312012,
          9.740968704223633,
          9.903487205505371,
          6.907755374908447,
          10.819778442382812,
          9.21034049987793,
          10.819778442382812,
          11.22524356842041,
          9.903487205505371,
          10.308952331542969,
          10.308952331542969,
          9.21034049987793,
          10.819778442382812,
          11.512925148010254,
          10.308952331542969,
          12.61153793334961,
          11.28978157043457,
          10.819778442382812,
          11.918390274047852,
          9.21034049987793,
          10.596634864807129,
          10.308952331542969,
          10.819778442382812,
          10.714417457580566,
          11.918390274047852,
          11.512925148010254,
          11.156250953674316,
          11.156250953674316,
          9.615805625915527,
          9.615805625915527,
          11.695246696472168,
          11.002099990844727,
          11.918390274047852,
          10.308952331542969,
          9.615805625915527,
          11.156250953674316,
          9.903487205505371,
          9.21034049987793,
          10.596634864807129,
          9.903487205505371,
          10.596634864807129,
          8.853665351867676,
          9.615805625915527,
          11.512925148010254,
          11.002099990844727,
          11.28978157043457,
          11.608235359191895,
          10.714417457580566,
          12.043553352355957,
          11.849397659301758,
          11.28978157043457,
          9.903487205505371,
          11.695246696472168,
          9.392662048339844,
          10.463103294372559,
          10.819778442382812,
          9.903487205505371,
          9.21034049987793,
          9.21034049987793,
          9.903487205505371,
          10.463103294372559,
          10.126630783081055,
          11.918390274047852,
          6.214608192443848,
          5.991464614868164,
          8.006367683410645,
          11.156250953674316,
          10.596634864807129,
          10.596634864807129,
          10.819778442382812,
          11.407565116882324,
          11.512925148010254,
          11.982929229736328,
          10.596634864807129,
          12.154779434204102,
          10.596634864807129,
          11.28978157043457,
          10.915088653564453,
          11.156250953674316,
          10.799575805664062,
          11.695246696472168,
          10.714417457580566,
          12.100711822509766,
          6.214608192443848,
          10.308952331542969,
          10.308952331542969,
          10.308952331542969,
          11.002099990844727,
          10.596634864807129,
          11.695246696472168,
          10.239959716796875,
          9.852193832397461,
          11.28978157043457,
          9.903487205505371,
          10.819778442382812,
          9.615805625915527,
          10.308952331542969,
          10.714417457580566,
          12.206072807312012,
          10.308952331542969,
          10.463103294372559,
          11.512925148010254,
          9.903487205505371,
          11.002099990844727,
          11.695246696472168,
          12.206072807312012,
          10.308952331542969,
          11.156250953674316,
          9.21034049987793,
          9.21034049987793,
          11.002099990844727,
          11.156250953674316,
          12.206072807312012,
          9.21034049987793,
          11.918390274047852,
          10.463103294372559,
          12.206072807312012,
          11.156250953674316,
          11.28978157043457,
          10.308952331542969,
          9.392662048339844,
          10.373491287231445,
          12.429216384887695,
          10.308952331542969,
          10.308952331542969,
          11.512925148010254,
          11.512925148010254,
          9.903487205505371,
          11.512925148010254,
          12.206072807312012,
          10.819778442382812,
          12.61153793334961,
          11.156250953674316,
          11.28978157043457,
          11.28978157043457,
          10.463103294372559,
          11.982929229736328,
          11.608235359191895,
          11.156250953674316,
          10.819778442382812,
          10.308952331542969,
          9.615805625915527,
          10.126630783081055,
          10.126630783081055,
          11.002099990844727,
          11.002099990844727,
          10.126630783081055,
          10.308952331542969,
          9.903487205505371,
          9.903487205505371,
          10.819778442382812,
          9.21034049987793,
          11.28978157043457,
          9.903487205505371,
          9.903487205505371,
          11.156250953674316,
          10.308952331542969,
          11.512925148010254,
          9.903487205505371,
          10.596634864807129,
          10.819778442382812,
          10.126630783081055,
          9.21034049987793,
          9.615805625915527,
          8.699514389038086,
          10.126630783081055,
          13.122363090515137,
          9.615805625915527,
          6.907755374908447,
          15.990262031555176,
          9.21034049987793,
          9.903487205505371,
          10.308952331542969,
          12.61153793334961,
          10.308952331542969,
          10.463103294372559,
          10.819778442382812,
          10.596634864807129,
          10.308952331542969,
          11.156250953674316,
          10.596634864807129,
          11.156250953674316,
          12.61153793334961,
          11.002099990844727,
          9.392662048339844,
          9.615805625915527,
          9.903487205505371,
          9.392662048339844,
          10.463103294372559,
          9.392662048339844,
          9.903487205505371,
          9.903487205505371,
          10.596634864807129,
          9.615805625915527,
          10.126630783081055,
          10.819778442382812,
          9.615805625915527,
          11.407565116882324,
          9.615805625915527,
          10.308952331542969,
          10.596634864807129,
          9.21034049987793,
          11.08214282989502,
          10.308952331542969,
          9.615805625915527,
          10.596634864807129,
          11.28978157043457,
          8.294049263000488,
          10.596634864807129,
          9.392662048339844,
          6.907755374908447,
          11.512925148010254,
          11.156250953674316,
          8.987196922302246,
          11.512925148010254,
          10.819778442382812,
          9.903487205505371,
          9.903487205505371,
          10.463103294372559,
          8.987196922302246,
          10.126630783081055,
          12.429216384887695,
          11.28978157043457,
          11.918390274047852,
          9.433484077453613,
          11.156250953674316,
          11.918390274047852,
          11.156250953674316,
          11.156250953674316,
          9.903487205505371,
          10.596634864807129,
          11.002099990844727,
          9.21034049987793,
          11.28978157043457,
          9.615805625915527,
          8.006367683410645,
          9.903487205505371,
          9.21034049987793,
          11.918390274047852,
          11.28978157043457,
          10.463103294372559,
          8.699514389038086,
          9.903487205505371,
          11.156250953674316,
          9.903487205505371,
          11.002099990844727,
          11.28978157043457,
          9.615805625915527,
          11.407565116882324,
          10.308952331542969,
          10.463103294372559,
          10.819778442382812,
          11.512925148010254,
          9.21034049987793,
          10.308952331542969,
          11.156250953674316,
          9.21034049987793,
          9.903487205505371,
          9.903487205505371,
          9.903487205505371,
          9.798127174377441,
          10.819778442382812,
          11.002099990844727,
          9.903487205505371,
          9.798127174377441,
          11.28978157043457,
          10.308952331542969,
          11.002099990844727,
          9.21034049987793,
          10.308952331542969,
          10.308952331542969,
          10.819778442382812,
          9.21034049987793,
          8.517192840576172,
          8.517192840576172,
          10.819778442382812,
          8.699514389038086,
          9.21034049987793,
          11.002099990844727,
          9.21034049987793,
          7.8240461349487305,
          10.819778442382812,
          10.819778442382812,
          9.903487205505371,
          10.596634864807129,
          11.512925148010254,
          9.903487205505371,
          11.002099990844727,
          9.903487205505371,
          10.819778442382812,
          10.596634864807129,
          9.21034049987793,
          10.819778442382812,
          10.126630783081055,
          11.28978157043457,
          10.308952331542969,
          10.308952331542969,
          9.615805625915527,
          8.294049263000488,
          10.463103294372559,
          9.392662048339844,
          10.463103294372559,
          9.21034049987793,
          10.596634864807129,
          10.126630783081055,
          9.21034049987793,
          9.615805625915527,
          11.28978157043457,
          11.156250953674316,
          9.903487205505371,
          10.308952331542969,
          10.308952331542969,
          10.596634864807129,
          10.308952331542969,
          10.819778442382812,
          11.918390274047852,
          9.21034049987793,
          9.903487205505371,
          10.126630783081055,
          10.308952331542969,
          10.308952331542969,
          11.156250953674316,
          11.512925148010254,
          9.615805625915527,
          11.28978157043457,
          10.819778442382812,
          9.615805625915527,
          8.853665351867676,
          10.308952331542969,
          10.596634864807129,
          10.596634864807129,
          8.92265796661377,
          9.21034049987793,
          9.615805625915527,
          11.512925148010254,
          8.006367683410645,
          11.002099990844727,
          9.903487205505371,
          11.512925148010254,
          10.308952331542969,
          10.308952331542969,
          9.21034049987793,
          10.819778442382812,
          11.512925148010254,
          9.21034049987793,
          11.28978157043457,
          9.903487205505371,
          11.512925148010254,
          10.308952331542969,
          11.28978157043457,
          11.156250953674316,
          8.517192840576172,
          11.002099990844727,
          9.21034049987793,
          9.21034049987793,
          9.21034049987793,
          10.596634864807129,
          11.28978157043457,
          10.819778442382812,
          11.002099990844727,
          9.798127174377441,
          10.596634864807129,
          11.512925148010254,
          9.798127174377441,
          9.21034049987793,
          11.918390274047852,
          11.002099990844727,
          9.903487205505371,
          9.903487205505371,
          10.596634864807129,
          10.126630783081055,
          10.596634864807129,
          9.21034049987793,
          9.21034049987793,
          10.596634864807129,
          10.308952331542969,
          9.903487205505371,
          9.21034049987793,
          10.308952331542969,
          8.517192840576172,
          10.308952331542969,
          8.987196922302246,
          10.915088653564453,
          11.156250953674316,
          11.849397659301758,
          11.002099990844727,
          11.512925148010254,
          11.350406646728516,
          11.512925148010254,
          10.308952331542969,
          10.308952331542969,
          10.308952331542969,
          9.903487205505371,
          9.21034049987793,
          11.156250953674316,
          11.28978157043457,
          11.512925148010254,
          11.512925148010254,
          10.819778442382812,
          10.596634864807129,
          9.615805625915527,
          10.126630783081055,
          11.156250953674316,
          11.002099990844727,
          10.308952331542969,
          11.512925148010254,
          11.002099990844727,
          10.819778442382812,
          11.695246696472168,
          10.819778442382812,
          11.918390274047852,
          10.596634864807129,
          10.819778442382812,
          11.407565116882324,
          11.156250953674316,
          11.156250953674316,
          11.512925148010254,
          10.819778442382812,
          11.512925148010254,
          9.903487205505371,
          10.799575805664062,
          10.819778442382812,
          6.907755374908447,
          9.903487205505371,
          10.596634864807129,
          11.918390274047852,
          10.819778442382812,
          9.21034049987793,
          10.126630783081055,
          10.596634864807129,
          10.308952331542969,
          9.21034049987793,
          11.512925148010254,
          10.819778442382812,
          10.819778442382812,
          10.308952331542969,
          11.512925148010254,
          10.596634864807129,
          12.206072807312012,
          10.308952331542969,
          10.819778442382812,
          10.463103294372559,
          9.615805625915527,
          9.21034049987793,
          11.918390274047852,
          9.903487205505371
         ],
         "xaxis": "x",
         "yaxis": "y"
        }
       ],
       "layout": {
        "barmode": "relative",
        "legend": {
         "title": {
          "text": "variable"
         },
         "tracegroupgap": 0
        },
        "margin": {
         "t": 60
        },
        "template": {
         "data": {
          "bar": [
           {
            "error_x": {
             "color": "#2a3f5f"
            },
            "error_y": {
             "color": "#2a3f5f"
            },
            "marker": {
             "line": {
              "color": "#E5ECF6",
              "width": 0.5
             }
            },
            "type": "bar"
           }
          ],
          "barpolar": [
           {
            "marker": {
             "line": {
              "color": "#E5ECF6",
              "width": 0.5
             }
            },
            "type": "barpolar"
           }
          ],
          "carpet": [
           {
            "aaxis": {
             "endlinecolor": "#2a3f5f",
             "gridcolor": "white",
             "linecolor": "white",
             "minorgridcolor": "white",
             "startlinecolor": "#2a3f5f"
            },
            "baxis": {
             "endlinecolor": "#2a3f5f",
             "gridcolor": "white",
             "linecolor": "white",
             "minorgridcolor": "white",
             "startlinecolor": "#2a3f5f"
            },
            "type": "carpet"
           }
          ],
          "choropleth": [
           {
            "colorbar": {
             "outlinewidth": 0,
             "ticks": ""
            },
            "type": "choropleth"
           }
          ],
          "contour": [
           {
            "colorbar": {
             "outlinewidth": 0,
             "ticks": ""
            },
            "colorscale": [
             [
              0,
              "#0d0887"
             ],
             [
              0.1111111111111111,
              "#46039f"
             ],
             [
              0.2222222222222222,
              "#7201a8"
             ],
             [
              0.3333333333333333,
              "#9c179e"
             ],
             [
              0.4444444444444444,
              "#bd3786"
             ],
             [
              0.5555555555555556,
              "#d8576b"
             ],
             [
              0.6666666666666666,
              "#ed7953"
             ],
             [
              0.7777777777777778,
              "#fb9f3a"
             ],
             [
              0.8888888888888888,
              "#fdca26"
             ],
             [
              1,
              "#f0f921"
             ]
            ],
            "type": "contour"
           }
          ],
          "contourcarpet": [
           {
            "colorbar": {
             "outlinewidth": 0,
             "ticks": ""
            },
            "type": "contourcarpet"
           }
          ],
          "heatmap": [
           {
            "colorbar": {
             "outlinewidth": 0,
             "ticks": ""
            },
            "colorscale": [
             [
              0,
              "#0d0887"
             ],
             [
              0.1111111111111111,
              "#46039f"
             ],
             [
              0.2222222222222222,
              "#7201a8"
             ],
             [
              0.3333333333333333,
              "#9c179e"
             ],
             [
              0.4444444444444444,
              "#bd3786"
             ],
             [
              0.5555555555555556,
              "#d8576b"
             ],
             [
              0.6666666666666666,
              "#ed7953"
             ],
             [
              0.7777777777777778,
              "#fb9f3a"
             ],
             [
              0.8888888888888888,
              "#fdca26"
             ],
             [
              1,
              "#f0f921"
             ]
            ],
            "type": "heatmap"
           }
          ],
          "heatmapgl": [
           {
            "colorbar": {
             "outlinewidth": 0,
             "ticks": ""
            },
            "colorscale": [
             [
              0,
              "#0d0887"
             ],
             [
              0.1111111111111111,
              "#46039f"
             ],
             [
              0.2222222222222222,
              "#7201a8"
             ],
             [
              0.3333333333333333,
              "#9c179e"
             ],
             [
              0.4444444444444444,
              "#bd3786"
             ],
             [
              0.5555555555555556,
              "#d8576b"
             ],
             [
              0.6666666666666666,
              "#ed7953"
             ],
             [
              0.7777777777777778,
              "#fb9f3a"
             ],
             [
              0.8888888888888888,
              "#fdca26"
             ],
             [
              1,
              "#f0f921"
             ]
            ],
            "type": "heatmapgl"
           }
          ],
          "histogram": [
           {
            "marker": {
             "colorbar": {
              "outlinewidth": 0,
              "ticks": ""
             }
            },
            "type": "histogram"
           }
          ],
          "histogram2d": [
           {
            "colorbar": {
             "outlinewidth": 0,
             "ticks": ""
            },
            "colorscale": [
             [
              0,
              "#0d0887"
             ],
             [
              0.1111111111111111,
              "#46039f"
             ],
             [
              0.2222222222222222,
              "#7201a8"
             ],
             [
              0.3333333333333333,
              "#9c179e"
             ],
             [
              0.4444444444444444,
              "#bd3786"
             ],
             [
              0.5555555555555556,
              "#d8576b"
             ],
             [
              0.6666666666666666,
              "#ed7953"
             ],
             [
              0.7777777777777778,
              "#fb9f3a"
             ],
             [
              0.8888888888888888,
              "#fdca26"
             ],
             [
              1,
              "#f0f921"
             ]
            ],
            "type": "histogram2d"
           }
          ],
          "histogram2dcontour": [
           {
            "colorbar": {
             "outlinewidth": 0,
             "ticks": ""
            },
            "colorscale": [
             [
              0,
              "#0d0887"
             ],
             [
              0.1111111111111111,
              "#46039f"
             ],
             [
              0.2222222222222222,
              "#7201a8"
             ],
             [
              0.3333333333333333,
              "#9c179e"
             ],
             [
              0.4444444444444444,
              "#bd3786"
             ],
             [
              0.5555555555555556,
              "#d8576b"
             ],
             [
              0.6666666666666666,
              "#ed7953"
             ],
             [
              0.7777777777777778,
              "#fb9f3a"
             ],
             [
              0.8888888888888888,
              "#fdca26"
             ],
             [
              1,
              "#f0f921"
             ]
            ],
            "type": "histogram2dcontour"
           }
          ],
          "mesh3d": [
           {
            "colorbar": {
             "outlinewidth": 0,
             "ticks": ""
            },
            "type": "mesh3d"
           }
          ],
          "parcoords": [
           {
            "line": {
             "colorbar": {
              "outlinewidth": 0,
              "ticks": ""
             }
            },
            "type": "parcoords"
           }
          ],
          "pie": [
           {
            "automargin": true,
            "type": "pie"
           }
          ],
          "scatter": [
           {
            "marker": {
             "colorbar": {
              "outlinewidth": 0,
              "ticks": ""
             }
            },
            "type": "scatter"
           }
          ],
          "scatter3d": [
           {
            "line": {
             "colorbar": {
              "outlinewidth": 0,
              "ticks": ""
             }
            },
            "marker": {
             "colorbar": {
              "outlinewidth": 0,
              "ticks": ""
             }
            },
            "type": "scatter3d"
           }
          ],
          "scattercarpet": [
           {
            "marker": {
             "colorbar": {
              "outlinewidth": 0,
              "ticks": ""
             }
            },
            "type": "scattercarpet"
           }
          ],
          "scattergeo": [
           {
            "marker": {
             "colorbar": {
              "outlinewidth": 0,
              "ticks": ""
             }
            },
            "type": "scattergeo"
           }
          ],
          "scattergl": [
           {
            "marker": {
             "colorbar": {
              "outlinewidth": 0,
              "ticks": ""
             }
            },
            "type": "scattergl"
           }
          ],
          "scattermapbox": [
           {
            "marker": {
             "colorbar": {
              "outlinewidth": 0,
              "ticks": ""
             }
            },
            "type": "scattermapbox"
           }
          ],
          "scatterpolar": [
           {
            "marker": {
             "colorbar": {
              "outlinewidth": 0,
              "ticks": ""
             }
            },
            "type": "scatterpolar"
           }
          ],
          "scatterpolargl": [
           {
            "marker": {
             "colorbar": {
              "outlinewidth": 0,
              "ticks": ""
             }
            },
            "type": "scatterpolargl"
           }
          ],
          "scatterternary": [
           {
            "marker": {
             "colorbar": {
              "outlinewidth": 0,
              "ticks": ""
             }
            },
            "type": "scatterternary"
           }
          ],
          "surface": [
           {
            "colorbar": {
             "outlinewidth": 0,
             "ticks": ""
            },
            "colorscale": [
             [
              0,
              "#0d0887"
             ],
             [
              0.1111111111111111,
              "#46039f"
             ],
             [
              0.2222222222222222,
              "#7201a8"
             ],
             [
              0.3333333333333333,
              "#9c179e"
             ],
             [
              0.4444444444444444,
              "#bd3786"
             ],
             [
              0.5555555555555556,
              "#d8576b"
             ],
             [
              0.6666666666666666,
              "#ed7953"
             ],
             [
              0.7777777777777778,
              "#fb9f3a"
             ],
             [
              0.8888888888888888,
              "#fdca26"
             ],
             [
              1,
              "#f0f921"
             ]
            ],
            "type": "surface"
           }
          ],
          "table": [
           {
            "cells": {
             "fill": {
              "color": "#EBF0F8"
             },
             "line": {
              "color": "white"
             }
            },
            "header": {
             "fill": {
              "color": "#C8D4E3"
             },
             "line": {
              "color": "white"
             }
            },
            "type": "table"
           }
          ]
         },
         "layout": {
          "annotationdefaults": {
           "arrowcolor": "#2a3f5f",
           "arrowhead": 0,
           "arrowwidth": 1
          },
          "coloraxis": {
           "colorbar": {
            "outlinewidth": 0,
            "ticks": ""
           }
          },
          "colorscale": {
           "diverging": [
            [
             0,
             "#8e0152"
            ],
            [
             0.1,
             "#c51b7d"
            ],
            [
             0.2,
             "#de77ae"
            ],
            [
             0.3,
             "#f1b6da"
            ],
            [
             0.4,
             "#fde0ef"
            ],
            [
             0.5,
             "#f7f7f7"
            ],
            [
             0.6,
             "#e6f5d0"
            ],
            [
             0.7,
             "#b8e186"
            ],
            [
             0.8,
             "#7fbc41"
            ],
            [
             0.9,
             "#4d9221"
            ],
            [
             1,
             "#276419"
            ]
           ],
           "sequential": [
            [
             0,
             "#0d0887"
            ],
            [
             0.1111111111111111,
             "#46039f"
            ],
            [
             0.2222222222222222,
             "#7201a8"
            ],
            [
             0.3333333333333333,
             "#9c179e"
            ],
            [
             0.4444444444444444,
             "#bd3786"
            ],
            [
             0.5555555555555556,
             "#d8576b"
            ],
            [
             0.6666666666666666,
             "#ed7953"
            ],
            [
             0.7777777777777778,
             "#fb9f3a"
            ],
            [
             0.8888888888888888,
             "#fdca26"
            ],
            [
             1,
             "#f0f921"
            ]
           ],
           "sequentialminus": [
            [
             0,
             "#0d0887"
            ],
            [
             0.1111111111111111,
             "#46039f"
            ],
            [
             0.2222222222222222,
             "#7201a8"
            ],
            [
             0.3333333333333333,
             "#9c179e"
            ],
            [
             0.4444444444444444,
             "#bd3786"
            ],
            [
             0.5555555555555556,
             "#d8576b"
            ],
            [
             0.6666666666666666,
             "#ed7953"
            ],
            [
             0.7777777777777778,
             "#fb9f3a"
            ],
            [
             0.8888888888888888,
             "#fdca26"
            ],
            [
             1,
             "#f0f921"
            ]
           ]
          },
          "colorway": [
           "#636efa",
           "#EF553B",
           "#00cc96",
           "#ab63fa",
           "#FFA15A",
           "#19d3f3",
           "#FF6692",
           "#B6E880",
           "#FF97FF",
           "#FECB52"
          ],
          "font": {
           "color": "#2a3f5f"
          },
          "geo": {
           "bgcolor": "white",
           "lakecolor": "white",
           "landcolor": "#E5ECF6",
           "showlakes": true,
           "showland": true,
           "subunitcolor": "white"
          },
          "hoverlabel": {
           "align": "left"
          },
          "hovermode": "closest",
          "mapbox": {
           "style": "light"
          },
          "paper_bgcolor": "white",
          "plot_bgcolor": "#E5ECF6",
          "polar": {
           "angularaxis": {
            "gridcolor": "white",
            "linecolor": "white",
            "ticks": ""
           },
           "bgcolor": "#E5ECF6",
           "radialaxis": {
            "gridcolor": "white",
            "linecolor": "white",
            "ticks": ""
           }
          },
          "scene": {
           "xaxis": {
            "backgroundcolor": "#E5ECF6",
            "gridcolor": "white",
            "gridwidth": 2,
            "linecolor": "white",
            "showbackground": true,
            "ticks": "",
            "zerolinecolor": "white"
           },
           "yaxis": {
            "backgroundcolor": "#E5ECF6",
            "gridcolor": "white",
            "gridwidth": 2,
            "linecolor": "white",
            "showbackground": true,
            "ticks": "",
            "zerolinecolor": "white"
           },
           "zaxis": {
            "backgroundcolor": "#E5ECF6",
            "gridcolor": "white",
            "gridwidth": 2,
            "linecolor": "white",
            "showbackground": true,
            "ticks": "",
            "zerolinecolor": "white"
           }
          },
          "shapedefaults": {
           "line": {
            "color": "#2a3f5f"
           }
          },
          "ternary": {
           "aaxis": {
            "gridcolor": "white",
            "linecolor": "white",
            "ticks": ""
           },
           "baxis": {
            "gridcolor": "white",
            "linecolor": "white",
            "ticks": ""
           },
           "bgcolor": "#E5ECF6",
           "caxis": {
            "gridcolor": "white",
            "linecolor": "white",
            "ticks": ""
           }
          },
          "title": {
           "x": 0.05
          },
          "xaxis": {
           "automargin": true,
           "gridcolor": "white",
           "linecolor": "white",
           "ticks": "",
           "title": {
            "standoff": 15
           },
           "zerolinecolor": "white",
           "zerolinewidth": 2
          },
          "yaxis": {
           "automargin": true,
           "gridcolor": "white",
           "linecolor": "white",
           "ticks": "",
           "title": {
            "standoff": 15
           },
           "zerolinecolor": "white",
           "zerolinewidth": 2
          }
         }
        },
        "xaxis": {
         "anchor": "y",
         "domain": [
          0,
          1
         ],
         "title": {
          "text": "value"
         }
        },
        "yaxis": {
         "anchor": "x",
         "domain": [
          0,
          1
         ],
         "title": {
          "text": "count"
         }
        }
       }
      },
      "text/html": [
       "<div>                            <div id=\"57a4fc2f-450e-4d01-9566-be9210f8cd4f\" class=\"plotly-graph-div\" style=\"height:525px; width:100%;\"></div>            <script type=\"text/javascript\">                require([\"plotly\"], function(Plotly) {                    window.PLOTLYENV=window.PLOTLYENV || {};                                    if (document.getElementById(\"57a4fc2f-450e-4d01-9566-be9210f8cd4f\")) {                    Plotly.newPlot(                        \"57a4fc2f-450e-4d01-9566-be9210f8cd4f\",                        [{\"alignmentgroup\": \"True\", \"bingroup\": \"x\", \"hovertemplate\": \"variable=S_logsell<br>value=%{x}<br>count=%{y}<extra></extra>\", \"legendgroup\": \"S_logsell\", \"marker\": {\"color\": \"#636efa\"}, \"name\": \"S_logsell\", \"offsetgroup\": \"S_logsell\", \"orientation\": \"v\", \"showlegend\": true, \"type\": \"histogram\", \"x\": [9.903487205505371, 11.918390274047852, 10.819778442382812, 8.517192840576172, 11.512925148010254, 8.006367683410645, 9.392662048339844, 11.002099990844727, 9.615805625915527, 9.30565071105957, 13.997832298278809, 14.508657455444336, 11.156250953674316, 10.819778442382812, 9.903487205505371, 9.903487205505371, 10.819778442382812, 9.903487205505371, 10.819778442382812, 10.308952331542969, 10.126630783081055, 8.006367683410645, 9.21034049987793, 11.156250953674316, 10.596634864807129, 10.126630783081055, 10.308952331542969, 10.308952331542969, 10.308952331542969, 11.156250953674316, 10.126630783081055, 8.517192840576172, 9.21034049987793, 11.28978157043457, 11.512925148010254, 11.918390274047852, 11.156250953674316, 8.517192840576172, 10.819778442382812, 11.156250953674316, 9.903487205505371, 11.002099990844727, 9.903487205505371, 11.156250953674316, 10.463103294372559, 9.21034049987793, 11.28978157043457, 10.596634864807129, 10.819778442382812, 9.903487205505371, 8.987196922302246, 9.392662048339844, 9.615805625915527, 10.308952331542969, 10.819778442382812, 11.28978157043457, 9.615805625915527, 10.596634864807129, 11.918390274047852, 10.596634864807129, 10.819778442382812, 11.918390274047852, 10.308952331542969, 11.512925148010254, 9.21034049987793, 13.017003059387207, 13.017003059387207, 10.308952331542969, 10.819778442382812, 9.21034049987793, 10.308952331542969, 7.600902557373047, 10.596634864807129, 11.002099990844727, 10.915088653564453, 11.512925148010254, 10.596634864807129, 11.28978157043457, 9.903487205505371, 10.819778442382812, 10.819778442382812, 10.463103294372559, 9.21034049987793, 11.918390274047852, 11.918390274047852, 11.512925148010254, 11.156250953674316, 10.308952331542969, 10.463103294372559, 11.512925148010254, 9.615805625915527, 10.819778442382812, 11.695246696472168, 12.61153793334961, 10.308952331542969, 7.600902557373047, 12.206072807312012, 10.819778442382812, 11.28978157043457, 9.21034049987793, 11.512925148010254, 12.206072807312012, 9.21034049987793, 11.28978157043457, 12.61153793334961, 7.313220500946045, 8.517192840576172, 11.28978157043457, 9.903487205505371, 11.512925148010254, 12.61153793334961, 11.28978157043457, 9.615805625915527, 12.61153793334961, 11.918390274047852, 9.21034049987793, 5.703782558441162, 10.819778442382812, 11.512925148010254, 11.002099990844727, 11.28978157043457, 11.156250953674316, 10.819778442382812, 10.915088653564453, 10.714417457580566, 11.918390274047852, 10.714417457580566, 11.512925148010254, 11.28978157043457, 9.21034049987793, 11.22524356842041, 9.21034049987793, 11.695246696472168, 10.714417457580566, 9.903487205505371, 11.512925148010254, 10.819778442382812, 11.22524356842041, 11.775289535522461, 10.819778442382812, 11.002099990844727, 10.126630783081055, 10.463103294372559, 11.512925148010254, 11.156250953674316, 10.819778442382812, 9.615805625915527, 9.21034049987793, 9.21034049987793, 10.714417457580566, 12.61153793334961, 11.156250953674316, 11.918390274047852, 11.512925148010254, 10.308952331542969, 9.392662048339844, 9.903487205505371, 10.819778442382812, 10.308952331542969, 9.903487205505371, 9.903487205505371, 8.006367683410645, 11.695246696472168, 10.596634864807129, 11.28978157043457, 10.308952331542969, 10.819778442382812, 10.819778442382812, 11.156250953674316, 9.392662048339844, 6.214608192443848, 9.21034049987793, 9.21034049987793, 12.206072807312012, 10.819778442382812, 11.28978157043457, 11.918390274047852, 11.28978157043457, 11.28978157043457, 11.002099990844727, 10.596634864807129, 10.819778442382812, 9.903487205505371, 11.695246696472168, 10.819778442382812, 10.463103294372559, 12.206072807312012, 10.819778442382812, 10.819778442382812, 11.608235359191895, 10.819778442382812, 8.006367683410645, 11.28978157043457, 10.819778442382812, 11.407565116882324, 10.819778442382812, 11.002099990844727, 8.006367683410645, 9.903487205505371, 10.819778442382812, 11.156250953674316, 10.308952331542969, 10.596634864807129, 10.714417457580566, 9.903487205505371, 10.308952331542969, 10.126630783081055, 9.21034049987793, 9.903487205505371, 11.28978157043457, 9.21034049987793, 10.308952331542969, 10.819778442382812, 10.308952331542969, 9.615805625915527, 10.308952331542969, 10.463103294372559, 9.903487205505371, 10.308952331542969, 11.28978157043457, 9.903487205505371, 10.308952331542969, 9.615805625915527, 11.002099990844727, 10.819778442382812, 10.596634864807129, 7.313220500946045, 12.206072807312012, 10.308952331542969, 8.853665351867676, 9.903487205505371, 10.308952331542969, 10.308952331542969, 9.903487205505371, 9.903487205505371, 10.596634864807129, 6.907755374908447, 10.596634864807129, 10.596634864807129, 7.600902557373047, 10.463103294372559, 6.10924768447876, 12.429216384887695, 9.21034049987793, 10.308952331542969, 11.28978157043457, 11.28978157043457, 9.615805625915527, 11.28978157043457, 10.819778442382812, 13.592367172241211, 10.308952331542969, 8.517192840576172, 9.903487205505371, 8.987196922302246, 9.21034049987793, 9.615805625915527, 9.903487205505371, 9.615805625915527, 9.21034049987793, 11.28978157043457, 11.002099990844727, 10.126630783081055, 11.156250953674316, 11.28978157043457, 11.002099990844727, 10.308952331542969, 9.903487205505371, 9.903487205505371, 9.21034049987793, 11.695246696472168, 8.517192840576172, 9.21034049987793, 7.600902557373047, 9.903487205505371, 10.308952331542969, 10.308952331542969, 10.308952331542969, 8.006367683410645, 10.308952331542969, 8.853665351867676, 10.714417457580566, 10.714417457580566, 9.903487205505371, 9.903487205505371, 10.819778442382812, 9.615805625915527, 10.126630783081055, 10.596634864807129, 10.126630783081055, 9.472704887390137, 8.006367683410645, 10.308952331542969, 10.126630783081055, 11.512925148010254, 8.853665351867676, 10.596634864807129, 8.006367683410645, 10.308952331542969, 11.28978157043457, 10.308952331542969, 10.463103294372559, 10.819778442382812, 10.308952331542969, 10.819778442382812, 10.126630783081055, 7.600902557373047, 10.596634864807129, 10.596634864807129, 11.512925148010254, 10.819778442382812, 9.21034049987793, 11.512925148010254, 8.853665351867676, 9.903487205505371, 10.308952331542969, 11.28978157043457, 11.22524356842041, 9.798127174377441, 9.21034049987793, 10.308952331542969, 6.214608192443848, 10.463103294372559, 10.714417457580566, 9.21034049987793, 9.21034049987793, 9.21034049987793, 10.819778442382812, 11.512925148010254, 10.126630783081055, 12.206072807312012, 8.517192840576172, 10.596634864807129, 10.819778442382812, 12.206072807312012, 10.308952331542969, 9.21034049987793, 11.918390274047852, 9.615805625915527, 9.852193832397461, 9.903487205505371, 11.775289535522461, 9.615805625915527, 10.819778442382812, 10.819778442382812, 12.61153793334961, 11.512925148010254, 9.903487205505371, 8.853665351867676, 11.918390274047852, 11.512925148010254, 7.313220500946045, 10.596634864807129, 10.308952331542969, 11.002099990844727, 10.778956413269043, 9.903487205505371, 10.308952331542969, 10.819778442382812, 9.903487205505371, 11.002099990844727, 12.61153793334961, 11.918390274047852, 11.849397659301758, 12.206072807312012, 10.308952331542969, 10.308952331542969, 11.512925148010254, 11.28978157043457, 11.156250953674316, 10.596634864807129, 10.308952331542969, 11.512925148010254, 10.308952331542969, 10.596634864807129, 11.156250953674316, 8.699514389038086, 10.126630783081055, 11.775289535522461, 10.819778442382812, 11.28978157043457, 11.512925148010254, 8.517192840576172, 11.002099990844727, 10.819778442382812, 10.308952331542969, 8.987196922302246, 10.463103294372559, 10.126630783081055, 10.819778442382812, 11.982929229736328, 11.28978157043457, 10.126630783081055, 9.615805625915527, 10.819778442382812, 10.819778442382812, 11.512925148010254, 9.615805625915527, 11.156250953674316, 10.596634864807129, 11.156250953674316, 11.156250953674316, 11.512925148010254, 10.819778442382812, 12.206072807312012, 11.512925148010254, 12.206072807312012, 11.512925148010254, 11.28978157043457, 11.156250953674316, 11.28978157043457, 11.002099990844727, 7.600902557373047, 11.002099990844727, 10.596634864807129, 11.512925148010254, 11.002099990844727, 9.903487205505371, 9.615805625915527, 9.615805625915527, 11.918390274047852, 9.903487205505371, 8.699514389038086, 10.819778442382812, 11.918390274047852, 11.512925148010254, 9.21034049987793, 11.918390274047852, 9.21034049987793, 10.819778442382812, 11.512925148010254, 11.28978157043457, 10.596634864807129, 10.819778442382812, 7.313220500946045, 10.308952331542969, 12.7656888961792, 11.512925148010254, 11.28978157043457, 10.819778442382812, 10.596634864807129, 10.819778442382812, 12.206072807312012, 11.512925148010254, 6.214608192443848, 10.308952331542969, 11.918390274047852, 9.903487205505371, 9.903487205505371, 11.22524356842041, 9.903487205505371, 10.308952331542969, 9.21034049987793, 11.002099990844727, 10.463103294372559, 13.30468463897705, 11.156250953674316, 10.596634864807129, 8.987196922302246, 11.407565116882324, 11.002099990844727, 11.002099990844727, 10.308952331542969, 10.308952331542969, 10.308952331542969, 11.695246696472168, 7.600902557373047, 10.915088653564453, 11.695246696472168, 10.308952331542969, 10.308952331542969, 10.819778442382812, 10.596634864807129, 11.156250953674316, 9.903487205505371, 11.512925148010254, 10.819778442382812, 11.918390274047852, 9.615805625915527, 9.21034049987793, 10.596634864807129, 8.987196922302246, 9.903487205505371, 11.918390274047852, 10.819778442382812, 11.002099990844727, 11.512925148010254, 12.206072807312012, 9.21034049987793, 10.596634864807129, 10.126630783081055, 9.21034049987793, 11.156250953674316, 8.006367683410645, 8.517192840576172, 12.100711822509766, 10.126630783081055, 9.615805625915527, 11.002099990844727, 11.695246696472168, 9.30565071105957, 10.308952331542969, 9.680343627929688, 10.308952331542969, 10.596634864807129, 8.853665351867676, 11.002099990844727, 8.517192840576172, 10.596634864807129, 13.122363090515137, 9.903487205505371, 10.308952331542969, 11.28978157043457, 10.714417457580566, 11.28978157043457, 9.903487205505371, 11.28978157043457, 9.21034049987793, 9.615805625915527, 10.126630783081055, 10.819778442382812, 10.819778442382812, 10.308952331542969, 11.512925148010254, 10.819778442382812, 11.28978157043457, 11.002099990844727, 9.903487205505371, 10.308952331542969, 9.615805625915527, 10.819778442382812, 11.156250953674316, 11.156250953674316, 12.100711822509766, 8.294049263000488, 8.987196922302246, 10.308952331542969, 11.002099990844727, 10.819778442382812, 8.517192840576172, 12.206072807312012, 9.615805625915527, 11.002099990844727, 15.990262031555176, 10.819778442382812, 11.512925148010254, 12.429216384887695, 10.308952331542969, 10.596634864807129, 10.308952331542969, 11.002099990844727, 9.903487205505371, 10.463103294372559, 9.903487205505371, 9.615805625915527, 11.512925148010254, 9.615805625915527, 11.695246696472168, 10.308952331542969, 11.918390274047852, 10.308952331542969, 10.308952331542969, 11.28978157043457, 10.596634864807129, 10.308952331542969, 9.903487205505371, 11.002099990844727, 11.918390274047852, 9.615805625915527, 10.596634864807129, 11.695246696472168, 9.21034049987793, 7.8240461349487305, 8.853665351867676, 9.903487205505371, 9.903487205505371, 9.852193832397461, 10.308952331542969, 11.28978157043457, 11.156250953674316, 9.21034049987793, 9.798127174377441, 10.596634864807129, 10.819778442382812, 8.987196922302246, 10.126630783081055, 9.392662048339844, 10.463103294372559, 9.472704887390137, 9.903487205505371, 12.429216384887695, 9.798127174377441, 10.463103294372559, 10.308952331542969, 8.699514389038086, 10.308952331542969, 11.002099990844727, 10.596634864807129, 11.695246696472168, 10.596634864807129, 11.695246696472168, 9.903487205505371, 9.615805625915527, 10.308952331542969, 10.819778442382812, 9.21034049987793, 9.615805625915527, 10.308952331542969, 10.308952331542969, 10.308952331542969, 6.907755374908447, 10.463103294372559, 9.546813011169434, 9.903487205505371, 10.596634864807129, 7.600902557373047, 9.903487205505371, 8.987196922302246, 10.596634864807129, 10.819778442382812, 10.819778442382812, 10.463103294372559, 11.28978157043457, 9.903487205505371, 10.714417457580566, 11.918390274047852, 9.740968704223633, 11.512925148010254, 8.517192840576172, 10.043249130249023, 10.819778442382812, 10.126630783081055, 11.918390274047852, 10.819778442382812, 9.21034049987793, 11.002099990844727, 10.819778442382812, 10.596634864807129, 10.819778442382812, 9.615805625915527, 10.308952331542969, 9.903487205505371, 10.596634864807129, 10.596634864807129, 11.156250953674316, 10.596634864807129, 11.002099990844727, 9.615805625915527, 9.903487205505371, 10.596634864807129, 8.517192840576172, 11.156250953674316, 10.308952331542969, 11.512925148010254, 10.819778442382812, 11.22524356842041, 9.615805625915527, 10.308952331542969, 10.126630783081055, 10.819778442382812, 9.21034049987793, 11.512925148010254, 10.819778442382812, 10.819778442382812, 10.819778442382812, 10.126630783081055, 10.819778442382812, 9.21034049987793, 9.21034049987793, 9.903487205505371, 9.615805625915527, 8.006367683410645, 9.615805625915527, 9.903487205505371, 10.819778442382812, 9.903487205505371, 11.28978157043457, 8.517192840576172, 9.21034049987793, 10.308952331542969, 9.615805625915527, 10.308952331542969, 11.695246696472168, 10.308952331542969, 10.596634864807129, 12.61153793334961, 10.596634864807129, 9.903487205505371, 7.600902557373047, 10.819778442382812, 10.308952331542969, 11.002099990844727, 10.596634864807129, 11.918390274047852, 11.775289535522461, 10.714417457580566, 11.407565116882324, 9.798127174377441, 11.918390274047852, 10.308952331542969, 11.002099990844727, 10.126630783081055, 9.21034049987793, 9.903487205505371, 9.903487205505371, 9.903487205505371, 9.21034049987793, 10.308952331542969, 10.819778442382812, 9.903487205505371, 8.853665351867676, 11.918390274047852, 10.308952331542969, 11.512925148010254, 11.127263069152832, 11.512925148010254, 12.206072807312012, 10.596634864807129, 11.695246696472168, 11.407565116882324, 15.990262031555176, 11.695246696472168, 10.126630783081055, 10.308952331542969, 10.819778442382812, 9.21034049987793, 11.512925148010254, 12.043553352355957, 10.819778442382812, 11.156250953674316, 9.21034049987793, 11.695246696472168, 10.596634864807129, 9.903487205505371, 10.308952331542969, 11.695246696472168, 11.512925148010254, 10.596634864807129, 12.206072807312012, 11.002099990844727, 11.28978157043457, 11.156250953674316, 10.819778442382812, 9.903487205505371, 11.002099990844727, 11.156250953674316, 10.819778442382812, 10.308952331542969, 11.156250953674316, 11.512925148010254, 11.512925148010254, 10.308952331542969, 10.463103294372559, 11.002099990844727, 11.695246696472168, 10.714417457580566, 11.512925148010254, 9.21034049987793, 11.156250953674316, 11.695246696472168, 15.990262031555176, 10.308952331542969, 10.596634864807129, 9.615805625915527, 9.903487205505371, 12.61153793334961, 11.512925148010254, 11.512925148010254, 11.002099990844727, 11.002099990844727, 11.28978157043457, 11.512925148010254, 10.819778442382812, 10.126630783081055, 11.512925148010254, 12.429216384887695, 9.903487205505371, 11.695246696472168, 9.903487205505371, 9.903487205505371, 11.28978157043457, 10.126630783081055, 9.903487205505371, 9.903487205505371, 10.714417457580566, 11.512925148010254, 10.819778442382812, 10.819778442382812, 11.512925148010254, 11.982929229736328, 9.903487205505371, 10.714417457580566, 11.918390274047852, 12.206072807312012, 9.21034049987793, 11.695246696472168, 11.512925148010254, 12.429216384887695, 11.608235359191895, 10.596634864807129, 10.819778442382812, 11.849397659301758, 11.28978157043457, 9.903487205505371, 10.819778442382812, 10.308952331542969, 11.775289535522461, 15.990262031555176, 11.156250953674316, 11.512925148010254, 9.615805625915527, 9.903487205505371, 10.596634864807129, 10.308952331542969, 10.308952331542969, 11.156250953674316, 9.615805625915527, 9.903487205505371, 10.596634864807129, 11.28978157043457, 11.918390274047852, 10.308952331542969, 11.407565116882324, 11.002099990844727, 11.695246696472168, 10.819778442382812, 9.615805625915527, 11.156250953674316, 10.308952331542969, 10.714417457580566, 10.308952331542969, 10.819778442382812, 9.21034049987793, 10.819778442382812, 12.206072807312012, 10.463103294372559, 10.308952331542969, 11.002099990844727, 9.903487205505371, 12.206072807312012, 9.903487205505371, 11.156250953674316, 9.21034049987793, 10.819778442382812, 11.156250953674316, 10.596634864807129, 10.819778442382812, 10.203592300415039, 11.002099990844727, 9.903487205505371, 10.308952331542969, 9.21034049987793, 9.21034049987793, 8.517192840576172, 9.392662048339844, 9.21034049987793, 10.596634864807129, 10.308952331542969, 8.517192840576172, 11.002099990844727, 8.294049263000488, 10.308952331542969, 9.615805625915527, 9.952278137207031, 11.407565116882324, 10.308952331542969, 11.002099990844727, 8.517192840576172, 10.819778442382812, 9.903487205505371, 8.699514389038086, 10.126630783081055, 9.21034049987793, 10.819778442382812, 11.512925148010254, 8.517192840576172, 11.849397659301758, 10.308952331542969, 10.819778442382812, 10.596634864807129, 10.126630783081055, 9.615805625915527, 11.918390274047852, 9.903487205505371, 10.308952331542969, 11.002099990844727, 9.903487205505371, 9.615805625915527, 10.596634864807129, 11.918390274047852, 8.853665351867676, 10.126630783081055, 11.608235359191895, 10.308952331542969, 8.853665351867676, 10.819778442382812, 9.903487205505371, 11.156250953674316, 10.308952331542969, 11.512925148010254, 9.903487205505371, 9.903487205505371, 8.517192840576172, 8.853665351867676, 9.615805625915527, 10.819778442382812, 11.918390274047852, 8.006367683410645, 12.61153793334961, 11.28978157043457, 10.463103294372559, 9.21034049987793, 9.615805625915527, 9.903487205505371, 9.903487205505371, 11.22524356842041, 9.903487205505371, 11.350406646728516, 8.294049263000488, 10.819778442382812, 8.517192840576172, 10.819778442382812, 10.463103294372559, 10.308952331542969, 9.615805625915527, 12.100711822509766, 8.987196922302246, 10.819778442382812, 10.308952331542969, 12.429216384887695, 11.918390274047852, 8.006367683410645, 10.308952331542969, 10.463103294372559, 9.903487205505371, 10.596634864807129, 11.28978157043457, 11.002099990844727, 12.206072807312012, 9.21034049987793, 12.206072807312012, 11.28978157043457, 10.308952331542969, 12.100711822509766, 15.990262031555176, 11.002099990844727, 10.308952331542969, 9.21034049987793, 9.903487205505371, 10.308952331542969, 9.21034049987793, 11.28978157043457, 8.006367683410645, 10.596634864807129, 9.392662048339844, 10.308952331542969, 12.899219512939453, 9.21034049987793, 11.002099990844727, 10.308952331542969, 10.308952331542969, 10.308952331542969, 8.517192840576172, 8.517192840576172, 9.798127174377441, 8.853665351867676, 11.28978157043457, 12.899219512939453, 12.61153793334961, 12.206072807312012, 11.512925148010254, 8.987196922302246, 11.775289535522461, 10.596634864807129, 9.903487205505371, 9.615805625915527, 9.21034049987793, 11.512925148010254, 8.699514389038086, 9.615805625915527, 10.819778442382812, 11.512925148010254, 11.002099990844727, 9.615805625915527, 10.126630783081055, 11.407565116882324, 10.308952331542969, 6.907755374908447, 10.596634864807129, 11.28978157043457, 11.28978157043457, 10.308952331542969, 8.987196922302246, 10.596634864807129, 11.28978157043457, 11.982929229736328, 9.903487205505371, 9.615805625915527, 10.819778442382812, 8.294049263000488, 10.596634864807129, 11.002099990844727, 9.21034049987793, 9.21034049987793, 9.903487205505371, 9.392662048339844, 10.463103294372559, 8.517192840576172, 11.28978157043457, 9.615805625915527, 8.517192840576172, 11.156250953674316, 8.987196922302246, 11.002099990844727, 6.907755374908447, 10.463103294372559, 8.987196922302246, 11.918390274047852, 11.918390274047852, 12.206072807312012, 11.951180458068848, 10.819778442382812, 9.615805625915527, 11.512925148010254, 10.308952331542969, 11.28978157043457, 11.002099990844727, 10.308952331542969, 10.308952331542969, 10.819778442382812, 9.903487205505371, 10.308952331542969, 9.392662048339844, 11.002099990844727, 9.903487205505371, 8.517192840576172, 11.512925148010254, 8.006367683410645, 10.308952331542969, 9.903487205505371, 10.819778442382812, 9.903487205505371, 11.918390274047852, 11.28978157043457, 11.002099990844727, 12.429216384887695, 11.156250953674316, 9.903487205505371, 12.206072807312012, 11.002099990844727, 11.28978157043457, 11.407565116882324, 11.002099990844727, 10.126630783081055, 10.819778442382812, 9.903487205505371, 10.819778442382812, 10.308952331542969, 10.308952331542969, 10.308952331542969, 9.21034049987793, 10.463103294372559, 10.308952331542969, 12.206072807312012, 9.903487205505371, 11.156250953674316, 10.308952331542969, 9.21034049987793, 11.918390274047852, 11.502875328063965, 11.512925148010254, 9.798127174377441, 10.596634864807129, 9.615805625915527, 10.596634864807129, 10.308952331542969, 9.21034049987793, 11.28978157043457, 11.156250953674316, 9.21034049987793, 9.903487205505371, 9.903487205505371, 10.308952331542969, 10.308952331542969, 8.006367683410645, 11.512925148010254, 11.918390274047852, 9.615805625915527, 11.918390274047852, 10.819778442382812, 10.819778442382812, 10.308952331542969, 10.819778442382812, 10.308952331542969, 13.592367172241211, 9.903487205505371, 11.982929229736328, 10.308952331542969, 11.918390274047852, 9.903487205505371, 11.002099990844727, 9.615805625915527, 13.122363090515137, 11.156250953674316, 12.506176948547363, 12.206072807312012, 10.203592300415039, 11.775289535522461, 10.308952331542969, 12.206072807312012, 9.615805625915527, 11.512925148010254, 11.156250953674316, 11.28978157043457, 10.596634864807129, 8.517192840576172, 10.819778442382812, 11.512925148010254, 10.308952331542969, 9.21034049987793, 10.463103294372559, 11.156250953674316, 11.28978157043457, 10.819778442382812, 10.819778442382812, 10.308952331542969, 11.002099990844727, 10.463103294372559, 10.819778442382812, 9.21034049987793, 10.819778442382812, 10.819778442382812, 10.308952331542969, 10.819778442382812, 12.429216384887695, 10.126630783081055, 8.853665351867676, 9.615805625915527, 10.126630783081055, 9.392662048339844, 8.517192840576172, 9.615805625915527, 11.512925148010254, 6.907755374908447, 10.819778442382812, 12.206072807312012, 12.206072807312012, 11.407565116882324, 10.596634864807129, 12.206072807312012, 10.819778442382812, 11.512925148010254, 10.596634864807129, 10.819778442382812, 11.918390274047852, 11.156250953674316, 11.002099990844727, 12.206072807312012, 11.512925148010254, 11.512925148010254, 11.512925148010254, 10.308952331542969, 10.714417457580566, 10.714417457580566, 9.21034049987793, 6.907755374908447, 9.21034049987793, 11.512925148010254, 6.214608192443848, 11.512925148010254, 10.463103294372559, 10.308952331542969, 9.21034049987793, 9.798127174377441, 8.853665351867676, 9.615805625915527, 11.918390274047852, 13.122363090515137, 9.615805625915527, 11.156250953674316, 9.21034049987793, 9.21034049987793, 11.156250953674316, 11.918390274047852, 8.517192840576172, 9.21034049987793, 11.407565116882324, 10.126630783081055, 9.903487205505371, 10.308952331542969, 10.126630783081055, 11.512925148010254, 10.308952331542969, 11.512925148010254, 10.596634864807129, 11.695246696472168, 11.918390274047852, 10.819778442382812, 9.615805625915527, 9.903487205505371, 11.512925148010254, 10.714417457580566, 9.903487205505371, 11.22524356842041, 10.714417457580566, 11.156250953674316, 9.903487205505371, 10.596634864807129, 10.126630783081055, 11.28978157043457, 10.126630783081055, 11.156250953674316, 11.28978157043457, 12.429216384887695, 9.21034049987793, 10.819778442382812, 10.819778442382812, 8.517192840576172, 11.156250953674316, 10.308952331542969, 12.206072807312012, 11.512925148010254, 11.156250953674316, 10.308952331542969, 10.596634864807129, 10.819778442382812, 10.819778442382812, 11.512925148010254, 9.903487205505371, 8.853665351867676, 10.596634864807129, 8.517192840576172, 10.308952331542969, 11.512925148010254, 10.819778442382812, 7.600902557373047, 11.512925148010254, 12.429216384887695, 6.396929740905762, 11.002099990844727, 12.468437194824219, 12.206072807312012, 12.206072807312012, 11.156250953674316, 12.61153793334961, 8.517192840576172, 11.982929229736328, 11.512925148010254, 10.596634864807129, 9.615805625915527, 9.903487205505371, 12.043553352355957, 9.903487205505371, 10.308952331542969, 11.002099990844727, 11.512925148010254, 11.695246696472168, 11.512925148010254, 11.28978157043457, 10.819778442382812, 12.61153793334961, 12.254862785339355, 9.903487205505371, 11.512925148010254, 10.714417457580566, 10.308952331542969, 10.819778442382812, 10.819778442382812, 10.819778442382812, 11.002099990844727, 9.903487205505371, 9.615805625915527, 7.600902557373047, 10.126630783081055, 9.903487205505371, 9.615805625915527, 12.206072807312012, 9.903487205505371, 10.596634864807129, 9.615805625915527, 10.308952331542969, 10.819778442382812, 8.517192840576172, 10.308952331542969, 12.206072807312012, 11.918390274047852, 11.736068725585938, 10.819778442382812, 9.903487205505371, 10.819778442382812, 11.002099990844727, 10.596634864807129, 8.517192840576172, 9.903487205505371, 10.714417457580566, 15.990262031555176, 10.308952331542969, 10.596634864807129, 9.903487205505371, 8.517192840576172, 9.903487205505371, 11.156250953674316, 11.08214282989502, 11.918390274047852, 11.695246696472168, 11.512925148010254, 11.002099990844727, 10.819778442382812, 8.517192840576172, 11.695246696472168, 10.596634864807129, 11.28978157043457, 10.308952331542969, 10.126630783081055, 11.502875328063965, 11.28978157043457, 10.714417457580566, 11.156250953674316, 10.714417457580566, 8.987196922302246, 9.21034049987793, 10.819778442382812, 9.903487205505371, 11.156250953674316, 10.308952331542969, 10.819778442382812, 8.517192840576172, 10.308952331542969, 10.819778442382812, 11.695246696472168, 12.206072807312012, 11.512925148010254, 11.002099990844727, 11.002099990844727, 8.853665351867676, 9.615805625915527, 9.903487205505371, 9.21034049987793, 10.463103294372559, 10.308952331542969, 9.903487205505371, 10.596634864807129, 8.294049263000488, 9.472704887390137, 11.156250953674316, 8.517192840576172, 9.615805625915527, 9.21034049987793, 8.987196922302246, 11.002099990844727, 11.28978157043457, 11.002099990844727, 10.308952331542969, 9.21034049987793, 9.615805625915527, 2.995732307434082, 9.615805625915527, 11.512925148010254, 10.126630783081055, 11.918390274047852, 9.903487205505371, 8.987196922302246, 12.206072807312012, 8.987196922302246, 9.903487205505371, 8.294049263000488, 10.308952331542969, 12.61153793334961, 11.28978157043457, 11.512925148010254, 10.819778442382812, 11.002099990844727, 10.819778442382812, 11.156250953674316, 9.21034049987793, 10.463103294372559, 10.596634864807129, 10.308952331542969, 9.21034049987793, 11.156250953674316, 12.206072807312012, 10.596634864807129, 11.695246696472168, 11.28978157043457, 9.21034049987793, 15.990262031555176, 11.002099990844727, 11.512925148010254, 10.819778442382812, 11.512925148010254, 10.308952331542969, 11.28978157043457, 10.308952331542969, 10.308952331542969, 10.596634864807129, 10.819778442382812, 10.308952331542969, 9.903487205505371, 11.512925148010254, 9.903487205505371, 10.596634864807129, 10.819778442382812, 11.918390274047852, 11.28978157043457, 11.28978157043457, 10.308952331542969, 8.294049263000488, 9.903487205505371, 11.156250953674316, 11.156250953674316, 10.819778442382812, 10.126630783081055, 10.819778442382812, 10.819778442382812, 11.156250953674316, 10.308952331542969, 11.512925148010254, 10.819778442382812, 11.512925148010254, 10.596634864807129, 10.308952331542969, 9.615805625915527, 10.819778442382812, 12.206072807312012, 9.903487205505371, 10.308952331542969, 9.21034049987793, 8.517192840576172, 11.512925148010254, 11.512925148010254, 10.819778442382812, 11.512925148010254, 10.308952331542969, 11.512925148010254, 10.308952331542969, 10.308952331542969, 11.28978157043457, 9.903487205505371, 11.28978157043457, 9.903487205505371, 10.308952331542969, 10.308952331542969, 10.819778442382812, 10.308952331542969, 9.903487205505371, 11.002099990844727, 12.206072807312012, 10.308952331542969, 10.819778442382812, 10.308952331542969, 11.156250953674316, 9.903487205505371, 11.22524356842041, 9.903487205505371, 11.28978157043457, 10.819778442382812, 11.775289535522461, 10.714417457580566, 11.918390274047852, 9.21034049987793, 11.156250953674316, 9.903487205505371, 9.21034049987793, 10.596634864807129, 10.596634864807129, 10.463103294372559, 9.615805625915527, 10.463103294372559, 10.819778442382812, 10.308952331542969, 10.308952331542969, 10.308952331542969, 8.006367683410645, 10.596634864807129, 10.596634864807129, 10.126630783081055, 10.308952331542969, 13.017003059387207, 11.28978157043457, 11.28978157043457, 8.517192840576172, 7.8240461349487305, 9.21034049987793, 8.294049263000488, 8.517192840576172, 11.156250953674316, 11.002099990844727, 10.596634864807129, 9.903487205505371, 9.615805625915527, 11.002099990844727, 10.308952331542969, 10.308952331542969, 12.100711822509766, 10.819778442382812, 9.21034049987793, 7.600902557373047, 10.596634864807129, 10.596634864807129, 9.903487205505371, 10.239959716796875, 11.002099990844727, 10.596634864807129, 9.903487205505371, 6.907755374908447, 10.819778442382812, 11.695246696472168, 12.206072807312012, 9.740968704223633, 9.903487205505371, 6.907755374908447, 10.819778442382812, 9.21034049987793, 10.819778442382812, 11.22524356842041, 9.903487205505371, 10.308952331542969, 10.308952331542969, 9.21034049987793, 10.819778442382812, 11.512925148010254, 10.308952331542969, 12.61153793334961, 11.28978157043457, 10.819778442382812, 11.918390274047852, 9.21034049987793, 10.596634864807129, 10.308952331542969, 10.819778442382812, 10.714417457580566, 11.918390274047852, 11.512925148010254, 11.156250953674316, 11.156250953674316, 9.615805625915527, 9.615805625915527, 11.695246696472168, 11.002099990844727, 11.918390274047852, 10.308952331542969, 9.615805625915527, 11.156250953674316, 9.903487205505371, 9.21034049987793, 10.596634864807129, 9.903487205505371, 10.596634864807129, 8.853665351867676, 9.615805625915527, 11.512925148010254, 11.002099990844727, 11.28978157043457, 11.608235359191895, 10.714417457580566, 12.043553352355957, 11.849397659301758, 11.28978157043457, 9.903487205505371, 11.695246696472168, 9.392662048339844, 10.463103294372559, 10.819778442382812, 9.903487205505371, 9.21034049987793, 9.21034049987793, 9.903487205505371, 10.463103294372559, 10.126630783081055, 11.918390274047852, 6.214608192443848, 5.991464614868164, 8.006367683410645, 11.156250953674316, 10.596634864807129, 10.596634864807129, 10.819778442382812, 11.407565116882324, 11.512925148010254, 11.982929229736328, 10.596634864807129, 12.154779434204102, 10.596634864807129, 11.28978157043457, 10.915088653564453, 11.156250953674316, 10.799575805664062, 11.695246696472168, 10.714417457580566, 12.100711822509766, 6.214608192443848, 10.308952331542969, 10.308952331542969, 10.308952331542969, 11.002099990844727, 10.596634864807129, 11.695246696472168, 10.239959716796875, 9.852193832397461, 11.28978157043457, 9.903487205505371, 10.819778442382812, 9.615805625915527, 10.308952331542969, 10.714417457580566, 12.206072807312012, 10.308952331542969, 10.463103294372559, 11.512925148010254, 9.903487205505371, 11.002099990844727, 11.695246696472168, 12.206072807312012, 10.308952331542969, 11.156250953674316, 9.21034049987793, 9.21034049987793, 11.002099990844727, 11.156250953674316, 12.206072807312012, 9.21034049987793, 11.918390274047852, 10.463103294372559, 12.206072807312012, 11.156250953674316, 11.28978157043457, 10.308952331542969, 9.392662048339844, 10.373491287231445, 12.429216384887695, 10.308952331542969, 10.308952331542969, 11.512925148010254, 11.512925148010254, 9.903487205505371, 11.512925148010254, 12.206072807312012, 10.819778442382812, 12.61153793334961, 11.156250953674316, 11.28978157043457, 11.28978157043457, 10.463103294372559, 11.982929229736328, 11.608235359191895, 11.156250953674316, 10.819778442382812, 10.308952331542969, 9.615805625915527, 10.126630783081055, 10.126630783081055, 11.002099990844727, 11.002099990844727, 10.126630783081055, 10.308952331542969, 9.903487205505371, 9.903487205505371, 10.819778442382812, 9.21034049987793, 11.28978157043457, 9.903487205505371, 9.903487205505371, 11.156250953674316, 10.308952331542969, 11.512925148010254, 9.903487205505371, 10.596634864807129, 10.819778442382812, 10.126630783081055, 9.21034049987793, 9.615805625915527, 8.699514389038086, 10.126630783081055, 13.122363090515137, 9.615805625915527, 6.907755374908447, 15.990262031555176, 9.21034049987793, 9.903487205505371, 10.308952331542969, 12.61153793334961, 10.308952331542969, 10.463103294372559, 10.819778442382812, 10.596634864807129, 10.308952331542969, 11.156250953674316, 10.596634864807129, 11.156250953674316, 12.61153793334961, 11.002099990844727, 9.392662048339844, 9.615805625915527, 9.903487205505371, 9.392662048339844, 10.463103294372559, 9.392662048339844, 9.903487205505371, 9.903487205505371, 10.596634864807129, 9.615805625915527, 10.126630783081055, 10.819778442382812, 9.615805625915527, 11.407565116882324, 9.615805625915527, 10.308952331542969, 10.596634864807129, 9.21034049987793, 11.08214282989502, 10.308952331542969, 9.615805625915527, 10.596634864807129, 11.28978157043457, 8.294049263000488, 10.596634864807129, 9.392662048339844, 6.907755374908447, 11.512925148010254, 11.156250953674316, 8.987196922302246, 11.512925148010254, 10.819778442382812, 9.903487205505371, 9.903487205505371, 10.463103294372559, 8.987196922302246, 10.126630783081055, 12.429216384887695, 11.28978157043457, 11.918390274047852, 9.433484077453613, 11.156250953674316, 11.918390274047852, 11.156250953674316, 11.156250953674316, 9.903487205505371, 10.596634864807129, 11.002099990844727, 9.21034049987793, 11.28978157043457, 9.615805625915527, 8.006367683410645, 9.903487205505371, 9.21034049987793, 11.918390274047852, 11.28978157043457, 10.463103294372559, 8.699514389038086, 9.903487205505371, 11.156250953674316, 9.903487205505371, 11.002099990844727, 11.28978157043457, 9.615805625915527, 11.407565116882324, 10.308952331542969, 10.463103294372559, 10.819778442382812, 11.512925148010254, 9.21034049987793, 10.308952331542969, 11.156250953674316, 9.21034049987793, 9.903487205505371, 9.903487205505371, 9.903487205505371, 9.798127174377441, 10.819778442382812, 11.002099990844727, 9.903487205505371, 9.798127174377441, 11.28978157043457, 10.308952331542969, 11.002099990844727, 9.21034049987793, 10.308952331542969, 10.308952331542969, 10.819778442382812, 9.21034049987793, 8.517192840576172, 8.517192840576172, 10.819778442382812, 8.699514389038086, 9.21034049987793, 11.002099990844727, 9.21034049987793, 7.8240461349487305, 10.819778442382812, 10.819778442382812, 9.903487205505371, 10.596634864807129, 11.512925148010254, 9.903487205505371, 11.002099990844727, 9.903487205505371, 10.819778442382812, 10.596634864807129, 9.21034049987793, 10.819778442382812, 10.126630783081055, 11.28978157043457, 10.308952331542969, 10.308952331542969, 9.615805625915527, 8.294049263000488, 10.463103294372559, 9.392662048339844, 10.463103294372559, 9.21034049987793, 10.596634864807129, 10.126630783081055, 9.21034049987793, 9.615805625915527, 11.28978157043457, 11.156250953674316, 9.903487205505371, 10.308952331542969, 10.308952331542969, 10.596634864807129, 10.308952331542969, 10.819778442382812, 11.918390274047852, 9.21034049987793, 9.903487205505371, 10.126630783081055, 10.308952331542969, 10.308952331542969, 11.156250953674316, 11.512925148010254, 9.615805625915527, 11.28978157043457, 10.819778442382812, 9.615805625915527, 8.853665351867676, 10.308952331542969, 10.596634864807129, 10.596634864807129, 8.92265796661377, 9.21034049987793, 9.615805625915527, 11.512925148010254, 8.006367683410645, 11.002099990844727, 9.903487205505371, 11.512925148010254, 10.308952331542969, 10.308952331542969, 9.21034049987793, 10.819778442382812, 11.512925148010254, 9.21034049987793, 11.28978157043457, 9.903487205505371, 11.512925148010254, 10.308952331542969, 11.28978157043457, 11.156250953674316, 8.517192840576172, 11.002099990844727, 9.21034049987793, 9.21034049987793, 9.21034049987793, 10.596634864807129, 11.28978157043457, 10.819778442382812, 11.002099990844727, 9.798127174377441, 10.596634864807129, 11.512925148010254, 9.798127174377441, 9.21034049987793, 11.918390274047852, 11.002099990844727, 9.903487205505371, 9.903487205505371, 10.596634864807129, 10.126630783081055, 10.596634864807129, 9.21034049987793, 9.21034049987793, 10.596634864807129, 10.308952331542969, 9.903487205505371, 9.21034049987793, 10.308952331542969, 8.517192840576172, 10.308952331542969, 8.987196922302246, 10.915088653564453, 11.156250953674316, 11.849397659301758, 11.002099990844727, 11.512925148010254, 11.350406646728516, 11.512925148010254, 10.308952331542969, 10.308952331542969, 10.308952331542969, 9.903487205505371, 9.21034049987793, 11.156250953674316, 11.28978157043457, 11.512925148010254, 11.512925148010254, 10.819778442382812, 10.596634864807129, 9.615805625915527, 10.126630783081055, 11.156250953674316, 11.002099990844727, 10.308952331542969, 11.512925148010254, 11.002099990844727, 10.819778442382812, 11.695246696472168, 10.819778442382812, 11.918390274047852, 10.596634864807129, 10.819778442382812, 11.407565116882324, 11.156250953674316, 11.156250953674316, 11.512925148010254, 10.819778442382812, 11.512925148010254, 9.903487205505371, 10.799575805664062, 10.819778442382812, 6.907755374908447, 9.903487205505371, 10.596634864807129, 11.918390274047852, 10.819778442382812, 9.21034049987793, 10.126630783081055, 10.596634864807129, 10.308952331542969, 9.21034049987793, 11.512925148010254, 10.819778442382812, 10.819778442382812, 10.308952331542969, 11.512925148010254, 10.596634864807129, 12.206072807312012, 10.308952331542969, 10.819778442382812, 10.463103294372559, 9.615805625915527, 9.21034049987793, 11.918390274047852, 9.903487205505371], \"xaxis\": \"x\", \"yaxis\": \"y\"}],                        {\"barmode\": \"relative\", \"legend\": {\"title\": {\"text\": \"variable\"}, \"tracegroupgap\": 0}, \"margin\": {\"t\": 60}, \"template\": {\"data\": {\"bar\": [{\"error_x\": {\"color\": \"#2a3f5f\"}, \"error_y\": {\"color\": \"#2a3f5f\"}, \"marker\": {\"line\": {\"color\": \"#E5ECF6\", \"width\": 0.5}}, \"type\": \"bar\"}], \"barpolar\": [{\"marker\": {\"line\": {\"color\": \"#E5ECF6\", \"width\": 0.5}}, \"type\": \"barpolar\"}], \"carpet\": [{\"aaxis\": {\"endlinecolor\": \"#2a3f5f\", \"gridcolor\": \"white\", \"linecolor\": \"white\", \"minorgridcolor\": \"white\", \"startlinecolor\": \"#2a3f5f\"}, \"baxis\": {\"endlinecolor\": \"#2a3f5f\", \"gridcolor\": \"white\", \"linecolor\": \"white\", \"minorgridcolor\": \"white\", \"startlinecolor\": \"#2a3f5f\"}, \"type\": \"carpet\"}], \"choropleth\": [{\"colorbar\": {\"outlinewidth\": 0, \"ticks\": \"\"}, \"type\": \"choropleth\"}], \"contour\": [{\"colorbar\": {\"outlinewidth\": 0, \"ticks\": \"\"}, \"colorscale\": [[0.0, \"#0d0887\"], [0.1111111111111111, \"#46039f\"], [0.2222222222222222, \"#7201a8\"], [0.3333333333333333, \"#9c179e\"], [0.4444444444444444, \"#bd3786\"], [0.5555555555555556, \"#d8576b\"], [0.6666666666666666, \"#ed7953\"], [0.7777777777777778, \"#fb9f3a\"], [0.8888888888888888, \"#fdca26\"], [1.0, \"#f0f921\"]], \"type\": \"contour\"}], \"contourcarpet\": [{\"colorbar\": {\"outlinewidth\": 0, \"ticks\": \"\"}, \"type\": \"contourcarpet\"}], \"heatmap\": [{\"colorbar\": {\"outlinewidth\": 0, \"ticks\": \"\"}, \"colorscale\": [[0.0, \"#0d0887\"], [0.1111111111111111, \"#46039f\"], [0.2222222222222222, \"#7201a8\"], [0.3333333333333333, \"#9c179e\"], [0.4444444444444444, \"#bd3786\"], [0.5555555555555556, \"#d8576b\"], [0.6666666666666666, \"#ed7953\"], [0.7777777777777778, \"#fb9f3a\"], [0.8888888888888888, \"#fdca26\"], [1.0, \"#f0f921\"]], \"type\": \"heatmap\"}], \"heatmapgl\": [{\"colorbar\": {\"outlinewidth\": 0, \"ticks\": \"\"}, \"colorscale\": [[0.0, \"#0d0887\"], [0.1111111111111111, \"#46039f\"], [0.2222222222222222, \"#7201a8\"], [0.3333333333333333, \"#9c179e\"], [0.4444444444444444, \"#bd3786\"], [0.5555555555555556, \"#d8576b\"], [0.6666666666666666, \"#ed7953\"], [0.7777777777777778, \"#fb9f3a\"], [0.8888888888888888, \"#fdca26\"], [1.0, \"#f0f921\"]], \"type\": \"heatmapgl\"}], \"histogram\": [{\"marker\": {\"colorbar\": {\"outlinewidth\": 0, \"ticks\": \"\"}}, \"type\": \"histogram\"}], \"histogram2d\": [{\"colorbar\": {\"outlinewidth\": 0, \"ticks\": \"\"}, \"colorscale\": [[0.0, \"#0d0887\"], [0.1111111111111111, \"#46039f\"], [0.2222222222222222, \"#7201a8\"], [0.3333333333333333, \"#9c179e\"], [0.4444444444444444, \"#bd3786\"], [0.5555555555555556, \"#d8576b\"], [0.6666666666666666, \"#ed7953\"], [0.7777777777777778, \"#fb9f3a\"], [0.8888888888888888, \"#fdca26\"], [1.0, \"#f0f921\"]], \"type\": \"histogram2d\"}], \"histogram2dcontour\": [{\"colorbar\": {\"outlinewidth\": 0, \"ticks\": \"\"}, \"colorscale\": [[0.0, \"#0d0887\"], [0.1111111111111111, \"#46039f\"], [0.2222222222222222, \"#7201a8\"], [0.3333333333333333, \"#9c179e\"], [0.4444444444444444, \"#bd3786\"], [0.5555555555555556, \"#d8576b\"], [0.6666666666666666, \"#ed7953\"], [0.7777777777777778, \"#fb9f3a\"], [0.8888888888888888, \"#fdca26\"], [1.0, \"#f0f921\"]], \"type\": \"histogram2dcontour\"}], \"mesh3d\": [{\"colorbar\": {\"outlinewidth\": 0, \"ticks\": \"\"}, \"type\": \"mesh3d\"}], \"parcoords\": [{\"line\": {\"colorbar\": {\"outlinewidth\": 0, \"ticks\": \"\"}}, \"type\": \"parcoords\"}], \"pie\": [{\"automargin\": true, \"type\": \"pie\"}], \"scatter\": [{\"marker\": {\"colorbar\": {\"outlinewidth\": 0, \"ticks\": \"\"}}, \"type\": \"scatter\"}], \"scatter3d\": [{\"line\": {\"colorbar\": {\"outlinewidth\": 0, \"ticks\": \"\"}}, \"marker\": {\"colorbar\": {\"outlinewidth\": 0, \"ticks\": \"\"}}, \"type\": \"scatter3d\"}], \"scattercarpet\": [{\"marker\": {\"colorbar\": {\"outlinewidth\": 0, \"ticks\": \"\"}}, \"type\": \"scattercarpet\"}], \"scattergeo\": [{\"marker\": {\"colorbar\": {\"outlinewidth\": 0, \"ticks\": \"\"}}, \"type\": \"scattergeo\"}], \"scattergl\": [{\"marker\": {\"colorbar\": {\"outlinewidth\": 0, \"ticks\": \"\"}}, \"type\": \"scattergl\"}], \"scattermapbox\": [{\"marker\": {\"colorbar\": {\"outlinewidth\": 0, \"ticks\": \"\"}}, \"type\": \"scattermapbox\"}], \"scatterpolar\": [{\"marker\": {\"colorbar\": {\"outlinewidth\": 0, \"ticks\": \"\"}}, \"type\": \"scatterpolar\"}], \"scatterpolargl\": [{\"marker\": {\"colorbar\": {\"outlinewidth\": 0, \"ticks\": \"\"}}, \"type\": \"scatterpolargl\"}], \"scatterternary\": [{\"marker\": {\"colorbar\": {\"outlinewidth\": 0, \"ticks\": \"\"}}, \"type\": \"scatterternary\"}], \"surface\": [{\"colorbar\": {\"outlinewidth\": 0, \"ticks\": \"\"}, \"colorscale\": [[0.0, \"#0d0887\"], [0.1111111111111111, \"#46039f\"], [0.2222222222222222, \"#7201a8\"], [0.3333333333333333, \"#9c179e\"], [0.4444444444444444, \"#bd3786\"], [0.5555555555555556, \"#d8576b\"], [0.6666666666666666, \"#ed7953\"], [0.7777777777777778, \"#fb9f3a\"], [0.8888888888888888, \"#fdca26\"], [1.0, \"#f0f921\"]], \"type\": \"surface\"}], \"table\": [{\"cells\": {\"fill\": {\"color\": \"#EBF0F8\"}, \"line\": {\"color\": \"white\"}}, \"header\": {\"fill\": {\"color\": \"#C8D4E3\"}, \"line\": {\"color\": \"white\"}}, \"type\": \"table\"}]}, \"layout\": {\"annotationdefaults\": {\"arrowcolor\": \"#2a3f5f\", \"arrowhead\": 0, \"arrowwidth\": 1}, \"coloraxis\": {\"colorbar\": {\"outlinewidth\": 0, \"ticks\": \"\"}}, \"colorscale\": {\"diverging\": [[0, \"#8e0152\"], [0.1, \"#c51b7d\"], [0.2, \"#de77ae\"], [0.3, \"#f1b6da\"], [0.4, \"#fde0ef\"], [0.5, \"#f7f7f7\"], [0.6, \"#e6f5d0\"], [0.7, \"#b8e186\"], [0.8, \"#7fbc41\"], [0.9, \"#4d9221\"], [1, \"#276419\"]], \"sequential\": [[0.0, \"#0d0887\"], [0.1111111111111111, \"#46039f\"], [0.2222222222222222, \"#7201a8\"], [0.3333333333333333, \"#9c179e\"], [0.4444444444444444, \"#bd3786\"], [0.5555555555555556, \"#d8576b\"], [0.6666666666666666, \"#ed7953\"], [0.7777777777777778, \"#fb9f3a\"], [0.8888888888888888, \"#fdca26\"], [1.0, \"#f0f921\"]], \"sequentialminus\": [[0.0, \"#0d0887\"], [0.1111111111111111, \"#46039f\"], [0.2222222222222222, \"#7201a8\"], [0.3333333333333333, \"#9c179e\"], [0.4444444444444444, \"#bd3786\"], [0.5555555555555556, \"#d8576b\"], [0.6666666666666666, \"#ed7953\"], [0.7777777777777778, \"#fb9f3a\"], [0.8888888888888888, \"#fdca26\"], [1.0, \"#f0f921\"]]}, \"colorway\": [\"#636efa\", \"#EF553B\", \"#00cc96\", \"#ab63fa\", \"#FFA15A\", \"#19d3f3\", \"#FF6692\", \"#B6E880\", \"#FF97FF\", \"#FECB52\"], \"font\": {\"color\": \"#2a3f5f\"}, \"geo\": {\"bgcolor\": \"white\", \"lakecolor\": \"white\", \"landcolor\": \"#E5ECF6\", \"showlakes\": true, \"showland\": true, \"subunitcolor\": \"white\"}, \"hoverlabel\": {\"align\": \"left\"}, \"hovermode\": \"closest\", \"mapbox\": {\"style\": \"light\"}, \"paper_bgcolor\": \"white\", \"plot_bgcolor\": \"#E5ECF6\", \"polar\": {\"angularaxis\": {\"gridcolor\": \"white\", \"linecolor\": \"white\", \"ticks\": \"\"}, \"bgcolor\": \"#E5ECF6\", \"radialaxis\": {\"gridcolor\": \"white\", \"linecolor\": \"white\", \"ticks\": \"\"}}, \"scene\": {\"xaxis\": {\"backgroundcolor\": \"#E5ECF6\", \"gridcolor\": \"white\", \"gridwidth\": 2, \"linecolor\": \"white\", \"showbackground\": true, \"ticks\": \"\", \"zerolinecolor\": \"white\"}, \"yaxis\": {\"backgroundcolor\": \"#E5ECF6\", \"gridcolor\": \"white\", \"gridwidth\": 2, \"linecolor\": \"white\", \"showbackground\": true, \"ticks\": \"\", \"zerolinecolor\": \"white\"}, \"zaxis\": {\"backgroundcolor\": \"#E5ECF6\", \"gridcolor\": \"white\", \"gridwidth\": 2, \"linecolor\": \"white\", \"showbackground\": true, \"ticks\": \"\", \"zerolinecolor\": \"white\"}}, \"shapedefaults\": {\"line\": {\"color\": \"#2a3f5f\"}}, \"ternary\": {\"aaxis\": {\"gridcolor\": \"white\", \"linecolor\": \"white\", \"ticks\": \"\"}, \"baxis\": {\"gridcolor\": \"white\", \"linecolor\": \"white\", \"ticks\": \"\"}, \"bgcolor\": \"#E5ECF6\", \"caxis\": {\"gridcolor\": \"white\", \"linecolor\": \"white\", \"ticks\": \"\"}}, \"title\": {\"x\": 0.05}, \"xaxis\": {\"automargin\": true, \"gridcolor\": \"white\", \"linecolor\": \"white\", \"ticks\": \"\", \"title\": {\"standoff\": 15}, \"zerolinecolor\": \"white\", \"zerolinewidth\": 2}, \"yaxis\": {\"automargin\": true, \"gridcolor\": \"white\", \"linecolor\": \"white\", \"ticks\": \"\", \"title\": {\"standoff\": 15}, \"zerolinecolor\": \"white\", \"zerolinewidth\": 2}}}, \"xaxis\": {\"anchor\": \"y\", \"domain\": [0.0, 1.0], \"title\": {\"text\": \"value\"}}, \"yaxis\": {\"anchor\": \"x\", \"domain\": [0.0, 1.0], \"title\": {\"text\": \"count\"}}},                        {\"responsive\": true}                    ).then(function(){\n",
       "                            \n",
       "var gd = document.getElementById('57a4fc2f-450e-4d01-9566-be9210f8cd4f');\n",
       "var x = new MutationObserver(function (mutations, observer) {{\n",
       "        var display = window.getComputedStyle(gd).display;\n",
       "        if (!display || display === 'none') {{\n",
       "            console.log([gd, 'removed!']);\n",
       "            Plotly.purge(gd);\n",
       "            observer.disconnect();\n",
       "        }}\n",
       "}});\n",
       "\n",
       "// Listen for the removal of the full notebook cells\n",
       "var notebookContainer = gd.closest('#notebook-container');\n",
       "if (notebookContainer) {{\n",
       "    x.observe(notebookContainer, {childList: true});\n",
       "}}\n",
       "\n",
       "// Listen for the clearing of the current output cell\n",
       "var outputEl = gd.closest('.output');\n",
       "if (outputEl) {{\n",
       "    x.observe(outputEl, {childList: true});\n",
       "}}\n",
       "\n",
       "                        })                };                });            </script>        </div>"
      ]
     },
     "metadata": {},
     "output_type": "display_data"
    }
   ],
   "source": [
    "px.histogram(df_hh['S_logsell'], ['S_logsell'])"
   ]
  },
  {
   "cell_type": "code",
   "execution_count": null,
   "metadata": {},
   "outputs": [],
   "source": []
  }
 ],
 "metadata": {
  "kernelspec": {
   "display_name": "Python 3",
   "language": "python",
   "name": "python3"
  },
  "language_info": {
   "codemirror_mode": {
    "name": "ipython",
    "version": 3
   },
   "file_extension": ".py",
   "mimetype": "text/x-python",
   "name": "python",
   "nbconvert_exporter": "python",
   "pygments_lexer": "ipython3",
   "version": "3.8.5"
  }
 },
 "nbformat": 4,
 "nbformat_minor": 4
}
