{
 "cells": [
  {
   "cell_type": "code",
   "execution_count": 1,
   "metadata": {},
   "outputs": [],
   "source": [
    "import pandas as pd\n",
    "import numpy as np\n",
    "from matplotlib import pyplot as plt\n",
    "from collections import defaultdict \n",
    "import plotly\n",
    "import plotly.graph_objects as go\n",
    "from sklearn.preprocessing import StandardScaler, OneHotEncoder\n",
    "from sklearn.decomposition import PCA\n",
    "from sklearn.metrics import roc_curve, roc_auc_score\n",
    "import re\n",
    "import seaborn as sns"
   ]
  },
  {
   "cell_type": "markdown",
   "metadata": {},
   "source": [
    "## Helper functions"
   ]
  },
  {
   "cell_type": "code",
   "execution_count": 2,
   "metadata": {},
   "outputs": [],
   "source": [
    "def standardize(X_train, X_test):\n",
    "    \"\"\"Standardize the columns of X_train and X_test w.r.t. means and stds from X_train. \"\"\"\n",
    "    if ~(X_train.columns == X_test.columns).all():\n",
    "        raise ValueError(\"X_train and X_test should have the columns in the same order.\")\n",
    "    colnames = X_train.columns\n",
    "    sc = StandardScaler()\n",
    "    # Standardize train and test sets (it produces numpy arrays)\n",
    "    X_train_scaled = sc.fit_transform(X_train)\n",
    "    X_test_scaled = sc.transform(X_test)\n",
    "\n",
    "    # Add column names back to resulting numpy arrays\n",
    "    X_train_scaled = pd.DataFrame(X_train_scaled, columns=colnames)\n",
    "    X_test_scaled = pd.DataFrame(X_test_scaled, columns=colnames)\n",
    "    return X_train_scaled, X_test_scaled"
   ]
  },
  {
   "cell_type": "markdown",
   "metadata": {},
   "source": [
    "## Load the datasets"
   ]
  },
  {
   "cell_type": "code",
   "execution_count": 3,
   "metadata": {},
   "outputs": [],
   "source": [
    "df_hh = pd.read_stata('../ada-2020-project-milestone-p2-stima83/Data/PisoFirme_AEJPol-20070024_household.dta')\n",
    "df_ind = pd.read_stata('../ada-2020-project-milestone-p2-stima83/Data/114542-V1/PisoFirme_AEJPol-20070024_individual.dta')"
   ]
  },
  {
   "cell_type": "code",
   "execution_count": 4,
   "metadata": {},
   "outputs": [],
   "source": [
    "# We split the dataset into the census (2000) and the survey data (2005)\n",
    "df_hh = df_hh.dropna()\n",
    "index_census = df_hh.columns[df_hh.columns.str.startswith('C')]\n",
    "df_census = df_hh[index_census].copy()\n",
    "index_survey = df_hh.columns[df_hh.columns.str.startswith('S')]\n",
    "df_survey = df_hh[index_survey].copy()"
   ]
  },
  {
   "cell_type": "code",
   "execution_count": 5,
   "metadata": {},
   "outputs": [],
   "source": [
    "# Split into test and training set.\n",
    "train_split = 0.7\n",
    "train_samples = np.random.rand(df_hh.shape[0]) < train_split\n",
    "df_census_train = df_census.loc[train_samples]\n",
    "df_census_test = df_census.loc[~train_samples]\n",
    "df_survey_train = df_survey[train_samples]\n",
    "df_survey_test = df_survey[~train_samples]"
   ]
  },
  {
   "cell_type": "markdown",
   "metadata": {},
   "source": [
    "## Predict different survey targets\n",
    "We predict the different survey values from the census data from 2000. We create a data array of the results for the different models. We calculate and report the $R^2$ scores for the different targets of the survey data and the different models.\n",
    "We use the different models:\n",
    "- Linear models\n",
    "    - Linear regression\n",
    "    - Lasso\n",
    "    - Ridge regression\n",
    "    - Stochastic vector regressor\n",
    "- Non linear models\n",
    "    - DecisionTreeRegressor\n",
    "    - GradientBoostingRegressor\n",
    "    - MLPRegressor\n"
   ]
  },
  {
   "cell_type": "code",
   "execution_count": 6,
   "metadata": {},
   "outputs": [],
   "source": [
    "def generate_prediction_df(df_census_train, df_census_test, df_survey_train, df_survey_test, selected_models):\n",
    "    results = np.zeros((len(selected_models), len(df_survey_train.columns)))\n",
    "    for i, model in enumerate(selected_models):\n",
    "        for j, (column_name, column_data) in enumerate(df_survey_train.iteritems()):\n",
    "            model.fit(df_census_train, column_data)\n",
    "            results[i,j] = model.score(df_census_test, df_survey_test[column_name])\n",
    "    string_selected_models = [re.match(r'([a-zA-Z]+)\\(.+', str(model)).group(1) for model in selected_models]\n",
    "    return pd.DataFrame(results, columns=df_survey_train.columns, index=string_selected_models)\n",
    "\n",
    "def wrapper_generate_prediction_df(df_census, df_survey, selected_models, standardize_=True, train_split=0.7):\n",
    "    train_samples = np.random.rand(df_hh.shape[0]) < train_split\n",
    "    df_census_train = df_census.loc[train_samples]\n",
    "    df_census_test = df_census.loc[~train_samples]\n",
    "    df_survey_train = df_survey[train_samples]\n",
    "    df_survey_test = df_survey[~train_samples]\n",
    "    if standardize_:\n",
    "        df_census_train, df_census_test = standardize(df_census_train, df_census_test) \n",
    "    df_results = generate_prediction_df(df_census_train, df_census_test, df_survey_train, df_survey_test, selected_models)\n",
    "    return df_results"
   ]
  },
  {
   "cell_type": "code",
   "execution_count": 7,
   "metadata": {},
   "outputs": [],
   "source": [
    "from sklearn.linear_model import LinearRegression, Lasso, Ridge\n",
    "from sklearn.tree import DecisionTreeRegressor\n",
    "from sklearn.ensemble import GradientBoostingRegressor\n",
    "from sklearn.neural_network import MLPRegressor\n",
    "from sklearn.svm import SVR\n",
    "\n",
    "selected_models = [LinearRegression(), Lasso(max_iter=5000), Ridge(), SVR(), DecisionTreeRegressor(), GradientBoostingRegressor(), MLPRegressor(max_iter=2000, hidden_layer_sizes=(200,))]\n"
   ]
  },
  {
   "cell_type": "markdown",
   "metadata": {},
   "source": [
    "We calculate the $R^2$ score with a standardized data set and without any standardization. Different algorithms improve in performance when standardizing and others have in general no need for standardization like the Gradient Boosting Regressor."
   ]
  },
  {
   "cell_type": "code",
   "execution_count": 9,
   "metadata": {},
   "outputs": [
    {
     "name": "stderr",
     "output_type": "stream",
     "text": [
      "/Users/Max/miniconda3/envs/ada/lib/python3.8/site-packages/sklearn/neural_network/_multilayer_perceptron.py:582: ConvergenceWarning:\n",
      "\n",
      "Stochastic Optimizer: Maximum iterations (2000) reached and the optimization hasn't converged yet.\n",
      "\n",
      "/Users/Max/miniconda3/envs/ada/lib/python3.8/site-packages/sklearn/neural_network/_multilayer_perceptron.py:582: ConvergenceWarning:\n",
      "\n",
      "Stochastic Optimizer: Maximum iterations (2000) reached and the optimization hasn't converged yet.\n",
      "\n",
      "/Users/Max/miniconda3/envs/ada/lib/python3.8/site-packages/sklearn/neural_network/_multilayer_perceptron.py:582: ConvergenceWarning:\n",
      "\n",
      "Stochastic Optimizer: Maximum iterations (2000) reached and the optimization hasn't converged yet.\n",
      "\n"
     ]
    },
    {
     "data": {
      "application/vnd.plotly.v1+json": {
       "config": {
        "plotlyServerURL": "https://plot.ly"
       },
       "data": [
        {
         "coloraxis": "coloraxis",
         "hovertemplate": "x: %{x}<br>y: %{y}<br>color: %{z}<extra></extra>",
         "type": "heatmap",
         "x": [
          "S_HHpeople",
          "S_headage",
          "S_spouseage",
          "S_headeduc",
          "S_spouseeduc",
          "S_rooms",
          "S_waterland",
          "S_waterhouse",
          "S_electricity",
          "S_cementfloor2000",
          "S_hasanimals",
          "S_animalsinside",
          "S_garbage",
          "S_washhands",
          "S_incomepc",
          "S_assetspc",
          "S_shpeoplework",
          "S_microenter",
          "S_hrsworkedpc",
          "S_consumptionpc",
          "S_cashtransfers",
          "S_milkprogram",
          "S_foodprogram",
          "S_dem1",
          "S_dem2",
          "S_dem3",
          "S_dem4",
          "S_dem5",
          "S_dem6",
          "S_dem7",
          "S_dem8",
          "S_seguropopular",
          "S_shcementfloor",
          "S_cementfloorkit",
          "S_cementfloordin",
          "S_cementfloorbat",
          "S_cementfloorbed",
          "S_satisfloor",
          "S_satishouse",
          "S_satislife",
          "S_cesds",
          "S_pss",
          "S_instcement",
          "S_instsanita",
          "S_restsanita",
          "S_constceili",
          "S_restowalls",
          "S_improveany",
          "S_logrent",
          "S_logsell"
         ],
         "y": [
          "LinearRegression",
          "Lasso",
          "Ridge",
          "SVR",
          "DecisionTreeRegressor",
          "GradientBoostingRegressor",
          "MLPRegressor"
         ],
         "z": [
          [
           -0.015099092377387269,
           -0.01744779724515233,
           -0.043558663413096665,
           -0.002514010523556598,
           -0.011806642415704394,
           -0.008710260084971999,
           -0.01252989762967327,
           0.02371747764398202,
           -0.020626236312766055,
           0.04946972170894115,
           0.0022362201266233894,
           -0.010966842677875066,
           0.07463507529284519,
           -0.015211981104591432,
           -0.1202646162207921,
           -0.00761138145564022,
           -0.015910690639596048,
           -0.022562407769700865,
           -0.023455930332692887,
           -0.03275564297736322,
           -0.011735313032036565,
           -0.0017333386063438372,
           -0.008192074451704556,
           -0.06238868267535813,
           -0.015093170050675786,
           -0.013649954991254543,
           0.00039640951515329537,
           -0.015347186434912619,
           -0.02509804730283749,
           -0.026961414528604788,
           -0.049222143477144265,
           -0.007094252150261049,
           0.0684855151130137,
           0.05685492764450495,
           0.05666532428155102,
           -0.0020482325264459256,
           0.018840998054337033,
           0.008426921528899678,
           -0.026271318131411148,
           -0.003566988328966625,
           -0.018624254027377996,
           0.019391578089377304,
           0.10044048309271392,
           -0.0028670199051641365,
           -0.0034841532376965745,
           -0.01991607451858801,
           -0.0014528424805466678,
           -0.012195123190599899,
           0.008214173636863942,
           -0.008267521356106977
          ],
          [
           -0.004511959531379617,
           -0.004872424563073796,
           -0.007259602579866353,
           -0.00030674001257846584,
           -0.004763610207557223,
           -0.004637352211189327,
           -0.00012746734934632187,
           -0.0022511342350692853,
           -0.0012249488286995014,
           -0.0009262541495700383,
           -0.00024744350460781384,
           -0.00041451754607235713,
           -0.0016515591296688559,
           -0.0023185663606752893,
           -0.11449655107581247,
           -0.007130453909861112,
           -0.005969735309732105,
           -0.0004863160272827738,
           -0.007685786113938109,
           -0.0237791598217707,
           -0.0006832072306710568,
           -0.0024474807868473114,
           -1.4481897920415321e-05,
           -0.016106436804019797,
           -0.010672525296981483,
           -0.0008772481024987844,
           -0.0002554208601754926,
           -3.711560123154101e-05,
           -0.008436261631520114,
           -0.00019103615926185924,
           -0.012795518399307149,
           -0.0009520452179909711,
           -0.007259815097125921,
           -0.004359243713168315,
           -0.001028743647881969,
           -0.004322631129991983,
           -0.004520371200949613,
           -0.00010642606114696918,
           -4.754907468407232e-05,
           -0.0037182579359718027,
           -0.005049498653924456,
           -0.001227528878889661,
           -0.011636612693367576,
           -0.005410706204478144,
           -0.005240081150479359,
           -0.012537137127132336,
           -0.010983345222438157,
           -0.016752919511077602,
           -0.005168822381804494,
           -0.0007546251664134473
          ],
          [
           -0.015755848671333172,
           -0.01479425633302367,
           -0.03878105047942615,
           -0.001657418546551881,
           -0.010954681263023236,
           -0.007813335984099723,
           -0.011610337464749154,
           0.023345133470815238,
           -0.01941256822580617,
           0.050479480200607885,
           0.0021824343843791505,
           -0.011269702863332398,
           0.08040710533499196,
           -0.014497623468932463,
           -0.11944521911905093,
           -0.007610549620267415,
           -0.011856173359102717,
           -0.02077642572335381,
           -0.023478199238942565,
           -0.030125917879201047,
           -0.011401422203764833,
           0.00035109333053073843,
           -0.007771115037661813,
           -0.05716800909656139,
           -0.01496610830396583,
           -0.01329426179685722,
           0.0023978690671397906,
           -0.011947002390905404,
           -0.02388405772548441,
           -0.026147893439209424,
           -0.047094995983965715,
           -0.00733371745355238,
           0.06780286243226241,
           0.05810671425603553,
           0.05601813589788174,
           0.00014160105159000125,
           0.019213208209968413,
           0.008762201958039784,
           -0.025064437401145723,
           -0.0035278647319014755,
           -0.017335535216606912,
           0.017675145260742875,
           0.09925256714958208,
           -0.0027263507342680793,
           -0.002819316709705255,
           -0.017782955168109238,
           -0.0002568024535456459,
           -0.008360628683762306,
           0.008608174154104975,
           -0.00724005923255544
          ],
          [
           -0.05652600643376715,
           -0.11987128359538057,
           -0.08728644405553498,
           0.0003902539181144249,
           0.008150321786737469,
           -0.03668435282967186,
           -0.2702034058656566,
           -0.27022837039048864,
           -0.5931229508196703,
           -0.10338477226023746,
           -0.31941259291124213,
           -0.07882582537544436,
           0.05660329130874764,
           -0.04382008288610573,
           -0.034862668857566614,
           -0.004920400160909111,
           -0.05599919656761165,
           0.003283702674717448,
           -0.02266469037951624,
           -0.018192997779779674,
           -0.13775319623422133,
           -0.001997621602938926,
           -0.270203340577126,
           -0.09027782300539644,
           -0.045265288669805503,
           -0.07319384343761337,
           -1.585995571895455,
           -0.0853574006417468,
           -0.012704655092183659,
           -0.08351861905992242,
           -3.249580581052668,
           -0.8479413125215529,
           -0.005216451350275486,
           -0.04213452438488541,
           -0.014343171319195491,
           -0.005152862014240256,
           -0.04561227338750906,
           -0.3007675564079735,
           -0.2597929627852078,
           -0.17380725217797632,
           0.005719527610207664,
           0.03671826313153681,
           0.027542204183060304,
           -0.0022950685936575788,
           -0.02861050379122676,
           -0.07344400589182554,
           0.006574345244110158,
           -0.22082213082295876,
           -0.009907989372657022,
           0.002989516022377181
          ],
          [
           -0.10269037860169172,
           -0.06800787322144419,
           -0.07253058918778654,
           -0.05580166059735081,
           -0.09396119569154271,
           -0.03499501478827827,
           -0.07298083271062694,
           -0.0058537099459614605,
           -0.018958793667392726,
           -0.018242686641286587,
           -0.05022045577066181,
           -0.09534541107567995,
           0.09275125141151597,
           -0.012356287810004085,
           -1.0759174867124184,
           -0.1077560036316414,
           -0.0879526212652666,
           -0.08360638315607649,
           -0.13871362568036738,
           -0.3098468962917964,
           -0.025568175497683754,
           -0.0280618291814414,
           -0.08091234851835383,
           -0.1497889222744806,
           -0.0664908781687823,
           -0.07440808560233125,
           -0.0718633049984243,
           -0.11734872549474051,
           -0.07636672130659017,
           -0.10669716951002073,
           -0.17807930577095088,
           -0.057457219637649715,
           0.04664313968196965,
           0.04919456223622898,
           0.057797114709601805,
           -0.07857163739303785,
           -0.03648454293796899,
           -0.03966166461821241,
           -0.0986028801488219,
           -0.06576226146623143,
           -0.04170370650382038,
           -0.0012092811672697046,
           0.08745482836149743,
           -0.0006806583814895628,
           0.01443490018923188,
           -0.05000461932880684,
           -0.019400324657764312,
           -0.02528150770324511,
           -0.08331999721739591,
           -0.018952861673315002
          ],
          [
           -0.07034126638380278,
           -0.038216446241748914,
           -0.04446615001311294,
           -0.032575462597953075,
           -0.05354750958788834,
           -0.01331674058312804,
           -0.06372079675783127,
           0.019861379281266522,
           -0.016346602432360413,
           0.008805312596666282,
           -0.023133866197844632,
           -0.05357688477285705,
           0.1471637289583959,
           0.004639746956469626,
           -1.0507119934153866,
           -0.057951359461297924,
           -0.05506982372442515,
           -0.06854111891351056,
           -0.09298495347718472,
           -0.3072459840272306,
           -0.013903196038842047,
           -0.02193266920487713,
           -0.07528939062346418,
           -0.10793422044284151,
           -0.03537483340626424,
           -0.049365621471539445,
           -0.04568109040580404,
           -0.07066424023966689,
           -0.058185651609277134,
           -0.08134058959388835,
           -0.14119703653792492,
           -0.05502816916459352,
           0.06094026629819449,
           0.06381279576647714,
           0.07177238636088668,
           -0.05938561976160428,
           -0.006494362026102651,
           -0.010996827596230885,
           -0.060473079406615726,
           -0.0354582295012984,
           0.006556901698111073,
           0.029967688023974537,
           0.12313361506703135,
           0.01204226054117774,
           0.017752748341085534,
           -0.0317193857657756,
           -0.003401375650369909,
           -0.006110315927827736,
           -0.06328176712501121,
           0.009572103752043981
          ],
          [
           -0.05868491905936413,
           -0.019029900569648595,
           -0.04203090449961433,
           -0.016626832545848735,
           -0.0463869411564064,
           -0.015896981593291448,
           -0.07899819808418362,
           0.019072092828988585,
           -0.12856125072172286,
           0.02439637757731361,
           -0.022562561256352476,
           -0.02745442796855735,
           0.13331674266728966,
           0.01961863240710815,
           -0.3574725315669154,
           -0.20778604848199755,
           -0.08947997894393245,
           -0.04371874826340183,
           -0.05795001449888337,
           -0.0747754975210062,
           0.0045751420227594375,
           -0.03367588472208949,
           -0.0248237980879773,
           -0.09497386964393795,
           -0.07619226195614526,
           -0.1297492984341746,
           -0.09547542069621184,
           -0.11523270971562449,
           -0.10014988872475539,
           -0.10324861988288903,
           -0.2847951937232114,
           -0.060982223920235556,
           0.05995019171825855,
           0.07756414066527828,
           0.07604466661837295,
           -0.08007046746687685,
           -0.002108206743229868,
           -0.009787685795534351,
           -0.060151530701296085,
           -0.021805602757729137,
           0.031167537989508776,
           0.06892105786848468,
           0.10498370147997693,
           -0.07164996570059379,
           0.03427540511203331,
           -0.03464133320406004,
           0.02624750211399185,
           -0.0024694631509047937,
           -0.09868605948200937,
           -0.01772334503056805
          ]
         ]
        }
       ],
       "layout": {
        "coloraxis": {
         "colorscale": [
          [
           0,
           "#0d0887"
          ],
          [
           0.1111111111111111,
           "#46039f"
          ],
          [
           0.2222222222222222,
           "#7201a8"
          ],
          [
           0.3333333333333333,
           "#9c179e"
          ],
          [
           0.4444444444444444,
           "#bd3786"
          ],
          [
           0.5555555555555556,
           "#d8576b"
          ],
          [
           0.6666666666666666,
           "#ed7953"
          ],
          [
           0.7777777777777778,
           "#fb9f3a"
          ],
          [
           0.8888888888888888,
           "#fdca26"
          ],
          [
           1,
           "#f0f921"
          ]
         ]
        },
        "margin": {
         "t": 60
        },
        "template": {
         "data": {
          "bar": [
           {
            "error_x": {
             "color": "#2a3f5f"
            },
            "error_y": {
             "color": "#2a3f5f"
            },
            "marker": {
             "line": {
              "color": "#E5ECF6",
              "width": 0.5
             }
            },
            "type": "bar"
           }
          ],
          "barpolar": [
           {
            "marker": {
             "line": {
              "color": "#E5ECF6",
              "width": 0.5
             }
            },
            "type": "barpolar"
           }
          ],
          "carpet": [
           {
            "aaxis": {
             "endlinecolor": "#2a3f5f",
             "gridcolor": "white",
             "linecolor": "white",
             "minorgridcolor": "white",
             "startlinecolor": "#2a3f5f"
            },
            "baxis": {
             "endlinecolor": "#2a3f5f",
             "gridcolor": "white",
             "linecolor": "white",
             "minorgridcolor": "white",
             "startlinecolor": "#2a3f5f"
            },
            "type": "carpet"
           }
          ],
          "choropleth": [
           {
            "colorbar": {
             "outlinewidth": 0,
             "ticks": ""
            },
            "type": "choropleth"
           }
          ],
          "contour": [
           {
            "colorbar": {
             "outlinewidth": 0,
             "ticks": ""
            },
            "colorscale": [
             [
              0,
              "#0d0887"
             ],
             [
              0.1111111111111111,
              "#46039f"
             ],
             [
              0.2222222222222222,
              "#7201a8"
             ],
             [
              0.3333333333333333,
              "#9c179e"
             ],
             [
              0.4444444444444444,
              "#bd3786"
             ],
             [
              0.5555555555555556,
              "#d8576b"
             ],
             [
              0.6666666666666666,
              "#ed7953"
             ],
             [
              0.7777777777777778,
              "#fb9f3a"
             ],
             [
              0.8888888888888888,
              "#fdca26"
             ],
             [
              1,
              "#f0f921"
             ]
            ],
            "type": "contour"
           }
          ],
          "contourcarpet": [
           {
            "colorbar": {
             "outlinewidth": 0,
             "ticks": ""
            },
            "type": "contourcarpet"
           }
          ],
          "heatmap": [
           {
            "colorbar": {
             "outlinewidth": 0,
             "ticks": ""
            },
            "colorscale": [
             [
              0,
              "#0d0887"
             ],
             [
              0.1111111111111111,
              "#46039f"
             ],
             [
              0.2222222222222222,
              "#7201a8"
             ],
             [
              0.3333333333333333,
              "#9c179e"
             ],
             [
              0.4444444444444444,
              "#bd3786"
             ],
             [
              0.5555555555555556,
              "#d8576b"
             ],
             [
              0.6666666666666666,
              "#ed7953"
             ],
             [
              0.7777777777777778,
              "#fb9f3a"
             ],
             [
              0.8888888888888888,
              "#fdca26"
             ],
             [
              1,
              "#f0f921"
             ]
            ],
            "type": "heatmap"
           }
          ],
          "heatmapgl": [
           {
            "colorbar": {
             "outlinewidth": 0,
             "ticks": ""
            },
            "colorscale": [
             [
              0,
              "#0d0887"
             ],
             [
              0.1111111111111111,
              "#46039f"
             ],
             [
              0.2222222222222222,
              "#7201a8"
             ],
             [
              0.3333333333333333,
              "#9c179e"
             ],
             [
              0.4444444444444444,
              "#bd3786"
             ],
             [
              0.5555555555555556,
              "#d8576b"
             ],
             [
              0.6666666666666666,
              "#ed7953"
             ],
             [
              0.7777777777777778,
              "#fb9f3a"
             ],
             [
              0.8888888888888888,
              "#fdca26"
             ],
             [
              1,
              "#f0f921"
             ]
            ],
            "type": "heatmapgl"
           }
          ],
          "histogram": [
           {
            "marker": {
             "colorbar": {
              "outlinewidth": 0,
              "ticks": ""
             }
            },
            "type": "histogram"
           }
          ],
          "histogram2d": [
           {
            "colorbar": {
             "outlinewidth": 0,
             "ticks": ""
            },
            "colorscale": [
             [
              0,
              "#0d0887"
             ],
             [
              0.1111111111111111,
              "#46039f"
             ],
             [
              0.2222222222222222,
              "#7201a8"
             ],
             [
              0.3333333333333333,
              "#9c179e"
             ],
             [
              0.4444444444444444,
              "#bd3786"
             ],
             [
              0.5555555555555556,
              "#d8576b"
             ],
             [
              0.6666666666666666,
              "#ed7953"
             ],
             [
              0.7777777777777778,
              "#fb9f3a"
             ],
             [
              0.8888888888888888,
              "#fdca26"
             ],
             [
              1,
              "#f0f921"
             ]
            ],
            "type": "histogram2d"
           }
          ],
          "histogram2dcontour": [
           {
            "colorbar": {
             "outlinewidth": 0,
             "ticks": ""
            },
            "colorscale": [
             [
              0,
              "#0d0887"
             ],
             [
              0.1111111111111111,
              "#46039f"
             ],
             [
              0.2222222222222222,
              "#7201a8"
             ],
             [
              0.3333333333333333,
              "#9c179e"
             ],
             [
              0.4444444444444444,
              "#bd3786"
             ],
             [
              0.5555555555555556,
              "#d8576b"
             ],
             [
              0.6666666666666666,
              "#ed7953"
             ],
             [
              0.7777777777777778,
              "#fb9f3a"
             ],
             [
              0.8888888888888888,
              "#fdca26"
             ],
             [
              1,
              "#f0f921"
             ]
            ],
            "type": "histogram2dcontour"
           }
          ],
          "mesh3d": [
           {
            "colorbar": {
             "outlinewidth": 0,
             "ticks": ""
            },
            "type": "mesh3d"
           }
          ],
          "parcoords": [
           {
            "line": {
             "colorbar": {
              "outlinewidth": 0,
              "ticks": ""
             }
            },
            "type": "parcoords"
           }
          ],
          "pie": [
           {
            "automargin": true,
            "type": "pie"
           }
          ],
          "scatter": [
           {
            "marker": {
             "colorbar": {
              "outlinewidth": 0,
              "ticks": ""
             }
            },
            "type": "scatter"
           }
          ],
          "scatter3d": [
           {
            "line": {
             "colorbar": {
              "outlinewidth": 0,
              "ticks": ""
             }
            },
            "marker": {
             "colorbar": {
              "outlinewidth": 0,
              "ticks": ""
             }
            },
            "type": "scatter3d"
           }
          ],
          "scattercarpet": [
           {
            "marker": {
             "colorbar": {
              "outlinewidth": 0,
              "ticks": ""
             }
            },
            "type": "scattercarpet"
           }
          ],
          "scattergeo": [
           {
            "marker": {
             "colorbar": {
              "outlinewidth": 0,
              "ticks": ""
             }
            },
            "type": "scattergeo"
           }
          ],
          "scattergl": [
           {
            "marker": {
             "colorbar": {
              "outlinewidth": 0,
              "ticks": ""
             }
            },
            "type": "scattergl"
           }
          ],
          "scattermapbox": [
           {
            "marker": {
             "colorbar": {
              "outlinewidth": 0,
              "ticks": ""
             }
            },
            "type": "scattermapbox"
           }
          ],
          "scatterpolar": [
           {
            "marker": {
             "colorbar": {
              "outlinewidth": 0,
              "ticks": ""
             }
            },
            "type": "scatterpolar"
           }
          ],
          "scatterpolargl": [
           {
            "marker": {
             "colorbar": {
              "outlinewidth": 0,
              "ticks": ""
             }
            },
            "type": "scatterpolargl"
           }
          ],
          "scatterternary": [
           {
            "marker": {
             "colorbar": {
              "outlinewidth": 0,
              "ticks": ""
             }
            },
            "type": "scatterternary"
           }
          ],
          "surface": [
           {
            "colorbar": {
             "outlinewidth": 0,
             "ticks": ""
            },
            "colorscale": [
             [
              0,
              "#0d0887"
             ],
             [
              0.1111111111111111,
              "#46039f"
             ],
             [
              0.2222222222222222,
              "#7201a8"
             ],
             [
              0.3333333333333333,
              "#9c179e"
             ],
             [
              0.4444444444444444,
              "#bd3786"
             ],
             [
              0.5555555555555556,
              "#d8576b"
             ],
             [
              0.6666666666666666,
              "#ed7953"
             ],
             [
              0.7777777777777778,
              "#fb9f3a"
             ],
             [
              0.8888888888888888,
              "#fdca26"
             ],
             [
              1,
              "#f0f921"
             ]
            ],
            "type": "surface"
           }
          ],
          "table": [
           {
            "cells": {
             "fill": {
              "color": "#EBF0F8"
             },
             "line": {
              "color": "white"
             }
            },
            "header": {
             "fill": {
              "color": "#C8D4E3"
             },
             "line": {
              "color": "white"
             }
            },
            "type": "table"
           }
          ]
         },
         "layout": {
          "annotationdefaults": {
           "arrowcolor": "#2a3f5f",
           "arrowhead": 0,
           "arrowwidth": 1
          },
          "coloraxis": {
           "colorbar": {
            "outlinewidth": 0,
            "ticks": ""
           }
          },
          "colorscale": {
           "diverging": [
            [
             0,
             "#8e0152"
            ],
            [
             0.1,
             "#c51b7d"
            ],
            [
             0.2,
             "#de77ae"
            ],
            [
             0.3,
             "#f1b6da"
            ],
            [
             0.4,
             "#fde0ef"
            ],
            [
             0.5,
             "#f7f7f7"
            ],
            [
             0.6,
             "#e6f5d0"
            ],
            [
             0.7,
             "#b8e186"
            ],
            [
             0.8,
             "#7fbc41"
            ],
            [
             0.9,
             "#4d9221"
            ],
            [
             1,
             "#276419"
            ]
           ],
           "sequential": [
            [
             0,
             "#0d0887"
            ],
            [
             0.1111111111111111,
             "#46039f"
            ],
            [
             0.2222222222222222,
             "#7201a8"
            ],
            [
             0.3333333333333333,
             "#9c179e"
            ],
            [
             0.4444444444444444,
             "#bd3786"
            ],
            [
             0.5555555555555556,
             "#d8576b"
            ],
            [
             0.6666666666666666,
             "#ed7953"
            ],
            [
             0.7777777777777778,
             "#fb9f3a"
            ],
            [
             0.8888888888888888,
             "#fdca26"
            ],
            [
             1,
             "#f0f921"
            ]
           ],
           "sequentialminus": [
            [
             0,
             "#0d0887"
            ],
            [
             0.1111111111111111,
             "#46039f"
            ],
            [
             0.2222222222222222,
             "#7201a8"
            ],
            [
             0.3333333333333333,
             "#9c179e"
            ],
            [
             0.4444444444444444,
             "#bd3786"
            ],
            [
             0.5555555555555556,
             "#d8576b"
            ],
            [
             0.6666666666666666,
             "#ed7953"
            ],
            [
             0.7777777777777778,
             "#fb9f3a"
            ],
            [
             0.8888888888888888,
             "#fdca26"
            ],
            [
             1,
             "#f0f921"
            ]
           ]
          },
          "colorway": [
           "#636efa",
           "#EF553B",
           "#00cc96",
           "#ab63fa",
           "#FFA15A",
           "#19d3f3",
           "#FF6692",
           "#B6E880",
           "#FF97FF",
           "#FECB52"
          ],
          "font": {
           "color": "#2a3f5f"
          },
          "geo": {
           "bgcolor": "white",
           "lakecolor": "white",
           "landcolor": "#E5ECF6",
           "showlakes": true,
           "showland": true,
           "subunitcolor": "white"
          },
          "hoverlabel": {
           "align": "left"
          },
          "hovermode": "closest",
          "mapbox": {
           "style": "light"
          },
          "paper_bgcolor": "white",
          "plot_bgcolor": "#E5ECF6",
          "polar": {
           "angularaxis": {
            "gridcolor": "white",
            "linecolor": "white",
            "ticks": ""
           },
           "bgcolor": "#E5ECF6",
           "radialaxis": {
            "gridcolor": "white",
            "linecolor": "white",
            "ticks": ""
           }
          },
          "scene": {
           "xaxis": {
            "backgroundcolor": "#E5ECF6",
            "gridcolor": "white",
            "gridwidth": 2,
            "linecolor": "white",
            "showbackground": true,
            "ticks": "",
            "zerolinecolor": "white"
           },
           "yaxis": {
            "backgroundcolor": "#E5ECF6",
            "gridcolor": "white",
            "gridwidth": 2,
            "linecolor": "white",
            "showbackground": true,
            "ticks": "",
            "zerolinecolor": "white"
           },
           "zaxis": {
            "backgroundcolor": "#E5ECF6",
            "gridcolor": "white",
            "gridwidth": 2,
            "linecolor": "white",
            "showbackground": true,
            "ticks": "",
            "zerolinecolor": "white"
           }
          },
          "shapedefaults": {
           "line": {
            "color": "#2a3f5f"
           }
          },
          "ternary": {
           "aaxis": {
            "gridcolor": "white",
            "linecolor": "white",
            "ticks": ""
           },
           "baxis": {
            "gridcolor": "white",
            "linecolor": "white",
            "ticks": ""
           },
           "bgcolor": "#E5ECF6",
           "caxis": {
            "gridcolor": "white",
            "linecolor": "white",
            "ticks": ""
           }
          },
          "title": {
           "x": 0.05
          },
          "xaxis": {
           "automargin": true,
           "gridcolor": "white",
           "linecolor": "white",
           "ticks": "",
           "title": {
            "standoff": 15
           },
           "zerolinecolor": "white",
           "zerolinewidth": 2
          },
          "yaxis": {
           "automargin": true,
           "gridcolor": "white",
           "linecolor": "white",
           "ticks": "",
           "title": {
            "standoff": 15
           },
           "zerolinecolor": "white",
           "zerolinewidth": 2
          }
         }
        },
        "xaxis": {
         "constrain": "domain",
         "scaleanchor": "y"
        },
        "yaxis": {
         "autorange": "reversed",
         "constrain": "domain"
        }
       }
      },
      "text/html": [
       "<div>                            <div id=\"e92f8c7d-740a-460a-b076-810d63c87f5f\" class=\"plotly-graph-div\" style=\"height:525px; width:100%;\"></div>            <script type=\"text/javascript\">                require([\"plotly\"], function(Plotly) {                    window.PLOTLYENV=window.PLOTLYENV || {};                                    if (document.getElementById(\"e92f8c7d-740a-460a-b076-810d63c87f5f\")) {                    Plotly.newPlot(                        \"e92f8c7d-740a-460a-b076-810d63c87f5f\",                        [{\"coloraxis\": \"coloraxis\", \"hovertemplate\": \"x: %{x}<br>y: %{y}<br>color: %{z}<extra></extra>\", \"type\": \"heatmap\", \"x\": [\"S_HHpeople\", \"S_headage\", \"S_spouseage\", \"S_headeduc\", \"S_spouseeduc\", \"S_rooms\", \"S_waterland\", \"S_waterhouse\", \"S_electricity\", \"S_cementfloor2000\", \"S_hasanimals\", \"S_animalsinside\", \"S_garbage\", \"S_washhands\", \"S_incomepc\", \"S_assetspc\", \"S_shpeoplework\", \"S_microenter\", \"S_hrsworkedpc\", \"S_consumptionpc\", \"S_cashtransfers\", \"S_milkprogram\", \"S_foodprogram\", \"S_dem1\", \"S_dem2\", \"S_dem3\", \"S_dem4\", \"S_dem5\", \"S_dem6\", \"S_dem7\", \"S_dem8\", \"S_seguropopular\", \"S_shcementfloor\", \"S_cementfloorkit\", \"S_cementfloordin\", \"S_cementfloorbat\", \"S_cementfloorbed\", \"S_satisfloor\", \"S_satishouse\", \"S_satislife\", \"S_cesds\", \"S_pss\", \"S_instcement\", \"S_instsanita\", \"S_restsanita\", \"S_constceili\", \"S_restowalls\", \"S_improveany\", \"S_logrent\", \"S_logsell\"], \"y\": [\"LinearRegression\", \"Lasso\", \"Ridge\", \"SVR\", \"DecisionTreeRegressor\", \"GradientBoostingRegressor\", \"MLPRegressor\"], \"z\": [[-0.015099092377387269, -0.01744779724515233, -0.043558663413096665, -0.002514010523556598, -0.011806642415704394, -0.008710260084971999, -0.01252989762967327, 0.02371747764398202, -0.020626236312766055, 0.04946972170894115, 0.0022362201266233894, -0.010966842677875066, 0.07463507529284519, -0.015211981104591432, -0.1202646162207921, -0.00761138145564022, -0.015910690639596048, -0.022562407769700865, -0.023455930332692887, -0.03275564297736322, -0.011735313032036565, -0.0017333386063438372, -0.008192074451704556, -0.06238868267535813, -0.015093170050675786, -0.013649954991254543, 0.00039640951515329537, -0.015347186434912619, -0.02509804730283749, -0.026961414528604788, -0.049222143477144265, -0.007094252150261049, 0.0684855151130137, 0.05685492764450495, 0.05666532428155102, -0.0020482325264459256, 0.018840998054337033, 0.008426921528899678, -0.026271318131411148, -0.003566988328966625, -0.018624254027377996, 0.019391578089377304, 0.10044048309271392, -0.0028670199051641365, -0.0034841532376965745, -0.01991607451858801, -0.0014528424805466678, -0.012195123190599899, 0.008214173636863942, -0.008267521356106977], [-0.004511959531379617, -0.004872424563073796, -0.007259602579866353, -0.00030674001257846584, -0.004763610207557223, -0.004637352211189327, -0.00012746734934632187, -0.0022511342350692853, -0.0012249488286995014, -0.0009262541495700383, -0.00024744350460781384, -0.00041451754607235713, -0.0016515591296688559, -0.0023185663606752893, -0.11449655107581247, -0.007130453909861112, -0.005969735309732105, -0.0004863160272827738, -0.007685786113938109, -0.0237791598217707, -0.0006832072306710568, -0.0024474807868473114, -1.4481897920415321e-05, -0.016106436804019797, -0.010672525296981483, -0.0008772481024987844, -0.0002554208601754926, -3.711560123154101e-05, -0.008436261631520114, -0.00019103615926185924, -0.012795518399307149, -0.0009520452179909711, -0.007259815097125921, -0.004359243713168315, -0.001028743647881969, -0.004322631129991983, -0.004520371200949613, -0.00010642606114696918, -4.754907468407232e-05, -0.0037182579359718027, -0.005049498653924456, -0.001227528878889661, -0.011636612693367576, -0.005410706204478144, -0.005240081150479359, -0.012537137127132336, -0.010983345222438157, -0.016752919511077602, -0.005168822381804494, -0.0007546251664134473], [-0.015755848671333172, -0.01479425633302367, -0.03878105047942615, -0.001657418546551881, -0.010954681263023236, -0.007813335984099723, -0.011610337464749154, 0.023345133470815238, -0.01941256822580617, 0.050479480200607885, 0.0021824343843791505, -0.011269702863332398, 0.08040710533499196, -0.014497623468932463, -0.11944521911905093, -0.007610549620267415, -0.011856173359102717, -0.02077642572335381, -0.023478199238942565, -0.030125917879201047, -0.011401422203764833, 0.00035109333053073843, -0.007771115037661813, -0.05716800909656139, -0.01496610830396583, -0.01329426179685722, 0.0023978690671397906, -0.011947002390905404, -0.02388405772548441, -0.026147893439209424, -0.047094995983965715, -0.00733371745355238, 0.06780286243226241, 0.05810671425603553, 0.05601813589788174, 0.00014160105159000125, 0.019213208209968413, 0.008762201958039784, -0.025064437401145723, -0.0035278647319014755, -0.017335535216606912, 0.017675145260742875, 0.09925256714958208, -0.0027263507342680793, -0.002819316709705255, -0.017782955168109238, -0.0002568024535456459, -0.008360628683762306, 0.008608174154104975, -0.00724005923255544], [-0.05652600643376715, -0.11987128359538057, -0.08728644405553498, 0.0003902539181144249, 0.008150321786737469, -0.03668435282967186, -0.2702034058656566, -0.27022837039048864, -0.5931229508196703, -0.10338477226023746, -0.31941259291124213, -0.07882582537544436, 0.05660329130874764, -0.04382008288610573, -0.034862668857566614, -0.004920400160909111, -0.05599919656761165, 0.003283702674717448, -0.02266469037951624, -0.018192997779779674, -0.13775319623422133, -0.001997621602938926, -0.270203340577126, -0.09027782300539644, -0.045265288669805503, -0.07319384343761337, -1.585995571895455, -0.0853574006417468, -0.012704655092183659, -0.08351861905992242, -3.249580581052668, -0.8479413125215529, -0.005216451350275486, -0.04213452438488541, -0.014343171319195491, -0.005152862014240256, -0.04561227338750906, -0.3007675564079735, -0.2597929627852078, -0.17380725217797632, 0.005719527610207664, 0.03671826313153681, 0.027542204183060304, -0.0022950685936575788, -0.02861050379122676, -0.07344400589182554, 0.006574345244110158, -0.22082213082295876, -0.009907989372657022, 0.002989516022377181], [-0.10269037860169172, -0.06800787322144419, -0.07253058918778654, -0.05580166059735081, -0.09396119569154271, -0.03499501478827827, -0.07298083271062694, -0.0058537099459614605, -0.018958793667392726, -0.018242686641286587, -0.05022045577066181, -0.09534541107567995, 0.09275125141151597, -0.012356287810004085, -1.0759174867124184, -0.1077560036316414, -0.0879526212652666, -0.08360638315607649, -0.13871362568036738, -0.3098468962917964, -0.025568175497683754, -0.0280618291814414, -0.08091234851835383, -0.1497889222744806, -0.0664908781687823, -0.07440808560233125, -0.0718633049984243, -0.11734872549474051, -0.07636672130659017, -0.10669716951002073, -0.17807930577095088, -0.057457219637649715, 0.04664313968196965, 0.04919456223622898, 0.057797114709601805, -0.07857163739303785, -0.03648454293796899, -0.03966166461821241, -0.0986028801488219, -0.06576226146623143, -0.04170370650382038, -0.0012092811672697046, 0.08745482836149743, -0.0006806583814895628, 0.01443490018923188, -0.05000461932880684, -0.019400324657764312, -0.02528150770324511, -0.08331999721739591, -0.018952861673315002], [-0.07034126638380278, -0.038216446241748914, -0.04446615001311294, -0.032575462597953075, -0.05354750958788834, -0.01331674058312804, -0.06372079675783127, 0.019861379281266522, -0.016346602432360413, 0.008805312596666282, -0.023133866197844632, -0.05357688477285705, 0.1471637289583959, 0.004639746956469626, -1.0507119934153866, -0.057951359461297924, -0.05506982372442515, -0.06854111891351056, -0.09298495347718472, -0.3072459840272306, -0.013903196038842047, -0.02193266920487713, -0.07528939062346418, -0.10793422044284151, -0.03537483340626424, -0.049365621471539445, -0.04568109040580404, -0.07066424023966689, -0.058185651609277134, -0.08134058959388835, -0.14119703653792492, -0.05502816916459352, 0.06094026629819449, 0.06381279576647714, 0.07177238636088668, -0.05938561976160428, -0.006494362026102651, -0.010996827596230885, -0.060473079406615726, -0.0354582295012984, 0.006556901698111073, 0.029967688023974537, 0.12313361506703135, 0.01204226054117774, 0.017752748341085534, -0.0317193857657756, -0.003401375650369909, -0.006110315927827736, -0.06328176712501121, 0.009572103752043981], [-0.05868491905936413, -0.019029900569648595, -0.04203090449961433, -0.016626832545848735, -0.0463869411564064, -0.015896981593291448, -0.07899819808418362, 0.019072092828988585, -0.12856125072172286, 0.02439637757731361, -0.022562561256352476, -0.02745442796855735, 0.13331674266728966, 0.01961863240710815, -0.3574725315669154, -0.20778604848199755, -0.08947997894393245, -0.04371874826340183, -0.05795001449888337, -0.0747754975210062, 0.0045751420227594375, -0.03367588472208949, -0.0248237980879773, -0.09497386964393795, -0.07619226195614526, -0.1297492984341746, -0.09547542069621184, -0.11523270971562449, -0.10014988872475539, -0.10324861988288903, -0.2847951937232114, -0.060982223920235556, 0.05995019171825855, 0.07756414066527828, 0.07604466661837295, -0.08007046746687685, -0.002108206743229868, -0.009787685795534351, -0.060151530701296085, -0.021805602757729137, 0.031167537989508776, 0.06892105786848468, 0.10498370147997693, -0.07164996570059379, 0.03427540511203331, -0.03464133320406004, 0.02624750211399185, -0.0024694631509047937, -0.09868605948200937, -0.01772334503056805]]}],                        {\"coloraxis\": {\"colorscale\": [[0.0, \"#0d0887\"], [0.1111111111111111, \"#46039f\"], [0.2222222222222222, \"#7201a8\"], [0.3333333333333333, \"#9c179e\"], [0.4444444444444444, \"#bd3786\"], [0.5555555555555556, \"#d8576b\"], [0.6666666666666666, \"#ed7953\"], [0.7777777777777778, \"#fb9f3a\"], [0.8888888888888888, \"#fdca26\"], [1.0, \"#f0f921\"]]}, \"margin\": {\"t\": 60}, \"template\": {\"data\": {\"bar\": [{\"error_x\": {\"color\": \"#2a3f5f\"}, \"error_y\": {\"color\": \"#2a3f5f\"}, \"marker\": {\"line\": {\"color\": \"#E5ECF6\", \"width\": 0.5}}, \"type\": \"bar\"}], \"barpolar\": [{\"marker\": {\"line\": {\"color\": \"#E5ECF6\", \"width\": 0.5}}, \"type\": \"barpolar\"}], \"carpet\": [{\"aaxis\": {\"endlinecolor\": \"#2a3f5f\", \"gridcolor\": \"white\", \"linecolor\": \"white\", \"minorgridcolor\": \"white\", \"startlinecolor\": \"#2a3f5f\"}, \"baxis\": {\"endlinecolor\": \"#2a3f5f\", \"gridcolor\": \"white\", \"linecolor\": \"white\", \"minorgridcolor\": \"white\", \"startlinecolor\": \"#2a3f5f\"}, \"type\": \"carpet\"}], \"choropleth\": [{\"colorbar\": {\"outlinewidth\": 0, \"ticks\": \"\"}, \"type\": \"choropleth\"}], \"contour\": [{\"colorbar\": {\"outlinewidth\": 0, \"ticks\": \"\"}, \"colorscale\": [[0.0, \"#0d0887\"], [0.1111111111111111, \"#46039f\"], [0.2222222222222222, \"#7201a8\"], [0.3333333333333333, \"#9c179e\"], [0.4444444444444444, \"#bd3786\"], [0.5555555555555556, \"#d8576b\"], [0.6666666666666666, \"#ed7953\"], [0.7777777777777778, \"#fb9f3a\"], [0.8888888888888888, \"#fdca26\"], [1.0, \"#f0f921\"]], \"type\": \"contour\"}], \"contourcarpet\": [{\"colorbar\": {\"outlinewidth\": 0, \"ticks\": \"\"}, \"type\": \"contourcarpet\"}], \"heatmap\": [{\"colorbar\": {\"outlinewidth\": 0, \"ticks\": \"\"}, \"colorscale\": [[0.0, \"#0d0887\"], [0.1111111111111111, \"#46039f\"], [0.2222222222222222, \"#7201a8\"], [0.3333333333333333, \"#9c179e\"], [0.4444444444444444, \"#bd3786\"], [0.5555555555555556, \"#d8576b\"], [0.6666666666666666, \"#ed7953\"], [0.7777777777777778, \"#fb9f3a\"], [0.8888888888888888, \"#fdca26\"], [1.0, \"#f0f921\"]], \"type\": \"heatmap\"}], \"heatmapgl\": [{\"colorbar\": {\"outlinewidth\": 0, \"ticks\": \"\"}, \"colorscale\": [[0.0, \"#0d0887\"], [0.1111111111111111, \"#46039f\"], [0.2222222222222222, \"#7201a8\"], [0.3333333333333333, \"#9c179e\"], [0.4444444444444444, \"#bd3786\"], [0.5555555555555556, \"#d8576b\"], [0.6666666666666666, \"#ed7953\"], [0.7777777777777778, \"#fb9f3a\"], [0.8888888888888888, \"#fdca26\"], [1.0, \"#f0f921\"]], \"type\": \"heatmapgl\"}], \"histogram\": [{\"marker\": {\"colorbar\": {\"outlinewidth\": 0, \"ticks\": \"\"}}, \"type\": \"histogram\"}], \"histogram2d\": [{\"colorbar\": {\"outlinewidth\": 0, \"ticks\": \"\"}, \"colorscale\": [[0.0, \"#0d0887\"], [0.1111111111111111, \"#46039f\"], [0.2222222222222222, \"#7201a8\"], [0.3333333333333333, \"#9c179e\"], [0.4444444444444444, \"#bd3786\"], [0.5555555555555556, \"#d8576b\"], [0.6666666666666666, \"#ed7953\"], [0.7777777777777778, \"#fb9f3a\"], [0.8888888888888888, \"#fdca26\"], [1.0, \"#f0f921\"]], \"type\": \"histogram2d\"}], \"histogram2dcontour\": [{\"colorbar\": {\"outlinewidth\": 0, \"ticks\": \"\"}, \"colorscale\": [[0.0, \"#0d0887\"], [0.1111111111111111, \"#46039f\"], [0.2222222222222222, \"#7201a8\"], [0.3333333333333333, \"#9c179e\"], [0.4444444444444444, \"#bd3786\"], [0.5555555555555556, \"#d8576b\"], [0.6666666666666666, \"#ed7953\"], [0.7777777777777778, \"#fb9f3a\"], [0.8888888888888888, \"#fdca26\"], [1.0, \"#f0f921\"]], \"type\": \"histogram2dcontour\"}], \"mesh3d\": [{\"colorbar\": {\"outlinewidth\": 0, \"ticks\": \"\"}, \"type\": \"mesh3d\"}], \"parcoords\": [{\"line\": {\"colorbar\": {\"outlinewidth\": 0, \"ticks\": \"\"}}, \"type\": \"parcoords\"}], \"pie\": [{\"automargin\": true, \"type\": \"pie\"}], \"scatter\": [{\"marker\": {\"colorbar\": {\"outlinewidth\": 0, \"ticks\": \"\"}}, \"type\": \"scatter\"}], \"scatter3d\": [{\"line\": {\"colorbar\": {\"outlinewidth\": 0, \"ticks\": \"\"}}, \"marker\": {\"colorbar\": {\"outlinewidth\": 0, \"ticks\": \"\"}}, \"type\": \"scatter3d\"}], \"scattercarpet\": [{\"marker\": {\"colorbar\": {\"outlinewidth\": 0, \"ticks\": \"\"}}, \"type\": \"scattercarpet\"}], \"scattergeo\": [{\"marker\": {\"colorbar\": {\"outlinewidth\": 0, \"ticks\": \"\"}}, \"type\": \"scattergeo\"}], \"scattergl\": [{\"marker\": {\"colorbar\": {\"outlinewidth\": 0, \"ticks\": \"\"}}, \"type\": \"scattergl\"}], \"scattermapbox\": [{\"marker\": {\"colorbar\": {\"outlinewidth\": 0, \"ticks\": \"\"}}, \"type\": \"scattermapbox\"}], \"scatterpolar\": [{\"marker\": {\"colorbar\": {\"outlinewidth\": 0, \"ticks\": \"\"}}, \"type\": \"scatterpolar\"}], \"scatterpolargl\": [{\"marker\": {\"colorbar\": {\"outlinewidth\": 0, \"ticks\": \"\"}}, \"type\": \"scatterpolargl\"}], \"scatterternary\": [{\"marker\": {\"colorbar\": {\"outlinewidth\": 0, \"ticks\": \"\"}}, \"type\": \"scatterternary\"}], \"surface\": [{\"colorbar\": {\"outlinewidth\": 0, \"ticks\": \"\"}, \"colorscale\": [[0.0, \"#0d0887\"], [0.1111111111111111, \"#46039f\"], [0.2222222222222222, \"#7201a8\"], [0.3333333333333333, \"#9c179e\"], [0.4444444444444444, \"#bd3786\"], [0.5555555555555556, \"#d8576b\"], [0.6666666666666666, \"#ed7953\"], [0.7777777777777778, \"#fb9f3a\"], [0.8888888888888888, \"#fdca26\"], [1.0, \"#f0f921\"]], \"type\": \"surface\"}], \"table\": [{\"cells\": {\"fill\": {\"color\": \"#EBF0F8\"}, \"line\": {\"color\": \"white\"}}, \"header\": {\"fill\": {\"color\": \"#C8D4E3\"}, \"line\": {\"color\": \"white\"}}, \"type\": \"table\"}]}, \"layout\": {\"annotationdefaults\": {\"arrowcolor\": \"#2a3f5f\", \"arrowhead\": 0, \"arrowwidth\": 1}, \"coloraxis\": {\"colorbar\": {\"outlinewidth\": 0, \"ticks\": \"\"}}, \"colorscale\": {\"diverging\": [[0, \"#8e0152\"], [0.1, \"#c51b7d\"], [0.2, \"#de77ae\"], [0.3, \"#f1b6da\"], [0.4, \"#fde0ef\"], [0.5, \"#f7f7f7\"], [0.6, \"#e6f5d0\"], [0.7, \"#b8e186\"], [0.8, \"#7fbc41\"], [0.9, \"#4d9221\"], [1, \"#276419\"]], \"sequential\": [[0.0, \"#0d0887\"], [0.1111111111111111, \"#46039f\"], [0.2222222222222222, \"#7201a8\"], [0.3333333333333333, \"#9c179e\"], [0.4444444444444444, \"#bd3786\"], [0.5555555555555556, \"#d8576b\"], [0.6666666666666666, \"#ed7953\"], [0.7777777777777778, \"#fb9f3a\"], [0.8888888888888888, \"#fdca26\"], [1.0, \"#f0f921\"]], \"sequentialminus\": [[0.0, \"#0d0887\"], [0.1111111111111111, \"#46039f\"], [0.2222222222222222, \"#7201a8\"], [0.3333333333333333, \"#9c179e\"], [0.4444444444444444, \"#bd3786\"], [0.5555555555555556, \"#d8576b\"], [0.6666666666666666, \"#ed7953\"], [0.7777777777777778, \"#fb9f3a\"], [0.8888888888888888, \"#fdca26\"], [1.0, \"#f0f921\"]]}, \"colorway\": [\"#636efa\", \"#EF553B\", \"#00cc96\", \"#ab63fa\", \"#FFA15A\", \"#19d3f3\", \"#FF6692\", \"#B6E880\", \"#FF97FF\", \"#FECB52\"], \"font\": {\"color\": \"#2a3f5f\"}, \"geo\": {\"bgcolor\": \"white\", \"lakecolor\": \"white\", \"landcolor\": \"#E5ECF6\", \"showlakes\": true, \"showland\": true, \"subunitcolor\": \"white\"}, \"hoverlabel\": {\"align\": \"left\"}, \"hovermode\": \"closest\", \"mapbox\": {\"style\": \"light\"}, \"paper_bgcolor\": \"white\", \"plot_bgcolor\": \"#E5ECF6\", \"polar\": {\"angularaxis\": {\"gridcolor\": \"white\", \"linecolor\": \"white\", \"ticks\": \"\"}, \"bgcolor\": \"#E5ECF6\", \"radialaxis\": {\"gridcolor\": \"white\", \"linecolor\": \"white\", \"ticks\": \"\"}}, \"scene\": {\"xaxis\": {\"backgroundcolor\": \"#E5ECF6\", \"gridcolor\": \"white\", \"gridwidth\": 2, \"linecolor\": \"white\", \"showbackground\": true, \"ticks\": \"\", \"zerolinecolor\": \"white\"}, \"yaxis\": {\"backgroundcolor\": \"#E5ECF6\", \"gridcolor\": \"white\", \"gridwidth\": 2, \"linecolor\": \"white\", \"showbackground\": true, \"ticks\": \"\", \"zerolinecolor\": \"white\"}, \"zaxis\": {\"backgroundcolor\": \"#E5ECF6\", \"gridcolor\": \"white\", \"gridwidth\": 2, \"linecolor\": \"white\", \"showbackground\": true, \"ticks\": \"\", \"zerolinecolor\": \"white\"}}, \"shapedefaults\": {\"line\": {\"color\": \"#2a3f5f\"}}, \"ternary\": {\"aaxis\": {\"gridcolor\": \"white\", \"linecolor\": \"white\", \"ticks\": \"\"}, \"baxis\": {\"gridcolor\": \"white\", \"linecolor\": \"white\", \"ticks\": \"\"}, \"bgcolor\": \"#E5ECF6\", \"caxis\": {\"gridcolor\": \"white\", \"linecolor\": \"white\", \"ticks\": \"\"}}, \"title\": {\"x\": 0.05}, \"xaxis\": {\"automargin\": true, \"gridcolor\": \"white\", \"linecolor\": \"white\", \"ticks\": \"\", \"title\": {\"standoff\": 15}, \"zerolinecolor\": \"white\", \"zerolinewidth\": 2}, \"yaxis\": {\"automargin\": true, \"gridcolor\": \"white\", \"linecolor\": \"white\", \"ticks\": \"\", \"title\": {\"standoff\": 15}, \"zerolinecolor\": \"white\", \"zerolinewidth\": 2}}}, \"xaxis\": {\"constrain\": \"domain\", \"scaleanchor\": \"y\"}, \"yaxis\": {\"autorange\": \"reversed\", \"constrain\": \"domain\"}},                        {\"responsive\": true}                    ).then(function(){\n",
       "                            \n",
       "var gd = document.getElementById('e92f8c7d-740a-460a-b076-810d63c87f5f');\n",
       "var x = new MutationObserver(function (mutations, observer) {{\n",
       "        var display = window.getComputedStyle(gd).display;\n",
       "        if (!display || display === 'none') {{\n",
       "            console.log([gd, 'removed!']);\n",
       "            Plotly.purge(gd);\n",
       "            observer.disconnect();\n",
       "        }}\n",
       "}});\n",
       "\n",
       "// Listen for the removal of the full notebook cells\n",
       "var notebookContainer = gd.closest('#notebook-container');\n",
       "if (notebookContainer) {{\n",
       "    x.observe(notebookContainer, {childList: true});\n",
       "}}\n",
       "\n",
       "// Listen for the clearing of the current output cell\n",
       "var outputEl = gd.closest('.output');\n",
       "if (outputEl) {{\n",
       "    x.observe(outputEl, {childList: true});\n",
       "}}\n",
       "\n",
       "                        })                };                });            </script>        </div>"
      ]
     },
     "metadata": {},
     "output_type": "display_data"
    }
   ],
   "source": [
    "# With standardization\n",
    "df_results_standardized = wrapper_generate_prediction_df(df_census, df_survey, selected_models, standardize_=True)\n",
    "import plotly.express as px\n",
    "fig = px.imshow(df_results_standardized)\n",
    "fig.show()"
   ]
  },
  {
   "cell_type": "code",
   "execution_count": 11,
   "metadata": {},
   "outputs": [
    {
     "name": "stderr",
     "output_type": "stream",
     "text": [
      "/Users/Max/miniconda3/envs/ada/lib/python3.8/site-packages/sklearn/linear_model/_coordinate_descent.py:529: ConvergenceWarning:\n",
      "\n",
      "Objective did not converge. You might want to increase the number of iterations. Duality gap: 8740057.626247406, tolerance: 2226536.8402949325\n",
      "\n",
      "/Users/Max/miniconda3/envs/ada/lib/python3.8/site-packages/sklearn/linear_model/_coordinate_descent.py:529: ConvergenceWarning:\n",
      "\n",
      "Objective did not converge. You might want to increase the number of iterations. Duality gap: 8251146659.292706, tolerance: 6609362.073838578\n",
      "\n",
      "/Users/Max/miniconda3/envs/ada/lib/python3.8/site-packages/sklearn/linear_model/_coordinate_descent.py:529: ConvergenceWarning:\n",
      "\n",
      "Objective did not converge. You might want to increase the number of iterations. Duality gap: 582958.52480793, tolerance: 293296.135206587\n",
      "\n"
     ]
    },
    {
     "data": {
      "application/vnd.plotly.v1+json": {
       "config": {
        "plotlyServerURL": "https://plot.ly"
       },
       "data": [
        {
         "coloraxis": "coloraxis",
         "hovertemplate": "x: %{x}<br>y: %{y}<br>color: %{z}<extra></extra>",
         "type": "heatmap",
         "x": [
          "S_HHpeople",
          "S_headage",
          "S_spouseage",
          "S_headeduc",
          "S_spouseeduc",
          "S_rooms",
          "S_waterland",
          "S_waterhouse",
          "S_electricity",
          "S_cementfloor2000",
          "S_hasanimals",
          "S_animalsinside",
          "S_garbage",
          "S_washhands",
          "S_incomepc",
          "S_assetspc",
          "S_shpeoplework",
          "S_microenter",
          "S_hrsworkedpc",
          "S_consumptionpc",
          "S_cashtransfers",
          "S_milkprogram",
          "S_foodprogram",
          "S_dem1",
          "S_dem2",
          "S_dem3",
          "S_dem4",
          "S_dem5",
          "S_dem6",
          "S_dem7",
          "S_dem8",
          "S_seguropopular",
          "S_shcementfloor",
          "S_cementfloorkit",
          "S_cementfloordin",
          "S_cementfloorbat",
          "S_cementfloorbed",
          "S_satisfloor",
          "S_satishouse",
          "S_satislife",
          "S_cesds",
          "S_pss",
          "S_instcement",
          "S_instsanita",
          "S_restsanita",
          "S_constceili",
          "S_restowalls",
          "S_improveany",
          "S_logrent",
          "S_logsell"
         ],
         "y": [
          "LinearRegression",
          "Lasso",
          "Ridge",
          "SVR",
          "DecisionTreeRegressor",
          "GradientBoostingRegressor"
         ],
         "z": [
          [
           -0.028160078409922296,
           -0.03119301033367128,
           -0.023061545931386318,
           -0.014069109378729072,
           -0.03927539763289456,
           0.0057715337843684544,
           -0.005023151524768732,
           0.03136730830816048,
           -0.04392528913411464,
           0.06375649603688971,
           0.0026234492401387977,
           -0.004841214741659217,
           0.17792623581425826,
           -0.018025355424653222,
           -0.10747740465709876,
           -0.04066245234741883,
           0.002335557297237001,
           -0.015577445215138042,
           0.0017917283753943192,
           -0.04739247594603935,
           -0.038708720409612596,
           -0.002424919949684412,
           0.014938021542433622,
           -0.02142356455521255,
           -0.001280482589091969,
           -0.006986480042442844,
           -0.014013595309474658,
           -0.01034061636653516,
           -0.026920059767922888,
           -0.03068303368260583,
           0.001171748750485202,
           -0.0296772186891181,
           0.073936527714898,
           0.05737625093066723,
           0.043463284035109906,
           0.016634634724983943,
           0.05028965462603241,
           0.015575186311527989,
           -0.008682986267443793,
           -0.030176959477996812,
           0.005190361824718215,
           0.012503057591904398,
           0.13686700044896494,
           -0.013805228788052126,
           0.005509986532773459,
           0.009840469322282441,
           -0.007603379169502711,
           0.02169386071450974,
           -0.010641705876297758,
           0.013626741136341658
          ],
          [
           -0.010945695762824448,
           -0.019280219420098277,
           -0.009917397364698877,
           -0.015648397117240087,
           -0.021386559695304452,
           -0.01391329908911243,
           -0.0025108488586023103,
           0.017045542233054323,
           -0.011738206978468169,
           0.020536948630187957,
           -0.0014947008951962104,
           -0.0004084089621367859,
           0.035643489996897926,
           -0.00339918067574696,
           -0.07738706366095305,
           -0.033433536217040594,
           -0.0023467154992049544,
           -0.001272688598723759,
           0.007655081809491815,
           -0.03069764944292719,
           -0.00775359863382552,
           0.010664140427450342,
           -0.003148065089446872,
           -0.005860700110985606,
           -0.000219964266066075,
           0.002076499682950872,
           -0.01474639278809442,
           -0.007747543233293852,
           -0.000587437579470329,
           -0.0031758663895200545,
           -0.002345509144691782,
           -0.00010865161221995656,
           0.001628236334012989,
           0.0003537485741096358,
           0.000666079987946655,
           0.0077508358672949695,
           -0.0009916912866361205,
           0.0001637835551759892,
           -0.000249119648961571,
           -0.00405124205837426,
           0.010412188455512617,
           0.01148467500935435,
           0.01675368459862059,
           0.006732041067296635,
           0.0036100881472538315,
           -0.0042777967426133046,
           0.002812613165418698,
           0.007720666497812112,
           0.007545322989686909,
           0.006296221724980122
          ],
          [
           -0.0180222737961222,
           -0.027801148024773514,
           -0.020307596632595626,
           -0.011656943165116784,
           -0.03694412936088809,
           0.013253147612410698,
           -0.005321993651419943,
           0.03829749416162154,
           -0.03529121266028601,
           0.07028536093116067,
           0.0056537850960675096,
           0.003094725544989907,
           0.17607282552880077,
           -0.004722095969662776,
           -0.08223222312517176,
           -0.02001324019957651,
           0.0072873739859338205,
           -0.009064715914978372,
           0.00722699010727923,
           -0.033821003201635946,
           -0.028609059693067707,
           0.001380617474653456,
           0.015720408826262133,
           -0.014000036354210765,
           -0.0016367517954980482,
           0.0028606688284938953,
           -0.003055292002168919,
           -0.010556717128899162,
           -0.009314209966202913,
           -0.020918366333746663,
           0.002558615080782478,
           -0.022813777896818266,
           0.06728588447737116,
           0.05184345950969771,
           0.04410236700409498,
           0.02023714321525305,
           0.04852993231138225,
           0.018089653613613366,
           -0.005326014578310279,
           -0.021612230330941173,
           0.009869340261998372,
           0.016459166883086462,
           0.12516307975530672,
           -0.0036792480629239677,
           0.012339429498372079,
           0.013702495436625162,
           0.0014662776715153036,
           0.024352393523310756,
           -0.0019037672231281277,
           0.01718257040407145
          ],
          [
           -0.03511774718162797,
           -0.04266132377478593,
           -0.01674627322096711,
           -0.04146016926356322,
           -0.051519167382716,
           0.008368411542704624,
           -0.20395593767395037,
           -0.17100930267055614,
           -1.9197529763627212,
           -0.0932724511553309,
           -0.25181538324359054,
           -0.05801987829362343,
           -0.03597320716181529,
           -0.12445664339341511,
           -0.028321226383889897,
           -0.021235707068055776,
           0.0001240097039609811,
           -0.0003411513859277182,
           -0.06115553107984795,
           -0.01306510370386671,
           -0.1531298111966668,
           -0.009748847280895756,
           -0.18597126535540687,
           -0.08606472524369901,
           -0.018839373731908582,
           -0.021293450105701606,
           -1.9835224590875864,
           -0.11533771391017722,
           -0.011400531704350847,
           -0.014856416665017802,
           -2.6217562316248144,
           -0.7247572851685495,
           -0.06635219374513834,
           -0.07614464442134183,
           -0.05504386716603471,
           -0.015342162640035184,
           -0.09389032132875519,
           -0.27433744158557305,
           -0.2597401803062118,
           -0.21943829471433074,
           -0.01002906379764723,
           -0.0017516612398924547,
           -0.19133638562104616,
           -0.0006447449419364482,
           -0.055999740798341024,
           -0.03365048779058388,
           -0.004546054618572937,
           -0.19706800131736002,
           -0.001958281160822972,
           3.8764058546525426e-05
          ],
          [
           -0.16693846849731453,
           -0.2146124518943271,
           -0.12429333313846191,
           -0.1019717592802154,
           -0.15199027135867849,
           -0.04331213965376146,
           0.006528507584307119,
           -0.007163878115447719,
           -0.06866536883202268,
           -0.019245313579362877,
           -0.08027162013673794,
           -0.07500792532007683,
           0.30212621124917294,
           -0.0018238950105129437,
           -0.4373405416993972,
           -0.09154052125957546,
           -0.07296921744994411,
           -0.04633364365379844,
           -0.06865955171189508,
           -0.09688721716900472,
           -0.11189749431837615,
           -0.06659635653425622,
           -0.08467313453472847,
           -0.10269475946781248,
           -0.046602019042782494,
           -0.13400398118007084,
           -0.17679655498114277,
           -0.06426255813561732,
           -0.1645015297990733,
           -0.10484905043742221,
           -0.1759715955339114,
           -0.045381481938309376,
           0.1296344745483794,
           0.037738079160583804,
           0.09401847444047373,
           0.024808947295854034,
           0.031260222876663635,
           -0.009620388220510367,
           -0.06854901780867517,
           -0.09465011476467344,
           -0.017129720150936167,
           -0.005318387104701117,
           0.20073928710284028,
           -0.11918793141138839,
           -0.050731823934971,
           -0.040185137795051507,
           -0.009389871571324981,
           0.021736297477833566,
           -0.05707931341646888,
           0.01673187629518702
          ],
          [
           -0.1305146083383546,
           -0.17141997895641903,
           -0.0976652337368551,
           -0.06263818545177502,
           -0.08904213056312416,
           -0.018205789171062303,
           0.007789920730004174,
           0.022452010793514,
           -0.06320194561152226,
           0.004092908536764028,
           -0.046083320893220536,
           -0.051140693493578526,
           0.3027184185615617,
           0.015106821009266747,
           -0.4102795380819022,
           -0.07320755047958438,
           -0.03815080985917696,
           -0.03288298449248761,
           -0.044661213912374764,
           -0.08455553773969382,
           -0.09802643195871341,
           -0.05199766244354498,
           -0.07105083161518277,
           -0.07241037220339108,
           -0.024519350363060077,
           -0.10098958251852563,
           -0.1348833950549897,
           -0.03972200500156453,
           -0.12155549364272233,
           -0.08122980228164,
           -0.1309201531573525,
           -0.04440066297344747,
           0.12615276434684541,
           0.0445749062354206,
           0.10622003697551596,
           0.03355370305090888,
           0.048942450738995724,
           0.022749008087283307,
           -0.047824373680736,
           -0.06849035637438661,
           0.01218538621958798,
           0.009786237026777056,
           0.2161717801851143,
           -0.10369960664332845,
           -0.03609430418379689,
           -0.011911456875003834,
           0.002123269640754044,
           0.033791593352409,
           -0.04791303537236957,
           0.042621141902335125
          ]
         ]
        }
       ],
       "layout": {
        "coloraxis": {
         "colorscale": [
          [
           0,
           "#0d0887"
          ],
          [
           0.1111111111111111,
           "#46039f"
          ],
          [
           0.2222222222222222,
           "#7201a8"
          ],
          [
           0.3333333333333333,
           "#9c179e"
          ],
          [
           0.4444444444444444,
           "#bd3786"
          ],
          [
           0.5555555555555556,
           "#d8576b"
          ],
          [
           0.6666666666666666,
           "#ed7953"
          ],
          [
           0.7777777777777778,
           "#fb9f3a"
          ],
          [
           0.8888888888888888,
           "#fdca26"
          ],
          [
           1,
           "#f0f921"
          ]
         ]
        },
        "margin": {
         "t": 60
        },
        "template": {
         "data": {
          "bar": [
           {
            "error_x": {
             "color": "#2a3f5f"
            },
            "error_y": {
             "color": "#2a3f5f"
            },
            "marker": {
             "line": {
              "color": "#E5ECF6",
              "width": 0.5
             }
            },
            "type": "bar"
           }
          ],
          "barpolar": [
           {
            "marker": {
             "line": {
              "color": "#E5ECF6",
              "width": 0.5
             }
            },
            "type": "barpolar"
           }
          ],
          "carpet": [
           {
            "aaxis": {
             "endlinecolor": "#2a3f5f",
             "gridcolor": "white",
             "linecolor": "white",
             "minorgridcolor": "white",
             "startlinecolor": "#2a3f5f"
            },
            "baxis": {
             "endlinecolor": "#2a3f5f",
             "gridcolor": "white",
             "linecolor": "white",
             "minorgridcolor": "white",
             "startlinecolor": "#2a3f5f"
            },
            "type": "carpet"
           }
          ],
          "choropleth": [
           {
            "colorbar": {
             "outlinewidth": 0,
             "ticks": ""
            },
            "type": "choropleth"
           }
          ],
          "contour": [
           {
            "colorbar": {
             "outlinewidth": 0,
             "ticks": ""
            },
            "colorscale": [
             [
              0,
              "#0d0887"
             ],
             [
              0.1111111111111111,
              "#46039f"
             ],
             [
              0.2222222222222222,
              "#7201a8"
             ],
             [
              0.3333333333333333,
              "#9c179e"
             ],
             [
              0.4444444444444444,
              "#bd3786"
             ],
             [
              0.5555555555555556,
              "#d8576b"
             ],
             [
              0.6666666666666666,
              "#ed7953"
             ],
             [
              0.7777777777777778,
              "#fb9f3a"
             ],
             [
              0.8888888888888888,
              "#fdca26"
             ],
             [
              1,
              "#f0f921"
             ]
            ],
            "type": "contour"
           }
          ],
          "contourcarpet": [
           {
            "colorbar": {
             "outlinewidth": 0,
             "ticks": ""
            },
            "type": "contourcarpet"
           }
          ],
          "heatmap": [
           {
            "colorbar": {
             "outlinewidth": 0,
             "ticks": ""
            },
            "colorscale": [
             [
              0,
              "#0d0887"
             ],
             [
              0.1111111111111111,
              "#46039f"
             ],
             [
              0.2222222222222222,
              "#7201a8"
             ],
             [
              0.3333333333333333,
              "#9c179e"
             ],
             [
              0.4444444444444444,
              "#bd3786"
             ],
             [
              0.5555555555555556,
              "#d8576b"
             ],
             [
              0.6666666666666666,
              "#ed7953"
             ],
             [
              0.7777777777777778,
              "#fb9f3a"
             ],
             [
              0.8888888888888888,
              "#fdca26"
             ],
             [
              1,
              "#f0f921"
             ]
            ],
            "type": "heatmap"
           }
          ],
          "heatmapgl": [
           {
            "colorbar": {
             "outlinewidth": 0,
             "ticks": ""
            },
            "colorscale": [
             [
              0,
              "#0d0887"
             ],
             [
              0.1111111111111111,
              "#46039f"
             ],
             [
              0.2222222222222222,
              "#7201a8"
             ],
             [
              0.3333333333333333,
              "#9c179e"
             ],
             [
              0.4444444444444444,
              "#bd3786"
             ],
             [
              0.5555555555555556,
              "#d8576b"
             ],
             [
              0.6666666666666666,
              "#ed7953"
             ],
             [
              0.7777777777777778,
              "#fb9f3a"
             ],
             [
              0.8888888888888888,
              "#fdca26"
             ],
             [
              1,
              "#f0f921"
             ]
            ],
            "type": "heatmapgl"
           }
          ],
          "histogram": [
           {
            "marker": {
             "colorbar": {
              "outlinewidth": 0,
              "ticks": ""
             }
            },
            "type": "histogram"
           }
          ],
          "histogram2d": [
           {
            "colorbar": {
             "outlinewidth": 0,
             "ticks": ""
            },
            "colorscale": [
             [
              0,
              "#0d0887"
             ],
             [
              0.1111111111111111,
              "#46039f"
             ],
             [
              0.2222222222222222,
              "#7201a8"
             ],
             [
              0.3333333333333333,
              "#9c179e"
             ],
             [
              0.4444444444444444,
              "#bd3786"
             ],
             [
              0.5555555555555556,
              "#d8576b"
             ],
             [
              0.6666666666666666,
              "#ed7953"
             ],
             [
              0.7777777777777778,
              "#fb9f3a"
             ],
             [
              0.8888888888888888,
              "#fdca26"
             ],
             [
              1,
              "#f0f921"
             ]
            ],
            "type": "histogram2d"
           }
          ],
          "histogram2dcontour": [
           {
            "colorbar": {
             "outlinewidth": 0,
             "ticks": ""
            },
            "colorscale": [
             [
              0,
              "#0d0887"
             ],
             [
              0.1111111111111111,
              "#46039f"
             ],
             [
              0.2222222222222222,
              "#7201a8"
             ],
             [
              0.3333333333333333,
              "#9c179e"
             ],
             [
              0.4444444444444444,
              "#bd3786"
             ],
             [
              0.5555555555555556,
              "#d8576b"
             ],
             [
              0.6666666666666666,
              "#ed7953"
             ],
             [
              0.7777777777777778,
              "#fb9f3a"
             ],
             [
              0.8888888888888888,
              "#fdca26"
             ],
             [
              1,
              "#f0f921"
             ]
            ],
            "type": "histogram2dcontour"
           }
          ],
          "mesh3d": [
           {
            "colorbar": {
             "outlinewidth": 0,
             "ticks": ""
            },
            "type": "mesh3d"
           }
          ],
          "parcoords": [
           {
            "line": {
             "colorbar": {
              "outlinewidth": 0,
              "ticks": ""
             }
            },
            "type": "parcoords"
           }
          ],
          "pie": [
           {
            "automargin": true,
            "type": "pie"
           }
          ],
          "scatter": [
           {
            "marker": {
             "colorbar": {
              "outlinewidth": 0,
              "ticks": ""
             }
            },
            "type": "scatter"
           }
          ],
          "scatter3d": [
           {
            "line": {
             "colorbar": {
              "outlinewidth": 0,
              "ticks": ""
             }
            },
            "marker": {
             "colorbar": {
              "outlinewidth": 0,
              "ticks": ""
             }
            },
            "type": "scatter3d"
           }
          ],
          "scattercarpet": [
           {
            "marker": {
             "colorbar": {
              "outlinewidth": 0,
              "ticks": ""
             }
            },
            "type": "scattercarpet"
           }
          ],
          "scattergeo": [
           {
            "marker": {
             "colorbar": {
              "outlinewidth": 0,
              "ticks": ""
             }
            },
            "type": "scattergeo"
           }
          ],
          "scattergl": [
           {
            "marker": {
             "colorbar": {
              "outlinewidth": 0,
              "ticks": ""
             }
            },
            "type": "scattergl"
           }
          ],
          "scattermapbox": [
           {
            "marker": {
             "colorbar": {
              "outlinewidth": 0,
              "ticks": ""
             }
            },
            "type": "scattermapbox"
           }
          ],
          "scatterpolar": [
           {
            "marker": {
             "colorbar": {
              "outlinewidth": 0,
              "ticks": ""
             }
            },
            "type": "scatterpolar"
           }
          ],
          "scatterpolargl": [
           {
            "marker": {
             "colorbar": {
              "outlinewidth": 0,
              "ticks": ""
             }
            },
            "type": "scatterpolargl"
           }
          ],
          "scatterternary": [
           {
            "marker": {
             "colorbar": {
              "outlinewidth": 0,
              "ticks": ""
             }
            },
            "type": "scatterternary"
           }
          ],
          "surface": [
           {
            "colorbar": {
             "outlinewidth": 0,
             "ticks": ""
            },
            "colorscale": [
             [
              0,
              "#0d0887"
             ],
             [
              0.1111111111111111,
              "#46039f"
             ],
             [
              0.2222222222222222,
              "#7201a8"
             ],
             [
              0.3333333333333333,
              "#9c179e"
             ],
             [
              0.4444444444444444,
              "#bd3786"
             ],
             [
              0.5555555555555556,
              "#d8576b"
             ],
             [
              0.6666666666666666,
              "#ed7953"
             ],
             [
              0.7777777777777778,
              "#fb9f3a"
             ],
             [
              0.8888888888888888,
              "#fdca26"
             ],
             [
              1,
              "#f0f921"
             ]
            ],
            "type": "surface"
           }
          ],
          "table": [
           {
            "cells": {
             "fill": {
              "color": "#EBF0F8"
             },
             "line": {
              "color": "white"
             }
            },
            "header": {
             "fill": {
              "color": "#C8D4E3"
             },
             "line": {
              "color": "white"
             }
            },
            "type": "table"
           }
          ]
         },
         "layout": {
          "annotationdefaults": {
           "arrowcolor": "#2a3f5f",
           "arrowhead": 0,
           "arrowwidth": 1
          },
          "coloraxis": {
           "colorbar": {
            "outlinewidth": 0,
            "ticks": ""
           }
          },
          "colorscale": {
           "diverging": [
            [
             0,
             "#8e0152"
            ],
            [
             0.1,
             "#c51b7d"
            ],
            [
             0.2,
             "#de77ae"
            ],
            [
             0.3,
             "#f1b6da"
            ],
            [
             0.4,
             "#fde0ef"
            ],
            [
             0.5,
             "#f7f7f7"
            ],
            [
             0.6,
             "#e6f5d0"
            ],
            [
             0.7,
             "#b8e186"
            ],
            [
             0.8,
             "#7fbc41"
            ],
            [
             0.9,
             "#4d9221"
            ],
            [
             1,
             "#276419"
            ]
           ],
           "sequential": [
            [
             0,
             "#0d0887"
            ],
            [
             0.1111111111111111,
             "#46039f"
            ],
            [
             0.2222222222222222,
             "#7201a8"
            ],
            [
             0.3333333333333333,
             "#9c179e"
            ],
            [
             0.4444444444444444,
             "#bd3786"
            ],
            [
             0.5555555555555556,
             "#d8576b"
            ],
            [
             0.6666666666666666,
             "#ed7953"
            ],
            [
             0.7777777777777778,
             "#fb9f3a"
            ],
            [
             0.8888888888888888,
             "#fdca26"
            ],
            [
             1,
             "#f0f921"
            ]
           ],
           "sequentialminus": [
            [
             0,
             "#0d0887"
            ],
            [
             0.1111111111111111,
             "#46039f"
            ],
            [
             0.2222222222222222,
             "#7201a8"
            ],
            [
             0.3333333333333333,
             "#9c179e"
            ],
            [
             0.4444444444444444,
             "#bd3786"
            ],
            [
             0.5555555555555556,
             "#d8576b"
            ],
            [
             0.6666666666666666,
             "#ed7953"
            ],
            [
             0.7777777777777778,
             "#fb9f3a"
            ],
            [
             0.8888888888888888,
             "#fdca26"
            ],
            [
             1,
             "#f0f921"
            ]
           ]
          },
          "colorway": [
           "#636efa",
           "#EF553B",
           "#00cc96",
           "#ab63fa",
           "#FFA15A",
           "#19d3f3",
           "#FF6692",
           "#B6E880",
           "#FF97FF",
           "#FECB52"
          ],
          "font": {
           "color": "#2a3f5f"
          },
          "geo": {
           "bgcolor": "white",
           "lakecolor": "white",
           "landcolor": "#E5ECF6",
           "showlakes": true,
           "showland": true,
           "subunitcolor": "white"
          },
          "hoverlabel": {
           "align": "left"
          },
          "hovermode": "closest",
          "mapbox": {
           "style": "light"
          },
          "paper_bgcolor": "white",
          "plot_bgcolor": "#E5ECF6",
          "polar": {
           "angularaxis": {
            "gridcolor": "white",
            "linecolor": "white",
            "ticks": ""
           },
           "bgcolor": "#E5ECF6",
           "radialaxis": {
            "gridcolor": "white",
            "linecolor": "white",
            "ticks": ""
           }
          },
          "scene": {
           "xaxis": {
            "backgroundcolor": "#E5ECF6",
            "gridcolor": "white",
            "gridwidth": 2,
            "linecolor": "white",
            "showbackground": true,
            "ticks": "",
            "zerolinecolor": "white"
           },
           "yaxis": {
            "backgroundcolor": "#E5ECF6",
            "gridcolor": "white",
            "gridwidth": 2,
            "linecolor": "white",
            "showbackground": true,
            "ticks": "",
            "zerolinecolor": "white"
           },
           "zaxis": {
            "backgroundcolor": "#E5ECF6",
            "gridcolor": "white",
            "gridwidth": 2,
            "linecolor": "white",
            "showbackground": true,
            "ticks": "",
            "zerolinecolor": "white"
           }
          },
          "shapedefaults": {
           "line": {
            "color": "#2a3f5f"
           }
          },
          "ternary": {
           "aaxis": {
            "gridcolor": "white",
            "linecolor": "white",
            "ticks": ""
           },
           "baxis": {
            "gridcolor": "white",
            "linecolor": "white",
            "ticks": ""
           },
           "bgcolor": "#E5ECF6",
           "caxis": {
            "gridcolor": "white",
            "linecolor": "white",
            "ticks": ""
           }
          },
          "title": {
           "x": 0.05
          },
          "xaxis": {
           "automargin": true,
           "gridcolor": "white",
           "linecolor": "white",
           "ticks": "",
           "title": {
            "standoff": 15
           },
           "zerolinecolor": "white",
           "zerolinewidth": 2
          },
          "yaxis": {
           "automargin": true,
           "gridcolor": "white",
           "linecolor": "white",
           "ticks": "",
           "title": {
            "standoff": 15
           },
           "zerolinecolor": "white",
           "zerolinewidth": 2
          }
         }
        },
        "xaxis": {
         "constrain": "domain",
         "scaleanchor": "y"
        },
        "yaxis": {
         "autorange": "reversed",
         "constrain": "domain"
        }
       }
      },
      "text/html": [
       "<div>                            <div id=\"c32ea81a-a691-40e3-83ee-493e1617d550\" class=\"plotly-graph-div\" style=\"height:525px; width:100%;\"></div>            <script type=\"text/javascript\">                require([\"plotly\"], function(Plotly) {                    window.PLOTLYENV=window.PLOTLYENV || {};                                    if (document.getElementById(\"c32ea81a-a691-40e3-83ee-493e1617d550\")) {                    Plotly.newPlot(                        \"c32ea81a-a691-40e3-83ee-493e1617d550\",                        [{\"coloraxis\": \"coloraxis\", \"hovertemplate\": \"x: %{x}<br>y: %{y}<br>color: %{z}<extra></extra>\", \"type\": \"heatmap\", \"x\": [\"S_HHpeople\", \"S_headage\", \"S_spouseage\", \"S_headeduc\", \"S_spouseeduc\", \"S_rooms\", \"S_waterland\", \"S_waterhouse\", \"S_electricity\", \"S_cementfloor2000\", \"S_hasanimals\", \"S_animalsinside\", \"S_garbage\", \"S_washhands\", \"S_incomepc\", \"S_assetspc\", \"S_shpeoplework\", \"S_microenter\", \"S_hrsworkedpc\", \"S_consumptionpc\", \"S_cashtransfers\", \"S_milkprogram\", \"S_foodprogram\", \"S_dem1\", \"S_dem2\", \"S_dem3\", \"S_dem4\", \"S_dem5\", \"S_dem6\", \"S_dem7\", \"S_dem8\", \"S_seguropopular\", \"S_shcementfloor\", \"S_cementfloorkit\", \"S_cementfloordin\", \"S_cementfloorbat\", \"S_cementfloorbed\", \"S_satisfloor\", \"S_satishouse\", \"S_satislife\", \"S_cesds\", \"S_pss\", \"S_instcement\", \"S_instsanita\", \"S_restsanita\", \"S_constceili\", \"S_restowalls\", \"S_improveany\", \"S_logrent\", \"S_logsell\"], \"y\": [\"LinearRegression\", \"Lasso\", \"Ridge\", \"SVR\", \"DecisionTreeRegressor\", \"GradientBoostingRegressor\"], \"z\": [[-0.028160078409922296, -0.03119301033367128, -0.023061545931386318, -0.014069109378729072, -0.03927539763289456, 0.0057715337843684544, -0.005023151524768732, 0.03136730830816048, -0.04392528913411464, 0.06375649603688971, 0.0026234492401387977, -0.004841214741659217, 0.17792623581425826, -0.018025355424653222, -0.10747740465709876, -0.04066245234741883, 0.002335557297237001, -0.015577445215138042, 0.0017917283753943192, -0.04739247594603935, -0.038708720409612596, -0.002424919949684412, 0.014938021542433622, -0.02142356455521255, -0.001280482589091969, -0.006986480042442844, -0.014013595309474658, -0.01034061636653516, -0.026920059767922888, -0.03068303368260583, 0.001171748750485202, -0.0296772186891181, 0.073936527714898, 0.05737625093066723, 0.043463284035109906, 0.016634634724983943, 0.05028965462603241, 0.015575186311527989, -0.008682986267443793, -0.030176959477996812, 0.005190361824718215, 0.012503057591904398, 0.13686700044896494, -0.013805228788052126, 0.005509986532773459, 0.009840469322282441, -0.007603379169502711, 0.02169386071450974, -0.010641705876297758, 0.013626741136341658], [-0.010945695762824448, -0.019280219420098277, -0.009917397364698877, -0.015648397117240087, -0.021386559695304452, -0.01391329908911243, -0.0025108488586023103, 0.017045542233054323, -0.011738206978468169, 0.020536948630187957, -0.0014947008951962104, -0.0004084089621367859, 0.035643489996897926, -0.00339918067574696, -0.07738706366095305, -0.033433536217040594, -0.0023467154992049544, -0.001272688598723759, 0.007655081809491815, -0.03069764944292719, -0.00775359863382552, 0.010664140427450342, -0.003148065089446872, -0.005860700110985606, -0.000219964266066075, 0.002076499682950872, -0.01474639278809442, -0.007747543233293852, -0.000587437579470329, -0.0031758663895200545, -0.002345509144691782, -0.00010865161221995656, 0.001628236334012989, 0.0003537485741096358, 0.000666079987946655, 0.0077508358672949695, -0.0009916912866361205, 0.0001637835551759892, -0.000249119648961571, -0.00405124205837426, 0.010412188455512617, 0.01148467500935435, 0.01675368459862059, 0.006732041067296635, 0.0036100881472538315, -0.0042777967426133046, 0.002812613165418698, 0.007720666497812112, 0.007545322989686909, 0.006296221724980122], [-0.0180222737961222, -0.027801148024773514, -0.020307596632595626, -0.011656943165116784, -0.03694412936088809, 0.013253147612410698, -0.005321993651419943, 0.03829749416162154, -0.03529121266028601, 0.07028536093116067, 0.0056537850960675096, 0.003094725544989907, 0.17607282552880077, -0.004722095969662776, -0.08223222312517176, -0.02001324019957651, 0.0072873739859338205, -0.009064715914978372, 0.00722699010727923, -0.033821003201635946, -0.028609059693067707, 0.001380617474653456, 0.015720408826262133, -0.014000036354210765, -0.0016367517954980482, 0.0028606688284938953, -0.003055292002168919, -0.010556717128899162, -0.009314209966202913, -0.020918366333746663, 0.002558615080782478, -0.022813777896818266, 0.06728588447737116, 0.05184345950969771, 0.04410236700409498, 0.02023714321525305, 0.04852993231138225, 0.018089653613613366, -0.005326014578310279, -0.021612230330941173, 0.009869340261998372, 0.016459166883086462, 0.12516307975530672, -0.0036792480629239677, 0.012339429498372079, 0.013702495436625162, 0.0014662776715153036, 0.024352393523310756, -0.0019037672231281277, 0.01718257040407145], [-0.03511774718162797, -0.04266132377478593, -0.01674627322096711, -0.04146016926356322, -0.051519167382716, 0.008368411542704624, -0.20395593767395037, -0.17100930267055614, -1.9197529763627212, -0.0932724511553309, -0.25181538324359054, -0.05801987829362343, -0.03597320716181529, -0.12445664339341511, -0.028321226383889897, -0.021235707068055776, 0.0001240097039609811, -0.0003411513859277182, -0.06115553107984795, -0.01306510370386671, -0.1531298111966668, -0.009748847280895756, -0.18597126535540687, -0.08606472524369901, -0.018839373731908582, -0.021293450105701606, -1.9835224590875864, -0.11533771391017722, -0.011400531704350847, -0.014856416665017802, -2.6217562316248144, -0.7247572851685495, -0.06635219374513834, -0.07614464442134183, -0.05504386716603471, -0.015342162640035184, -0.09389032132875519, -0.27433744158557305, -0.2597401803062118, -0.21943829471433074, -0.01002906379764723, -0.0017516612398924547, -0.19133638562104616, -0.0006447449419364482, -0.055999740798341024, -0.03365048779058388, -0.004546054618572937, -0.19706800131736002, -0.001958281160822972, 3.8764058546525426e-05], [-0.16693846849731453, -0.2146124518943271, -0.12429333313846191, -0.1019717592802154, -0.15199027135867849, -0.04331213965376146, 0.006528507584307119, -0.007163878115447719, -0.06866536883202268, -0.019245313579362877, -0.08027162013673794, -0.07500792532007683, 0.30212621124917294, -0.0018238950105129437, -0.4373405416993972, -0.09154052125957546, -0.07296921744994411, -0.04633364365379844, -0.06865955171189508, -0.09688721716900472, -0.11189749431837615, -0.06659635653425622, -0.08467313453472847, -0.10269475946781248, -0.046602019042782494, -0.13400398118007084, -0.17679655498114277, -0.06426255813561732, -0.1645015297990733, -0.10484905043742221, -0.1759715955339114, -0.045381481938309376, 0.1296344745483794, 0.037738079160583804, 0.09401847444047373, 0.024808947295854034, 0.031260222876663635, -0.009620388220510367, -0.06854901780867517, -0.09465011476467344, -0.017129720150936167, -0.005318387104701117, 0.20073928710284028, -0.11918793141138839, -0.050731823934971, -0.040185137795051507, -0.009389871571324981, 0.021736297477833566, -0.05707931341646888, 0.01673187629518702], [-0.1305146083383546, -0.17141997895641903, -0.0976652337368551, -0.06263818545177502, -0.08904213056312416, -0.018205789171062303, 0.007789920730004174, 0.022452010793514, -0.06320194561152226, 0.004092908536764028, -0.046083320893220536, -0.051140693493578526, 0.3027184185615617, 0.015106821009266747, -0.4102795380819022, -0.07320755047958438, -0.03815080985917696, -0.03288298449248761, -0.044661213912374764, -0.08455553773969382, -0.09802643195871341, -0.05199766244354498, -0.07105083161518277, -0.07241037220339108, -0.024519350363060077, -0.10098958251852563, -0.1348833950549897, -0.03972200500156453, -0.12155549364272233, -0.08122980228164, -0.1309201531573525, -0.04440066297344747, 0.12615276434684541, 0.0445749062354206, 0.10622003697551596, 0.03355370305090888, 0.048942450738995724, 0.022749008087283307, -0.047824373680736, -0.06849035637438661, 0.01218538621958798, 0.009786237026777056, 0.2161717801851143, -0.10369960664332845, -0.03609430418379689, -0.011911456875003834, 0.002123269640754044, 0.033791593352409, -0.04791303537236957, 0.042621141902335125]]}],                        {\"coloraxis\": {\"colorscale\": [[0.0, \"#0d0887\"], [0.1111111111111111, \"#46039f\"], [0.2222222222222222, \"#7201a8\"], [0.3333333333333333, \"#9c179e\"], [0.4444444444444444, \"#bd3786\"], [0.5555555555555556, \"#d8576b\"], [0.6666666666666666, \"#ed7953\"], [0.7777777777777778, \"#fb9f3a\"], [0.8888888888888888, \"#fdca26\"], [1.0, \"#f0f921\"]]}, \"margin\": {\"t\": 60}, \"template\": {\"data\": {\"bar\": [{\"error_x\": {\"color\": \"#2a3f5f\"}, \"error_y\": {\"color\": \"#2a3f5f\"}, \"marker\": {\"line\": {\"color\": \"#E5ECF6\", \"width\": 0.5}}, \"type\": \"bar\"}], \"barpolar\": [{\"marker\": {\"line\": {\"color\": \"#E5ECF6\", \"width\": 0.5}}, \"type\": \"barpolar\"}], \"carpet\": [{\"aaxis\": {\"endlinecolor\": \"#2a3f5f\", \"gridcolor\": \"white\", \"linecolor\": \"white\", \"minorgridcolor\": \"white\", \"startlinecolor\": \"#2a3f5f\"}, \"baxis\": {\"endlinecolor\": \"#2a3f5f\", \"gridcolor\": \"white\", \"linecolor\": \"white\", \"minorgridcolor\": \"white\", \"startlinecolor\": \"#2a3f5f\"}, \"type\": \"carpet\"}], \"choropleth\": [{\"colorbar\": {\"outlinewidth\": 0, \"ticks\": \"\"}, \"type\": \"choropleth\"}], \"contour\": [{\"colorbar\": {\"outlinewidth\": 0, \"ticks\": \"\"}, \"colorscale\": [[0.0, \"#0d0887\"], [0.1111111111111111, \"#46039f\"], [0.2222222222222222, \"#7201a8\"], [0.3333333333333333, \"#9c179e\"], [0.4444444444444444, \"#bd3786\"], [0.5555555555555556, \"#d8576b\"], [0.6666666666666666, \"#ed7953\"], [0.7777777777777778, \"#fb9f3a\"], [0.8888888888888888, \"#fdca26\"], [1.0, \"#f0f921\"]], \"type\": \"contour\"}], \"contourcarpet\": [{\"colorbar\": {\"outlinewidth\": 0, \"ticks\": \"\"}, \"type\": \"contourcarpet\"}], \"heatmap\": [{\"colorbar\": {\"outlinewidth\": 0, \"ticks\": \"\"}, \"colorscale\": [[0.0, \"#0d0887\"], [0.1111111111111111, \"#46039f\"], [0.2222222222222222, \"#7201a8\"], [0.3333333333333333, \"#9c179e\"], [0.4444444444444444, \"#bd3786\"], [0.5555555555555556, \"#d8576b\"], [0.6666666666666666, \"#ed7953\"], [0.7777777777777778, \"#fb9f3a\"], [0.8888888888888888, \"#fdca26\"], [1.0, \"#f0f921\"]], \"type\": \"heatmap\"}], \"heatmapgl\": [{\"colorbar\": {\"outlinewidth\": 0, \"ticks\": \"\"}, \"colorscale\": [[0.0, \"#0d0887\"], [0.1111111111111111, \"#46039f\"], [0.2222222222222222, \"#7201a8\"], [0.3333333333333333, \"#9c179e\"], [0.4444444444444444, \"#bd3786\"], [0.5555555555555556, \"#d8576b\"], [0.6666666666666666, \"#ed7953\"], [0.7777777777777778, \"#fb9f3a\"], [0.8888888888888888, \"#fdca26\"], [1.0, \"#f0f921\"]], \"type\": \"heatmapgl\"}], \"histogram\": [{\"marker\": {\"colorbar\": {\"outlinewidth\": 0, \"ticks\": \"\"}}, \"type\": \"histogram\"}], \"histogram2d\": [{\"colorbar\": {\"outlinewidth\": 0, \"ticks\": \"\"}, \"colorscale\": [[0.0, \"#0d0887\"], [0.1111111111111111, \"#46039f\"], [0.2222222222222222, \"#7201a8\"], [0.3333333333333333, \"#9c179e\"], [0.4444444444444444, \"#bd3786\"], [0.5555555555555556, \"#d8576b\"], [0.6666666666666666, \"#ed7953\"], [0.7777777777777778, \"#fb9f3a\"], [0.8888888888888888, \"#fdca26\"], [1.0, \"#f0f921\"]], \"type\": \"histogram2d\"}], \"histogram2dcontour\": [{\"colorbar\": {\"outlinewidth\": 0, \"ticks\": \"\"}, \"colorscale\": [[0.0, \"#0d0887\"], [0.1111111111111111, \"#46039f\"], [0.2222222222222222, \"#7201a8\"], [0.3333333333333333, \"#9c179e\"], [0.4444444444444444, \"#bd3786\"], [0.5555555555555556, \"#d8576b\"], [0.6666666666666666, \"#ed7953\"], [0.7777777777777778, \"#fb9f3a\"], [0.8888888888888888, \"#fdca26\"], [1.0, \"#f0f921\"]], \"type\": \"histogram2dcontour\"}], \"mesh3d\": [{\"colorbar\": {\"outlinewidth\": 0, \"ticks\": \"\"}, \"type\": \"mesh3d\"}], \"parcoords\": [{\"line\": {\"colorbar\": {\"outlinewidth\": 0, \"ticks\": \"\"}}, \"type\": \"parcoords\"}], \"pie\": [{\"automargin\": true, \"type\": \"pie\"}], \"scatter\": [{\"marker\": {\"colorbar\": {\"outlinewidth\": 0, \"ticks\": \"\"}}, \"type\": \"scatter\"}], \"scatter3d\": [{\"line\": {\"colorbar\": {\"outlinewidth\": 0, \"ticks\": \"\"}}, \"marker\": {\"colorbar\": {\"outlinewidth\": 0, \"ticks\": \"\"}}, \"type\": \"scatter3d\"}], \"scattercarpet\": [{\"marker\": {\"colorbar\": {\"outlinewidth\": 0, \"ticks\": \"\"}}, \"type\": \"scattercarpet\"}], \"scattergeo\": [{\"marker\": {\"colorbar\": {\"outlinewidth\": 0, \"ticks\": \"\"}}, \"type\": \"scattergeo\"}], \"scattergl\": [{\"marker\": {\"colorbar\": {\"outlinewidth\": 0, \"ticks\": \"\"}}, \"type\": \"scattergl\"}], \"scattermapbox\": [{\"marker\": {\"colorbar\": {\"outlinewidth\": 0, \"ticks\": \"\"}}, \"type\": \"scattermapbox\"}], \"scatterpolar\": [{\"marker\": {\"colorbar\": {\"outlinewidth\": 0, \"ticks\": \"\"}}, \"type\": \"scatterpolar\"}], \"scatterpolargl\": [{\"marker\": {\"colorbar\": {\"outlinewidth\": 0, \"ticks\": \"\"}}, \"type\": \"scatterpolargl\"}], \"scatterternary\": [{\"marker\": {\"colorbar\": {\"outlinewidth\": 0, \"ticks\": \"\"}}, \"type\": \"scatterternary\"}], \"surface\": [{\"colorbar\": {\"outlinewidth\": 0, \"ticks\": \"\"}, \"colorscale\": [[0.0, \"#0d0887\"], [0.1111111111111111, \"#46039f\"], [0.2222222222222222, \"#7201a8\"], [0.3333333333333333, \"#9c179e\"], [0.4444444444444444, \"#bd3786\"], [0.5555555555555556, \"#d8576b\"], [0.6666666666666666, \"#ed7953\"], [0.7777777777777778, \"#fb9f3a\"], [0.8888888888888888, \"#fdca26\"], [1.0, \"#f0f921\"]], \"type\": \"surface\"}], \"table\": [{\"cells\": {\"fill\": {\"color\": \"#EBF0F8\"}, \"line\": {\"color\": \"white\"}}, \"header\": {\"fill\": {\"color\": \"#C8D4E3\"}, \"line\": {\"color\": \"white\"}}, \"type\": \"table\"}]}, \"layout\": {\"annotationdefaults\": {\"arrowcolor\": \"#2a3f5f\", \"arrowhead\": 0, \"arrowwidth\": 1}, \"coloraxis\": {\"colorbar\": {\"outlinewidth\": 0, \"ticks\": \"\"}}, \"colorscale\": {\"diverging\": [[0, \"#8e0152\"], [0.1, \"#c51b7d\"], [0.2, \"#de77ae\"], [0.3, \"#f1b6da\"], [0.4, \"#fde0ef\"], [0.5, \"#f7f7f7\"], [0.6, \"#e6f5d0\"], [0.7, \"#b8e186\"], [0.8, \"#7fbc41\"], [0.9, \"#4d9221\"], [1, \"#276419\"]], \"sequential\": [[0.0, \"#0d0887\"], [0.1111111111111111, \"#46039f\"], [0.2222222222222222, \"#7201a8\"], [0.3333333333333333, \"#9c179e\"], [0.4444444444444444, \"#bd3786\"], [0.5555555555555556, \"#d8576b\"], [0.6666666666666666, \"#ed7953\"], [0.7777777777777778, \"#fb9f3a\"], [0.8888888888888888, \"#fdca26\"], [1.0, \"#f0f921\"]], \"sequentialminus\": [[0.0, \"#0d0887\"], [0.1111111111111111, \"#46039f\"], [0.2222222222222222, \"#7201a8\"], [0.3333333333333333, \"#9c179e\"], [0.4444444444444444, \"#bd3786\"], [0.5555555555555556, \"#d8576b\"], [0.6666666666666666, \"#ed7953\"], [0.7777777777777778, \"#fb9f3a\"], [0.8888888888888888, \"#fdca26\"], [1.0, \"#f0f921\"]]}, \"colorway\": [\"#636efa\", \"#EF553B\", \"#00cc96\", \"#ab63fa\", \"#FFA15A\", \"#19d3f3\", \"#FF6692\", \"#B6E880\", \"#FF97FF\", \"#FECB52\"], \"font\": {\"color\": \"#2a3f5f\"}, \"geo\": {\"bgcolor\": \"white\", \"lakecolor\": \"white\", \"landcolor\": \"#E5ECF6\", \"showlakes\": true, \"showland\": true, \"subunitcolor\": \"white\"}, \"hoverlabel\": {\"align\": \"left\"}, \"hovermode\": \"closest\", \"mapbox\": {\"style\": \"light\"}, \"paper_bgcolor\": \"white\", \"plot_bgcolor\": \"#E5ECF6\", \"polar\": {\"angularaxis\": {\"gridcolor\": \"white\", \"linecolor\": \"white\", \"ticks\": \"\"}, \"bgcolor\": \"#E5ECF6\", \"radialaxis\": {\"gridcolor\": \"white\", \"linecolor\": \"white\", \"ticks\": \"\"}}, \"scene\": {\"xaxis\": {\"backgroundcolor\": \"#E5ECF6\", \"gridcolor\": \"white\", \"gridwidth\": 2, \"linecolor\": \"white\", \"showbackground\": true, \"ticks\": \"\", \"zerolinecolor\": \"white\"}, \"yaxis\": {\"backgroundcolor\": \"#E5ECF6\", \"gridcolor\": \"white\", \"gridwidth\": 2, \"linecolor\": \"white\", \"showbackground\": true, \"ticks\": \"\", \"zerolinecolor\": \"white\"}, \"zaxis\": {\"backgroundcolor\": \"#E5ECF6\", \"gridcolor\": \"white\", \"gridwidth\": 2, \"linecolor\": \"white\", \"showbackground\": true, \"ticks\": \"\", \"zerolinecolor\": \"white\"}}, \"shapedefaults\": {\"line\": {\"color\": \"#2a3f5f\"}}, \"ternary\": {\"aaxis\": {\"gridcolor\": \"white\", \"linecolor\": \"white\", \"ticks\": \"\"}, \"baxis\": {\"gridcolor\": \"white\", \"linecolor\": \"white\", \"ticks\": \"\"}, \"bgcolor\": \"#E5ECF6\", \"caxis\": {\"gridcolor\": \"white\", \"linecolor\": \"white\", \"ticks\": \"\"}}, \"title\": {\"x\": 0.05}, \"xaxis\": {\"automargin\": true, \"gridcolor\": \"white\", \"linecolor\": \"white\", \"ticks\": \"\", \"title\": {\"standoff\": 15}, \"zerolinecolor\": \"white\", \"zerolinewidth\": 2}, \"yaxis\": {\"automargin\": true, \"gridcolor\": \"white\", \"linecolor\": \"white\", \"ticks\": \"\", \"title\": {\"standoff\": 15}, \"zerolinecolor\": \"white\", \"zerolinewidth\": 2}}}, \"xaxis\": {\"constrain\": \"domain\", \"scaleanchor\": \"y\"}, \"yaxis\": {\"autorange\": \"reversed\", \"constrain\": \"domain\"}},                        {\"responsive\": true}                    ).then(function(){\n",
       "                            \n",
       "var gd = document.getElementById('c32ea81a-a691-40e3-83ee-493e1617d550');\n",
       "var x = new MutationObserver(function (mutations, observer) {{\n",
       "        var display = window.getComputedStyle(gd).display;\n",
       "        if (!display || display === 'none') {{\n",
       "            console.log([gd, 'removed!']);\n",
       "            Plotly.purge(gd);\n",
       "            observer.disconnect();\n",
       "        }}\n",
       "}});\n",
       "\n",
       "// Listen for the removal of the full notebook cells\n",
       "var notebookContainer = gd.closest('#notebook-container');\n",
       "if (notebookContainer) {{\n",
       "    x.observe(notebookContainer, {childList: true});\n",
       "}}\n",
       "\n",
       "// Listen for the clearing of the current output cell\n",
       "var outputEl = gd.closest('.output');\n",
       "if (outputEl) {{\n",
       "    x.observe(outputEl, {childList: true});\n",
       "}}\n",
       "\n",
       "                        })                };                });            </script>        </div>"
      ]
     },
     "metadata": {},
     "output_type": "display_data"
    }
   ],
   "source": [
    "selected_models = [LinearRegression(), Lasso(max_iter=5000), Ridge(), SVR(), DecisionTreeRegressor(), GradientBoostingRegressor()]\n",
    "# Without standardization\n",
    "df_results = wrapper_generate_prediction_df(df_census, df_survey, selected_models, standardize_=False)\n",
    "import plotly.express as px\n",
    "fig = px.imshow(df_results)\n",
    "fig.show()"
   ]
  },
  {
   "cell_type": "code",
   "execution_count": 12,
   "metadata": {},
   "outputs": [],
   "source": [
    "selected_features = df_results.transpose()['GradientBoostingRegressor'].sort_values(ascending=False).iloc[:5].index"
   ]
  },
  {
   "cell_type": "code",
   "execution_count": 13,
   "metadata": {},
   "outputs": [
    {
     "data": {
      "text/plain": [
       "Index(['S_garbage', 'S_instcement', 'S_shcementfloor', 'S_cementfloordin',\n",
       "       'S_cementfloorbed'],\n",
       "      dtype='object')"
      ]
     },
     "execution_count": 13,
     "metadata": {},
     "output_type": "execute_result"
    }
   ],
   "source": [
    "selected_features"
   ]
  },
  {
   "cell_type": "markdown",
   "metadata": {},
   "source": [
    "## Functions"
   ]
  },
  {
   "cell_type": "code",
   "execution_count": 14,
   "metadata": {},
   "outputs": [
    {
     "data": {
      "application/vnd.plotly.v1+json": {
       "config": {
        "plotlyServerURL": "https://plot.ly"
       },
       "data": [
        {
         "type": "bar",
         "x": [
          "C_blocksdirtfloor",
          "C_gasheater",
          "C_dropouts515",
          "C_headeduc",
          "C_earnincome",
          "C_poverty",
          "C_child05",
          "C_illiterate",
          "C_vehicle",
          "C_waterhouse",
          "C_waterbath",
          "C_employment",
          "C_HHpersons",
          "C_washing",
          "C_waterland",
          "C_households",
          "C_refrigerator",
          "C_rooms",
          "C_telephone",
          "C_overcrowding",
          "C_people",
          "C_HHdirtfloor"
         ],
         "y": [
          0.19303763818134723,
          0.16748819748844107,
          0.0948317644547995,
          0.07657005693262389,
          0.06260404583499048,
          0.054897252518873105,
          0.04992633906035875,
          0.04955108881694315,
          0.041277580683909035,
          0.04114458452365383,
          0.02985870753821001,
          0.021306154102182617,
          0.0182717709652031,
          0.014881945208041179,
          0.014704584243672028,
          0.01360455490256432,
          0.013103697561314624,
          0.009881115463739447,
          0.009624570425250011,
          0.008923636352941704,
          0.008035146087963331,
          0.006475568652977474
         ]
        }
       ],
       "layout": {
        "template": {
         "data": {
          "bar": [
           {
            "error_x": {
             "color": "#2a3f5f"
            },
            "error_y": {
             "color": "#2a3f5f"
            },
            "marker": {
             "line": {
              "color": "#E5ECF6",
              "width": 0.5
             }
            },
            "type": "bar"
           }
          ],
          "barpolar": [
           {
            "marker": {
             "line": {
              "color": "#E5ECF6",
              "width": 0.5
             }
            },
            "type": "barpolar"
           }
          ],
          "carpet": [
           {
            "aaxis": {
             "endlinecolor": "#2a3f5f",
             "gridcolor": "white",
             "linecolor": "white",
             "minorgridcolor": "white",
             "startlinecolor": "#2a3f5f"
            },
            "baxis": {
             "endlinecolor": "#2a3f5f",
             "gridcolor": "white",
             "linecolor": "white",
             "minorgridcolor": "white",
             "startlinecolor": "#2a3f5f"
            },
            "type": "carpet"
           }
          ],
          "choropleth": [
           {
            "colorbar": {
             "outlinewidth": 0,
             "ticks": ""
            },
            "type": "choropleth"
           }
          ],
          "contour": [
           {
            "colorbar": {
             "outlinewidth": 0,
             "ticks": ""
            },
            "colorscale": [
             [
              0,
              "#0d0887"
             ],
             [
              0.1111111111111111,
              "#46039f"
             ],
             [
              0.2222222222222222,
              "#7201a8"
             ],
             [
              0.3333333333333333,
              "#9c179e"
             ],
             [
              0.4444444444444444,
              "#bd3786"
             ],
             [
              0.5555555555555556,
              "#d8576b"
             ],
             [
              0.6666666666666666,
              "#ed7953"
             ],
             [
              0.7777777777777778,
              "#fb9f3a"
             ],
             [
              0.8888888888888888,
              "#fdca26"
             ],
             [
              1,
              "#f0f921"
             ]
            ],
            "type": "contour"
           }
          ],
          "contourcarpet": [
           {
            "colorbar": {
             "outlinewidth": 0,
             "ticks": ""
            },
            "type": "contourcarpet"
           }
          ],
          "heatmap": [
           {
            "colorbar": {
             "outlinewidth": 0,
             "ticks": ""
            },
            "colorscale": [
             [
              0,
              "#0d0887"
             ],
             [
              0.1111111111111111,
              "#46039f"
             ],
             [
              0.2222222222222222,
              "#7201a8"
             ],
             [
              0.3333333333333333,
              "#9c179e"
             ],
             [
              0.4444444444444444,
              "#bd3786"
             ],
             [
              0.5555555555555556,
              "#d8576b"
             ],
             [
              0.6666666666666666,
              "#ed7953"
             ],
             [
              0.7777777777777778,
              "#fb9f3a"
             ],
             [
              0.8888888888888888,
              "#fdca26"
             ],
             [
              1,
              "#f0f921"
             ]
            ],
            "type": "heatmap"
           }
          ],
          "heatmapgl": [
           {
            "colorbar": {
             "outlinewidth": 0,
             "ticks": ""
            },
            "colorscale": [
             [
              0,
              "#0d0887"
             ],
             [
              0.1111111111111111,
              "#46039f"
             ],
             [
              0.2222222222222222,
              "#7201a8"
             ],
             [
              0.3333333333333333,
              "#9c179e"
             ],
             [
              0.4444444444444444,
              "#bd3786"
             ],
             [
              0.5555555555555556,
              "#d8576b"
             ],
             [
              0.6666666666666666,
              "#ed7953"
             ],
             [
              0.7777777777777778,
              "#fb9f3a"
             ],
             [
              0.8888888888888888,
              "#fdca26"
             ],
             [
              1,
              "#f0f921"
             ]
            ],
            "type": "heatmapgl"
           }
          ],
          "histogram": [
           {
            "marker": {
             "colorbar": {
              "outlinewidth": 0,
              "ticks": ""
             }
            },
            "type": "histogram"
           }
          ],
          "histogram2d": [
           {
            "colorbar": {
             "outlinewidth": 0,
             "ticks": ""
            },
            "colorscale": [
             [
              0,
              "#0d0887"
             ],
             [
              0.1111111111111111,
              "#46039f"
             ],
             [
              0.2222222222222222,
              "#7201a8"
             ],
             [
              0.3333333333333333,
              "#9c179e"
             ],
             [
              0.4444444444444444,
              "#bd3786"
             ],
             [
              0.5555555555555556,
              "#d8576b"
             ],
             [
              0.6666666666666666,
              "#ed7953"
             ],
             [
              0.7777777777777778,
              "#fb9f3a"
             ],
             [
              0.8888888888888888,
              "#fdca26"
             ],
             [
              1,
              "#f0f921"
             ]
            ],
            "type": "histogram2d"
           }
          ],
          "histogram2dcontour": [
           {
            "colorbar": {
             "outlinewidth": 0,
             "ticks": ""
            },
            "colorscale": [
             [
              0,
              "#0d0887"
             ],
             [
              0.1111111111111111,
              "#46039f"
             ],
             [
              0.2222222222222222,
              "#7201a8"
             ],
             [
              0.3333333333333333,
              "#9c179e"
             ],
             [
              0.4444444444444444,
              "#bd3786"
             ],
             [
              0.5555555555555556,
              "#d8576b"
             ],
             [
              0.6666666666666666,
              "#ed7953"
             ],
             [
              0.7777777777777778,
              "#fb9f3a"
             ],
             [
              0.8888888888888888,
              "#fdca26"
             ],
             [
              1,
              "#f0f921"
             ]
            ],
            "type": "histogram2dcontour"
           }
          ],
          "mesh3d": [
           {
            "colorbar": {
             "outlinewidth": 0,
             "ticks": ""
            },
            "type": "mesh3d"
           }
          ],
          "parcoords": [
           {
            "line": {
             "colorbar": {
              "outlinewidth": 0,
              "ticks": ""
             }
            },
            "type": "parcoords"
           }
          ],
          "pie": [
           {
            "automargin": true,
            "type": "pie"
           }
          ],
          "scatter": [
           {
            "marker": {
             "colorbar": {
              "outlinewidth": 0,
              "ticks": ""
             }
            },
            "type": "scatter"
           }
          ],
          "scatter3d": [
           {
            "line": {
             "colorbar": {
              "outlinewidth": 0,
              "ticks": ""
             }
            },
            "marker": {
             "colorbar": {
              "outlinewidth": 0,
              "ticks": ""
             }
            },
            "type": "scatter3d"
           }
          ],
          "scattercarpet": [
           {
            "marker": {
             "colorbar": {
              "outlinewidth": 0,
              "ticks": ""
             }
            },
            "type": "scattercarpet"
           }
          ],
          "scattergeo": [
           {
            "marker": {
             "colorbar": {
              "outlinewidth": 0,
              "ticks": ""
             }
            },
            "type": "scattergeo"
           }
          ],
          "scattergl": [
           {
            "marker": {
             "colorbar": {
              "outlinewidth": 0,
              "ticks": ""
             }
            },
            "type": "scattergl"
           }
          ],
          "scattermapbox": [
           {
            "marker": {
             "colorbar": {
              "outlinewidth": 0,
              "ticks": ""
             }
            },
            "type": "scattermapbox"
           }
          ],
          "scatterpolar": [
           {
            "marker": {
             "colorbar": {
              "outlinewidth": 0,
              "ticks": ""
             }
            },
            "type": "scatterpolar"
           }
          ],
          "scatterpolargl": [
           {
            "marker": {
             "colorbar": {
              "outlinewidth": 0,
              "ticks": ""
             }
            },
            "type": "scatterpolargl"
           }
          ],
          "scatterternary": [
           {
            "marker": {
             "colorbar": {
              "outlinewidth": 0,
              "ticks": ""
             }
            },
            "type": "scatterternary"
           }
          ],
          "surface": [
           {
            "colorbar": {
             "outlinewidth": 0,
             "ticks": ""
            },
            "colorscale": [
             [
              0,
              "#0d0887"
             ],
             [
              0.1111111111111111,
              "#46039f"
             ],
             [
              0.2222222222222222,
              "#7201a8"
             ],
             [
              0.3333333333333333,
              "#9c179e"
             ],
             [
              0.4444444444444444,
              "#bd3786"
             ],
             [
              0.5555555555555556,
              "#d8576b"
             ],
             [
              0.6666666666666666,
              "#ed7953"
             ],
             [
              0.7777777777777778,
              "#fb9f3a"
             ],
             [
              0.8888888888888888,
              "#fdca26"
             ],
             [
              1,
              "#f0f921"
             ]
            ],
            "type": "surface"
           }
          ],
          "table": [
           {
            "cells": {
             "fill": {
              "color": "#EBF0F8"
             },
             "line": {
              "color": "white"
             }
            },
            "header": {
             "fill": {
              "color": "#C8D4E3"
             },
             "line": {
              "color": "white"
             }
            },
            "type": "table"
           }
          ]
         },
         "layout": {
          "annotationdefaults": {
           "arrowcolor": "#2a3f5f",
           "arrowhead": 0,
           "arrowwidth": 1
          },
          "coloraxis": {
           "colorbar": {
            "outlinewidth": 0,
            "ticks": ""
           }
          },
          "colorscale": {
           "diverging": [
            [
             0,
             "#8e0152"
            ],
            [
             0.1,
             "#c51b7d"
            ],
            [
             0.2,
             "#de77ae"
            ],
            [
             0.3,
             "#f1b6da"
            ],
            [
             0.4,
             "#fde0ef"
            ],
            [
             0.5,
             "#f7f7f7"
            ],
            [
             0.6,
             "#e6f5d0"
            ],
            [
             0.7,
             "#b8e186"
            ],
            [
             0.8,
             "#7fbc41"
            ],
            [
             0.9,
             "#4d9221"
            ],
            [
             1,
             "#276419"
            ]
           ],
           "sequential": [
            [
             0,
             "#0d0887"
            ],
            [
             0.1111111111111111,
             "#46039f"
            ],
            [
             0.2222222222222222,
             "#7201a8"
            ],
            [
             0.3333333333333333,
             "#9c179e"
            ],
            [
             0.4444444444444444,
             "#bd3786"
            ],
            [
             0.5555555555555556,
             "#d8576b"
            ],
            [
             0.6666666666666666,
             "#ed7953"
            ],
            [
             0.7777777777777778,
             "#fb9f3a"
            ],
            [
             0.8888888888888888,
             "#fdca26"
            ],
            [
             1,
             "#f0f921"
            ]
           ],
           "sequentialminus": [
            [
             0,
             "#0d0887"
            ],
            [
             0.1111111111111111,
             "#46039f"
            ],
            [
             0.2222222222222222,
             "#7201a8"
            ],
            [
             0.3333333333333333,
             "#9c179e"
            ],
            [
             0.4444444444444444,
             "#bd3786"
            ],
            [
             0.5555555555555556,
             "#d8576b"
            ],
            [
             0.6666666666666666,
             "#ed7953"
            ],
            [
             0.7777777777777778,
             "#fb9f3a"
            ],
            [
             0.8888888888888888,
             "#fdca26"
            ],
            [
             1,
             "#f0f921"
            ]
           ]
          },
          "colorway": [
           "#636efa",
           "#EF553B",
           "#00cc96",
           "#ab63fa",
           "#FFA15A",
           "#19d3f3",
           "#FF6692",
           "#B6E880",
           "#FF97FF",
           "#FECB52"
          ],
          "font": {
           "color": "#2a3f5f"
          },
          "geo": {
           "bgcolor": "white",
           "lakecolor": "white",
           "landcolor": "#E5ECF6",
           "showlakes": true,
           "showland": true,
           "subunitcolor": "white"
          },
          "hoverlabel": {
           "align": "left"
          },
          "hovermode": "closest",
          "mapbox": {
           "style": "light"
          },
          "paper_bgcolor": "white",
          "plot_bgcolor": "#E5ECF6",
          "polar": {
           "angularaxis": {
            "gridcolor": "white",
            "linecolor": "white",
            "ticks": ""
           },
           "bgcolor": "#E5ECF6",
           "radialaxis": {
            "gridcolor": "white",
            "linecolor": "white",
            "ticks": ""
           }
          },
          "scene": {
           "xaxis": {
            "backgroundcolor": "#E5ECF6",
            "gridcolor": "white",
            "gridwidth": 2,
            "linecolor": "white",
            "showbackground": true,
            "ticks": "",
            "zerolinecolor": "white"
           },
           "yaxis": {
            "backgroundcolor": "#E5ECF6",
            "gridcolor": "white",
            "gridwidth": 2,
            "linecolor": "white",
            "showbackground": true,
            "ticks": "",
            "zerolinecolor": "white"
           },
           "zaxis": {
            "backgroundcolor": "#E5ECF6",
            "gridcolor": "white",
            "gridwidth": 2,
            "linecolor": "white",
            "showbackground": true,
            "ticks": "",
            "zerolinecolor": "white"
           }
          },
          "shapedefaults": {
           "line": {
            "color": "#2a3f5f"
           }
          },
          "ternary": {
           "aaxis": {
            "gridcolor": "white",
            "linecolor": "white",
            "ticks": ""
           },
           "baxis": {
            "gridcolor": "white",
            "linecolor": "white",
            "ticks": ""
           },
           "bgcolor": "#E5ECF6",
           "caxis": {
            "gridcolor": "white",
            "linecolor": "white",
            "ticks": ""
           }
          },
          "title": {
           "x": 0.05
          },
          "xaxis": {
           "automargin": true,
           "gridcolor": "white",
           "linecolor": "white",
           "ticks": "",
           "title": {
            "standoff": 15
           },
           "zerolinecolor": "white",
           "zerolinewidth": 2
          },
          "yaxis": {
           "automargin": true,
           "gridcolor": "white",
           "linecolor": "white",
           "ticks": "",
           "title": {
            "standoff": 15
           },
           "zerolinecolor": "white",
           "zerolinewidth": 2
          }
         }
        }
       }
      },
      "text/html": [
       "<div>                            <div id=\"b335d791-9f34-4226-9c30-253a33d38932\" class=\"plotly-graph-div\" style=\"height:525px; width:100%;\"></div>            <script type=\"text/javascript\">                require([\"plotly\"], function(Plotly) {                    window.PLOTLYENV=window.PLOTLYENV || {};                                    if (document.getElementById(\"b335d791-9f34-4226-9c30-253a33d38932\")) {                    Plotly.newPlot(                        \"b335d791-9f34-4226-9c30-253a33d38932\",                        [{\"type\": \"bar\", \"x\": [\"C_blocksdirtfloor\", \"C_gasheater\", \"C_dropouts515\", \"C_headeduc\", \"C_earnincome\", \"C_poverty\", \"C_child05\", \"C_illiterate\", \"C_vehicle\", \"C_waterhouse\", \"C_waterbath\", \"C_employment\", \"C_HHpersons\", \"C_washing\", \"C_waterland\", \"C_households\", \"C_refrigerator\", \"C_rooms\", \"C_telephone\", \"C_overcrowding\", \"C_people\", \"C_HHdirtfloor\"], \"y\": [0.19303763818134723, 0.16748819748844107, 0.0948317644547995, 0.07657005693262389, 0.06260404583499048, 0.054897252518873105, 0.04992633906035875, 0.04955108881694315, 0.041277580683909035, 0.04114458452365383, 0.02985870753821001, 0.021306154102182617, 0.0182717709652031, 0.014881945208041179, 0.014704584243672028, 0.01360455490256432, 0.013103697561314624, 0.009881115463739447, 0.009624570425250011, 0.008923636352941704, 0.008035146087963331, 0.006475568652977474]}],                        {\"template\": {\"data\": {\"bar\": [{\"error_x\": {\"color\": \"#2a3f5f\"}, \"error_y\": {\"color\": \"#2a3f5f\"}, \"marker\": {\"line\": {\"color\": \"#E5ECF6\", \"width\": 0.5}}, \"type\": \"bar\"}], \"barpolar\": [{\"marker\": {\"line\": {\"color\": \"#E5ECF6\", \"width\": 0.5}}, \"type\": \"barpolar\"}], \"carpet\": [{\"aaxis\": {\"endlinecolor\": \"#2a3f5f\", \"gridcolor\": \"white\", \"linecolor\": \"white\", \"minorgridcolor\": \"white\", \"startlinecolor\": \"#2a3f5f\"}, \"baxis\": {\"endlinecolor\": \"#2a3f5f\", \"gridcolor\": \"white\", \"linecolor\": \"white\", \"minorgridcolor\": \"white\", \"startlinecolor\": \"#2a3f5f\"}, \"type\": \"carpet\"}], \"choropleth\": [{\"colorbar\": {\"outlinewidth\": 0, \"ticks\": \"\"}, \"type\": \"choropleth\"}], \"contour\": [{\"colorbar\": {\"outlinewidth\": 0, \"ticks\": \"\"}, \"colorscale\": [[0.0, \"#0d0887\"], [0.1111111111111111, \"#46039f\"], [0.2222222222222222, \"#7201a8\"], [0.3333333333333333, \"#9c179e\"], [0.4444444444444444, \"#bd3786\"], [0.5555555555555556, \"#d8576b\"], [0.6666666666666666, \"#ed7953\"], [0.7777777777777778, \"#fb9f3a\"], [0.8888888888888888, \"#fdca26\"], [1.0, \"#f0f921\"]], \"type\": \"contour\"}], \"contourcarpet\": [{\"colorbar\": {\"outlinewidth\": 0, \"ticks\": \"\"}, \"type\": \"contourcarpet\"}], \"heatmap\": [{\"colorbar\": {\"outlinewidth\": 0, \"ticks\": \"\"}, \"colorscale\": [[0.0, \"#0d0887\"], [0.1111111111111111, \"#46039f\"], [0.2222222222222222, \"#7201a8\"], [0.3333333333333333, \"#9c179e\"], [0.4444444444444444, \"#bd3786\"], [0.5555555555555556, \"#d8576b\"], [0.6666666666666666, \"#ed7953\"], [0.7777777777777778, \"#fb9f3a\"], [0.8888888888888888, \"#fdca26\"], [1.0, \"#f0f921\"]], \"type\": \"heatmap\"}], \"heatmapgl\": [{\"colorbar\": {\"outlinewidth\": 0, \"ticks\": \"\"}, \"colorscale\": [[0.0, \"#0d0887\"], [0.1111111111111111, \"#46039f\"], [0.2222222222222222, \"#7201a8\"], [0.3333333333333333, \"#9c179e\"], [0.4444444444444444, \"#bd3786\"], [0.5555555555555556, \"#d8576b\"], [0.6666666666666666, \"#ed7953\"], [0.7777777777777778, \"#fb9f3a\"], [0.8888888888888888, \"#fdca26\"], [1.0, \"#f0f921\"]], \"type\": \"heatmapgl\"}], \"histogram\": [{\"marker\": {\"colorbar\": {\"outlinewidth\": 0, \"ticks\": \"\"}}, \"type\": \"histogram\"}], \"histogram2d\": [{\"colorbar\": {\"outlinewidth\": 0, \"ticks\": \"\"}, \"colorscale\": [[0.0, \"#0d0887\"], [0.1111111111111111, \"#46039f\"], [0.2222222222222222, \"#7201a8\"], [0.3333333333333333, \"#9c179e\"], [0.4444444444444444, \"#bd3786\"], [0.5555555555555556, \"#d8576b\"], [0.6666666666666666, \"#ed7953\"], [0.7777777777777778, \"#fb9f3a\"], [0.8888888888888888, \"#fdca26\"], [1.0, \"#f0f921\"]], \"type\": \"histogram2d\"}], \"histogram2dcontour\": [{\"colorbar\": {\"outlinewidth\": 0, \"ticks\": \"\"}, \"colorscale\": [[0.0, \"#0d0887\"], [0.1111111111111111, \"#46039f\"], [0.2222222222222222, \"#7201a8\"], [0.3333333333333333, \"#9c179e\"], [0.4444444444444444, \"#bd3786\"], [0.5555555555555556, \"#d8576b\"], [0.6666666666666666, \"#ed7953\"], [0.7777777777777778, \"#fb9f3a\"], [0.8888888888888888, \"#fdca26\"], [1.0, \"#f0f921\"]], \"type\": \"histogram2dcontour\"}], \"mesh3d\": [{\"colorbar\": {\"outlinewidth\": 0, \"ticks\": \"\"}, \"type\": \"mesh3d\"}], \"parcoords\": [{\"line\": {\"colorbar\": {\"outlinewidth\": 0, \"ticks\": \"\"}}, \"type\": \"parcoords\"}], \"pie\": [{\"automargin\": true, \"type\": \"pie\"}], \"scatter\": [{\"marker\": {\"colorbar\": {\"outlinewidth\": 0, \"ticks\": \"\"}}, \"type\": \"scatter\"}], \"scatter3d\": [{\"line\": {\"colorbar\": {\"outlinewidth\": 0, \"ticks\": \"\"}}, \"marker\": {\"colorbar\": {\"outlinewidth\": 0, \"ticks\": \"\"}}, \"type\": \"scatter3d\"}], \"scattercarpet\": [{\"marker\": {\"colorbar\": {\"outlinewidth\": 0, \"ticks\": \"\"}}, \"type\": \"scattercarpet\"}], \"scattergeo\": [{\"marker\": {\"colorbar\": {\"outlinewidth\": 0, \"ticks\": \"\"}}, \"type\": \"scattergeo\"}], \"scattergl\": [{\"marker\": {\"colorbar\": {\"outlinewidth\": 0, \"ticks\": \"\"}}, \"type\": \"scattergl\"}], \"scattermapbox\": [{\"marker\": {\"colorbar\": {\"outlinewidth\": 0, \"ticks\": \"\"}}, \"type\": \"scattermapbox\"}], \"scatterpolar\": [{\"marker\": {\"colorbar\": {\"outlinewidth\": 0, \"ticks\": \"\"}}, \"type\": \"scatterpolar\"}], \"scatterpolargl\": [{\"marker\": {\"colorbar\": {\"outlinewidth\": 0, \"ticks\": \"\"}}, \"type\": \"scatterpolargl\"}], \"scatterternary\": [{\"marker\": {\"colorbar\": {\"outlinewidth\": 0, \"ticks\": \"\"}}, \"type\": \"scatterternary\"}], \"surface\": [{\"colorbar\": {\"outlinewidth\": 0, \"ticks\": \"\"}, \"colorscale\": [[0.0, \"#0d0887\"], [0.1111111111111111, \"#46039f\"], [0.2222222222222222, \"#7201a8\"], [0.3333333333333333, \"#9c179e\"], [0.4444444444444444, \"#bd3786\"], [0.5555555555555556, \"#d8576b\"], [0.6666666666666666, \"#ed7953\"], [0.7777777777777778, \"#fb9f3a\"], [0.8888888888888888, \"#fdca26\"], [1.0, \"#f0f921\"]], \"type\": \"surface\"}], \"table\": [{\"cells\": {\"fill\": {\"color\": \"#EBF0F8\"}, \"line\": {\"color\": \"white\"}}, \"header\": {\"fill\": {\"color\": \"#C8D4E3\"}, \"line\": {\"color\": \"white\"}}, \"type\": \"table\"}]}, \"layout\": {\"annotationdefaults\": {\"arrowcolor\": \"#2a3f5f\", \"arrowhead\": 0, \"arrowwidth\": 1}, \"coloraxis\": {\"colorbar\": {\"outlinewidth\": 0, \"ticks\": \"\"}}, \"colorscale\": {\"diverging\": [[0, \"#8e0152\"], [0.1, \"#c51b7d\"], [0.2, \"#de77ae\"], [0.3, \"#f1b6da\"], [0.4, \"#fde0ef\"], [0.5, \"#f7f7f7\"], [0.6, \"#e6f5d0\"], [0.7, \"#b8e186\"], [0.8, \"#7fbc41\"], [0.9, \"#4d9221\"], [1, \"#276419\"]], \"sequential\": [[0.0, \"#0d0887\"], [0.1111111111111111, \"#46039f\"], [0.2222222222222222, \"#7201a8\"], [0.3333333333333333, \"#9c179e\"], [0.4444444444444444, \"#bd3786\"], [0.5555555555555556, \"#d8576b\"], [0.6666666666666666, \"#ed7953\"], [0.7777777777777778, \"#fb9f3a\"], [0.8888888888888888, \"#fdca26\"], [1.0, \"#f0f921\"]], \"sequentialminus\": [[0.0, \"#0d0887\"], [0.1111111111111111, \"#46039f\"], [0.2222222222222222, \"#7201a8\"], [0.3333333333333333, \"#9c179e\"], [0.4444444444444444, \"#bd3786\"], [0.5555555555555556, \"#d8576b\"], [0.6666666666666666, \"#ed7953\"], [0.7777777777777778, \"#fb9f3a\"], [0.8888888888888888, \"#fdca26\"], [1.0, \"#f0f921\"]]}, \"colorway\": [\"#636efa\", \"#EF553B\", \"#00cc96\", \"#ab63fa\", \"#FFA15A\", \"#19d3f3\", \"#FF6692\", \"#B6E880\", \"#FF97FF\", \"#FECB52\"], \"font\": {\"color\": \"#2a3f5f\"}, \"geo\": {\"bgcolor\": \"white\", \"lakecolor\": \"white\", \"landcolor\": \"#E5ECF6\", \"showlakes\": true, \"showland\": true, \"subunitcolor\": \"white\"}, \"hoverlabel\": {\"align\": \"left\"}, \"hovermode\": \"closest\", \"mapbox\": {\"style\": \"light\"}, \"paper_bgcolor\": \"white\", \"plot_bgcolor\": \"#E5ECF6\", \"polar\": {\"angularaxis\": {\"gridcolor\": \"white\", \"linecolor\": \"white\", \"ticks\": \"\"}, \"bgcolor\": \"#E5ECF6\", \"radialaxis\": {\"gridcolor\": \"white\", \"linecolor\": \"white\", \"ticks\": \"\"}}, \"scene\": {\"xaxis\": {\"backgroundcolor\": \"#E5ECF6\", \"gridcolor\": \"white\", \"gridwidth\": 2, \"linecolor\": \"white\", \"showbackground\": true, \"ticks\": \"\", \"zerolinecolor\": \"white\"}, \"yaxis\": {\"backgroundcolor\": \"#E5ECF6\", \"gridcolor\": \"white\", \"gridwidth\": 2, \"linecolor\": \"white\", \"showbackground\": true, \"ticks\": \"\", \"zerolinecolor\": \"white\"}, \"zaxis\": {\"backgroundcolor\": \"#E5ECF6\", \"gridcolor\": \"white\", \"gridwidth\": 2, \"linecolor\": \"white\", \"showbackground\": true, \"ticks\": \"\", \"zerolinecolor\": \"white\"}}, \"shapedefaults\": {\"line\": {\"color\": \"#2a3f5f\"}}, \"ternary\": {\"aaxis\": {\"gridcolor\": \"white\", \"linecolor\": \"white\", \"ticks\": \"\"}, \"baxis\": {\"gridcolor\": \"white\", \"linecolor\": \"white\", \"ticks\": \"\"}, \"bgcolor\": \"#E5ECF6\", \"caxis\": {\"gridcolor\": \"white\", \"linecolor\": \"white\", \"ticks\": \"\"}}, \"title\": {\"x\": 0.05}, \"xaxis\": {\"automargin\": true, \"gridcolor\": \"white\", \"linecolor\": \"white\", \"ticks\": \"\", \"title\": {\"standoff\": 15}, \"zerolinecolor\": \"white\", \"zerolinewidth\": 2}, \"yaxis\": {\"automargin\": true, \"gridcolor\": \"white\", \"linecolor\": \"white\", \"ticks\": \"\", \"title\": {\"standoff\": 15}, \"zerolinecolor\": \"white\", \"zerolinewidth\": 2}}}},                        {\"responsive\": true}                    ).then(function(){\n",
       "                            \n",
       "var gd = document.getElementById('b335d791-9f34-4226-9c30-253a33d38932');\n",
       "var x = new MutationObserver(function (mutations, observer) {{\n",
       "        var display = window.getComputedStyle(gd).display;\n",
       "        if (!display || display === 'none') {{\n",
       "            console.log([gd, 'removed!']);\n",
       "            Plotly.purge(gd);\n",
       "            observer.disconnect();\n",
       "        }}\n",
       "}});\n",
       "\n",
       "// Listen for the removal of the full notebook cells\n",
       "var notebookContainer = gd.closest('#notebook-container');\n",
       "if (notebookContainer) {{\n",
       "    x.observe(notebookContainer, {childList: true});\n",
       "}}\n",
       "\n",
       "// Listen for the clearing of the current output cell\n",
       "var outputEl = gd.closest('.output');\n",
       "if (outputEl) {{\n",
       "    x.observe(outputEl, {childList: true});\n",
       "}}\n",
       "\n",
       "                        })                };                });            </script>        </div>"
      ]
     },
     "metadata": {},
     "output_type": "display_data"
    }
   ],
   "source": [
    "def plot_feature_importance(df_survey_train, df_census_train, model, survey_targets):\n",
    "    fig = go.Figure()\n",
    "    for target in survey_targets:\n",
    "        model.fit(df_census_train, df_survey_train[target])\n",
    "        feature_importances = model.feature_importances_\n",
    "        df_feature_importances = pd.DataFrame(feature_importances, index=df_census_train.columns, columns=['Feature importance']).sort_values('Feature importance', ascending=False)\n",
    "        fig.add_trace(go.Bar(x = df_feature_importances.index, y=df_feature_importances['Feature importance']))\n",
    "    fig.show()"
   ]
  },
  {
   "cell_type": "markdown",
   "metadata": {},
   "source": [
    "### S_garbage\n",
    "Def: Uses garbage collection service"
   ]
  },
  {
   "cell_type": "code",
   "execution_count": 25,
   "metadata": {},
   "outputs": [
    {
     "data": {
      "text/plain": [
       "1.0    1617\n",
       "0.0     336\n",
       "Name: S_garbage, dtype: int64"
      ]
     },
     "execution_count": 25,
     "metadata": {},
     "output_type": "execute_result"
    }
   ],
   "source": [
    "df_hh['S_garbage'].value_counts()"
   ]
  },
  {
   "cell_type": "markdown",
   "metadata": {},
   "source": [
    "This is a binary value, which tells us if we use garbage collection. In this case, we can use a classification algorithm and see how easily we can predict this value."
   ]
  },
  {
   "cell_type": "code",
   "execution_count": 17,
   "metadata": {},
   "outputs": [
    {
     "name": "stdout",
     "output_type": "stream",
     "text": [
      "The Area Under ROC curve is 0.8329640718562874\n"
     ]
    },
    {
     "data": {
      "application/vnd.plotly.v1+json": {
       "config": {
        "plotlyServerURL": "https://plot.ly"
       },
       "data": [
        {
         "hovertemplate": "False positive rate=%{x}<br>True positive rate=%{y}<extra></extra>",
         "legendgroup": "",
         "line": {
          "color": "#636efa",
          "dash": "solid"
         },
         "mode": "lines",
         "name": "",
         "orientation": "v",
         "showlegend": false,
         "type": "scatter",
         "x": [
          0,
          0,
          0,
          0,
          0,
          0,
          0,
          0,
          0,
          0,
          0,
          0,
          0,
          0,
          0,
          0,
          0.02,
          0.02,
          0.03,
          0.03,
          0.03,
          0.03,
          0.03,
          0.03,
          0.03,
          0.03,
          0.03,
          0.04,
          0.04,
          0.04,
          0.04,
          0.04,
          0.04,
          0.05,
          0.05,
          0.05,
          0.06,
          0.06,
          0.07,
          0.07,
          0.07,
          0.07,
          0.16,
          0.16,
          0.16,
          0.16,
          0.16,
          0.16,
          0.16,
          0.17,
          0.18,
          0.18,
          0.19,
          0.19,
          0.21,
          0.21,
          0.23,
          0.23,
          0.3,
          0.31,
          0.31,
          0.31,
          0.36,
          0.4,
          0.42,
          0.44,
          0.44,
          0.44,
          0.44,
          0.45,
          0.47,
          0.48,
          0.52,
          0.53,
          0.55,
          0.55,
          0.59,
          0.59,
          0.65,
          0.65,
          0.68,
          0.7,
          0.7,
          0.71,
          0.72,
          0.73,
          0.73,
          0.8,
          0.83,
          0.84,
          0.87,
          0.89,
          0.9,
          0.94,
          0.98,
          1
         ],
         "xaxis": "x",
         "y": [
          0,
          0.005988023952095809,
          0.011976047904191617,
          0.015968063872255488,
          0.041916167664670656,
          0.05389221556886228,
          0.06786427145708583,
          0.0998003992015968,
          0.10778443113772455,
          0.10978043912175649,
          0.12375249500998003,
          0.12574850299401197,
          0.14171656686626746,
          0.1437125748502994,
          0.15568862275449102,
          0.17564870259481039,
          0.21756487025948104,
          0.22554890219560877,
          0.23952095808383234,
          0.24151696606786427,
          0.24750499001996007,
          0.31736526946107785,
          0.32335329341317365,
          0.3273453093812375,
          0.3912175648702595,
          0.3992015968063872,
          0.40119760479041916,
          0.40119760479041916,
          0.405189620758483,
          0.41916167664670656,
          0.4231536926147705,
          0.437125748502994,
          0.4411177644710579,
          0.45708582834331335,
          0.4590818363273453,
          0.47904191616766467,
          0.4870259481037924,
          0.5049900199600799,
          0.5189620758483033,
          0.5269461077844312,
          0.5289421157684631,
          0.5409181636726547,
          0.5848303393213573,
          0.5888223552894212,
          0.5968063872255489,
          0.6187624750499002,
          0.6207584830339321,
          0.6427145708582834,
          0.6447105788423154,
          0.6487025948103793,
          0.6726546906187625,
          0.6746506986027944,
          0.6746506986027944,
          0.6786427145708582,
          0.7065868263473054,
          0.7125748502994012,
          0.7485029940119761,
          0.7564870259481038,
          0.7884231536926147,
          0.7924151696606786,
          0.8003992015968064,
          0.8043912175648703,
          0.8063872255489022,
          0.8343313373253493,
          0.8343313373253493,
          0.846307385229541,
          0.8483033932135728,
          0.8602794411177644,
          0.874251497005988,
          0.8902195608782435,
          0.8982035928143712,
          0.9001996007984032,
          0.9101796407185628,
          0.9201596806387226,
          0.9301397205588823,
          0.9321357285429142,
          0.9421157684630739,
          0.9461077844311377,
          0.9540918163672655,
          0.9580838323353293,
          0.9660678642714571,
          0.9740518962075848,
          0.9760479041916168,
          0.9760479041916168,
          0.9780439121756487,
          0.9840319361277445,
          0.9860279441117764,
          0.9960079840319361,
          0.998003992015968,
          0.998003992015968,
          0.998003992015968,
          0.998003992015968,
          0.998003992015968,
          1,
          1,
          1
         ],
         "yaxis": "y"
        }
       ],
       "layout": {
        "height": 600,
        "legend": {
         "tracegroupgap": 0
        },
        "template": {
         "data": {
          "bar": [
           {
            "error_x": {
             "color": "#2a3f5f"
            },
            "error_y": {
             "color": "#2a3f5f"
            },
            "marker": {
             "line": {
              "color": "#E5ECF6",
              "width": 0.5
             }
            },
            "type": "bar"
           }
          ],
          "barpolar": [
           {
            "marker": {
             "line": {
              "color": "#E5ECF6",
              "width": 0.5
             }
            },
            "type": "barpolar"
           }
          ],
          "carpet": [
           {
            "aaxis": {
             "endlinecolor": "#2a3f5f",
             "gridcolor": "white",
             "linecolor": "white",
             "minorgridcolor": "white",
             "startlinecolor": "#2a3f5f"
            },
            "baxis": {
             "endlinecolor": "#2a3f5f",
             "gridcolor": "white",
             "linecolor": "white",
             "minorgridcolor": "white",
             "startlinecolor": "#2a3f5f"
            },
            "type": "carpet"
           }
          ],
          "choropleth": [
           {
            "colorbar": {
             "outlinewidth": 0,
             "ticks": ""
            },
            "type": "choropleth"
           }
          ],
          "contour": [
           {
            "colorbar": {
             "outlinewidth": 0,
             "ticks": ""
            },
            "colorscale": [
             [
              0,
              "#0d0887"
             ],
             [
              0.1111111111111111,
              "#46039f"
             ],
             [
              0.2222222222222222,
              "#7201a8"
             ],
             [
              0.3333333333333333,
              "#9c179e"
             ],
             [
              0.4444444444444444,
              "#bd3786"
             ],
             [
              0.5555555555555556,
              "#d8576b"
             ],
             [
              0.6666666666666666,
              "#ed7953"
             ],
             [
              0.7777777777777778,
              "#fb9f3a"
             ],
             [
              0.8888888888888888,
              "#fdca26"
             ],
             [
              1,
              "#f0f921"
             ]
            ],
            "type": "contour"
           }
          ],
          "contourcarpet": [
           {
            "colorbar": {
             "outlinewidth": 0,
             "ticks": ""
            },
            "type": "contourcarpet"
           }
          ],
          "heatmap": [
           {
            "colorbar": {
             "outlinewidth": 0,
             "ticks": ""
            },
            "colorscale": [
             [
              0,
              "#0d0887"
             ],
             [
              0.1111111111111111,
              "#46039f"
             ],
             [
              0.2222222222222222,
              "#7201a8"
             ],
             [
              0.3333333333333333,
              "#9c179e"
             ],
             [
              0.4444444444444444,
              "#bd3786"
             ],
             [
              0.5555555555555556,
              "#d8576b"
             ],
             [
              0.6666666666666666,
              "#ed7953"
             ],
             [
              0.7777777777777778,
              "#fb9f3a"
             ],
             [
              0.8888888888888888,
              "#fdca26"
             ],
             [
              1,
              "#f0f921"
             ]
            ],
            "type": "heatmap"
           }
          ],
          "heatmapgl": [
           {
            "colorbar": {
             "outlinewidth": 0,
             "ticks": ""
            },
            "colorscale": [
             [
              0,
              "#0d0887"
             ],
             [
              0.1111111111111111,
              "#46039f"
             ],
             [
              0.2222222222222222,
              "#7201a8"
             ],
             [
              0.3333333333333333,
              "#9c179e"
             ],
             [
              0.4444444444444444,
              "#bd3786"
             ],
             [
              0.5555555555555556,
              "#d8576b"
             ],
             [
              0.6666666666666666,
              "#ed7953"
             ],
             [
              0.7777777777777778,
              "#fb9f3a"
             ],
             [
              0.8888888888888888,
              "#fdca26"
             ],
             [
              1,
              "#f0f921"
             ]
            ],
            "type": "heatmapgl"
           }
          ],
          "histogram": [
           {
            "marker": {
             "colorbar": {
              "outlinewidth": 0,
              "ticks": ""
             }
            },
            "type": "histogram"
           }
          ],
          "histogram2d": [
           {
            "colorbar": {
             "outlinewidth": 0,
             "ticks": ""
            },
            "colorscale": [
             [
              0,
              "#0d0887"
             ],
             [
              0.1111111111111111,
              "#46039f"
             ],
             [
              0.2222222222222222,
              "#7201a8"
             ],
             [
              0.3333333333333333,
              "#9c179e"
             ],
             [
              0.4444444444444444,
              "#bd3786"
             ],
             [
              0.5555555555555556,
              "#d8576b"
             ],
             [
              0.6666666666666666,
              "#ed7953"
             ],
             [
              0.7777777777777778,
              "#fb9f3a"
             ],
             [
              0.8888888888888888,
              "#fdca26"
             ],
             [
              1,
              "#f0f921"
             ]
            ],
            "type": "histogram2d"
           }
          ],
          "histogram2dcontour": [
           {
            "colorbar": {
             "outlinewidth": 0,
             "ticks": ""
            },
            "colorscale": [
             [
              0,
              "#0d0887"
             ],
             [
              0.1111111111111111,
              "#46039f"
             ],
             [
              0.2222222222222222,
              "#7201a8"
             ],
             [
              0.3333333333333333,
              "#9c179e"
             ],
             [
              0.4444444444444444,
              "#bd3786"
             ],
             [
              0.5555555555555556,
              "#d8576b"
             ],
             [
              0.6666666666666666,
              "#ed7953"
             ],
             [
              0.7777777777777778,
              "#fb9f3a"
             ],
             [
              0.8888888888888888,
              "#fdca26"
             ],
             [
              1,
              "#f0f921"
             ]
            ],
            "type": "histogram2dcontour"
           }
          ],
          "mesh3d": [
           {
            "colorbar": {
             "outlinewidth": 0,
             "ticks": ""
            },
            "type": "mesh3d"
           }
          ],
          "parcoords": [
           {
            "line": {
             "colorbar": {
              "outlinewidth": 0,
              "ticks": ""
             }
            },
            "type": "parcoords"
           }
          ],
          "pie": [
           {
            "automargin": true,
            "type": "pie"
           }
          ],
          "scatter": [
           {
            "marker": {
             "colorbar": {
              "outlinewidth": 0,
              "ticks": ""
             }
            },
            "type": "scatter"
           }
          ],
          "scatter3d": [
           {
            "line": {
             "colorbar": {
              "outlinewidth": 0,
              "ticks": ""
             }
            },
            "marker": {
             "colorbar": {
              "outlinewidth": 0,
              "ticks": ""
             }
            },
            "type": "scatter3d"
           }
          ],
          "scattercarpet": [
           {
            "marker": {
             "colorbar": {
              "outlinewidth": 0,
              "ticks": ""
             }
            },
            "type": "scattercarpet"
           }
          ],
          "scattergeo": [
           {
            "marker": {
             "colorbar": {
              "outlinewidth": 0,
              "ticks": ""
             }
            },
            "type": "scattergeo"
           }
          ],
          "scattergl": [
           {
            "marker": {
             "colorbar": {
              "outlinewidth": 0,
              "ticks": ""
             }
            },
            "type": "scattergl"
           }
          ],
          "scattermapbox": [
           {
            "marker": {
             "colorbar": {
              "outlinewidth": 0,
              "ticks": ""
             }
            },
            "type": "scattermapbox"
           }
          ],
          "scatterpolar": [
           {
            "marker": {
             "colorbar": {
              "outlinewidth": 0,
              "ticks": ""
             }
            },
            "type": "scatterpolar"
           }
          ],
          "scatterpolargl": [
           {
            "marker": {
             "colorbar": {
              "outlinewidth": 0,
              "ticks": ""
             }
            },
            "type": "scatterpolargl"
           }
          ],
          "scatterternary": [
           {
            "marker": {
             "colorbar": {
              "outlinewidth": 0,
              "ticks": ""
             }
            },
            "type": "scatterternary"
           }
          ],
          "surface": [
           {
            "colorbar": {
             "outlinewidth": 0,
             "ticks": ""
            },
            "colorscale": [
             [
              0,
              "#0d0887"
             ],
             [
              0.1111111111111111,
              "#46039f"
             ],
             [
              0.2222222222222222,
              "#7201a8"
             ],
             [
              0.3333333333333333,
              "#9c179e"
             ],
             [
              0.4444444444444444,
              "#bd3786"
             ],
             [
              0.5555555555555556,
              "#d8576b"
             ],
             [
              0.6666666666666666,
              "#ed7953"
             ],
             [
              0.7777777777777778,
              "#fb9f3a"
             ],
             [
              0.8888888888888888,
              "#fdca26"
             ],
             [
              1,
              "#f0f921"
             ]
            ],
            "type": "surface"
           }
          ],
          "table": [
           {
            "cells": {
             "fill": {
              "color": "#EBF0F8"
             },
             "line": {
              "color": "white"
             }
            },
            "header": {
             "fill": {
              "color": "#C8D4E3"
             },
             "line": {
              "color": "white"
             }
            },
            "type": "table"
           }
          ]
         },
         "layout": {
          "annotationdefaults": {
           "arrowcolor": "#2a3f5f",
           "arrowhead": 0,
           "arrowwidth": 1
          },
          "coloraxis": {
           "colorbar": {
            "outlinewidth": 0,
            "ticks": ""
           }
          },
          "colorscale": {
           "diverging": [
            [
             0,
             "#8e0152"
            ],
            [
             0.1,
             "#c51b7d"
            ],
            [
             0.2,
             "#de77ae"
            ],
            [
             0.3,
             "#f1b6da"
            ],
            [
             0.4,
             "#fde0ef"
            ],
            [
             0.5,
             "#f7f7f7"
            ],
            [
             0.6,
             "#e6f5d0"
            ],
            [
             0.7,
             "#b8e186"
            ],
            [
             0.8,
             "#7fbc41"
            ],
            [
             0.9,
             "#4d9221"
            ],
            [
             1,
             "#276419"
            ]
           ],
           "sequential": [
            [
             0,
             "#0d0887"
            ],
            [
             0.1111111111111111,
             "#46039f"
            ],
            [
             0.2222222222222222,
             "#7201a8"
            ],
            [
             0.3333333333333333,
             "#9c179e"
            ],
            [
             0.4444444444444444,
             "#bd3786"
            ],
            [
             0.5555555555555556,
             "#d8576b"
            ],
            [
             0.6666666666666666,
             "#ed7953"
            ],
            [
             0.7777777777777778,
             "#fb9f3a"
            ],
            [
             0.8888888888888888,
             "#fdca26"
            ],
            [
             1,
             "#f0f921"
            ]
           ],
           "sequentialminus": [
            [
             0,
             "#0d0887"
            ],
            [
             0.1111111111111111,
             "#46039f"
            ],
            [
             0.2222222222222222,
             "#7201a8"
            ],
            [
             0.3333333333333333,
             "#9c179e"
            ],
            [
             0.4444444444444444,
             "#bd3786"
            ],
            [
             0.5555555555555556,
             "#d8576b"
            ],
            [
             0.6666666666666666,
             "#ed7953"
            ],
            [
             0.7777777777777778,
             "#fb9f3a"
            ],
            [
             0.8888888888888888,
             "#fdca26"
            ],
            [
             1,
             "#f0f921"
            ]
           ]
          },
          "colorway": [
           "#636efa",
           "#EF553B",
           "#00cc96",
           "#ab63fa",
           "#FFA15A",
           "#19d3f3",
           "#FF6692",
           "#B6E880",
           "#FF97FF",
           "#FECB52"
          ],
          "font": {
           "color": "#2a3f5f"
          },
          "geo": {
           "bgcolor": "white",
           "lakecolor": "white",
           "landcolor": "#E5ECF6",
           "showlakes": true,
           "showland": true,
           "subunitcolor": "white"
          },
          "hoverlabel": {
           "align": "left"
          },
          "hovermode": "closest",
          "mapbox": {
           "style": "light"
          },
          "paper_bgcolor": "white",
          "plot_bgcolor": "#E5ECF6",
          "polar": {
           "angularaxis": {
            "gridcolor": "white",
            "linecolor": "white",
            "ticks": ""
           },
           "bgcolor": "#E5ECF6",
           "radialaxis": {
            "gridcolor": "white",
            "linecolor": "white",
            "ticks": ""
           }
          },
          "scene": {
           "xaxis": {
            "backgroundcolor": "#E5ECF6",
            "gridcolor": "white",
            "gridwidth": 2,
            "linecolor": "white",
            "showbackground": true,
            "ticks": "",
            "zerolinecolor": "white"
           },
           "yaxis": {
            "backgroundcolor": "#E5ECF6",
            "gridcolor": "white",
            "gridwidth": 2,
            "linecolor": "white",
            "showbackground": true,
            "ticks": "",
            "zerolinecolor": "white"
           },
           "zaxis": {
            "backgroundcolor": "#E5ECF6",
            "gridcolor": "white",
            "gridwidth": 2,
            "linecolor": "white",
            "showbackground": true,
            "ticks": "",
            "zerolinecolor": "white"
           }
          },
          "shapedefaults": {
           "line": {
            "color": "#2a3f5f"
           }
          },
          "ternary": {
           "aaxis": {
            "gridcolor": "white",
            "linecolor": "white",
            "ticks": ""
           },
           "baxis": {
            "gridcolor": "white",
            "linecolor": "white",
            "ticks": ""
           },
           "bgcolor": "#E5ECF6",
           "caxis": {
            "gridcolor": "white",
            "linecolor": "white",
            "ticks": ""
           }
          },
          "title": {
           "x": 0.05
          },
          "xaxis": {
           "automargin": true,
           "gridcolor": "white",
           "linecolor": "white",
           "ticks": "",
           "title": {
            "standoff": 15
           },
           "zerolinecolor": "white",
           "zerolinewidth": 2
          },
          "yaxis": {
           "automargin": true,
           "gridcolor": "white",
           "linecolor": "white",
           "ticks": "",
           "title": {
            "standoff": 15
           },
           "zerolinecolor": "white",
           "zerolinewidth": 2
          }
         }
        },
        "title": {
         "text": "ROC curve for S_garbage"
        },
        "width": 600,
        "xaxis": {
         "anchor": "y",
         "domain": [
          0,
          1
         ],
         "title": {
          "text": "False positive rate"
         }
        },
        "yaxis": {
         "anchor": "x",
         "domain": [
          0,
          1
         ],
         "title": {
          "text": "True positive rate"
         }
        }
       }
      },
      "text/html": [
       "<div>                            <div id=\"1f47155d-b0e2-40b9-8e01-f4c6e94cd428\" class=\"plotly-graph-div\" style=\"height:600px; width:600px;\"></div>            <script type=\"text/javascript\">                require([\"plotly\"], function(Plotly) {                    window.PLOTLYENV=window.PLOTLYENV || {};                                    if (document.getElementById(\"1f47155d-b0e2-40b9-8e01-f4c6e94cd428\")) {                    Plotly.newPlot(                        \"1f47155d-b0e2-40b9-8e01-f4c6e94cd428\",                        [{\"hovertemplate\": \"False positive rate=%{x}<br>True positive rate=%{y}<extra></extra>\", \"legendgroup\": \"\", \"line\": {\"color\": \"#636efa\", \"dash\": \"solid\"}, \"mode\": \"lines\", \"name\": \"\", \"orientation\": \"v\", \"showlegend\": false, \"type\": \"scatter\", \"x\": [0.0, 0.0, 0.0, 0.0, 0.0, 0.0, 0.0, 0.0, 0.0, 0.0, 0.0, 0.0, 0.0, 0.0, 0.0, 0.0, 0.02, 0.02, 0.03, 0.03, 0.03, 0.03, 0.03, 0.03, 0.03, 0.03, 0.03, 0.04, 0.04, 0.04, 0.04, 0.04, 0.04, 0.05, 0.05, 0.05, 0.06, 0.06, 0.07, 0.07, 0.07, 0.07, 0.16, 0.16, 0.16, 0.16, 0.16, 0.16, 0.16, 0.17, 0.18, 0.18, 0.19, 0.19, 0.21, 0.21, 0.23, 0.23, 0.3, 0.31, 0.31, 0.31, 0.36, 0.4, 0.42, 0.44, 0.44, 0.44, 0.44, 0.45, 0.47, 0.48, 0.52, 0.53, 0.55, 0.55, 0.59, 0.59, 0.65, 0.65, 0.68, 0.7, 0.7, 0.71, 0.72, 0.73, 0.73, 0.8, 0.83, 0.84, 0.87, 0.89, 0.9, 0.94, 0.98, 1.0], \"xaxis\": \"x\", \"y\": [0.0, 0.005988023952095809, 0.011976047904191617, 0.015968063872255488, 0.041916167664670656, 0.05389221556886228, 0.06786427145708583, 0.0998003992015968, 0.10778443113772455, 0.10978043912175649, 0.12375249500998003, 0.12574850299401197, 0.14171656686626746, 0.1437125748502994, 0.15568862275449102, 0.17564870259481039, 0.21756487025948104, 0.22554890219560877, 0.23952095808383234, 0.24151696606786427, 0.24750499001996007, 0.31736526946107785, 0.32335329341317365, 0.3273453093812375, 0.3912175648702595, 0.3992015968063872, 0.40119760479041916, 0.40119760479041916, 0.405189620758483, 0.41916167664670656, 0.4231536926147705, 0.437125748502994, 0.4411177644710579, 0.45708582834331335, 0.4590818363273453, 0.47904191616766467, 0.4870259481037924, 0.5049900199600799, 0.5189620758483033, 0.5269461077844312, 0.5289421157684631, 0.5409181636726547, 0.5848303393213573, 0.5888223552894212, 0.5968063872255489, 0.6187624750499002, 0.6207584830339321, 0.6427145708582834, 0.6447105788423154, 0.6487025948103793, 0.6726546906187625, 0.6746506986027944, 0.6746506986027944, 0.6786427145708582, 0.7065868263473054, 0.7125748502994012, 0.7485029940119761, 0.7564870259481038, 0.7884231536926147, 0.7924151696606786, 0.8003992015968064, 0.8043912175648703, 0.8063872255489022, 0.8343313373253493, 0.8343313373253493, 0.846307385229541, 0.8483033932135728, 0.8602794411177644, 0.874251497005988, 0.8902195608782435, 0.8982035928143712, 0.9001996007984032, 0.9101796407185628, 0.9201596806387226, 0.9301397205588823, 0.9321357285429142, 0.9421157684630739, 0.9461077844311377, 0.9540918163672655, 0.9580838323353293, 0.9660678642714571, 0.9740518962075848, 0.9760479041916168, 0.9760479041916168, 0.9780439121756487, 0.9840319361277445, 0.9860279441117764, 0.9960079840319361, 0.998003992015968, 0.998003992015968, 0.998003992015968, 0.998003992015968, 0.998003992015968, 1.0, 1.0, 1.0], \"yaxis\": \"y\"}],                        {\"height\": 600, \"legend\": {\"tracegroupgap\": 0}, \"template\": {\"data\": {\"bar\": [{\"error_x\": {\"color\": \"#2a3f5f\"}, \"error_y\": {\"color\": \"#2a3f5f\"}, \"marker\": {\"line\": {\"color\": \"#E5ECF6\", \"width\": 0.5}}, \"type\": \"bar\"}], \"barpolar\": [{\"marker\": {\"line\": {\"color\": \"#E5ECF6\", \"width\": 0.5}}, \"type\": \"barpolar\"}], \"carpet\": [{\"aaxis\": {\"endlinecolor\": \"#2a3f5f\", \"gridcolor\": \"white\", \"linecolor\": \"white\", \"minorgridcolor\": \"white\", \"startlinecolor\": \"#2a3f5f\"}, \"baxis\": {\"endlinecolor\": \"#2a3f5f\", \"gridcolor\": \"white\", \"linecolor\": \"white\", \"minorgridcolor\": \"white\", \"startlinecolor\": \"#2a3f5f\"}, \"type\": \"carpet\"}], \"choropleth\": [{\"colorbar\": {\"outlinewidth\": 0, \"ticks\": \"\"}, \"type\": \"choropleth\"}], \"contour\": [{\"colorbar\": {\"outlinewidth\": 0, \"ticks\": \"\"}, \"colorscale\": [[0.0, \"#0d0887\"], [0.1111111111111111, \"#46039f\"], [0.2222222222222222, \"#7201a8\"], [0.3333333333333333, \"#9c179e\"], [0.4444444444444444, \"#bd3786\"], [0.5555555555555556, \"#d8576b\"], [0.6666666666666666, \"#ed7953\"], [0.7777777777777778, \"#fb9f3a\"], [0.8888888888888888, \"#fdca26\"], [1.0, \"#f0f921\"]], \"type\": \"contour\"}], \"contourcarpet\": [{\"colorbar\": {\"outlinewidth\": 0, \"ticks\": \"\"}, \"type\": \"contourcarpet\"}], \"heatmap\": [{\"colorbar\": {\"outlinewidth\": 0, \"ticks\": \"\"}, \"colorscale\": [[0.0, \"#0d0887\"], [0.1111111111111111, \"#46039f\"], [0.2222222222222222, \"#7201a8\"], [0.3333333333333333, \"#9c179e\"], [0.4444444444444444, \"#bd3786\"], [0.5555555555555556, \"#d8576b\"], [0.6666666666666666, \"#ed7953\"], [0.7777777777777778, \"#fb9f3a\"], [0.8888888888888888, \"#fdca26\"], [1.0, \"#f0f921\"]], \"type\": \"heatmap\"}], \"heatmapgl\": [{\"colorbar\": {\"outlinewidth\": 0, \"ticks\": \"\"}, \"colorscale\": [[0.0, \"#0d0887\"], [0.1111111111111111, \"#46039f\"], [0.2222222222222222, \"#7201a8\"], [0.3333333333333333, \"#9c179e\"], [0.4444444444444444, \"#bd3786\"], [0.5555555555555556, \"#d8576b\"], [0.6666666666666666, \"#ed7953\"], [0.7777777777777778, \"#fb9f3a\"], [0.8888888888888888, \"#fdca26\"], [1.0, \"#f0f921\"]], \"type\": \"heatmapgl\"}], \"histogram\": [{\"marker\": {\"colorbar\": {\"outlinewidth\": 0, \"ticks\": \"\"}}, \"type\": \"histogram\"}], \"histogram2d\": [{\"colorbar\": {\"outlinewidth\": 0, \"ticks\": \"\"}, \"colorscale\": [[0.0, \"#0d0887\"], [0.1111111111111111, \"#46039f\"], [0.2222222222222222, \"#7201a8\"], [0.3333333333333333, \"#9c179e\"], [0.4444444444444444, \"#bd3786\"], [0.5555555555555556, \"#d8576b\"], [0.6666666666666666, \"#ed7953\"], [0.7777777777777778, \"#fb9f3a\"], [0.8888888888888888, \"#fdca26\"], [1.0, \"#f0f921\"]], \"type\": \"histogram2d\"}], \"histogram2dcontour\": [{\"colorbar\": {\"outlinewidth\": 0, \"ticks\": \"\"}, \"colorscale\": [[0.0, \"#0d0887\"], [0.1111111111111111, \"#46039f\"], [0.2222222222222222, \"#7201a8\"], [0.3333333333333333, \"#9c179e\"], [0.4444444444444444, \"#bd3786\"], [0.5555555555555556, \"#d8576b\"], [0.6666666666666666, \"#ed7953\"], [0.7777777777777778, \"#fb9f3a\"], [0.8888888888888888, \"#fdca26\"], [1.0, \"#f0f921\"]], \"type\": \"histogram2dcontour\"}], \"mesh3d\": [{\"colorbar\": {\"outlinewidth\": 0, \"ticks\": \"\"}, \"type\": \"mesh3d\"}], \"parcoords\": [{\"line\": {\"colorbar\": {\"outlinewidth\": 0, \"ticks\": \"\"}}, \"type\": \"parcoords\"}], \"pie\": [{\"automargin\": true, \"type\": \"pie\"}], \"scatter\": [{\"marker\": {\"colorbar\": {\"outlinewidth\": 0, \"ticks\": \"\"}}, \"type\": \"scatter\"}], \"scatter3d\": [{\"line\": {\"colorbar\": {\"outlinewidth\": 0, \"ticks\": \"\"}}, \"marker\": {\"colorbar\": {\"outlinewidth\": 0, \"ticks\": \"\"}}, \"type\": \"scatter3d\"}], \"scattercarpet\": [{\"marker\": {\"colorbar\": {\"outlinewidth\": 0, \"ticks\": \"\"}}, \"type\": \"scattercarpet\"}], \"scattergeo\": [{\"marker\": {\"colorbar\": {\"outlinewidth\": 0, \"ticks\": \"\"}}, \"type\": \"scattergeo\"}], \"scattergl\": [{\"marker\": {\"colorbar\": {\"outlinewidth\": 0, \"ticks\": \"\"}}, \"type\": \"scattergl\"}], \"scattermapbox\": [{\"marker\": {\"colorbar\": {\"outlinewidth\": 0, \"ticks\": \"\"}}, \"type\": \"scattermapbox\"}], \"scatterpolar\": [{\"marker\": {\"colorbar\": {\"outlinewidth\": 0, \"ticks\": \"\"}}, \"type\": \"scatterpolar\"}], \"scatterpolargl\": [{\"marker\": {\"colorbar\": {\"outlinewidth\": 0, \"ticks\": \"\"}}, \"type\": \"scatterpolargl\"}], \"scatterternary\": [{\"marker\": {\"colorbar\": {\"outlinewidth\": 0, \"ticks\": \"\"}}, \"type\": \"scatterternary\"}], \"surface\": [{\"colorbar\": {\"outlinewidth\": 0, \"ticks\": \"\"}, \"colorscale\": [[0.0, \"#0d0887\"], [0.1111111111111111, \"#46039f\"], [0.2222222222222222, \"#7201a8\"], [0.3333333333333333, \"#9c179e\"], [0.4444444444444444, \"#bd3786\"], [0.5555555555555556, \"#d8576b\"], [0.6666666666666666, \"#ed7953\"], [0.7777777777777778, \"#fb9f3a\"], [0.8888888888888888, \"#fdca26\"], [1.0, \"#f0f921\"]], \"type\": \"surface\"}], \"table\": [{\"cells\": {\"fill\": {\"color\": \"#EBF0F8\"}, \"line\": {\"color\": \"white\"}}, \"header\": {\"fill\": {\"color\": \"#C8D4E3\"}, \"line\": {\"color\": \"white\"}}, \"type\": \"table\"}]}, \"layout\": {\"annotationdefaults\": {\"arrowcolor\": \"#2a3f5f\", \"arrowhead\": 0, \"arrowwidth\": 1}, \"coloraxis\": {\"colorbar\": {\"outlinewidth\": 0, \"ticks\": \"\"}}, \"colorscale\": {\"diverging\": [[0, \"#8e0152\"], [0.1, \"#c51b7d\"], [0.2, \"#de77ae\"], [0.3, \"#f1b6da\"], [0.4, \"#fde0ef\"], [0.5, \"#f7f7f7\"], [0.6, \"#e6f5d0\"], [0.7, \"#b8e186\"], [0.8, \"#7fbc41\"], [0.9, \"#4d9221\"], [1, \"#276419\"]], \"sequential\": [[0.0, \"#0d0887\"], [0.1111111111111111, \"#46039f\"], [0.2222222222222222, \"#7201a8\"], [0.3333333333333333, \"#9c179e\"], [0.4444444444444444, \"#bd3786\"], [0.5555555555555556, \"#d8576b\"], [0.6666666666666666, \"#ed7953\"], [0.7777777777777778, \"#fb9f3a\"], [0.8888888888888888, \"#fdca26\"], [1.0, \"#f0f921\"]], \"sequentialminus\": [[0.0, \"#0d0887\"], [0.1111111111111111, \"#46039f\"], [0.2222222222222222, \"#7201a8\"], [0.3333333333333333, \"#9c179e\"], [0.4444444444444444, \"#bd3786\"], [0.5555555555555556, \"#d8576b\"], [0.6666666666666666, \"#ed7953\"], [0.7777777777777778, \"#fb9f3a\"], [0.8888888888888888, \"#fdca26\"], [1.0, \"#f0f921\"]]}, \"colorway\": [\"#636efa\", \"#EF553B\", \"#00cc96\", \"#ab63fa\", \"#FFA15A\", \"#19d3f3\", \"#FF6692\", \"#B6E880\", \"#FF97FF\", \"#FECB52\"], \"font\": {\"color\": \"#2a3f5f\"}, \"geo\": {\"bgcolor\": \"white\", \"lakecolor\": \"white\", \"landcolor\": \"#E5ECF6\", \"showlakes\": true, \"showland\": true, \"subunitcolor\": \"white\"}, \"hoverlabel\": {\"align\": \"left\"}, \"hovermode\": \"closest\", \"mapbox\": {\"style\": \"light\"}, \"paper_bgcolor\": \"white\", \"plot_bgcolor\": \"#E5ECF6\", \"polar\": {\"angularaxis\": {\"gridcolor\": \"white\", \"linecolor\": \"white\", \"ticks\": \"\"}, \"bgcolor\": \"#E5ECF6\", \"radialaxis\": {\"gridcolor\": \"white\", \"linecolor\": \"white\", \"ticks\": \"\"}}, \"scene\": {\"xaxis\": {\"backgroundcolor\": \"#E5ECF6\", \"gridcolor\": \"white\", \"gridwidth\": 2, \"linecolor\": \"white\", \"showbackground\": true, \"ticks\": \"\", \"zerolinecolor\": \"white\"}, \"yaxis\": {\"backgroundcolor\": \"#E5ECF6\", \"gridcolor\": \"white\", \"gridwidth\": 2, \"linecolor\": \"white\", \"showbackground\": true, \"ticks\": \"\", \"zerolinecolor\": \"white\"}, \"zaxis\": {\"backgroundcolor\": \"#E5ECF6\", \"gridcolor\": \"white\", \"gridwidth\": 2, \"linecolor\": \"white\", \"showbackground\": true, \"ticks\": \"\", \"zerolinecolor\": \"white\"}}, \"shapedefaults\": {\"line\": {\"color\": \"#2a3f5f\"}}, \"ternary\": {\"aaxis\": {\"gridcolor\": \"white\", \"linecolor\": \"white\", \"ticks\": \"\"}, \"baxis\": {\"gridcolor\": \"white\", \"linecolor\": \"white\", \"ticks\": \"\"}, \"bgcolor\": \"#E5ECF6\", \"caxis\": {\"gridcolor\": \"white\", \"linecolor\": \"white\", \"ticks\": \"\"}}, \"title\": {\"x\": 0.05}, \"xaxis\": {\"automargin\": true, \"gridcolor\": \"white\", \"linecolor\": \"white\", \"ticks\": \"\", \"title\": {\"standoff\": 15}, \"zerolinecolor\": \"white\", \"zerolinewidth\": 2}, \"yaxis\": {\"automargin\": true, \"gridcolor\": \"white\", \"linecolor\": \"white\", \"ticks\": \"\", \"title\": {\"standoff\": 15}, \"zerolinecolor\": \"white\", \"zerolinewidth\": 2}}}, \"title\": {\"text\": \"ROC curve for S_garbage\"}, \"width\": 600, \"xaxis\": {\"anchor\": \"y\", \"domain\": [0.0, 1.0], \"title\": {\"text\": \"False positive rate\"}}, \"yaxis\": {\"anchor\": \"x\", \"domain\": [0.0, 1.0], \"title\": {\"text\": \"True positive rate\"}}},                        {\"responsive\": true}                    ).then(function(){\n",
       "                            \n",
       "var gd = document.getElementById('1f47155d-b0e2-40b9-8e01-f4c6e94cd428');\n",
       "var x = new MutationObserver(function (mutations, observer) {{\n",
       "        var display = window.getComputedStyle(gd).display;\n",
       "        if (!display || display === 'none') {{\n",
       "            console.log([gd, 'removed!']);\n",
       "            Plotly.purge(gd);\n",
       "            observer.disconnect();\n",
       "        }}\n",
       "}});\n",
       "\n",
       "// Listen for the removal of the full notebook cells\n",
       "var notebookContainer = gd.closest('#notebook-container');\n",
       "if (notebookContainer) {{\n",
       "    x.observe(notebookContainer, {childList: true});\n",
       "}}\n",
       "\n",
       "// Listen for the clearing of the current output cell\n",
       "var outputEl = gd.closest('.output');\n",
       "if (outputEl) {{\n",
       "    x.observe(outputEl, {childList: true});\n",
       "}}\n",
       "\n",
       "                        })                };                });            </script>        </div>"
      ]
     },
     "metadata": {},
     "output_type": "display_data"
    }
   ],
   "source": [
    "from sklearn.ensemble import GradientBoostingClassifier\n",
    "def plot_AUC_curve(model, survey_targets):\n",
    "    fig = go.Figure()\n",
    "    for target in survey_targets:\n",
    "        model.fit(df_census_train, df_survey_train[target])\n",
    "        prediction = model.predict(df_census_test)\n",
    "        fpr, tpr, thresholds = roc_curve(df_survey_test[target], prediction)\n",
    "        auc_metric = roc_auc_score(df_survey_test[target], prediction)\n",
    "    print(f'The Area Under ROC curve is {auc_metric}')\n",
    "    label_dict = {'x':'False positive rate', 'y':'True positive rate'}\n",
    "    fig = px.line(x=fpr, y=tpr, width=600, height=600, title=f'ROC curve for {target}', labels=label_dict)\n",
    "    fig.show()\n",
    "plot_AUC_curve(GradientBoostingRegressor(), ['S_garbage'])"
   ]
  },
  {
   "cell_type": "code",
   "execution_count": 16,
   "metadata": {},
   "outputs": [
    {
     "data": {
      "application/vnd.plotly.v1+json": {
       "config": {
        "plotlyServerURL": "https://plot.ly"
       },
       "data": [
        {
         "type": "bar",
         "x": [
          "C_blocksdirtfloor",
          "C_gasheater",
          "C_dropouts515",
          "C_headeduc",
          "C_earnincome",
          "C_poverty",
          "C_illiterate",
          "C_child05",
          "C_vehicle",
          "C_waterhouse",
          "C_waterbath",
          "C_employment",
          "C_households",
          "C_HHpersons",
          "C_waterland",
          "C_washing",
          "C_refrigerator",
          "C_people",
          "C_rooms",
          "C_overcrowding",
          "C_telephone",
          "C_HHdirtfloor"
         ],
         "y": [
          0.19508134500780758,
          0.1633570281695742,
          0.09518396738839552,
          0.07568829369958797,
          0.0609443374264058,
          0.055160648198368155,
          0.050578461915002475,
          0.04961995665809992,
          0.04283738526178796,
          0.04095640959013401,
          0.027693247283773873,
          0.02339850256323613,
          0.01883169418376527,
          0.01618591578879052,
          0.014615300669324297,
          0.014501012351065073,
          0.0115251092997905,
          0.011337614811657126,
          0.008779608750601797,
          0.008739165005058685,
          0.008629557808094455,
          0.0063554381696785235
         ]
        }
       ],
       "layout": {
        "template": {
         "data": {
          "bar": [
           {
            "error_x": {
             "color": "#2a3f5f"
            },
            "error_y": {
             "color": "#2a3f5f"
            },
            "marker": {
             "line": {
              "color": "#E5ECF6",
              "width": 0.5
             }
            },
            "type": "bar"
           }
          ],
          "barpolar": [
           {
            "marker": {
             "line": {
              "color": "#E5ECF6",
              "width": 0.5
             }
            },
            "type": "barpolar"
           }
          ],
          "carpet": [
           {
            "aaxis": {
             "endlinecolor": "#2a3f5f",
             "gridcolor": "white",
             "linecolor": "white",
             "minorgridcolor": "white",
             "startlinecolor": "#2a3f5f"
            },
            "baxis": {
             "endlinecolor": "#2a3f5f",
             "gridcolor": "white",
             "linecolor": "white",
             "minorgridcolor": "white",
             "startlinecolor": "#2a3f5f"
            },
            "type": "carpet"
           }
          ],
          "choropleth": [
           {
            "colorbar": {
             "outlinewidth": 0,
             "ticks": ""
            },
            "type": "choropleth"
           }
          ],
          "contour": [
           {
            "colorbar": {
             "outlinewidth": 0,
             "ticks": ""
            },
            "colorscale": [
             [
              0,
              "#0d0887"
             ],
             [
              0.1111111111111111,
              "#46039f"
             ],
             [
              0.2222222222222222,
              "#7201a8"
             ],
             [
              0.3333333333333333,
              "#9c179e"
             ],
             [
              0.4444444444444444,
              "#bd3786"
             ],
             [
              0.5555555555555556,
              "#d8576b"
             ],
             [
              0.6666666666666666,
              "#ed7953"
             ],
             [
              0.7777777777777778,
              "#fb9f3a"
             ],
             [
              0.8888888888888888,
              "#fdca26"
             ],
             [
              1,
              "#f0f921"
             ]
            ],
            "type": "contour"
           }
          ],
          "contourcarpet": [
           {
            "colorbar": {
             "outlinewidth": 0,
             "ticks": ""
            },
            "type": "contourcarpet"
           }
          ],
          "heatmap": [
           {
            "colorbar": {
             "outlinewidth": 0,
             "ticks": ""
            },
            "colorscale": [
             [
              0,
              "#0d0887"
             ],
             [
              0.1111111111111111,
              "#46039f"
             ],
             [
              0.2222222222222222,
              "#7201a8"
             ],
             [
              0.3333333333333333,
              "#9c179e"
             ],
             [
              0.4444444444444444,
              "#bd3786"
             ],
             [
              0.5555555555555556,
              "#d8576b"
             ],
             [
              0.6666666666666666,
              "#ed7953"
             ],
             [
              0.7777777777777778,
              "#fb9f3a"
             ],
             [
              0.8888888888888888,
              "#fdca26"
             ],
             [
              1,
              "#f0f921"
             ]
            ],
            "type": "heatmap"
           }
          ],
          "heatmapgl": [
           {
            "colorbar": {
             "outlinewidth": 0,
             "ticks": ""
            },
            "colorscale": [
             [
              0,
              "#0d0887"
             ],
             [
              0.1111111111111111,
              "#46039f"
             ],
             [
              0.2222222222222222,
              "#7201a8"
             ],
             [
              0.3333333333333333,
              "#9c179e"
             ],
             [
              0.4444444444444444,
              "#bd3786"
             ],
             [
              0.5555555555555556,
              "#d8576b"
             ],
             [
              0.6666666666666666,
              "#ed7953"
             ],
             [
              0.7777777777777778,
              "#fb9f3a"
             ],
             [
              0.8888888888888888,
              "#fdca26"
             ],
             [
              1,
              "#f0f921"
             ]
            ],
            "type": "heatmapgl"
           }
          ],
          "histogram": [
           {
            "marker": {
             "colorbar": {
              "outlinewidth": 0,
              "ticks": ""
             }
            },
            "type": "histogram"
           }
          ],
          "histogram2d": [
           {
            "colorbar": {
             "outlinewidth": 0,
             "ticks": ""
            },
            "colorscale": [
             [
              0,
              "#0d0887"
             ],
             [
              0.1111111111111111,
              "#46039f"
             ],
             [
              0.2222222222222222,
              "#7201a8"
             ],
             [
              0.3333333333333333,
              "#9c179e"
             ],
             [
              0.4444444444444444,
              "#bd3786"
             ],
             [
              0.5555555555555556,
              "#d8576b"
             ],
             [
              0.6666666666666666,
              "#ed7953"
             ],
             [
              0.7777777777777778,
              "#fb9f3a"
             ],
             [
              0.8888888888888888,
              "#fdca26"
             ],
             [
              1,
              "#f0f921"
             ]
            ],
            "type": "histogram2d"
           }
          ],
          "histogram2dcontour": [
           {
            "colorbar": {
             "outlinewidth": 0,
             "ticks": ""
            },
            "colorscale": [
             [
              0,
              "#0d0887"
             ],
             [
              0.1111111111111111,
              "#46039f"
             ],
             [
              0.2222222222222222,
              "#7201a8"
             ],
             [
              0.3333333333333333,
              "#9c179e"
             ],
             [
              0.4444444444444444,
              "#bd3786"
             ],
             [
              0.5555555555555556,
              "#d8576b"
             ],
             [
              0.6666666666666666,
              "#ed7953"
             ],
             [
              0.7777777777777778,
              "#fb9f3a"
             ],
             [
              0.8888888888888888,
              "#fdca26"
             ],
             [
              1,
              "#f0f921"
             ]
            ],
            "type": "histogram2dcontour"
           }
          ],
          "mesh3d": [
           {
            "colorbar": {
             "outlinewidth": 0,
             "ticks": ""
            },
            "type": "mesh3d"
           }
          ],
          "parcoords": [
           {
            "line": {
             "colorbar": {
              "outlinewidth": 0,
              "ticks": ""
             }
            },
            "type": "parcoords"
           }
          ],
          "pie": [
           {
            "automargin": true,
            "type": "pie"
           }
          ],
          "scatter": [
           {
            "marker": {
             "colorbar": {
              "outlinewidth": 0,
              "ticks": ""
             }
            },
            "type": "scatter"
           }
          ],
          "scatter3d": [
           {
            "line": {
             "colorbar": {
              "outlinewidth": 0,
              "ticks": ""
             }
            },
            "marker": {
             "colorbar": {
              "outlinewidth": 0,
              "ticks": ""
             }
            },
            "type": "scatter3d"
           }
          ],
          "scattercarpet": [
           {
            "marker": {
             "colorbar": {
              "outlinewidth": 0,
              "ticks": ""
             }
            },
            "type": "scattercarpet"
           }
          ],
          "scattergeo": [
           {
            "marker": {
             "colorbar": {
              "outlinewidth": 0,
              "ticks": ""
             }
            },
            "type": "scattergeo"
           }
          ],
          "scattergl": [
           {
            "marker": {
             "colorbar": {
              "outlinewidth": 0,
              "ticks": ""
             }
            },
            "type": "scattergl"
           }
          ],
          "scattermapbox": [
           {
            "marker": {
             "colorbar": {
              "outlinewidth": 0,
              "ticks": ""
             }
            },
            "type": "scattermapbox"
           }
          ],
          "scatterpolar": [
           {
            "marker": {
             "colorbar": {
              "outlinewidth": 0,
              "ticks": ""
             }
            },
            "type": "scatterpolar"
           }
          ],
          "scatterpolargl": [
           {
            "marker": {
             "colorbar": {
              "outlinewidth": 0,
              "ticks": ""
             }
            },
            "type": "scatterpolargl"
           }
          ],
          "scatterternary": [
           {
            "marker": {
             "colorbar": {
              "outlinewidth": 0,
              "ticks": ""
             }
            },
            "type": "scatterternary"
           }
          ],
          "surface": [
           {
            "colorbar": {
             "outlinewidth": 0,
             "ticks": ""
            },
            "colorscale": [
             [
              0,
              "#0d0887"
             ],
             [
              0.1111111111111111,
              "#46039f"
             ],
             [
              0.2222222222222222,
              "#7201a8"
             ],
             [
              0.3333333333333333,
              "#9c179e"
             ],
             [
              0.4444444444444444,
              "#bd3786"
             ],
             [
              0.5555555555555556,
              "#d8576b"
             ],
             [
              0.6666666666666666,
              "#ed7953"
             ],
             [
              0.7777777777777778,
              "#fb9f3a"
             ],
             [
              0.8888888888888888,
              "#fdca26"
             ],
             [
              1,
              "#f0f921"
             ]
            ],
            "type": "surface"
           }
          ],
          "table": [
           {
            "cells": {
             "fill": {
              "color": "#EBF0F8"
             },
             "line": {
              "color": "white"
             }
            },
            "header": {
             "fill": {
              "color": "#C8D4E3"
             },
             "line": {
              "color": "white"
             }
            },
            "type": "table"
           }
          ]
         },
         "layout": {
          "annotationdefaults": {
           "arrowcolor": "#2a3f5f",
           "arrowhead": 0,
           "arrowwidth": 1
          },
          "coloraxis": {
           "colorbar": {
            "outlinewidth": 0,
            "ticks": ""
           }
          },
          "colorscale": {
           "diverging": [
            [
             0,
             "#8e0152"
            ],
            [
             0.1,
             "#c51b7d"
            ],
            [
             0.2,
             "#de77ae"
            ],
            [
             0.3,
             "#f1b6da"
            ],
            [
             0.4,
             "#fde0ef"
            ],
            [
             0.5,
             "#f7f7f7"
            ],
            [
             0.6,
             "#e6f5d0"
            ],
            [
             0.7,
             "#b8e186"
            ],
            [
             0.8,
             "#7fbc41"
            ],
            [
             0.9,
             "#4d9221"
            ],
            [
             1,
             "#276419"
            ]
           ],
           "sequential": [
            [
             0,
             "#0d0887"
            ],
            [
             0.1111111111111111,
             "#46039f"
            ],
            [
             0.2222222222222222,
             "#7201a8"
            ],
            [
             0.3333333333333333,
             "#9c179e"
            ],
            [
             0.4444444444444444,
             "#bd3786"
            ],
            [
             0.5555555555555556,
             "#d8576b"
            ],
            [
             0.6666666666666666,
             "#ed7953"
            ],
            [
             0.7777777777777778,
             "#fb9f3a"
            ],
            [
             0.8888888888888888,
             "#fdca26"
            ],
            [
             1,
             "#f0f921"
            ]
           ],
           "sequentialminus": [
            [
             0,
             "#0d0887"
            ],
            [
             0.1111111111111111,
             "#46039f"
            ],
            [
             0.2222222222222222,
             "#7201a8"
            ],
            [
             0.3333333333333333,
             "#9c179e"
            ],
            [
             0.4444444444444444,
             "#bd3786"
            ],
            [
             0.5555555555555556,
             "#d8576b"
            ],
            [
             0.6666666666666666,
             "#ed7953"
            ],
            [
             0.7777777777777778,
             "#fb9f3a"
            ],
            [
             0.8888888888888888,
             "#fdca26"
            ],
            [
             1,
             "#f0f921"
            ]
           ]
          },
          "colorway": [
           "#636efa",
           "#EF553B",
           "#00cc96",
           "#ab63fa",
           "#FFA15A",
           "#19d3f3",
           "#FF6692",
           "#B6E880",
           "#FF97FF",
           "#FECB52"
          ],
          "font": {
           "color": "#2a3f5f"
          },
          "geo": {
           "bgcolor": "white",
           "lakecolor": "white",
           "landcolor": "#E5ECF6",
           "showlakes": true,
           "showland": true,
           "subunitcolor": "white"
          },
          "hoverlabel": {
           "align": "left"
          },
          "hovermode": "closest",
          "mapbox": {
           "style": "light"
          },
          "paper_bgcolor": "white",
          "plot_bgcolor": "#E5ECF6",
          "polar": {
           "angularaxis": {
            "gridcolor": "white",
            "linecolor": "white",
            "ticks": ""
           },
           "bgcolor": "#E5ECF6",
           "radialaxis": {
            "gridcolor": "white",
            "linecolor": "white",
            "ticks": ""
           }
          },
          "scene": {
           "xaxis": {
            "backgroundcolor": "#E5ECF6",
            "gridcolor": "white",
            "gridwidth": 2,
            "linecolor": "white",
            "showbackground": true,
            "ticks": "",
            "zerolinecolor": "white"
           },
           "yaxis": {
            "backgroundcolor": "#E5ECF6",
            "gridcolor": "white",
            "gridwidth": 2,
            "linecolor": "white",
            "showbackground": true,
            "ticks": "",
            "zerolinecolor": "white"
           },
           "zaxis": {
            "backgroundcolor": "#E5ECF6",
            "gridcolor": "white",
            "gridwidth": 2,
            "linecolor": "white",
            "showbackground": true,
            "ticks": "",
            "zerolinecolor": "white"
           }
          },
          "shapedefaults": {
           "line": {
            "color": "#2a3f5f"
           }
          },
          "ternary": {
           "aaxis": {
            "gridcolor": "white",
            "linecolor": "white",
            "ticks": ""
           },
           "baxis": {
            "gridcolor": "white",
            "linecolor": "white",
            "ticks": ""
           },
           "bgcolor": "#E5ECF6",
           "caxis": {
            "gridcolor": "white",
            "linecolor": "white",
            "ticks": ""
           }
          },
          "title": {
           "x": 0.05
          },
          "xaxis": {
           "automargin": true,
           "gridcolor": "white",
           "linecolor": "white",
           "ticks": "",
           "title": {
            "standoff": 15
           },
           "zerolinecolor": "white",
           "zerolinewidth": 2
          },
          "yaxis": {
           "automargin": true,
           "gridcolor": "white",
           "linecolor": "white",
           "ticks": "",
           "title": {
            "standoff": 15
           },
           "zerolinecolor": "white",
           "zerolinewidth": 2
          }
         }
        }
       }
      },
      "text/html": [
       "<div>                            <div id=\"232cf1c2-acd9-4c89-8c87-83befbb7efd4\" class=\"plotly-graph-div\" style=\"height:525px; width:100%;\"></div>            <script type=\"text/javascript\">                require([\"plotly\"], function(Plotly) {                    window.PLOTLYENV=window.PLOTLYENV || {};                                    if (document.getElementById(\"232cf1c2-acd9-4c89-8c87-83befbb7efd4\")) {                    Plotly.newPlot(                        \"232cf1c2-acd9-4c89-8c87-83befbb7efd4\",                        [{\"type\": \"bar\", \"x\": [\"C_blocksdirtfloor\", \"C_gasheater\", \"C_dropouts515\", \"C_headeduc\", \"C_earnincome\", \"C_poverty\", \"C_illiterate\", \"C_child05\", \"C_vehicle\", \"C_waterhouse\", \"C_waterbath\", \"C_employment\", \"C_households\", \"C_HHpersons\", \"C_waterland\", \"C_washing\", \"C_refrigerator\", \"C_people\", \"C_rooms\", \"C_overcrowding\", \"C_telephone\", \"C_HHdirtfloor\"], \"y\": [0.19508134500780758, 0.1633570281695742, 0.09518396738839552, 0.07568829369958797, 0.0609443374264058, 0.055160648198368155, 0.050578461915002475, 0.04961995665809992, 0.04283738526178796, 0.04095640959013401, 0.027693247283773873, 0.02339850256323613, 0.01883169418376527, 0.01618591578879052, 0.014615300669324297, 0.014501012351065073, 0.0115251092997905, 0.011337614811657126, 0.008779608750601797, 0.008739165005058685, 0.008629557808094455, 0.0063554381696785235]}],                        {\"template\": {\"data\": {\"bar\": [{\"error_x\": {\"color\": \"#2a3f5f\"}, \"error_y\": {\"color\": \"#2a3f5f\"}, \"marker\": {\"line\": {\"color\": \"#E5ECF6\", \"width\": 0.5}}, \"type\": \"bar\"}], \"barpolar\": [{\"marker\": {\"line\": {\"color\": \"#E5ECF6\", \"width\": 0.5}}, \"type\": \"barpolar\"}], \"carpet\": [{\"aaxis\": {\"endlinecolor\": \"#2a3f5f\", \"gridcolor\": \"white\", \"linecolor\": \"white\", \"minorgridcolor\": \"white\", \"startlinecolor\": \"#2a3f5f\"}, \"baxis\": {\"endlinecolor\": \"#2a3f5f\", \"gridcolor\": \"white\", \"linecolor\": \"white\", \"minorgridcolor\": \"white\", \"startlinecolor\": \"#2a3f5f\"}, \"type\": \"carpet\"}], \"choropleth\": [{\"colorbar\": {\"outlinewidth\": 0, \"ticks\": \"\"}, \"type\": \"choropleth\"}], \"contour\": [{\"colorbar\": {\"outlinewidth\": 0, \"ticks\": \"\"}, \"colorscale\": [[0.0, \"#0d0887\"], [0.1111111111111111, \"#46039f\"], [0.2222222222222222, \"#7201a8\"], [0.3333333333333333, \"#9c179e\"], [0.4444444444444444, \"#bd3786\"], [0.5555555555555556, \"#d8576b\"], [0.6666666666666666, \"#ed7953\"], [0.7777777777777778, \"#fb9f3a\"], [0.8888888888888888, \"#fdca26\"], [1.0, \"#f0f921\"]], \"type\": \"contour\"}], \"contourcarpet\": [{\"colorbar\": {\"outlinewidth\": 0, \"ticks\": \"\"}, \"type\": \"contourcarpet\"}], \"heatmap\": [{\"colorbar\": {\"outlinewidth\": 0, \"ticks\": \"\"}, \"colorscale\": [[0.0, \"#0d0887\"], [0.1111111111111111, \"#46039f\"], [0.2222222222222222, \"#7201a8\"], [0.3333333333333333, \"#9c179e\"], [0.4444444444444444, \"#bd3786\"], [0.5555555555555556, \"#d8576b\"], [0.6666666666666666, \"#ed7953\"], [0.7777777777777778, \"#fb9f3a\"], [0.8888888888888888, \"#fdca26\"], [1.0, \"#f0f921\"]], \"type\": \"heatmap\"}], \"heatmapgl\": [{\"colorbar\": {\"outlinewidth\": 0, \"ticks\": \"\"}, \"colorscale\": [[0.0, \"#0d0887\"], [0.1111111111111111, \"#46039f\"], [0.2222222222222222, \"#7201a8\"], [0.3333333333333333, \"#9c179e\"], [0.4444444444444444, \"#bd3786\"], [0.5555555555555556, \"#d8576b\"], [0.6666666666666666, \"#ed7953\"], [0.7777777777777778, \"#fb9f3a\"], [0.8888888888888888, \"#fdca26\"], [1.0, \"#f0f921\"]], \"type\": \"heatmapgl\"}], \"histogram\": [{\"marker\": {\"colorbar\": {\"outlinewidth\": 0, \"ticks\": \"\"}}, \"type\": \"histogram\"}], \"histogram2d\": [{\"colorbar\": {\"outlinewidth\": 0, \"ticks\": \"\"}, \"colorscale\": [[0.0, \"#0d0887\"], [0.1111111111111111, \"#46039f\"], [0.2222222222222222, \"#7201a8\"], [0.3333333333333333, \"#9c179e\"], [0.4444444444444444, \"#bd3786\"], [0.5555555555555556, \"#d8576b\"], [0.6666666666666666, \"#ed7953\"], [0.7777777777777778, \"#fb9f3a\"], [0.8888888888888888, \"#fdca26\"], [1.0, \"#f0f921\"]], \"type\": \"histogram2d\"}], \"histogram2dcontour\": [{\"colorbar\": {\"outlinewidth\": 0, \"ticks\": \"\"}, \"colorscale\": [[0.0, \"#0d0887\"], [0.1111111111111111, \"#46039f\"], [0.2222222222222222, \"#7201a8\"], [0.3333333333333333, \"#9c179e\"], [0.4444444444444444, \"#bd3786\"], [0.5555555555555556, \"#d8576b\"], [0.6666666666666666, \"#ed7953\"], [0.7777777777777778, \"#fb9f3a\"], [0.8888888888888888, \"#fdca26\"], [1.0, \"#f0f921\"]], \"type\": \"histogram2dcontour\"}], \"mesh3d\": [{\"colorbar\": {\"outlinewidth\": 0, \"ticks\": \"\"}, \"type\": \"mesh3d\"}], \"parcoords\": [{\"line\": {\"colorbar\": {\"outlinewidth\": 0, \"ticks\": \"\"}}, \"type\": \"parcoords\"}], \"pie\": [{\"automargin\": true, \"type\": \"pie\"}], \"scatter\": [{\"marker\": {\"colorbar\": {\"outlinewidth\": 0, \"ticks\": \"\"}}, \"type\": \"scatter\"}], \"scatter3d\": [{\"line\": {\"colorbar\": {\"outlinewidth\": 0, \"ticks\": \"\"}}, \"marker\": {\"colorbar\": {\"outlinewidth\": 0, \"ticks\": \"\"}}, \"type\": \"scatter3d\"}], \"scattercarpet\": [{\"marker\": {\"colorbar\": {\"outlinewidth\": 0, \"ticks\": \"\"}}, \"type\": \"scattercarpet\"}], \"scattergeo\": [{\"marker\": {\"colorbar\": {\"outlinewidth\": 0, \"ticks\": \"\"}}, \"type\": \"scattergeo\"}], \"scattergl\": [{\"marker\": {\"colorbar\": {\"outlinewidth\": 0, \"ticks\": \"\"}}, \"type\": \"scattergl\"}], \"scattermapbox\": [{\"marker\": {\"colorbar\": {\"outlinewidth\": 0, \"ticks\": \"\"}}, \"type\": \"scattermapbox\"}], \"scatterpolar\": [{\"marker\": {\"colorbar\": {\"outlinewidth\": 0, \"ticks\": \"\"}}, \"type\": \"scatterpolar\"}], \"scatterpolargl\": [{\"marker\": {\"colorbar\": {\"outlinewidth\": 0, \"ticks\": \"\"}}, \"type\": \"scatterpolargl\"}], \"scatterternary\": [{\"marker\": {\"colorbar\": {\"outlinewidth\": 0, \"ticks\": \"\"}}, \"type\": \"scatterternary\"}], \"surface\": [{\"colorbar\": {\"outlinewidth\": 0, \"ticks\": \"\"}, \"colorscale\": [[0.0, \"#0d0887\"], [0.1111111111111111, \"#46039f\"], [0.2222222222222222, \"#7201a8\"], [0.3333333333333333, \"#9c179e\"], [0.4444444444444444, \"#bd3786\"], [0.5555555555555556, \"#d8576b\"], [0.6666666666666666, \"#ed7953\"], [0.7777777777777778, \"#fb9f3a\"], [0.8888888888888888, \"#fdca26\"], [1.0, \"#f0f921\"]], \"type\": \"surface\"}], \"table\": [{\"cells\": {\"fill\": {\"color\": \"#EBF0F8\"}, \"line\": {\"color\": \"white\"}}, \"header\": {\"fill\": {\"color\": \"#C8D4E3\"}, \"line\": {\"color\": \"white\"}}, \"type\": \"table\"}]}, \"layout\": {\"annotationdefaults\": {\"arrowcolor\": \"#2a3f5f\", \"arrowhead\": 0, \"arrowwidth\": 1}, \"coloraxis\": {\"colorbar\": {\"outlinewidth\": 0, \"ticks\": \"\"}}, \"colorscale\": {\"diverging\": [[0, \"#8e0152\"], [0.1, \"#c51b7d\"], [0.2, \"#de77ae\"], [0.3, \"#f1b6da\"], [0.4, \"#fde0ef\"], [0.5, \"#f7f7f7\"], [0.6, \"#e6f5d0\"], [0.7, \"#b8e186\"], [0.8, \"#7fbc41\"], [0.9, \"#4d9221\"], [1, \"#276419\"]], \"sequential\": [[0.0, \"#0d0887\"], [0.1111111111111111, \"#46039f\"], [0.2222222222222222, \"#7201a8\"], [0.3333333333333333, \"#9c179e\"], [0.4444444444444444, \"#bd3786\"], [0.5555555555555556, \"#d8576b\"], [0.6666666666666666, \"#ed7953\"], [0.7777777777777778, \"#fb9f3a\"], [0.8888888888888888, \"#fdca26\"], [1.0, \"#f0f921\"]], \"sequentialminus\": [[0.0, \"#0d0887\"], [0.1111111111111111, \"#46039f\"], [0.2222222222222222, \"#7201a8\"], [0.3333333333333333, \"#9c179e\"], [0.4444444444444444, \"#bd3786\"], [0.5555555555555556, \"#d8576b\"], [0.6666666666666666, \"#ed7953\"], [0.7777777777777778, \"#fb9f3a\"], [0.8888888888888888, \"#fdca26\"], [1.0, \"#f0f921\"]]}, \"colorway\": [\"#636efa\", \"#EF553B\", \"#00cc96\", \"#ab63fa\", \"#FFA15A\", \"#19d3f3\", \"#FF6692\", \"#B6E880\", \"#FF97FF\", \"#FECB52\"], \"font\": {\"color\": \"#2a3f5f\"}, \"geo\": {\"bgcolor\": \"white\", \"lakecolor\": \"white\", \"landcolor\": \"#E5ECF6\", \"showlakes\": true, \"showland\": true, \"subunitcolor\": \"white\"}, \"hoverlabel\": {\"align\": \"left\"}, \"hovermode\": \"closest\", \"mapbox\": {\"style\": \"light\"}, \"paper_bgcolor\": \"white\", \"plot_bgcolor\": \"#E5ECF6\", \"polar\": {\"angularaxis\": {\"gridcolor\": \"white\", \"linecolor\": \"white\", \"ticks\": \"\"}, \"bgcolor\": \"#E5ECF6\", \"radialaxis\": {\"gridcolor\": \"white\", \"linecolor\": \"white\", \"ticks\": \"\"}}, \"scene\": {\"xaxis\": {\"backgroundcolor\": \"#E5ECF6\", \"gridcolor\": \"white\", \"gridwidth\": 2, \"linecolor\": \"white\", \"showbackground\": true, \"ticks\": \"\", \"zerolinecolor\": \"white\"}, \"yaxis\": {\"backgroundcolor\": \"#E5ECF6\", \"gridcolor\": \"white\", \"gridwidth\": 2, \"linecolor\": \"white\", \"showbackground\": true, \"ticks\": \"\", \"zerolinecolor\": \"white\"}, \"zaxis\": {\"backgroundcolor\": \"#E5ECF6\", \"gridcolor\": \"white\", \"gridwidth\": 2, \"linecolor\": \"white\", \"showbackground\": true, \"ticks\": \"\", \"zerolinecolor\": \"white\"}}, \"shapedefaults\": {\"line\": {\"color\": \"#2a3f5f\"}}, \"ternary\": {\"aaxis\": {\"gridcolor\": \"white\", \"linecolor\": \"white\", \"ticks\": \"\"}, \"baxis\": {\"gridcolor\": \"white\", \"linecolor\": \"white\", \"ticks\": \"\"}, \"bgcolor\": \"#E5ECF6\", \"caxis\": {\"gridcolor\": \"white\", \"linecolor\": \"white\", \"ticks\": \"\"}}, \"title\": {\"x\": 0.05}, \"xaxis\": {\"automargin\": true, \"gridcolor\": \"white\", \"linecolor\": \"white\", \"ticks\": \"\", \"title\": {\"standoff\": 15}, \"zerolinecolor\": \"white\", \"zerolinewidth\": 2}, \"yaxis\": {\"automargin\": true, \"gridcolor\": \"white\", \"linecolor\": \"white\", \"ticks\": \"\", \"title\": {\"standoff\": 15}, \"zerolinecolor\": \"white\", \"zerolinewidth\": 2}}}},                        {\"responsive\": true}                    ).then(function(){\n",
       "                            \n",
       "var gd = document.getElementById('232cf1c2-acd9-4c89-8c87-83befbb7efd4');\n",
       "var x = new MutationObserver(function (mutations, observer) {{\n",
       "        var display = window.getComputedStyle(gd).display;\n",
       "        if (!display || display === 'none') {{\n",
       "            console.log([gd, 'removed!']);\n",
       "            Plotly.purge(gd);\n",
       "            observer.disconnect();\n",
       "        }}\n",
       "}});\n",
       "\n",
       "// Listen for the removal of the full notebook cells\n",
       "var notebookContainer = gd.closest('#notebook-container');\n",
       "if (notebookContainer) {{\n",
       "    x.observe(notebookContainer, {childList: true});\n",
       "}}\n",
       "\n",
       "// Listen for the clearing of the current output cell\n",
       "var outputEl = gd.closest('.output');\n",
       "if (outputEl) {{\n",
       "    x.observe(outputEl, {childList: true});\n",
       "}}\n",
       "\n",
       "                        })                };                });            </script>        </div>"
      ]
     },
     "metadata": {},
     "output_type": "display_data"
    }
   ],
   "source": [
    "plot_feature_importance(df_survey_train, df_census_train, GradientBoostingRegressor(), ['S_garbage'])"
   ]
  },
  {
   "cell_type": "markdown",
   "metadata": {},
   "source": [
    "### S_instcement\n",
    "Def: Installation of cement floor"
   ]
  },
  {
   "cell_type": "code",
   "execution_count": 26,
   "metadata": {},
   "outputs": [
    {
     "data": {
      "text/plain": [
       "1.0    1381\n",
       "0.0     572\n",
       "Name: S_instcement, dtype: int64"
      ]
     },
     "execution_count": 26,
     "metadata": {},
     "output_type": "execute_result"
    }
   ],
   "source": [
    "df_hh['S_instcement'].value_counts()"
   ]
  },
  {
   "cell_type": "code",
   "execution_count": 27,
   "metadata": {},
   "outputs": [
    {
     "name": "stdout",
     "output_type": "stream",
     "text": [
      "The Area Under ROC curve is 0.7663427905169063\n"
     ]
    },
    {
     "data": {
      "application/vnd.plotly.v1+json": {
       "config": {
        "plotlyServerURL": "https://plot.ly"
       },
       "data": [
        {
         "hovertemplate": "False positive rate=%{x}<br>True positive rate=%{y}<extra></extra>",
         "legendgroup": "",
         "line": {
          "color": "#636efa",
          "dash": "solid"
         },
         "mode": "lines",
         "name": "",
         "orientation": "v",
         "showlegend": false,
         "type": "scatter",
         "x": [
          0,
          0,
          0,
          0,
          0,
          0,
          0,
          0.005376344086021506,
          0.005376344086021506,
          0.005376344086021506,
          0.010752688172043012,
          0.010752688172043012,
          0.010752688172043012,
          0.010752688172043012,
          0.010752688172043012,
          0.010752688172043012,
          0.016129032258064516,
          0.016129032258064516,
          0.016129032258064516,
          0.016129032258064516,
          0.016129032258064516,
          0.016129032258064516,
          0.016129032258064516,
          0.016129032258064516,
          0.016129032258064516,
          0.026881720430107527,
          0.026881720430107527,
          0.03763440860215054,
          0.03763440860215054,
          0.03763440860215054,
          0.03763440860215054,
          0.043010752688172046,
          0.04838709677419355,
          0.04838709677419355,
          0.04838709677419355,
          0.04838709677419355,
          0.04838709677419355,
          0.05913978494623656,
          0.05913978494623656,
          0.06451612903225806,
          0.07526881720430108,
          0.07526881720430108,
          0.07526881720430108,
          0.07526881720430108,
          0.07526881720430108,
          0.07526881720430108,
          0.0967741935483871,
          0.10752688172043011,
          0.12903225806451613,
          0.12903225806451613,
          0.13440860215053763,
          0.13440860215053763,
          0.14516129032258066,
          0.16129032258064516,
          0.16666666666666666,
          0.1774193548387097,
          0.1774193548387097,
          0.1774193548387097,
          0.1935483870967742,
          0.1989247311827957,
          0.21505376344086022,
          0.23118279569892472,
          0.23118279569892472,
          0.23118279569892472,
          0.23118279569892472,
          0.23118279569892472,
          0.24193548387096775,
          0.25268817204301075,
          0.25268817204301075,
          0.25806451612903225,
          0.27956989247311825,
          0.27956989247311825,
          0.3709677419354839,
          0.4032258064516129,
          0.42473118279569894,
          0.43010752688172044,
          0.43548387096774194,
          0.43548387096774194,
          0.46774193548387094,
          0.46774193548387094,
          0.46774193548387094,
          0.4731182795698925,
          0.5,
          0.5483870967741935,
          0.6774193548387096,
          0.6774193548387096,
          0.6827956989247311,
          0.6827956989247311,
          0.7043010752688172,
          0.7956989247311828,
          0.8118279569892473,
          0.8870967741935484,
          0.8978494623655914,
          0.946236559139785,
          0.9516129032258065,
          0.9516129032258065,
          0.967741935483871,
          0.9838709677419355,
          0.9946236559139785,
          1
         ],
         "xaxis": "x",
         "y": [
          0,
          0.0024096385542168677,
          0.004819277108433735,
          0.016867469879518072,
          0.03132530120481928,
          0.03614457831325301,
          0.05783132530120482,
          0.06746987951807229,
          0.06987951807228916,
          0.09156626506024096,
          0.1108433734939759,
          0.11566265060240964,
          0.1180722891566265,
          0.12771084337349398,
          0.14457831325301204,
          0.15903614457831325,
          0.15903614457831325,
          0.1614457831325301,
          0.16626506024096385,
          0.17349397590361446,
          0.17590361445783131,
          0.18072289156626506,
          0.18313253012048192,
          0.18795180722891566,
          0.19036144578313252,
          0.20481927710843373,
          0.20722891566265061,
          0.2289156626506024,
          0.25060240963855424,
          0.25783132530120484,
          0.26506024096385544,
          0.26506024096385544,
          0.28433734939759037,
          0.29156626506024097,
          0.29397590361445786,
          0.3493975903614458,
          0.36626506024096384,
          0.4,
          0.41445783132530123,
          0.41686746987951806,
          0.42891566265060244,
          0.43132530120481927,
          0.43614457831325304,
          0.4457831325301205,
          0.4602409638554217,
          0.46987951807228917,
          0.4819277108433735,
          0.4963855421686747,
          0.5180722891566265,
          0.5228915662650603,
          0.5301204819277109,
          0.5397590361445783,
          0.5518072289156627,
          0.5542168674698795,
          0.5590361445783133,
          0.5783132530120482,
          0.5831325301204819,
          0.5927710843373494,
          0.6096385542168675,
          0.6216867469879518,
          0.6313253012048192,
          0.6626506024096386,
          0.6674698795180722,
          0.672289156626506,
          0.6819277108433734,
          0.689156626506024,
          0.7012048192771084,
          0.7012048192771084,
          0.7060240963855422,
          0.7108433734939759,
          0.7325301204819277,
          0.7349397590361446,
          0.7493975903614458,
          0.7590361445783133,
          0.7710843373493976,
          0.7759036144578313,
          0.7879518072289157,
          0.7975903614457831,
          0.7975903614457831,
          0.8024096385542169,
          0.8096385542168675,
          0.8096385542168675,
          0.8240963855421687,
          0.8506024096385543,
          0.8698795180722891,
          0.8722891566265061,
          0.8722891566265061,
          0.8771084337349397,
          0.8843373493975903,
          0.927710843373494,
          0.9349397590361446,
          0.9759036144578314,
          0.9759036144578314,
          0.983132530120482,
          0.983132530120482,
          0.9855421686746988,
          0.9975903614457832,
          1,
          1,
          1
         ],
         "yaxis": "y"
        }
       ],
       "layout": {
        "height": 600,
        "legend": {
         "tracegroupgap": 0
        },
        "template": {
         "data": {
          "bar": [
           {
            "error_x": {
             "color": "#2a3f5f"
            },
            "error_y": {
             "color": "#2a3f5f"
            },
            "marker": {
             "line": {
              "color": "#E5ECF6",
              "width": 0.5
             }
            },
            "type": "bar"
           }
          ],
          "barpolar": [
           {
            "marker": {
             "line": {
              "color": "#E5ECF6",
              "width": 0.5
             }
            },
            "type": "barpolar"
           }
          ],
          "carpet": [
           {
            "aaxis": {
             "endlinecolor": "#2a3f5f",
             "gridcolor": "white",
             "linecolor": "white",
             "minorgridcolor": "white",
             "startlinecolor": "#2a3f5f"
            },
            "baxis": {
             "endlinecolor": "#2a3f5f",
             "gridcolor": "white",
             "linecolor": "white",
             "minorgridcolor": "white",
             "startlinecolor": "#2a3f5f"
            },
            "type": "carpet"
           }
          ],
          "choropleth": [
           {
            "colorbar": {
             "outlinewidth": 0,
             "ticks": ""
            },
            "type": "choropleth"
           }
          ],
          "contour": [
           {
            "colorbar": {
             "outlinewidth": 0,
             "ticks": ""
            },
            "colorscale": [
             [
              0,
              "#0d0887"
             ],
             [
              0.1111111111111111,
              "#46039f"
             ],
             [
              0.2222222222222222,
              "#7201a8"
             ],
             [
              0.3333333333333333,
              "#9c179e"
             ],
             [
              0.4444444444444444,
              "#bd3786"
             ],
             [
              0.5555555555555556,
              "#d8576b"
             ],
             [
              0.6666666666666666,
              "#ed7953"
             ],
             [
              0.7777777777777778,
              "#fb9f3a"
             ],
             [
              0.8888888888888888,
              "#fdca26"
             ],
             [
              1,
              "#f0f921"
             ]
            ],
            "type": "contour"
           }
          ],
          "contourcarpet": [
           {
            "colorbar": {
             "outlinewidth": 0,
             "ticks": ""
            },
            "type": "contourcarpet"
           }
          ],
          "heatmap": [
           {
            "colorbar": {
             "outlinewidth": 0,
             "ticks": ""
            },
            "colorscale": [
             [
              0,
              "#0d0887"
             ],
             [
              0.1111111111111111,
              "#46039f"
             ],
             [
              0.2222222222222222,
              "#7201a8"
             ],
             [
              0.3333333333333333,
              "#9c179e"
             ],
             [
              0.4444444444444444,
              "#bd3786"
             ],
             [
              0.5555555555555556,
              "#d8576b"
             ],
             [
              0.6666666666666666,
              "#ed7953"
             ],
             [
              0.7777777777777778,
              "#fb9f3a"
             ],
             [
              0.8888888888888888,
              "#fdca26"
             ],
             [
              1,
              "#f0f921"
             ]
            ],
            "type": "heatmap"
           }
          ],
          "heatmapgl": [
           {
            "colorbar": {
             "outlinewidth": 0,
             "ticks": ""
            },
            "colorscale": [
             [
              0,
              "#0d0887"
             ],
             [
              0.1111111111111111,
              "#46039f"
             ],
             [
              0.2222222222222222,
              "#7201a8"
             ],
             [
              0.3333333333333333,
              "#9c179e"
             ],
             [
              0.4444444444444444,
              "#bd3786"
             ],
             [
              0.5555555555555556,
              "#d8576b"
             ],
             [
              0.6666666666666666,
              "#ed7953"
             ],
             [
              0.7777777777777778,
              "#fb9f3a"
             ],
             [
              0.8888888888888888,
              "#fdca26"
             ],
             [
              1,
              "#f0f921"
             ]
            ],
            "type": "heatmapgl"
           }
          ],
          "histogram": [
           {
            "marker": {
             "colorbar": {
              "outlinewidth": 0,
              "ticks": ""
             }
            },
            "type": "histogram"
           }
          ],
          "histogram2d": [
           {
            "colorbar": {
             "outlinewidth": 0,
             "ticks": ""
            },
            "colorscale": [
             [
              0,
              "#0d0887"
             ],
             [
              0.1111111111111111,
              "#46039f"
             ],
             [
              0.2222222222222222,
              "#7201a8"
             ],
             [
              0.3333333333333333,
              "#9c179e"
             ],
             [
              0.4444444444444444,
              "#bd3786"
             ],
             [
              0.5555555555555556,
              "#d8576b"
             ],
             [
              0.6666666666666666,
              "#ed7953"
             ],
             [
              0.7777777777777778,
              "#fb9f3a"
             ],
             [
              0.8888888888888888,
              "#fdca26"
             ],
             [
              1,
              "#f0f921"
             ]
            ],
            "type": "histogram2d"
           }
          ],
          "histogram2dcontour": [
           {
            "colorbar": {
             "outlinewidth": 0,
             "ticks": ""
            },
            "colorscale": [
             [
              0,
              "#0d0887"
             ],
             [
              0.1111111111111111,
              "#46039f"
             ],
             [
              0.2222222222222222,
              "#7201a8"
             ],
             [
              0.3333333333333333,
              "#9c179e"
             ],
             [
              0.4444444444444444,
              "#bd3786"
             ],
             [
              0.5555555555555556,
              "#d8576b"
             ],
             [
              0.6666666666666666,
              "#ed7953"
             ],
             [
              0.7777777777777778,
              "#fb9f3a"
             ],
             [
              0.8888888888888888,
              "#fdca26"
             ],
             [
              1,
              "#f0f921"
             ]
            ],
            "type": "histogram2dcontour"
           }
          ],
          "mesh3d": [
           {
            "colorbar": {
             "outlinewidth": 0,
             "ticks": ""
            },
            "type": "mesh3d"
           }
          ],
          "parcoords": [
           {
            "line": {
             "colorbar": {
              "outlinewidth": 0,
              "ticks": ""
             }
            },
            "type": "parcoords"
           }
          ],
          "pie": [
           {
            "automargin": true,
            "type": "pie"
           }
          ],
          "scatter": [
           {
            "marker": {
             "colorbar": {
              "outlinewidth": 0,
              "ticks": ""
             }
            },
            "type": "scatter"
           }
          ],
          "scatter3d": [
           {
            "line": {
             "colorbar": {
              "outlinewidth": 0,
              "ticks": ""
             }
            },
            "marker": {
             "colorbar": {
              "outlinewidth": 0,
              "ticks": ""
             }
            },
            "type": "scatter3d"
           }
          ],
          "scattercarpet": [
           {
            "marker": {
             "colorbar": {
              "outlinewidth": 0,
              "ticks": ""
             }
            },
            "type": "scattercarpet"
           }
          ],
          "scattergeo": [
           {
            "marker": {
             "colorbar": {
              "outlinewidth": 0,
              "ticks": ""
             }
            },
            "type": "scattergeo"
           }
          ],
          "scattergl": [
           {
            "marker": {
             "colorbar": {
              "outlinewidth": 0,
              "ticks": ""
             }
            },
            "type": "scattergl"
           }
          ],
          "scattermapbox": [
           {
            "marker": {
             "colorbar": {
              "outlinewidth": 0,
              "ticks": ""
             }
            },
            "type": "scattermapbox"
           }
          ],
          "scatterpolar": [
           {
            "marker": {
             "colorbar": {
              "outlinewidth": 0,
              "ticks": ""
             }
            },
            "type": "scatterpolar"
           }
          ],
          "scatterpolargl": [
           {
            "marker": {
             "colorbar": {
              "outlinewidth": 0,
              "ticks": ""
             }
            },
            "type": "scatterpolargl"
           }
          ],
          "scatterternary": [
           {
            "marker": {
             "colorbar": {
              "outlinewidth": 0,
              "ticks": ""
             }
            },
            "type": "scatterternary"
           }
          ],
          "surface": [
           {
            "colorbar": {
             "outlinewidth": 0,
             "ticks": ""
            },
            "colorscale": [
             [
              0,
              "#0d0887"
             ],
             [
              0.1111111111111111,
              "#46039f"
             ],
             [
              0.2222222222222222,
              "#7201a8"
             ],
             [
              0.3333333333333333,
              "#9c179e"
             ],
             [
              0.4444444444444444,
              "#bd3786"
             ],
             [
              0.5555555555555556,
              "#d8576b"
             ],
             [
              0.6666666666666666,
              "#ed7953"
             ],
             [
              0.7777777777777778,
              "#fb9f3a"
             ],
             [
              0.8888888888888888,
              "#fdca26"
             ],
             [
              1,
              "#f0f921"
             ]
            ],
            "type": "surface"
           }
          ],
          "table": [
           {
            "cells": {
             "fill": {
              "color": "#EBF0F8"
             },
             "line": {
              "color": "white"
             }
            },
            "header": {
             "fill": {
              "color": "#C8D4E3"
             },
             "line": {
              "color": "white"
             }
            },
            "type": "table"
           }
          ]
         },
         "layout": {
          "annotationdefaults": {
           "arrowcolor": "#2a3f5f",
           "arrowhead": 0,
           "arrowwidth": 1
          },
          "coloraxis": {
           "colorbar": {
            "outlinewidth": 0,
            "ticks": ""
           }
          },
          "colorscale": {
           "diverging": [
            [
             0,
             "#8e0152"
            ],
            [
             0.1,
             "#c51b7d"
            ],
            [
             0.2,
             "#de77ae"
            ],
            [
             0.3,
             "#f1b6da"
            ],
            [
             0.4,
             "#fde0ef"
            ],
            [
             0.5,
             "#f7f7f7"
            ],
            [
             0.6,
             "#e6f5d0"
            ],
            [
             0.7,
             "#b8e186"
            ],
            [
             0.8,
             "#7fbc41"
            ],
            [
             0.9,
             "#4d9221"
            ],
            [
             1,
             "#276419"
            ]
           ],
           "sequential": [
            [
             0,
             "#0d0887"
            ],
            [
             0.1111111111111111,
             "#46039f"
            ],
            [
             0.2222222222222222,
             "#7201a8"
            ],
            [
             0.3333333333333333,
             "#9c179e"
            ],
            [
             0.4444444444444444,
             "#bd3786"
            ],
            [
             0.5555555555555556,
             "#d8576b"
            ],
            [
             0.6666666666666666,
             "#ed7953"
            ],
            [
             0.7777777777777778,
             "#fb9f3a"
            ],
            [
             0.8888888888888888,
             "#fdca26"
            ],
            [
             1,
             "#f0f921"
            ]
           ],
           "sequentialminus": [
            [
             0,
             "#0d0887"
            ],
            [
             0.1111111111111111,
             "#46039f"
            ],
            [
             0.2222222222222222,
             "#7201a8"
            ],
            [
             0.3333333333333333,
             "#9c179e"
            ],
            [
             0.4444444444444444,
             "#bd3786"
            ],
            [
             0.5555555555555556,
             "#d8576b"
            ],
            [
             0.6666666666666666,
             "#ed7953"
            ],
            [
             0.7777777777777778,
             "#fb9f3a"
            ],
            [
             0.8888888888888888,
             "#fdca26"
            ],
            [
             1,
             "#f0f921"
            ]
           ]
          },
          "colorway": [
           "#636efa",
           "#EF553B",
           "#00cc96",
           "#ab63fa",
           "#FFA15A",
           "#19d3f3",
           "#FF6692",
           "#B6E880",
           "#FF97FF",
           "#FECB52"
          ],
          "font": {
           "color": "#2a3f5f"
          },
          "geo": {
           "bgcolor": "white",
           "lakecolor": "white",
           "landcolor": "#E5ECF6",
           "showlakes": true,
           "showland": true,
           "subunitcolor": "white"
          },
          "hoverlabel": {
           "align": "left"
          },
          "hovermode": "closest",
          "mapbox": {
           "style": "light"
          },
          "paper_bgcolor": "white",
          "plot_bgcolor": "#E5ECF6",
          "polar": {
           "angularaxis": {
            "gridcolor": "white",
            "linecolor": "white",
            "ticks": ""
           },
           "bgcolor": "#E5ECF6",
           "radialaxis": {
            "gridcolor": "white",
            "linecolor": "white",
            "ticks": ""
           }
          },
          "scene": {
           "xaxis": {
            "backgroundcolor": "#E5ECF6",
            "gridcolor": "white",
            "gridwidth": 2,
            "linecolor": "white",
            "showbackground": true,
            "ticks": "",
            "zerolinecolor": "white"
           },
           "yaxis": {
            "backgroundcolor": "#E5ECF6",
            "gridcolor": "white",
            "gridwidth": 2,
            "linecolor": "white",
            "showbackground": true,
            "ticks": "",
            "zerolinecolor": "white"
           },
           "zaxis": {
            "backgroundcolor": "#E5ECF6",
            "gridcolor": "white",
            "gridwidth": 2,
            "linecolor": "white",
            "showbackground": true,
            "ticks": "",
            "zerolinecolor": "white"
           }
          },
          "shapedefaults": {
           "line": {
            "color": "#2a3f5f"
           }
          },
          "ternary": {
           "aaxis": {
            "gridcolor": "white",
            "linecolor": "white",
            "ticks": ""
           },
           "baxis": {
            "gridcolor": "white",
            "linecolor": "white",
            "ticks": ""
           },
           "bgcolor": "#E5ECF6",
           "caxis": {
            "gridcolor": "white",
            "linecolor": "white",
            "ticks": ""
           }
          },
          "title": {
           "x": 0.05
          },
          "xaxis": {
           "automargin": true,
           "gridcolor": "white",
           "linecolor": "white",
           "ticks": "",
           "title": {
            "standoff": 15
           },
           "zerolinecolor": "white",
           "zerolinewidth": 2
          },
          "yaxis": {
           "automargin": true,
           "gridcolor": "white",
           "linecolor": "white",
           "ticks": "",
           "title": {
            "standoff": 15
           },
           "zerolinecolor": "white",
           "zerolinewidth": 2
          }
         }
        },
        "title": {
         "text": "ROC curve for S_instcement"
        },
        "width": 600,
        "xaxis": {
         "anchor": "y",
         "domain": [
          0,
          1
         ],
         "title": {
          "text": "False positive rate"
         }
        },
        "yaxis": {
         "anchor": "x",
         "domain": [
          0,
          1
         ],
         "title": {
          "text": "True positive rate"
         }
        }
       }
      },
      "text/html": [
       "<div>                            <div id=\"945e5f1a-eb59-4b37-8665-330c708b60c6\" class=\"plotly-graph-div\" style=\"height:600px; width:600px;\"></div>            <script type=\"text/javascript\">                require([\"plotly\"], function(Plotly) {                    window.PLOTLYENV=window.PLOTLYENV || {};                                    if (document.getElementById(\"945e5f1a-eb59-4b37-8665-330c708b60c6\")) {                    Plotly.newPlot(                        \"945e5f1a-eb59-4b37-8665-330c708b60c6\",                        [{\"hovertemplate\": \"False positive rate=%{x}<br>True positive rate=%{y}<extra></extra>\", \"legendgroup\": \"\", \"line\": {\"color\": \"#636efa\", \"dash\": \"solid\"}, \"mode\": \"lines\", \"name\": \"\", \"orientation\": \"v\", \"showlegend\": false, \"type\": \"scatter\", \"x\": [0.0, 0.0, 0.0, 0.0, 0.0, 0.0, 0.0, 0.005376344086021506, 0.005376344086021506, 0.005376344086021506, 0.010752688172043012, 0.010752688172043012, 0.010752688172043012, 0.010752688172043012, 0.010752688172043012, 0.010752688172043012, 0.016129032258064516, 0.016129032258064516, 0.016129032258064516, 0.016129032258064516, 0.016129032258064516, 0.016129032258064516, 0.016129032258064516, 0.016129032258064516, 0.016129032258064516, 0.026881720430107527, 0.026881720430107527, 0.03763440860215054, 0.03763440860215054, 0.03763440860215054, 0.03763440860215054, 0.043010752688172046, 0.04838709677419355, 0.04838709677419355, 0.04838709677419355, 0.04838709677419355, 0.04838709677419355, 0.05913978494623656, 0.05913978494623656, 0.06451612903225806, 0.07526881720430108, 0.07526881720430108, 0.07526881720430108, 0.07526881720430108, 0.07526881720430108, 0.07526881720430108, 0.0967741935483871, 0.10752688172043011, 0.12903225806451613, 0.12903225806451613, 0.13440860215053763, 0.13440860215053763, 0.14516129032258066, 0.16129032258064516, 0.16666666666666666, 0.1774193548387097, 0.1774193548387097, 0.1774193548387097, 0.1935483870967742, 0.1989247311827957, 0.21505376344086022, 0.23118279569892472, 0.23118279569892472, 0.23118279569892472, 0.23118279569892472, 0.23118279569892472, 0.24193548387096775, 0.25268817204301075, 0.25268817204301075, 0.25806451612903225, 0.27956989247311825, 0.27956989247311825, 0.3709677419354839, 0.4032258064516129, 0.42473118279569894, 0.43010752688172044, 0.43548387096774194, 0.43548387096774194, 0.46774193548387094, 0.46774193548387094, 0.46774193548387094, 0.4731182795698925, 0.5, 0.5483870967741935, 0.6774193548387096, 0.6774193548387096, 0.6827956989247311, 0.6827956989247311, 0.7043010752688172, 0.7956989247311828, 0.8118279569892473, 0.8870967741935484, 0.8978494623655914, 0.946236559139785, 0.9516129032258065, 0.9516129032258065, 0.967741935483871, 0.9838709677419355, 0.9946236559139785, 1.0], \"xaxis\": \"x\", \"y\": [0.0, 0.0024096385542168677, 0.004819277108433735, 0.016867469879518072, 0.03132530120481928, 0.03614457831325301, 0.05783132530120482, 0.06746987951807229, 0.06987951807228916, 0.09156626506024096, 0.1108433734939759, 0.11566265060240964, 0.1180722891566265, 0.12771084337349398, 0.14457831325301204, 0.15903614457831325, 0.15903614457831325, 0.1614457831325301, 0.16626506024096385, 0.17349397590361446, 0.17590361445783131, 0.18072289156626506, 0.18313253012048192, 0.18795180722891566, 0.19036144578313252, 0.20481927710843373, 0.20722891566265061, 0.2289156626506024, 0.25060240963855424, 0.25783132530120484, 0.26506024096385544, 0.26506024096385544, 0.28433734939759037, 0.29156626506024097, 0.29397590361445786, 0.3493975903614458, 0.36626506024096384, 0.4, 0.41445783132530123, 0.41686746987951806, 0.42891566265060244, 0.43132530120481927, 0.43614457831325304, 0.4457831325301205, 0.4602409638554217, 0.46987951807228917, 0.4819277108433735, 0.4963855421686747, 0.5180722891566265, 0.5228915662650603, 0.5301204819277109, 0.5397590361445783, 0.5518072289156627, 0.5542168674698795, 0.5590361445783133, 0.5783132530120482, 0.5831325301204819, 0.5927710843373494, 0.6096385542168675, 0.6216867469879518, 0.6313253012048192, 0.6626506024096386, 0.6674698795180722, 0.672289156626506, 0.6819277108433734, 0.689156626506024, 0.7012048192771084, 0.7012048192771084, 0.7060240963855422, 0.7108433734939759, 0.7325301204819277, 0.7349397590361446, 0.7493975903614458, 0.7590361445783133, 0.7710843373493976, 0.7759036144578313, 0.7879518072289157, 0.7975903614457831, 0.7975903614457831, 0.8024096385542169, 0.8096385542168675, 0.8096385542168675, 0.8240963855421687, 0.8506024096385543, 0.8698795180722891, 0.8722891566265061, 0.8722891566265061, 0.8771084337349397, 0.8843373493975903, 0.927710843373494, 0.9349397590361446, 0.9759036144578314, 0.9759036144578314, 0.983132530120482, 0.983132530120482, 0.9855421686746988, 0.9975903614457832, 1.0, 1.0, 1.0], \"yaxis\": \"y\"}],                        {\"height\": 600, \"legend\": {\"tracegroupgap\": 0}, \"template\": {\"data\": {\"bar\": [{\"error_x\": {\"color\": \"#2a3f5f\"}, \"error_y\": {\"color\": \"#2a3f5f\"}, \"marker\": {\"line\": {\"color\": \"#E5ECF6\", \"width\": 0.5}}, \"type\": \"bar\"}], \"barpolar\": [{\"marker\": {\"line\": {\"color\": \"#E5ECF6\", \"width\": 0.5}}, \"type\": \"barpolar\"}], \"carpet\": [{\"aaxis\": {\"endlinecolor\": \"#2a3f5f\", \"gridcolor\": \"white\", \"linecolor\": \"white\", \"minorgridcolor\": \"white\", \"startlinecolor\": \"#2a3f5f\"}, \"baxis\": {\"endlinecolor\": \"#2a3f5f\", \"gridcolor\": \"white\", \"linecolor\": \"white\", \"minorgridcolor\": \"white\", \"startlinecolor\": \"#2a3f5f\"}, \"type\": \"carpet\"}], \"choropleth\": [{\"colorbar\": {\"outlinewidth\": 0, \"ticks\": \"\"}, \"type\": \"choropleth\"}], \"contour\": [{\"colorbar\": {\"outlinewidth\": 0, \"ticks\": \"\"}, \"colorscale\": [[0.0, \"#0d0887\"], [0.1111111111111111, \"#46039f\"], [0.2222222222222222, \"#7201a8\"], [0.3333333333333333, \"#9c179e\"], [0.4444444444444444, \"#bd3786\"], [0.5555555555555556, \"#d8576b\"], [0.6666666666666666, \"#ed7953\"], [0.7777777777777778, \"#fb9f3a\"], [0.8888888888888888, \"#fdca26\"], [1.0, \"#f0f921\"]], \"type\": \"contour\"}], \"contourcarpet\": [{\"colorbar\": {\"outlinewidth\": 0, \"ticks\": \"\"}, \"type\": \"contourcarpet\"}], \"heatmap\": [{\"colorbar\": {\"outlinewidth\": 0, \"ticks\": \"\"}, \"colorscale\": [[0.0, \"#0d0887\"], [0.1111111111111111, \"#46039f\"], [0.2222222222222222, \"#7201a8\"], [0.3333333333333333, \"#9c179e\"], [0.4444444444444444, \"#bd3786\"], [0.5555555555555556, \"#d8576b\"], [0.6666666666666666, \"#ed7953\"], [0.7777777777777778, \"#fb9f3a\"], [0.8888888888888888, \"#fdca26\"], [1.0, \"#f0f921\"]], \"type\": \"heatmap\"}], \"heatmapgl\": [{\"colorbar\": {\"outlinewidth\": 0, \"ticks\": \"\"}, \"colorscale\": [[0.0, \"#0d0887\"], [0.1111111111111111, \"#46039f\"], [0.2222222222222222, \"#7201a8\"], [0.3333333333333333, \"#9c179e\"], [0.4444444444444444, \"#bd3786\"], [0.5555555555555556, \"#d8576b\"], [0.6666666666666666, \"#ed7953\"], [0.7777777777777778, \"#fb9f3a\"], [0.8888888888888888, \"#fdca26\"], [1.0, \"#f0f921\"]], \"type\": \"heatmapgl\"}], \"histogram\": [{\"marker\": {\"colorbar\": {\"outlinewidth\": 0, \"ticks\": \"\"}}, \"type\": \"histogram\"}], \"histogram2d\": [{\"colorbar\": {\"outlinewidth\": 0, \"ticks\": \"\"}, \"colorscale\": [[0.0, \"#0d0887\"], [0.1111111111111111, \"#46039f\"], [0.2222222222222222, \"#7201a8\"], [0.3333333333333333, \"#9c179e\"], [0.4444444444444444, \"#bd3786\"], [0.5555555555555556, \"#d8576b\"], [0.6666666666666666, \"#ed7953\"], [0.7777777777777778, \"#fb9f3a\"], [0.8888888888888888, \"#fdca26\"], [1.0, \"#f0f921\"]], \"type\": \"histogram2d\"}], \"histogram2dcontour\": [{\"colorbar\": {\"outlinewidth\": 0, \"ticks\": \"\"}, \"colorscale\": [[0.0, \"#0d0887\"], [0.1111111111111111, \"#46039f\"], [0.2222222222222222, \"#7201a8\"], [0.3333333333333333, \"#9c179e\"], [0.4444444444444444, \"#bd3786\"], [0.5555555555555556, \"#d8576b\"], [0.6666666666666666, \"#ed7953\"], [0.7777777777777778, \"#fb9f3a\"], [0.8888888888888888, \"#fdca26\"], [1.0, \"#f0f921\"]], \"type\": \"histogram2dcontour\"}], \"mesh3d\": [{\"colorbar\": {\"outlinewidth\": 0, \"ticks\": \"\"}, \"type\": \"mesh3d\"}], \"parcoords\": [{\"line\": {\"colorbar\": {\"outlinewidth\": 0, \"ticks\": \"\"}}, \"type\": \"parcoords\"}], \"pie\": [{\"automargin\": true, \"type\": \"pie\"}], \"scatter\": [{\"marker\": {\"colorbar\": {\"outlinewidth\": 0, \"ticks\": \"\"}}, \"type\": \"scatter\"}], \"scatter3d\": [{\"line\": {\"colorbar\": {\"outlinewidth\": 0, \"ticks\": \"\"}}, \"marker\": {\"colorbar\": {\"outlinewidth\": 0, \"ticks\": \"\"}}, \"type\": \"scatter3d\"}], \"scattercarpet\": [{\"marker\": {\"colorbar\": {\"outlinewidth\": 0, \"ticks\": \"\"}}, \"type\": \"scattercarpet\"}], \"scattergeo\": [{\"marker\": {\"colorbar\": {\"outlinewidth\": 0, \"ticks\": \"\"}}, \"type\": \"scattergeo\"}], \"scattergl\": [{\"marker\": {\"colorbar\": {\"outlinewidth\": 0, \"ticks\": \"\"}}, \"type\": \"scattergl\"}], \"scattermapbox\": [{\"marker\": {\"colorbar\": {\"outlinewidth\": 0, \"ticks\": \"\"}}, \"type\": \"scattermapbox\"}], \"scatterpolar\": [{\"marker\": {\"colorbar\": {\"outlinewidth\": 0, \"ticks\": \"\"}}, \"type\": \"scatterpolar\"}], \"scatterpolargl\": [{\"marker\": {\"colorbar\": {\"outlinewidth\": 0, \"ticks\": \"\"}}, \"type\": \"scatterpolargl\"}], \"scatterternary\": [{\"marker\": {\"colorbar\": {\"outlinewidth\": 0, \"ticks\": \"\"}}, \"type\": \"scatterternary\"}], \"surface\": [{\"colorbar\": {\"outlinewidth\": 0, \"ticks\": \"\"}, \"colorscale\": [[0.0, \"#0d0887\"], [0.1111111111111111, \"#46039f\"], [0.2222222222222222, \"#7201a8\"], [0.3333333333333333, \"#9c179e\"], [0.4444444444444444, \"#bd3786\"], [0.5555555555555556, \"#d8576b\"], [0.6666666666666666, \"#ed7953\"], [0.7777777777777778, \"#fb9f3a\"], [0.8888888888888888, \"#fdca26\"], [1.0, \"#f0f921\"]], \"type\": \"surface\"}], \"table\": [{\"cells\": {\"fill\": {\"color\": \"#EBF0F8\"}, \"line\": {\"color\": \"white\"}}, \"header\": {\"fill\": {\"color\": \"#C8D4E3\"}, \"line\": {\"color\": \"white\"}}, \"type\": \"table\"}]}, \"layout\": {\"annotationdefaults\": {\"arrowcolor\": \"#2a3f5f\", \"arrowhead\": 0, \"arrowwidth\": 1}, \"coloraxis\": {\"colorbar\": {\"outlinewidth\": 0, \"ticks\": \"\"}}, \"colorscale\": {\"diverging\": [[0, \"#8e0152\"], [0.1, \"#c51b7d\"], [0.2, \"#de77ae\"], [0.3, \"#f1b6da\"], [0.4, \"#fde0ef\"], [0.5, \"#f7f7f7\"], [0.6, \"#e6f5d0\"], [0.7, \"#b8e186\"], [0.8, \"#7fbc41\"], [0.9, \"#4d9221\"], [1, \"#276419\"]], \"sequential\": [[0.0, \"#0d0887\"], [0.1111111111111111, \"#46039f\"], [0.2222222222222222, \"#7201a8\"], [0.3333333333333333, \"#9c179e\"], [0.4444444444444444, \"#bd3786\"], [0.5555555555555556, \"#d8576b\"], [0.6666666666666666, \"#ed7953\"], [0.7777777777777778, \"#fb9f3a\"], [0.8888888888888888, \"#fdca26\"], [1.0, \"#f0f921\"]], \"sequentialminus\": [[0.0, \"#0d0887\"], [0.1111111111111111, \"#46039f\"], [0.2222222222222222, \"#7201a8\"], [0.3333333333333333, \"#9c179e\"], [0.4444444444444444, \"#bd3786\"], [0.5555555555555556, \"#d8576b\"], [0.6666666666666666, \"#ed7953\"], [0.7777777777777778, \"#fb9f3a\"], [0.8888888888888888, \"#fdca26\"], [1.0, \"#f0f921\"]]}, \"colorway\": [\"#636efa\", \"#EF553B\", \"#00cc96\", \"#ab63fa\", \"#FFA15A\", \"#19d3f3\", \"#FF6692\", \"#B6E880\", \"#FF97FF\", \"#FECB52\"], \"font\": {\"color\": \"#2a3f5f\"}, \"geo\": {\"bgcolor\": \"white\", \"lakecolor\": \"white\", \"landcolor\": \"#E5ECF6\", \"showlakes\": true, \"showland\": true, \"subunitcolor\": \"white\"}, \"hoverlabel\": {\"align\": \"left\"}, \"hovermode\": \"closest\", \"mapbox\": {\"style\": \"light\"}, \"paper_bgcolor\": \"white\", \"plot_bgcolor\": \"#E5ECF6\", \"polar\": {\"angularaxis\": {\"gridcolor\": \"white\", \"linecolor\": \"white\", \"ticks\": \"\"}, \"bgcolor\": \"#E5ECF6\", \"radialaxis\": {\"gridcolor\": \"white\", \"linecolor\": \"white\", \"ticks\": \"\"}}, \"scene\": {\"xaxis\": {\"backgroundcolor\": \"#E5ECF6\", \"gridcolor\": \"white\", \"gridwidth\": 2, \"linecolor\": \"white\", \"showbackground\": true, \"ticks\": \"\", \"zerolinecolor\": \"white\"}, \"yaxis\": {\"backgroundcolor\": \"#E5ECF6\", \"gridcolor\": \"white\", \"gridwidth\": 2, \"linecolor\": \"white\", \"showbackground\": true, \"ticks\": \"\", \"zerolinecolor\": \"white\"}, \"zaxis\": {\"backgroundcolor\": \"#E5ECF6\", \"gridcolor\": \"white\", \"gridwidth\": 2, \"linecolor\": \"white\", \"showbackground\": true, \"ticks\": \"\", \"zerolinecolor\": \"white\"}}, \"shapedefaults\": {\"line\": {\"color\": \"#2a3f5f\"}}, \"ternary\": {\"aaxis\": {\"gridcolor\": \"white\", \"linecolor\": \"white\", \"ticks\": \"\"}, \"baxis\": {\"gridcolor\": \"white\", \"linecolor\": \"white\", \"ticks\": \"\"}, \"bgcolor\": \"#E5ECF6\", \"caxis\": {\"gridcolor\": \"white\", \"linecolor\": \"white\", \"ticks\": \"\"}}, \"title\": {\"x\": 0.05}, \"xaxis\": {\"automargin\": true, \"gridcolor\": \"white\", \"linecolor\": \"white\", \"ticks\": \"\", \"title\": {\"standoff\": 15}, \"zerolinecolor\": \"white\", \"zerolinewidth\": 2}, \"yaxis\": {\"automargin\": true, \"gridcolor\": \"white\", \"linecolor\": \"white\", \"ticks\": \"\", \"title\": {\"standoff\": 15}, \"zerolinecolor\": \"white\", \"zerolinewidth\": 2}}}, \"title\": {\"text\": \"ROC curve for S_instcement\"}, \"width\": 600, \"xaxis\": {\"anchor\": \"y\", \"domain\": [0.0, 1.0], \"title\": {\"text\": \"False positive rate\"}}, \"yaxis\": {\"anchor\": \"x\", \"domain\": [0.0, 1.0], \"title\": {\"text\": \"True positive rate\"}}},                        {\"responsive\": true}                    ).then(function(){\n",
       "                            \n",
       "var gd = document.getElementById('945e5f1a-eb59-4b37-8665-330c708b60c6');\n",
       "var x = new MutationObserver(function (mutations, observer) {{\n",
       "        var display = window.getComputedStyle(gd).display;\n",
       "        if (!display || display === 'none') {{\n",
       "            console.log([gd, 'removed!']);\n",
       "            Plotly.purge(gd);\n",
       "            observer.disconnect();\n",
       "        }}\n",
       "}});\n",
       "\n",
       "// Listen for the removal of the full notebook cells\n",
       "var notebookContainer = gd.closest('#notebook-container');\n",
       "if (notebookContainer) {{\n",
       "    x.observe(notebookContainer, {childList: true});\n",
       "}}\n",
       "\n",
       "// Listen for the clearing of the current output cell\n",
       "var outputEl = gd.closest('.output');\n",
       "if (outputEl) {{\n",
       "    x.observe(outputEl, {childList: true});\n",
       "}}\n",
       "\n",
       "                        })                };                });            </script>        </div>"
      ]
     },
     "metadata": {},
     "output_type": "display_data"
    }
   ],
   "source": [
    "plot_AUC_curve(GradientBoostingRegressor(), ['S_instcement'])"
   ]
  },
  {
   "cell_type": "code",
   "execution_count": 28,
   "metadata": {},
   "outputs": [
    {
     "data": {
      "application/vnd.plotly.v1+json": {
       "config": {
        "plotlyServerURL": "https://plot.ly"
       },
       "data": [
        {
         "type": "bar",
         "x": [
          "C_waterland",
          "C_blocksdirtfloor",
          "C_people",
          "C_headeduc",
          "C_gasheater",
          "C_households",
          "C_refrigerator",
          "C_child05",
          "C_overcrowding",
          "C_HHdirtfloor",
          "C_telephone",
          "C_HHpersons",
          "C_waterhouse",
          "C_waterbath",
          "C_dropouts515",
          "C_earnincome",
          "C_illiterate",
          "C_washing",
          "C_vehicle",
          "C_poverty",
          "C_employment",
          "C_rooms"
         ],
         "y": [
          0.16094877853477843,
          0.13523113237494952,
          0.09451646962091469,
          0.08344005193021303,
          0.06909206694268012,
          0.060679400725160405,
          0.054588663877054786,
          0.051184241963545006,
          0.04972005820739839,
          0.044276176938638716,
          0.03394849613512023,
          0.033705364510428874,
          0.024366321549136396,
          0.019433386473890063,
          0.015373543808152134,
          0.012409302775988021,
          0.012239849688074553,
          0.011478972938227411,
          0.009228318957056978,
          0.008969191758512006,
          0.00845900069079307,
          0.006711209599287312
         ]
        }
       ],
       "layout": {
        "template": {
         "data": {
          "bar": [
           {
            "error_x": {
             "color": "#2a3f5f"
            },
            "error_y": {
             "color": "#2a3f5f"
            },
            "marker": {
             "line": {
              "color": "#E5ECF6",
              "width": 0.5
             }
            },
            "type": "bar"
           }
          ],
          "barpolar": [
           {
            "marker": {
             "line": {
              "color": "#E5ECF6",
              "width": 0.5
             }
            },
            "type": "barpolar"
           }
          ],
          "carpet": [
           {
            "aaxis": {
             "endlinecolor": "#2a3f5f",
             "gridcolor": "white",
             "linecolor": "white",
             "minorgridcolor": "white",
             "startlinecolor": "#2a3f5f"
            },
            "baxis": {
             "endlinecolor": "#2a3f5f",
             "gridcolor": "white",
             "linecolor": "white",
             "minorgridcolor": "white",
             "startlinecolor": "#2a3f5f"
            },
            "type": "carpet"
           }
          ],
          "choropleth": [
           {
            "colorbar": {
             "outlinewidth": 0,
             "ticks": ""
            },
            "type": "choropleth"
           }
          ],
          "contour": [
           {
            "colorbar": {
             "outlinewidth": 0,
             "ticks": ""
            },
            "colorscale": [
             [
              0,
              "#0d0887"
             ],
             [
              0.1111111111111111,
              "#46039f"
             ],
             [
              0.2222222222222222,
              "#7201a8"
             ],
             [
              0.3333333333333333,
              "#9c179e"
             ],
             [
              0.4444444444444444,
              "#bd3786"
             ],
             [
              0.5555555555555556,
              "#d8576b"
             ],
             [
              0.6666666666666666,
              "#ed7953"
             ],
             [
              0.7777777777777778,
              "#fb9f3a"
             ],
             [
              0.8888888888888888,
              "#fdca26"
             ],
             [
              1,
              "#f0f921"
             ]
            ],
            "type": "contour"
           }
          ],
          "contourcarpet": [
           {
            "colorbar": {
             "outlinewidth": 0,
             "ticks": ""
            },
            "type": "contourcarpet"
           }
          ],
          "heatmap": [
           {
            "colorbar": {
             "outlinewidth": 0,
             "ticks": ""
            },
            "colorscale": [
             [
              0,
              "#0d0887"
             ],
             [
              0.1111111111111111,
              "#46039f"
             ],
             [
              0.2222222222222222,
              "#7201a8"
             ],
             [
              0.3333333333333333,
              "#9c179e"
             ],
             [
              0.4444444444444444,
              "#bd3786"
             ],
             [
              0.5555555555555556,
              "#d8576b"
             ],
             [
              0.6666666666666666,
              "#ed7953"
             ],
             [
              0.7777777777777778,
              "#fb9f3a"
             ],
             [
              0.8888888888888888,
              "#fdca26"
             ],
             [
              1,
              "#f0f921"
             ]
            ],
            "type": "heatmap"
           }
          ],
          "heatmapgl": [
           {
            "colorbar": {
             "outlinewidth": 0,
             "ticks": ""
            },
            "colorscale": [
             [
              0,
              "#0d0887"
             ],
             [
              0.1111111111111111,
              "#46039f"
             ],
             [
              0.2222222222222222,
              "#7201a8"
             ],
             [
              0.3333333333333333,
              "#9c179e"
             ],
             [
              0.4444444444444444,
              "#bd3786"
             ],
             [
              0.5555555555555556,
              "#d8576b"
             ],
             [
              0.6666666666666666,
              "#ed7953"
             ],
             [
              0.7777777777777778,
              "#fb9f3a"
             ],
             [
              0.8888888888888888,
              "#fdca26"
             ],
             [
              1,
              "#f0f921"
             ]
            ],
            "type": "heatmapgl"
           }
          ],
          "histogram": [
           {
            "marker": {
             "colorbar": {
              "outlinewidth": 0,
              "ticks": ""
             }
            },
            "type": "histogram"
           }
          ],
          "histogram2d": [
           {
            "colorbar": {
             "outlinewidth": 0,
             "ticks": ""
            },
            "colorscale": [
             [
              0,
              "#0d0887"
             ],
             [
              0.1111111111111111,
              "#46039f"
             ],
             [
              0.2222222222222222,
              "#7201a8"
             ],
             [
              0.3333333333333333,
              "#9c179e"
             ],
             [
              0.4444444444444444,
              "#bd3786"
             ],
             [
              0.5555555555555556,
              "#d8576b"
             ],
             [
              0.6666666666666666,
              "#ed7953"
             ],
             [
              0.7777777777777778,
              "#fb9f3a"
             ],
             [
              0.8888888888888888,
              "#fdca26"
             ],
             [
              1,
              "#f0f921"
             ]
            ],
            "type": "histogram2d"
           }
          ],
          "histogram2dcontour": [
           {
            "colorbar": {
             "outlinewidth": 0,
             "ticks": ""
            },
            "colorscale": [
             [
              0,
              "#0d0887"
             ],
             [
              0.1111111111111111,
              "#46039f"
             ],
             [
              0.2222222222222222,
              "#7201a8"
             ],
             [
              0.3333333333333333,
              "#9c179e"
             ],
             [
              0.4444444444444444,
              "#bd3786"
             ],
             [
              0.5555555555555556,
              "#d8576b"
             ],
             [
              0.6666666666666666,
              "#ed7953"
             ],
             [
              0.7777777777777778,
              "#fb9f3a"
             ],
             [
              0.8888888888888888,
              "#fdca26"
             ],
             [
              1,
              "#f0f921"
             ]
            ],
            "type": "histogram2dcontour"
           }
          ],
          "mesh3d": [
           {
            "colorbar": {
             "outlinewidth": 0,
             "ticks": ""
            },
            "type": "mesh3d"
           }
          ],
          "parcoords": [
           {
            "line": {
             "colorbar": {
              "outlinewidth": 0,
              "ticks": ""
             }
            },
            "type": "parcoords"
           }
          ],
          "pie": [
           {
            "automargin": true,
            "type": "pie"
           }
          ],
          "scatter": [
           {
            "marker": {
             "colorbar": {
              "outlinewidth": 0,
              "ticks": ""
             }
            },
            "type": "scatter"
           }
          ],
          "scatter3d": [
           {
            "line": {
             "colorbar": {
              "outlinewidth": 0,
              "ticks": ""
             }
            },
            "marker": {
             "colorbar": {
              "outlinewidth": 0,
              "ticks": ""
             }
            },
            "type": "scatter3d"
           }
          ],
          "scattercarpet": [
           {
            "marker": {
             "colorbar": {
              "outlinewidth": 0,
              "ticks": ""
             }
            },
            "type": "scattercarpet"
           }
          ],
          "scattergeo": [
           {
            "marker": {
             "colorbar": {
              "outlinewidth": 0,
              "ticks": ""
             }
            },
            "type": "scattergeo"
           }
          ],
          "scattergl": [
           {
            "marker": {
             "colorbar": {
              "outlinewidth": 0,
              "ticks": ""
             }
            },
            "type": "scattergl"
           }
          ],
          "scattermapbox": [
           {
            "marker": {
             "colorbar": {
              "outlinewidth": 0,
              "ticks": ""
             }
            },
            "type": "scattermapbox"
           }
          ],
          "scatterpolar": [
           {
            "marker": {
             "colorbar": {
              "outlinewidth": 0,
              "ticks": ""
             }
            },
            "type": "scatterpolar"
           }
          ],
          "scatterpolargl": [
           {
            "marker": {
             "colorbar": {
              "outlinewidth": 0,
              "ticks": ""
             }
            },
            "type": "scatterpolargl"
           }
          ],
          "scatterternary": [
           {
            "marker": {
             "colorbar": {
              "outlinewidth": 0,
              "ticks": ""
             }
            },
            "type": "scatterternary"
           }
          ],
          "surface": [
           {
            "colorbar": {
             "outlinewidth": 0,
             "ticks": ""
            },
            "colorscale": [
             [
              0,
              "#0d0887"
             ],
             [
              0.1111111111111111,
              "#46039f"
             ],
             [
              0.2222222222222222,
              "#7201a8"
             ],
             [
              0.3333333333333333,
              "#9c179e"
             ],
             [
              0.4444444444444444,
              "#bd3786"
             ],
             [
              0.5555555555555556,
              "#d8576b"
             ],
             [
              0.6666666666666666,
              "#ed7953"
             ],
             [
              0.7777777777777778,
              "#fb9f3a"
             ],
             [
              0.8888888888888888,
              "#fdca26"
             ],
             [
              1,
              "#f0f921"
             ]
            ],
            "type": "surface"
           }
          ],
          "table": [
           {
            "cells": {
             "fill": {
              "color": "#EBF0F8"
             },
             "line": {
              "color": "white"
             }
            },
            "header": {
             "fill": {
              "color": "#C8D4E3"
             },
             "line": {
              "color": "white"
             }
            },
            "type": "table"
           }
          ]
         },
         "layout": {
          "annotationdefaults": {
           "arrowcolor": "#2a3f5f",
           "arrowhead": 0,
           "arrowwidth": 1
          },
          "coloraxis": {
           "colorbar": {
            "outlinewidth": 0,
            "ticks": ""
           }
          },
          "colorscale": {
           "diverging": [
            [
             0,
             "#8e0152"
            ],
            [
             0.1,
             "#c51b7d"
            ],
            [
             0.2,
             "#de77ae"
            ],
            [
             0.3,
             "#f1b6da"
            ],
            [
             0.4,
             "#fde0ef"
            ],
            [
             0.5,
             "#f7f7f7"
            ],
            [
             0.6,
             "#e6f5d0"
            ],
            [
             0.7,
             "#b8e186"
            ],
            [
             0.8,
             "#7fbc41"
            ],
            [
             0.9,
             "#4d9221"
            ],
            [
             1,
             "#276419"
            ]
           ],
           "sequential": [
            [
             0,
             "#0d0887"
            ],
            [
             0.1111111111111111,
             "#46039f"
            ],
            [
             0.2222222222222222,
             "#7201a8"
            ],
            [
             0.3333333333333333,
             "#9c179e"
            ],
            [
             0.4444444444444444,
             "#bd3786"
            ],
            [
             0.5555555555555556,
             "#d8576b"
            ],
            [
             0.6666666666666666,
             "#ed7953"
            ],
            [
             0.7777777777777778,
             "#fb9f3a"
            ],
            [
             0.8888888888888888,
             "#fdca26"
            ],
            [
             1,
             "#f0f921"
            ]
           ],
           "sequentialminus": [
            [
             0,
             "#0d0887"
            ],
            [
             0.1111111111111111,
             "#46039f"
            ],
            [
             0.2222222222222222,
             "#7201a8"
            ],
            [
             0.3333333333333333,
             "#9c179e"
            ],
            [
             0.4444444444444444,
             "#bd3786"
            ],
            [
             0.5555555555555556,
             "#d8576b"
            ],
            [
             0.6666666666666666,
             "#ed7953"
            ],
            [
             0.7777777777777778,
             "#fb9f3a"
            ],
            [
             0.8888888888888888,
             "#fdca26"
            ],
            [
             1,
             "#f0f921"
            ]
           ]
          },
          "colorway": [
           "#636efa",
           "#EF553B",
           "#00cc96",
           "#ab63fa",
           "#FFA15A",
           "#19d3f3",
           "#FF6692",
           "#B6E880",
           "#FF97FF",
           "#FECB52"
          ],
          "font": {
           "color": "#2a3f5f"
          },
          "geo": {
           "bgcolor": "white",
           "lakecolor": "white",
           "landcolor": "#E5ECF6",
           "showlakes": true,
           "showland": true,
           "subunitcolor": "white"
          },
          "hoverlabel": {
           "align": "left"
          },
          "hovermode": "closest",
          "mapbox": {
           "style": "light"
          },
          "paper_bgcolor": "white",
          "plot_bgcolor": "#E5ECF6",
          "polar": {
           "angularaxis": {
            "gridcolor": "white",
            "linecolor": "white",
            "ticks": ""
           },
           "bgcolor": "#E5ECF6",
           "radialaxis": {
            "gridcolor": "white",
            "linecolor": "white",
            "ticks": ""
           }
          },
          "scene": {
           "xaxis": {
            "backgroundcolor": "#E5ECF6",
            "gridcolor": "white",
            "gridwidth": 2,
            "linecolor": "white",
            "showbackground": true,
            "ticks": "",
            "zerolinecolor": "white"
           },
           "yaxis": {
            "backgroundcolor": "#E5ECF6",
            "gridcolor": "white",
            "gridwidth": 2,
            "linecolor": "white",
            "showbackground": true,
            "ticks": "",
            "zerolinecolor": "white"
           },
           "zaxis": {
            "backgroundcolor": "#E5ECF6",
            "gridcolor": "white",
            "gridwidth": 2,
            "linecolor": "white",
            "showbackground": true,
            "ticks": "",
            "zerolinecolor": "white"
           }
          },
          "shapedefaults": {
           "line": {
            "color": "#2a3f5f"
           }
          },
          "ternary": {
           "aaxis": {
            "gridcolor": "white",
            "linecolor": "white",
            "ticks": ""
           },
           "baxis": {
            "gridcolor": "white",
            "linecolor": "white",
            "ticks": ""
           },
           "bgcolor": "#E5ECF6",
           "caxis": {
            "gridcolor": "white",
            "linecolor": "white",
            "ticks": ""
           }
          },
          "title": {
           "x": 0.05
          },
          "xaxis": {
           "automargin": true,
           "gridcolor": "white",
           "linecolor": "white",
           "ticks": "",
           "title": {
            "standoff": 15
           },
           "zerolinecolor": "white",
           "zerolinewidth": 2
          },
          "yaxis": {
           "automargin": true,
           "gridcolor": "white",
           "linecolor": "white",
           "ticks": "",
           "title": {
            "standoff": 15
           },
           "zerolinecolor": "white",
           "zerolinewidth": 2
          }
         }
        }
       }
      },
      "text/html": [
       "<div>                            <div id=\"8206ba73-74eb-412a-960e-39679f3d5156\" class=\"plotly-graph-div\" style=\"height:525px; width:100%;\"></div>            <script type=\"text/javascript\">                require([\"plotly\"], function(Plotly) {                    window.PLOTLYENV=window.PLOTLYENV || {};                                    if (document.getElementById(\"8206ba73-74eb-412a-960e-39679f3d5156\")) {                    Plotly.newPlot(                        \"8206ba73-74eb-412a-960e-39679f3d5156\",                        [{\"type\": \"bar\", \"x\": [\"C_waterland\", \"C_blocksdirtfloor\", \"C_people\", \"C_headeduc\", \"C_gasheater\", \"C_households\", \"C_refrigerator\", \"C_child05\", \"C_overcrowding\", \"C_HHdirtfloor\", \"C_telephone\", \"C_HHpersons\", \"C_waterhouse\", \"C_waterbath\", \"C_dropouts515\", \"C_earnincome\", \"C_illiterate\", \"C_washing\", \"C_vehicle\", \"C_poverty\", \"C_employment\", \"C_rooms\"], \"y\": [0.16094877853477843, 0.13523113237494952, 0.09451646962091469, 0.08344005193021303, 0.06909206694268012, 0.060679400725160405, 0.054588663877054786, 0.051184241963545006, 0.04972005820739839, 0.044276176938638716, 0.03394849613512023, 0.033705364510428874, 0.024366321549136396, 0.019433386473890063, 0.015373543808152134, 0.012409302775988021, 0.012239849688074553, 0.011478972938227411, 0.009228318957056978, 0.008969191758512006, 0.00845900069079307, 0.006711209599287312]}],                        {\"template\": {\"data\": {\"bar\": [{\"error_x\": {\"color\": \"#2a3f5f\"}, \"error_y\": {\"color\": \"#2a3f5f\"}, \"marker\": {\"line\": {\"color\": \"#E5ECF6\", \"width\": 0.5}}, \"type\": \"bar\"}], \"barpolar\": [{\"marker\": {\"line\": {\"color\": \"#E5ECF6\", \"width\": 0.5}}, \"type\": \"barpolar\"}], \"carpet\": [{\"aaxis\": {\"endlinecolor\": \"#2a3f5f\", \"gridcolor\": \"white\", \"linecolor\": \"white\", \"minorgridcolor\": \"white\", \"startlinecolor\": \"#2a3f5f\"}, \"baxis\": {\"endlinecolor\": \"#2a3f5f\", \"gridcolor\": \"white\", \"linecolor\": \"white\", \"minorgridcolor\": \"white\", \"startlinecolor\": \"#2a3f5f\"}, \"type\": \"carpet\"}], \"choropleth\": [{\"colorbar\": {\"outlinewidth\": 0, \"ticks\": \"\"}, \"type\": \"choropleth\"}], \"contour\": [{\"colorbar\": {\"outlinewidth\": 0, \"ticks\": \"\"}, \"colorscale\": [[0.0, \"#0d0887\"], [0.1111111111111111, \"#46039f\"], [0.2222222222222222, \"#7201a8\"], [0.3333333333333333, \"#9c179e\"], [0.4444444444444444, \"#bd3786\"], [0.5555555555555556, \"#d8576b\"], [0.6666666666666666, \"#ed7953\"], [0.7777777777777778, \"#fb9f3a\"], [0.8888888888888888, \"#fdca26\"], [1.0, \"#f0f921\"]], \"type\": \"contour\"}], \"contourcarpet\": [{\"colorbar\": {\"outlinewidth\": 0, \"ticks\": \"\"}, \"type\": \"contourcarpet\"}], \"heatmap\": [{\"colorbar\": {\"outlinewidth\": 0, \"ticks\": \"\"}, \"colorscale\": [[0.0, \"#0d0887\"], [0.1111111111111111, \"#46039f\"], [0.2222222222222222, \"#7201a8\"], [0.3333333333333333, \"#9c179e\"], [0.4444444444444444, \"#bd3786\"], [0.5555555555555556, \"#d8576b\"], [0.6666666666666666, \"#ed7953\"], [0.7777777777777778, \"#fb9f3a\"], [0.8888888888888888, \"#fdca26\"], [1.0, \"#f0f921\"]], \"type\": \"heatmap\"}], \"heatmapgl\": [{\"colorbar\": {\"outlinewidth\": 0, \"ticks\": \"\"}, \"colorscale\": [[0.0, \"#0d0887\"], [0.1111111111111111, \"#46039f\"], [0.2222222222222222, \"#7201a8\"], [0.3333333333333333, \"#9c179e\"], [0.4444444444444444, \"#bd3786\"], [0.5555555555555556, \"#d8576b\"], [0.6666666666666666, \"#ed7953\"], [0.7777777777777778, \"#fb9f3a\"], [0.8888888888888888, \"#fdca26\"], [1.0, \"#f0f921\"]], \"type\": \"heatmapgl\"}], \"histogram\": [{\"marker\": {\"colorbar\": {\"outlinewidth\": 0, \"ticks\": \"\"}}, \"type\": \"histogram\"}], \"histogram2d\": [{\"colorbar\": {\"outlinewidth\": 0, \"ticks\": \"\"}, \"colorscale\": [[0.0, \"#0d0887\"], [0.1111111111111111, \"#46039f\"], [0.2222222222222222, \"#7201a8\"], [0.3333333333333333, \"#9c179e\"], [0.4444444444444444, \"#bd3786\"], [0.5555555555555556, \"#d8576b\"], [0.6666666666666666, \"#ed7953\"], [0.7777777777777778, \"#fb9f3a\"], [0.8888888888888888, \"#fdca26\"], [1.0, \"#f0f921\"]], \"type\": \"histogram2d\"}], \"histogram2dcontour\": [{\"colorbar\": {\"outlinewidth\": 0, \"ticks\": \"\"}, \"colorscale\": [[0.0, \"#0d0887\"], [0.1111111111111111, \"#46039f\"], [0.2222222222222222, \"#7201a8\"], [0.3333333333333333, \"#9c179e\"], [0.4444444444444444, \"#bd3786\"], [0.5555555555555556, \"#d8576b\"], [0.6666666666666666, \"#ed7953\"], [0.7777777777777778, \"#fb9f3a\"], [0.8888888888888888, \"#fdca26\"], [1.0, \"#f0f921\"]], \"type\": \"histogram2dcontour\"}], \"mesh3d\": [{\"colorbar\": {\"outlinewidth\": 0, \"ticks\": \"\"}, \"type\": \"mesh3d\"}], \"parcoords\": [{\"line\": {\"colorbar\": {\"outlinewidth\": 0, \"ticks\": \"\"}}, \"type\": \"parcoords\"}], \"pie\": [{\"automargin\": true, \"type\": \"pie\"}], \"scatter\": [{\"marker\": {\"colorbar\": {\"outlinewidth\": 0, \"ticks\": \"\"}}, \"type\": \"scatter\"}], \"scatter3d\": [{\"line\": {\"colorbar\": {\"outlinewidth\": 0, \"ticks\": \"\"}}, \"marker\": {\"colorbar\": {\"outlinewidth\": 0, \"ticks\": \"\"}}, \"type\": \"scatter3d\"}], \"scattercarpet\": [{\"marker\": {\"colorbar\": {\"outlinewidth\": 0, \"ticks\": \"\"}}, \"type\": \"scattercarpet\"}], \"scattergeo\": [{\"marker\": {\"colorbar\": {\"outlinewidth\": 0, \"ticks\": \"\"}}, \"type\": \"scattergeo\"}], \"scattergl\": [{\"marker\": {\"colorbar\": {\"outlinewidth\": 0, \"ticks\": \"\"}}, \"type\": \"scattergl\"}], \"scattermapbox\": [{\"marker\": {\"colorbar\": {\"outlinewidth\": 0, \"ticks\": \"\"}}, \"type\": \"scattermapbox\"}], \"scatterpolar\": [{\"marker\": {\"colorbar\": {\"outlinewidth\": 0, \"ticks\": \"\"}}, \"type\": \"scatterpolar\"}], \"scatterpolargl\": [{\"marker\": {\"colorbar\": {\"outlinewidth\": 0, \"ticks\": \"\"}}, \"type\": \"scatterpolargl\"}], \"scatterternary\": [{\"marker\": {\"colorbar\": {\"outlinewidth\": 0, \"ticks\": \"\"}}, \"type\": \"scatterternary\"}], \"surface\": [{\"colorbar\": {\"outlinewidth\": 0, \"ticks\": \"\"}, \"colorscale\": [[0.0, \"#0d0887\"], [0.1111111111111111, \"#46039f\"], [0.2222222222222222, \"#7201a8\"], [0.3333333333333333, \"#9c179e\"], [0.4444444444444444, \"#bd3786\"], [0.5555555555555556, \"#d8576b\"], [0.6666666666666666, \"#ed7953\"], [0.7777777777777778, \"#fb9f3a\"], [0.8888888888888888, \"#fdca26\"], [1.0, \"#f0f921\"]], \"type\": \"surface\"}], \"table\": [{\"cells\": {\"fill\": {\"color\": \"#EBF0F8\"}, \"line\": {\"color\": \"white\"}}, \"header\": {\"fill\": {\"color\": \"#C8D4E3\"}, \"line\": {\"color\": \"white\"}}, \"type\": \"table\"}]}, \"layout\": {\"annotationdefaults\": {\"arrowcolor\": \"#2a3f5f\", \"arrowhead\": 0, \"arrowwidth\": 1}, \"coloraxis\": {\"colorbar\": {\"outlinewidth\": 0, \"ticks\": \"\"}}, \"colorscale\": {\"diverging\": [[0, \"#8e0152\"], [0.1, \"#c51b7d\"], [0.2, \"#de77ae\"], [0.3, \"#f1b6da\"], [0.4, \"#fde0ef\"], [0.5, \"#f7f7f7\"], [0.6, \"#e6f5d0\"], [0.7, \"#b8e186\"], [0.8, \"#7fbc41\"], [0.9, \"#4d9221\"], [1, \"#276419\"]], \"sequential\": [[0.0, \"#0d0887\"], [0.1111111111111111, \"#46039f\"], [0.2222222222222222, \"#7201a8\"], [0.3333333333333333, \"#9c179e\"], [0.4444444444444444, \"#bd3786\"], [0.5555555555555556, \"#d8576b\"], [0.6666666666666666, \"#ed7953\"], [0.7777777777777778, \"#fb9f3a\"], [0.8888888888888888, \"#fdca26\"], [1.0, \"#f0f921\"]], \"sequentialminus\": [[0.0, \"#0d0887\"], [0.1111111111111111, \"#46039f\"], [0.2222222222222222, \"#7201a8\"], [0.3333333333333333, \"#9c179e\"], [0.4444444444444444, \"#bd3786\"], [0.5555555555555556, \"#d8576b\"], [0.6666666666666666, \"#ed7953\"], [0.7777777777777778, \"#fb9f3a\"], [0.8888888888888888, \"#fdca26\"], [1.0, \"#f0f921\"]]}, \"colorway\": [\"#636efa\", \"#EF553B\", \"#00cc96\", \"#ab63fa\", \"#FFA15A\", \"#19d3f3\", \"#FF6692\", \"#B6E880\", \"#FF97FF\", \"#FECB52\"], \"font\": {\"color\": \"#2a3f5f\"}, \"geo\": {\"bgcolor\": \"white\", \"lakecolor\": \"white\", \"landcolor\": \"#E5ECF6\", \"showlakes\": true, \"showland\": true, \"subunitcolor\": \"white\"}, \"hoverlabel\": {\"align\": \"left\"}, \"hovermode\": \"closest\", \"mapbox\": {\"style\": \"light\"}, \"paper_bgcolor\": \"white\", \"plot_bgcolor\": \"#E5ECF6\", \"polar\": {\"angularaxis\": {\"gridcolor\": \"white\", \"linecolor\": \"white\", \"ticks\": \"\"}, \"bgcolor\": \"#E5ECF6\", \"radialaxis\": {\"gridcolor\": \"white\", \"linecolor\": \"white\", \"ticks\": \"\"}}, \"scene\": {\"xaxis\": {\"backgroundcolor\": \"#E5ECF6\", \"gridcolor\": \"white\", \"gridwidth\": 2, \"linecolor\": \"white\", \"showbackground\": true, \"ticks\": \"\", \"zerolinecolor\": \"white\"}, \"yaxis\": {\"backgroundcolor\": \"#E5ECF6\", \"gridcolor\": \"white\", \"gridwidth\": 2, \"linecolor\": \"white\", \"showbackground\": true, \"ticks\": \"\", \"zerolinecolor\": \"white\"}, \"zaxis\": {\"backgroundcolor\": \"#E5ECF6\", \"gridcolor\": \"white\", \"gridwidth\": 2, \"linecolor\": \"white\", \"showbackground\": true, \"ticks\": \"\", \"zerolinecolor\": \"white\"}}, \"shapedefaults\": {\"line\": {\"color\": \"#2a3f5f\"}}, \"ternary\": {\"aaxis\": {\"gridcolor\": \"white\", \"linecolor\": \"white\", \"ticks\": \"\"}, \"baxis\": {\"gridcolor\": \"white\", \"linecolor\": \"white\", \"ticks\": \"\"}, \"bgcolor\": \"#E5ECF6\", \"caxis\": {\"gridcolor\": \"white\", \"linecolor\": \"white\", \"ticks\": \"\"}}, \"title\": {\"x\": 0.05}, \"xaxis\": {\"automargin\": true, \"gridcolor\": \"white\", \"linecolor\": \"white\", \"ticks\": \"\", \"title\": {\"standoff\": 15}, \"zerolinecolor\": \"white\", \"zerolinewidth\": 2}, \"yaxis\": {\"automargin\": true, \"gridcolor\": \"white\", \"linecolor\": \"white\", \"ticks\": \"\", \"title\": {\"standoff\": 15}, \"zerolinecolor\": \"white\", \"zerolinewidth\": 2}}}},                        {\"responsive\": true}                    ).then(function(){\n",
       "                            \n",
       "var gd = document.getElementById('8206ba73-74eb-412a-960e-39679f3d5156');\n",
       "var x = new MutationObserver(function (mutations, observer) {{\n",
       "        var display = window.getComputedStyle(gd).display;\n",
       "        if (!display || display === 'none') {{\n",
       "            console.log([gd, 'removed!']);\n",
       "            Plotly.purge(gd);\n",
       "            observer.disconnect();\n",
       "        }}\n",
       "}});\n",
       "\n",
       "// Listen for the removal of the full notebook cells\n",
       "var notebookContainer = gd.closest('#notebook-container');\n",
       "if (notebookContainer) {{\n",
       "    x.observe(notebookContainer, {childList: true});\n",
       "}}\n",
       "\n",
       "// Listen for the clearing of the current output cell\n",
       "var outputEl = gd.closest('.output');\n",
       "if (outputEl) {{\n",
       "    x.observe(outputEl, {childList: true});\n",
       "}}\n",
       "\n",
       "                        })                };                });            </script>        </div>"
      ]
     },
     "metadata": {},
     "output_type": "display_data"
    }
   ],
   "source": [
    "plot_feature_importance(df_survey_train, df_census_train, GradientBoostingRegressor(), ['S_instcement'])"
   ]
  },
  {
   "cell_type": "markdown",
   "metadata": {},
   "source": [
    "### S_cementfloordin\n",
    "Def: Cement floor in dining room"
   ]
  },
  {
   "cell_type": "code",
   "execution_count": 29,
   "metadata": {},
   "outputs": [
    {
     "data": {
      "text/plain": [
       "1.0    1589\n",
       "0.0     364\n",
       "Name: S_cementfloordin, dtype: int64"
      ]
     },
     "execution_count": 29,
     "metadata": {},
     "output_type": "execute_result"
    }
   ],
   "source": [
    "df_hh['S_cementfloordin'].value_counts()"
   ]
  },
  {
   "cell_type": "code",
   "execution_count": 32,
   "metadata": {},
   "outputs": [
    {
     "name": "stdout",
     "output_type": "stream",
     "text": [
      "The Area Under ROC curve is 0.7094537815126051\n"
     ]
    },
    {
     "data": {
      "application/vnd.plotly.v1+json": {
       "config": {
        "plotlyServerURL": "https://plot.ly"
       },
       "data": [
        {
         "hovertemplate": "False positive rate=%{x}<br>True positive rate=%{y}<extra></extra>",
         "legendgroup": "",
         "line": {
          "color": "#636efa",
          "dash": "solid"
         },
         "mode": "lines",
         "name": "",
         "orientation": "v",
         "showlegend": false,
         "type": "scatter",
         "x": [
          0,
          0,
          0.008,
          0.008,
          0.008,
          0.008,
          0.008,
          0.008,
          0.008,
          0.016,
          0.016,
          0.016,
          0.016,
          0.024,
          0.024,
          0.024,
          0.024,
          0.024,
          0.032,
          0.032,
          0.032,
          0.032,
          0.032,
          0.04,
          0.04,
          0.04,
          0.04,
          0.048,
          0.048,
          0.048,
          0.048,
          0.048,
          0.048,
          0.048,
          0.048,
          0.056,
          0.056,
          0.056,
          0.072,
          0.072,
          0.072,
          0.072,
          0.072,
          0.08,
          0.088,
          0.096,
          0.096,
          0.096,
          0.112,
          0.112,
          0.112,
          0.136,
          0.136,
          0.144,
          0.144,
          0.144,
          0.176,
          0.192,
          0.216,
          0.216,
          0.224,
          0.248,
          0.248,
          0.28,
          0.312,
          0.312,
          0.32,
          0.368,
          0.376,
          0.376,
          0.384,
          0.408,
          0.504,
          0.544,
          0.544,
          0.552,
          0.56,
          0.568,
          0.576,
          0.584,
          0.616,
          0.648,
          0.672,
          0.672,
          0.688,
          0.728,
          0.84,
          0.848,
          0.856,
          0.944,
          0.968,
          0.992,
          0.992,
          1,
          1
         ],
         "xaxis": "x",
         "y": [
          0,
          0.0021008403361344537,
          0.0021008403361344537,
          0.0063025210084033615,
          0.01050420168067227,
          0.023109243697478993,
          0.0273109243697479,
          0.03361344537815126,
          0.03571428571428571,
          0.052521008403361345,
          0.06092436974789916,
          0.1092436974789916,
          0.12184873949579832,
          0.13865546218487396,
          0.14495798319327732,
          0.14915966386554622,
          0.16806722689075632,
          0.17016806722689076,
          0.1722689075630252,
          0.17647058823529413,
          0.18487394957983194,
          0.1869747899159664,
          0.1953781512605042,
          0.19957983193277312,
          0.20168067226890757,
          0.21008403361344538,
          0.22899159663865545,
          0.23319327731092437,
          0.24579831932773108,
          0.25,
          0.2689075630252101,
          0.2710084033613445,
          0.27521008403361347,
          0.28781512605042014,
          0.296218487394958,
          0.296218487394958,
          0.3004201680672269,
          0.3088235294117647,
          0.3172268907563025,
          0.33403361344537813,
          0.3382352941176471,
          0.3403361344537815,
          0.3445378151260504,
          0.35294117647058826,
          0.36554621848739494,
          0.3907563025210084,
          0.40336134453781514,
          0.4180672268907563,
          0.42857142857142855,
          0.43067226890756305,
          0.4432773109243697,
          0.46008403361344535,
          0.47689075630252103,
          0.4789915966386555,
          0.4831932773109244,
          0.4852941176470588,
          0.49159663865546216,
          0.49789915966386555,
          0.5189075630252101,
          0.523109243697479,
          0.5546218487394958,
          0.5672268907563025,
          0.569327731092437,
          0.5840336134453782,
          0.592436974789916,
          0.6008403361344538,
          0.6050420168067226,
          0.6407563025210085,
          0.6596638655462185,
          0.6680672268907563,
          0.6848739495798319,
          0.6995798319327731,
          0.7478991596638656,
          0.7794117647058824,
          0.792016806722689,
          0.7962184873949579,
          0.8025210084033614,
          0.8067226890756303,
          0.8172268907563025,
          0.8172268907563025,
          0.842436974789916,
          0.8487394957983193,
          0.8571428571428571,
          0.8613445378151261,
          0.8781512605042017,
          0.8928571428571429,
          0.930672268907563,
          0.9432773109243697,
          0.9432773109243697,
          0.9852941176470589,
          0.9873949579831933,
          0.9873949579831933,
          0.9894957983193278,
          0.9957983193277311,
          1
         ],
         "yaxis": "y"
        }
       ],
       "layout": {
        "height": 600,
        "legend": {
         "tracegroupgap": 0
        },
        "template": {
         "data": {
          "bar": [
           {
            "error_x": {
             "color": "#2a3f5f"
            },
            "error_y": {
             "color": "#2a3f5f"
            },
            "marker": {
             "line": {
              "color": "#E5ECF6",
              "width": 0.5
             }
            },
            "type": "bar"
           }
          ],
          "barpolar": [
           {
            "marker": {
             "line": {
              "color": "#E5ECF6",
              "width": 0.5
             }
            },
            "type": "barpolar"
           }
          ],
          "carpet": [
           {
            "aaxis": {
             "endlinecolor": "#2a3f5f",
             "gridcolor": "white",
             "linecolor": "white",
             "minorgridcolor": "white",
             "startlinecolor": "#2a3f5f"
            },
            "baxis": {
             "endlinecolor": "#2a3f5f",
             "gridcolor": "white",
             "linecolor": "white",
             "minorgridcolor": "white",
             "startlinecolor": "#2a3f5f"
            },
            "type": "carpet"
           }
          ],
          "choropleth": [
           {
            "colorbar": {
             "outlinewidth": 0,
             "ticks": ""
            },
            "type": "choropleth"
           }
          ],
          "contour": [
           {
            "colorbar": {
             "outlinewidth": 0,
             "ticks": ""
            },
            "colorscale": [
             [
              0,
              "#0d0887"
             ],
             [
              0.1111111111111111,
              "#46039f"
             ],
             [
              0.2222222222222222,
              "#7201a8"
             ],
             [
              0.3333333333333333,
              "#9c179e"
             ],
             [
              0.4444444444444444,
              "#bd3786"
             ],
             [
              0.5555555555555556,
              "#d8576b"
             ],
             [
              0.6666666666666666,
              "#ed7953"
             ],
             [
              0.7777777777777778,
              "#fb9f3a"
             ],
             [
              0.8888888888888888,
              "#fdca26"
             ],
             [
              1,
              "#f0f921"
             ]
            ],
            "type": "contour"
           }
          ],
          "contourcarpet": [
           {
            "colorbar": {
             "outlinewidth": 0,
             "ticks": ""
            },
            "type": "contourcarpet"
           }
          ],
          "heatmap": [
           {
            "colorbar": {
             "outlinewidth": 0,
             "ticks": ""
            },
            "colorscale": [
             [
              0,
              "#0d0887"
             ],
             [
              0.1111111111111111,
              "#46039f"
             ],
             [
              0.2222222222222222,
              "#7201a8"
             ],
             [
              0.3333333333333333,
              "#9c179e"
             ],
             [
              0.4444444444444444,
              "#bd3786"
             ],
             [
              0.5555555555555556,
              "#d8576b"
             ],
             [
              0.6666666666666666,
              "#ed7953"
             ],
             [
              0.7777777777777778,
              "#fb9f3a"
             ],
             [
              0.8888888888888888,
              "#fdca26"
             ],
             [
              1,
              "#f0f921"
             ]
            ],
            "type": "heatmap"
           }
          ],
          "heatmapgl": [
           {
            "colorbar": {
             "outlinewidth": 0,
             "ticks": ""
            },
            "colorscale": [
             [
              0,
              "#0d0887"
             ],
             [
              0.1111111111111111,
              "#46039f"
             ],
             [
              0.2222222222222222,
              "#7201a8"
             ],
             [
              0.3333333333333333,
              "#9c179e"
             ],
             [
              0.4444444444444444,
              "#bd3786"
             ],
             [
              0.5555555555555556,
              "#d8576b"
             ],
             [
              0.6666666666666666,
              "#ed7953"
             ],
             [
              0.7777777777777778,
              "#fb9f3a"
             ],
             [
              0.8888888888888888,
              "#fdca26"
             ],
             [
              1,
              "#f0f921"
             ]
            ],
            "type": "heatmapgl"
           }
          ],
          "histogram": [
           {
            "marker": {
             "colorbar": {
              "outlinewidth": 0,
              "ticks": ""
             }
            },
            "type": "histogram"
           }
          ],
          "histogram2d": [
           {
            "colorbar": {
             "outlinewidth": 0,
             "ticks": ""
            },
            "colorscale": [
             [
              0,
              "#0d0887"
             ],
             [
              0.1111111111111111,
              "#46039f"
             ],
             [
              0.2222222222222222,
              "#7201a8"
             ],
             [
              0.3333333333333333,
              "#9c179e"
             ],
             [
              0.4444444444444444,
              "#bd3786"
             ],
             [
              0.5555555555555556,
              "#d8576b"
             ],
             [
              0.6666666666666666,
              "#ed7953"
             ],
             [
              0.7777777777777778,
              "#fb9f3a"
             ],
             [
              0.8888888888888888,
              "#fdca26"
             ],
             [
              1,
              "#f0f921"
             ]
            ],
            "type": "histogram2d"
           }
          ],
          "histogram2dcontour": [
           {
            "colorbar": {
             "outlinewidth": 0,
             "ticks": ""
            },
            "colorscale": [
             [
              0,
              "#0d0887"
             ],
             [
              0.1111111111111111,
              "#46039f"
             ],
             [
              0.2222222222222222,
              "#7201a8"
             ],
             [
              0.3333333333333333,
              "#9c179e"
             ],
             [
              0.4444444444444444,
              "#bd3786"
             ],
             [
              0.5555555555555556,
              "#d8576b"
             ],
             [
              0.6666666666666666,
              "#ed7953"
             ],
             [
              0.7777777777777778,
              "#fb9f3a"
             ],
             [
              0.8888888888888888,
              "#fdca26"
             ],
             [
              1,
              "#f0f921"
             ]
            ],
            "type": "histogram2dcontour"
           }
          ],
          "mesh3d": [
           {
            "colorbar": {
             "outlinewidth": 0,
             "ticks": ""
            },
            "type": "mesh3d"
           }
          ],
          "parcoords": [
           {
            "line": {
             "colorbar": {
              "outlinewidth": 0,
              "ticks": ""
             }
            },
            "type": "parcoords"
           }
          ],
          "pie": [
           {
            "automargin": true,
            "type": "pie"
           }
          ],
          "scatter": [
           {
            "marker": {
             "colorbar": {
              "outlinewidth": 0,
              "ticks": ""
             }
            },
            "type": "scatter"
           }
          ],
          "scatter3d": [
           {
            "line": {
             "colorbar": {
              "outlinewidth": 0,
              "ticks": ""
             }
            },
            "marker": {
             "colorbar": {
              "outlinewidth": 0,
              "ticks": ""
             }
            },
            "type": "scatter3d"
           }
          ],
          "scattercarpet": [
           {
            "marker": {
             "colorbar": {
              "outlinewidth": 0,
              "ticks": ""
             }
            },
            "type": "scattercarpet"
           }
          ],
          "scattergeo": [
           {
            "marker": {
             "colorbar": {
              "outlinewidth": 0,
              "ticks": ""
             }
            },
            "type": "scattergeo"
           }
          ],
          "scattergl": [
           {
            "marker": {
             "colorbar": {
              "outlinewidth": 0,
              "ticks": ""
             }
            },
            "type": "scattergl"
           }
          ],
          "scattermapbox": [
           {
            "marker": {
             "colorbar": {
              "outlinewidth": 0,
              "ticks": ""
             }
            },
            "type": "scattermapbox"
           }
          ],
          "scatterpolar": [
           {
            "marker": {
             "colorbar": {
              "outlinewidth": 0,
              "ticks": ""
             }
            },
            "type": "scatterpolar"
           }
          ],
          "scatterpolargl": [
           {
            "marker": {
             "colorbar": {
              "outlinewidth": 0,
              "ticks": ""
             }
            },
            "type": "scatterpolargl"
           }
          ],
          "scatterternary": [
           {
            "marker": {
             "colorbar": {
              "outlinewidth": 0,
              "ticks": ""
             }
            },
            "type": "scatterternary"
           }
          ],
          "surface": [
           {
            "colorbar": {
             "outlinewidth": 0,
             "ticks": ""
            },
            "colorscale": [
             [
              0,
              "#0d0887"
             ],
             [
              0.1111111111111111,
              "#46039f"
             ],
             [
              0.2222222222222222,
              "#7201a8"
             ],
             [
              0.3333333333333333,
              "#9c179e"
             ],
             [
              0.4444444444444444,
              "#bd3786"
             ],
             [
              0.5555555555555556,
              "#d8576b"
             ],
             [
              0.6666666666666666,
              "#ed7953"
             ],
             [
              0.7777777777777778,
              "#fb9f3a"
             ],
             [
              0.8888888888888888,
              "#fdca26"
             ],
             [
              1,
              "#f0f921"
             ]
            ],
            "type": "surface"
           }
          ],
          "table": [
           {
            "cells": {
             "fill": {
              "color": "#EBF0F8"
             },
             "line": {
              "color": "white"
             }
            },
            "header": {
             "fill": {
              "color": "#C8D4E3"
             },
             "line": {
              "color": "white"
             }
            },
            "type": "table"
           }
          ]
         },
         "layout": {
          "annotationdefaults": {
           "arrowcolor": "#2a3f5f",
           "arrowhead": 0,
           "arrowwidth": 1
          },
          "coloraxis": {
           "colorbar": {
            "outlinewidth": 0,
            "ticks": ""
           }
          },
          "colorscale": {
           "diverging": [
            [
             0,
             "#8e0152"
            ],
            [
             0.1,
             "#c51b7d"
            ],
            [
             0.2,
             "#de77ae"
            ],
            [
             0.3,
             "#f1b6da"
            ],
            [
             0.4,
             "#fde0ef"
            ],
            [
             0.5,
             "#f7f7f7"
            ],
            [
             0.6,
             "#e6f5d0"
            ],
            [
             0.7,
             "#b8e186"
            ],
            [
             0.8,
             "#7fbc41"
            ],
            [
             0.9,
             "#4d9221"
            ],
            [
             1,
             "#276419"
            ]
           ],
           "sequential": [
            [
             0,
             "#0d0887"
            ],
            [
             0.1111111111111111,
             "#46039f"
            ],
            [
             0.2222222222222222,
             "#7201a8"
            ],
            [
             0.3333333333333333,
             "#9c179e"
            ],
            [
             0.4444444444444444,
             "#bd3786"
            ],
            [
             0.5555555555555556,
             "#d8576b"
            ],
            [
             0.6666666666666666,
             "#ed7953"
            ],
            [
             0.7777777777777778,
             "#fb9f3a"
            ],
            [
             0.8888888888888888,
             "#fdca26"
            ],
            [
             1,
             "#f0f921"
            ]
           ],
           "sequentialminus": [
            [
             0,
             "#0d0887"
            ],
            [
             0.1111111111111111,
             "#46039f"
            ],
            [
             0.2222222222222222,
             "#7201a8"
            ],
            [
             0.3333333333333333,
             "#9c179e"
            ],
            [
             0.4444444444444444,
             "#bd3786"
            ],
            [
             0.5555555555555556,
             "#d8576b"
            ],
            [
             0.6666666666666666,
             "#ed7953"
            ],
            [
             0.7777777777777778,
             "#fb9f3a"
            ],
            [
             0.8888888888888888,
             "#fdca26"
            ],
            [
             1,
             "#f0f921"
            ]
           ]
          },
          "colorway": [
           "#636efa",
           "#EF553B",
           "#00cc96",
           "#ab63fa",
           "#FFA15A",
           "#19d3f3",
           "#FF6692",
           "#B6E880",
           "#FF97FF",
           "#FECB52"
          ],
          "font": {
           "color": "#2a3f5f"
          },
          "geo": {
           "bgcolor": "white",
           "lakecolor": "white",
           "landcolor": "#E5ECF6",
           "showlakes": true,
           "showland": true,
           "subunitcolor": "white"
          },
          "hoverlabel": {
           "align": "left"
          },
          "hovermode": "closest",
          "mapbox": {
           "style": "light"
          },
          "paper_bgcolor": "white",
          "plot_bgcolor": "#E5ECF6",
          "polar": {
           "angularaxis": {
            "gridcolor": "white",
            "linecolor": "white",
            "ticks": ""
           },
           "bgcolor": "#E5ECF6",
           "radialaxis": {
            "gridcolor": "white",
            "linecolor": "white",
            "ticks": ""
           }
          },
          "scene": {
           "xaxis": {
            "backgroundcolor": "#E5ECF6",
            "gridcolor": "white",
            "gridwidth": 2,
            "linecolor": "white",
            "showbackground": true,
            "ticks": "",
            "zerolinecolor": "white"
           },
           "yaxis": {
            "backgroundcolor": "#E5ECF6",
            "gridcolor": "white",
            "gridwidth": 2,
            "linecolor": "white",
            "showbackground": true,
            "ticks": "",
            "zerolinecolor": "white"
           },
           "zaxis": {
            "backgroundcolor": "#E5ECF6",
            "gridcolor": "white",
            "gridwidth": 2,
            "linecolor": "white",
            "showbackground": true,
            "ticks": "",
            "zerolinecolor": "white"
           }
          },
          "shapedefaults": {
           "line": {
            "color": "#2a3f5f"
           }
          },
          "ternary": {
           "aaxis": {
            "gridcolor": "white",
            "linecolor": "white",
            "ticks": ""
           },
           "baxis": {
            "gridcolor": "white",
            "linecolor": "white",
            "ticks": ""
           },
           "bgcolor": "#E5ECF6",
           "caxis": {
            "gridcolor": "white",
            "linecolor": "white",
            "ticks": ""
           }
          },
          "title": {
           "x": 0.05
          },
          "xaxis": {
           "automargin": true,
           "gridcolor": "white",
           "linecolor": "white",
           "ticks": "",
           "title": {
            "standoff": 15
           },
           "zerolinecolor": "white",
           "zerolinewidth": 2
          },
          "yaxis": {
           "automargin": true,
           "gridcolor": "white",
           "linecolor": "white",
           "ticks": "",
           "title": {
            "standoff": 15
           },
           "zerolinecolor": "white",
           "zerolinewidth": 2
          }
         }
        },
        "title": {
         "text": "ROC curve for S_cementfloordin"
        },
        "width": 600,
        "xaxis": {
         "anchor": "y",
         "domain": [
          0,
          1
         ],
         "title": {
          "text": "False positive rate"
         }
        },
        "yaxis": {
         "anchor": "x",
         "domain": [
          0,
          1
         ],
         "title": {
          "text": "True positive rate"
         }
        }
       }
      },
      "text/html": [
       "<div>                            <div id=\"828b242c-766e-483c-91b8-cdc75709b4e5\" class=\"plotly-graph-div\" style=\"height:600px; width:600px;\"></div>            <script type=\"text/javascript\">                require([\"plotly\"], function(Plotly) {                    window.PLOTLYENV=window.PLOTLYENV || {};                                    if (document.getElementById(\"828b242c-766e-483c-91b8-cdc75709b4e5\")) {                    Plotly.newPlot(                        \"828b242c-766e-483c-91b8-cdc75709b4e5\",                        [{\"hovertemplate\": \"False positive rate=%{x}<br>True positive rate=%{y}<extra></extra>\", \"legendgroup\": \"\", \"line\": {\"color\": \"#636efa\", \"dash\": \"solid\"}, \"mode\": \"lines\", \"name\": \"\", \"orientation\": \"v\", \"showlegend\": false, \"type\": \"scatter\", \"x\": [0.0, 0.0, 0.008, 0.008, 0.008, 0.008, 0.008, 0.008, 0.008, 0.016, 0.016, 0.016, 0.016, 0.024, 0.024, 0.024, 0.024, 0.024, 0.032, 0.032, 0.032, 0.032, 0.032, 0.04, 0.04, 0.04, 0.04, 0.048, 0.048, 0.048, 0.048, 0.048, 0.048, 0.048, 0.048, 0.056, 0.056, 0.056, 0.072, 0.072, 0.072, 0.072, 0.072, 0.08, 0.088, 0.096, 0.096, 0.096, 0.112, 0.112, 0.112, 0.136, 0.136, 0.144, 0.144, 0.144, 0.176, 0.192, 0.216, 0.216, 0.224, 0.248, 0.248, 0.28, 0.312, 0.312, 0.32, 0.368, 0.376, 0.376, 0.384, 0.408, 0.504, 0.544, 0.544, 0.552, 0.56, 0.568, 0.576, 0.584, 0.616, 0.648, 0.672, 0.672, 0.688, 0.728, 0.84, 0.848, 0.856, 0.944, 0.968, 0.992, 0.992, 1.0, 1.0], \"xaxis\": \"x\", \"y\": [0.0, 0.0021008403361344537, 0.0021008403361344537, 0.0063025210084033615, 0.01050420168067227, 0.023109243697478993, 0.0273109243697479, 0.03361344537815126, 0.03571428571428571, 0.052521008403361345, 0.06092436974789916, 0.1092436974789916, 0.12184873949579832, 0.13865546218487396, 0.14495798319327732, 0.14915966386554622, 0.16806722689075632, 0.17016806722689076, 0.1722689075630252, 0.17647058823529413, 0.18487394957983194, 0.1869747899159664, 0.1953781512605042, 0.19957983193277312, 0.20168067226890757, 0.21008403361344538, 0.22899159663865545, 0.23319327731092437, 0.24579831932773108, 0.25, 0.2689075630252101, 0.2710084033613445, 0.27521008403361347, 0.28781512605042014, 0.296218487394958, 0.296218487394958, 0.3004201680672269, 0.3088235294117647, 0.3172268907563025, 0.33403361344537813, 0.3382352941176471, 0.3403361344537815, 0.3445378151260504, 0.35294117647058826, 0.36554621848739494, 0.3907563025210084, 0.40336134453781514, 0.4180672268907563, 0.42857142857142855, 0.43067226890756305, 0.4432773109243697, 0.46008403361344535, 0.47689075630252103, 0.4789915966386555, 0.4831932773109244, 0.4852941176470588, 0.49159663865546216, 0.49789915966386555, 0.5189075630252101, 0.523109243697479, 0.5546218487394958, 0.5672268907563025, 0.569327731092437, 0.5840336134453782, 0.592436974789916, 0.6008403361344538, 0.6050420168067226, 0.6407563025210085, 0.6596638655462185, 0.6680672268907563, 0.6848739495798319, 0.6995798319327731, 0.7478991596638656, 0.7794117647058824, 0.792016806722689, 0.7962184873949579, 0.8025210084033614, 0.8067226890756303, 0.8172268907563025, 0.8172268907563025, 0.842436974789916, 0.8487394957983193, 0.8571428571428571, 0.8613445378151261, 0.8781512605042017, 0.8928571428571429, 0.930672268907563, 0.9432773109243697, 0.9432773109243697, 0.9852941176470589, 0.9873949579831933, 0.9873949579831933, 0.9894957983193278, 0.9957983193277311, 1.0], \"yaxis\": \"y\"}],                        {\"height\": 600, \"legend\": {\"tracegroupgap\": 0}, \"template\": {\"data\": {\"bar\": [{\"error_x\": {\"color\": \"#2a3f5f\"}, \"error_y\": {\"color\": \"#2a3f5f\"}, \"marker\": {\"line\": {\"color\": \"#E5ECF6\", \"width\": 0.5}}, \"type\": \"bar\"}], \"barpolar\": [{\"marker\": {\"line\": {\"color\": \"#E5ECF6\", \"width\": 0.5}}, \"type\": \"barpolar\"}], \"carpet\": [{\"aaxis\": {\"endlinecolor\": \"#2a3f5f\", \"gridcolor\": \"white\", \"linecolor\": \"white\", \"minorgridcolor\": \"white\", \"startlinecolor\": \"#2a3f5f\"}, \"baxis\": {\"endlinecolor\": \"#2a3f5f\", \"gridcolor\": \"white\", \"linecolor\": \"white\", \"minorgridcolor\": \"white\", \"startlinecolor\": \"#2a3f5f\"}, \"type\": \"carpet\"}], \"choropleth\": [{\"colorbar\": {\"outlinewidth\": 0, \"ticks\": \"\"}, \"type\": \"choropleth\"}], \"contour\": [{\"colorbar\": {\"outlinewidth\": 0, \"ticks\": \"\"}, \"colorscale\": [[0.0, \"#0d0887\"], [0.1111111111111111, \"#46039f\"], [0.2222222222222222, \"#7201a8\"], [0.3333333333333333, \"#9c179e\"], [0.4444444444444444, \"#bd3786\"], [0.5555555555555556, \"#d8576b\"], [0.6666666666666666, \"#ed7953\"], [0.7777777777777778, \"#fb9f3a\"], [0.8888888888888888, \"#fdca26\"], [1.0, \"#f0f921\"]], \"type\": \"contour\"}], \"contourcarpet\": [{\"colorbar\": {\"outlinewidth\": 0, \"ticks\": \"\"}, \"type\": \"contourcarpet\"}], \"heatmap\": [{\"colorbar\": {\"outlinewidth\": 0, \"ticks\": \"\"}, \"colorscale\": [[0.0, \"#0d0887\"], [0.1111111111111111, \"#46039f\"], [0.2222222222222222, \"#7201a8\"], [0.3333333333333333, \"#9c179e\"], [0.4444444444444444, \"#bd3786\"], [0.5555555555555556, \"#d8576b\"], [0.6666666666666666, \"#ed7953\"], [0.7777777777777778, \"#fb9f3a\"], [0.8888888888888888, \"#fdca26\"], [1.0, \"#f0f921\"]], \"type\": \"heatmap\"}], \"heatmapgl\": [{\"colorbar\": {\"outlinewidth\": 0, \"ticks\": \"\"}, \"colorscale\": [[0.0, \"#0d0887\"], [0.1111111111111111, \"#46039f\"], [0.2222222222222222, \"#7201a8\"], [0.3333333333333333, \"#9c179e\"], [0.4444444444444444, \"#bd3786\"], [0.5555555555555556, \"#d8576b\"], [0.6666666666666666, \"#ed7953\"], [0.7777777777777778, \"#fb9f3a\"], [0.8888888888888888, \"#fdca26\"], [1.0, \"#f0f921\"]], \"type\": \"heatmapgl\"}], \"histogram\": [{\"marker\": {\"colorbar\": {\"outlinewidth\": 0, \"ticks\": \"\"}}, \"type\": \"histogram\"}], \"histogram2d\": [{\"colorbar\": {\"outlinewidth\": 0, \"ticks\": \"\"}, \"colorscale\": [[0.0, \"#0d0887\"], [0.1111111111111111, \"#46039f\"], [0.2222222222222222, \"#7201a8\"], [0.3333333333333333, \"#9c179e\"], [0.4444444444444444, \"#bd3786\"], [0.5555555555555556, \"#d8576b\"], [0.6666666666666666, \"#ed7953\"], [0.7777777777777778, \"#fb9f3a\"], [0.8888888888888888, \"#fdca26\"], [1.0, \"#f0f921\"]], \"type\": \"histogram2d\"}], \"histogram2dcontour\": [{\"colorbar\": {\"outlinewidth\": 0, \"ticks\": \"\"}, \"colorscale\": [[0.0, \"#0d0887\"], [0.1111111111111111, \"#46039f\"], [0.2222222222222222, \"#7201a8\"], [0.3333333333333333, \"#9c179e\"], [0.4444444444444444, \"#bd3786\"], [0.5555555555555556, \"#d8576b\"], [0.6666666666666666, \"#ed7953\"], [0.7777777777777778, \"#fb9f3a\"], [0.8888888888888888, \"#fdca26\"], [1.0, \"#f0f921\"]], \"type\": \"histogram2dcontour\"}], \"mesh3d\": [{\"colorbar\": {\"outlinewidth\": 0, \"ticks\": \"\"}, \"type\": \"mesh3d\"}], \"parcoords\": [{\"line\": {\"colorbar\": {\"outlinewidth\": 0, \"ticks\": \"\"}}, \"type\": \"parcoords\"}], \"pie\": [{\"automargin\": true, \"type\": \"pie\"}], \"scatter\": [{\"marker\": {\"colorbar\": {\"outlinewidth\": 0, \"ticks\": \"\"}}, \"type\": \"scatter\"}], \"scatter3d\": [{\"line\": {\"colorbar\": {\"outlinewidth\": 0, \"ticks\": \"\"}}, \"marker\": {\"colorbar\": {\"outlinewidth\": 0, \"ticks\": \"\"}}, \"type\": \"scatter3d\"}], \"scattercarpet\": [{\"marker\": {\"colorbar\": {\"outlinewidth\": 0, \"ticks\": \"\"}}, \"type\": \"scattercarpet\"}], \"scattergeo\": [{\"marker\": {\"colorbar\": {\"outlinewidth\": 0, \"ticks\": \"\"}}, \"type\": \"scattergeo\"}], \"scattergl\": [{\"marker\": {\"colorbar\": {\"outlinewidth\": 0, \"ticks\": \"\"}}, \"type\": \"scattergl\"}], \"scattermapbox\": [{\"marker\": {\"colorbar\": {\"outlinewidth\": 0, \"ticks\": \"\"}}, \"type\": \"scattermapbox\"}], \"scatterpolar\": [{\"marker\": {\"colorbar\": {\"outlinewidth\": 0, \"ticks\": \"\"}}, \"type\": \"scatterpolar\"}], \"scatterpolargl\": [{\"marker\": {\"colorbar\": {\"outlinewidth\": 0, \"ticks\": \"\"}}, \"type\": \"scatterpolargl\"}], \"scatterternary\": [{\"marker\": {\"colorbar\": {\"outlinewidth\": 0, \"ticks\": \"\"}}, \"type\": \"scatterternary\"}], \"surface\": [{\"colorbar\": {\"outlinewidth\": 0, \"ticks\": \"\"}, \"colorscale\": [[0.0, \"#0d0887\"], [0.1111111111111111, \"#46039f\"], [0.2222222222222222, \"#7201a8\"], [0.3333333333333333, \"#9c179e\"], [0.4444444444444444, \"#bd3786\"], [0.5555555555555556, \"#d8576b\"], [0.6666666666666666, \"#ed7953\"], [0.7777777777777778, \"#fb9f3a\"], [0.8888888888888888, \"#fdca26\"], [1.0, \"#f0f921\"]], \"type\": \"surface\"}], \"table\": [{\"cells\": {\"fill\": {\"color\": \"#EBF0F8\"}, \"line\": {\"color\": \"white\"}}, \"header\": {\"fill\": {\"color\": \"#C8D4E3\"}, \"line\": {\"color\": \"white\"}}, \"type\": \"table\"}]}, \"layout\": {\"annotationdefaults\": {\"arrowcolor\": \"#2a3f5f\", \"arrowhead\": 0, \"arrowwidth\": 1}, \"coloraxis\": {\"colorbar\": {\"outlinewidth\": 0, \"ticks\": \"\"}}, \"colorscale\": {\"diverging\": [[0, \"#8e0152\"], [0.1, \"#c51b7d\"], [0.2, \"#de77ae\"], [0.3, \"#f1b6da\"], [0.4, \"#fde0ef\"], [0.5, \"#f7f7f7\"], [0.6, \"#e6f5d0\"], [0.7, \"#b8e186\"], [0.8, \"#7fbc41\"], [0.9, \"#4d9221\"], [1, \"#276419\"]], \"sequential\": [[0.0, \"#0d0887\"], [0.1111111111111111, \"#46039f\"], [0.2222222222222222, \"#7201a8\"], [0.3333333333333333, \"#9c179e\"], [0.4444444444444444, \"#bd3786\"], [0.5555555555555556, \"#d8576b\"], [0.6666666666666666, \"#ed7953\"], [0.7777777777777778, \"#fb9f3a\"], [0.8888888888888888, \"#fdca26\"], [1.0, \"#f0f921\"]], \"sequentialminus\": [[0.0, \"#0d0887\"], [0.1111111111111111, \"#46039f\"], [0.2222222222222222, \"#7201a8\"], [0.3333333333333333, \"#9c179e\"], [0.4444444444444444, \"#bd3786\"], [0.5555555555555556, \"#d8576b\"], [0.6666666666666666, \"#ed7953\"], [0.7777777777777778, \"#fb9f3a\"], [0.8888888888888888, \"#fdca26\"], [1.0, \"#f0f921\"]]}, \"colorway\": [\"#636efa\", \"#EF553B\", \"#00cc96\", \"#ab63fa\", \"#FFA15A\", \"#19d3f3\", \"#FF6692\", \"#B6E880\", \"#FF97FF\", \"#FECB52\"], \"font\": {\"color\": \"#2a3f5f\"}, \"geo\": {\"bgcolor\": \"white\", \"lakecolor\": \"white\", \"landcolor\": \"#E5ECF6\", \"showlakes\": true, \"showland\": true, \"subunitcolor\": \"white\"}, \"hoverlabel\": {\"align\": \"left\"}, \"hovermode\": \"closest\", \"mapbox\": {\"style\": \"light\"}, \"paper_bgcolor\": \"white\", \"plot_bgcolor\": \"#E5ECF6\", \"polar\": {\"angularaxis\": {\"gridcolor\": \"white\", \"linecolor\": \"white\", \"ticks\": \"\"}, \"bgcolor\": \"#E5ECF6\", \"radialaxis\": {\"gridcolor\": \"white\", \"linecolor\": \"white\", \"ticks\": \"\"}}, \"scene\": {\"xaxis\": {\"backgroundcolor\": \"#E5ECF6\", \"gridcolor\": \"white\", \"gridwidth\": 2, \"linecolor\": \"white\", \"showbackground\": true, \"ticks\": \"\", \"zerolinecolor\": \"white\"}, \"yaxis\": {\"backgroundcolor\": \"#E5ECF6\", \"gridcolor\": \"white\", \"gridwidth\": 2, \"linecolor\": \"white\", \"showbackground\": true, \"ticks\": \"\", \"zerolinecolor\": \"white\"}, \"zaxis\": {\"backgroundcolor\": \"#E5ECF6\", \"gridcolor\": \"white\", \"gridwidth\": 2, \"linecolor\": \"white\", \"showbackground\": true, \"ticks\": \"\", \"zerolinecolor\": \"white\"}}, \"shapedefaults\": {\"line\": {\"color\": \"#2a3f5f\"}}, \"ternary\": {\"aaxis\": {\"gridcolor\": \"white\", \"linecolor\": \"white\", \"ticks\": \"\"}, \"baxis\": {\"gridcolor\": \"white\", \"linecolor\": \"white\", \"ticks\": \"\"}, \"bgcolor\": \"#E5ECF6\", \"caxis\": {\"gridcolor\": \"white\", \"linecolor\": \"white\", \"ticks\": \"\"}}, \"title\": {\"x\": 0.05}, \"xaxis\": {\"automargin\": true, \"gridcolor\": \"white\", \"linecolor\": \"white\", \"ticks\": \"\", \"title\": {\"standoff\": 15}, \"zerolinecolor\": \"white\", \"zerolinewidth\": 2}, \"yaxis\": {\"automargin\": true, \"gridcolor\": \"white\", \"linecolor\": \"white\", \"ticks\": \"\", \"title\": {\"standoff\": 15}, \"zerolinecolor\": \"white\", \"zerolinewidth\": 2}}}, \"title\": {\"text\": \"ROC curve for S_cementfloordin\"}, \"width\": 600, \"xaxis\": {\"anchor\": \"y\", \"domain\": [0.0, 1.0], \"title\": {\"text\": \"False positive rate\"}}, \"yaxis\": {\"anchor\": \"x\", \"domain\": [0.0, 1.0], \"title\": {\"text\": \"True positive rate\"}}},                        {\"responsive\": true}                    ).then(function(){\n",
       "                            \n",
       "var gd = document.getElementById('828b242c-766e-483c-91b8-cdc75709b4e5');\n",
       "var x = new MutationObserver(function (mutations, observer) {{\n",
       "        var display = window.getComputedStyle(gd).display;\n",
       "        if (!display || display === 'none') {{\n",
       "            console.log([gd, 'removed!']);\n",
       "            Plotly.purge(gd);\n",
       "            observer.disconnect();\n",
       "        }}\n",
       "}});\n",
       "\n",
       "// Listen for the removal of the full notebook cells\n",
       "var notebookContainer = gd.closest('#notebook-container');\n",
       "if (notebookContainer) {{\n",
       "    x.observe(notebookContainer, {childList: true});\n",
       "}}\n",
       "\n",
       "// Listen for the clearing of the current output cell\n",
       "var outputEl = gd.closest('.output');\n",
       "if (outputEl) {{\n",
       "    x.observe(outputEl, {childList: true});\n",
       "}}\n",
       "\n",
       "                        })                };                });            </script>        </div>"
      ]
     },
     "metadata": {},
     "output_type": "display_data"
    }
   ],
   "source": [
    "plot_AUC_curve(GradientBoostingRegressor(), ['S_cementfloordin'])"
   ]
  },
  {
   "cell_type": "code",
   "execution_count": 33,
   "metadata": {},
   "outputs": [
    {
     "data": {
      "application/vnd.plotly.v1+json": {
       "config": {
        "plotlyServerURL": "https://plot.ly"
       },
       "data": [
        {
         "type": "bar",
         "x": [
          "C_blocksdirtfloor",
          "C_poverty",
          "C_employment",
          "C_vehicle",
          "C_illiterate",
          "C_HHpersons",
          "C_waterbath",
          "C_headeduc",
          "C_households",
          "C_people",
          "C_HHdirtfloor",
          "C_dropouts515",
          "C_child05",
          "C_waterland",
          "C_refrigerator",
          "C_telephone",
          "C_gasheater",
          "C_washing",
          "C_overcrowding",
          "C_rooms",
          "C_earnincome",
          "C_waterhouse"
         ],
         "y": [
          0.13257464959486603,
          0.12573936123539342,
          0.08465614391155059,
          0.08062568678475655,
          0.056470023112569344,
          0.05421798536272427,
          0.05218150073810636,
          0.0516805856067573,
          0.04631579222506849,
          0.043056068693170156,
          0.03379100732025232,
          0.032514482744000026,
          0.029776153412417312,
          0.028211850858688867,
          0.025213033801383806,
          0.024558023768047346,
          0.023140814412892095,
          0.02220407653899287,
          0.01921127969666322,
          0.014838061195972141,
          0.011600628005773085,
          0.007422790979954415
         ]
        }
       ],
       "layout": {
        "template": {
         "data": {
          "bar": [
           {
            "error_x": {
             "color": "#2a3f5f"
            },
            "error_y": {
             "color": "#2a3f5f"
            },
            "marker": {
             "line": {
              "color": "#E5ECF6",
              "width": 0.5
             }
            },
            "type": "bar"
           }
          ],
          "barpolar": [
           {
            "marker": {
             "line": {
              "color": "#E5ECF6",
              "width": 0.5
             }
            },
            "type": "barpolar"
           }
          ],
          "carpet": [
           {
            "aaxis": {
             "endlinecolor": "#2a3f5f",
             "gridcolor": "white",
             "linecolor": "white",
             "minorgridcolor": "white",
             "startlinecolor": "#2a3f5f"
            },
            "baxis": {
             "endlinecolor": "#2a3f5f",
             "gridcolor": "white",
             "linecolor": "white",
             "minorgridcolor": "white",
             "startlinecolor": "#2a3f5f"
            },
            "type": "carpet"
           }
          ],
          "choropleth": [
           {
            "colorbar": {
             "outlinewidth": 0,
             "ticks": ""
            },
            "type": "choropleth"
           }
          ],
          "contour": [
           {
            "colorbar": {
             "outlinewidth": 0,
             "ticks": ""
            },
            "colorscale": [
             [
              0,
              "#0d0887"
             ],
             [
              0.1111111111111111,
              "#46039f"
             ],
             [
              0.2222222222222222,
              "#7201a8"
             ],
             [
              0.3333333333333333,
              "#9c179e"
             ],
             [
              0.4444444444444444,
              "#bd3786"
             ],
             [
              0.5555555555555556,
              "#d8576b"
             ],
             [
              0.6666666666666666,
              "#ed7953"
             ],
             [
              0.7777777777777778,
              "#fb9f3a"
             ],
             [
              0.8888888888888888,
              "#fdca26"
             ],
             [
              1,
              "#f0f921"
             ]
            ],
            "type": "contour"
           }
          ],
          "contourcarpet": [
           {
            "colorbar": {
             "outlinewidth": 0,
             "ticks": ""
            },
            "type": "contourcarpet"
           }
          ],
          "heatmap": [
           {
            "colorbar": {
             "outlinewidth": 0,
             "ticks": ""
            },
            "colorscale": [
             [
              0,
              "#0d0887"
             ],
             [
              0.1111111111111111,
              "#46039f"
             ],
             [
              0.2222222222222222,
              "#7201a8"
             ],
             [
              0.3333333333333333,
              "#9c179e"
             ],
             [
              0.4444444444444444,
              "#bd3786"
             ],
             [
              0.5555555555555556,
              "#d8576b"
             ],
             [
              0.6666666666666666,
              "#ed7953"
             ],
             [
              0.7777777777777778,
              "#fb9f3a"
             ],
             [
              0.8888888888888888,
              "#fdca26"
             ],
             [
              1,
              "#f0f921"
             ]
            ],
            "type": "heatmap"
           }
          ],
          "heatmapgl": [
           {
            "colorbar": {
             "outlinewidth": 0,
             "ticks": ""
            },
            "colorscale": [
             [
              0,
              "#0d0887"
             ],
             [
              0.1111111111111111,
              "#46039f"
             ],
             [
              0.2222222222222222,
              "#7201a8"
             ],
             [
              0.3333333333333333,
              "#9c179e"
             ],
             [
              0.4444444444444444,
              "#bd3786"
             ],
             [
              0.5555555555555556,
              "#d8576b"
             ],
             [
              0.6666666666666666,
              "#ed7953"
             ],
             [
              0.7777777777777778,
              "#fb9f3a"
             ],
             [
              0.8888888888888888,
              "#fdca26"
             ],
             [
              1,
              "#f0f921"
             ]
            ],
            "type": "heatmapgl"
           }
          ],
          "histogram": [
           {
            "marker": {
             "colorbar": {
              "outlinewidth": 0,
              "ticks": ""
             }
            },
            "type": "histogram"
           }
          ],
          "histogram2d": [
           {
            "colorbar": {
             "outlinewidth": 0,
             "ticks": ""
            },
            "colorscale": [
             [
              0,
              "#0d0887"
             ],
             [
              0.1111111111111111,
              "#46039f"
             ],
             [
              0.2222222222222222,
              "#7201a8"
             ],
             [
              0.3333333333333333,
              "#9c179e"
             ],
             [
              0.4444444444444444,
              "#bd3786"
             ],
             [
              0.5555555555555556,
              "#d8576b"
             ],
             [
              0.6666666666666666,
              "#ed7953"
             ],
             [
              0.7777777777777778,
              "#fb9f3a"
             ],
             [
              0.8888888888888888,
              "#fdca26"
             ],
             [
              1,
              "#f0f921"
             ]
            ],
            "type": "histogram2d"
           }
          ],
          "histogram2dcontour": [
           {
            "colorbar": {
             "outlinewidth": 0,
             "ticks": ""
            },
            "colorscale": [
             [
              0,
              "#0d0887"
             ],
             [
              0.1111111111111111,
              "#46039f"
             ],
             [
              0.2222222222222222,
              "#7201a8"
             ],
             [
              0.3333333333333333,
              "#9c179e"
             ],
             [
              0.4444444444444444,
              "#bd3786"
             ],
             [
              0.5555555555555556,
              "#d8576b"
             ],
             [
              0.6666666666666666,
              "#ed7953"
             ],
             [
              0.7777777777777778,
              "#fb9f3a"
             ],
             [
              0.8888888888888888,
              "#fdca26"
             ],
             [
              1,
              "#f0f921"
             ]
            ],
            "type": "histogram2dcontour"
           }
          ],
          "mesh3d": [
           {
            "colorbar": {
             "outlinewidth": 0,
             "ticks": ""
            },
            "type": "mesh3d"
           }
          ],
          "parcoords": [
           {
            "line": {
             "colorbar": {
              "outlinewidth": 0,
              "ticks": ""
             }
            },
            "type": "parcoords"
           }
          ],
          "pie": [
           {
            "automargin": true,
            "type": "pie"
           }
          ],
          "scatter": [
           {
            "marker": {
             "colorbar": {
              "outlinewidth": 0,
              "ticks": ""
             }
            },
            "type": "scatter"
           }
          ],
          "scatter3d": [
           {
            "line": {
             "colorbar": {
              "outlinewidth": 0,
              "ticks": ""
             }
            },
            "marker": {
             "colorbar": {
              "outlinewidth": 0,
              "ticks": ""
             }
            },
            "type": "scatter3d"
           }
          ],
          "scattercarpet": [
           {
            "marker": {
             "colorbar": {
              "outlinewidth": 0,
              "ticks": ""
             }
            },
            "type": "scattercarpet"
           }
          ],
          "scattergeo": [
           {
            "marker": {
             "colorbar": {
              "outlinewidth": 0,
              "ticks": ""
             }
            },
            "type": "scattergeo"
           }
          ],
          "scattergl": [
           {
            "marker": {
             "colorbar": {
              "outlinewidth": 0,
              "ticks": ""
             }
            },
            "type": "scattergl"
           }
          ],
          "scattermapbox": [
           {
            "marker": {
             "colorbar": {
              "outlinewidth": 0,
              "ticks": ""
             }
            },
            "type": "scattermapbox"
           }
          ],
          "scatterpolar": [
           {
            "marker": {
             "colorbar": {
              "outlinewidth": 0,
              "ticks": ""
             }
            },
            "type": "scatterpolar"
           }
          ],
          "scatterpolargl": [
           {
            "marker": {
             "colorbar": {
              "outlinewidth": 0,
              "ticks": ""
             }
            },
            "type": "scatterpolargl"
           }
          ],
          "scatterternary": [
           {
            "marker": {
             "colorbar": {
              "outlinewidth": 0,
              "ticks": ""
             }
            },
            "type": "scatterternary"
           }
          ],
          "surface": [
           {
            "colorbar": {
             "outlinewidth": 0,
             "ticks": ""
            },
            "colorscale": [
             [
              0,
              "#0d0887"
             ],
             [
              0.1111111111111111,
              "#46039f"
             ],
             [
              0.2222222222222222,
              "#7201a8"
             ],
             [
              0.3333333333333333,
              "#9c179e"
             ],
             [
              0.4444444444444444,
              "#bd3786"
             ],
             [
              0.5555555555555556,
              "#d8576b"
             ],
             [
              0.6666666666666666,
              "#ed7953"
             ],
             [
              0.7777777777777778,
              "#fb9f3a"
             ],
             [
              0.8888888888888888,
              "#fdca26"
             ],
             [
              1,
              "#f0f921"
             ]
            ],
            "type": "surface"
           }
          ],
          "table": [
           {
            "cells": {
             "fill": {
              "color": "#EBF0F8"
             },
             "line": {
              "color": "white"
             }
            },
            "header": {
             "fill": {
              "color": "#C8D4E3"
             },
             "line": {
              "color": "white"
             }
            },
            "type": "table"
           }
          ]
         },
         "layout": {
          "annotationdefaults": {
           "arrowcolor": "#2a3f5f",
           "arrowhead": 0,
           "arrowwidth": 1
          },
          "coloraxis": {
           "colorbar": {
            "outlinewidth": 0,
            "ticks": ""
           }
          },
          "colorscale": {
           "diverging": [
            [
             0,
             "#8e0152"
            ],
            [
             0.1,
             "#c51b7d"
            ],
            [
             0.2,
             "#de77ae"
            ],
            [
             0.3,
             "#f1b6da"
            ],
            [
             0.4,
             "#fde0ef"
            ],
            [
             0.5,
             "#f7f7f7"
            ],
            [
             0.6,
             "#e6f5d0"
            ],
            [
             0.7,
             "#b8e186"
            ],
            [
             0.8,
             "#7fbc41"
            ],
            [
             0.9,
             "#4d9221"
            ],
            [
             1,
             "#276419"
            ]
           ],
           "sequential": [
            [
             0,
             "#0d0887"
            ],
            [
             0.1111111111111111,
             "#46039f"
            ],
            [
             0.2222222222222222,
             "#7201a8"
            ],
            [
             0.3333333333333333,
             "#9c179e"
            ],
            [
             0.4444444444444444,
             "#bd3786"
            ],
            [
             0.5555555555555556,
             "#d8576b"
            ],
            [
             0.6666666666666666,
             "#ed7953"
            ],
            [
             0.7777777777777778,
             "#fb9f3a"
            ],
            [
             0.8888888888888888,
             "#fdca26"
            ],
            [
             1,
             "#f0f921"
            ]
           ],
           "sequentialminus": [
            [
             0,
             "#0d0887"
            ],
            [
             0.1111111111111111,
             "#46039f"
            ],
            [
             0.2222222222222222,
             "#7201a8"
            ],
            [
             0.3333333333333333,
             "#9c179e"
            ],
            [
             0.4444444444444444,
             "#bd3786"
            ],
            [
             0.5555555555555556,
             "#d8576b"
            ],
            [
             0.6666666666666666,
             "#ed7953"
            ],
            [
             0.7777777777777778,
             "#fb9f3a"
            ],
            [
             0.8888888888888888,
             "#fdca26"
            ],
            [
             1,
             "#f0f921"
            ]
           ]
          },
          "colorway": [
           "#636efa",
           "#EF553B",
           "#00cc96",
           "#ab63fa",
           "#FFA15A",
           "#19d3f3",
           "#FF6692",
           "#B6E880",
           "#FF97FF",
           "#FECB52"
          ],
          "font": {
           "color": "#2a3f5f"
          },
          "geo": {
           "bgcolor": "white",
           "lakecolor": "white",
           "landcolor": "#E5ECF6",
           "showlakes": true,
           "showland": true,
           "subunitcolor": "white"
          },
          "hoverlabel": {
           "align": "left"
          },
          "hovermode": "closest",
          "mapbox": {
           "style": "light"
          },
          "paper_bgcolor": "white",
          "plot_bgcolor": "#E5ECF6",
          "polar": {
           "angularaxis": {
            "gridcolor": "white",
            "linecolor": "white",
            "ticks": ""
           },
           "bgcolor": "#E5ECF6",
           "radialaxis": {
            "gridcolor": "white",
            "linecolor": "white",
            "ticks": ""
           }
          },
          "scene": {
           "xaxis": {
            "backgroundcolor": "#E5ECF6",
            "gridcolor": "white",
            "gridwidth": 2,
            "linecolor": "white",
            "showbackground": true,
            "ticks": "",
            "zerolinecolor": "white"
           },
           "yaxis": {
            "backgroundcolor": "#E5ECF6",
            "gridcolor": "white",
            "gridwidth": 2,
            "linecolor": "white",
            "showbackground": true,
            "ticks": "",
            "zerolinecolor": "white"
           },
           "zaxis": {
            "backgroundcolor": "#E5ECF6",
            "gridcolor": "white",
            "gridwidth": 2,
            "linecolor": "white",
            "showbackground": true,
            "ticks": "",
            "zerolinecolor": "white"
           }
          },
          "shapedefaults": {
           "line": {
            "color": "#2a3f5f"
           }
          },
          "ternary": {
           "aaxis": {
            "gridcolor": "white",
            "linecolor": "white",
            "ticks": ""
           },
           "baxis": {
            "gridcolor": "white",
            "linecolor": "white",
            "ticks": ""
           },
           "bgcolor": "#E5ECF6",
           "caxis": {
            "gridcolor": "white",
            "linecolor": "white",
            "ticks": ""
           }
          },
          "title": {
           "x": 0.05
          },
          "xaxis": {
           "automargin": true,
           "gridcolor": "white",
           "linecolor": "white",
           "ticks": "",
           "title": {
            "standoff": 15
           },
           "zerolinecolor": "white",
           "zerolinewidth": 2
          },
          "yaxis": {
           "automargin": true,
           "gridcolor": "white",
           "linecolor": "white",
           "ticks": "",
           "title": {
            "standoff": 15
           },
           "zerolinecolor": "white",
           "zerolinewidth": 2
          }
         }
        }
       }
      },
      "text/html": [
       "<div>                            <div id=\"530c3761-2072-49c2-acc7-4020883fbee9\" class=\"plotly-graph-div\" style=\"height:525px; width:100%;\"></div>            <script type=\"text/javascript\">                require([\"plotly\"], function(Plotly) {                    window.PLOTLYENV=window.PLOTLYENV || {};                                    if (document.getElementById(\"530c3761-2072-49c2-acc7-4020883fbee9\")) {                    Plotly.newPlot(                        \"530c3761-2072-49c2-acc7-4020883fbee9\",                        [{\"type\": \"bar\", \"x\": [\"C_blocksdirtfloor\", \"C_poverty\", \"C_employment\", \"C_vehicle\", \"C_illiterate\", \"C_HHpersons\", \"C_waterbath\", \"C_headeduc\", \"C_households\", \"C_people\", \"C_HHdirtfloor\", \"C_dropouts515\", \"C_child05\", \"C_waterland\", \"C_refrigerator\", \"C_telephone\", \"C_gasheater\", \"C_washing\", \"C_overcrowding\", \"C_rooms\", \"C_earnincome\", \"C_waterhouse\"], \"y\": [0.13257464959486603, 0.12573936123539342, 0.08465614391155059, 0.08062568678475655, 0.056470023112569344, 0.05421798536272427, 0.05218150073810636, 0.0516805856067573, 0.04631579222506849, 0.043056068693170156, 0.03379100732025232, 0.032514482744000026, 0.029776153412417312, 0.028211850858688867, 0.025213033801383806, 0.024558023768047346, 0.023140814412892095, 0.02220407653899287, 0.01921127969666322, 0.014838061195972141, 0.011600628005773085, 0.007422790979954415]}],                        {\"template\": {\"data\": {\"bar\": [{\"error_x\": {\"color\": \"#2a3f5f\"}, \"error_y\": {\"color\": \"#2a3f5f\"}, \"marker\": {\"line\": {\"color\": \"#E5ECF6\", \"width\": 0.5}}, \"type\": \"bar\"}], \"barpolar\": [{\"marker\": {\"line\": {\"color\": \"#E5ECF6\", \"width\": 0.5}}, \"type\": \"barpolar\"}], \"carpet\": [{\"aaxis\": {\"endlinecolor\": \"#2a3f5f\", \"gridcolor\": \"white\", \"linecolor\": \"white\", \"minorgridcolor\": \"white\", \"startlinecolor\": \"#2a3f5f\"}, \"baxis\": {\"endlinecolor\": \"#2a3f5f\", \"gridcolor\": \"white\", \"linecolor\": \"white\", \"minorgridcolor\": \"white\", \"startlinecolor\": \"#2a3f5f\"}, \"type\": \"carpet\"}], \"choropleth\": [{\"colorbar\": {\"outlinewidth\": 0, \"ticks\": \"\"}, \"type\": \"choropleth\"}], \"contour\": [{\"colorbar\": {\"outlinewidth\": 0, \"ticks\": \"\"}, \"colorscale\": [[0.0, \"#0d0887\"], [0.1111111111111111, \"#46039f\"], [0.2222222222222222, \"#7201a8\"], [0.3333333333333333, \"#9c179e\"], [0.4444444444444444, \"#bd3786\"], [0.5555555555555556, \"#d8576b\"], [0.6666666666666666, \"#ed7953\"], [0.7777777777777778, \"#fb9f3a\"], [0.8888888888888888, \"#fdca26\"], [1.0, \"#f0f921\"]], \"type\": \"contour\"}], \"contourcarpet\": [{\"colorbar\": {\"outlinewidth\": 0, \"ticks\": \"\"}, \"type\": \"contourcarpet\"}], \"heatmap\": [{\"colorbar\": {\"outlinewidth\": 0, \"ticks\": \"\"}, \"colorscale\": [[0.0, \"#0d0887\"], [0.1111111111111111, \"#46039f\"], [0.2222222222222222, \"#7201a8\"], [0.3333333333333333, \"#9c179e\"], [0.4444444444444444, \"#bd3786\"], [0.5555555555555556, \"#d8576b\"], [0.6666666666666666, \"#ed7953\"], [0.7777777777777778, \"#fb9f3a\"], [0.8888888888888888, \"#fdca26\"], [1.0, \"#f0f921\"]], \"type\": \"heatmap\"}], \"heatmapgl\": [{\"colorbar\": {\"outlinewidth\": 0, \"ticks\": \"\"}, \"colorscale\": [[0.0, \"#0d0887\"], [0.1111111111111111, \"#46039f\"], [0.2222222222222222, \"#7201a8\"], [0.3333333333333333, \"#9c179e\"], [0.4444444444444444, \"#bd3786\"], [0.5555555555555556, \"#d8576b\"], [0.6666666666666666, \"#ed7953\"], [0.7777777777777778, \"#fb9f3a\"], [0.8888888888888888, \"#fdca26\"], [1.0, \"#f0f921\"]], \"type\": \"heatmapgl\"}], \"histogram\": [{\"marker\": {\"colorbar\": {\"outlinewidth\": 0, \"ticks\": \"\"}}, \"type\": \"histogram\"}], \"histogram2d\": [{\"colorbar\": {\"outlinewidth\": 0, \"ticks\": \"\"}, \"colorscale\": [[0.0, \"#0d0887\"], [0.1111111111111111, \"#46039f\"], [0.2222222222222222, \"#7201a8\"], [0.3333333333333333, \"#9c179e\"], [0.4444444444444444, \"#bd3786\"], [0.5555555555555556, \"#d8576b\"], [0.6666666666666666, \"#ed7953\"], [0.7777777777777778, \"#fb9f3a\"], [0.8888888888888888, \"#fdca26\"], [1.0, \"#f0f921\"]], \"type\": \"histogram2d\"}], \"histogram2dcontour\": [{\"colorbar\": {\"outlinewidth\": 0, \"ticks\": \"\"}, \"colorscale\": [[0.0, \"#0d0887\"], [0.1111111111111111, \"#46039f\"], [0.2222222222222222, \"#7201a8\"], [0.3333333333333333, \"#9c179e\"], [0.4444444444444444, \"#bd3786\"], [0.5555555555555556, \"#d8576b\"], [0.6666666666666666, \"#ed7953\"], [0.7777777777777778, \"#fb9f3a\"], [0.8888888888888888, \"#fdca26\"], [1.0, \"#f0f921\"]], \"type\": \"histogram2dcontour\"}], \"mesh3d\": [{\"colorbar\": {\"outlinewidth\": 0, \"ticks\": \"\"}, \"type\": \"mesh3d\"}], \"parcoords\": [{\"line\": {\"colorbar\": {\"outlinewidth\": 0, \"ticks\": \"\"}}, \"type\": \"parcoords\"}], \"pie\": [{\"automargin\": true, \"type\": \"pie\"}], \"scatter\": [{\"marker\": {\"colorbar\": {\"outlinewidth\": 0, \"ticks\": \"\"}}, \"type\": \"scatter\"}], \"scatter3d\": [{\"line\": {\"colorbar\": {\"outlinewidth\": 0, \"ticks\": \"\"}}, \"marker\": {\"colorbar\": {\"outlinewidth\": 0, \"ticks\": \"\"}}, \"type\": \"scatter3d\"}], \"scattercarpet\": [{\"marker\": {\"colorbar\": {\"outlinewidth\": 0, \"ticks\": \"\"}}, \"type\": \"scattercarpet\"}], \"scattergeo\": [{\"marker\": {\"colorbar\": {\"outlinewidth\": 0, \"ticks\": \"\"}}, \"type\": \"scattergeo\"}], \"scattergl\": [{\"marker\": {\"colorbar\": {\"outlinewidth\": 0, \"ticks\": \"\"}}, \"type\": \"scattergl\"}], \"scattermapbox\": [{\"marker\": {\"colorbar\": {\"outlinewidth\": 0, \"ticks\": \"\"}}, \"type\": \"scattermapbox\"}], \"scatterpolar\": [{\"marker\": {\"colorbar\": {\"outlinewidth\": 0, \"ticks\": \"\"}}, \"type\": \"scatterpolar\"}], \"scatterpolargl\": [{\"marker\": {\"colorbar\": {\"outlinewidth\": 0, \"ticks\": \"\"}}, \"type\": \"scatterpolargl\"}], \"scatterternary\": [{\"marker\": {\"colorbar\": {\"outlinewidth\": 0, \"ticks\": \"\"}}, \"type\": \"scatterternary\"}], \"surface\": [{\"colorbar\": {\"outlinewidth\": 0, \"ticks\": \"\"}, \"colorscale\": [[0.0, \"#0d0887\"], [0.1111111111111111, \"#46039f\"], [0.2222222222222222, \"#7201a8\"], [0.3333333333333333, \"#9c179e\"], [0.4444444444444444, \"#bd3786\"], [0.5555555555555556, \"#d8576b\"], [0.6666666666666666, \"#ed7953\"], [0.7777777777777778, \"#fb9f3a\"], [0.8888888888888888, \"#fdca26\"], [1.0, \"#f0f921\"]], \"type\": \"surface\"}], \"table\": [{\"cells\": {\"fill\": {\"color\": \"#EBF0F8\"}, \"line\": {\"color\": \"white\"}}, \"header\": {\"fill\": {\"color\": \"#C8D4E3\"}, \"line\": {\"color\": \"white\"}}, \"type\": \"table\"}]}, \"layout\": {\"annotationdefaults\": {\"arrowcolor\": \"#2a3f5f\", \"arrowhead\": 0, \"arrowwidth\": 1}, \"coloraxis\": {\"colorbar\": {\"outlinewidth\": 0, \"ticks\": \"\"}}, \"colorscale\": {\"diverging\": [[0, \"#8e0152\"], [0.1, \"#c51b7d\"], [0.2, \"#de77ae\"], [0.3, \"#f1b6da\"], [0.4, \"#fde0ef\"], [0.5, \"#f7f7f7\"], [0.6, \"#e6f5d0\"], [0.7, \"#b8e186\"], [0.8, \"#7fbc41\"], [0.9, \"#4d9221\"], [1, \"#276419\"]], \"sequential\": [[0.0, \"#0d0887\"], [0.1111111111111111, \"#46039f\"], [0.2222222222222222, \"#7201a8\"], [0.3333333333333333, \"#9c179e\"], [0.4444444444444444, \"#bd3786\"], [0.5555555555555556, \"#d8576b\"], [0.6666666666666666, \"#ed7953\"], [0.7777777777777778, \"#fb9f3a\"], [0.8888888888888888, \"#fdca26\"], [1.0, \"#f0f921\"]], \"sequentialminus\": [[0.0, \"#0d0887\"], [0.1111111111111111, \"#46039f\"], [0.2222222222222222, \"#7201a8\"], [0.3333333333333333, \"#9c179e\"], [0.4444444444444444, \"#bd3786\"], [0.5555555555555556, \"#d8576b\"], [0.6666666666666666, \"#ed7953\"], [0.7777777777777778, \"#fb9f3a\"], [0.8888888888888888, \"#fdca26\"], [1.0, \"#f0f921\"]]}, \"colorway\": [\"#636efa\", \"#EF553B\", \"#00cc96\", \"#ab63fa\", \"#FFA15A\", \"#19d3f3\", \"#FF6692\", \"#B6E880\", \"#FF97FF\", \"#FECB52\"], \"font\": {\"color\": \"#2a3f5f\"}, \"geo\": {\"bgcolor\": \"white\", \"lakecolor\": \"white\", \"landcolor\": \"#E5ECF6\", \"showlakes\": true, \"showland\": true, \"subunitcolor\": \"white\"}, \"hoverlabel\": {\"align\": \"left\"}, \"hovermode\": \"closest\", \"mapbox\": {\"style\": \"light\"}, \"paper_bgcolor\": \"white\", \"plot_bgcolor\": \"#E5ECF6\", \"polar\": {\"angularaxis\": {\"gridcolor\": \"white\", \"linecolor\": \"white\", \"ticks\": \"\"}, \"bgcolor\": \"#E5ECF6\", \"radialaxis\": {\"gridcolor\": \"white\", \"linecolor\": \"white\", \"ticks\": \"\"}}, \"scene\": {\"xaxis\": {\"backgroundcolor\": \"#E5ECF6\", \"gridcolor\": \"white\", \"gridwidth\": 2, \"linecolor\": \"white\", \"showbackground\": true, \"ticks\": \"\", \"zerolinecolor\": \"white\"}, \"yaxis\": {\"backgroundcolor\": \"#E5ECF6\", \"gridcolor\": \"white\", \"gridwidth\": 2, \"linecolor\": \"white\", \"showbackground\": true, \"ticks\": \"\", \"zerolinecolor\": \"white\"}, \"zaxis\": {\"backgroundcolor\": \"#E5ECF6\", \"gridcolor\": \"white\", \"gridwidth\": 2, \"linecolor\": \"white\", \"showbackground\": true, \"ticks\": \"\", \"zerolinecolor\": \"white\"}}, \"shapedefaults\": {\"line\": {\"color\": \"#2a3f5f\"}}, \"ternary\": {\"aaxis\": {\"gridcolor\": \"white\", \"linecolor\": \"white\", \"ticks\": \"\"}, \"baxis\": {\"gridcolor\": \"white\", \"linecolor\": \"white\", \"ticks\": \"\"}, \"bgcolor\": \"#E5ECF6\", \"caxis\": {\"gridcolor\": \"white\", \"linecolor\": \"white\", \"ticks\": \"\"}}, \"title\": {\"x\": 0.05}, \"xaxis\": {\"automargin\": true, \"gridcolor\": \"white\", \"linecolor\": \"white\", \"ticks\": \"\", \"title\": {\"standoff\": 15}, \"zerolinecolor\": \"white\", \"zerolinewidth\": 2}, \"yaxis\": {\"automargin\": true, \"gridcolor\": \"white\", \"linecolor\": \"white\", \"ticks\": \"\", \"title\": {\"standoff\": 15}, \"zerolinecolor\": \"white\", \"zerolinewidth\": 2}}}},                        {\"responsive\": true}                    ).then(function(){\n",
       "                            \n",
       "var gd = document.getElementById('530c3761-2072-49c2-acc7-4020883fbee9');\n",
       "var x = new MutationObserver(function (mutations, observer) {{\n",
       "        var display = window.getComputedStyle(gd).display;\n",
       "        if (!display || display === 'none') {{\n",
       "            console.log([gd, 'removed!']);\n",
       "            Plotly.purge(gd);\n",
       "            observer.disconnect();\n",
       "        }}\n",
       "}});\n",
       "\n",
       "// Listen for the removal of the full notebook cells\n",
       "var notebookContainer = gd.closest('#notebook-container');\n",
       "if (notebookContainer) {{\n",
       "    x.observe(notebookContainer, {childList: true});\n",
       "}}\n",
       "\n",
       "// Listen for the clearing of the current output cell\n",
       "var outputEl = gd.closest('.output');\n",
       "if (outputEl) {{\n",
       "    x.observe(outputEl, {childList: true});\n",
       "}}\n",
       "\n",
       "                        })                };                });            </script>        </div>"
      ]
     },
     "metadata": {},
     "output_type": "display_data"
    }
   ],
   "source": [
    "plot_feature_importance(df_survey_train, df_census_train, GradientBoostingRegressor(), ['S_cementfloordin'])"
   ]
  },
  {
   "cell_type": "markdown",
   "metadata": {},
   "source": [
    "### S_shcementfloor\n",
    "Def: Share of rooms with cement floors"
   ]
  },
  {
   "cell_type": "code",
   "execution_count": 34,
   "metadata": {},
   "outputs": [
    {
     "data": {
      "application/vnd.plotly.v1+json": {
       "config": {
        "plotlyServerURL": "https://plot.ly"
       },
       "data": [
        {
         "alignmentgroup": "True",
         "bingroup": "x",
         "hovertemplate": "variable=S_shcementfloor<br>value=%{x}<br>count=%{y}<extra></extra>",
         "legendgroup": "S_shcementfloor",
         "marker": {
          "color": "#636efa"
         },
         "name": "S_shcementfloor",
         "offsetgroup": "S_shcementfloor",
         "orientation": "v",
         "showlegend": true,
         "type": "histogram",
         "x": [
          0.6000000238418579,
          1,
          1,
          0,
          0.800000011920929,
          0.25,
          1,
          1,
          0.800000011920929,
          1,
          1,
          1,
          1,
          1,
          0.75,
          0.75,
          1,
          0.25,
          1,
          0.2857142686843872,
          0.4285714030265808,
          0,
          1,
          1,
          1,
          1,
          1,
          1,
          0.6000000238418579,
          1,
          0.6000000238418579,
          1,
          0.1666666865348816,
          1,
          1,
          1,
          1,
          1,
          1,
          1,
          0.75,
          1,
          1,
          1,
          0.800000011920929,
          1,
          1,
          1,
          1,
          0.5,
          0.800000011920929,
          1,
          0.25,
          1,
          1,
          1,
          0,
          0.8333333134651184,
          1,
          0.800000011920929,
          1,
          0.8333333134651184,
          0.6666666269302368,
          1,
          1,
          1,
          0.5,
          1,
          1,
          0.800000011920929,
          0.75,
          0,
          0,
          0.800000011920929,
          1,
          1,
          1,
          0,
          0.19999998807907104,
          0.6666666269302368,
          1,
          1,
          0,
          1,
          1,
          1,
          1,
          1,
          1,
          1,
          0.75,
          1,
          1,
          1,
          0.800000011920929,
          1,
          1,
          1,
          1,
          0.75,
          1,
          1,
          1,
          1,
          1,
          1,
          0,
          0.6000000238418579,
          1,
          1,
          1,
          1,
          0,
          1,
          1,
          1,
          1,
          0.1428571343421936,
          1,
          0.4285714030265808,
          0.8333333134651184,
          1,
          1,
          0.3999999761581421,
          0.5,
          1,
          1,
          1,
          1,
          0.5,
          1,
          0,
          1,
          1,
          0.75,
          0.6666666269302368,
          0.800000011920929,
          1,
          1,
          1,
          0.5,
          0,
          1,
          1,
          1,
          1,
          0.5,
          1,
          0.5,
          1,
          1,
          1,
          1,
          1,
          1,
          0.4285714030265808,
          1,
          0,
          1,
          0.25,
          1,
          0.5,
          0.800000011920929,
          0.25,
          1,
          0.5,
          1,
          1,
          1,
          1,
          1,
          0.25,
          1,
          1,
          0.8333333134651184,
          1,
          1,
          0.75,
          1,
          0.800000011920929,
          1,
          0.800000011920929,
          0.75,
          1,
          1,
          0.25,
          1,
          0.25,
          1,
          1,
          1,
          0,
          1,
          0,
          1,
          0,
          1,
          0,
          0.25,
          0.3999999761581421,
          1,
          0.8333333134651184,
          1,
          1,
          0.75,
          1,
          1,
          0,
          0.75,
          0.75,
          0.25,
          0.3999999761581421,
          1,
          1,
          0,
          1,
          0,
          0,
          1,
          1,
          1,
          1,
          0.800000011920929,
          1,
          0,
          0.5,
          0.5,
          1,
          0.8333333134651184,
          0.5,
          0.6000000238418579,
          1,
          0.6000000238418579,
          0,
          1,
          1,
          0.3999999761581421,
          1,
          1,
          0.25,
          1,
          1,
          0.6000000238418579,
          0.19999998807907104,
          1,
          1,
          0.75,
          1,
          1,
          0.6000000238418579,
          0,
          1,
          0.25,
          1,
          1,
          0.19999998807907104,
          1,
          1,
          1,
          1,
          0.8333333134651184,
          1,
          1,
          1,
          1,
          1,
          1,
          1,
          1,
          1,
          1,
          1,
          1,
          1,
          0.800000011920929,
          0.8333333134651184,
          1,
          1,
          0.75,
          0.800000011920929,
          0.75,
          1,
          1,
          1,
          0.19999998807907104,
          1,
          0,
          1,
          1,
          0.6000000238418579,
          1,
          0.25,
          0.19999998807907104,
          0.8333333134651184,
          1,
          1,
          0.5,
          0,
          0,
          1,
          0.5,
          1,
          1,
          1,
          1,
          1,
          0,
          1,
          0.800000011920929,
          1,
          0.800000011920929,
          0.75,
          1,
          0.75,
          0.75,
          0.6000000238418579,
          1,
          0.800000011920929,
          1,
          0.6000000238418579,
          1,
          0.5,
          1,
          0.3999999761581421,
          0.5,
          0.25,
          0.6000000238418579,
          0.25,
          1,
          1,
          0.5,
          0.75,
          1,
          1,
          1,
          0.75,
          0.5,
          1,
          0.75,
          0.25,
          0.5,
          1,
          0.25,
          1,
          0.3999999761581421,
          1,
          1,
          0.75,
          1,
          1,
          1,
          0.75,
          1,
          1,
          1,
          0.800000011920929,
          1,
          0,
          0.3999999761581421,
          1,
          1,
          1,
          1,
          1,
          1,
          1,
          0.5,
          1,
          1,
          1,
          0.75,
          0.19999998807907104,
          1,
          1,
          1,
          1,
          0.25,
          0.25,
          1,
          1,
          1,
          0.6000000238418579,
          0.25,
          1,
          0.75,
          0.5,
          0,
          1,
          0.75,
          1,
          1,
          0.3999999761581421,
          0.75,
          0,
          0.5,
          0.6000000238418579,
          1,
          1,
          0.6000000238418579,
          0.75,
          1,
          1,
          0.75,
          1,
          1,
          1,
          1,
          1,
          0.19999998807907104,
          1,
          0.19999998807907104,
          1,
          1,
          0.800000011920929,
          0.3999999761581421,
          1,
          1,
          0,
          1,
          0.800000011920929,
          1,
          0,
          1,
          0,
          1,
          1,
          1,
          1,
          1,
          1,
          1,
          1,
          1,
          0.75,
          0.19999998807907104,
          0.800000011920929,
          1,
          1,
          0.6666666269302368,
          1,
          1,
          1,
          1,
          1,
          1,
          1,
          1,
          0.25,
          1,
          1,
          0.75,
          0.6666666269302368,
          0.5,
          1,
          1,
          1,
          1,
          1,
          0.25,
          1,
          1,
          1,
          0.800000011920929,
          0.25,
          1,
          1,
          0,
          1,
          1,
          1,
          0.800000011920929,
          0.800000011920929,
          1,
          0,
          0,
          0.800000011920929,
          0.6000000238418579,
          1,
          0,
          0,
          1,
          0,
          0.3333333134651184,
          1,
          0.75,
          0.3999999761581421,
          1,
          1,
          0.75,
          1,
          0.6000000238418579,
          0,
          0.5,
          0.19999998807907104,
          0,
          1,
          1,
          1,
          1,
          1,
          0,
          1,
          0.25,
          0.25,
          0.5,
          0,
          0.800000011920929,
          0,
          1,
          1,
          0,
          1,
          0.3999999761581421,
          0.1428571343421936,
          0.6000000238418579,
          0.5,
          1,
          0,
          0.8333333134651184,
          1,
          1,
          1,
          0,
          1,
          0.3333333134651184,
          0.5,
          1,
          0.25,
          0.25,
          0.6000000238418579,
          0.75,
          0.8333333134651184,
          0.25,
          1,
          0,
          0.75,
          0.5,
          0.7142857313156128,
          0.5,
          0.25,
          1,
          0.75,
          0.19999998807907104,
          0,
          0.75,
          0.5,
          0.8333333134651184,
          0.25,
          0.800000011920929,
          0.3999999761581421,
          0.800000011920929,
          0.1666666865348816,
          0.800000011920929,
          0.75,
          1,
          1,
          0,
          1,
          0.3333333134651184,
          1,
          1,
          0.5,
          1,
          0.19999998807907104,
          1,
          0.25,
          1,
          1,
          0,
          0,
          1,
          0,
          0,
          0,
          0.25,
          1,
          0,
          0.5,
          1,
          1,
          0,
          1,
          0.5,
          0,
          0.5,
          0.75,
          0.25,
          0.800000011920929,
          0,
          0.19999998807907104,
          0.8571428656578064,
          0.25,
          1,
          1,
          0.25,
          1,
          0.3999999761581421,
          1,
          1,
          1,
          1,
          0.25,
          1,
          1,
          1,
          0.75,
          1,
          0,
          1,
          1,
          0.25,
          1,
          1,
          1,
          1,
          0,
          0.5,
          0,
          0.5,
          0.75,
          1,
          0.5,
          0.3999999761581421,
          1,
          1,
          1,
          0,
          1,
          0,
          1,
          1,
          1,
          1,
          1,
          0.75,
          1,
          1,
          1,
          1,
          0.5,
          0,
          0,
          1,
          1,
          0.5,
          0.25,
          0.1666666865348816,
          0,
          1,
          0.800000011920929,
          0.25,
          0.75,
          1,
          0.19999998807907104,
          0.800000011920929,
          1,
          0.19999998807907104,
          1,
          0.25,
          0.3999999761581421,
          0.25,
          1,
          0,
          0.75,
          0.8333333134651184,
          0.5,
          1,
          0,
          0.800000011920929,
          0.25,
          0.5,
          0,
          0,
          0.25,
          1,
          0.25,
          0.8333333134651184,
          0.75,
          0.19999998807907104,
          1,
          0.3999999761581421,
          1,
          1,
          0,
          1,
          1,
          0.6000000238418579,
          0,
          0,
          0.19999998807907104,
          1,
          1,
          0.75,
          1,
          1,
          0,
          0.75,
          1,
          1,
          0.75,
          0.19999998807907104,
          1,
          0.75,
          1,
          1,
          0.25,
          1,
          0.75,
          0.5,
          1,
          0,
          1,
          1,
          1,
          1,
          1,
          1,
          1,
          1,
          1,
          0.800000011920929,
          1,
          0,
          0.5,
          1,
          0,
          1,
          1,
          0,
          1,
          1,
          0.75,
          1,
          1,
          1,
          1,
          1,
          1,
          0.8333333134651184,
          1,
          0,
          1,
          1,
          0.75,
          1,
          0.800000011920929,
          1,
          0,
          1,
          1,
          1,
          0,
          1,
          0.5,
          1,
          1,
          1,
          0.75,
          1,
          1,
          0.19999998807907104,
          1,
          0.3333333134651184,
          0,
          1,
          1,
          1,
          1,
          1,
          1,
          1,
          1,
          0.25,
          0.25,
          1,
          0,
          1,
          0.8333333134651184,
          0.3999999761581421,
          1,
          0.3999999761581421,
          1,
          1,
          0.5,
          1,
          1,
          1,
          0.800000011920929,
          1,
          1,
          0.5,
          1,
          1,
          0.3999999761581421,
          0,
          1,
          0.800000011920929,
          1,
          0.19999998807907104,
          0.6000000238418579,
          1,
          1,
          1,
          1,
          0.800000011920929,
          1,
          1,
          1,
          0.800000011920929,
          1,
          0,
          1,
          1,
          1,
          1,
          1,
          0.19999998807907104,
          0.5,
          1,
          0.800000011920929,
          0.800000011920929,
          1,
          1,
          0.75,
          1,
          0.800000011920929,
          0,
          1,
          1,
          1,
          1,
          1,
          0.25,
          0.8333333134651184,
          1,
          1,
          1,
          1,
          0.6000000238418579,
          1,
          1,
          0.8333333134651184,
          1,
          1,
          1,
          1,
          1,
          0.8333333134651184,
          0.5,
          1,
          0.800000011920929,
          0.25,
          0.75,
          0.800000011920929,
          1,
          0.25,
          0,
          1,
          1,
          1,
          0,
          0,
          1,
          1,
          1,
          1,
          1,
          0.75,
          0.800000011920929,
          1,
          0.25,
          1,
          1,
          0,
          1,
          0.3999999761581421,
          1,
          0.8333333134651184,
          1,
          0.19999998807907104,
          1,
          1,
          0.800000011920929,
          0,
          0,
          1,
          0.6000000238418579,
          0.25,
          0,
          1,
          1,
          1,
          1,
          1,
          0.6000000238418579,
          0.75,
          0.6000000238418579,
          1,
          1,
          1,
          1,
          0.25,
          1,
          0.6000000238418579,
          0.25,
          1,
          0.3999999761581421,
          0.25,
          0.5,
          1,
          1,
          1,
          1,
          0.25,
          1,
          1,
          1,
          1,
          1,
          1,
          1,
          0.5,
          1,
          0.6000000238418579,
          0.5714285373687744,
          1,
          1,
          1,
          0.800000011920929,
          1,
          1,
          0.25,
          1,
          0.800000011920929,
          0.3999999761581421,
          1,
          1,
          1,
          1,
          1,
          1,
          0.6000000238418579,
          1,
          1,
          0,
          0.6000000238418579,
          0.75,
          0.5,
          0.6000000238418579,
          0.5,
          0.25,
          1,
          0.8333333134651184,
          0.8333333134651184,
          0.8333333134651184,
          1,
          0.800000011920929,
          0.5,
          0.75,
          1,
          1,
          0.5,
          0.25,
          0,
          1,
          0,
          1,
          1,
          1,
          1,
          1,
          0.6000000238418579,
          1,
          1,
          0.75,
          0.19999998807907104,
          1,
          1,
          0.75,
          0.5,
          1,
          1,
          0.800000011920929,
          0.75,
          0,
          1,
          0.5,
          1,
          0.800000011920929,
          1,
          1,
          1,
          0,
          1,
          1,
          0.75,
          0.5,
          0.8571428656578064,
          1,
          0.25,
          0.25,
          0.800000011920929,
          1,
          0,
          0.5,
          1,
          0.75,
          1,
          1,
          0.3333333134651184,
          0.5,
          1,
          1,
          1,
          0,
          0.800000011920929,
          1,
          1,
          1,
          1,
          1,
          1,
          0.75,
          1,
          1,
          1,
          1,
          1,
          0.8571428656578064,
          1,
          1,
          1,
          1,
          1,
          0.8571428656578064,
          1,
          1,
          1,
          0.75,
          1,
          1,
          1,
          1,
          1,
          1,
          1,
          1,
          0.6000000238418579,
          1,
          1,
          1,
          1,
          1,
          0.75,
          0.6000000238418579,
          0.75,
          1,
          0.5,
          1,
          1,
          0.800000011920929,
          0.8333333134651184,
          1,
          1,
          1,
          1,
          1,
          1,
          1,
          1,
          1,
          1,
          1,
          1,
          0.800000011920929,
          1,
          1,
          1,
          1,
          1,
          1,
          1,
          0.800000011920929,
          1,
          1,
          1,
          1,
          1,
          1,
          1,
          1,
          1,
          1,
          1,
          1,
          0.6000000238418579,
          1,
          1,
          1,
          0.75,
          1,
          1,
          1,
          0.75,
          1,
          1,
          1,
          1,
          1,
          1,
          1,
          1,
          1,
          1,
          1,
          1,
          1,
          1,
          1,
          1,
          1,
          0.8333333134651184,
          1,
          1,
          1,
          1,
          1,
          1,
          0.800000011920929,
          1,
          1,
          1,
          1,
          1,
          1,
          0.75,
          0.25,
          1,
          0.800000011920929,
          0.5,
          0.25,
          0.25,
          1,
          0.5,
          1,
          0.5,
          1,
          1,
          1,
          1,
          1,
          0.800000011920929,
          1,
          1,
          1,
          1,
          1,
          1,
          0.3999999761581421,
          1,
          1,
          1,
          1,
          1,
          1,
          1,
          1,
          1,
          0.25,
          1,
          1,
          1,
          1,
          1,
          1,
          1,
          1,
          1,
          1,
          1,
          1,
          0.25,
          1,
          1,
          0.75,
          1,
          1,
          1,
          1,
          0.800000011920929,
          1,
          1,
          1,
          1,
          0.800000011920929,
          1,
          1,
          1,
          0.5,
          1,
          1,
          0.75,
          1,
          1,
          1,
          1,
          0.5,
          1,
          0.75,
          1,
          1,
          1,
          1,
          1,
          1,
          1,
          0.75,
          0.75,
          1,
          1,
          1,
          1,
          1,
          1,
          1,
          1,
          0.3999999761581421,
          1,
          1,
          1,
          1,
          1,
          1,
          1,
          0.8333333134651184,
          1,
          1,
          1,
          1,
          1,
          1,
          1,
          1,
          1,
          1,
          1,
          1,
          0.6000000238418579,
          1,
          0.5,
          1,
          1,
          1,
          1,
          1,
          1,
          1,
          1,
          0.6000000238418579,
          1,
          1,
          1,
          1,
          1,
          1,
          1,
          1,
          1,
          1,
          1,
          1,
          1,
          1,
          0.800000011920929,
          1,
          1,
          1,
          1,
          1,
          1,
          1,
          1,
          1,
          0.75,
          0.8571428656578064,
          1,
          1,
          1,
          1,
          1,
          1,
          1,
          0.75,
          1,
          1,
          1,
          1,
          1,
          1,
          1,
          1,
          1,
          1,
          1,
          1,
          1,
          1,
          1,
          1,
          1,
          0.8333333134651184,
          1,
          1,
          1,
          0.6000000238418579,
          1,
          1,
          1,
          0.25,
          1,
          1,
          1,
          1,
          1,
          1,
          0.6000000238418579,
          1,
          0.75,
          1,
          1,
          1,
          0.8333333134651184,
          1,
          1,
          1,
          1,
          1,
          1,
          0.75,
          1,
          1,
          1,
          1,
          1,
          1,
          1,
          1,
          1,
          1,
          1,
          1,
          1,
          1,
          0.5,
          1,
          1,
          1,
          1,
          1,
          1,
          1,
          1,
          1,
          0.5,
          1,
          1,
          1,
          1,
          1,
          1,
          1,
          1,
          1,
          0,
          1,
          0.75,
          1,
          1,
          1,
          1,
          1,
          0.6000000238418579,
          1,
          1,
          1,
          1,
          1,
          1,
          1,
          1,
          1,
          1,
          1,
          1,
          0.5,
          0.800000011920929,
          0.800000011920929,
          0.800000011920929,
          1,
          1,
          1,
          1,
          1,
          0.800000011920929,
          1,
          1,
          1,
          1,
          1,
          1,
          1,
          1,
          1,
          1,
          1,
          1,
          1,
          1,
          1,
          1,
          1,
          0.3999999761581421,
          1,
          1,
          1,
          1,
          0.800000011920929,
          1,
          1,
          0.75,
          1,
          1,
          1,
          1,
          1,
          1,
          1,
          1,
          1,
          1,
          0.75,
          0.5,
          1,
          1,
          0.75,
          1,
          1,
          0.75,
          0.800000011920929,
          0.75,
          0.6000000238418579,
          0.5,
          1,
          0.800000011920929,
          1,
          1,
          1,
          1,
          1,
          1,
          1,
          0.75,
          0.75,
          1,
          0.5,
          1,
          0.800000011920929,
          0.75,
          1,
          1,
          0.800000011920929,
          1,
          0.75,
          1,
          0.8333333134651184,
          1,
          1,
          1,
          1,
          0.6000000238418579,
          0.75,
          0.25,
          0.6000000238418579,
          0,
          1,
          1,
          1,
          0.6666666269302368,
          1,
          0.5,
          1,
          1,
          1,
          1,
          1,
          1,
          0.5,
          0.75,
          1,
          1,
          1,
          0.8333333134651184,
          1,
          1,
          1,
          1,
          1,
          1,
          1,
          1,
          0.75,
          0.75,
          1,
          1,
          1,
          1,
          1,
          1,
          1,
          1,
          1,
          1,
          1,
          1,
          0.75,
          1,
          1,
          1,
          1,
          1,
          1,
          0.8571428656578064,
          0.800000011920929,
          1,
          1,
          0.5,
          0.75,
          1,
          1,
          1,
          1,
          0.25,
          0.800000011920929,
          1,
          1,
          1,
          1,
          0.6000000238418579,
          1,
          1,
          1,
          1,
          0.25,
          1,
          0.800000011920929,
          1,
          1,
          1,
          0.6000000238418579,
          0.3999999761581421,
          1,
          1,
          1,
          1,
          1,
          1,
          1,
          0.8333333134651184,
          1,
          1,
          1,
          0.75,
          1,
          1,
          0.6000000238418579,
          1,
          1,
          1,
          0.5,
          1,
          1,
          1,
          1,
          1,
          1,
          1,
          1,
          1,
          0.75,
          1,
          0.75,
          1,
          1,
          1,
          1,
          1,
          1,
          1,
          1,
          1,
          1,
          1,
          0.800000011920929,
          1,
          1,
          1,
          1,
          1,
          1,
          1,
          0.6000000238418579,
          1,
          1,
          0.800000011920929,
          1,
          1,
          1,
          0.800000011920929,
          1,
          1,
          1,
          1,
          1,
          1,
          1,
          1,
          1,
          1,
          1,
          1,
          1,
          1,
          1,
          1,
          0.75,
          1,
          1,
          1,
          1,
          1,
          1,
          1,
          1,
          1,
          1,
          1,
          1,
          1,
          1,
          0.5,
          1,
          1,
          0.800000011920929,
          1,
          1,
          1,
          1,
          1,
          0.5,
          1,
          1,
          1,
          1,
          0.800000011920929,
          1,
          0.6000000238418579,
          1,
          1,
          0.75,
          0.800000011920929,
          1,
          1,
          1,
          1,
          1,
          1,
          0.75,
          1,
          1,
          1,
          1,
          1,
          1,
          0.6000000238418579,
          1,
          1,
          1,
          1,
          1,
          1,
          1,
          0.75,
          1,
          1,
          1,
          1,
          1,
          1,
          1,
          1,
          0.75,
          1,
          1,
          1,
          1,
          0.75,
          1,
          1,
          1,
          1,
          0.75,
          1,
          1,
          1,
          0.75,
          1,
          0.75,
          0.75,
          1,
          1,
          1,
          1,
          1,
          1,
          1,
          1,
          0.8333333134651184,
          1,
          1,
          1,
          1,
          0.800000011920929,
          1,
          0.5,
          1,
          1,
          0.8333333134651184,
          1,
          1,
          1,
          1,
          1,
          1,
          1,
          1,
          1,
          1,
          1,
          1,
          1,
          1,
          1,
          1,
          1,
          0.75,
          1,
          0.25,
          1,
          0.25,
          1,
          0.25,
          1,
          1,
          1,
          1,
          1,
          1,
          0.6000000238418579,
          0.19999998807907104,
          0.800000011920929,
          1,
          0.6000000238418579,
          1,
          1,
          1,
          0.8333333134651184,
          1,
          1,
          1,
          0.75,
          0.75,
          0,
          0.75,
          0.25,
          1,
          1,
          0.800000011920929,
          1,
          0,
          1,
          0.75,
          1,
          1,
          1,
          1,
          1,
          1,
          1,
          0.75,
          1,
          1,
          1,
          1,
          0.75,
          0,
          1,
          1,
          1,
          1,
          0.5,
          0.6000000238418579,
          1,
          1,
          0.75,
          1,
          1,
          1,
          1,
          0.75,
          0.75,
          1,
          1,
          0.5,
          0.75,
          1,
          0.75,
          1,
          0.75,
          1,
          1,
          0.75,
          1,
          1,
          0.5,
          1,
          1,
          1,
          1,
          1,
          1,
          1,
          1,
          0.5,
          0.7142857313156128,
          0.75,
          1,
          0.75,
          0.75,
          0.75,
          0.800000011920929,
          0.75,
          1,
          1,
          1,
          1,
          1,
          0.800000011920929,
          1,
          1,
          1,
          0.75,
          1,
          0.75,
          0.800000011920929,
          1,
          1,
          1,
          1,
          1,
          1,
          1,
          1,
          1,
          1,
          1,
          0.5,
          1,
          1,
          1,
          0.75,
          0.800000011920929,
          1,
          1,
          1,
          0.75,
          1,
          1,
          1,
          0.8333333134651184,
          1,
          1,
          1,
          1,
          1,
          1,
          1,
          1,
          0.75,
          1,
          1,
          1,
          1,
          1,
          1,
          1,
          1,
          0.75,
          1,
          0.75,
          1,
          1,
          1,
          1,
          1,
          1,
          0.6000000238418579,
          0.800000011920929,
          1,
          0.5,
          1,
          1,
          1,
          1,
          1,
          1,
          0.6000000238418579,
          1,
          1,
          1,
          0.75,
          0.75,
          1,
          1,
          1,
          0.800000011920929,
          1,
          1,
          1,
          1,
          1,
          0.800000011920929,
          1,
          1,
          1,
          1,
          1,
          0.75,
          1,
          1,
          1,
          1,
          1,
          1
         ],
         "xaxis": "x",
         "yaxis": "y"
        }
       ],
       "layout": {
        "barmode": "relative",
        "legend": {
         "title": {
          "text": "variable"
         },
         "tracegroupgap": 0
        },
        "margin": {
         "t": 60
        },
        "template": {
         "data": {
          "bar": [
           {
            "error_x": {
             "color": "#2a3f5f"
            },
            "error_y": {
             "color": "#2a3f5f"
            },
            "marker": {
             "line": {
              "color": "#E5ECF6",
              "width": 0.5
             }
            },
            "type": "bar"
           }
          ],
          "barpolar": [
           {
            "marker": {
             "line": {
              "color": "#E5ECF6",
              "width": 0.5
             }
            },
            "type": "barpolar"
           }
          ],
          "carpet": [
           {
            "aaxis": {
             "endlinecolor": "#2a3f5f",
             "gridcolor": "white",
             "linecolor": "white",
             "minorgridcolor": "white",
             "startlinecolor": "#2a3f5f"
            },
            "baxis": {
             "endlinecolor": "#2a3f5f",
             "gridcolor": "white",
             "linecolor": "white",
             "minorgridcolor": "white",
             "startlinecolor": "#2a3f5f"
            },
            "type": "carpet"
           }
          ],
          "choropleth": [
           {
            "colorbar": {
             "outlinewidth": 0,
             "ticks": ""
            },
            "type": "choropleth"
           }
          ],
          "contour": [
           {
            "colorbar": {
             "outlinewidth": 0,
             "ticks": ""
            },
            "colorscale": [
             [
              0,
              "#0d0887"
             ],
             [
              0.1111111111111111,
              "#46039f"
             ],
             [
              0.2222222222222222,
              "#7201a8"
             ],
             [
              0.3333333333333333,
              "#9c179e"
             ],
             [
              0.4444444444444444,
              "#bd3786"
             ],
             [
              0.5555555555555556,
              "#d8576b"
             ],
             [
              0.6666666666666666,
              "#ed7953"
             ],
             [
              0.7777777777777778,
              "#fb9f3a"
             ],
             [
              0.8888888888888888,
              "#fdca26"
             ],
             [
              1,
              "#f0f921"
             ]
            ],
            "type": "contour"
           }
          ],
          "contourcarpet": [
           {
            "colorbar": {
             "outlinewidth": 0,
             "ticks": ""
            },
            "type": "contourcarpet"
           }
          ],
          "heatmap": [
           {
            "colorbar": {
             "outlinewidth": 0,
             "ticks": ""
            },
            "colorscale": [
             [
              0,
              "#0d0887"
             ],
             [
              0.1111111111111111,
              "#46039f"
             ],
             [
              0.2222222222222222,
              "#7201a8"
             ],
             [
              0.3333333333333333,
              "#9c179e"
             ],
             [
              0.4444444444444444,
              "#bd3786"
             ],
             [
              0.5555555555555556,
              "#d8576b"
             ],
             [
              0.6666666666666666,
              "#ed7953"
             ],
             [
              0.7777777777777778,
              "#fb9f3a"
             ],
             [
              0.8888888888888888,
              "#fdca26"
             ],
             [
              1,
              "#f0f921"
             ]
            ],
            "type": "heatmap"
           }
          ],
          "heatmapgl": [
           {
            "colorbar": {
             "outlinewidth": 0,
             "ticks": ""
            },
            "colorscale": [
             [
              0,
              "#0d0887"
             ],
             [
              0.1111111111111111,
              "#46039f"
             ],
             [
              0.2222222222222222,
              "#7201a8"
             ],
             [
              0.3333333333333333,
              "#9c179e"
             ],
             [
              0.4444444444444444,
              "#bd3786"
             ],
             [
              0.5555555555555556,
              "#d8576b"
             ],
             [
              0.6666666666666666,
              "#ed7953"
             ],
             [
              0.7777777777777778,
              "#fb9f3a"
             ],
             [
              0.8888888888888888,
              "#fdca26"
             ],
             [
              1,
              "#f0f921"
             ]
            ],
            "type": "heatmapgl"
           }
          ],
          "histogram": [
           {
            "marker": {
             "colorbar": {
              "outlinewidth": 0,
              "ticks": ""
             }
            },
            "type": "histogram"
           }
          ],
          "histogram2d": [
           {
            "colorbar": {
             "outlinewidth": 0,
             "ticks": ""
            },
            "colorscale": [
             [
              0,
              "#0d0887"
             ],
             [
              0.1111111111111111,
              "#46039f"
             ],
             [
              0.2222222222222222,
              "#7201a8"
             ],
             [
              0.3333333333333333,
              "#9c179e"
             ],
             [
              0.4444444444444444,
              "#bd3786"
             ],
             [
              0.5555555555555556,
              "#d8576b"
             ],
             [
              0.6666666666666666,
              "#ed7953"
             ],
             [
              0.7777777777777778,
              "#fb9f3a"
             ],
             [
              0.8888888888888888,
              "#fdca26"
             ],
             [
              1,
              "#f0f921"
             ]
            ],
            "type": "histogram2d"
           }
          ],
          "histogram2dcontour": [
           {
            "colorbar": {
             "outlinewidth": 0,
             "ticks": ""
            },
            "colorscale": [
             [
              0,
              "#0d0887"
             ],
             [
              0.1111111111111111,
              "#46039f"
             ],
             [
              0.2222222222222222,
              "#7201a8"
             ],
             [
              0.3333333333333333,
              "#9c179e"
             ],
             [
              0.4444444444444444,
              "#bd3786"
             ],
             [
              0.5555555555555556,
              "#d8576b"
             ],
             [
              0.6666666666666666,
              "#ed7953"
             ],
             [
              0.7777777777777778,
              "#fb9f3a"
             ],
             [
              0.8888888888888888,
              "#fdca26"
             ],
             [
              1,
              "#f0f921"
             ]
            ],
            "type": "histogram2dcontour"
           }
          ],
          "mesh3d": [
           {
            "colorbar": {
             "outlinewidth": 0,
             "ticks": ""
            },
            "type": "mesh3d"
           }
          ],
          "parcoords": [
           {
            "line": {
             "colorbar": {
              "outlinewidth": 0,
              "ticks": ""
             }
            },
            "type": "parcoords"
           }
          ],
          "pie": [
           {
            "automargin": true,
            "type": "pie"
           }
          ],
          "scatter": [
           {
            "marker": {
             "colorbar": {
              "outlinewidth": 0,
              "ticks": ""
             }
            },
            "type": "scatter"
           }
          ],
          "scatter3d": [
           {
            "line": {
             "colorbar": {
              "outlinewidth": 0,
              "ticks": ""
             }
            },
            "marker": {
             "colorbar": {
              "outlinewidth": 0,
              "ticks": ""
             }
            },
            "type": "scatter3d"
           }
          ],
          "scattercarpet": [
           {
            "marker": {
             "colorbar": {
              "outlinewidth": 0,
              "ticks": ""
             }
            },
            "type": "scattercarpet"
           }
          ],
          "scattergeo": [
           {
            "marker": {
             "colorbar": {
              "outlinewidth": 0,
              "ticks": ""
             }
            },
            "type": "scattergeo"
           }
          ],
          "scattergl": [
           {
            "marker": {
             "colorbar": {
              "outlinewidth": 0,
              "ticks": ""
             }
            },
            "type": "scattergl"
           }
          ],
          "scattermapbox": [
           {
            "marker": {
             "colorbar": {
              "outlinewidth": 0,
              "ticks": ""
             }
            },
            "type": "scattermapbox"
           }
          ],
          "scatterpolar": [
           {
            "marker": {
             "colorbar": {
              "outlinewidth": 0,
              "ticks": ""
             }
            },
            "type": "scatterpolar"
           }
          ],
          "scatterpolargl": [
           {
            "marker": {
             "colorbar": {
              "outlinewidth": 0,
              "ticks": ""
             }
            },
            "type": "scatterpolargl"
           }
          ],
          "scatterternary": [
           {
            "marker": {
             "colorbar": {
              "outlinewidth": 0,
              "ticks": ""
             }
            },
            "type": "scatterternary"
           }
          ],
          "surface": [
           {
            "colorbar": {
             "outlinewidth": 0,
             "ticks": ""
            },
            "colorscale": [
             [
              0,
              "#0d0887"
             ],
             [
              0.1111111111111111,
              "#46039f"
             ],
             [
              0.2222222222222222,
              "#7201a8"
             ],
             [
              0.3333333333333333,
              "#9c179e"
             ],
             [
              0.4444444444444444,
              "#bd3786"
             ],
             [
              0.5555555555555556,
              "#d8576b"
             ],
             [
              0.6666666666666666,
              "#ed7953"
             ],
             [
              0.7777777777777778,
              "#fb9f3a"
             ],
             [
              0.8888888888888888,
              "#fdca26"
             ],
             [
              1,
              "#f0f921"
             ]
            ],
            "type": "surface"
           }
          ],
          "table": [
           {
            "cells": {
             "fill": {
              "color": "#EBF0F8"
             },
             "line": {
              "color": "white"
             }
            },
            "header": {
             "fill": {
              "color": "#C8D4E3"
             },
             "line": {
              "color": "white"
             }
            },
            "type": "table"
           }
          ]
         },
         "layout": {
          "annotationdefaults": {
           "arrowcolor": "#2a3f5f",
           "arrowhead": 0,
           "arrowwidth": 1
          },
          "coloraxis": {
           "colorbar": {
            "outlinewidth": 0,
            "ticks": ""
           }
          },
          "colorscale": {
           "diverging": [
            [
             0,
             "#8e0152"
            ],
            [
             0.1,
             "#c51b7d"
            ],
            [
             0.2,
             "#de77ae"
            ],
            [
             0.3,
             "#f1b6da"
            ],
            [
             0.4,
             "#fde0ef"
            ],
            [
             0.5,
             "#f7f7f7"
            ],
            [
             0.6,
             "#e6f5d0"
            ],
            [
             0.7,
             "#b8e186"
            ],
            [
             0.8,
             "#7fbc41"
            ],
            [
             0.9,
             "#4d9221"
            ],
            [
             1,
             "#276419"
            ]
           ],
           "sequential": [
            [
             0,
             "#0d0887"
            ],
            [
             0.1111111111111111,
             "#46039f"
            ],
            [
             0.2222222222222222,
             "#7201a8"
            ],
            [
             0.3333333333333333,
             "#9c179e"
            ],
            [
             0.4444444444444444,
             "#bd3786"
            ],
            [
             0.5555555555555556,
             "#d8576b"
            ],
            [
             0.6666666666666666,
             "#ed7953"
            ],
            [
             0.7777777777777778,
             "#fb9f3a"
            ],
            [
             0.8888888888888888,
             "#fdca26"
            ],
            [
             1,
             "#f0f921"
            ]
           ],
           "sequentialminus": [
            [
             0,
             "#0d0887"
            ],
            [
             0.1111111111111111,
             "#46039f"
            ],
            [
             0.2222222222222222,
             "#7201a8"
            ],
            [
             0.3333333333333333,
             "#9c179e"
            ],
            [
             0.4444444444444444,
             "#bd3786"
            ],
            [
             0.5555555555555556,
             "#d8576b"
            ],
            [
             0.6666666666666666,
             "#ed7953"
            ],
            [
             0.7777777777777778,
             "#fb9f3a"
            ],
            [
             0.8888888888888888,
             "#fdca26"
            ],
            [
             1,
             "#f0f921"
            ]
           ]
          },
          "colorway": [
           "#636efa",
           "#EF553B",
           "#00cc96",
           "#ab63fa",
           "#FFA15A",
           "#19d3f3",
           "#FF6692",
           "#B6E880",
           "#FF97FF",
           "#FECB52"
          ],
          "font": {
           "color": "#2a3f5f"
          },
          "geo": {
           "bgcolor": "white",
           "lakecolor": "white",
           "landcolor": "#E5ECF6",
           "showlakes": true,
           "showland": true,
           "subunitcolor": "white"
          },
          "hoverlabel": {
           "align": "left"
          },
          "hovermode": "closest",
          "mapbox": {
           "style": "light"
          },
          "paper_bgcolor": "white",
          "plot_bgcolor": "#E5ECF6",
          "polar": {
           "angularaxis": {
            "gridcolor": "white",
            "linecolor": "white",
            "ticks": ""
           },
           "bgcolor": "#E5ECF6",
           "radialaxis": {
            "gridcolor": "white",
            "linecolor": "white",
            "ticks": ""
           }
          },
          "scene": {
           "xaxis": {
            "backgroundcolor": "#E5ECF6",
            "gridcolor": "white",
            "gridwidth": 2,
            "linecolor": "white",
            "showbackground": true,
            "ticks": "",
            "zerolinecolor": "white"
           },
           "yaxis": {
            "backgroundcolor": "#E5ECF6",
            "gridcolor": "white",
            "gridwidth": 2,
            "linecolor": "white",
            "showbackground": true,
            "ticks": "",
            "zerolinecolor": "white"
           },
           "zaxis": {
            "backgroundcolor": "#E5ECF6",
            "gridcolor": "white",
            "gridwidth": 2,
            "linecolor": "white",
            "showbackground": true,
            "ticks": "",
            "zerolinecolor": "white"
           }
          },
          "shapedefaults": {
           "line": {
            "color": "#2a3f5f"
           }
          },
          "ternary": {
           "aaxis": {
            "gridcolor": "white",
            "linecolor": "white",
            "ticks": ""
           },
           "baxis": {
            "gridcolor": "white",
            "linecolor": "white",
            "ticks": ""
           },
           "bgcolor": "#E5ECF6",
           "caxis": {
            "gridcolor": "white",
            "linecolor": "white",
            "ticks": ""
           }
          },
          "title": {
           "x": 0.05
          },
          "xaxis": {
           "automargin": true,
           "gridcolor": "white",
           "linecolor": "white",
           "ticks": "",
           "title": {
            "standoff": 15
           },
           "zerolinecolor": "white",
           "zerolinewidth": 2
          },
          "yaxis": {
           "automargin": true,
           "gridcolor": "white",
           "linecolor": "white",
           "ticks": "",
           "title": {
            "standoff": 15
           },
           "zerolinecolor": "white",
           "zerolinewidth": 2
          }
         }
        },
        "xaxis": {
         "anchor": "y",
         "domain": [
          0,
          1
         ],
         "title": {
          "text": "value"
         }
        },
        "yaxis": {
         "anchor": "x",
         "domain": [
          0,
          1
         ],
         "title": {
          "text": "count"
         }
        }
       }
      },
      "text/html": [
       "<div>                            <div id=\"f040f166-887d-47f5-bb35-3ee66c314a20\" class=\"plotly-graph-div\" style=\"height:525px; width:100%;\"></div>            <script type=\"text/javascript\">                require([\"plotly\"], function(Plotly) {                    window.PLOTLYENV=window.PLOTLYENV || {};                                    if (document.getElementById(\"f040f166-887d-47f5-bb35-3ee66c314a20\")) {                    Plotly.newPlot(                        \"f040f166-887d-47f5-bb35-3ee66c314a20\",                        [{\"alignmentgroup\": \"True\", \"bingroup\": \"x\", \"hovertemplate\": \"variable=S_shcementfloor<br>value=%{x}<br>count=%{y}<extra></extra>\", \"legendgroup\": \"S_shcementfloor\", \"marker\": {\"color\": \"#636efa\"}, \"name\": \"S_shcementfloor\", \"offsetgroup\": \"S_shcementfloor\", \"orientation\": \"v\", \"showlegend\": true, \"type\": \"histogram\", \"x\": [0.6000000238418579, 1.0, 1.0, 0.0, 0.800000011920929, 0.25, 1.0, 1.0, 0.800000011920929, 1.0, 1.0, 1.0, 1.0, 1.0, 0.75, 0.75, 1.0, 0.25, 1.0, 0.2857142686843872, 0.4285714030265808, 0.0, 1.0, 1.0, 1.0, 1.0, 1.0, 1.0, 0.6000000238418579, 1.0, 0.6000000238418579, 1.0, 0.1666666865348816, 1.0, 1.0, 1.0, 1.0, 1.0, 1.0, 1.0, 0.75, 1.0, 1.0, 1.0, 0.800000011920929, 1.0, 1.0, 1.0, 1.0, 0.5, 0.800000011920929, 1.0, 0.25, 1.0, 1.0, 1.0, 0.0, 0.8333333134651184, 1.0, 0.800000011920929, 1.0, 0.8333333134651184, 0.6666666269302368, 1.0, 1.0, 1.0, 0.5, 1.0, 1.0, 0.800000011920929, 0.75, 0.0, 0.0, 0.800000011920929, 1.0, 1.0, 1.0, 0.0, 0.19999998807907104, 0.6666666269302368, 1.0, 1.0, 0.0, 1.0, 1.0, 1.0, 1.0, 1.0, 1.0, 1.0, 0.75, 1.0, 1.0, 1.0, 0.800000011920929, 1.0, 1.0, 1.0, 1.0, 0.75, 1.0, 1.0, 1.0, 1.0, 1.0, 1.0, 0.0, 0.6000000238418579, 1.0, 1.0, 1.0, 1.0, 0.0, 1.0, 1.0, 1.0, 1.0, 0.1428571343421936, 1.0, 0.4285714030265808, 0.8333333134651184, 1.0, 1.0, 0.3999999761581421, 0.5, 1.0, 1.0, 1.0, 1.0, 0.5, 1.0, 0.0, 1.0, 1.0, 0.75, 0.6666666269302368, 0.800000011920929, 1.0, 1.0, 1.0, 0.5, 0.0, 1.0, 1.0, 1.0, 1.0, 0.5, 1.0, 0.5, 1.0, 1.0, 1.0, 1.0, 1.0, 1.0, 0.4285714030265808, 1.0, 0.0, 1.0, 0.25, 1.0, 0.5, 0.800000011920929, 0.25, 1.0, 0.5, 1.0, 1.0, 1.0, 1.0, 1.0, 0.25, 1.0, 1.0, 0.8333333134651184, 1.0, 1.0, 0.75, 1.0, 0.800000011920929, 1.0, 0.800000011920929, 0.75, 1.0, 1.0, 0.25, 1.0, 0.25, 1.0, 1.0, 1.0, 0.0, 1.0, 0.0, 1.0, 0.0, 1.0, 0.0, 0.25, 0.3999999761581421, 1.0, 0.8333333134651184, 1.0, 1.0, 0.75, 1.0, 1.0, 0.0, 0.75, 0.75, 0.25, 0.3999999761581421, 1.0, 1.0, 0.0, 1.0, 0.0, 0.0, 1.0, 1.0, 1.0, 1.0, 0.800000011920929, 1.0, 0.0, 0.5, 0.5, 1.0, 0.8333333134651184, 0.5, 0.6000000238418579, 1.0, 0.6000000238418579, 0.0, 1.0, 1.0, 0.3999999761581421, 1.0, 1.0, 0.25, 1.0, 1.0, 0.6000000238418579, 0.19999998807907104, 1.0, 1.0, 0.75, 1.0, 1.0, 0.6000000238418579, 0.0, 1.0, 0.25, 1.0, 1.0, 0.19999998807907104, 1.0, 1.0, 1.0, 1.0, 0.8333333134651184, 1.0, 1.0, 1.0, 1.0, 1.0, 1.0, 1.0, 1.0, 1.0, 1.0, 1.0, 1.0, 1.0, 0.800000011920929, 0.8333333134651184, 1.0, 1.0, 0.75, 0.800000011920929, 0.75, 1.0, 1.0, 1.0, 0.19999998807907104, 1.0, 0.0, 1.0, 1.0, 0.6000000238418579, 1.0, 0.25, 0.19999998807907104, 0.8333333134651184, 1.0, 1.0, 0.5, 0.0, 0.0, 1.0, 0.5, 1.0, 1.0, 1.0, 1.0, 1.0, 0.0, 1.0, 0.800000011920929, 1.0, 0.800000011920929, 0.75, 1.0, 0.75, 0.75, 0.6000000238418579, 1.0, 0.800000011920929, 1.0, 0.6000000238418579, 1.0, 0.5, 1.0, 0.3999999761581421, 0.5, 0.25, 0.6000000238418579, 0.25, 1.0, 1.0, 0.5, 0.75, 1.0, 1.0, 1.0, 0.75, 0.5, 1.0, 0.75, 0.25, 0.5, 1.0, 0.25, 1.0, 0.3999999761581421, 1.0, 1.0, 0.75, 1.0, 1.0, 1.0, 0.75, 1.0, 1.0, 1.0, 0.800000011920929, 1.0, 0.0, 0.3999999761581421, 1.0, 1.0, 1.0, 1.0, 1.0, 1.0, 1.0, 0.5, 1.0, 1.0, 1.0, 0.75, 0.19999998807907104, 1.0, 1.0, 1.0, 1.0, 0.25, 0.25, 1.0, 1.0, 1.0, 0.6000000238418579, 0.25, 1.0, 0.75, 0.5, 0.0, 1.0, 0.75, 1.0, 1.0, 0.3999999761581421, 0.75, 0.0, 0.5, 0.6000000238418579, 1.0, 1.0, 0.6000000238418579, 0.75, 1.0, 1.0, 0.75, 1.0, 1.0, 1.0, 1.0, 1.0, 0.19999998807907104, 1.0, 0.19999998807907104, 1.0, 1.0, 0.800000011920929, 0.3999999761581421, 1.0, 1.0, 0.0, 1.0, 0.800000011920929, 1.0, 0.0, 1.0, 0.0, 1.0, 1.0, 1.0, 1.0, 1.0, 1.0, 1.0, 1.0, 1.0, 0.75, 0.19999998807907104, 0.800000011920929, 1.0, 1.0, 0.6666666269302368, 1.0, 1.0, 1.0, 1.0, 1.0, 1.0, 1.0, 1.0, 0.25, 1.0, 1.0, 0.75, 0.6666666269302368, 0.5, 1.0, 1.0, 1.0, 1.0, 1.0, 0.25, 1.0, 1.0, 1.0, 0.800000011920929, 0.25, 1.0, 1.0, 0.0, 1.0, 1.0, 1.0, 0.800000011920929, 0.800000011920929, 1.0, 0.0, 0.0, 0.800000011920929, 0.6000000238418579, 1.0, 0.0, 0.0, 1.0, 0.0, 0.3333333134651184, 1.0, 0.75, 0.3999999761581421, 1.0, 1.0, 0.75, 1.0, 0.6000000238418579, 0.0, 0.5, 0.19999998807907104, 0.0, 1.0, 1.0, 1.0, 1.0, 1.0, 0.0, 1.0, 0.25, 0.25, 0.5, 0.0, 0.800000011920929, 0.0, 1.0, 1.0, 0.0, 1.0, 0.3999999761581421, 0.1428571343421936, 0.6000000238418579, 0.5, 1.0, 0.0, 0.8333333134651184, 1.0, 1.0, 1.0, 0.0, 1.0, 0.3333333134651184, 0.5, 1.0, 0.25, 0.25, 0.6000000238418579, 0.75, 0.8333333134651184, 0.25, 1.0, 0.0, 0.75, 0.5, 0.7142857313156128, 0.5, 0.25, 1.0, 0.75, 0.19999998807907104, 0.0, 0.75, 0.5, 0.8333333134651184, 0.25, 0.800000011920929, 0.3999999761581421, 0.800000011920929, 0.1666666865348816, 0.800000011920929, 0.75, 1.0, 1.0, 0.0, 1.0, 0.3333333134651184, 1.0, 1.0, 0.5, 1.0, 0.19999998807907104, 1.0, 0.25, 1.0, 1.0, 0.0, 0.0, 1.0, 0.0, 0.0, 0.0, 0.25, 1.0, 0.0, 0.5, 1.0, 1.0, 0.0, 1.0, 0.5, 0.0, 0.5, 0.75, 0.25, 0.800000011920929, 0.0, 0.19999998807907104, 0.8571428656578064, 0.25, 1.0, 1.0, 0.25, 1.0, 0.3999999761581421, 1.0, 1.0, 1.0, 1.0, 0.25, 1.0, 1.0, 1.0, 0.75, 1.0, 0.0, 1.0, 1.0, 0.25, 1.0, 1.0, 1.0, 1.0, 0.0, 0.5, 0.0, 0.5, 0.75, 1.0, 0.5, 0.3999999761581421, 1.0, 1.0, 1.0, 0.0, 1.0, 0.0, 1.0, 1.0, 1.0, 1.0, 1.0, 0.75, 1.0, 1.0, 1.0, 1.0, 0.5, 0.0, 0.0, 1.0, 1.0, 0.5, 0.25, 0.1666666865348816, 0.0, 1.0, 0.800000011920929, 0.25, 0.75, 1.0, 0.19999998807907104, 0.800000011920929, 1.0, 0.19999998807907104, 1.0, 0.25, 0.3999999761581421, 0.25, 1.0, 0.0, 0.75, 0.8333333134651184, 0.5, 1.0, 0.0, 0.800000011920929, 0.25, 0.5, 0.0, 0.0, 0.25, 1.0, 0.25, 0.8333333134651184, 0.75, 0.19999998807907104, 1.0, 0.3999999761581421, 1.0, 1.0, 0.0, 1.0, 1.0, 0.6000000238418579, 0.0, 0.0, 0.19999998807907104, 1.0, 1.0, 0.75, 1.0, 1.0, 0.0, 0.75, 1.0, 1.0, 0.75, 0.19999998807907104, 1.0, 0.75, 1.0, 1.0, 0.25, 1.0, 0.75, 0.5, 1.0, 0.0, 1.0, 1.0, 1.0, 1.0, 1.0, 1.0, 1.0, 1.0, 1.0, 0.800000011920929, 1.0, 0.0, 0.5, 1.0, 0.0, 1.0, 1.0, 0.0, 1.0, 1.0, 0.75, 1.0, 1.0, 1.0, 1.0, 1.0, 1.0, 0.8333333134651184, 1.0, 0.0, 1.0, 1.0, 0.75, 1.0, 0.800000011920929, 1.0, 0.0, 1.0, 1.0, 1.0, 0.0, 1.0, 0.5, 1.0, 1.0, 1.0, 0.75, 1.0, 1.0, 0.19999998807907104, 1.0, 0.3333333134651184, 0.0, 1.0, 1.0, 1.0, 1.0, 1.0, 1.0, 1.0, 1.0, 0.25, 0.25, 1.0, 0.0, 1.0, 0.8333333134651184, 0.3999999761581421, 1.0, 0.3999999761581421, 1.0, 1.0, 0.5, 1.0, 1.0, 1.0, 0.800000011920929, 1.0, 1.0, 0.5, 1.0, 1.0, 0.3999999761581421, 0.0, 1.0, 0.800000011920929, 1.0, 0.19999998807907104, 0.6000000238418579, 1.0, 1.0, 1.0, 1.0, 0.800000011920929, 1.0, 1.0, 1.0, 0.800000011920929, 1.0, 0.0, 1.0, 1.0, 1.0, 1.0, 1.0, 0.19999998807907104, 0.5, 1.0, 0.800000011920929, 0.800000011920929, 1.0, 1.0, 0.75, 1.0, 0.800000011920929, 0.0, 1.0, 1.0, 1.0, 1.0, 1.0, 0.25, 0.8333333134651184, 1.0, 1.0, 1.0, 1.0, 0.6000000238418579, 1.0, 1.0, 0.8333333134651184, 1.0, 1.0, 1.0, 1.0, 1.0, 0.8333333134651184, 0.5, 1.0, 0.800000011920929, 0.25, 0.75, 0.800000011920929, 1.0, 0.25, 0.0, 1.0, 1.0, 1.0, 0.0, 0.0, 1.0, 1.0, 1.0, 1.0, 1.0, 0.75, 0.800000011920929, 1.0, 0.25, 1.0, 1.0, 0.0, 1.0, 0.3999999761581421, 1.0, 0.8333333134651184, 1.0, 0.19999998807907104, 1.0, 1.0, 0.800000011920929, 0.0, 0.0, 1.0, 0.6000000238418579, 0.25, 0.0, 1.0, 1.0, 1.0, 1.0, 1.0, 0.6000000238418579, 0.75, 0.6000000238418579, 1.0, 1.0, 1.0, 1.0, 0.25, 1.0, 0.6000000238418579, 0.25, 1.0, 0.3999999761581421, 0.25, 0.5, 1.0, 1.0, 1.0, 1.0, 0.25, 1.0, 1.0, 1.0, 1.0, 1.0, 1.0, 1.0, 0.5, 1.0, 0.6000000238418579, 0.5714285373687744, 1.0, 1.0, 1.0, 0.800000011920929, 1.0, 1.0, 0.25, 1.0, 0.800000011920929, 0.3999999761581421, 1.0, 1.0, 1.0, 1.0, 1.0, 1.0, 0.6000000238418579, 1.0, 1.0, 0.0, 0.6000000238418579, 0.75, 0.5, 0.6000000238418579, 0.5, 0.25, 1.0, 0.8333333134651184, 0.8333333134651184, 0.8333333134651184, 1.0, 0.800000011920929, 0.5, 0.75, 1.0, 1.0, 0.5, 0.25, 0.0, 1.0, 0.0, 1.0, 1.0, 1.0, 1.0, 1.0, 0.6000000238418579, 1.0, 1.0, 0.75, 0.19999998807907104, 1.0, 1.0, 0.75, 0.5, 1.0, 1.0, 0.800000011920929, 0.75, 0.0, 1.0, 0.5, 1.0, 0.800000011920929, 1.0, 1.0, 1.0, 0.0, 1.0, 1.0, 0.75, 0.5, 0.8571428656578064, 1.0, 0.25, 0.25, 0.800000011920929, 1.0, 0.0, 0.5, 1.0, 0.75, 1.0, 1.0, 0.3333333134651184, 0.5, 1.0, 1.0, 1.0, 0.0, 0.800000011920929, 1.0, 1.0, 1.0, 1.0, 1.0, 1.0, 0.75, 1.0, 1.0, 1.0, 1.0, 1.0, 0.8571428656578064, 1.0, 1.0, 1.0, 1.0, 1.0, 0.8571428656578064, 1.0, 1.0, 1.0, 0.75, 1.0, 1.0, 1.0, 1.0, 1.0, 1.0, 1.0, 1.0, 0.6000000238418579, 1.0, 1.0, 1.0, 1.0, 1.0, 0.75, 0.6000000238418579, 0.75, 1.0, 0.5, 1.0, 1.0, 0.800000011920929, 0.8333333134651184, 1.0, 1.0, 1.0, 1.0, 1.0, 1.0, 1.0, 1.0, 1.0, 1.0, 1.0, 1.0, 0.800000011920929, 1.0, 1.0, 1.0, 1.0, 1.0, 1.0, 1.0, 0.800000011920929, 1.0, 1.0, 1.0, 1.0, 1.0, 1.0, 1.0, 1.0, 1.0, 1.0, 1.0, 1.0, 0.6000000238418579, 1.0, 1.0, 1.0, 0.75, 1.0, 1.0, 1.0, 0.75, 1.0, 1.0, 1.0, 1.0, 1.0, 1.0, 1.0, 1.0, 1.0, 1.0, 1.0, 1.0, 1.0, 1.0, 1.0, 1.0, 1.0, 0.8333333134651184, 1.0, 1.0, 1.0, 1.0, 1.0, 1.0, 0.800000011920929, 1.0, 1.0, 1.0, 1.0, 1.0, 1.0, 0.75, 0.25, 1.0, 0.800000011920929, 0.5, 0.25, 0.25, 1.0, 0.5, 1.0, 0.5, 1.0, 1.0, 1.0, 1.0, 1.0, 0.800000011920929, 1.0, 1.0, 1.0, 1.0, 1.0, 1.0, 0.3999999761581421, 1.0, 1.0, 1.0, 1.0, 1.0, 1.0, 1.0, 1.0, 1.0, 0.25, 1.0, 1.0, 1.0, 1.0, 1.0, 1.0, 1.0, 1.0, 1.0, 1.0, 1.0, 1.0, 0.25, 1.0, 1.0, 0.75, 1.0, 1.0, 1.0, 1.0, 0.800000011920929, 1.0, 1.0, 1.0, 1.0, 0.800000011920929, 1.0, 1.0, 1.0, 0.5, 1.0, 1.0, 0.75, 1.0, 1.0, 1.0, 1.0, 0.5, 1.0, 0.75, 1.0, 1.0, 1.0, 1.0, 1.0, 1.0, 1.0, 0.75, 0.75, 1.0, 1.0, 1.0, 1.0, 1.0, 1.0, 1.0, 1.0, 0.3999999761581421, 1.0, 1.0, 1.0, 1.0, 1.0, 1.0, 1.0, 0.8333333134651184, 1.0, 1.0, 1.0, 1.0, 1.0, 1.0, 1.0, 1.0, 1.0, 1.0, 1.0, 1.0, 0.6000000238418579, 1.0, 0.5, 1.0, 1.0, 1.0, 1.0, 1.0, 1.0, 1.0, 1.0, 0.6000000238418579, 1.0, 1.0, 1.0, 1.0, 1.0, 1.0, 1.0, 1.0, 1.0, 1.0, 1.0, 1.0, 1.0, 1.0, 0.800000011920929, 1.0, 1.0, 1.0, 1.0, 1.0, 1.0, 1.0, 1.0, 1.0, 0.75, 0.8571428656578064, 1.0, 1.0, 1.0, 1.0, 1.0, 1.0, 1.0, 0.75, 1.0, 1.0, 1.0, 1.0, 1.0, 1.0, 1.0, 1.0, 1.0, 1.0, 1.0, 1.0, 1.0, 1.0, 1.0, 1.0, 1.0, 0.8333333134651184, 1.0, 1.0, 1.0, 0.6000000238418579, 1.0, 1.0, 1.0, 0.25, 1.0, 1.0, 1.0, 1.0, 1.0, 1.0, 0.6000000238418579, 1.0, 0.75, 1.0, 1.0, 1.0, 0.8333333134651184, 1.0, 1.0, 1.0, 1.0, 1.0, 1.0, 0.75, 1.0, 1.0, 1.0, 1.0, 1.0, 1.0, 1.0, 1.0, 1.0, 1.0, 1.0, 1.0, 1.0, 1.0, 0.5, 1.0, 1.0, 1.0, 1.0, 1.0, 1.0, 1.0, 1.0, 1.0, 0.5, 1.0, 1.0, 1.0, 1.0, 1.0, 1.0, 1.0, 1.0, 1.0, 0.0, 1.0, 0.75, 1.0, 1.0, 1.0, 1.0, 1.0, 0.6000000238418579, 1.0, 1.0, 1.0, 1.0, 1.0, 1.0, 1.0, 1.0, 1.0, 1.0, 1.0, 1.0, 0.5, 0.800000011920929, 0.800000011920929, 0.800000011920929, 1.0, 1.0, 1.0, 1.0, 1.0, 0.800000011920929, 1.0, 1.0, 1.0, 1.0, 1.0, 1.0, 1.0, 1.0, 1.0, 1.0, 1.0, 1.0, 1.0, 1.0, 1.0, 1.0, 1.0, 0.3999999761581421, 1.0, 1.0, 1.0, 1.0, 0.800000011920929, 1.0, 1.0, 0.75, 1.0, 1.0, 1.0, 1.0, 1.0, 1.0, 1.0, 1.0, 1.0, 1.0, 0.75, 0.5, 1.0, 1.0, 0.75, 1.0, 1.0, 0.75, 0.800000011920929, 0.75, 0.6000000238418579, 0.5, 1.0, 0.800000011920929, 1.0, 1.0, 1.0, 1.0, 1.0, 1.0, 1.0, 0.75, 0.75, 1.0, 0.5, 1.0, 0.800000011920929, 0.75, 1.0, 1.0, 0.800000011920929, 1.0, 0.75, 1.0, 0.8333333134651184, 1.0, 1.0, 1.0, 1.0, 0.6000000238418579, 0.75, 0.25, 0.6000000238418579, 0.0, 1.0, 1.0, 1.0, 0.6666666269302368, 1.0, 0.5, 1.0, 1.0, 1.0, 1.0, 1.0, 1.0, 0.5, 0.75, 1.0, 1.0, 1.0, 0.8333333134651184, 1.0, 1.0, 1.0, 1.0, 1.0, 1.0, 1.0, 1.0, 0.75, 0.75, 1.0, 1.0, 1.0, 1.0, 1.0, 1.0, 1.0, 1.0, 1.0, 1.0, 1.0, 1.0, 0.75, 1.0, 1.0, 1.0, 1.0, 1.0, 1.0, 0.8571428656578064, 0.800000011920929, 1.0, 1.0, 0.5, 0.75, 1.0, 1.0, 1.0, 1.0, 0.25, 0.800000011920929, 1.0, 1.0, 1.0, 1.0, 0.6000000238418579, 1.0, 1.0, 1.0, 1.0, 0.25, 1.0, 0.800000011920929, 1.0, 1.0, 1.0, 0.6000000238418579, 0.3999999761581421, 1.0, 1.0, 1.0, 1.0, 1.0, 1.0, 1.0, 0.8333333134651184, 1.0, 1.0, 1.0, 0.75, 1.0, 1.0, 0.6000000238418579, 1.0, 1.0, 1.0, 0.5, 1.0, 1.0, 1.0, 1.0, 1.0, 1.0, 1.0, 1.0, 1.0, 0.75, 1.0, 0.75, 1.0, 1.0, 1.0, 1.0, 1.0, 1.0, 1.0, 1.0, 1.0, 1.0, 1.0, 0.800000011920929, 1.0, 1.0, 1.0, 1.0, 1.0, 1.0, 1.0, 0.6000000238418579, 1.0, 1.0, 0.800000011920929, 1.0, 1.0, 1.0, 0.800000011920929, 1.0, 1.0, 1.0, 1.0, 1.0, 1.0, 1.0, 1.0, 1.0, 1.0, 1.0, 1.0, 1.0, 1.0, 1.0, 1.0, 0.75, 1.0, 1.0, 1.0, 1.0, 1.0, 1.0, 1.0, 1.0, 1.0, 1.0, 1.0, 1.0, 1.0, 1.0, 0.5, 1.0, 1.0, 0.800000011920929, 1.0, 1.0, 1.0, 1.0, 1.0, 0.5, 1.0, 1.0, 1.0, 1.0, 0.800000011920929, 1.0, 0.6000000238418579, 1.0, 1.0, 0.75, 0.800000011920929, 1.0, 1.0, 1.0, 1.0, 1.0, 1.0, 0.75, 1.0, 1.0, 1.0, 1.0, 1.0, 1.0, 0.6000000238418579, 1.0, 1.0, 1.0, 1.0, 1.0, 1.0, 1.0, 0.75, 1.0, 1.0, 1.0, 1.0, 1.0, 1.0, 1.0, 1.0, 0.75, 1.0, 1.0, 1.0, 1.0, 0.75, 1.0, 1.0, 1.0, 1.0, 0.75, 1.0, 1.0, 1.0, 0.75, 1.0, 0.75, 0.75, 1.0, 1.0, 1.0, 1.0, 1.0, 1.0, 1.0, 1.0, 0.8333333134651184, 1.0, 1.0, 1.0, 1.0, 0.800000011920929, 1.0, 0.5, 1.0, 1.0, 0.8333333134651184, 1.0, 1.0, 1.0, 1.0, 1.0, 1.0, 1.0, 1.0, 1.0, 1.0, 1.0, 1.0, 1.0, 1.0, 1.0, 1.0, 1.0, 0.75, 1.0, 0.25, 1.0, 0.25, 1.0, 0.25, 1.0, 1.0, 1.0, 1.0, 1.0, 1.0, 0.6000000238418579, 0.19999998807907104, 0.800000011920929, 1.0, 0.6000000238418579, 1.0, 1.0, 1.0, 0.8333333134651184, 1.0, 1.0, 1.0, 0.75, 0.75, 0.0, 0.75, 0.25, 1.0, 1.0, 0.800000011920929, 1.0, 0.0, 1.0, 0.75, 1.0, 1.0, 1.0, 1.0, 1.0, 1.0, 1.0, 0.75, 1.0, 1.0, 1.0, 1.0, 0.75, 0.0, 1.0, 1.0, 1.0, 1.0, 0.5, 0.6000000238418579, 1.0, 1.0, 0.75, 1.0, 1.0, 1.0, 1.0, 0.75, 0.75, 1.0, 1.0, 0.5, 0.75, 1.0, 0.75, 1.0, 0.75, 1.0, 1.0, 0.75, 1.0, 1.0, 0.5, 1.0, 1.0, 1.0, 1.0, 1.0, 1.0, 1.0, 1.0, 0.5, 0.7142857313156128, 0.75, 1.0, 0.75, 0.75, 0.75, 0.800000011920929, 0.75, 1.0, 1.0, 1.0, 1.0, 1.0, 0.800000011920929, 1.0, 1.0, 1.0, 0.75, 1.0, 0.75, 0.800000011920929, 1.0, 1.0, 1.0, 1.0, 1.0, 1.0, 1.0, 1.0, 1.0, 1.0, 1.0, 0.5, 1.0, 1.0, 1.0, 0.75, 0.800000011920929, 1.0, 1.0, 1.0, 0.75, 1.0, 1.0, 1.0, 0.8333333134651184, 1.0, 1.0, 1.0, 1.0, 1.0, 1.0, 1.0, 1.0, 0.75, 1.0, 1.0, 1.0, 1.0, 1.0, 1.0, 1.0, 1.0, 0.75, 1.0, 0.75, 1.0, 1.0, 1.0, 1.0, 1.0, 1.0, 0.6000000238418579, 0.800000011920929, 1.0, 0.5, 1.0, 1.0, 1.0, 1.0, 1.0, 1.0, 0.6000000238418579, 1.0, 1.0, 1.0, 0.75, 0.75, 1.0, 1.0, 1.0, 0.800000011920929, 1.0, 1.0, 1.0, 1.0, 1.0, 0.800000011920929, 1.0, 1.0, 1.0, 1.0, 1.0, 0.75, 1.0, 1.0, 1.0, 1.0, 1.0, 1.0], \"xaxis\": \"x\", \"yaxis\": \"y\"}],                        {\"barmode\": \"relative\", \"legend\": {\"title\": {\"text\": \"variable\"}, \"tracegroupgap\": 0}, \"margin\": {\"t\": 60}, \"template\": {\"data\": {\"bar\": [{\"error_x\": {\"color\": \"#2a3f5f\"}, \"error_y\": {\"color\": \"#2a3f5f\"}, \"marker\": {\"line\": {\"color\": \"#E5ECF6\", \"width\": 0.5}}, \"type\": \"bar\"}], \"barpolar\": [{\"marker\": {\"line\": {\"color\": \"#E5ECF6\", \"width\": 0.5}}, \"type\": \"barpolar\"}], \"carpet\": [{\"aaxis\": {\"endlinecolor\": \"#2a3f5f\", \"gridcolor\": \"white\", \"linecolor\": \"white\", \"minorgridcolor\": \"white\", \"startlinecolor\": \"#2a3f5f\"}, \"baxis\": {\"endlinecolor\": \"#2a3f5f\", \"gridcolor\": \"white\", \"linecolor\": \"white\", \"minorgridcolor\": \"white\", \"startlinecolor\": \"#2a3f5f\"}, \"type\": \"carpet\"}], \"choropleth\": [{\"colorbar\": {\"outlinewidth\": 0, \"ticks\": \"\"}, \"type\": \"choropleth\"}], \"contour\": [{\"colorbar\": {\"outlinewidth\": 0, \"ticks\": \"\"}, \"colorscale\": [[0.0, \"#0d0887\"], [0.1111111111111111, \"#46039f\"], [0.2222222222222222, \"#7201a8\"], [0.3333333333333333, \"#9c179e\"], [0.4444444444444444, \"#bd3786\"], [0.5555555555555556, \"#d8576b\"], [0.6666666666666666, \"#ed7953\"], [0.7777777777777778, \"#fb9f3a\"], [0.8888888888888888, \"#fdca26\"], [1.0, \"#f0f921\"]], \"type\": \"contour\"}], \"contourcarpet\": [{\"colorbar\": {\"outlinewidth\": 0, \"ticks\": \"\"}, \"type\": \"contourcarpet\"}], \"heatmap\": [{\"colorbar\": {\"outlinewidth\": 0, \"ticks\": \"\"}, \"colorscale\": [[0.0, \"#0d0887\"], [0.1111111111111111, \"#46039f\"], [0.2222222222222222, \"#7201a8\"], [0.3333333333333333, \"#9c179e\"], [0.4444444444444444, \"#bd3786\"], [0.5555555555555556, \"#d8576b\"], [0.6666666666666666, \"#ed7953\"], [0.7777777777777778, \"#fb9f3a\"], [0.8888888888888888, \"#fdca26\"], [1.0, \"#f0f921\"]], \"type\": \"heatmap\"}], \"heatmapgl\": [{\"colorbar\": {\"outlinewidth\": 0, \"ticks\": \"\"}, \"colorscale\": [[0.0, \"#0d0887\"], [0.1111111111111111, \"#46039f\"], [0.2222222222222222, \"#7201a8\"], [0.3333333333333333, \"#9c179e\"], [0.4444444444444444, \"#bd3786\"], [0.5555555555555556, \"#d8576b\"], [0.6666666666666666, \"#ed7953\"], [0.7777777777777778, \"#fb9f3a\"], [0.8888888888888888, \"#fdca26\"], [1.0, \"#f0f921\"]], \"type\": \"heatmapgl\"}], \"histogram\": [{\"marker\": {\"colorbar\": {\"outlinewidth\": 0, \"ticks\": \"\"}}, \"type\": \"histogram\"}], \"histogram2d\": [{\"colorbar\": {\"outlinewidth\": 0, \"ticks\": \"\"}, \"colorscale\": [[0.0, \"#0d0887\"], [0.1111111111111111, \"#46039f\"], [0.2222222222222222, \"#7201a8\"], [0.3333333333333333, \"#9c179e\"], [0.4444444444444444, \"#bd3786\"], [0.5555555555555556, \"#d8576b\"], [0.6666666666666666, \"#ed7953\"], [0.7777777777777778, \"#fb9f3a\"], [0.8888888888888888, \"#fdca26\"], [1.0, \"#f0f921\"]], \"type\": \"histogram2d\"}], \"histogram2dcontour\": [{\"colorbar\": {\"outlinewidth\": 0, \"ticks\": \"\"}, \"colorscale\": [[0.0, \"#0d0887\"], [0.1111111111111111, \"#46039f\"], [0.2222222222222222, \"#7201a8\"], [0.3333333333333333, \"#9c179e\"], [0.4444444444444444, \"#bd3786\"], [0.5555555555555556, \"#d8576b\"], [0.6666666666666666, \"#ed7953\"], [0.7777777777777778, \"#fb9f3a\"], [0.8888888888888888, \"#fdca26\"], [1.0, \"#f0f921\"]], \"type\": \"histogram2dcontour\"}], \"mesh3d\": [{\"colorbar\": {\"outlinewidth\": 0, \"ticks\": \"\"}, \"type\": \"mesh3d\"}], \"parcoords\": [{\"line\": {\"colorbar\": {\"outlinewidth\": 0, \"ticks\": \"\"}}, \"type\": \"parcoords\"}], \"pie\": [{\"automargin\": true, \"type\": \"pie\"}], \"scatter\": [{\"marker\": {\"colorbar\": {\"outlinewidth\": 0, \"ticks\": \"\"}}, \"type\": \"scatter\"}], \"scatter3d\": [{\"line\": {\"colorbar\": {\"outlinewidth\": 0, \"ticks\": \"\"}}, \"marker\": {\"colorbar\": {\"outlinewidth\": 0, \"ticks\": \"\"}}, \"type\": \"scatter3d\"}], \"scattercarpet\": [{\"marker\": {\"colorbar\": {\"outlinewidth\": 0, \"ticks\": \"\"}}, \"type\": \"scattercarpet\"}], \"scattergeo\": [{\"marker\": {\"colorbar\": {\"outlinewidth\": 0, \"ticks\": \"\"}}, \"type\": \"scattergeo\"}], \"scattergl\": [{\"marker\": {\"colorbar\": {\"outlinewidth\": 0, \"ticks\": \"\"}}, \"type\": \"scattergl\"}], \"scattermapbox\": [{\"marker\": {\"colorbar\": {\"outlinewidth\": 0, \"ticks\": \"\"}}, \"type\": \"scattermapbox\"}], \"scatterpolar\": [{\"marker\": {\"colorbar\": {\"outlinewidth\": 0, \"ticks\": \"\"}}, \"type\": \"scatterpolar\"}], \"scatterpolargl\": [{\"marker\": {\"colorbar\": {\"outlinewidth\": 0, \"ticks\": \"\"}}, \"type\": \"scatterpolargl\"}], \"scatterternary\": [{\"marker\": {\"colorbar\": {\"outlinewidth\": 0, \"ticks\": \"\"}}, \"type\": \"scatterternary\"}], \"surface\": [{\"colorbar\": {\"outlinewidth\": 0, \"ticks\": \"\"}, \"colorscale\": [[0.0, \"#0d0887\"], [0.1111111111111111, \"#46039f\"], [0.2222222222222222, \"#7201a8\"], [0.3333333333333333, \"#9c179e\"], [0.4444444444444444, \"#bd3786\"], [0.5555555555555556, \"#d8576b\"], [0.6666666666666666, \"#ed7953\"], [0.7777777777777778, \"#fb9f3a\"], [0.8888888888888888, \"#fdca26\"], [1.0, \"#f0f921\"]], \"type\": \"surface\"}], \"table\": [{\"cells\": {\"fill\": {\"color\": \"#EBF0F8\"}, \"line\": {\"color\": \"white\"}}, \"header\": {\"fill\": {\"color\": \"#C8D4E3\"}, \"line\": {\"color\": \"white\"}}, \"type\": \"table\"}]}, \"layout\": {\"annotationdefaults\": {\"arrowcolor\": \"#2a3f5f\", \"arrowhead\": 0, \"arrowwidth\": 1}, \"coloraxis\": {\"colorbar\": {\"outlinewidth\": 0, \"ticks\": \"\"}}, \"colorscale\": {\"diverging\": [[0, \"#8e0152\"], [0.1, \"#c51b7d\"], [0.2, \"#de77ae\"], [0.3, \"#f1b6da\"], [0.4, \"#fde0ef\"], [0.5, \"#f7f7f7\"], [0.6, \"#e6f5d0\"], [0.7, \"#b8e186\"], [0.8, \"#7fbc41\"], [0.9, \"#4d9221\"], [1, \"#276419\"]], \"sequential\": [[0.0, \"#0d0887\"], [0.1111111111111111, \"#46039f\"], [0.2222222222222222, \"#7201a8\"], [0.3333333333333333, \"#9c179e\"], [0.4444444444444444, \"#bd3786\"], [0.5555555555555556, \"#d8576b\"], [0.6666666666666666, \"#ed7953\"], [0.7777777777777778, \"#fb9f3a\"], [0.8888888888888888, \"#fdca26\"], [1.0, \"#f0f921\"]], \"sequentialminus\": [[0.0, \"#0d0887\"], [0.1111111111111111, \"#46039f\"], [0.2222222222222222, \"#7201a8\"], [0.3333333333333333, \"#9c179e\"], [0.4444444444444444, \"#bd3786\"], [0.5555555555555556, \"#d8576b\"], [0.6666666666666666, \"#ed7953\"], [0.7777777777777778, \"#fb9f3a\"], [0.8888888888888888, \"#fdca26\"], [1.0, \"#f0f921\"]]}, \"colorway\": [\"#636efa\", \"#EF553B\", \"#00cc96\", \"#ab63fa\", \"#FFA15A\", \"#19d3f3\", \"#FF6692\", \"#B6E880\", \"#FF97FF\", \"#FECB52\"], \"font\": {\"color\": \"#2a3f5f\"}, \"geo\": {\"bgcolor\": \"white\", \"lakecolor\": \"white\", \"landcolor\": \"#E5ECF6\", \"showlakes\": true, \"showland\": true, \"subunitcolor\": \"white\"}, \"hoverlabel\": {\"align\": \"left\"}, \"hovermode\": \"closest\", \"mapbox\": {\"style\": \"light\"}, \"paper_bgcolor\": \"white\", \"plot_bgcolor\": \"#E5ECF6\", \"polar\": {\"angularaxis\": {\"gridcolor\": \"white\", \"linecolor\": \"white\", \"ticks\": \"\"}, \"bgcolor\": \"#E5ECF6\", \"radialaxis\": {\"gridcolor\": \"white\", \"linecolor\": \"white\", \"ticks\": \"\"}}, \"scene\": {\"xaxis\": {\"backgroundcolor\": \"#E5ECF6\", \"gridcolor\": \"white\", \"gridwidth\": 2, \"linecolor\": \"white\", \"showbackground\": true, \"ticks\": \"\", \"zerolinecolor\": \"white\"}, \"yaxis\": {\"backgroundcolor\": \"#E5ECF6\", \"gridcolor\": \"white\", \"gridwidth\": 2, \"linecolor\": \"white\", \"showbackground\": true, \"ticks\": \"\", \"zerolinecolor\": \"white\"}, \"zaxis\": {\"backgroundcolor\": \"#E5ECF6\", \"gridcolor\": \"white\", \"gridwidth\": 2, \"linecolor\": \"white\", \"showbackground\": true, \"ticks\": \"\", \"zerolinecolor\": \"white\"}}, \"shapedefaults\": {\"line\": {\"color\": \"#2a3f5f\"}}, \"ternary\": {\"aaxis\": {\"gridcolor\": \"white\", \"linecolor\": \"white\", \"ticks\": \"\"}, \"baxis\": {\"gridcolor\": \"white\", \"linecolor\": \"white\", \"ticks\": \"\"}, \"bgcolor\": \"#E5ECF6\", \"caxis\": {\"gridcolor\": \"white\", \"linecolor\": \"white\", \"ticks\": \"\"}}, \"title\": {\"x\": 0.05}, \"xaxis\": {\"automargin\": true, \"gridcolor\": \"white\", \"linecolor\": \"white\", \"ticks\": \"\", \"title\": {\"standoff\": 15}, \"zerolinecolor\": \"white\", \"zerolinewidth\": 2}, \"yaxis\": {\"automargin\": true, \"gridcolor\": \"white\", \"linecolor\": \"white\", \"ticks\": \"\", \"title\": {\"standoff\": 15}, \"zerolinecolor\": \"white\", \"zerolinewidth\": 2}}}, \"xaxis\": {\"anchor\": \"y\", \"domain\": [0.0, 1.0], \"title\": {\"text\": \"value\"}}, \"yaxis\": {\"anchor\": \"x\", \"domain\": [0.0, 1.0], \"title\": {\"text\": \"count\"}}},                        {\"responsive\": true}                    ).then(function(){\n",
       "                            \n",
       "var gd = document.getElementById('f040f166-887d-47f5-bb35-3ee66c314a20');\n",
       "var x = new MutationObserver(function (mutations, observer) {{\n",
       "        var display = window.getComputedStyle(gd).display;\n",
       "        if (!display || display === 'none') {{\n",
       "            console.log([gd, 'removed!']);\n",
       "            Plotly.purge(gd);\n",
       "            observer.disconnect();\n",
       "        }}\n",
       "}});\n",
       "\n",
       "// Listen for the removal of the full notebook cells\n",
       "var notebookContainer = gd.closest('#notebook-container');\n",
       "if (notebookContainer) {{\n",
       "    x.observe(notebookContainer, {childList: true});\n",
       "}}\n",
       "\n",
       "// Listen for the clearing of the current output cell\n",
       "var outputEl = gd.closest('.output');\n",
       "if (outputEl) {{\n",
       "    x.observe(outputEl, {childList: true});\n",
       "}}\n",
       "\n",
       "                        })                };                });            </script>        </div>"
      ]
     },
     "metadata": {},
     "output_type": "display_data"
    }
   ],
   "source": [
    "import plotly.figure_factory as ff\n",
    "px.histogram(df_hh['S_shcementfloor'], ['S_shcementfloor'])"
   ]
  },
  {
   "cell_type": "markdown",
   "metadata": {},
   "source": [
    "## S_logsell"
   ]
  },
  {
   "cell_type": "code",
   "execution_count": 35,
   "metadata": {},
   "outputs": [
    {
     "data": {
      "application/vnd.plotly.v1+json": {
       "config": {
        "plotlyServerURL": "https://plot.ly"
       },
       "data": [
        {
         "alignmentgroup": "True",
         "bingroup": "x",
         "hovertemplate": "variable=S_logsell<br>value=%{x}<br>count=%{y}<extra></extra>",
         "legendgroup": "S_logsell",
         "marker": {
          "color": "#636efa"
         },
         "name": "S_logsell",
         "offsetgroup": "S_logsell",
         "orientation": "v",
         "showlegend": true,
         "type": "histogram",
         "x": [
          9.903487205505371,
          11.918390274047852,
          10.819778442382812,
          8.517192840576172,
          11.512925148010254,
          8.006367683410645,
          9.392662048339844,
          11.002099990844727,
          9.615805625915527,
          9.30565071105957,
          13.997832298278809,
          14.508657455444336,
          11.156250953674316,
          10.819778442382812,
          9.903487205505371,
          9.903487205505371,
          10.819778442382812,
          9.903487205505371,
          10.819778442382812,
          10.308952331542969,
          10.126630783081055,
          8.006367683410645,
          9.21034049987793,
          11.156250953674316,
          10.596634864807129,
          10.126630783081055,
          10.308952331542969,
          10.308952331542969,
          10.308952331542969,
          11.156250953674316,
          10.126630783081055,
          8.517192840576172,
          9.21034049987793,
          11.28978157043457,
          11.512925148010254,
          11.918390274047852,
          11.156250953674316,
          8.517192840576172,
          10.819778442382812,
          11.156250953674316,
          9.903487205505371,
          11.002099990844727,
          9.903487205505371,
          11.156250953674316,
          10.463103294372559,
          9.21034049987793,
          11.28978157043457,
          10.596634864807129,
          10.819778442382812,
          9.903487205505371,
          8.987196922302246,
          9.392662048339844,
          9.615805625915527,
          10.308952331542969,
          10.819778442382812,
          11.28978157043457,
          9.615805625915527,
          10.596634864807129,
          11.918390274047852,
          10.596634864807129,
          10.819778442382812,
          11.918390274047852,
          10.308952331542969,
          11.512925148010254,
          9.21034049987793,
          13.017003059387207,
          13.017003059387207,
          10.308952331542969,
          10.819778442382812,
          9.21034049987793,
          10.308952331542969,
          7.600902557373047,
          10.596634864807129,
          11.002099990844727,
          10.915088653564453,
          11.512925148010254,
          10.596634864807129,
          11.28978157043457,
          9.903487205505371,
          10.819778442382812,
          10.819778442382812,
          10.463103294372559,
          9.21034049987793,
          11.918390274047852,
          11.918390274047852,
          11.512925148010254,
          11.156250953674316,
          10.308952331542969,
          10.463103294372559,
          11.512925148010254,
          9.615805625915527,
          10.819778442382812,
          11.695246696472168,
          12.61153793334961,
          10.308952331542969,
          7.600902557373047,
          12.206072807312012,
          10.819778442382812,
          11.28978157043457,
          9.21034049987793,
          11.512925148010254,
          12.206072807312012,
          9.21034049987793,
          11.28978157043457,
          12.61153793334961,
          7.313220500946045,
          8.517192840576172,
          11.28978157043457,
          9.903487205505371,
          11.512925148010254,
          12.61153793334961,
          11.28978157043457,
          9.615805625915527,
          12.61153793334961,
          11.918390274047852,
          9.21034049987793,
          5.703782558441162,
          10.819778442382812,
          11.512925148010254,
          11.002099990844727,
          11.28978157043457,
          11.156250953674316,
          10.819778442382812,
          10.915088653564453,
          10.714417457580566,
          11.918390274047852,
          10.714417457580566,
          11.512925148010254,
          11.28978157043457,
          9.21034049987793,
          11.22524356842041,
          9.21034049987793,
          11.695246696472168,
          10.714417457580566,
          9.903487205505371,
          11.512925148010254,
          10.819778442382812,
          11.22524356842041,
          11.775289535522461,
          10.819778442382812,
          11.002099990844727,
          10.126630783081055,
          10.463103294372559,
          11.512925148010254,
          11.156250953674316,
          10.819778442382812,
          9.615805625915527,
          9.21034049987793,
          9.21034049987793,
          10.714417457580566,
          12.61153793334961,
          11.156250953674316,
          11.918390274047852,
          11.512925148010254,
          10.308952331542969,
          9.392662048339844,
          9.903487205505371,
          10.819778442382812,
          10.308952331542969,
          9.903487205505371,
          9.903487205505371,
          8.006367683410645,
          11.695246696472168,
          10.596634864807129,
          11.28978157043457,
          10.308952331542969,
          10.819778442382812,
          10.819778442382812,
          11.156250953674316,
          9.392662048339844,
          6.214608192443848,
          9.21034049987793,
          9.21034049987793,
          12.206072807312012,
          10.819778442382812,
          11.28978157043457,
          11.918390274047852,
          11.28978157043457,
          11.28978157043457,
          11.002099990844727,
          10.596634864807129,
          10.819778442382812,
          9.903487205505371,
          11.695246696472168,
          10.819778442382812,
          10.463103294372559,
          12.206072807312012,
          10.819778442382812,
          10.819778442382812,
          11.608235359191895,
          10.819778442382812,
          8.006367683410645,
          11.28978157043457,
          10.819778442382812,
          11.407565116882324,
          10.819778442382812,
          11.002099990844727,
          8.006367683410645,
          9.903487205505371,
          10.819778442382812,
          11.156250953674316,
          10.308952331542969,
          10.596634864807129,
          10.714417457580566,
          9.903487205505371,
          10.308952331542969,
          10.126630783081055,
          9.21034049987793,
          9.903487205505371,
          11.28978157043457,
          9.21034049987793,
          10.308952331542969,
          10.819778442382812,
          10.308952331542969,
          9.615805625915527,
          10.308952331542969,
          10.463103294372559,
          9.903487205505371,
          10.308952331542969,
          11.28978157043457,
          9.903487205505371,
          10.308952331542969,
          9.615805625915527,
          11.002099990844727,
          10.819778442382812,
          10.596634864807129,
          7.313220500946045,
          12.206072807312012,
          10.308952331542969,
          8.853665351867676,
          9.903487205505371,
          10.308952331542969,
          10.308952331542969,
          9.903487205505371,
          9.903487205505371,
          10.596634864807129,
          6.907755374908447,
          10.596634864807129,
          10.596634864807129,
          7.600902557373047,
          10.463103294372559,
          6.10924768447876,
          12.429216384887695,
          9.21034049987793,
          10.308952331542969,
          11.28978157043457,
          11.28978157043457,
          9.615805625915527,
          11.28978157043457,
          10.819778442382812,
          13.592367172241211,
          10.308952331542969,
          8.517192840576172,
          9.903487205505371,
          8.987196922302246,
          9.21034049987793,
          9.615805625915527,
          9.903487205505371,
          9.615805625915527,
          9.21034049987793,
          11.28978157043457,
          11.002099990844727,
          10.126630783081055,
          11.156250953674316,
          11.28978157043457,
          11.002099990844727,
          10.308952331542969,
          9.903487205505371,
          9.903487205505371,
          9.21034049987793,
          11.695246696472168,
          8.517192840576172,
          9.21034049987793,
          7.600902557373047,
          9.903487205505371,
          10.308952331542969,
          10.308952331542969,
          10.308952331542969,
          8.006367683410645,
          10.308952331542969,
          8.853665351867676,
          10.714417457580566,
          10.714417457580566,
          9.903487205505371,
          9.903487205505371,
          10.819778442382812,
          9.615805625915527,
          10.126630783081055,
          10.596634864807129,
          10.126630783081055,
          9.472704887390137,
          8.006367683410645,
          10.308952331542969,
          10.126630783081055,
          11.512925148010254,
          8.853665351867676,
          10.596634864807129,
          8.006367683410645,
          10.308952331542969,
          11.28978157043457,
          10.308952331542969,
          10.463103294372559,
          10.819778442382812,
          10.308952331542969,
          10.819778442382812,
          10.126630783081055,
          7.600902557373047,
          10.596634864807129,
          10.596634864807129,
          11.512925148010254,
          10.819778442382812,
          9.21034049987793,
          11.512925148010254,
          8.853665351867676,
          9.903487205505371,
          10.308952331542969,
          11.28978157043457,
          11.22524356842041,
          9.798127174377441,
          9.21034049987793,
          10.308952331542969,
          6.214608192443848,
          10.463103294372559,
          10.714417457580566,
          9.21034049987793,
          9.21034049987793,
          9.21034049987793,
          10.819778442382812,
          11.512925148010254,
          10.126630783081055,
          12.206072807312012,
          8.517192840576172,
          10.596634864807129,
          10.819778442382812,
          12.206072807312012,
          10.308952331542969,
          9.21034049987793,
          11.918390274047852,
          9.615805625915527,
          9.852193832397461,
          9.903487205505371,
          11.775289535522461,
          9.615805625915527,
          10.819778442382812,
          10.819778442382812,
          12.61153793334961,
          11.512925148010254,
          9.903487205505371,
          8.853665351867676,
          11.918390274047852,
          11.512925148010254,
          7.313220500946045,
          10.596634864807129,
          10.308952331542969,
          11.002099990844727,
          10.778956413269043,
          9.903487205505371,
          10.308952331542969,
          10.819778442382812,
          9.903487205505371,
          11.002099990844727,
          12.61153793334961,
          11.918390274047852,
          11.849397659301758,
          12.206072807312012,
          10.308952331542969,
          10.308952331542969,
          11.512925148010254,
          11.28978157043457,
          11.156250953674316,
          10.596634864807129,
          10.308952331542969,
          11.512925148010254,
          10.308952331542969,
          10.596634864807129,
          11.156250953674316,
          8.699514389038086,
          10.126630783081055,
          11.775289535522461,
          10.819778442382812,
          11.28978157043457,
          11.512925148010254,
          8.517192840576172,
          11.002099990844727,
          10.819778442382812,
          10.308952331542969,
          8.987196922302246,
          10.463103294372559,
          10.126630783081055,
          10.819778442382812,
          11.982929229736328,
          11.28978157043457,
          10.126630783081055,
          9.615805625915527,
          10.819778442382812,
          10.819778442382812,
          11.512925148010254,
          9.615805625915527,
          11.156250953674316,
          10.596634864807129,
          11.156250953674316,
          11.156250953674316,
          11.512925148010254,
          10.819778442382812,
          12.206072807312012,
          11.512925148010254,
          12.206072807312012,
          11.512925148010254,
          11.28978157043457,
          11.156250953674316,
          11.28978157043457,
          11.002099990844727,
          7.600902557373047,
          11.002099990844727,
          10.596634864807129,
          11.512925148010254,
          11.002099990844727,
          9.903487205505371,
          9.615805625915527,
          9.615805625915527,
          11.918390274047852,
          9.903487205505371,
          8.699514389038086,
          10.819778442382812,
          11.918390274047852,
          11.512925148010254,
          9.21034049987793,
          11.918390274047852,
          9.21034049987793,
          10.819778442382812,
          11.512925148010254,
          11.28978157043457,
          10.596634864807129,
          10.819778442382812,
          7.313220500946045,
          10.308952331542969,
          12.7656888961792,
          11.512925148010254,
          11.28978157043457,
          10.819778442382812,
          10.596634864807129,
          10.819778442382812,
          12.206072807312012,
          11.512925148010254,
          6.214608192443848,
          10.308952331542969,
          11.918390274047852,
          9.903487205505371,
          9.903487205505371,
          11.22524356842041,
          9.903487205505371,
          10.308952331542969,
          9.21034049987793,
          11.002099990844727,
          10.463103294372559,
          13.30468463897705,
          11.156250953674316,
          10.596634864807129,
          8.987196922302246,
          11.407565116882324,
          11.002099990844727,
          11.002099990844727,
          10.308952331542969,
          10.308952331542969,
          10.308952331542969,
          11.695246696472168,
          7.600902557373047,
          10.915088653564453,
          11.695246696472168,
          10.308952331542969,
          10.308952331542969,
          10.819778442382812,
          10.596634864807129,
          11.156250953674316,
          9.903487205505371,
          11.512925148010254,
          10.819778442382812,
          11.918390274047852,
          9.615805625915527,
          9.21034049987793,
          10.596634864807129,
          8.987196922302246,
          9.903487205505371,
          11.918390274047852,
          10.819778442382812,
          11.002099990844727,
          11.512925148010254,
          12.206072807312012,
          9.21034049987793,
          10.596634864807129,
          10.126630783081055,
          9.21034049987793,
          11.156250953674316,
          8.006367683410645,
          8.517192840576172,
          12.100711822509766,
          10.126630783081055,
          9.615805625915527,
          11.002099990844727,
          11.695246696472168,
          9.30565071105957,
          10.308952331542969,
          9.680343627929688,
          10.308952331542969,
          10.596634864807129,
          8.853665351867676,
          11.002099990844727,
          8.517192840576172,
          10.596634864807129,
          13.122363090515137,
          9.903487205505371,
          10.308952331542969,
          11.28978157043457,
          10.714417457580566,
          11.28978157043457,
          9.903487205505371,
          11.28978157043457,
          9.21034049987793,
          9.615805625915527,
          10.126630783081055,
          10.819778442382812,
          10.819778442382812,
          10.308952331542969,
          11.512925148010254,
          10.819778442382812,
          11.28978157043457,
          11.002099990844727,
          9.903487205505371,
          10.308952331542969,
          9.615805625915527,
          10.819778442382812,
          11.156250953674316,
          11.156250953674316,
          12.100711822509766,
          8.294049263000488,
          8.987196922302246,
          10.308952331542969,
          11.002099990844727,
          10.819778442382812,
          8.517192840576172,
          12.206072807312012,
          9.615805625915527,
          11.002099990844727,
          15.990262031555176,
          10.819778442382812,
          11.512925148010254,
          12.429216384887695,
          10.308952331542969,
          10.596634864807129,
          10.308952331542969,
          11.002099990844727,
          9.903487205505371,
          10.463103294372559,
          9.903487205505371,
          9.615805625915527,
          11.512925148010254,
          9.615805625915527,
          11.695246696472168,
          10.308952331542969,
          11.918390274047852,
          10.308952331542969,
          10.308952331542969,
          11.28978157043457,
          10.596634864807129,
          10.308952331542969,
          9.903487205505371,
          11.002099990844727,
          11.918390274047852,
          9.615805625915527,
          10.596634864807129,
          11.695246696472168,
          9.21034049987793,
          7.8240461349487305,
          8.853665351867676,
          9.903487205505371,
          9.903487205505371,
          9.852193832397461,
          10.308952331542969,
          11.28978157043457,
          11.156250953674316,
          9.21034049987793,
          9.798127174377441,
          10.596634864807129,
          10.819778442382812,
          8.987196922302246,
          10.126630783081055,
          9.392662048339844,
          10.463103294372559,
          9.472704887390137,
          9.903487205505371,
          12.429216384887695,
          9.798127174377441,
          10.463103294372559,
          10.308952331542969,
          8.699514389038086,
          10.308952331542969,
          11.002099990844727,
          10.596634864807129,
          11.695246696472168,
          10.596634864807129,
          11.695246696472168,
          9.903487205505371,
          9.615805625915527,
          10.308952331542969,
          10.819778442382812,
          9.21034049987793,
          9.615805625915527,
          10.308952331542969,
          10.308952331542969,
          10.308952331542969,
          6.907755374908447,
          10.463103294372559,
          9.546813011169434,
          9.903487205505371,
          10.596634864807129,
          7.600902557373047,
          9.903487205505371,
          8.987196922302246,
          10.596634864807129,
          10.819778442382812,
          10.819778442382812,
          10.463103294372559,
          11.28978157043457,
          9.903487205505371,
          10.714417457580566,
          11.918390274047852,
          9.740968704223633,
          11.512925148010254,
          8.517192840576172,
          10.043249130249023,
          10.819778442382812,
          10.126630783081055,
          11.918390274047852,
          10.819778442382812,
          9.21034049987793,
          11.002099990844727,
          10.819778442382812,
          10.596634864807129,
          10.819778442382812,
          9.615805625915527,
          10.308952331542969,
          9.903487205505371,
          10.596634864807129,
          10.596634864807129,
          11.156250953674316,
          10.596634864807129,
          11.002099990844727,
          9.615805625915527,
          9.903487205505371,
          10.596634864807129,
          8.517192840576172,
          11.156250953674316,
          10.308952331542969,
          11.512925148010254,
          10.819778442382812,
          11.22524356842041,
          9.615805625915527,
          10.308952331542969,
          10.126630783081055,
          10.819778442382812,
          9.21034049987793,
          11.512925148010254,
          10.819778442382812,
          10.819778442382812,
          10.819778442382812,
          10.126630783081055,
          10.819778442382812,
          9.21034049987793,
          9.21034049987793,
          9.903487205505371,
          9.615805625915527,
          8.006367683410645,
          9.615805625915527,
          9.903487205505371,
          10.819778442382812,
          9.903487205505371,
          11.28978157043457,
          8.517192840576172,
          9.21034049987793,
          10.308952331542969,
          9.615805625915527,
          10.308952331542969,
          11.695246696472168,
          10.308952331542969,
          10.596634864807129,
          12.61153793334961,
          10.596634864807129,
          9.903487205505371,
          7.600902557373047,
          10.819778442382812,
          10.308952331542969,
          11.002099990844727,
          10.596634864807129,
          11.918390274047852,
          11.775289535522461,
          10.714417457580566,
          11.407565116882324,
          9.798127174377441,
          11.918390274047852,
          10.308952331542969,
          11.002099990844727,
          10.126630783081055,
          9.21034049987793,
          9.903487205505371,
          9.903487205505371,
          9.903487205505371,
          9.21034049987793,
          10.308952331542969,
          10.819778442382812,
          9.903487205505371,
          8.853665351867676,
          11.918390274047852,
          10.308952331542969,
          11.512925148010254,
          11.127263069152832,
          11.512925148010254,
          12.206072807312012,
          10.596634864807129,
          11.695246696472168,
          11.407565116882324,
          15.990262031555176,
          11.695246696472168,
          10.126630783081055,
          10.308952331542969,
          10.819778442382812,
          9.21034049987793,
          11.512925148010254,
          12.043553352355957,
          10.819778442382812,
          11.156250953674316,
          9.21034049987793,
          11.695246696472168,
          10.596634864807129,
          9.903487205505371,
          10.308952331542969,
          11.695246696472168,
          11.512925148010254,
          10.596634864807129,
          12.206072807312012,
          11.002099990844727,
          11.28978157043457,
          11.156250953674316,
          10.819778442382812,
          9.903487205505371,
          11.002099990844727,
          11.156250953674316,
          10.819778442382812,
          10.308952331542969,
          11.156250953674316,
          11.512925148010254,
          11.512925148010254,
          10.308952331542969,
          10.463103294372559,
          11.002099990844727,
          11.695246696472168,
          10.714417457580566,
          11.512925148010254,
          9.21034049987793,
          11.156250953674316,
          11.695246696472168,
          15.990262031555176,
          10.308952331542969,
          10.596634864807129,
          9.615805625915527,
          9.903487205505371,
          12.61153793334961,
          11.512925148010254,
          11.512925148010254,
          11.002099990844727,
          11.002099990844727,
          11.28978157043457,
          11.512925148010254,
          10.819778442382812,
          10.126630783081055,
          11.512925148010254,
          12.429216384887695,
          9.903487205505371,
          11.695246696472168,
          9.903487205505371,
          9.903487205505371,
          11.28978157043457,
          10.126630783081055,
          9.903487205505371,
          9.903487205505371,
          10.714417457580566,
          11.512925148010254,
          10.819778442382812,
          10.819778442382812,
          11.512925148010254,
          11.982929229736328,
          9.903487205505371,
          10.714417457580566,
          11.918390274047852,
          12.206072807312012,
          9.21034049987793,
          11.695246696472168,
          11.512925148010254,
          12.429216384887695,
          11.608235359191895,
          10.596634864807129,
          10.819778442382812,
          11.849397659301758,
          11.28978157043457,
          9.903487205505371,
          10.819778442382812,
          10.308952331542969,
          11.775289535522461,
          15.990262031555176,
          11.156250953674316,
          11.512925148010254,
          9.615805625915527,
          9.903487205505371,
          10.596634864807129,
          10.308952331542969,
          10.308952331542969,
          11.156250953674316,
          9.615805625915527,
          9.903487205505371,
          10.596634864807129,
          11.28978157043457,
          11.918390274047852,
          10.308952331542969,
          11.407565116882324,
          11.002099990844727,
          11.695246696472168,
          10.819778442382812,
          9.615805625915527,
          11.156250953674316,
          10.308952331542969,
          10.714417457580566,
          10.308952331542969,
          10.819778442382812,
          9.21034049987793,
          10.819778442382812,
          12.206072807312012,
          10.463103294372559,
          10.308952331542969,
          11.002099990844727,
          9.903487205505371,
          12.206072807312012,
          9.903487205505371,
          11.156250953674316,
          9.21034049987793,
          10.819778442382812,
          11.156250953674316,
          10.596634864807129,
          10.819778442382812,
          10.203592300415039,
          11.002099990844727,
          9.903487205505371,
          10.308952331542969,
          9.21034049987793,
          9.21034049987793,
          8.517192840576172,
          9.392662048339844,
          9.21034049987793,
          10.596634864807129,
          10.308952331542969,
          8.517192840576172,
          11.002099990844727,
          8.294049263000488,
          10.308952331542969,
          9.615805625915527,
          9.952278137207031,
          11.407565116882324,
          10.308952331542969,
          11.002099990844727,
          8.517192840576172,
          10.819778442382812,
          9.903487205505371,
          8.699514389038086,
          10.126630783081055,
          9.21034049987793,
          10.819778442382812,
          11.512925148010254,
          8.517192840576172,
          11.849397659301758,
          10.308952331542969,
          10.819778442382812,
          10.596634864807129,
          10.126630783081055,
          9.615805625915527,
          11.918390274047852,
          9.903487205505371,
          10.308952331542969,
          11.002099990844727,
          9.903487205505371,
          9.615805625915527,
          10.596634864807129,
          11.918390274047852,
          8.853665351867676,
          10.126630783081055,
          11.608235359191895,
          10.308952331542969,
          8.853665351867676,
          10.819778442382812,
          9.903487205505371,
          11.156250953674316,
          10.308952331542969,
          11.512925148010254,
          9.903487205505371,
          9.903487205505371,
          8.517192840576172,
          8.853665351867676,
          9.615805625915527,
          10.819778442382812,
          11.918390274047852,
          8.006367683410645,
          12.61153793334961,
          11.28978157043457,
          10.463103294372559,
          9.21034049987793,
          9.615805625915527,
          9.903487205505371,
          9.903487205505371,
          11.22524356842041,
          9.903487205505371,
          11.350406646728516,
          8.294049263000488,
          10.819778442382812,
          8.517192840576172,
          10.819778442382812,
          10.463103294372559,
          10.308952331542969,
          9.615805625915527,
          12.100711822509766,
          8.987196922302246,
          10.819778442382812,
          10.308952331542969,
          12.429216384887695,
          11.918390274047852,
          8.006367683410645,
          10.308952331542969,
          10.463103294372559,
          9.903487205505371,
          10.596634864807129,
          11.28978157043457,
          11.002099990844727,
          12.206072807312012,
          9.21034049987793,
          12.206072807312012,
          11.28978157043457,
          10.308952331542969,
          12.100711822509766,
          15.990262031555176,
          11.002099990844727,
          10.308952331542969,
          9.21034049987793,
          9.903487205505371,
          10.308952331542969,
          9.21034049987793,
          11.28978157043457,
          8.006367683410645,
          10.596634864807129,
          9.392662048339844,
          10.308952331542969,
          12.899219512939453,
          9.21034049987793,
          11.002099990844727,
          10.308952331542969,
          10.308952331542969,
          10.308952331542969,
          8.517192840576172,
          8.517192840576172,
          9.798127174377441,
          8.853665351867676,
          11.28978157043457,
          12.899219512939453,
          12.61153793334961,
          12.206072807312012,
          11.512925148010254,
          8.987196922302246,
          11.775289535522461,
          10.596634864807129,
          9.903487205505371,
          9.615805625915527,
          9.21034049987793,
          11.512925148010254,
          8.699514389038086,
          9.615805625915527,
          10.819778442382812,
          11.512925148010254,
          11.002099990844727,
          9.615805625915527,
          10.126630783081055,
          11.407565116882324,
          10.308952331542969,
          6.907755374908447,
          10.596634864807129,
          11.28978157043457,
          11.28978157043457,
          10.308952331542969,
          8.987196922302246,
          10.596634864807129,
          11.28978157043457,
          11.982929229736328,
          9.903487205505371,
          9.615805625915527,
          10.819778442382812,
          8.294049263000488,
          10.596634864807129,
          11.002099990844727,
          9.21034049987793,
          9.21034049987793,
          9.903487205505371,
          9.392662048339844,
          10.463103294372559,
          8.517192840576172,
          11.28978157043457,
          9.615805625915527,
          8.517192840576172,
          11.156250953674316,
          8.987196922302246,
          11.002099990844727,
          6.907755374908447,
          10.463103294372559,
          8.987196922302246,
          11.918390274047852,
          11.918390274047852,
          12.206072807312012,
          11.951180458068848,
          10.819778442382812,
          9.615805625915527,
          11.512925148010254,
          10.308952331542969,
          11.28978157043457,
          11.002099990844727,
          10.308952331542969,
          10.308952331542969,
          10.819778442382812,
          9.903487205505371,
          10.308952331542969,
          9.392662048339844,
          11.002099990844727,
          9.903487205505371,
          8.517192840576172,
          11.512925148010254,
          8.006367683410645,
          10.308952331542969,
          9.903487205505371,
          10.819778442382812,
          9.903487205505371,
          11.918390274047852,
          11.28978157043457,
          11.002099990844727,
          12.429216384887695,
          11.156250953674316,
          9.903487205505371,
          12.206072807312012,
          11.002099990844727,
          11.28978157043457,
          11.407565116882324,
          11.002099990844727,
          10.126630783081055,
          10.819778442382812,
          9.903487205505371,
          10.819778442382812,
          10.308952331542969,
          10.308952331542969,
          10.308952331542969,
          9.21034049987793,
          10.463103294372559,
          10.308952331542969,
          12.206072807312012,
          9.903487205505371,
          11.156250953674316,
          10.308952331542969,
          9.21034049987793,
          11.918390274047852,
          11.502875328063965,
          11.512925148010254,
          9.798127174377441,
          10.596634864807129,
          9.615805625915527,
          10.596634864807129,
          10.308952331542969,
          9.21034049987793,
          11.28978157043457,
          11.156250953674316,
          9.21034049987793,
          9.903487205505371,
          9.903487205505371,
          10.308952331542969,
          10.308952331542969,
          8.006367683410645,
          11.512925148010254,
          11.918390274047852,
          9.615805625915527,
          11.918390274047852,
          10.819778442382812,
          10.819778442382812,
          10.308952331542969,
          10.819778442382812,
          10.308952331542969,
          13.592367172241211,
          9.903487205505371,
          11.982929229736328,
          10.308952331542969,
          11.918390274047852,
          9.903487205505371,
          11.002099990844727,
          9.615805625915527,
          13.122363090515137,
          11.156250953674316,
          12.506176948547363,
          12.206072807312012,
          10.203592300415039,
          11.775289535522461,
          10.308952331542969,
          12.206072807312012,
          9.615805625915527,
          11.512925148010254,
          11.156250953674316,
          11.28978157043457,
          10.596634864807129,
          8.517192840576172,
          10.819778442382812,
          11.512925148010254,
          10.308952331542969,
          9.21034049987793,
          10.463103294372559,
          11.156250953674316,
          11.28978157043457,
          10.819778442382812,
          10.819778442382812,
          10.308952331542969,
          11.002099990844727,
          10.463103294372559,
          10.819778442382812,
          9.21034049987793,
          10.819778442382812,
          10.819778442382812,
          10.308952331542969,
          10.819778442382812,
          12.429216384887695,
          10.126630783081055,
          8.853665351867676,
          9.615805625915527,
          10.126630783081055,
          9.392662048339844,
          8.517192840576172,
          9.615805625915527,
          11.512925148010254,
          6.907755374908447,
          10.819778442382812,
          12.206072807312012,
          12.206072807312012,
          11.407565116882324,
          10.596634864807129,
          12.206072807312012,
          10.819778442382812,
          11.512925148010254,
          10.596634864807129,
          10.819778442382812,
          11.918390274047852,
          11.156250953674316,
          11.002099990844727,
          12.206072807312012,
          11.512925148010254,
          11.512925148010254,
          11.512925148010254,
          10.308952331542969,
          10.714417457580566,
          10.714417457580566,
          9.21034049987793,
          6.907755374908447,
          9.21034049987793,
          11.512925148010254,
          6.214608192443848,
          11.512925148010254,
          10.463103294372559,
          10.308952331542969,
          9.21034049987793,
          9.798127174377441,
          8.853665351867676,
          9.615805625915527,
          11.918390274047852,
          13.122363090515137,
          9.615805625915527,
          11.156250953674316,
          9.21034049987793,
          9.21034049987793,
          11.156250953674316,
          11.918390274047852,
          8.517192840576172,
          9.21034049987793,
          11.407565116882324,
          10.126630783081055,
          9.903487205505371,
          10.308952331542969,
          10.126630783081055,
          11.512925148010254,
          10.308952331542969,
          11.512925148010254,
          10.596634864807129,
          11.695246696472168,
          11.918390274047852,
          10.819778442382812,
          9.615805625915527,
          9.903487205505371,
          11.512925148010254,
          10.714417457580566,
          9.903487205505371,
          11.22524356842041,
          10.714417457580566,
          11.156250953674316,
          9.903487205505371,
          10.596634864807129,
          10.126630783081055,
          11.28978157043457,
          10.126630783081055,
          11.156250953674316,
          11.28978157043457,
          12.429216384887695,
          9.21034049987793,
          10.819778442382812,
          10.819778442382812,
          8.517192840576172,
          11.156250953674316,
          10.308952331542969,
          12.206072807312012,
          11.512925148010254,
          11.156250953674316,
          10.308952331542969,
          10.596634864807129,
          10.819778442382812,
          10.819778442382812,
          11.512925148010254,
          9.903487205505371,
          8.853665351867676,
          10.596634864807129,
          8.517192840576172,
          10.308952331542969,
          11.512925148010254,
          10.819778442382812,
          7.600902557373047,
          11.512925148010254,
          12.429216384887695,
          6.396929740905762,
          11.002099990844727,
          12.468437194824219,
          12.206072807312012,
          12.206072807312012,
          11.156250953674316,
          12.61153793334961,
          8.517192840576172,
          11.982929229736328,
          11.512925148010254,
          10.596634864807129,
          9.615805625915527,
          9.903487205505371,
          12.043553352355957,
          9.903487205505371,
          10.308952331542969,
          11.002099990844727,
          11.512925148010254,
          11.695246696472168,
          11.512925148010254,
          11.28978157043457,
          10.819778442382812,
          12.61153793334961,
          12.254862785339355,
          9.903487205505371,
          11.512925148010254,
          10.714417457580566,
          10.308952331542969,
          10.819778442382812,
          10.819778442382812,
          10.819778442382812,
          11.002099990844727,
          9.903487205505371,
          9.615805625915527,
          7.600902557373047,
          10.126630783081055,
          9.903487205505371,
          9.615805625915527,
          12.206072807312012,
          9.903487205505371,
          10.596634864807129,
          9.615805625915527,
          10.308952331542969,
          10.819778442382812,
          8.517192840576172,
          10.308952331542969,
          12.206072807312012,
          11.918390274047852,
          11.736068725585938,
          10.819778442382812,
          9.903487205505371,
          10.819778442382812,
          11.002099990844727,
          10.596634864807129,
          8.517192840576172,
          9.903487205505371,
          10.714417457580566,
          15.990262031555176,
          10.308952331542969,
          10.596634864807129,
          9.903487205505371,
          8.517192840576172,
          9.903487205505371,
          11.156250953674316,
          11.08214282989502,
          11.918390274047852,
          11.695246696472168,
          11.512925148010254,
          11.002099990844727,
          10.819778442382812,
          8.517192840576172,
          11.695246696472168,
          10.596634864807129,
          11.28978157043457,
          10.308952331542969,
          10.126630783081055,
          11.502875328063965,
          11.28978157043457,
          10.714417457580566,
          11.156250953674316,
          10.714417457580566,
          8.987196922302246,
          9.21034049987793,
          10.819778442382812,
          9.903487205505371,
          11.156250953674316,
          10.308952331542969,
          10.819778442382812,
          8.517192840576172,
          10.308952331542969,
          10.819778442382812,
          11.695246696472168,
          12.206072807312012,
          11.512925148010254,
          11.002099990844727,
          11.002099990844727,
          8.853665351867676,
          9.615805625915527,
          9.903487205505371,
          9.21034049987793,
          10.463103294372559,
          10.308952331542969,
          9.903487205505371,
          10.596634864807129,
          8.294049263000488,
          9.472704887390137,
          11.156250953674316,
          8.517192840576172,
          9.615805625915527,
          9.21034049987793,
          8.987196922302246,
          11.002099990844727,
          11.28978157043457,
          11.002099990844727,
          10.308952331542969,
          9.21034049987793,
          9.615805625915527,
          2.995732307434082,
          9.615805625915527,
          11.512925148010254,
          10.126630783081055,
          11.918390274047852,
          9.903487205505371,
          8.987196922302246,
          12.206072807312012,
          8.987196922302246,
          9.903487205505371,
          8.294049263000488,
          10.308952331542969,
          12.61153793334961,
          11.28978157043457,
          11.512925148010254,
          10.819778442382812,
          11.002099990844727,
          10.819778442382812,
          11.156250953674316,
          9.21034049987793,
          10.463103294372559,
          10.596634864807129,
          10.308952331542969,
          9.21034049987793,
          11.156250953674316,
          12.206072807312012,
          10.596634864807129,
          11.695246696472168,
          11.28978157043457,
          9.21034049987793,
          15.990262031555176,
          11.002099990844727,
          11.512925148010254,
          10.819778442382812,
          11.512925148010254,
          10.308952331542969,
          11.28978157043457,
          10.308952331542969,
          10.308952331542969,
          10.596634864807129,
          10.819778442382812,
          10.308952331542969,
          9.903487205505371,
          11.512925148010254,
          9.903487205505371,
          10.596634864807129,
          10.819778442382812,
          11.918390274047852,
          11.28978157043457,
          11.28978157043457,
          10.308952331542969,
          8.294049263000488,
          9.903487205505371,
          11.156250953674316,
          11.156250953674316,
          10.819778442382812,
          10.126630783081055,
          10.819778442382812,
          10.819778442382812,
          11.156250953674316,
          10.308952331542969,
          11.512925148010254,
          10.819778442382812,
          11.512925148010254,
          10.596634864807129,
          10.308952331542969,
          9.615805625915527,
          10.819778442382812,
          12.206072807312012,
          9.903487205505371,
          10.308952331542969,
          9.21034049987793,
          8.517192840576172,
          11.512925148010254,
          11.512925148010254,
          10.819778442382812,
          11.512925148010254,
          10.308952331542969,
          11.512925148010254,
          10.308952331542969,
          10.308952331542969,
          11.28978157043457,
          9.903487205505371,
          11.28978157043457,
          9.903487205505371,
          10.308952331542969,
          10.308952331542969,
          10.819778442382812,
          10.308952331542969,
          9.903487205505371,
          11.002099990844727,
          12.206072807312012,
          10.308952331542969,
          10.819778442382812,
          10.308952331542969,
          11.156250953674316,
          9.903487205505371,
          11.22524356842041,
          9.903487205505371,
          11.28978157043457,
          10.819778442382812,
          11.775289535522461,
          10.714417457580566,
          11.918390274047852,
          9.21034049987793,
          11.156250953674316,
          9.903487205505371,
          9.21034049987793,
          10.596634864807129,
          10.596634864807129,
          10.463103294372559,
          9.615805625915527,
          10.463103294372559,
          10.819778442382812,
          10.308952331542969,
          10.308952331542969,
          10.308952331542969,
          8.006367683410645,
          10.596634864807129,
          10.596634864807129,
          10.126630783081055,
          10.308952331542969,
          13.017003059387207,
          11.28978157043457,
          11.28978157043457,
          8.517192840576172,
          7.8240461349487305,
          9.21034049987793,
          8.294049263000488,
          8.517192840576172,
          11.156250953674316,
          11.002099990844727,
          10.596634864807129,
          9.903487205505371,
          9.615805625915527,
          11.002099990844727,
          10.308952331542969,
          10.308952331542969,
          12.100711822509766,
          10.819778442382812,
          9.21034049987793,
          7.600902557373047,
          10.596634864807129,
          10.596634864807129,
          9.903487205505371,
          10.239959716796875,
          11.002099990844727,
          10.596634864807129,
          9.903487205505371,
          6.907755374908447,
          10.819778442382812,
          11.695246696472168,
          12.206072807312012,
          9.740968704223633,
          9.903487205505371,
          6.907755374908447,
          10.819778442382812,
          9.21034049987793,
          10.819778442382812,
          11.22524356842041,
          9.903487205505371,
          10.308952331542969,
          10.308952331542969,
          9.21034049987793,
          10.819778442382812,
          11.512925148010254,
          10.308952331542969,
          12.61153793334961,
          11.28978157043457,
          10.819778442382812,
          11.918390274047852,
          9.21034049987793,
          10.596634864807129,
          10.308952331542969,
          10.819778442382812,
          10.714417457580566,
          11.918390274047852,
          11.512925148010254,
          11.156250953674316,
          11.156250953674316,
          9.615805625915527,
          9.615805625915527,
          11.695246696472168,
          11.002099990844727,
          11.918390274047852,
          10.308952331542969,
          9.615805625915527,
          11.156250953674316,
          9.903487205505371,
          9.21034049987793,
          10.596634864807129,
          9.903487205505371,
          10.596634864807129,
          8.853665351867676,
          9.615805625915527,
          11.512925148010254,
          11.002099990844727,
          11.28978157043457,
          11.608235359191895,
          10.714417457580566,
          12.043553352355957,
          11.849397659301758,
          11.28978157043457,
          9.903487205505371,
          11.695246696472168,
          9.392662048339844,
          10.463103294372559,
          10.819778442382812,
          9.903487205505371,
          9.21034049987793,
          9.21034049987793,
          9.903487205505371,
          10.463103294372559,
          10.126630783081055,
          11.918390274047852,
          6.214608192443848,
          5.991464614868164,
          8.006367683410645,
          11.156250953674316,
          10.596634864807129,
          10.596634864807129,
          10.819778442382812,
          11.407565116882324,
          11.512925148010254,
          11.982929229736328,
          10.596634864807129,
          12.154779434204102,
          10.596634864807129,
          11.28978157043457,
          10.915088653564453,
          11.156250953674316,
          10.799575805664062,
          11.695246696472168,
          10.714417457580566,
          12.100711822509766,
          6.214608192443848,
          10.308952331542969,
          10.308952331542969,
          10.308952331542969,
          11.002099990844727,
          10.596634864807129,
          11.695246696472168,
          10.239959716796875,
          9.852193832397461,
          11.28978157043457,
          9.903487205505371,
          10.819778442382812,
          9.615805625915527,
          10.308952331542969,
          10.714417457580566,
          12.206072807312012,
          10.308952331542969,
          10.463103294372559,
          11.512925148010254,
          9.903487205505371,
          11.002099990844727,
          11.695246696472168,
          12.206072807312012,
          10.308952331542969,
          11.156250953674316,
          9.21034049987793,
          9.21034049987793,
          11.002099990844727,
          11.156250953674316,
          12.206072807312012,
          9.21034049987793,
          11.918390274047852,
          10.463103294372559,
          12.206072807312012,
          11.156250953674316,
          11.28978157043457,
          10.308952331542969,
          9.392662048339844,
          10.373491287231445,
          12.429216384887695,
          10.308952331542969,
          10.308952331542969,
          11.512925148010254,
          11.512925148010254,
          9.903487205505371,
          11.512925148010254,
          12.206072807312012,
          10.819778442382812,
          12.61153793334961,
          11.156250953674316,
          11.28978157043457,
          11.28978157043457,
          10.463103294372559,
          11.982929229736328,
          11.608235359191895,
          11.156250953674316,
          10.819778442382812,
          10.308952331542969,
          9.615805625915527,
          10.126630783081055,
          10.126630783081055,
          11.002099990844727,
          11.002099990844727,
          10.126630783081055,
          10.308952331542969,
          9.903487205505371,
          9.903487205505371,
          10.819778442382812,
          9.21034049987793,
          11.28978157043457,
          9.903487205505371,
          9.903487205505371,
          11.156250953674316,
          10.308952331542969,
          11.512925148010254,
          9.903487205505371,
          10.596634864807129,
          10.819778442382812,
          10.126630783081055,
          9.21034049987793,
          9.615805625915527,
          8.699514389038086,
          10.126630783081055,
          13.122363090515137,
          9.615805625915527,
          6.907755374908447,
          15.990262031555176,
          9.21034049987793,
          9.903487205505371,
          10.308952331542969,
          12.61153793334961,
          10.308952331542969,
          10.463103294372559,
          10.819778442382812,
          10.596634864807129,
          10.308952331542969,
          11.156250953674316,
          10.596634864807129,
          11.156250953674316,
          12.61153793334961,
          11.002099990844727,
          9.392662048339844,
          9.615805625915527,
          9.903487205505371,
          9.392662048339844,
          10.463103294372559,
          9.392662048339844,
          9.903487205505371,
          9.903487205505371,
          10.596634864807129,
          9.615805625915527,
          10.126630783081055,
          10.819778442382812,
          9.615805625915527,
          11.407565116882324,
          9.615805625915527,
          10.308952331542969,
          10.596634864807129,
          9.21034049987793,
          11.08214282989502,
          10.308952331542969,
          9.615805625915527,
          10.596634864807129,
          11.28978157043457,
          8.294049263000488,
          10.596634864807129,
          9.392662048339844,
          6.907755374908447,
          11.512925148010254,
          11.156250953674316,
          8.987196922302246,
          11.512925148010254,
          10.819778442382812,
          9.903487205505371,
          9.903487205505371,
          10.463103294372559,
          8.987196922302246,
          10.126630783081055,
          12.429216384887695,
          11.28978157043457,
          11.918390274047852,
          9.433484077453613,
          11.156250953674316,
          11.918390274047852,
          11.156250953674316,
          11.156250953674316,
          9.903487205505371,
          10.596634864807129,
          11.002099990844727,
          9.21034049987793,
          11.28978157043457,
          9.615805625915527,
          8.006367683410645,
          9.903487205505371,
          9.21034049987793,
          11.918390274047852,
          11.28978157043457,
          10.463103294372559,
          8.699514389038086,
          9.903487205505371,
          11.156250953674316,
          9.903487205505371,
          11.002099990844727,
          11.28978157043457,
          9.615805625915527,
          11.407565116882324,
          10.308952331542969,
          10.463103294372559,
          10.819778442382812,
          11.512925148010254,
          9.21034049987793,
          10.308952331542969,
          11.156250953674316,
          9.21034049987793,
          9.903487205505371,
          9.903487205505371,
          9.903487205505371,
          9.798127174377441,
          10.819778442382812,
          11.002099990844727,
          9.903487205505371,
          9.798127174377441,
          11.28978157043457,
          10.308952331542969,
          11.002099990844727,
          9.21034049987793,
          10.308952331542969,
          10.308952331542969,
          10.819778442382812,
          9.21034049987793,
          8.517192840576172,
          8.517192840576172,
          10.819778442382812,
          8.699514389038086,
          9.21034049987793,
          11.002099990844727,
          9.21034049987793,
          7.8240461349487305,
          10.819778442382812,
          10.819778442382812,
          9.903487205505371,
          10.596634864807129,
          11.512925148010254,
          9.903487205505371,
          11.002099990844727,
          9.903487205505371,
          10.819778442382812,
          10.596634864807129,
          9.21034049987793,
          10.819778442382812,
          10.126630783081055,
          11.28978157043457,
          10.308952331542969,
          10.308952331542969,
          9.615805625915527,
          8.294049263000488,
          10.463103294372559,
          9.392662048339844,
          10.463103294372559,
          9.21034049987793,
          10.596634864807129,
          10.126630783081055,
          9.21034049987793,
          9.615805625915527,
          11.28978157043457,
          11.156250953674316,
          9.903487205505371,
          10.308952331542969,
          10.308952331542969,
          10.596634864807129,
          10.308952331542969,
          10.819778442382812,
          11.918390274047852,
          9.21034049987793,
          9.903487205505371,
          10.126630783081055,
          10.308952331542969,
          10.308952331542969,
          11.156250953674316,
          11.512925148010254,
          9.615805625915527,
          11.28978157043457,
          10.819778442382812,
          9.615805625915527,
          8.853665351867676,
          10.308952331542969,
          10.596634864807129,
          10.596634864807129,
          8.92265796661377,
          9.21034049987793,
          9.615805625915527,
          11.512925148010254,
          8.006367683410645,
          11.002099990844727,
          9.903487205505371,
          11.512925148010254,
          10.308952331542969,
          10.308952331542969,
          9.21034049987793,
          10.819778442382812,
          11.512925148010254,
          9.21034049987793,
          11.28978157043457,
          9.903487205505371,
          11.512925148010254,
          10.308952331542969,
          11.28978157043457,
          11.156250953674316,
          8.517192840576172,
          11.002099990844727,
          9.21034049987793,
          9.21034049987793,
          9.21034049987793,
          10.596634864807129,
          11.28978157043457,
          10.819778442382812,
          11.002099990844727,
          9.798127174377441,
          10.596634864807129,
          11.512925148010254,
          9.798127174377441,
          9.21034049987793,
          11.918390274047852,
          11.002099990844727,
          9.903487205505371,
          9.903487205505371,
          10.596634864807129,
          10.126630783081055,
          10.596634864807129,
          9.21034049987793,
          9.21034049987793,
          10.596634864807129,
          10.308952331542969,
          9.903487205505371,
          9.21034049987793,
          10.308952331542969,
          8.517192840576172,
          10.308952331542969,
          8.987196922302246,
          10.915088653564453,
          11.156250953674316,
          11.849397659301758,
          11.002099990844727,
          11.512925148010254,
          11.350406646728516,
          11.512925148010254,
          10.308952331542969,
          10.308952331542969,
          10.308952331542969,
          9.903487205505371,
          9.21034049987793,
          11.156250953674316,
          11.28978157043457,
          11.512925148010254,
          11.512925148010254,
          10.819778442382812,
          10.596634864807129,
          9.615805625915527,
          10.126630783081055,
          11.156250953674316,
          11.002099990844727,
          10.308952331542969,
          11.512925148010254,
          11.002099990844727,
          10.819778442382812,
          11.695246696472168,
          10.819778442382812,
          11.918390274047852,
          10.596634864807129,
          10.819778442382812,
          11.407565116882324,
          11.156250953674316,
          11.156250953674316,
          11.512925148010254,
          10.819778442382812,
          11.512925148010254,
          9.903487205505371,
          10.799575805664062,
          10.819778442382812,
          6.907755374908447,
          9.903487205505371,
          10.596634864807129,
          11.918390274047852,
          10.819778442382812,
          9.21034049987793,
          10.126630783081055,
          10.596634864807129,
          10.308952331542969,
          9.21034049987793,
          11.512925148010254,
          10.819778442382812,
          10.819778442382812,
          10.308952331542969,
          11.512925148010254,
          10.596634864807129,
          12.206072807312012,
          10.308952331542969,
          10.819778442382812,
          10.463103294372559,
          9.615805625915527,
          9.21034049987793,
          11.918390274047852,
          9.903487205505371
         ],
         "xaxis": "x",
         "yaxis": "y"
        }
       ],
       "layout": {
        "barmode": "relative",
        "legend": {
         "title": {
          "text": "variable"
         },
         "tracegroupgap": 0
        },
        "margin": {
         "t": 60
        },
        "template": {
         "data": {
          "bar": [
           {
            "error_x": {
             "color": "#2a3f5f"
            },
            "error_y": {
             "color": "#2a3f5f"
            },
            "marker": {
             "line": {
              "color": "#E5ECF6",
              "width": 0.5
             }
            },
            "type": "bar"
           }
          ],
          "barpolar": [
           {
            "marker": {
             "line": {
              "color": "#E5ECF6",
              "width": 0.5
             }
            },
            "type": "barpolar"
           }
          ],
          "carpet": [
           {
            "aaxis": {
             "endlinecolor": "#2a3f5f",
             "gridcolor": "white",
             "linecolor": "white",
             "minorgridcolor": "white",
             "startlinecolor": "#2a3f5f"
            },
            "baxis": {
             "endlinecolor": "#2a3f5f",
             "gridcolor": "white",
             "linecolor": "white",
             "minorgridcolor": "white",
             "startlinecolor": "#2a3f5f"
            },
            "type": "carpet"
           }
          ],
          "choropleth": [
           {
            "colorbar": {
             "outlinewidth": 0,
             "ticks": ""
            },
            "type": "choropleth"
           }
          ],
          "contour": [
           {
            "colorbar": {
             "outlinewidth": 0,
             "ticks": ""
            },
            "colorscale": [
             [
              0,
              "#0d0887"
             ],
             [
              0.1111111111111111,
              "#46039f"
             ],
             [
              0.2222222222222222,
              "#7201a8"
             ],
             [
              0.3333333333333333,
              "#9c179e"
             ],
             [
              0.4444444444444444,
              "#bd3786"
             ],
             [
              0.5555555555555556,
              "#d8576b"
             ],
             [
              0.6666666666666666,
              "#ed7953"
             ],
             [
              0.7777777777777778,
              "#fb9f3a"
             ],
             [
              0.8888888888888888,
              "#fdca26"
             ],
             [
              1,
              "#f0f921"
             ]
            ],
            "type": "contour"
           }
          ],
          "contourcarpet": [
           {
            "colorbar": {
             "outlinewidth": 0,
             "ticks": ""
            },
            "type": "contourcarpet"
           }
          ],
          "heatmap": [
           {
            "colorbar": {
             "outlinewidth": 0,
             "ticks": ""
            },
            "colorscale": [
             [
              0,
              "#0d0887"
             ],
             [
              0.1111111111111111,
              "#46039f"
             ],
             [
              0.2222222222222222,
              "#7201a8"
             ],
             [
              0.3333333333333333,
              "#9c179e"
             ],
             [
              0.4444444444444444,
              "#bd3786"
             ],
             [
              0.5555555555555556,
              "#d8576b"
             ],
             [
              0.6666666666666666,
              "#ed7953"
             ],
             [
              0.7777777777777778,
              "#fb9f3a"
             ],
             [
              0.8888888888888888,
              "#fdca26"
             ],
             [
              1,
              "#f0f921"
             ]
            ],
            "type": "heatmap"
           }
          ],
          "heatmapgl": [
           {
            "colorbar": {
             "outlinewidth": 0,
             "ticks": ""
            },
            "colorscale": [
             [
              0,
              "#0d0887"
             ],
             [
              0.1111111111111111,
              "#46039f"
             ],
             [
              0.2222222222222222,
              "#7201a8"
             ],
             [
              0.3333333333333333,
              "#9c179e"
             ],
             [
              0.4444444444444444,
              "#bd3786"
             ],
             [
              0.5555555555555556,
              "#d8576b"
             ],
             [
              0.6666666666666666,
              "#ed7953"
             ],
             [
              0.7777777777777778,
              "#fb9f3a"
             ],
             [
              0.8888888888888888,
              "#fdca26"
             ],
             [
              1,
              "#f0f921"
             ]
            ],
            "type": "heatmapgl"
           }
          ],
          "histogram": [
           {
            "marker": {
             "colorbar": {
              "outlinewidth": 0,
              "ticks": ""
             }
            },
            "type": "histogram"
           }
          ],
          "histogram2d": [
           {
            "colorbar": {
             "outlinewidth": 0,
             "ticks": ""
            },
            "colorscale": [
             [
              0,
              "#0d0887"
             ],
             [
              0.1111111111111111,
              "#46039f"
             ],
             [
              0.2222222222222222,
              "#7201a8"
             ],
             [
              0.3333333333333333,
              "#9c179e"
             ],
             [
              0.4444444444444444,
              "#bd3786"
             ],
             [
              0.5555555555555556,
              "#d8576b"
             ],
             [
              0.6666666666666666,
              "#ed7953"
             ],
             [
              0.7777777777777778,
              "#fb9f3a"
             ],
             [
              0.8888888888888888,
              "#fdca26"
             ],
             [
              1,
              "#f0f921"
             ]
            ],
            "type": "histogram2d"
           }
          ],
          "histogram2dcontour": [
           {
            "colorbar": {
             "outlinewidth": 0,
             "ticks": ""
            },
            "colorscale": [
             [
              0,
              "#0d0887"
             ],
             [
              0.1111111111111111,
              "#46039f"
             ],
             [
              0.2222222222222222,
              "#7201a8"
             ],
             [
              0.3333333333333333,
              "#9c179e"
             ],
             [
              0.4444444444444444,
              "#bd3786"
             ],
             [
              0.5555555555555556,
              "#d8576b"
             ],
             [
              0.6666666666666666,
              "#ed7953"
             ],
             [
              0.7777777777777778,
              "#fb9f3a"
             ],
             [
              0.8888888888888888,
              "#fdca26"
             ],
             [
              1,
              "#f0f921"
             ]
            ],
            "type": "histogram2dcontour"
           }
          ],
          "mesh3d": [
           {
            "colorbar": {
             "outlinewidth": 0,
             "ticks": ""
            },
            "type": "mesh3d"
           }
          ],
          "parcoords": [
           {
            "line": {
             "colorbar": {
              "outlinewidth": 0,
              "ticks": ""
             }
            },
            "type": "parcoords"
           }
          ],
          "pie": [
           {
            "automargin": true,
            "type": "pie"
           }
          ],
          "scatter": [
           {
            "marker": {
             "colorbar": {
              "outlinewidth": 0,
              "ticks": ""
             }
            },
            "type": "scatter"
           }
          ],
          "scatter3d": [
           {
            "line": {
             "colorbar": {
              "outlinewidth": 0,
              "ticks": ""
             }
            },
            "marker": {
             "colorbar": {
              "outlinewidth": 0,
              "ticks": ""
             }
            },
            "type": "scatter3d"
           }
          ],
          "scattercarpet": [
           {
            "marker": {
             "colorbar": {
              "outlinewidth": 0,
              "ticks": ""
             }
            },
            "type": "scattercarpet"
           }
          ],
          "scattergeo": [
           {
            "marker": {
             "colorbar": {
              "outlinewidth": 0,
              "ticks": ""
             }
            },
            "type": "scattergeo"
           }
          ],
          "scattergl": [
           {
            "marker": {
             "colorbar": {
              "outlinewidth": 0,
              "ticks": ""
             }
            },
            "type": "scattergl"
           }
          ],
          "scattermapbox": [
           {
            "marker": {
             "colorbar": {
              "outlinewidth": 0,
              "ticks": ""
             }
            },
            "type": "scattermapbox"
           }
          ],
          "scatterpolar": [
           {
            "marker": {
             "colorbar": {
              "outlinewidth": 0,
              "ticks": ""
             }
            },
            "type": "scatterpolar"
           }
          ],
          "scatterpolargl": [
           {
            "marker": {
             "colorbar": {
              "outlinewidth": 0,
              "ticks": ""
             }
            },
            "type": "scatterpolargl"
           }
          ],
          "scatterternary": [
           {
            "marker": {
             "colorbar": {
              "outlinewidth": 0,
              "ticks": ""
             }
            },
            "type": "scatterternary"
           }
          ],
          "surface": [
           {
            "colorbar": {
             "outlinewidth": 0,
             "ticks": ""
            },
            "colorscale": [
             [
              0,
              "#0d0887"
             ],
             [
              0.1111111111111111,
              "#46039f"
             ],
             [
              0.2222222222222222,
              "#7201a8"
             ],
             [
              0.3333333333333333,
              "#9c179e"
             ],
             [
              0.4444444444444444,
              "#bd3786"
             ],
             [
              0.5555555555555556,
              "#d8576b"
             ],
             [
              0.6666666666666666,
              "#ed7953"
             ],
             [
              0.7777777777777778,
              "#fb9f3a"
             ],
             [
              0.8888888888888888,
              "#fdca26"
             ],
             [
              1,
              "#f0f921"
             ]
            ],
            "type": "surface"
           }
          ],
          "table": [
           {
            "cells": {
             "fill": {
              "color": "#EBF0F8"
             },
             "line": {
              "color": "white"
             }
            },
            "header": {
             "fill": {
              "color": "#C8D4E3"
             },
             "line": {
              "color": "white"
             }
            },
            "type": "table"
           }
          ]
         },
         "layout": {
          "annotationdefaults": {
           "arrowcolor": "#2a3f5f",
           "arrowhead": 0,
           "arrowwidth": 1
          },
          "coloraxis": {
           "colorbar": {
            "outlinewidth": 0,
            "ticks": ""
           }
          },
          "colorscale": {
           "diverging": [
            [
             0,
             "#8e0152"
            ],
            [
             0.1,
             "#c51b7d"
            ],
            [
             0.2,
             "#de77ae"
            ],
            [
             0.3,
             "#f1b6da"
            ],
            [
             0.4,
             "#fde0ef"
            ],
            [
             0.5,
             "#f7f7f7"
            ],
            [
             0.6,
             "#e6f5d0"
            ],
            [
             0.7,
             "#b8e186"
            ],
            [
             0.8,
             "#7fbc41"
            ],
            [
             0.9,
             "#4d9221"
            ],
            [
             1,
             "#276419"
            ]
           ],
           "sequential": [
            [
             0,
             "#0d0887"
            ],
            [
             0.1111111111111111,
             "#46039f"
            ],
            [
             0.2222222222222222,
             "#7201a8"
            ],
            [
             0.3333333333333333,
             "#9c179e"
            ],
            [
             0.4444444444444444,
             "#bd3786"
            ],
            [
             0.5555555555555556,
             "#d8576b"
            ],
            [
             0.6666666666666666,
             "#ed7953"
            ],
            [
             0.7777777777777778,
             "#fb9f3a"
            ],
            [
             0.8888888888888888,
             "#fdca26"
            ],
            [
             1,
             "#f0f921"
            ]
           ],
           "sequentialminus": [
            [
             0,
             "#0d0887"
            ],
            [
             0.1111111111111111,
             "#46039f"
            ],
            [
             0.2222222222222222,
             "#7201a8"
            ],
            [
             0.3333333333333333,
             "#9c179e"
            ],
            [
             0.4444444444444444,
             "#bd3786"
            ],
            [
             0.5555555555555556,
             "#d8576b"
            ],
            [
             0.6666666666666666,
             "#ed7953"
            ],
            [
             0.7777777777777778,
             "#fb9f3a"
            ],
            [
             0.8888888888888888,
             "#fdca26"
            ],
            [
             1,
             "#f0f921"
            ]
           ]
          },
          "colorway": [
           "#636efa",
           "#EF553B",
           "#00cc96",
           "#ab63fa",
           "#FFA15A",
           "#19d3f3",
           "#FF6692",
           "#B6E880",
           "#FF97FF",
           "#FECB52"
          ],
          "font": {
           "color": "#2a3f5f"
          },
          "geo": {
           "bgcolor": "white",
           "lakecolor": "white",
           "landcolor": "#E5ECF6",
           "showlakes": true,
           "showland": true,
           "subunitcolor": "white"
          },
          "hoverlabel": {
           "align": "left"
          },
          "hovermode": "closest",
          "mapbox": {
           "style": "light"
          },
          "paper_bgcolor": "white",
          "plot_bgcolor": "#E5ECF6",
          "polar": {
           "angularaxis": {
            "gridcolor": "white",
            "linecolor": "white",
            "ticks": ""
           },
           "bgcolor": "#E5ECF6",
           "radialaxis": {
            "gridcolor": "white",
            "linecolor": "white",
            "ticks": ""
           }
          },
          "scene": {
           "xaxis": {
            "backgroundcolor": "#E5ECF6",
            "gridcolor": "white",
            "gridwidth": 2,
            "linecolor": "white",
            "showbackground": true,
            "ticks": "",
            "zerolinecolor": "white"
           },
           "yaxis": {
            "backgroundcolor": "#E5ECF6",
            "gridcolor": "white",
            "gridwidth": 2,
            "linecolor": "white",
            "showbackground": true,
            "ticks": "",
            "zerolinecolor": "white"
           },
           "zaxis": {
            "backgroundcolor": "#E5ECF6",
            "gridcolor": "white",
            "gridwidth": 2,
            "linecolor": "white",
            "showbackground": true,
            "ticks": "",
            "zerolinecolor": "white"
           }
          },
          "shapedefaults": {
           "line": {
            "color": "#2a3f5f"
           }
          },
          "ternary": {
           "aaxis": {
            "gridcolor": "white",
            "linecolor": "white",
            "ticks": ""
           },
           "baxis": {
            "gridcolor": "white",
            "linecolor": "white",
            "ticks": ""
           },
           "bgcolor": "#E5ECF6",
           "caxis": {
            "gridcolor": "white",
            "linecolor": "white",
            "ticks": ""
           }
          },
          "title": {
           "x": 0.05
          },
          "xaxis": {
           "automargin": true,
           "gridcolor": "white",
           "linecolor": "white",
           "ticks": "",
           "title": {
            "standoff": 15
           },
           "zerolinecolor": "white",
           "zerolinewidth": 2
          },
          "yaxis": {
           "automargin": true,
           "gridcolor": "white",
           "linecolor": "white",
           "ticks": "",
           "title": {
            "standoff": 15
           },
           "zerolinecolor": "white",
           "zerolinewidth": 2
          }
         }
        },
        "xaxis": {
         "anchor": "y",
         "domain": [
          0,
          1
         ],
         "title": {
          "text": "value"
         }
        },
        "yaxis": {
         "anchor": "x",
         "domain": [
          0,
          1
         ],
         "title": {
          "text": "count"
         }
        }
       }
      },
      "text/html": [
       "<div>                            <div id=\"1c6778ac-ed85-4e1b-8be9-d652c29cb491\" class=\"plotly-graph-div\" style=\"height:525px; width:100%;\"></div>            <script type=\"text/javascript\">                require([\"plotly\"], function(Plotly) {                    window.PLOTLYENV=window.PLOTLYENV || {};                                    if (document.getElementById(\"1c6778ac-ed85-4e1b-8be9-d652c29cb491\")) {                    Plotly.newPlot(                        \"1c6778ac-ed85-4e1b-8be9-d652c29cb491\",                        [{\"alignmentgroup\": \"True\", \"bingroup\": \"x\", \"hovertemplate\": \"variable=S_logsell<br>value=%{x}<br>count=%{y}<extra></extra>\", \"legendgroup\": \"S_logsell\", \"marker\": {\"color\": \"#636efa\"}, \"name\": \"S_logsell\", \"offsetgroup\": \"S_logsell\", \"orientation\": \"v\", \"showlegend\": true, \"type\": \"histogram\", \"x\": [9.903487205505371, 11.918390274047852, 10.819778442382812, 8.517192840576172, 11.512925148010254, 8.006367683410645, 9.392662048339844, 11.002099990844727, 9.615805625915527, 9.30565071105957, 13.997832298278809, 14.508657455444336, 11.156250953674316, 10.819778442382812, 9.903487205505371, 9.903487205505371, 10.819778442382812, 9.903487205505371, 10.819778442382812, 10.308952331542969, 10.126630783081055, 8.006367683410645, 9.21034049987793, 11.156250953674316, 10.596634864807129, 10.126630783081055, 10.308952331542969, 10.308952331542969, 10.308952331542969, 11.156250953674316, 10.126630783081055, 8.517192840576172, 9.21034049987793, 11.28978157043457, 11.512925148010254, 11.918390274047852, 11.156250953674316, 8.517192840576172, 10.819778442382812, 11.156250953674316, 9.903487205505371, 11.002099990844727, 9.903487205505371, 11.156250953674316, 10.463103294372559, 9.21034049987793, 11.28978157043457, 10.596634864807129, 10.819778442382812, 9.903487205505371, 8.987196922302246, 9.392662048339844, 9.615805625915527, 10.308952331542969, 10.819778442382812, 11.28978157043457, 9.615805625915527, 10.596634864807129, 11.918390274047852, 10.596634864807129, 10.819778442382812, 11.918390274047852, 10.308952331542969, 11.512925148010254, 9.21034049987793, 13.017003059387207, 13.017003059387207, 10.308952331542969, 10.819778442382812, 9.21034049987793, 10.308952331542969, 7.600902557373047, 10.596634864807129, 11.002099990844727, 10.915088653564453, 11.512925148010254, 10.596634864807129, 11.28978157043457, 9.903487205505371, 10.819778442382812, 10.819778442382812, 10.463103294372559, 9.21034049987793, 11.918390274047852, 11.918390274047852, 11.512925148010254, 11.156250953674316, 10.308952331542969, 10.463103294372559, 11.512925148010254, 9.615805625915527, 10.819778442382812, 11.695246696472168, 12.61153793334961, 10.308952331542969, 7.600902557373047, 12.206072807312012, 10.819778442382812, 11.28978157043457, 9.21034049987793, 11.512925148010254, 12.206072807312012, 9.21034049987793, 11.28978157043457, 12.61153793334961, 7.313220500946045, 8.517192840576172, 11.28978157043457, 9.903487205505371, 11.512925148010254, 12.61153793334961, 11.28978157043457, 9.615805625915527, 12.61153793334961, 11.918390274047852, 9.21034049987793, 5.703782558441162, 10.819778442382812, 11.512925148010254, 11.002099990844727, 11.28978157043457, 11.156250953674316, 10.819778442382812, 10.915088653564453, 10.714417457580566, 11.918390274047852, 10.714417457580566, 11.512925148010254, 11.28978157043457, 9.21034049987793, 11.22524356842041, 9.21034049987793, 11.695246696472168, 10.714417457580566, 9.903487205505371, 11.512925148010254, 10.819778442382812, 11.22524356842041, 11.775289535522461, 10.819778442382812, 11.002099990844727, 10.126630783081055, 10.463103294372559, 11.512925148010254, 11.156250953674316, 10.819778442382812, 9.615805625915527, 9.21034049987793, 9.21034049987793, 10.714417457580566, 12.61153793334961, 11.156250953674316, 11.918390274047852, 11.512925148010254, 10.308952331542969, 9.392662048339844, 9.903487205505371, 10.819778442382812, 10.308952331542969, 9.903487205505371, 9.903487205505371, 8.006367683410645, 11.695246696472168, 10.596634864807129, 11.28978157043457, 10.308952331542969, 10.819778442382812, 10.819778442382812, 11.156250953674316, 9.392662048339844, 6.214608192443848, 9.21034049987793, 9.21034049987793, 12.206072807312012, 10.819778442382812, 11.28978157043457, 11.918390274047852, 11.28978157043457, 11.28978157043457, 11.002099990844727, 10.596634864807129, 10.819778442382812, 9.903487205505371, 11.695246696472168, 10.819778442382812, 10.463103294372559, 12.206072807312012, 10.819778442382812, 10.819778442382812, 11.608235359191895, 10.819778442382812, 8.006367683410645, 11.28978157043457, 10.819778442382812, 11.407565116882324, 10.819778442382812, 11.002099990844727, 8.006367683410645, 9.903487205505371, 10.819778442382812, 11.156250953674316, 10.308952331542969, 10.596634864807129, 10.714417457580566, 9.903487205505371, 10.308952331542969, 10.126630783081055, 9.21034049987793, 9.903487205505371, 11.28978157043457, 9.21034049987793, 10.308952331542969, 10.819778442382812, 10.308952331542969, 9.615805625915527, 10.308952331542969, 10.463103294372559, 9.903487205505371, 10.308952331542969, 11.28978157043457, 9.903487205505371, 10.308952331542969, 9.615805625915527, 11.002099990844727, 10.819778442382812, 10.596634864807129, 7.313220500946045, 12.206072807312012, 10.308952331542969, 8.853665351867676, 9.903487205505371, 10.308952331542969, 10.308952331542969, 9.903487205505371, 9.903487205505371, 10.596634864807129, 6.907755374908447, 10.596634864807129, 10.596634864807129, 7.600902557373047, 10.463103294372559, 6.10924768447876, 12.429216384887695, 9.21034049987793, 10.308952331542969, 11.28978157043457, 11.28978157043457, 9.615805625915527, 11.28978157043457, 10.819778442382812, 13.592367172241211, 10.308952331542969, 8.517192840576172, 9.903487205505371, 8.987196922302246, 9.21034049987793, 9.615805625915527, 9.903487205505371, 9.615805625915527, 9.21034049987793, 11.28978157043457, 11.002099990844727, 10.126630783081055, 11.156250953674316, 11.28978157043457, 11.002099990844727, 10.308952331542969, 9.903487205505371, 9.903487205505371, 9.21034049987793, 11.695246696472168, 8.517192840576172, 9.21034049987793, 7.600902557373047, 9.903487205505371, 10.308952331542969, 10.308952331542969, 10.308952331542969, 8.006367683410645, 10.308952331542969, 8.853665351867676, 10.714417457580566, 10.714417457580566, 9.903487205505371, 9.903487205505371, 10.819778442382812, 9.615805625915527, 10.126630783081055, 10.596634864807129, 10.126630783081055, 9.472704887390137, 8.006367683410645, 10.308952331542969, 10.126630783081055, 11.512925148010254, 8.853665351867676, 10.596634864807129, 8.006367683410645, 10.308952331542969, 11.28978157043457, 10.308952331542969, 10.463103294372559, 10.819778442382812, 10.308952331542969, 10.819778442382812, 10.126630783081055, 7.600902557373047, 10.596634864807129, 10.596634864807129, 11.512925148010254, 10.819778442382812, 9.21034049987793, 11.512925148010254, 8.853665351867676, 9.903487205505371, 10.308952331542969, 11.28978157043457, 11.22524356842041, 9.798127174377441, 9.21034049987793, 10.308952331542969, 6.214608192443848, 10.463103294372559, 10.714417457580566, 9.21034049987793, 9.21034049987793, 9.21034049987793, 10.819778442382812, 11.512925148010254, 10.126630783081055, 12.206072807312012, 8.517192840576172, 10.596634864807129, 10.819778442382812, 12.206072807312012, 10.308952331542969, 9.21034049987793, 11.918390274047852, 9.615805625915527, 9.852193832397461, 9.903487205505371, 11.775289535522461, 9.615805625915527, 10.819778442382812, 10.819778442382812, 12.61153793334961, 11.512925148010254, 9.903487205505371, 8.853665351867676, 11.918390274047852, 11.512925148010254, 7.313220500946045, 10.596634864807129, 10.308952331542969, 11.002099990844727, 10.778956413269043, 9.903487205505371, 10.308952331542969, 10.819778442382812, 9.903487205505371, 11.002099990844727, 12.61153793334961, 11.918390274047852, 11.849397659301758, 12.206072807312012, 10.308952331542969, 10.308952331542969, 11.512925148010254, 11.28978157043457, 11.156250953674316, 10.596634864807129, 10.308952331542969, 11.512925148010254, 10.308952331542969, 10.596634864807129, 11.156250953674316, 8.699514389038086, 10.126630783081055, 11.775289535522461, 10.819778442382812, 11.28978157043457, 11.512925148010254, 8.517192840576172, 11.002099990844727, 10.819778442382812, 10.308952331542969, 8.987196922302246, 10.463103294372559, 10.126630783081055, 10.819778442382812, 11.982929229736328, 11.28978157043457, 10.126630783081055, 9.615805625915527, 10.819778442382812, 10.819778442382812, 11.512925148010254, 9.615805625915527, 11.156250953674316, 10.596634864807129, 11.156250953674316, 11.156250953674316, 11.512925148010254, 10.819778442382812, 12.206072807312012, 11.512925148010254, 12.206072807312012, 11.512925148010254, 11.28978157043457, 11.156250953674316, 11.28978157043457, 11.002099990844727, 7.600902557373047, 11.002099990844727, 10.596634864807129, 11.512925148010254, 11.002099990844727, 9.903487205505371, 9.615805625915527, 9.615805625915527, 11.918390274047852, 9.903487205505371, 8.699514389038086, 10.819778442382812, 11.918390274047852, 11.512925148010254, 9.21034049987793, 11.918390274047852, 9.21034049987793, 10.819778442382812, 11.512925148010254, 11.28978157043457, 10.596634864807129, 10.819778442382812, 7.313220500946045, 10.308952331542969, 12.7656888961792, 11.512925148010254, 11.28978157043457, 10.819778442382812, 10.596634864807129, 10.819778442382812, 12.206072807312012, 11.512925148010254, 6.214608192443848, 10.308952331542969, 11.918390274047852, 9.903487205505371, 9.903487205505371, 11.22524356842041, 9.903487205505371, 10.308952331542969, 9.21034049987793, 11.002099990844727, 10.463103294372559, 13.30468463897705, 11.156250953674316, 10.596634864807129, 8.987196922302246, 11.407565116882324, 11.002099990844727, 11.002099990844727, 10.308952331542969, 10.308952331542969, 10.308952331542969, 11.695246696472168, 7.600902557373047, 10.915088653564453, 11.695246696472168, 10.308952331542969, 10.308952331542969, 10.819778442382812, 10.596634864807129, 11.156250953674316, 9.903487205505371, 11.512925148010254, 10.819778442382812, 11.918390274047852, 9.615805625915527, 9.21034049987793, 10.596634864807129, 8.987196922302246, 9.903487205505371, 11.918390274047852, 10.819778442382812, 11.002099990844727, 11.512925148010254, 12.206072807312012, 9.21034049987793, 10.596634864807129, 10.126630783081055, 9.21034049987793, 11.156250953674316, 8.006367683410645, 8.517192840576172, 12.100711822509766, 10.126630783081055, 9.615805625915527, 11.002099990844727, 11.695246696472168, 9.30565071105957, 10.308952331542969, 9.680343627929688, 10.308952331542969, 10.596634864807129, 8.853665351867676, 11.002099990844727, 8.517192840576172, 10.596634864807129, 13.122363090515137, 9.903487205505371, 10.308952331542969, 11.28978157043457, 10.714417457580566, 11.28978157043457, 9.903487205505371, 11.28978157043457, 9.21034049987793, 9.615805625915527, 10.126630783081055, 10.819778442382812, 10.819778442382812, 10.308952331542969, 11.512925148010254, 10.819778442382812, 11.28978157043457, 11.002099990844727, 9.903487205505371, 10.308952331542969, 9.615805625915527, 10.819778442382812, 11.156250953674316, 11.156250953674316, 12.100711822509766, 8.294049263000488, 8.987196922302246, 10.308952331542969, 11.002099990844727, 10.819778442382812, 8.517192840576172, 12.206072807312012, 9.615805625915527, 11.002099990844727, 15.990262031555176, 10.819778442382812, 11.512925148010254, 12.429216384887695, 10.308952331542969, 10.596634864807129, 10.308952331542969, 11.002099990844727, 9.903487205505371, 10.463103294372559, 9.903487205505371, 9.615805625915527, 11.512925148010254, 9.615805625915527, 11.695246696472168, 10.308952331542969, 11.918390274047852, 10.308952331542969, 10.308952331542969, 11.28978157043457, 10.596634864807129, 10.308952331542969, 9.903487205505371, 11.002099990844727, 11.918390274047852, 9.615805625915527, 10.596634864807129, 11.695246696472168, 9.21034049987793, 7.8240461349487305, 8.853665351867676, 9.903487205505371, 9.903487205505371, 9.852193832397461, 10.308952331542969, 11.28978157043457, 11.156250953674316, 9.21034049987793, 9.798127174377441, 10.596634864807129, 10.819778442382812, 8.987196922302246, 10.126630783081055, 9.392662048339844, 10.463103294372559, 9.472704887390137, 9.903487205505371, 12.429216384887695, 9.798127174377441, 10.463103294372559, 10.308952331542969, 8.699514389038086, 10.308952331542969, 11.002099990844727, 10.596634864807129, 11.695246696472168, 10.596634864807129, 11.695246696472168, 9.903487205505371, 9.615805625915527, 10.308952331542969, 10.819778442382812, 9.21034049987793, 9.615805625915527, 10.308952331542969, 10.308952331542969, 10.308952331542969, 6.907755374908447, 10.463103294372559, 9.546813011169434, 9.903487205505371, 10.596634864807129, 7.600902557373047, 9.903487205505371, 8.987196922302246, 10.596634864807129, 10.819778442382812, 10.819778442382812, 10.463103294372559, 11.28978157043457, 9.903487205505371, 10.714417457580566, 11.918390274047852, 9.740968704223633, 11.512925148010254, 8.517192840576172, 10.043249130249023, 10.819778442382812, 10.126630783081055, 11.918390274047852, 10.819778442382812, 9.21034049987793, 11.002099990844727, 10.819778442382812, 10.596634864807129, 10.819778442382812, 9.615805625915527, 10.308952331542969, 9.903487205505371, 10.596634864807129, 10.596634864807129, 11.156250953674316, 10.596634864807129, 11.002099990844727, 9.615805625915527, 9.903487205505371, 10.596634864807129, 8.517192840576172, 11.156250953674316, 10.308952331542969, 11.512925148010254, 10.819778442382812, 11.22524356842041, 9.615805625915527, 10.308952331542969, 10.126630783081055, 10.819778442382812, 9.21034049987793, 11.512925148010254, 10.819778442382812, 10.819778442382812, 10.819778442382812, 10.126630783081055, 10.819778442382812, 9.21034049987793, 9.21034049987793, 9.903487205505371, 9.615805625915527, 8.006367683410645, 9.615805625915527, 9.903487205505371, 10.819778442382812, 9.903487205505371, 11.28978157043457, 8.517192840576172, 9.21034049987793, 10.308952331542969, 9.615805625915527, 10.308952331542969, 11.695246696472168, 10.308952331542969, 10.596634864807129, 12.61153793334961, 10.596634864807129, 9.903487205505371, 7.600902557373047, 10.819778442382812, 10.308952331542969, 11.002099990844727, 10.596634864807129, 11.918390274047852, 11.775289535522461, 10.714417457580566, 11.407565116882324, 9.798127174377441, 11.918390274047852, 10.308952331542969, 11.002099990844727, 10.126630783081055, 9.21034049987793, 9.903487205505371, 9.903487205505371, 9.903487205505371, 9.21034049987793, 10.308952331542969, 10.819778442382812, 9.903487205505371, 8.853665351867676, 11.918390274047852, 10.308952331542969, 11.512925148010254, 11.127263069152832, 11.512925148010254, 12.206072807312012, 10.596634864807129, 11.695246696472168, 11.407565116882324, 15.990262031555176, 11.695246696472168, 10.126630783081055, 10.308952331542969, 10.819778442382812, 9.21034049987793, 11.512925148010254, 12.043553352355957, 10.819778442382812, 11.156250953674316, 9.21034049987793, 11.695246696472168, 10.596634864807129, 9.903487205505371, 10.308952331542969, 11.695246696472168, 11.512925148010254, 10.596634864807129, 12.206072807312012, 11.002099990844727, 11.28978157043457, 11.156250953674316, 10.819778442382812, 9.903487205505371, 11.002099990844727, 11.156250953674316, 10.819778442382812, 10.308952331542969, 11.156250953674316, 11.512925148010254, 11.512925148010254, 10.308952331542969, 10.463103294372559, 11.002099990844727, 11.695246696472168, 10.714417457580566, 11.512925148010254, 9.21034049987793, 11.156250953674316, 11.695246696472168, 15.990262031555176, 10.308952331542969, 10.596634864807129, 9.615805625915527, 9.903487205505371, 12.61153793334961, 11.512925148010254, 11.512925148010254, 11.002099990844727, 11.002099990844727, 11.28978157043457, 11.512925148010254, 10.819778442382812, 10.126630783081055, 11.512925148010254, 12.429216384887695, 9.903487205505371, 11.695246696472168, 9.903487205505371, 9.903487205505371, 11.28978157043457, 10.126630783081055, 9.903487205505371, 9.903487205505371, 10.714417457580566, 11.512925148010254, 10.819778442382812, 10.819778442382812, 11.512925148010254, 11.982929229736328, 9.903487205505371, 10.714417457580566, 11.918390274047852, 12.206072807312012, 9.21034049987793, 11.695246696472168, 11.512925148010254, 12.429216384887695, 11.608235359191895, 10.596634864807129, 10.819778442382812, 11.849397659301758, 11.28978157043457, 9.903487205505371, 10.819778442382812, 10.308952331542969, 11.775289535522461, 15.990262031555176, 11.156250953674316, 11.512925148010254, 9.615805625915527, 9.903487205505371, 10.596634864807129, 10.308952331542969, 10.308952331542969, 11.156250953674316, 9.615805625915527, 9.903487205505371, 10.596634864807129, 11.28978157043457, 11.918390274047852, 10.308952331542969, 11.407565116882324, 11.002099990844727, 11.695246696472168, 10.819778442382812, 9.615805625915527, 11.156250953674316, 10.308952331542969, 10.714417457580566, 10.308952331542969, 10.819778442382812, 9.21034049987793, 10.819778442382812, 12.206072807312012, 10.463103294372559, 10.308952331542969, 11.002099990844727, 9.903487205505371, 12.206072807312012, 9.903487205505371, 11.156250953674316, 9.21034049987793, 10.819778442382812, 11.156250953674316, 10.596634864807129, 10.819778442382812, 10.203592300415039, 11.002099990844727, 9.903487205505371, 10.308952331542969, 9.21034049987793, 9.21034049987793, 8.517192840576172, 9.392662048339844, 9.21034049987793, 10.596634864807129, 10.308952331542969, 8.517192840576172, 11.002099990844727, 8.294049263000488, 10.308952331542969, 9.615805625915527, 9.952278137207031, 11.407565116882324, 10.308952331542969, 11.002099990844727, 8.517192840576172, 10.819778442382812, 9.903487205505371, 8.699514389038086, 10.126630783081055, 9.21034049987793, 10.819778442382812, 11.512925148010254, 8.517192840576172, 11.849397659301758, 10.308952331542969, 10.819778442382812, 10.596634864807129, 10.126630783081055, 9.615805625915527, 11.918390274047852, 9.903487205505371, 10.308952331542969, 11.002099990844727, 9.903487205505371, 9.615805625915527, 10.596634864807129, 11.918390274047852, 8.853665351867676, 10.126630783081055, 11.608235359191895, 10.308952331542969, 8.853665351867676, 10.819778442382812, 9.903487205505371, 11.156250953674316, 10.308952331542969, 11.512925148010254, 9.903487205505371, 9.903487205505371, 8.517192840576172, 8.853665351867676, 9.615805625915527, 10.819778442382812, 11.918390274047852, 8.006367683410645, 12.61153793334961, 11.28978157043457, 10.463103294372559, 9.21034049987793, 9.615805625915527, 9.903487205505371, 9.903487205505371, 11.22524356842041, 9.903487205505371, 11.350406646728516, 8.294049263000488, 10.819778442382812, 8.517192840576172, 10.819778442382812, 10.463103294372559, 10.308952331542969, 9.615805625915527, 12.100711822509766, 8.987196922302246, 10.819778442382812, 10.308952331542969, 12.429216384887695, 11.918390274047852, 8.006367683410645, 10.308952331542969, 10.463103294372559, 9.903487205505371, 10.596634864807129, 11.28978157043457, 11.002099990844727, 12.206072807312012, 9.21034049987793, 12.206072807312012, 11.28978157043457, 10.308952331542969, 12.100711822509766, 15.990262031555176, 11.002099990844727, 10.308952331542969, 9.21034049987793, 9.903487205505371, 10.308952331542969, 9.21034049987793, 11.28978157043457, 8.006367683410645, 10.596634864807129, 9.392662048339844, 10.308952331542969, 12.899219512939453, 9.21034049987793, 11.002099990844727, 10.308952331542969, 10.308952331542969, 10.308952331542969, 8.517192840576172, 8.517192840576172, 9.798127174377441, 8.853665351867676, 11.28978157043457, 12.899219512939453, 12.61153793334961, 12.206072807312012, 11.512925148010254, 8.987196922302246, 11.775289535522461, 10.596634864807129, 9.903487205505371, 9.615805625915527, 9.21034049987793, 11.512925148010254, 8.699514389038086, 9.615805625915527, 10.819778442382812, 11.512925148010254, 11.002099990844727, 9.615805625915527, 10.126630783081055, 11.407565116882324, 10.308952331542969, 6.907755374908447, 10.596634864807129, 11.28978157043457, 11.28978157043457, 10.308952331542969, 8.987196922302246, 10.596634864807129, 11.28978157043457, 11.982929229736328, 9.903487205505371, 9.615805625915527, 10.819778442382812, 8.294049263000488, 10.596634864807129, 11.002099990844727, 9.21034049987793, 9.21034049987793, 9.903487205505371, 9.392662048339844, 10.463103294372559, 8.517192840576172, 11.28978157043457, 9.615805625915527, 8.517192840576172, 11.156250953674316, 8.987196922302246, 11.002099990844727, 6.907755374908447, 10.463103294372559, 8.987196922302246, 11.918390274047852, 11.918390274047852, 12.206072807312012, 11.951180458068848, 10.819778442382812, 9.615805625915527, 11.512925148010254, 10.308952331542969, 11.28978157043457, 11.002099990844727, 10.308952331542969, 10.308952331542969, 10.819778442382812, 9.903487205505371, 10.308952331542969, 9.392662048339844, 11.002099990844727, 9.903487205505371, 8.517192840576172, 11.512925148010254, 8.006367683410645, 10.308952331542969, 9.903487205505371, 10.819778442382812, 9.903487205505371, 11.918390274047852, 11.28978157043457, 11.002099990844727, 12.429216384887695, 11.156250953674316, 9.903487205505371, 12.206072807312012, 11.002099990844727, 11.28978157043457, 11.407565116882324, 11.002099990844727, 10.126630783081055, 10.819778442382812, 9.903487205505371, 10.819778442382812, 10.308952331542969, 10.308952331542969, 10.308952331542969, 9.21034049987793, 10.463103294372559, 10.308952331542969, 12.206072807312012, 9.903487205505371, 11.156250953674316, 10.308952331542969, 9.21034049987793, 11.918390274047852, 11.502875328063965, 11.512925148010254, 9.798127174377441, 10.596634864807129, 9.615805625915527, 10.596634864807129, 10.308952331542969, 9.21034049987793, 11.28978157043457, 11.156250953674316, 9.21034049987793, 9.903487205505371, 9.903487205505371, 10.308952331542969, 10.308952331542969, 8.006367683410645, 11.512925148010254, 11.918390274047852, 9.615805625915527, 11.918390274047852, 10.819778442382812, 10.819778442382812, 10.308952331542969, 10.819778442382812, 10.308952331542969, 13.592367172241211, 9.903487205505371, 11.982929229736328, 10.308952331542969, 11.918390274047852, 9.903487205505371, 11.002099990844727, 9.615805625915527, 13.122363090515137, 11.156250953674316, 12.506176948547363, 12.206072807312012, 10.203592300415039, 11.775289535522461, 10.308952331542969, 12.206072807312012, 9.615805625915527, 11.512925148010254, 11.156250953674316, 11.28978157043457, 10.596634864807129, 8.517192840576172, 10.819778442382812, 11.512925148010254, 10.308952331542969, 9.21034049987793, 10.463103294372559, 11.156250953674316, 11.28978157043457, 10.819778442382812, 10.819778442382812, 10.308952331542969, 11.002099990844727, 10.463103294372559, 10.819778442382812, 9.21034049987793, 10.819778442382812, 10.819778442382812, 10.308952331542969, 10.819778442382812, 12.429216384887695, 10.126630783081055, 8.853665351867676, 9.615805625915527, 10.126630783081055, 9.392662048339844, 8.517192840576172, 9.615805625915527, 11.512925148010254, 6.907755374908447, 10.819778442382812, 12.206072807312012, 12.206072807312012, 11.407565116882324, 10.596634864807129, 12.206072807312012, 10.819778442382812, 11.512925148010254, 10.596634864807129, 10.819778442382812, 11.918390274047852, 11.156250953674316, 11.002099990844727, 12.206072807312012, 11.512925148010254, 11.512925148010254, 11.512925148010254, 10.308952331542969, 10.714417457580566, 10.714417457580566, 9.21034049987793, 6.907755374908447, 9.21034049987793, 11.512925148010254, 6.214608192443848, 11.512925148010254, 10.463103294372559, 10.308952331542969, 9.21034049987793, 9.798127174377441, 8.853665351867676, 9.615805625915527, 11.918390274047852, 13.122363090515137, 9.615805625915527, 11.156250953674316, 9.21034049987793, 9.21034049987793, 11.156250953674316, 11.918390274047852, 8.517192840576172, 9.21034049987793, 11.407565116882324, 10.126630783081055, 9.903487205505371, 10.308952331542969, 10.126630783081055, 11.512925148010254, 10.308952331542969, 11.512925148010254, 10.596634864807129, 11.695246696472168, 11.918390274047852, 10.819778442382812, 9.615805625915527, 9.903487205505371, 11.512925148010254, 10.714417457580566, 9.903487205505371, 11.22524356842041, 10.714417457580566, 11.156250953674316, 9.903487205505371, 10.596634864807129, 10.126630783081055, 11.28978157043457, 10.126630783081055, 11.156250953674316, 11.28978157043457, 12.429216384887695, 9.21034049987793, 10.819778442382812, 10.819778442382812, 8.517192840576172, 11.156250953674316, 10.308952331542969, 12.206072807312012, 11.512925148010254, 11.156250953674316, 10.308952331542969, 10.596634864807129, 10.819778442382812, 10.819778442382812, 11.512925148010254, 9.903487205505371, 8.853665351867676, 10.596634864807129, 8.517192840576172, 10.308952331542969, 11.512925148010254, 10.819778442382812, 7.600902557373047, 11.512925148010254, 12.429216384887695, 6.396929740905762, 11.002099990844727, 12.468437194824219, 12.206072807312012, 12.206072807312012, 11.156250953674316, 12.61153793334961, 8.517192840576172, 11.982929229736328, 11.512925148010254, 10.596634864807129, 9.615805625915527, 9.903487205505371, 12.043553352355957, 9.903487205505371, 10.308952331542969, 11.002099990844727, 11.512925148010254, 11.695246696472168, 11.512925148010254, 11.28978157043457, 10.819778442382812, 12.61153793334961, 12.254862785339355, 9.903487205505371, 11.512925148010254, 10.714417457580566, 10.308952331542969, 10.819778442382812, 10.819778442382812, 10.819778442382812, 11.002099990844727, 9.903487205505371, 9.615805625915527, 7.600902557373047, 10.126630783081055, 9.903487205505371, 9.615805625915527, 12.206072807312012, 9.903487205505371, 10.596634864807129, 9.615805625915527, 10.308952331542969, 10.819778442382812, 8.517192840576172, 10.308952331542969, 12.206072807312012, 11.918390274047852, 11.736068725585938, 10.819778442382812, 9.903487205505371, 10.819778442382812, 11.002099990844727, 10.596634864807129, 8.517192840576172, 9.903487205505371, 10.714417457580566, 15.990262031555176, 10.308952331542969, 10.596634864807129, 9.903487205505371, 8.517192840576172, 9.903487205505371, 11.156250953674316, 11.08214282989502, 11.918390274047852, 11.695246696472168, 11.512925148010254, 11.002099990844727, 10.819778442382812, 8.517192840576172, 11.695246696472168, 10.596634864807129, 11.28978157043457, 10.308952331542969, 10.126630783081055, 11.502875328063965, 11.28978157043457, 10.714417457580566, 11.156250953674316, 10.714417457580566, 8.987196922302246, 9.21034049987793, 10.819778442382812, 9.903487205505371, 11.156250953674316, 10.308952331542969, 10.819778442382812, 8.517192840576172, 10.308952331542969, 10.819778442382812, 11.695246696472168, 12.206072807312012, 11.512925148010254, 11.002099990844727, 11.002099990844727, 8.853665351867676, 9.615805625915527, 9.903487205505371, 9.21034049987793, 10.463103294372559, 10.308952331542969, 9.903487205505371, 10.596634864807129, 8.294049263000488, 9.472704887390137, 11.156250953674316, 8.517192840576172, 9.615805625915527, 9.21034049987793, 8.987196922302246, 11.002099990844727, 11.28978157043457, 11.002099990844727, 10.308952331542969, 9.21034049987793, 9.615805625915527, 2.995732307434082, 9.615805625915527, 11.512925148010254, 10.126630783081055, 11.918390274047852, 9.903487205505371, 8.987196922302246, 12.206072807312012, 8.987196922302246, 9.903487205505371, 8.294049263000488, 10.308952331542969, 12.61153793334961, 11.28978157043457, 11.512925148010254, 10.819778442382812, 11.002099990844727, 10.819778442382812, 11.156250953674316, 9.21034049987793, 10.463103294372559, 10.596634864807129, 10.308952331542969, 9.21034049987793, 11.156250953674316, 12.206072807312012, 10.596634864807129, 11.695246696472168, 11.28978157043457, 9.21034049987793, 15.990262031555176, 11.002099990844727, 11.512925148010254, 10.819778442382812, 11.512925148010254, 10.308952331542969, 11.28978157043457, 10.308952331542969, 10.308952331542969, 10.596634864807129, 10.819778442382812, 10.308952331542969, 9.903487205505371, 11.512925148010254, 9.903487205505371, 10.596634864807129, 10.819778442382812, 11.918390274047852, 11.28978157043457, 11.28978157043457, 10.308952331542969, 8.294049263000488, 9.903487205505371, 11.156250953674316, 11.156250953674316, 10.819778442382812, 10.126630783081055, 10.819778442382812, 10.819778442382812, 11.156250953674316, 10.308952331542969, 11.512925148010254, 10.819778442382812, 11.512925148010254, 10.596634864807129, 10.308952331542969, 9.615805625915527, 10.819778442382812, 12.206072807312012, 9.903487205505371, 10.308952331542969, 9.21034049987793, 8.517192840576172, 11.512925148010254, 11.512925148010254, 10.819778442382812, 11.512925148010254, 10.308952331542969, 11.512925148010254, 10.308952331542969, 10.308952331542969, 11.28978157043457, 9.903487205505371, 11.28978157043457, 9.903487205505371, 10.308952331542969, 10.308952331542969, 10.819778442382812, 10.308952331542969, 9.903487205505371, 11.002099990844727, 12.206072807312012, 10.308952331542969, 10.819778442382812, 10.308952331542969, 11.156250953674316, 9.903487205505371, 11.22524356842041, 9.903487205505371, 11.28978157043457, 10.819778442382812, 11.775289535522461, 10.714417457580566, 11.918390274047852, 9.21034049987793, 11.156250953674316, 9.903487205505371, 9.21034049987793, 10.596634864807129, 10.596634864807129, 10.463103294372559, 9.615805625915527, 10.463103294372559, 10.819778442382812, 10.308952331542969, 10.308952331542969, 10.308952331542969, 8.006367683410645, 10.596634864807129, 10.596634864807129, 10.126630783081055, 10.308952331542969, 13.017003059387207, 11.28978157043457, 11.28978157043457, 8.517192840576172, 7.8240461349487305, 9.21034049987793, 8.294049263000488, 8.517192840576172, 11.156250953674316, 11.002099990844727, 10.596634864807129, 9.903487205505371, 9.615805625915527, 11.002099990844727, 10.308952331542969, 10.308952331542969, 12.100711822509766, 10.819778442382812, 9.21034049987793, 7.600902557373047, 10.596634864807129, 10.596634864807129, 9.903487205505371, 10.239959716796875, 11.002099990844727, 10.596634864807129, 9.903487205505371, 6.907755374908447, 10.819778442382812, 11.695246696472168, 12.206072807312012, 9.740968704223633, 9.903487205505371, 6.907755374908447, 10.819778442382812, 9.21034049987793, 10.819778442382812, 11.22524356842041, 9.903487205505371, 10.308952331542969, 10.308952331542969, 9.21034049987793, 10.819778442382812, 11.512925148010254, 10.308952331542969, 12.61153793334961, 11.28978157043457, 10.819778442382812, 11.918390274047852, 9.21034049987793, 10.596634864807129, 10.308952331542969, 10.819778442382812, 10.714417457580566, 11.918390274047852, 11.512925148010254, 11.156250953674316, 11.156250953674316, 9.615805625915527, 9.615805625915527, 11.695246696472168, 11.002099990844727, 11.918390274047852, 10.308952331542969, 9.615805625915527, 11.156250953674316, 9.903487205505371, 9.21034049987793, 10.596634864807129, 9.903487205505371, 10.596634864807129, 8.853665351867676, 9.615805625915527, 11.512925148010254, 11.002099990844727, 11.28978157043457, 11.608235359191895, 10.714417457580566, 12.043553352355957, 11.849397659301758, 11.28978157043457, 9.903487205505371, 11.695246696472168, 9.392662048339844, 10.463103294372559, 10.819778442382812, 9.903487205505371, 9.21034049987793, 9.21034049987793, 9.903487205505371, 10.463103294372559, 10.126630783081055, 11.918390274047852, 6.214608192443848, 5.991464614868164, 8.006367683410645, 11.156250953674316, 10.596634864807129, 10.596634864807129, 10.819778442382812, 11.407565116882324, 11.512925148010254, 11.982929229736328, 10.596634864807129, 12.154779434204102, 10.596634864807129, 11.28978157043457, 10.915088653564453, 11.156250953674316, 10.799575805664062, 11.695246696472168, 10.714417457580566, 12.100711822509766, 6.214608192443848, 10.308952331542969, 10.308952331542969, 10.308952331542969, 11.002099990844727, 10.596634864807129, 11.695246696472168, 10.239959716796875, 9.852193832397461, 11.28978157043457, 9.903487205505371, 10.819778442382812, 9.615805625915527, 10.308952331542969, 10.714417457580566, 12.206072807312012, 10.308952331542969, 10.463103294372559, 11.512925148010254, 9.903487205505371, 11.002099990844727, 11.695246696472168, 12.206072807312012, 10.308952331542969, 11.156250953674316, 9.21034049987793, 9.21034049987793, 11.002099990844727, 11.156250953674316, 12.206072807312012, 9.21034049987793, 11.918390274047852, 10.463103294372559, 12.206072807312012, 11.156250953674316, 11.28978157043457, 10.308952331542969, 9.392662048339844, 10.373491287231445, 12.429216384887695, 10.308952331542969, 10.308952331542969, 11.512925148010254, 11.512925148010254, 9.903487205505371, 11.512925148010254, 12.206072807312012, 10.819778442382812, 12.61153793334961, 11.156250953674316, 11.28978157043457, 11.28978157043457, 10.463103294372559, 11.982929229736328, 11.608235359191895, 11.156250953674316, 10.819778442382812, 10.308952331542969, 9.615805625915527, 10.126630783081055, 10.126630783081055, 11.002099990844727, 11.002099990844727, 10.126630783081055, 10.308952331542969, 9.903487205505371, 9.903487205505371, 10.819778442382812, 9.21034049987793, 11.28978157043457, 9.903487205505371, 9.903487205505371, 11.156250953674316, 10.308952331542969, 11.512925148010254, 9.903487205505371, 10.596634864807129, 10.819778442382812, 10.126630783081055, 9.21034049987793, 9.615805625915527, 8.699514389038086, 10.126630783081055, 13.122363090515137, 9.615805625915527, 6.907755374908447, 15.990262031555176, 9.21034049987793, 9.903487205505371, 10.308952331542969, 12.61153793334961, 10.308952331542969, 10.463103294372559, 10.819778442382812, 10.596634864807129, 10.308952331542969, 11.156250953674316, 10.596634864807129, 11.156250953674316, 12.61153793334961, 11.002099990844727, 9.392662048339844, 9.615805625915527, 9.903487205505371, 9.392662048339844, 10.463103294372559, 9.392662048339844, 9.903487205505371, 9.903487205505371, 10.596634864807129, 9.615805625915527, 10.126630783081055, 10.819778442382812, 9.615805625915527, 11.407565116882324, 9.615805625915527, 10.308952331542969, 10.596634864807129, 9.21034049987793, 11.08214282989502, 10.308952331542969, 9.615805625915527, 10.596634864807129, 11.28978157043457, 8.294049263000488, 10.596634864807129, 9.392662048339844, 6.907755374908447, 11.512925148010254, 11.156250953674316, 8.987196922302246, 11.512925148010254, 10.819778442382812, 9.903487205505371, 9.903487205505371, 10.463103294372559, 8.987196922302246, 10.126630783081055, 12.429216384887695, 11.28978157043457, 11.918390274047852, 9.433484077453613, 11.156250953674316, 11.918390274047852, 11.156250953674316, 11.156250953674316, 9.903487205505371, 10.596634864807129, 11.002099990844727, 9.21034049987793, 11.28978157043457, 9.615805625915527, 8.006367683410645, 9.903487205505371, 9.21034049987793, 11.918390274047852, 11.28978157043457, 10.463103294372559, 8.699514389038086, 9.903487205505371, 11.156250953674316, 9.903487205505371, 11.002099990844727, 11.28978157043457, 9.615805625915527, 11.407565116882324, 10.308952331542969, 10.463103294372559, 10.819778442382812, 11.512925148010254, 9.21034049987793, 10.308952331542969, 11.156250953674316, 9.21034049987793, 9.903487205505371, 9.903487205505371, 9.903487205505371, 9.798127174377441, 10.819778442382812, 11.002099990844727, 9.903487205505371, 9.798127174377441, 11.28978157043457, 10.308952331542969, 11.002099990844727, 9.21034049987793, 10.308952331542969, 10.308952331542969, 10.819778442382812, 9.21034049987793, 8.517192840576172, 8.517192840576172, 10.819778442382812, 8.699514389038086, 9.21034049987793, 11.002099990844727, 9.21034049987793, 7.8240461349487305, 10.819778442382812, 10.819778442382812, 9.903487205505371, 10.596634864807129, 11.512925148010254, 9.903487205505371, 11.002099990844727, 9.903487205505371, 10.819778442382812, 10.596634864807129, 9.21034049987793, 10.819778442382812, 10.126630783081055, 11.28978157043457, 10.308952331542969, 10.308952331542969, 9.615805625915527, 8.294049263000488, 10.463103294372559, 9.392662048339844, 10.463103294372559, 9.21034049987793, 10.596634864807129, 10.126630783081055, 9.21034049987793, 9.615805625915527, 11.28978157043457, 11.156250953674316, 9.903487205505371, 10.308952331542969, 10.308952331542969, 10.596634864807129, 10.308952331542969, 10.819778442382812, 11.918390274047852, 9.21034049987793, 9.903487205505371, 10.126630783081055, 10.308952331542969, 10.308952331542969, 11.156250953674316, 11.512925148010254, 9.615805625915527, 11.28978157043457, 10.819778442382812, 9.615805625915527, 8.853665351867676, 10.308952331542969, 10.596634864807129, 10.596634864807129, 8.92265796661377, 9.21034049987793, 9.615805625915527, 11.512925148010254, 8.006367683410645, 11.002099990844727, 9.903487205505371, 11.512925148010254, 10.308952331542969, 10.308952331542969, 9.21034049987793, 10.819778442382812, 11.512925148010254, 9.21034049987793, 11.28978157043457, 9.903487205505371, 11.512925148010254, 10.308952331542969, 11.28978157043457, 11.156250953674316, 8.517192840576172, 11.002099990844727, 9.21034049987793, 9.21034049987793, 9.21034049987793, 10.596634864807129, 11.28978157043457, 10.819778442382812, 11.002099990844727, 9.798127174377441, 10.596634864807129, 11.512925148010254, 9.798127174377441, 9.21034049987793, 11.918390274047852, 11.002099990844727, 9.903487205505371, 9.903487205505371, 10.596634864807129, 10.126630783081055, 10.596634864807129, 9.21034049987793, 9.21034049987793, 10.596634864807129, 10.308952331542969, 9.903487205505371, 9.21034049987793, 10.308952331542969, 8.517192840576172, 10.308952331542969, 8.987196922302246, 10.915088653564453, 11.156250953674316, 11.849397659301758, 11.002099990844727, 11.512925148010254, 11.350406646728516, 11.512925148010254, 10.308952331542969, 10.308952331542969, 10.308952331542969, 9.903487205505371, 9.21034049987793, 11.156250953674316, 11.28978157043457, 11.512925148010254, 11.512925148010254, 10.819778442382812, 10.596634864807129, 9.615805625915527, 10.126630783081055, 11.156250953674316, 11.002099990844727, 10.308952331542969, 11.512925148010254, 11.002099990844727, 10.819778442382812, 11.695246696472168, 10.819778442382812, 11.918390274047852, 10.596634864807129, 10.819778442382812, 11.407565116882324, 11.156250953674316, 11.156250953674316, 11.512925148010254, 10.819778442382812, 11.512925148010254, 9.903487205505371, 10.799575805664062, 10.819778442382812, 6.907755374908447, 9.903487205505371, 10.596634864807129, 11.918390274047852, 10.819778442382812, 9.21034049987793, 10.126630783081055, 10.596634864807129, 10.308952331542969, 9.21034049987793, 11.512925148010254, 10.819778442382812, 10.819778442382812, 10.308952331542969, 11.512925148010254, 10.596634864807129, 12.206072807312012, 10.308952331542969, 10.819778442382812, 10.463103294372559, 9.615805625915527, 9.21034049987793, 11.918390274047852, 9.903487205505371], \"xaxis\": \"x\", \"yaxis\": \"y\"}],                        {\"barmode\": \"relative\", \"legend\": {\"title\": {\"text\": \"variable\"}, \"tracegroupgap\": 0}, \"margin\": {\"t\": 60}, \"template\": {\"data\": {\"bar\": [{\"error_x\": {\"color\": \"#2a3f5f\"}, \"error_y\": {\"color\": \"#2a3f5f\"}, \"marker\": {\"line\": {\"color\": \"#E5ECF6\", \"width\": 0.5}}, \"type\": \"bar\"}], \"barpolar\": [{\"marker\": {\"line\": {\"color\": \"#E5ECF6\", \"width\": 0.5}}, \"type\": \"barpolar\"}], \"carpet\": [{\"aaxis\": {\"endlinecolor\": \"#2a3f5f\", \"gridcolor\": \"white\", \"linecolor\": \"white\", \"minorgridcolor\": \"white\", \"startlinecolor\": \"#2a3f5f\"}, \"baxis\": {\"endlinecolor\": \"#2a3f5f\", \"gridcolor\": \"white\", \"linecolor\": \"white\", \"minorgridcolor\": \"white\", \"startlinecolor\": \"#2a3f5f\"}, \"type\": \"carpet\"}], \"choropleth\": [{\"colorbar\": {\"outlinewidth\": 0, \"ticks\": \"\"}, \"type\": \"choropleth\"}], \"contour\": [{\"colorbar\": {\"outlinewidth\": 0, \"ticks\": \"\"}, \"colorscale\": [[0.0, \"#0d0887\"], [0.1111111111111111, \"#46039f\"], [0.2222222222222222, \"#7201a8\"], [0.3333333333333333, \"#9c179e\"], [0.4444444444444444, \"#bd3786\"], [0.5555555555555556, \"#d8576b\"], [0.6666666666666666, \"#ed7953\"], [0.7777777777777778, \"#fb9f3a\"], [0.8888888888888888, \"#fdca26\"], [1.0, \"#f0f921\"]], \"type\": \"contour\"}], \"contourcarpet\": [{\"colorbar\": {\"outlinewidth\": 0, \"ticks\": \"\"}, \"type\": \"contourcarpet\"}], \"heatmap\": [{\"colorbar\": {\"outlinewidth\": 0, \"ticks\": \"\"}, \"colorscale\": [[0.0, \"#0d0887\"], [0.1111111111111111, \"#46039f\"], [0.2222222222222222, \"#7201a8\"], [0.3333333333333333, \"#9c179e\"], [0.4444444444444444, \"#bd3786\"], [0.5555555555555556, \"#d8576b\"], [0.6666666666666666, \"#ed7953\"], [0.7777777777777778, \"#fb9f3a\"], [0.8888888888888888, \"#fdca26\"], [1.0, \"#f0f921\"]], \"type\": \"heatmap\"}], \"heatmapgl\": [{\"colorbar\": {\"outlinewidth\": 0, \"ticks\": \"\"}, \"colorscale\": [[0.0, \"#0d0887\"], [0.1111111111111111, \"#46039f\"], [0.2222222222222222, \"#7201a8\"], [0.3333333333333333, \"#9c179e\"], [0.4444444444444444, \"#bd3786\"], [0.5555555555555556, \"#d8576b\"], [0.6666666666666666, \"#ed7953\"], [0.7777777777777778, \"#fb9f3a\"], [0.8888888888888888, \"#fdca26\"], [1.0, \"#f0f921\"]], \"type\": \"heatmapgl\"}], \"histogram\": [{\"marker\": {\"colorbar\": {\"outlinewidth\": 0, \"ticks\": \"\"}}, \"type\": \"histogram\"}], \"histogram2d\": [{\"colorbar\": {\"outlinewidth\": 0, \"ticks\": \"\"}, \"colorscale\": [[0.0, \"#0d0887\"], [0.1111111111111111, \"#46039f\"], [0.2222222222222222, \"#7201a8\"], [0.3333333333333333, \"#9c179e\"], [0.4444444444444444, \"#bd3786\"], [0.5555555555555556, \"#d8576b\"], [0.6666666666666666, \"#ed7953\"], [0.7777777777777778, \"#fb9f3a\"], [0.8888888888888888, \"#fdca26\"], [1.0, \"#f0f921\"]], \"type\": \"histogram2d\"}], \"histogram2dcontour\": [{\"colorbar\": {\"outlinewidth\": 0, \"ticks\": \"\"}, \"colorscale\": [[0.0, \"#0d0887\"], [0.1111111111111111, \"#46039f\"], [0.2222222222222222, \"#7201a8\"], [0.3333333333333333, \"#9c179e\"], [0.4444444444444444, \"#bd3786\"], [0.5555555555555556, \"#d8576b\"], [0.6666666666666666, \"#ed7953\"], [0.7777777777777778, \"#fb9f3a\"], [0.8888888888888888, \"#fdca26\"], [1.0, \"#f0f921\"]], \"type\": \"histogram2dcontour\"}], \"mesh3d\": [{\"colorbar\": {\"outlinewidth\": 0, \"ticks\": \"\"}, \"type\": \"mesh3d\"}], \"parcoords\": [{\"line\": {\"colorbar\": {\"outlinewidth\": 0, \"ticks\": \"\"}}, \"type\": \"parcoords\"}], \"pie\": [{\"automargin\": true, \"type\": \"pie\"}], \"scatter\": [{\"marker\": {\"colorbar\": {\"outlinewidth\": 0, \"ticks\": \"\"}}, \"type\": \"scatter\"}], \"scatter3d\": [{\"line\": {\"colorbar\": {\"outlinewidth\": 0, \"ticks\": \"\"}}, \"marker\": {\"colorbar\": {\"outlinewidth\": 0, \"ticks\": \"\"}}, \"type\": \"scatter3d\"}], \"scattercarpet\": [{\"marker\": {\"colorbar\": {\"outlinewidth\": 0, \"ticks\": \"\"}}, \"type\": \"scattercarpet\"}], \"scattergeo\": [{\"marker\": {\"colorbar\": {\"outlinewidth\": 0, \"ticks\": \"\"}}, \"type\": \"scattergeo\"}], \"scattergl\": [{\"marker\": {\"colorbar\": {\"outlinewidth\": 0, \"ticks\": \"\"}}, \"type\": \"scattergl\"}], \"scattermapbox\": [{\"marker\": {\"colorbar\": {\"outlinewidth\": 0, \"ticks\": \"\"}}, \"type\": \"scattermapbox\"}], \"scatterpolar\": [{\"marker\": {\"colorbar\": {\"outlinewidth\": 0, \"ticks\": \"\"}}, \"type\": \"scatterpolar\"}], \"scatterpolargl\": [{\"marker\": {\"colorbar\": {\"outlinewidth\": 0, \"ticks\": \"\"}}, \"type\": \"scatterpolargl\"}], \"scatterternary\": [{\"marker\": {\"colorbar\": {\"outlinewidth\": 0, \"ticks\": \"\"}}, \"type\": \"scatterternary\"}], \"surface\": [{\"colorbar\": {\"outlinewidth\": 0, \"ticks\": \"\"}, \"colorscale\": [[0.0, \"#0d0887\"], [0.1111111111111111, \"#46039f\"], [0.2222222222222222, \"#7201a8\"], [0.3333333333333333, \"#9c179e\"], [0.4444444444444444, \"#bd3786\"], [0.5555555555555556, \"#d8576b\"], [0.6666666666666666, \"#ed7953\"], [0.7777777777777778, \"#fb9f3a\"], [0.8888888888888888, \"#fdca26\"], [1.0, \"#f0f921\"]], \"type\": \"surface\"}], \"table\": [{\"cells\": {\"fill\": {\"color\": \"#EBF0F8\"}, \"line\": {\"color\": \"white\"}}, \"header\": {\"fill\": {\"color\": \"#C8D4E3\"}, \"line\": {\"color\": \"white\"}}, \"type\": \"table\"}]}, \"layout\": {\"annotationdefaults\": {\"arrowcolor\": \"#2a3f5f\", \"arrowhead\": 0, \"arrowwidth\": 1}, \"coloraxis\": {\"colorbar\": {\"outlinewidth\": 0, \"ticks\": \"\"}}, \"colorscale\": {\"diverging\": [[0, \"#8e0152\"], [0.1, \"#c51b7d\"], [0.2, \"#de77ae\"], [0.3, \"#f1b6da\"], [0.4, \"#fde0ef\"], [0.5, \"#f7f7f7\"], [0.6, \"#e6f5d0\"], [0.7, \"#b8e186\"], [0.8, \"#7fbc41\"], [0.9, \"#4d9221\"], [1, \"#276419\"]], \"sequential\": [[0.0, \"#0d0887\"], [0.1111111111111111, \"#46039f\"], [0.2222222222222222, \"#7201a8\"], [0.3333333333333333, \"#9c179e\"], [0.4444444444444444, \"#bd3786\"], [0.5555555555555556, \"#d8576b\"], [0.6666666666666666, \"#ed7953\"], [0.7777777777777778, \"#fb9f3a\"], [0.8888888888888888, \"#fdca26\"], [1.0, \"#f0f921\"]], \"sequentialminus\": [[0.0, \"#0d0887\"], [0.1111111111111111, \"#46039f\"], [0.2222222222222222, \"#7201a8\"], [0.3333333333333333, \"#9c179e\"], [0.4444444444444444, \"#bd3786\"], [0.5555555555555556, \"#d8576b\"], [0.6666666666666666, \"#ed7953\"], [0.7777777777777778, \"#fb9f3a\"], [0.8888888888888888, \"#fdca26\"], [1.0, \"#f0f921\"]]}, \"colorway\": [\"#636efa\", \"#EF553B\", \"#00cc96\", \"#ab63fa\", \"#FFA15A\", \"#19d3f3\", \"#FF6692\", \"#B6E880\", \"#FF97FF\", \"#FECB52\"], \"font\": {\"color\": \"#2a3f5f\"}, \"geo\": {\"bgcolor\": \"white\", \"lakecolor\": \"white\", \"landcolor\": \"#E5ECF6\", \"showlakes\": true, \"showland\": true, \"subunitcolor\": \"white\"}, \"hoverlabel\": {\"align\": \"left\"}, \"hovermode\": \"closest\", \"mapbox\": {\"style\": \"light\"}, \"paper_bgcolor\": \"white\", \"plot_bgcolor\": \"#E5ECF6\", \"polar\": {\"angularaxis\": {\"gridcolor\": \"white\", \"linecolor\": \"white\", \"ticks\": \"\"}, \"bgcolor\": \"#E5ECF6\", \"radialaxis\": {\"gridcolor\": \"white\", \"linecolor\": \"white\", \"ticks\": \"\"}}, \"scene\": {\"xaxis\": {\"backgroundcolor\": \"#E5ECF6\", \"gridcolor\": \"white\", \"gridwidth\": 2, \"linecolor\": \"white\", \"showbackground\": true, \"ticks\": \"\", \"zerolinecolor\": \"white\"}, \"yaxis\": {\"backgroundcolor\": \"#E5ECF6\", \"gridcolor\": \"white\", \"gridwidth\": 2, \"linecolor\": \"white\", \"showbackground\": true, \"ticks\": \"\", \"zerolinecolor\": \"white\"}, \"zaxis\": {\"backgroundcolor\": \"#E5ECF6\", \"gridcolor\": \"white\", \"gridwidth\": 2, \"linecolor\": \"white\", \"showbackground\": true, \"ticks\": \"\", \"zerolinecolor\": \"white\"}}, \"shapedefaults\": {\"line\": {\"color\": \"#2a3f5f\"}}, \"ternary\": {\"aaxis\": {\"gridcolor\": \"white\", \"linecolor\": \"white\", \"ticks\": \"\"}, \"baxis\": {\"gridcolor\": \"white\", \"linecolor\": \"white\", \"ticks\": \"\"}, \"bgcolor\": \"#E5ECF6\", \"caxis\": {\"gridcolor\": \"white\", \"linecolor\": \"white\", \"ticks\": \"\"}}, \"title\": {\"x\": 0.05}, \"xaxis\": {\"automargin\": true, \"gridcolor\": \"white\", \"linecolor\": \"white\", \"ticks\": \"\", \"title\": {\"standoff\": 15}, \"zerolinecolor\": \"white\", \"zerolinewidth\": 2}, \"yaxis\": {\"automargin\": true, \"gridcolor\": \"white\", \"linecolor\": \"white\", \"ticks\": \"\", \"title\": {\"standoff\": 15}, \"zerolinecolor\": \"white\", \"zerolinewidth\": 2}}}, \"xaxis\": {\"anchor\": \"y\", \"domain\": [0.0, 1.0], \"title\": {\"text\": \"value\"}}, \"yaxis\": {\"anchor\": \"x\", \"domain\": [0.0, 1.0], \"title\": {\"text\": \"count\"}}},                        {\"responsive\": true}                    ).then(function(){\n",
       "                            \n",
       "var gd = document.getElementById('1c6778ac-ed85-4e1b-8be9-d652c29cb491');\n",
       "var x = new MutationObserver(function (mutations, observer) {{\n",
       "        var display = window.getComputedStyle(gd).display;\n",
       "        if (!display || display === 'none') {{\n",
       "            console.log([gd, 'removed!']);\n",
       "            Plotly.purge(gd);\n",
       "            observer.disconnect();\n",
       "        }}\n",
       "}});\n",
       "\n",
       "// Listen for the removal of the full notebook cells\n",
       "var notebookContainer = gd.closest('#notebook-container');\n",
       "if (notebookContainer) {{\n",
       "    x.observe(notebookContainer, {childList: true});\n",
       "}}\n",
       "\n",
       "// Listen for the clearing of the current output cell\n",
       "var outputEl = gd.closest('.output');\n",
       "if (outputEl) {{\n",
       "    x.observe(outputEl, {childList: true});\n",
       "}}\n",
       "\n",
       "                        })                };                });            </script>        </div>"
      ]
     },
     "metadata": {},
     "output_type": "display_data"
    }
   ],
   "source": [
    "px.histogram(df_hh['S_logsell'], ['S_logsell'])"
   ]
  },
  {
   "cell_type": "code",
   "execution_count": null,
   "metadata": {},
   "outputs": [],
   "source": []
  }
 ],
 "metadata": {
  "kernelspec": {
   "display_name": "Python 3",
   "language": "python",
   "name": "python3"
  },
  "language_info": {
   "codemirror_mode": {
    "name": "ipython",
    "version": 3
   },
   "file_extension": ".py",
   "mimetype": "text/x-python",
   "name": "python",
   "nbconvert_exporter": "python",
   "pygments_lexer": "ipython3",
   "version": "3.8.5"
  }
 },
 "nbformat": 4,
 "nbformat_minor": 4
}
